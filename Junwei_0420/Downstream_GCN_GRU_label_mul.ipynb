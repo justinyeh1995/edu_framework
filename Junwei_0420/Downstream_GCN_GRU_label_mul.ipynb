{
 "cells": [
  {
   "cell_type": "code",
   "execution_count": 13,
   "metadata": {},
   "outputs": [],
   "source": [
    "import os\n",
    "import numpy as np\n",
    "import pandas as pd\n",
    "from tqdm import tqdm, trange\n",
    "\n",
    "import torch\n",
    "from torch_geometric.nn import GAE\n",
    "from torch_geometric.utils import is_undirected, to_undirected\n",
    "\n",
    "\n",
    "from torch.utils.data import DataLoader, TensorDataset\n",
    "from sklearn.metrics import f1_score\n",
    "from sklearn.preprocessing import MinMaxScaler\n",
    "\n",
    "from model.GCN_GRU import GCN_GRU, Decoder\n",
    "from utils import *"
   ]
  },
  {
   "cell_type": "code",
   "execution_count": 2,
   "metadata": {},
   "outputs": [],
   "source": [
    "shop_col = 'stonc_6_label'\n",
    "device = torch.device('cuda:1' if torch.cuda.is_available() else 'cpu')\n",
    "\n",
    "embedding_dim = 64\n",
    "entity_dim = 8\n",
    "epochs = 1000\n",
    "learning_rate = 0.0001\n",
    "batch_size = 1000\n",
    "\n",
    "weights_path = 'GCN_GRU_Link_Prediction'"
   ]
  },
  {
   "cell_type": "code",
   "execution_count": 3,
   "metadata": {},
   "outputs": [],
   "source": [
    "data_path = './data'\n",
    "\n",
    "chid_dict_file = 'sample/sample_50k_idx_map.npy'\n",
    "cdtx_file = 'sample/sample_50k_cdtx.csv'\n",
    "cust_file = 'preprocessed/df_cust_log_without_shop.csv'\n",
    "\n",
    "chid_path = os.path.join(data_path, chid_dict_file)\n",
    "cdtx_path = os.path.join(data_path, cdtx_file)\n",
    "cust_path = os.path.join(data_path, cust_file)"
   ]
  },
  {
   "cell_type": "code",
   "execution_count": 4,
   "metadata": {},
   "outputs": [
    {
     "name": "stdout",
     "output_type": "stream",
     "text": [
      "Start reading cdtx file...\n",
      "Finish reading cdtx file !\n",
      "Start reading cust file...\n",
      "Finish reading cust file !\n",
      "Start maping encodeing...\n",
      "Finish !!\n"
     ]
    }
   ],
   "source": [
    "df_cdtx, df_cust, n_users, n_shops = read_sample_files(cdtx_path,\n",
    "                                                       cust_path,\n",
    "                                                       chid_path,\n",
    "                                                       shop_col)"
   ]
  },
  {
   "cell_type": "code",
   "execution_count": 5,
   "metadata": {},
   "outputs": [],
   "source": [
    "list_months = sorted(df_cdtx.csmdt.unique())\n",
    "ma = df_cdtx.groupby(['chid', 'csmdt']).objam.sum().max()\n",
    "\n",
    "ignore_cols = ['chid', 'data_dt']\n",
    "category_cols = [f'category_{i+1}' for i in range(6)]\n",
    "numeric_cols = list(set(df_cust.columns) - set(category_cols) - set(ignore_cols))\n",
    "\n",
    "emb_dims = list(df_cust[category_cols].nunique())\n",
    "\n",
    "input_dim = len(category_cols)*entity_dim + len(numeric_cols)"
   ]
  },
  {
   "cell_type": "code",
   "execution_count": 6,
   "metadata": {},
   "outputs": [
    {
     "name": "stderr",
     "output_type": "stream",
     "text": [
      "100%|██████████| 25/25 [00:19<00:00,  1.30it/s]\n"
     ]
    }
   ],
   "source": [
    "edge_dict = {}\n",
    "edge_weights_dict = {}\n",
    "for month in tqdm(list_months):\n",
    "    edges = df_cdtx[df_cdtx.csmdt==month].groupby(['chid', shop_col]).objam.sum()\n",
    "    edge_pairs = np.stack([np.array(i) for i in edges.index]).T\n",
    "    edge_pairs = torch.LongTensor(edge_pairs)\n",
    "    \n",
    "    edge_weights = np.log(edges.values+1)\n",
    "    edge_weights = torch.Tensor(edge_weights)\n",
    "    \n",
    "    if not is_undirected(edge_pairs):\n",
    "        edge_pairs = torch.cat([edge_pairs, edge_pairs[[1,0],:]], -1)\n",
    "        edge_weights = edge_weights.repeat(2)\n",
    "    \n",
    "    edge_dict[month] = edge_pairs\n",
    "    edge_weights_dict[month] = edge_weights"
   ]
  },
  {
   "cell_type": "code",
   "execution_count": 9,
   "metadata": {},
   "outputs": [],
   "source": [
    "model = GAE(GCN_GRU(input_dim, embedding_dim, entity_dim, emb_dims), Decoder(embedding_dim, 6)).to(device)\n",
    "\n",
    "x_num = []\n",
    "x_cat = []\n",
    "y = []\n",
    "for i in list_months:\n",
    "    cust_num_features = df_cust[df_cust.data_dt==i][numeric_cols].to_numpy()\n",
    "    cust_num_features = torch.Tensor(cust_num_features)\n",
    "    cust_cat_features = df_cust[df_cust.data_dt==i][category_cols].to_numpy()\n",
    "    cust_cat_features = torch.LongTensor(cust_cat_features)\n",
    "    \n",
    "    shop_num_features = torch.zeros(n_shops, cust_num_features.shape[1])\n",
    "    shop_cat_features = torch.zeros(n_shops, cust_cat_features.shape[1]).long()\n",
    "    \n",
    "    temp_y = df_cust[df_cust.data_dt==i]['objam'].to_numpy()*ma\n",
    "    ind1 = (temp_y >0) & (temp_y <= 1e4)\n",
    "    ind2 = (temp_y >1e4) & (temp_y <= 5e4)\n",
    "    ind3 = (temp_y >5e4) & (temp_y <= 1e5)\n",
    "    ind4 = (temp_y >1e5) & (temp_y <= 3e5)\n",
    "    ind5 = (temp_y >3e5)\n",
    "\n",
    "    temp_y[ind1] = 1\n",
    "    temp_y[ind2] = 2\n",
    "    temp_y[ind3] = 3\n",
    "    temp_y[ind4] = 4\n",
    "    temp_y[ind5] = 5\n",
    "    \n",
    "    x_num.append(torch.cat([cust_num_features, shop_num_features], 0).to(device))\n",
    "    x_cat.append(torch.cat([cust_cat_features, shop_cat_features], 0).to(device))\n",
    "    y.append(torch.LongTensor(temp_y).to(device))\n",
    "    \n",
    "optimizer = torch.optim.AdamW(model.parameters(), lr=learning_rate)\n",
    "pos_edge_index = [i.to(device) for i in edge_dict.values()]\n",
    "pos_edge_weigts = [i.to(device) for i in edge_weights_dict.values()]"
   ]
  },
  {
   "cell_type": "code",
   "execution_count": 10,
   "metadata": {},
   "outputs": [
    {
     "data": {
      "text/plain": [
       "GAE(\n",
       "  (encoder): GCN_GRU(\n",
       "    (emb_layers): ModuleList(\n",
       "      (0): Embedding(4, 8)\n",
       "      (1): Embedding(7, 8)\n",
       "      (2): Embedding(3, 8)\n",
       "      (3): Embedding(28, 8)\n",
       "      (4): Embedding(10, 8)\n",
       "      (5): Embedding(31, 8)\n",
       "    )\n",
       "    (gcn1_dict): ModuleDict(\n",
       "      (0): GCNConv(72, 128)\n",
       "      (1): GCNConv(72, 128)\n",
       "      (2): GCNConv(72, 128)\n",
       "      (3): GCNConv(72, 128)\n",
       "      (4): GCNConv(72, 128)\n",
       "      (5): GCNConv(72, 128)\n",
       "      (6): GCNConv(72, 128)\n",
       "      (7): GCNConv(72, 128)\n",
       "      (8): GCNConv(72, 128)\n",
       "      (9): GCNConv(72, 128)\n",
       "      (10): GCNConv(72, 128)\n",
       "      (11): GCNConv(72, 128)\n",
       "    )\n",
       "    (gcn2_dict): ModuleDict(\n",
       "      (0): GCNConv(128, 64)\n",
       "      (1): GCNConv(128, 64)\n",
       "      (2): GCNConv(128, 64)\n",
       "      (3): GCNConv(128, 64)\n",
       "      (4): GCNConv(128, 64)\n",
       "      (5): GCNConv(128, 64)\n",
       "      (6): GCNConv(128, 64)\n",
       "      (7): GCNConv(128, 64)\n",
       "      (8): GCNConv(128, 64)\n",
       "      (9): GCNConv(128, 64)\n",
       "      (10): GCNConv(128, 64)\n",
       "      (11): GCNConv(128, 64)\n",
       "    )\n",
       "    (rnn): GRU(64, 64)\n",
       "  )\n",
       "  (decoder): InnerProductDecoder()\n",
       ")"
      ]
     },
     "execution_count": 10,
     "metadata": {},
     "output_type": "execute_result"
    }
   ],
   "source": [
    "model.encoder.load_state_dict(torch.load(weights_path))\n",
    "model.eval()\n",
    "\n",
    "criterion = torch.nn.CrossEntropyLoss()"
   ]
  },
  {
   "cell_type": "code",
   "execution_count": 14,
   "metadata": {},
   "outputs": [],
   "source": [
    "def train():\n",
    "    model.train()\n",
    "    train_output = []\n",
    "    train_y = np.array([])\n",
    "    for i in tqdm(range(10)):\n",
    "        \n",
    "        train_dataset = TensorDataset(y[i+12])\n",
    "        train_loader = DataLoader(dataset=train_dataset, shuffle=False, batch_size=batch_size)\n",
    "        \n",
    "        for j, true_y in enumerate(train_loader):\n",
    "            optimizer.zero_grad()\n",
    "            z = model.encode(x_cat[i:i+12], x_num[i:i+12], pos_edge_index[i:i+12], pos_edge_weigts[i:i+12])\n",
    "            output = model.decode(z[j*batch_size:(j+1)*batch_size]).sigmoid()\n",
    "            loss = criterion(output, true_y[0])\n",
    "            train_output.append(output.cpu().detach().numpy())\n",
    "            train_y = np.concatenate([train_y, true_y[0].cpu().detach().numpy().reshape(-1)])\n",
    "        \n",
    "            loss.backward(retain_graph=True)\n",
    "            optimizer.step()\n",
    "        \n",
    "            \n",
    "    return loss/10, train_output, train_y"
   ]
  },
  {
   "cell_type": "code",
   "execution_count": 15,
   "metadata": {},
   "outputs": [],
   "source": [
    "def test():\n",
    "    model.eval()\n",
    "    test_output = []\n",
    "    test_y = np.array([])\n",
    "    \n",
    "    for i in range(10,12):\n",
    "\n",
    "        with torch.no_grad():\n",
    "            z = model.encode(x_cat[i:i+12], x_num[i:i+12], pos_edge_index[i:i+12], pos_edge_weigts[i:i+12])\n",
    "            output = model.decode(z[:n_users]).sigmoid()\n",
    "            test_output.append(output.cpu().detach().numpy())\n",
    "            test_y = np.concatenate([test_y, y[i+12].cpu().detach().numpy().reshape(-1)])\n",
    "            \n",
    "    return test_output, test_y"
   ]
  },
  {
   "cell_type": "code",
   "execution_count": 16,
   "metadata": {},
   "outputs": [
    {
     "name": "stderr",
     "output_type": "stream",
     "text": [
      "100%|██████████| 10/10 [02:03<00:00, 12.33s/it]\n",
      "  0%|          | 0/10 [00:00<?, ?it/s]"
     ]
    },
    {
     "name": "stdout",
     "output_type": "stream",
     "text": [
      "epoch:1\n",
      "train AUC:0.7883245518316017,test AUC:0.9102383723396988\n",
      "epoch:1\n",
      "train F1:0.8405781281269573,test F1:0.8911498528676919\n"
     ]
    },
    {
     "name": "stderr",
     "output_type": "stream",
     "text": [
      "100%|██████████| 10/10 [02:02<00:00, 12.30s/it]\n",
      "  0%|          | 0/10 [00:00<?, ?it/s]"
     ]
    },
    {
     "name": "stdout",
     "output_type": "stream",
     "text": [
      "epoch:2\n",
      "train AUC:0.8997088843234108,test AUC:0.913773714899365\n",
      "epoch:2\n",
      "train F1:0.8861789643509427,test F1:0.8939938488268634\n"
     ]
    },
    {
     "name": "stderr",
     "output_type": "stream",
     "text": [
      "100%|██████████| 10/10 [02:03<00:00, 12.37s/it]\n",
      "  0%|          | 0/10 [00:00<?, ?it/s]"
     ]
    },
    {
     "name": "stdout",
     "output_type": "stream",
     "text": [
      "epoch:3\n",
      "train AUC:0.9030917779872731,test AUC:0.9145956217467228\n",
      "epoch:3\n",
      "train F1:0.8878553159984744,test F1:0.8945887339560277\n"
     ]
    },
    {
     "name": "stderr",
     "output_type": "stream",
     "text": [
      "100%|██████████| 10/10 [02:02<00:00, 12.30s/it]\n",
      "  0%|          | 0/10 [00:00<?, ?it/s]"
     ]
    },
    {
     "name": "stdout",
     "output_type": "stream",
     "text": [
      "epoch:4\n",
      "train AUC:0.9038867382752507,test AUC:0.9149747883085176\n",
      "epoch:4\n",
      "train F1:0.8883095965328511,test F1:0.8946019755547912\n"
     ]
    },
    {
     "name": "stderr",
     "output_type": "stream",
     "text": [
      "100%|██████████| 10/10 [02:02<00:00, 12.29s/it]\n",
      "  0%|          | 0/10 [00:00<?, ?it/s]"
     ]
    },
    {
     "name": "stdout",
     "output_type": "stream",
     "text": [
      "epoch:5\n",
      "train AUC:0.9041691835500351,test AUC:0.9151487966095804\n",
      "epoch:5\n",
      "train F1:0.8886047487582126,test F1:0.8948525126563168\n"
     ]
    },
    {
     "name": "stderr",
     "output_type": "stream",
     "text": [
      "100%|██████████| 10/10 [02:02<00:00, 12.27s/it]\n",
      "  0%|          | 0/10 [00:00<?, ?it/s]"
     ]
    },
    {
     "name": "stdout",
     "output_type": "stream",
     "text": [
      "epoch:6\n",
      "train AUC:0.904348633249593,test AUC:0.9152369568682723\n",
      "epoch:6\n",
      "train F1:0.8887069778936018,test F1:0.8950191678485669\n"
     ]
    },
    {
     "name": "stderr",
     "output_type": "stream",
     "text": [
      "100%|██████████| 10/10 [02:03<00:00, 12.32s/it]\n",
      "  0%|          | 0/10 [00:00<?, ?it/s]"
     ]
    },
    {
     "name": "stdout",
     "output_type": "stream",
     "text": [
      "epoch:7\n",
      "train AUC:0.9043147122219422,test AUC:0.9150664780170457\n",
      "epoch:7\n",
      "train F1:0.8887889743002505,test F1:0.8951347405218343\n"
     ]
    },
    {
     "name": "stderr",
     "output_type": "stream",
     "text": [
      "100%|██████████| 10/10 [02:07<00:00, 12.71s/it]\n",
      "  0%|          | 0/10 [00:00<?, ?it/s]"
     ]
    },
    {
     "name": "stdout",
     "output_type": "stream",
     "text": [
      "epoch:8\n",
      "train AUC:0.9042103565520939,test AUC:0.9149132396317616\n",
      "epoch:8\n",
      "train F1:0.8889810294979571,test F1:0.8951766953199618\n"
     ]
    },
    {
     "name": "stderr",
     "output_type": "stream",
     "text": [
      "100%|██████████| 10/10 [02:04<00:00, 12.45s/it]\n",
      "  0%|          | 0/10 [00:00<?, ?it/s]"
     ]
    },
    {
     "name": "stdout",
     "output_type": "stream",
     "text": [
      "epoch:9\n",
      "train AUC:0.9041717955467845,test AUC:0.9148011060093413\n",
      "epoch:9\n",
      "train F1:0.8890988623469316,test F1:0.8952104009945846\n"
     ]
    },
    {
     "name": "stderr",
     "output_type": "stream",
     "text": [
      "100%|██████████| 10/10 [02:03<00:00, 12.37s/it]\n",
      "  0%|          | 0/10 [00:00<?, ?it/s]"
     ]
    },
    {
     "name": "stdout",
     "output_type": "stream",
     "text": [
      "epoch:10\n",
      "train AUC:0.904322029985338,test AUC:0.9149459786109204\n",
      "epoch:10\n",
      "train F1:0.8893017734501475,test F1:0.8952689893415344\n"
     ]
    },
    {
     "name": "stderr",
     "output_type": "stream",
     "text": [
      "100%|██████████| 10/10 [02:03<00:00, 12.35s/it]\n",
      "  0%|          | 0/10 [00:00<?, ?it/s]"
     ]
    },
    {
     "name": "stdout",
     "output_type": "stream",
     "text": [
      "epoch:11\n",
      "train AUC:0.9048459204630821,test AUC:0.9155135126583416\n",
      "epoch:11\n",
      "train F1:0.889574409722955,test F1:0.8957252250988752\n"
     ]
    },
    {
     "name": "stderr",
     "output_type": "stream",
     "text": [
      "100%|██████████| 10/10 [02:03<00:00, 12.31s/it]\n",
      "  0%|          | 0/10 [00:00<?, ?it/s]"
     ]
    },
    {
     "name": "stdout",
     "output_type": "stream",
     "text": [
      "epoch:12\n",
      "train AUC:0.905512859184403,test AUC:0.9162628584372764\n",
      "epoch:12\n",
      "train F1:0.8905122830104588,test F1:0.8972169490813059\n"
     ]
    },
    {
     "name": "stderr",
     "output_type": "stream",
     "text": [
      "100%|██████████| 10/10 [02:03<00:00, 12.33s/it]\n",
      "  0%|          | 0/10 [00:00<?, ?it/s]"
     ]
    },
    {
     "name": "stdout",
     "output_type": "stream",
     "text": [
      "epoch:13\n",
      "train AUC:0.9059139876976132,test AUC:0.916623262391967\n",
      "epoch:13\n",
      "train F1:0.8913474890234373,test F1:0.8974905369409786\n"
     ]
    },
    {
     "name": "stderr",
     "output_type": "stream",
     "text": [
      "100%|██████████| 10/10 [02:03<00:00, 12.33s/it]\n",
      "  0%|          | 0/10 [00:00<?, ?it/s]"
     ]
    },
    {
     "name": "stdout",
     "output_type": "stream",
     "text": [
      "epoch:14\n",
      "train AUC:0.906051661542826,test AUC:0.9167373898994549\n",
      "epoch:14\n",
      "train F1:0.891627111780982,test F1:0.8976553620788843\n"
     ]
    },
    {
     "name": "stderr",
     "output_type": "stream",
     "text": [
      "100%|██████████| 10/10 [02:03<00:00, 12.36s/it]\n",
      "  0%|          | 0/10 [00:00<?, ?it/s]"
     ]
    },
    {
     "name": "stdout",
     "output_type": "stream",
     "text": [
      "epoch:15\n",
      "train AUC:0.90609768094935,test AUC:0.916737177518814\n",
      "epoch:15\n",
      "train F1:0.8917306940275201,test F1:0.8977258361309716\n"
     ]
    },
    {
     "name": "stderr",
     "output_type": "stream",
     "text": [
      "100%|██████████| 10/10 [02:03<00:00, 12.32s/it]\n",
      "  0%|          | 0/10 [00:00<?, ?it/s]"
     ]
    },
    {
     "name": "stdout",
     "output_type": "stream",
     "text": [
      "epoch:16\n",
      "train AUC:0.9060711409224179,test AUC:0.9166865762730553\n",
      "epoch:16\n",
      "train F1:0.8917446842048966,test F1:0.8976148801113477\n"
     ]
    },
    {
     "name": "stderr",
     "output_type": "stream",
     "text": [
      "100%|██████████| 10/10 [02:03<00:00, 12.36s/it]\n",
      "  0%|          | 0/10 [00:00<?, ?it/s]"
     ]
    },
    {
     "name": "stdout",
     "output_type": "stream",
     "text": [
      "epoch:17\n",
      "train AUC:0.9060330118747582,test AUC:0.916511840700137\n",
      "epoch:17\n",
      "train F1:0.8918786486098321,test F1:0.8975361422062216\n"
     ]
    },
    {
     "name": "stderr",
     "output_type": "stream",
     "text": [
      "100%|██████████| 10/10 [02:03<00:00, 12.32s/it]\n",
      "  0%|          | 0/10 [00:00<?, ?it/s]"
     ]
    },
    {
     "name": "stdout",
     "output_type": "stream",
     "text": [
      "epoch:18\n",
      "train AUC:0.9059830446415694,test AUC:0.9164094789842645\n",
      "epoch:18\n",
      "train F1:0.8920390679802013,test F1:0.897419663458833\n"
     ]
    },
    {
     "name": "stderr",
     "output_type": "stream",
     "text": [
      "100%|██████████| 10/10 [02:05<00:00, 12.58s/it]\n",
      "  0%|          | 0/10 [00:00<?, ?it/s]"
     ]
    },
    {
     "name": "stdout",
     "output_type": "stream",
     "text": [
      "epoch:19\n",
      "train AUC:0.9059405341562693,test AUC:0.9162698377541346\n",
      "epoch:19\n",
      "train F1:0.892124064653411,test F1:0.897319825686588\n"
     ]
    },
    {
     "name": "stderr",
     "output_type": "stream",
     "text": [
      "100%|██████████| 10/10 [02:03<00:00, 12.35s/it]\n",
      "  0%|          | 0/10 [00:00<?, ?it/s]"
     ]
    },
    {
     "name": "stdout",
     "output_type": "stream",
     "text": [
      "epoch:20\n",
      "train AUC:0.905874767292452,test AUC:0.9161847009232326\n",
      "epoch:20\n",
      "train F1:0.8921724395095633,test F1:0.8972377716050254\n"
     ]
    },
    {
     "name": "stderr",
     "output_type": "stream",
     "text": [
      "100%|██████████| 10/10 [02:03<00:00, 12.31s/it]\n",
      "  0%|          | 0/10 [00:00<?, ?it/s]"
     ]
    },
    {
     "name": "stdout",
     "output_type": "stream",
     "text": [
      "epoch:21\n",
      "train AUC:0.9058153801159894,test AUC:0.9160518491618036\n",
      "epoch:21\n",
      "train F1:0.8922646440342827,test F1:0.8971271264205548\n"
     ]
    },
    {
     "name": "stderr",
     "output_type": "stream",
     "text": [
      "100%|██████████| 10/10 [02:03<00:00, 12.32s/it]\n",
      "  0%|          | 0/10 [00:00<?, ?it/s]"
     ]
    },
    {
     "name": "stdout",
     "output_type": "stream",
     "text": [
      "epoch:22\n",
      "train AUC:0.905728000786022,test AUC:0.915945755922867\n",
      "epoch:22\n",
      "train F1:0.8923540523649435,test F1:0.8972316384180791\n"
     ]
    },
    {
     "name": "stderr",
     "output_type": "stream",
     "text": [
      "100%|██████████| 10/10 [02:03<00:00, 12.32s/it]\n",
      "  0%|          | 0/10 [00:00<?, ?it/s]"
     ]
    },
    {
     "name": "stdout",
     "output_type": "stream",
     "text": [
      "epoch:23\n",
      "train AUC:0.9056669985109339,test AUC:0.915802923709566\n",
      "epoch:23\n",
      "train F1:0.8924469559473978,test F1:0.8971477838082316\n"
     ]
    },
    {
     "name": "stderr",
     "output_type": "stream",
     "text": [
      "100%|██████████| 10/10 [02:03<00:00, 12.37s/it]\n",
      "  0%|          | 0/10 [00:00<?, ?it/s]"
     ]
    },
    {
     "name": "stdout",
     "output_type": "stream",
     "text": [
      "epoch:24\n",
      "train AUC:0.9055919851692578,test AUC:0.9155786049276624\n",
      "epoch:24\n",
      "train F1:0.8925540265064459,test F1:0.897151496312205\n"
     ]
    },
    {
     "name": "stderr",
     "output_type": "stream",
     "text": [
      "100%|██████████| 10/10 [02:03<00:00, 12.35s/it]\n",
      "  0%|          | 0/10 [00:00<?, ?it/s]"
     ]
    },
    {
     "name": "stdout",
     "output_type": "stream",
     "text": [
      "epoch:25\n",
      "train AUC:0.9055310402445061,test AUC:0.9154575326211631\n",
      "epoch:25\n",
      "train F1:0.8926795722489972,test F1:0.8971563813628175\n"
     ]
    },
    {
     "name": "stderr",
     "output_type": "stream",
     "text": [
      "100%|██████████| 10/10 [02:03<00:00, 12.31s/it]\n",
      "  0%|          | 0/10 [00:00<?, ?it/s]"
     ]
    },
    {
     "name": "stdout",
     "output_type": "stream",
     "text": [
      "epoch:26\n",
      "train AUC:0.905490543051319,test AUC:0.9152961880551471\n",
      "epoch:26\n",
      "train F1:0.8927511501794662,test F1:0.8972410188311413\n"
     ]
    },
    {
     "name": "stderr",
     "output_type": "stream",
     "text": [
      "100%|██████████| 10/10 [02:03<00:00, 12.33s/it]\n",
      "  0%|          | 0/10 [00:00<?, ?it/s]"
     ]
    },
    {
     "name": "stdout",
     "output_type": "stream",
     "text": [
      "epoch:27\n",
      "train AUC:0.9054413880311597,test AUC:0.9151514544837844\n",
      "epoch:27\n",
      "train F1:0.8928096079123985,test F1:0.8972650127783347\n"
     ]
    },
    {
     "name": "stderr",
     "output_type": "stream",
     "text": [
      "100%|██████████| 10/10 [02:02<00:00, 12.30s/it]\n",
      "  0%|          | 0/10 [00:00<?, ?it/s]"
     ]
    },
    {
     "name": "stdout",
     "output_type": "stream",
     "text": [
      "epoch:28\n",
      "train AUC:0.9053913048835851,test AUC:0.9149238732859432\n",
      "epoch:28\n",
      "train F1:0.8929209443263534,test F1:0.8973251464464677\n"
     ]
    },
    {
     "name": "stderr",
     "output_type": "stream",
     "text": [
      "100%|██████████| 10/10 [02:03<00:00, 12.32s/it]\n",
      "  0%|          | 0/10 [00:00<?, ?it/s]"
     ]
    },
    {
     "name": "stdout",
     "output_type": "stream",
     "text": [
      "epoch:29\n",
      "train AUC:0.9053654827727706,test AUC:0.9147667552385027\n",
      "epoch:29\n",
      "train F1:0.8930476369542997,test F1:0.8972350425540925\n"
     ]
    },
    {
     "name": "stderr",
     "output_type": "stream",
     "text": [
      "100%|██████████| 10/10 [02:03<00:00, 12.31s/it]\n",
      "  0%|          | 0/10 [00:00<?, ?it/s]"
     ]
    },
    {
     "name": "stdout",
     "output_type": "stream",
     "text": [
      "epoch:30\n",
      "train AUC:0.9053520527498591,test AUC:0.9145465910629939\n",
      "epoch:30\n",
      "train F1:0.8931027851308853,test F1:0.8973047704364141\n"
     ]
    },
    {
     "name": "stderr",
     "output_type": "stream",
     "text": [
      "100%|██████████| 10/10 [02:03<00:00, 12.38s/it]\n",
      "  0%|          | 0/10 [00:00<?, ?it/s]"
     ]
    },
    {
     "name": "stdout",
     "output_type": "stream",
     "text": [
      "epoch:31\n",
      "train AUC:0.9053570004468113,test AUC:0.9143859646599573\n",
      "epoch:31\n",
      "train F1:0.8932116559123967,test F1:0.8973059934237452\n"
     ]
    },
    {
     "name": "stderr",
     "output_type": "stream",
     "text": [
      "100%|██████████| 10/10 [02:03<00:00, 12.32s/it]\n",
      "  0%|          | 0/10 [00:00<?, ?it/s]"
     ]
    },
    {
     "name": "stdout",
     "output_type": "stream",
     "text": [
      "epoch:32\n",
      "train AUC:0.9053650740954775,test AUC:0.9143630877172797\n",
      "epoch:32\n",
      "train F1:0.8933276932631814,test F1:0.897189657487298\n"
     ]
    },
    {
     "name": "stderr",
     "output_type": "stream",
     "text": [
      "100%|██████████| 10/10 [02:03<00:00, 12.31s/it]\n",
      "  0%|          | 0/10 [00:00<?, ?it/s]"
     ]
    },
    {
     "name": "stdout",
     "output_type": "stream",
     "text": [
      "epoch:33\n",
      "train AUC:0.9053494475193217,test AUC:0.9141727848351593\n",
      "epoch:33\n",
      "train F1:0.8933407100620183,test F1:0.8970622514498026\n"
     ]
    },
    {
     "name": "stderr",
     "output_type": "stream",
     "text": [
      "100%|██████████| 10/10 [02:03<00:00, 12.32s/it]\n",
      "  0%|          | 0/10 [00:00<?, ?it/s]"
     ]
    },
    {
     "name": "stdout",
     "output_type": "stream",
     "text": [
      "epoch:34\n",
      "train AUC:0.9053902260932712,test AUC:0.9142937166731988\n",
      "epoch:34\n",
      "train F1:0.8935108459209797,test F1:0.8968902279462209\n"
     ]
    },
    {
     "name": "stderr",
     "output_type": "stream",
     "text": [
      "100%|██████████| 10/10 [02:03<00:00, 12.34s/it]\n",
      "  0%|          | 0/10 [00:00<?, ?it/s]"
     ]
    },
    {
     "name": "stdout",
     "output_type": "stream",
     "text": [
      "epoch:35\n",
      "train AUC:0.9053043444853532,test AUC:0.9144273865555385\n",
      "epoch:35\n",
      "train F1:0.8936254534594551,test F1:0.8966538012110052\n"
     ]
    },
    {
     "name": "stderr",
     "output_type": "stream",
     "text": [
      "100%|██████████| 10/10 [02:03<00:00, 12.33s/it]\n",
      "  0%|          | 0/10 [00:00<?, ?it/s]"
     ]
    },
    {
     "name": "stdout",
     "output_type": "stream",
     "text": [
      "epoch:36\n",
      "train AUC:0.9053943766578191,test AUC:0.9145250495295145\n",
      "epoch:36\n",
      "train F1:0.8937282180642495,test F1:0.8966773452782582\n"
     ]
    },
    {
     "name": "stderr",
     "output_type": "stream",
     "text": [
      "100%|██████████| 10/10 [02:03<00:00, 12.31s/it]\n",
      "  0%|          | 0/10 [00:00<?, ?it/s]"
     ]
    },
    {
     "name": "stdout",
     "output_type": "stream",
     "text": [
      "epoch:37\n",
      "train AUC:0.9054342827726933,test AUC:0.9141027627461343\n",
      "epoch:37\n",
      "train F1:0.8938955278607944,test F1:0.8970289890928627\n"
     ]
    },
    {
     "name": "stderr",
     "output_type": "stream",
     "text": [
      "100%|██████████| 10/10 [02:04<00:00, 12.49s/it]\n",
      "  0%|          | 0/10 [00:00<?, ?it/s]"
     ]
    },
    {
     "name": "stdout",
     "output_type": "stream",
     "text": [
      "epoch:38\n",
      "train AUC:0.9053725873144773,test AUC:0.9142079290370599\n",
      "epoch:38\n",
      "train F1:0.8939458083370264,test F1:0.8967109222871305\n"
     ]
    },
    {
     "name": "stderr",
     "output_type": "stream",
     "text": [
      "100%|██████████| 10/10 [02:04<00:00, 12.46s/it]\n",
      "  0%|          | 0/10 [00:00<?, ?it/s]"
     ]
    },
    {
     "name": "stdout",
     "output_type": "stream",
     "text": [
      "epoch:39\n",
      "train AUC:0.9053351734305775,test AUC:0.914172460750931\n",
      "epoch:39\n",
      "train F1:0.8940661705878605,test F1:0.896516030231272\n"
     ]
    },
    {
     "name": "stderr",
     "output_type": "stream",
     "text": [
      "100%|██████████| 10/10 [02:03<00:00, 12.31s/it]\n",
      "  0%|          | 0/10 [00:00<?, ?it/s]"
     ]
    },
    {
     "name": "stdout",
     "output_type": "stream",
     "text": [
      "epoch:40\n",
      "train AUC:0.9053721374569479,test AUC:0.9141831512157355\n",
      "epoch:40\n",
      "train F1:0.8940903233115717,test F1:0.8965248060860247\n"
     ]
    },
    {
     "name": "stderr",
     "output_type": "stream",
     "text": [
      "100%|██████████| 10/10 [02:02<00:00, 12.30s/it]\n",
      "  0%|          | 0/10 [00:00<?, ?it/s]"
     ]
    },
    {
     "name": "stdout",
     "output_type": "stream",
     "text": [
      "epoch:41\n",
      "train AUC:0.9053964814944864,test AUC:0.9139426792800632\n",
      "epoch:41\n",
      "train F1:0.8942908174611156,test F1:0.8968205593434165\n"
     ]
    },
    {
     "name": "stderr",
     "output_type": "stream",
     "text": [
      "100%|██████████| 10/10 [02:02<00:00, 12.28s/it]\n",
      "  0%|          | 0/10 [00:00<?, ?it/s]"
     ]
    },
    {
     "name": "stdout",
     "output_type": "stream",
     "text": [
      "epoch:42\n",
      "train AUC:0.9053894089202642,test AUC:0.9138301841790805\n",
      "epoch:42\n",
      "train F1:0.8943165672468478,test F1:0.8965947963833019\n"
     ]
    },
    {
     "name": "stderr",
     "output_type": "stream",
     "text": [
      "100%|██████████| 10/10 [02:03<00:00, 12.31s/it]\n",
      "  0%|          | 0/10 [00:00<?, ?it/s]"
     ]
    },
    {
     "name": "stdout",
     "output_type": "stream",
     "text": [
      "epoch:43\n",
      "train AUC:0.9053556522790716,test AUC:0.9137796709058896\n",
      "epoch:43\n",
      "train F1:0.8944319538949973,test F1:0.8966539691997759\n"
     ]
    },
    {
     "name": "stderr",
     "output_type": "stream",
     "text": [
      "100%|██████████| 10/10 [02:02<00:00, 12.25s/it]\n",
      "  0%|          | 0/10 [00:00<?, ?it/s]"
     ]
    },
    {
     "name": "stdout",
     "output_type": "stream",
     "text": [
      "epoch:44\n",
      "train AUC:0.905253164819607,test AUC:0.9138007342233665\n",
      "epoch:44\n",
      "train F1:0.894510607309934,test F1:0.8965012713609954\n"
     ]
    },
    {
     "name": "stderr",
     "output_type": "stream",
     "text": [
      "100%|██████████| 10/10 [02:02<00:00, 12.30s/it]\n",
      "  0%|          | 0/10 [00:00<?, ?it/s]"
     ]
    },
    {
     "name": "stdout",
     "output_type": "stream",
     "text": [
      "epoch:45\n",
      "train AUC:0.9053347003404754,test AUC:0.9136305854490496\n",
      "epoch:45\n",
      "train F1:0.8945054291070418,test F1:0.8962453262059454\n"
     ]
    },
    {
     "name": "stderr",
     "output_type": "stream",
     "text": [
      "100%|██████████| 10/10 [02:02<00:00, 12.29s/it]\n",
      "  0%|          | 0/10 [00:00<?, ?it/s]"
     ]
    },
    {
     "name": "stdout",
     "output_type": "stream",
     "text": [
      "epoch:46\n",
      "train AUC:0.9053710617725926,test AUC:0.9134005664282778\n",
      "epoch:46\n",
      "train F1:0.8946228818723129,test F1:0.8968196026452513\n"
     ]
    },
    {
     "name": "stderr",
     "output_type": "stream",
     "text": [
      "100%|██████████| 10/10 [02:02<00:00, 12.27s/it]\n",
      "  0%|          | 0/10 [00:00<?, ?it/s]"
     ]
    },
    {
     "name": "stdout",
     "output_type": "stream",
     "text": [
      "epoch:47\n",
      "train AUC:0.9055090620206365,test AUC:0.9134690831556502\n",
      "epoch:47\n",
      "train F1:0.8947924874857566,test F1:0.8966163146281068\n"
     ]
    },
    {
     "name": "stderr",
     "output_type": "stream",
     "text": [
      "100%|██████████| 10/10 [02:02<00:00, 12.28s/it]\n",
      "  0%|          | 0/10 [00:00<?, ?it/s]"
     ]
    },
    {
     "name": "stdout",
     "output_type": "stream",
     "text": [
      "epoch:48\n",
      "train AUC:0.905487419125646,test AUC:0.9132852535683423\n",
      "epoch:48\n",
      "train F1:0.8948766280701257,test F1:0.8966666903121918\n"
     ]
    },
    {
     "name": "stderr",
     "output_type": "stream",
     "text": [
      "100%|██████████| 10/10 [02:02<00:00, 12.26s/it]\n",
      "  0%|          | 0/10 [00:00<?, ?it/s]"
     ]
    },
    {
     "name": "stdout",
     "output_type": "stream",
     "text": [
      "epoch:49\n",
      "train AUC:0.9055417448601631,test AUC:0.9135979365998244\n",
      "epoch:49\n",
      "train F1:0.8950586661148263,test F1:0.8965727752853654\n"
     ]
    },
    {
     "name": "stderr",
     "output_type": "stream",
     "text": [
      "100%|██████████| 10/10 [02:02<00:00, 12.30s/it]\n",
      "  0%|          | 0/10 [00:00<?, ?it/s]"
     ]
    },
    {
     "name": "stdout",
     "output_type": "stream",
     "text": [
      "epoch:50\n",
      "train AUC:0.9056046542131264,test AUC:0.9133179875136483\n",
      "epoch:50\n",
      "train F1:0.895045765422437,test F1:0.8963932333226937\n"
     ]
    },
    {
     "name": "stderr",
     "output_type": "stream",
     "text": [
      "100%|██████████| 10/10 [02:03<00:00, 12.30s/it]\n",
      "  0%|          | 0/10 [00:00<?, ?it/s]"
     ]
    },
    {
     "name": "stdout",
     "output_type": "stream",
     "text": [
      "epoch:51\n",
      "train AUC:0.9056361905333215,test AUC:0.9135881332916242\n",
      "epoch:51\n",
      "train F1:0.8952471703945709,test F1:0.8958961312895939\n"
     ]
    },
    {
     "name": "stderr",
     "output_type": "stream",
     "text": [
      "100%|██████████| 10/10 [02:03<00:00, 12.35s/it]\n",
      "  0%|          | 0/10 [00:00<?, ?it/s]"
     ]
    },
    {
     "name": "stdout",
     "output_type": "stream",
     "text": [
      "epoch:52\n",
      "train AUC:0.9055694611471775,test AUC:0.9138110890979936\n",
      "epoch:52\n",
      "train F1:0.8952460357635595,test F1:0.8957056089423707\n"
     ]
    },
    {
     "name": "stderr",
     "output_type": "stream",
     "text": [
      "100%|██████████| 10/10 [02:03<00:00, 12.34s/it]\n",
      "  0%|          | 0/10 [00:00<?, ?it/s]"
     ]
    },
    {
     "name": "stdout",
     "output_type": "stream",
     "text": [
      "epoch:53\n",
      "train AUC:0.9054803150713358,test AUC:0.9136578835526055\n",
      "epoch:53\n",
      "train F1:0.8952463328346888,test F1:0.8959472544998861\n"
     ]
    },
    {
     "name": "stderr",
     "output_type": "stream",
     "text": [
      "100%|██████████| 10/10 [02:02<00:00, 12.29s/it]\n",
      "  0%|          | 0/10 [00:00<?, ?it/s]"
     ]
    },
    {
     "name": "stdout",
     "output_type": "stream",
     "text": [
      "epoch:54\n",
      "train AUC:0.9053729460575083,test AUC:0.9134260906980395\n",
      "epoch:54\n",
      "train F1:0.8952702894317427,test F1:0.8958640484889924\n"
     ]
    },
    {
     "name": "stderr",
     "output_type": "stream",
     "text": [
      "100%|██████████| 10/10 [02:03<00:00, 12.30s/it]\n",
      "  0%|          | 0/10 [00:00<?, ?it/s]"
     ]
    },
    {
     "name": "stdout",
     "output_type": "stream",
     "text": [
      "epoch:55\n",
      "train AUC:0.9051489888079781,test AUC:0.9127510632815206\n",
      "epoch:55\n",
      "train F1:0.8950953775049444,test F1:0.8964140596141279\n"
     ]
    },
    {
     "name": "stderr",
     "output_type": "stream",
     "text": [
      "100%|██████████| 10/10 [02:02<00:00, 12.27s/it]\n",
      "  0%|          | 0/10 [00:00<?, ?it/s]"
     ]
    },
    {
     "name": "stdout",
     "output_type": "stream",
     "text": [
      "epoch:56\n",
      "train AUC:0.9051546036171172,test AUC:0.9129681086257463\n",
      "epoch:56\n",
      "train F1:0.8951269864676324,test F1:0.8960911496116754\n"
     ]
    },
    {
     "name": "stderr",
     "output_type": "stream",
     "text": [
      "100%|██████████| 10/10 [02:02<00:00, 12.29s/it]\n",
      "  0%|          | 0/10 [00:00<?, ?it/s]"
     ]
    },
    {
     "name": "stdout",
     "output_type": "stream",
     "text": [
      "epoch:57\n",
      "train AUC:0.9050288514360515,test AUC:0.9126162027731735\n",
      "epoch:57\n",
      "train F1:0.8951913562921193,test F1:0.8964395317117527\n"
     ]
    },
    {
     "name": "stderr",
     "output_type": "stream",
     "text": [
      "100%|██████████| 10/10 [02:02<00:00, 12.29s/it]\n",
      "  0%|          | 0/10 [00:00<?, ?it/s]"
     ]
    },
    {
     "name": "stdout",
     "output_type": "stream",
     "text": [
      "epoch:58\n",
      "train AUC:0.9051498665424051,test AUC:0.9123295061670688\n",
      "epoch:58\n",
      "train F1:0.8953304871702893,test F1:0.8964366126156841\n"
     ]
    },
    {
     "name": "stderr",
     "output_type": "stream",
     "text": [
      "100%|██████████| 10/10 [02:03<00:00, 12.34s/it]\n",
      "  0%|          | 0/10 [00:00<?, ?it/s]"
     ]
    },
    {
     "name": "stdout",
     "output_type": "stream",
     "text": [
      "epoch:59\n",
      "train AUC:0.905084150081133,test AUC:0.911340861819546\n",
      "epoch:59\n",
      "train F1:0.8954428154155915,test F1:0.8968437422684056\n"
     ]
    },
    {
     "name": "stderr",
     "output_type": "stream",
     "text": [
      "100%|██████████| 10/10 [02:02<00:00, 12.29s/it]\n",
      "  0%|          | 0/10 [00:00<?, ?it/s]"
     ]
    },
    {
     "name": "stdout",
     "output_type": "stream",
     "text": [
      "epoch:60\n",
      "train AUC:0.9052976995873357,test AUC:0.9113468897382517\n",
      "epoch:60\n",
      "train F1:0.895617929886311,test F1:0.896598687710587\n"
     ]
    },
    {
     "name": "stderr",
     "output_type": "stream",
     "text": [
      "100%|██████████| 10/10 [02:03<00:00, 12.33s/it]\n",
      "  0%|          | 0/10 [00:00<?, ?it/s]"
     ]
    },
    {
     "name": "stdout",
     "output_type": "stream",
     "text": [
      "epoch:61\n",
      "train AUC:0.9052484922437153,test AUC:0.9110148858214349\n",
      "epoch:61\n",
      "train F1:0.8957245416923133,test F1:0.8968398727465535\n"
     ]
    },
    {
     "name": "stderr",
     "output_type": "stream",
     "text": [
      "100%|██████████| 10/10 [02:03<00:00, 12.35s/it]\n",
      "  0%|          | 0/10 [00:00<?, ?it/s]"
     ]
    },
    {
     "name": "stdout",
     "output_type": "stream",
     "text": [
      "epoch:62\n",
      "train AUC:0.9051687172854735,test AUC:0.9099386855172463\n",
      "epoch:62\n",
      "train F1:0.8957324796496001,test F1:0.8965893704052915\n"
     ]
    },
    {
     "name": "stderr",
     "output_type": "stream",
     "text": [
      "100%|██████████| 10/10 [02:03<00:00, 12.32s/it]\n",
      "  0%|          | 0/10 [00:00<?, ?it/s]"
     ]
    },
    {
     "name": "stdout",
     "output_type": "stream",
     "text": [
      "epoch:63\n",
      "train AUC:0.9051548491407785,test AUC:0.9106381057852152\n",
      "epoch:63\n",
      "train F1:0.8957353366734945,test F1:0.896544389773549\n"
     ]
    },
    {
     "name": "stderr",
     "output_type": "stream",
     "text": [
      "100%|██████████| 10/10 [02:02<00:00, 12.29s/it]\n",
      "  0%|          | 0/10 [00:00<?, ?it/s]"
     ]
    },
    {
     "name": "stdout",
     "output_type": "stream",
     "text": [
      "epoch:64\n",
      "train AUC:0.905182431422391,test AUC:0.9108624262450695\n",
      "epoch:64\n",
      "train F1:0.8958083322694582,test F1:0.8957310512402111\n"
     ]
    },
    {
     "name": "stderr",
     "output_type": "stream",
     "text": [
      "100%|██████████| 10/10 [02:02<00:00, 12.27s/it]\n",
      "  0%|          | 0/10 [00:00<?, ?it/s]"
     ]
    },
    {
     "name": "stdout",
     "output_type": "stream",
     "text": [
      "epoch:65\n",
      "train AUC:0.9051663637427313,test AUC:0.9105615725276293\n",
      "epoch:65\n",
      "train F1:0.8960101229334946,test F1:0.8955421918804973\n"
     ]
    },
    {
     "name": "stderr",
     "output_type": "stream",
     "text": [
      "100%|██████████| 10/10 [02:03<00:00, 12.32s/it]\n",
      "  0%|          | 0/10 [00:00<?, ?it/s]"
     ]
    },
    {
     "name": "stdout",
     "output_type": "stream",
     "text": [
      "epoch:66\n",
      "train AUC:0.9052333924095176,test AUC:0.9114627088599403\n",
      "epoch:66\n",
      "train F1:0.8960377642176095,test F1:0.8946268571264993\n"
     ]
    },
    {
     "name": "stderr",
     "output_type": "stream",
     "text": [
      "100%|██████████| 10/10 [02:02<00:00, 12.30s/it]\n",
      "  0%|          | 0/10 [00:00<?, ?it/s]"
     ]
    },
    {
     "name": "stdout",
     "output_type": "stream",
     "text": [
      "epoch:67\n",
      "train AUC:0.9052947665682317,test AUC:0.9111515024252382\n",
      "epoch:67\n",
      "train F1:0.8961406654259907,test F1:0.8947989444853651\n"
     ]
    },
    {
     "name": "stderr",
     "output_type": "stream",
     "text": [
      "100%|██████████| 10/10 [02:02<00:00, 12.29s/it]\n",
      "  0%|          | 0/10 [00:00<?, ?it/s]"
     ]
    },
    {
     "name": "stdout",
     "output_type": "stream",
     "text": [
      "epoch:68\n",
      "train AUC:0.905520113739146,test AUC:0.9117037553739373\n",
      "epoch:68\n",
      "train F1:0.8965197321103052,test F1:0.8942375943731046\n"
     ]
    },
    {
     "name": "stderr",
     "output_type": "stream",
     "text": [
      "100%|██████████| 10/10 [02:02<00:00, 12.27s/it]\n",
      "  0%|          | 0/10 [00:00<?, ?it/s]"
     ]
    },
    {
     "name": "stdout",
     "output_type": "stream",
     "text": [
      "epoch:69\n",
      "train AUC:0.9053673227428202,test AUC:0.9119853450166656\n",
      "epoch:69\n",
      "train F1:0.8963502862687465,test F1:0.894042061938463\n"
     ]
    },
    {
     "name": "stderr",
     "output_type": "stream",
     "text": [
      "100%|██████████| 10/10 [02:02<00:00, 12.28s/it]\n",
      "  0%|          | 0/10 [00:00<?, ?it/s]"
     ]
    },
    {
     "name": "stdout",
     "output_type": "stream",
     "text": [
      "epoch:70\n",
      "train AUC:0.9053678244173009,test AUC:0.9118143599036856\n",
      "epoch:70\n",
      "train F1:0.8964810802911837,test F1:0.8940592923906188\n"
     ]
    },
    {
     "name": "stderr",
     "output_type": "stream",
     "text": [
      "100%|██████████| 10/10 [02:03<00:00, 12.32s/it]\n",
      "  0%|          | 0/10 [00:00<?, ?it/s]"
     ]
    },
    {
     "name": "stdout",
     "output_type": "stream",
     "text": [
      "epoch:71\n",
      "train AUC:0.9054145240097093,test AUC:0.9120174715437507\n",
      "epoch:71\n",
      "train F1:0.8965336216424825,test F1:0.8936026549053975\n"
     ]
    },
    {
     "name": "stderr",
     "output_type": "stream",
     "text": [
      "100%|██████████| 10/10 [02:02<00:00, 12.27s/it]\n",
      "  0%|          | 0/10 [00:00<?, ?it/s]"
     ]
    },
    {
     "name": "stdout",
     "output_type": "stream",
     "text": [
      "epoch:72\n",
      "train AUC:0.9053897921764783,test AUC:0.9116843692882253\n",
      "epoch:72\n",
      "train F1:0.8967024111188988,test F1:0.8935586698064442\n"
     ]
    },
    {
     "name": "stderr",
     "output_type": "stream",
     "text": [
      "100%|██████████| 10/10 [02:03<00:00, 12.31s/it]\n",
      "  0%|          | 0/10 [00:00<?, ?it/s]"
     ]
    },
    {
     "name": "stdout",
     "output_type": "stream",
     "text": [
      "epoch:73\n",
      "train AUC:0.9052906205431623,test AUC:0.9116196756520937\n",
      "epoch:73\n",
      "train F1:0.8966851973245475,test F1:0.893795023390638\n"
     ]
    },
    {
     "name": "stderr",
     "output_type": "stream",
     "text": [
      "100%|██████████| 10/10 [02:02<00:00, 12.28s/it]\n",
      "  0%|          | 0/10 [00:00<?, ?it/s]"
     ]
    },
    {
     "name": "stdout",
     "output_type": "stream",
     "text": [
      "epoch:74\n",
      "train AUC:0.9053292520394036,test AUC:0.9113144964169757\n",
      "epoch:74\n",
      "train F1:0.8967126891136648,test F1:0.8939908079549848\n"
     ]
    },
    {
     "name": "stderr",
     "output_type": "stream",
     "text": [
      "100%|██████████| 10/10 [02:02<00:00, 12.29s/it]\n",
      "  0%|          | 0/10 [00:00<?, ?it/s]"
     ]
    },
    {
     "name": "stdout",
     "output_type": "stream",
     "text": [
      "epoch:75\n",
      "train AUC:0.905265099452327,test AUC:0.9111144357710363\n",
      "epoch:75\n",
      "train F1:0.8967406804118738,test F1:0.8936148825721404\n"
     ]
    },
    {
     "name": "stderr",
     "output_type": "stream",
     "text": [
      "100%|██████████| 10/10 [02:02<00:00, 12.29s/it]\n",
      "  0%|          | 0/10 [00:00<?, ?it/s]"
     ]
    },
    {
     "name": "stdout",
     "output_type": "stream",
     "text": [
      "epoch:76\n",
      "train AUC:0.9051407011635224,test AUC:0.9117799760532438\n",
      "epoch:76\n",
      "train F1:0.8966536759625628,test F1:0.8931762268548492\n"
     ]
    },
    {
     "name": "stderr",
     "output_type": "stream",
     "text": [
      "100%|██████████| 10/10 [02:02<00:00, 12.27s/it]\n",
      "  0%|          | 0/10 [00:00<?, ?it/s]"
     ]
    },
    {
     "name": "stdout",
     "output_type": "stream",
     "text": [
      "epoch:77\n",
      "train AUC:0.9052858630646896,test AUC:0.9115591418959168\n",
      "epoch:77\n",
      "train F1:0.8969039404394407,test F1:0.8930604841321826\n"
     ]
    },
    {
     "name": "stderr",
     "output_type": "stream",
     "text": [
      "100%|██████████| 10/10 [02:03<00:00, 12.30s/it]\n",
      "  0%|          | 0/10 [00:00<?, ?it/s]"
     ]
    },
    {
     "name": "stdout",
     "output_type": "stream",
     "text": [
      "epoch:78\n",
      "train AUC:0.90553473744418,test AUC:0.9122660829794654\n",
      "epoch:78\n",
      "train F1:0.8971806969809597,test F1:0.8926635136693968\n"
     ]
    },
    {
     "name": "stderr",
     "output_type": "stream",
     "text": [
      "100%|██████████| 10/10 [02:05<00:00, 12.51s/it]\n",
      "  0%|          | 0/10 [00:00<?, ?it/s]"
     ]
    },
    {
     "name": "stdout",
     "output_type": "stream",
     "text": [
      "epoch:79\n",
      "train AUC:0.9056713064281376,test AUC:0.911778163386872\n",
      "epoch:79\n",
      "train F1:0.8973252608264435,test F1:0.8934813516968018\n"
     ]
    },
    {
     "name": "stderr",
     "output_type": "stream",
     "text": [
      "100%|██████████| 10/10 [02:05<00:00, 12.57s/it]\n",
      "  0%|          | 0/10 [00:00<?, ?it/s]"
     ]
    },
    {
     "name": "stdout",
     "output_type": "stream",
     "text": [
      "epoch:80\n",
      "train AUC:0.9055478752298084,test AUC:0.9116988739751016\n",
      "epoch:80\n",
      "train F1:0.8972296515958768,test F1:0.8934933742762644\n"
     ]
    },
    {
     "name": "stderr",
     "output_type": "stream",
     "text": [
      "100%|██████████| 10/10 [02:05<00:00, 12.52s/it]\n",
      "  0%|          | 0/10 [00:00<?, ?it/s]"
     ]
    },
    {
     "name": "stdout",
     "output_type": "stream",
     "text": [
      "epoch:81\n",
      "train AUC:0.9057494069782741,test AUC:0.911829578678518\n",
      "epoch:81\n",
      "train F1:0.897476206421003,test F1:0.8934482188670024\n"
     ]
    },
    {
     "name": "stderr",
     "output_type": "stream",
     "text": [
      " 70%|███████   | 7/10 [01:36<00:41, 13.83s/it]\n"
     ]
    },
    {
     "ename": "KeyboardInterrupt",
     "evalue": "",
     "output_type": "error",
     "traceback": [
      "\u001b[0;31m---------------------------------------------------------------------------\u001b[0m",
      "\u001b[0;31mKeyboardInterrupt\u001b[0m                         Traceback (most recent call last)",
      "\u001b[0;32m<ipython-input-16-630039debbd7>\u001b[0m in \u001b[0;36m<module>\u001b[0;34m\u001b[0m\n\u001b[1;32m      1\u001b[0m \u001b[0;32mfor\u001b[0m \u001b[0mepoch\u001b[0m \u001b[0;32min\u001b[0m \u001b[0mrange\u001b[0m\u001b[0;34m(\u001b[0m\u001b[0mepochs\u001b[0m\u001b[0;34m)\u001b[0m\u001b[0;34m:\u001b[0m\u001b[0;34m\u001b[0m\u001b[0;34m\u001b[0m\u001b[0m\n\u001b[0;32m----> 2\u001b[0;31m     \u001b[0mloss\u001b[0m\u001b[0;34m,\u001b[0m \u001b[0mtrain_output\u001b[0m\u001b[0;34m,\u001b[0m \u001b[0mtrain_y\u001b[0m  \u001b[0;34m=\u001b[0m \u001b[0mtrain\u001b[0m\u001b[0;34m(\u001b[0m\u001b[0;34m)\u001b[0m\u001b[0;34m\u001b[0m\u001b[0;34m\u001b[0m\u001b[0m\n\u001b[0m\u001b[1;32m      3\u001b[0m \u001b[0;34m\u001b[0m\u001b[0m\n\u001b[1;32m      4\u001b[0m     \u001b[0mtest_output\u001b[0m\u001b[0;34m,\u001b[0m \u001b[0mtest_y\u001b[0m \u001b[0;34m=\u001b[0m \u001b[0mtest\u001b[0m\u001b[0;34m(\u001b[0m\u001b[0;34m)\u001b[0m\u001b[0;34m\u001b[0m\u001b[0;34m\u001b[0m\u001b[0m\n\u001b[1;32m      5\u001b[0m \u001b[0;34m\u001b[0m\u001b[0m\n",
      "\u001b[0;32m<ipython-input-14-62c7b54f887c>\u001b[0m in \u001b[0;36mtrain\u001b[0;34m()\u001b[0m\n\u001b[1;32m     16\u001b[0m             \u001b[0mtrain_y\u001b[0m \u001b[0;34m=\u001b[0m \u001b[0mnp\u001b[0m\u001b[0;34m.\u001b[0m\u001b[0mconcatenate\u001b[0m\u001b[0;34m(\u001b[0m\u001b[0;34m[\u001b[0m\u001b[0mtrain_y\u001b[0m\u001b[0;34m,\u001b[0m \u001b[0mtrue_y\u001b[0m\u001b[0;34m[\u001b[0m\u001b[0;36m0\u001b[0m\u001b[0;34m]\u001b[0m\u001b[0;34m.\u001b[0m\u001b[0mcpu\u001b[0m\u001b[0;34m(\u001b[0m\u001b[0;34m)\u001b[0m\u001b[0;34m.\u001b[0m\u001b[0mdetach\u001b[0m\u001b[0;34m(\u001b[0m\u001b[0;34m)\u001b[0m\u001b[0;34m.\u001b[0m\u001b[0mnumpy\u001b[0m\u001b[0;34m(\u001b[0m\u001b[0;34m)\u001b[0m\u001b[0;34m.\u001b[0m\u001b[0mreshape\u001b[0m\u001b[0;34m(\u001b[0m\u001b[0;34m-\u001b[0m\u001b[0;36m1\u001b[0m\u001b[0;34m)\u001b[0m\u001b[0;34m]\u001b[0m\u001b[0;34m)\u001b[0m\u001b[0;34m\u001b[0m\u001b[0;34m\u001b[0m\u001b[0m\n\u001b[1;32m     17\u001b[0m \u001b[0;34m\u001b[0m\u001b[0m\n\u001b[0;32m---> 18\u001b[0;31m             \u001b[0mloss\u001b[0m\u001b[0;34m.\u001b[0m\u001b[0mbackward\u001b[0m\u001b[0;34m(\u001b[0m\u001b[0mretain_graph\u001b[0m\u001b[0;34m=\u001b[0m\u001b[0;32mTrue\u001b[0m\u001b[0;34m)\u001b[0m\u001b[0;34m\u001b[0m\u001b[0;34m\u001b[0m\u001b[0m\n\u001b[0m\u001b[1;32m     19\u001b[0m             \u001b[0moptimizer\u001b[0m\u001b[0;34m.\u001b[0m\u001b[0mstep\u001b[0m\u001b[0;34m(\u001b[0m\u001b[0;34m)\u001b[0m\u001b[0;34m\u001b[0m\u001b[0;34m\u001b[0m\u001b[0m\n\u001b[1;32m     20\u001b[0m \u001b[0;34m\u001b[0m\u001b[0m\n",
      "\u001b[0;32m/usr/local/lib/python3.6/dist-packages/torch/tensor.py\u001b[0m in \u001b[0;36mbackward\u001b[0;34m(self, gradient, retain_graph, create_graph)\u001b[0m\n\u001b[1;32m    219\u001b[0m                 \u001b[0mretain_graph\u001b[0m\u001b[0;34m=\u001b[0m\u001b[0mretain_graph\u001b[0m\u001b[0;34m,\u001b[0m\u001b[0;34m\u001b[0m\u001b[0;34m\u001b[0m\u001b[0m\n\u001b[1;32m    220\u001b[0m                 create_graph=create_graph)\n\u001b[0;32m--> 221\u001b[0;31m         \u001b[0mtorch\u001b[0m\u001b[0;34m.\u001b[0m\u001b[0mautograd\u001b[0m\u001b[0;34m.\u001b[0m\u001b[0mbackward\u001b[0m\u001b[0;34m(\u001b[0m\u001b[0mself\u001b[0m\u001b[0;34m,\u001b[0m \u001b[0mgradient\u001b[0m\u001b[0;34m,\u001b[0m \u001b[0mretain_graph\u001b[0m\u001b[0;34m,\u001b[0m \u001b[0mcreate_graph\u001b[0m\u001b[0;34m)\u001b[0m\u001b[0;34m\u001b[0m\u001b[0;34m\u001b[0m\u001b[0m\n\u001b[0m\u001b[1;32m    222\u001b[0m \u001b[0;34m\u001b[0m\u001b[0m\n\u001b[1;32m    223\u001b[0m     \u001b[0;32mdef\u001b[0m \u001b[0mregister_hook\u001b[0m\u001b[0;34m(\u001b[0m\u001b[0mself\u001b[0m\u001b[0;34m,\u001b[0m \u001b[0mhook\u001b[0m\u001b[0;34m)\u001b[0m\u001b[0;34m:\u001b[0m\u001b[0;34m\u001b[0m\u001b[0;34m\u001b[0m\u001b[0m\n",
      "\u001b[0;32m/usr/local/lib/python3.6/dist-packages/torch/autograd/__init__.py\u001b[0m in \u001b[0;36mbackward\u001b[0;34m(tensors, grad_tensors, retain_graph, create_graph, grad_variables)\u001b[0m\n\u001b[1;32m    130\u001b[0m     Variable._execution_engine.run_backward(\n\u001b[1;32m    131\u001b[0m         \u001b[0mtensors\u001b[0m\u001b[0;34m,\u001b[0m \u001b[0mgrad_tensors_\u001b[0m\u001b[0;34m,\u001b[0m \u001b[0mretain_graph\u001b[0m\u001b[0;34m,\u001b[0m \u001b[0mcreate_graph\u001b[0m\u001b[0;34m,\u001b[0m\u001b[0;34m\u001b[0m\u001b[0;34m\u001b[0m\u001b[0m\n\u001b[0;32m--> 132\u001b[0;31m         allow_unreachable=True)  # allow_unreachable flag\n\u001b[0m\u001b[1;32m    133\u001b[0m \u001b[0;34m\u001b[0m\u001b[0m\n\u001b[1;32m    134\u001b[0m \u001b[0;34m\u001b[0m\u001b[0m\n",
      "\u001b[0;31mKeyboardInterrupt\u001b[0m: "
     ]
    }
   ],
   "source": [
    "for epoch in range(epochs):\n",
    "    loss, train_output, train_y  = train()\n",
    "    \n",
    "    test_output, test_y = test()\n",
    "    \n",
    "    print('train',f1_score(train_y, np.argmax(np.concatenate(train_output,0),-1), average='macro'))\n",
    "    print('test', f1_score(test_y, np.argmax(np.concatenate(test_output,0),-1), average='macro'))"
   ]
  },
  {
   "cell_type": "code",
   "execution_count": null,
   "metadata": {},
   "outputs": [],
   "source": []
  }
 ],
 "metadata": {
  "kernelspec": {
   "display_name": "Python 3",
   "language": "python",
   "name": "python3"
  },
  "language_info": {
   "codemirror_mode": {
    "name": "ipython",
    "version": 3
   },
   "file_extension": ".py",
   "mimetype": "text/x-python",
   "name": "python",
   "nbconvert_exporter": "python",
   "pygments_lexer": "ipython3",
   "version": "3.6.9"
  }
 },
 "nbformat": 4,
 "nbformat_minor": 5
}
