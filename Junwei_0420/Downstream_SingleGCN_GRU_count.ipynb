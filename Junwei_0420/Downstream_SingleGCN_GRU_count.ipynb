{
 "cells": [
  {
   "cell_type": "code",
   "execution_count": 2,
   "metadata": {},
   "outputs": [],
   "source": [
    "import os\n",
    "import numpy as np\n",
    "import pandas as pd\n",
    "from tqdm import tqdm, trange\n",
    "\n",
    "import torch\n",
    "from torch_geometric.nn import GAE\n",
    "from torch_geometric.utils import is_undirected, to_undirected\n",
    "\n",
    "\n",
    "from torch.utils.data import DataLoader, TensorDataset\n",
    "from sklearn.metrics import mean_squared_error, mean_absolute_error\n",
    "from sklearn.preprocessing import MinMaxScaler\n",
    "\n",
    "from model.GCN_GRU import SingleGCN_GRU, Decoder\n",
    "from utils import *"
   ]
  },
  {
   "cell_type": "code",
   "execution_count": 11,
   "metadata": {},
   "outputs": [],
   "source": [
    "shop_col = 'stonc_6_label'\n",
    "device = torch.device('cuda:1' if torch.cuda.is_available() else 'cpu')\n",
    "\n",
    "embedding_dim = 64\n",
    "entity_dim = 8\n",
    "epochs = 1000\n",
    "learning_rate = 0.001\n",
    "batch_size = 1000\n",
    "\n",
    "weights_path = 'SingleGCN_GRU_Link_Prediction'"
   ]
  },
  {
   "cell_type": "code",
   "execution_count": 4,
   "metadata": {},
   "outputs": [],
   "source": [
    "data_path = './data'\n",
    "\n",
    "chid_dict_file = 'sample/sample_50k_idx_map.npy'\n",
    "cdtx_file = 'sample/sample_50k_cdtx.csv'\n",
    "cust_file = 'preprocessed/df_cust_log_without_shop.csv'\n",
    "\n",
    "chid_path = os.path.join(data_path, chid_dict_file)\n",
    "cdtx_path = os.path.join(data_path, cdtx_file)\n",
    "cust_path = os.path.join(data_path, cust_file)"
   ]
  },
  {
   "cell_type": "code",
   "execution_count": 5,
   "metadata": {},
   "outputs": [
    {
     "name": "stdout",
     "output_type": "stream",
     "text": [
      "Start reading cdtx file...\n",
      "Finish reading cdtx file !\n",
      "Start reading cust file...\n",
      "Finish reading cust file !\n",
      "Start maping encodeing...\n",
      "Finish !!\n"
     ]
    }
   ],
   "source": [
    "df_cdtx, df_cust, n_users, n_shops = read_sample_files(cdtx_path,\n",
    "                                                       cust_path,\n",
    "                                                       chid_path,\n",
    "                                                       shop_col)"
   ]
  },
  {
   "cell_type": "code",
   "execution_count": 6,
   "metadata": {},
   "outputs": [],
   "source": [
    "list_months = sorted(df_cdtx.csmdt.unique())\n",
    "ma = df_cdtx.groupby(['chid', 'csmdt']).objam.count().max()\n",
    "\n",
    "ignore_cols = ['chid', 'data_dt']\n",
    "category_cols = [f'category_{i+1}' for i in range(6)]\n",
    "numeric_cols = list(set(df_cust.columns) - set(category_cols) - set(ignore_cols))\n",
    "\n",
    "emb_dims = list(df_cust[category_cols].nunique())\n",
    "\n",
    "input_dim = len(category_cols)*entity_dim + len(numeric_cols)"
   ]
  },
  {
   "cell_type": "code",
   "execution_count": 7,
   "metadata": {},
   "outputs": [
    {
     "name": "stderr",
     "output_type": "stream",
     "text": [
      "100%|██████████| 25/25 [00:18<00:00,  1.32it/s]\n"
     ]
    }
   ],
   "source": [
    "edge_dict = {}\n",
    "edge_weights_dict = {}\n",
    "for month in tqdm(list_months):\n",
    "    edges = df_cdtx[df_cdtx.csmdt==month].groupby(['chid', shop_col]).objam.sum()\n",
    "    edge_pairs = np.stack([np.array(i) for i in edges.index]).T\n",
    "    edge_pairs = torch.LongTensor(edge_pairs)\n",
    "    \n",
    "    edge_weights = np.log(edges.values+1)\n",
    "    edge_weights = torch.Tensor(edge_weights)\n",
    "    \n",
    "    if not is_undirected(edge_pairs):\n",
    "        edge_pairs = torch.cat([edge_pairs, edge_pairs[[1,0],:]], -1)\n",
    "        edge_weights = edge_weights.repeat(2)\n",
    "    \n",
    "    edge_dict[month] = edge_pairs\n",
    "    edge_weights_dict[month] = edge_weights"
   ]
  },
  {
   "cell_type": "code",
   "execution_count": 8,
   "metadata": {},
   "outputs": [],
   "source": [
    "temp_cdtx = df_cdtx.groupby(['csmdt', 'chid']).count()\n",
    "\n",
    "df_cdtx_count = pd.DataFrame(list(map(list, temp_cdtx.index)), columns=['data_dt','chid' ])\n",
    "df_cdtx_count['count'] = temp_cdtx.objam.values\n",
    "\n",
    "df_y = pd.DataFrame({'chid':df_cust.chid, 'data_dt':df_cust.data_dt})\n",
    "df_y = df_y.merge(df_cdtx_count,\n",
    "                  how='left',\n",
    "                  left_on=['chid', 'data_dt'],\n",
    "                  right_on=['chid', 'data_dt']).fillna(0)\n",
    "\n",
    "y_scaler = MinMaxScaler()\n",
    "df_y['count'] = y_scaler.fit_transform(df_y[['count']])"
   ]
  },
  {
   "cell_type": "code",
   "execution_count": 10,
   "metadata": {},
   "outputs": [],
   "source": [
    "model = GAE(SingleGCN_GRU(input_dim, embedding_dim, entity_dim, emb_dims), Decoder(embedding_dim, 1)).to(device)\n",
    "\n",
    "x_num = []\n",
    "x_cat = []\n",
    "y = []\n",
    "for i in list_months:\n",
    "    cust_num_features = df_cust[df_cust.data_dt==i][numeric_cols].to_numpy()\n",
    "    cust_num_features = torch.Tensor(cust_num_features)\n",
    "    cust_cat_features = df_cust[df_cust.data_dt==i][category_cols].to_numpy()\n",
    "    cust_cat_features = torch.LongTensor(cust_cat_features)\n",
    "    \n",
    "    shop_num_features = torch.zeros(n_shops, cust_num_features.shape[1])\n",
    "    shop_cat_features = torch.zeros(n_shops, cust_cat_features.shape[1]).long()\n",
    "    \n",
    "    temp_y = df_y[df_y.data_dt==i][['count']].to_numpy()\n",
    "    x_num.append(torch.cat([cust_num_features, shop_num_features], 0).to(device))\n",
    "    x_cat.append(torch.cat([cust_cat_features, shop_cat_features], 0).to(device))\n",
    "    y.append(torch.Tensor(temp_y).to(device))\n",
    "    \n",
    "optimizer = torch.optim.AdamW(model.parameters(), lr=learning_rate)\n",
    "pos_edge_index = [i.to(device) for i in edge_dict.values()]\n",
    "pos_edge_weigts = [i.to(device) for i in edge_weights_dict.values()]"
   ]
  },
  {
   "cell_type": "code",
   "execution_count": 12,
   "metadata": {},
   "outputs": [],
   "source": [
    "model.encoder.load_state_dict(torch.load(weights_path))\n",
    "model.eval()\n",
    "\n",
    "criterion = torch.nn.MSELoss()"
   ]
  },
  {
   "cell_type": "code",
   "execution_count": 13,
   "metadata": {},
   "outputs": [],
   "source": [
    "def train():\n",
    "    model.train()\n",
    "    train_output = np.array([])\n",
    "    train_y = np.array([])\n",
    "    for i in tqdm(range(10)):\n",
    "        \n",
    "        train_dataset = TensorDataset(y[i+12])\n",
    "        train_loader = DataLoader(dataset=train_dataset, shuffle=False, batch_size=batch_size)\n",
    "        \n",
    "        for j, true_y in enumerate(train_loader):\n",
    "            optimizer.zero_grad()\n",
    "            z = model.encode(x_cat[i:i+12], x_num[i:i+12], pos_edge_index[i:i+12], pos_edge_weigts[i:i+12])\n",
    "            output = model.decode(z[j*batch_size:(j+1)*batch_size])\n",
    "            loss = criterion(output, true_y[0])\n",
    "            train_output = np.concatenate([train_output, output.cpu().detach().numpy().reshape(-1)])\n",
    "            train_y = np.concatenate([train_y, true_y[0].cpu().detach().numpy().reshape(-1)])\n",
    "        \n",
    "            loss.backward()\n",
    "            optimizer.step()\n",
    "        \n",
    "            \n",
    "    return loss/10, train_output, train_y"
   ]
  },
  {
   "cell_type": "code",
   "execution_count": 14,
   "metadata": {},
   "outputs": [],
   "source": [
    "def test():\n",
    "    model.eval()\n",
    "    test_output = np.array([])\n",
    "    test_y = np.array([])\n",
    "    \n",
    "    for i in range(10,12):\n",
    "\n",
    "        with torch.no_grad():\n",
    "            z = model.encode(x_cat[i:i+12], x_num[i:i+12], pos_edge_index[i:i+12], pos_edge_weigts[i:i+12])\n",
    "            output = model.decode(z[:n_users])\n",
    "            test_output = np.concatenate([test_output, output.cpu().detach().numpy().reshape(-1)])\n",
    "            test_y = np.concatenate([test_y, y[i+12].cpu().detach().numpy().reshape(-1)])\n",
    "            \n",
    "    return test_output, test_y"
   ]
  },
  {
   "cell_type": "code",
   "execution_count": 15,
   "metadata": {},
   "outputs": [
    {
     "name": "stderr",
     "output_type": "stream",
     "text": [
      "100%|██████████| 10/10 [01:58<00:00, 11.84s/it]\n",
      "  0%|          | 0/10 [00:00<?, ?it/s]"
     ]
    },
    {
     "name": "stdout",
     "output_type": "stream",
     "text": [
      "epoch:1\n",
      "train loss:34.010940759807276,test loss:16.626619495685805    \n",
      "train MAE(mean):13.250779127201639,test MAE(mean):5.8514584186509255\n"
     ]
    },
    {
     "name": "stderr",
     "output_type": "stream",
     "text": [
      "100%|██████████| 10/10 [01:57<00:00, 11.80s/it]\n",
      "  0%|          | 0/10 [00:00<?, ?it/s]"
     ]
    },
    {
     "name": "stdout",
     "output_type": "stream",
     "text": [
      "epoch:2\n",
      "train loss:9.823344437321847,test loss:16.08903882330842    \n",
      "train MAE(mean):4.9055750140981,test MAE(mean):4.765088535312824\n"
     ]
    },
    {
     "name": "stderr",
     "output_type": "stream",
     "text": [
      "100%|██████████| 10/10 [01:58<00:00, 11.87s/it]\n",
      "  0%|          | 0/10 [00:00<?, ?it/s]"
     ]
    },
    {
     "name": "stdout",
     "output_type": "stream",
     "text": [
      "epoch:3\n",
      "train loss:9.411919378999814,test loss:16.64697350914277    \n",
      "train MAE(mean):4.474744103754058,test MAE(mean):6.830558521233042\n"
     ]
    },
    {
     "name": "stderr",
     "output_type": "stream",
     "text": [
      "100%|██████████| 10/10 [01:58<00:00, 11.80s/it]\n",
      "  0%|          | 0/10 [00:00<?, ?it/s]"
     ]
    },
    {
     "name": "stdout",
     "output_type": "stream",
     "text": [
      "epoch:4\n",
      "train loss:9.213144825166896,test loss:16.192456401723753    \n",
      "train MAE(mean):4.226820904013622,test MAE(mean):4.7923103649651635\n"
     ]
    },
    {
     "name": "stderr",
     "output_type": "stream",
     "text": [
      "100%|██████████| 10/10 [01:58<00:00, 11.81s/it]\n",
      "  0%|          | 0/10 [00:00<?, ?it/s]"
     ]
    },
    {
     "name": "stdout",
     "output_type": "stream",
     "text": [
      "epoch:5\n",
      "train loss:9.277452744492994,test loss:16.0373085261094    \n",
      "train MAE(mean):4.348730341415599,test MAE(mean):4.425353497449169\n"
     ]
    },
    {
     "name": "stderr",
     "output_type": "stream",
     "text": [
      "100%|██████████| 10/10 [01:57<00:00, 11.79s/it]\n",
      "  0%|          | 0/10 [00:00<?, ?it/s]"
     ]
    },
    {
     "name": "stdout",
     "output_type": "stream",
     "text": [
      "epoch:6\n",
      "train loss:9.223317811633049,test loss:16.131968589722458    \n",
      "train MAE(mean):4.277978853316203,test MAE(mean):4.683780780061241\n"
     ]
    },
    {
     "name": "stderr",
     "output_type": "stream",
     "text": [
      "100%|██████████| 10/10 [01:58<00:00, 11.81s/it]\n",
      "  0%|          | 0/10 [00:00<?, ?it/s]"
     ]
    },
    {
     "name": "stdout",
     "output_type": "stream",
     "text": [
      "epoch:7\n",
      "train loss:9.146594258916211,test loss:16.086044428132304    \n",
      "train MAE(mean):4.1631344376042705,test MAE(mean):4.608340317875398\n"
     ]
    },
    {
     "name": "stderr",
     "output_type": "stream",
     "text": [
      "100%|██████████| 10/10 [01:58<00:00, 11.83s/it]\n",
      "  0%|          | 0/10 [00:00<?, ?it/s]"
     ]
    },
    {
     "name": "stdout",
     "output_type": "stream",
     "text": [
      "epoch:8\n",
      "train loss:9.055831761322302,test loss:15.879577976218767    \n",
      "train MAE(mean):4.0211022149187885,test MAE(mean):4.1170336943807735\n"
     ]
    },
    {
     "name": "stderr",
     "output_type": "stream",
     "text": [
      "100%|██████████| 10/10 [01:58<00:00, 11.80s/it]\n",
      "  0%|          | 0/10 [00:00<?, ?it/s]"
     ]
    },
    {
     "name": "stdout",
     "output_type": "stream",
     "text": [
      "epoch:9\n",
      "train loss:8.967305254196324,test loss:15.660111508857064    \n",
      "train MAE(mean):3.886021749402957,test MAE(mean):3.6401530561531708\n"
     ]
    },
    {
     "name": "stderr",
     "output_type": "stream",
     "text": [
      "100%|██████████| 10/10 [01:58<00:00, 11.87s/it]\n",
      "  0%|          | 0/10 [00:00<?, ?it/s]"
     ]
    },
    {
     "name": "stdout",
     "output_type": "stream",
     "text": [
      "epoch:10\n",
      "train loss:9.018014687594071,test loss:16.25110565411797    \n",
      "train MAE(mean):3.938568964686962,test MAE(mean):6.133882871406218\n"
     ]
    },
    {
     "name": "stderr",
     "output_type": "stream",
     "text": [
      "100%|██████████| 10/10 [01:57<00:00, 11.80s/it]\n",
      "  0%|          | 0/10 [00:00<?, ?it/s]"
     ]
    },
    {
     "name": "stdout",
     "output_type": "stream",
     "text": [
      "epoch:11\n",
      "train loss:8.844972357129649,test loss:16.45201730018112    \n",
      "train MAE(mean):3.646544263859205,test MAE(mean):6.696059044524748\n"
     ]
    },
    {
     "name": "stderr",
     "output_type": "stream",
     "text": [
      "100%|██████████| 10/10 [01:58<00:00, 11.82s/it]\n",
      "  0%|          | 0/10 [00:00<?, ?it/s]"
     ]
    },
    {
     "name": "stdout",
     "output_type": "stream",
     "text": [
      "epoch:12\n",
      "train loss:8.825898864427726,test loss:16.28943433144214    \n",
      "train MAE(mean):3.626237567206524,test MAE(mean):6.30431537406411\n"
     ]
    },
    {
     "name": "stderr",
     "output_type": "stream",
     "text": [
      " 60%|██████    | 6/10 [01:12<00:48, 12.16s/it]\n"
     ]
    },
    {
     "ename": "KeyboardInterrupt",
     "evalue": "",
     "output_type": "error",
     "traceback": [
      "\u001b[0;31m---------------------------------------------------------------------------\u001b[0m",
      "\u001b[0;31mKeyboardInterrupt\u001b[0m                         Traceback (most recent call last)",
      "\u001b[0;32m<ipython-input-15-7768d96ee2e6>\u001b[0m in \u001b[0;36m<module>\u001b[0;34m\u001b[0m\n\u001b[1;32m      1\u001b[0m \u001b[0;32mfor\u001b[0m \u001b[0mepoch\u001b[0m \u001b[0;32min\u001b[0m \u001b[0mrange\u001b[0m\u001b[0;34m(\u001b[0m\u001b[0mepochs\u001b[0m\u001b[0;34m)\u001b[0m\u001b[0;34m:\u001b[0m\u001b[0;34m\u001b[0m\u001b[0;34m\u001b[0m\u001b[0m\n\u001b[0;32m----> 2\u001b[0;31m     \u001b[0mloss\u001b[0m\u001b[0;34m,\u001b[0m \u001b[0mtrain_output\u001b[0m\u001b[0;34m,\u001b[0m \u001b[0mtrain_y\u001b[0m  \u001b[0;34m=\u001b[0m \u001b[0mtrain\u001b[0m\u001b[0;34m(\u001b[0m\u001b[0;34m)\u001b[0m\u001b[0;34m\u001b[0m\u001b[0;34m\u001b[0m\u001b[0m\n\u001b[0m\u001b[1;32m      3\u001b[0m \u001b[0;34m\u001b[0m\u001b[0m\n\u001b[1;32m      4\u001b[0m     \u001b[0mtest_output\u001b[0m\u001b[0;34m,\u001b[0m \u001b[0mtest_y\u001b[0m \u001b[0;34m=\u001b[0m \u001b[0mtest\u001b[0m\u001b[0;34m(\u001b[0m\u001b[0;34m)\u001b[0m\u001b[0;34m\u001b[0m\u001b[0;34m\u001b[0m\u001b[0m\n\u001b[1;32m      5\u001b[0m \u001b[0;34m\u001b[0m\u001b[0m\n",
      "\u001b[0;32m<ipython-input-13-03416ad0c777>\u001b[0m in \u001b[0;36mtrain\u001b[0;34m()\u001b[0m\n\u001b[1;32m     16\u001b[0m             \u001b[0mtrain_y\u001b[0m \u001b[0;34m=\u001b[0m \u001b[0mnp\u001b[0m\u001b[0;34m.\u001b[0m\u001b[0mconcatenate\u001b[0m\u001b[0;34m(\u001b[0m\u001b[0;34m[\u001b[0m\u001b[0mtrain_y\u001b[0m\u001b[0;34m,\u001b[0m \u001b[0mtrue_y\u001b[0m\u001b[0;34m[\u001b[0m\u001b[0;36m0\u001b[0m\u001b[0;34m]\u001b[0m\u001b[0;34m.\u001b[0m\u001b[0mcpu\u001b[0m\u001b[0;34m(\u001b[0m\u001b[0;34m)\u001b[0m\u001b[0;34m.\u001b[0m\u001b[0mdetach\u001b[0m\u001b[0;34m(\u001b[0m\u001b[0;34m)\u001b[0m\u001b[0;34m.\u001b[0m\u001b[0mnumpy\u001b[0m\u001b[0;34m(\u001b[0m\u001b[0;34m)\u001b[0m\u001b[0;34m.\u001b[0m\u001b[0mreshape\u001b[0m\u001b[0;34m(\u001b[0m\u001b[0;34m-\u001b[0m\u001b[0;36m1\u001b[0m\u001b[0;34m)\u001b[0m\u001b[0;34m]\u001b[0m\u001b[0;34m)\u001b[0m\u001b[0;34m\u001b[0m\u001b[0;34m\u001b[0m\u001b[0m\n\u001b[1;32m     17\u001b[0m \u001b[0;34m\u001b[0m\u001b[0m\n\u001b[0;32m---> 18\u001b[0;31m             \u001b[0mloss\u001b[0m\u001b[0;34m.\u001b[0m\u001b[0mbackward\u001b[0m\u001b[0;34m(\u001b[0m\u001b[0;34m)\u001b[0m\u001b[0;34m\u001b[0m\u001b[0;34m\u001b[0m\u001b[0m\n\u001b[0m\u001b[1;32m     19\u001b[0m             \u001b[0moptimizer\u001b[0m\u001b[0;34m.\u001b[0m\u001b[0mstep\u001b[0m\u001b[0;34m(\u001b[0m\u001b[0;34m)\u001b[0m\u001b[0;34m\u001b[0m\u001b[0;34m\u001b[0m\u001b[0m\n\u001b[1;32m     20\u001b[0m \u001b[0;34m\u001b[0m\u001b[0m\n",
      "\u001b[0;32m/usr/local/lib/python3.6/dist-packages/torch/tensor.py\u001b[0m in \u001b[0;36mbackward\u001b[0;34m(self, gradient, retain_graph, create_graph)\u001b[0m\n\u001b[1;32m    219\u001b[0m                 \u001b[0mretain_graph\u001b[0m\u001b[0;34m=\u001b[0m\u001b[0mretain_graph\u001b[0m\u001b[0;34m,\u001b[0m\u001b[0;34m\u001b[0m\u001b[0;34m\u001b[0m\u001b[0m\n\u001b[1;32m    220\u001b[0m                 create_graph=create_graph)\n\u001b[0;32m--> 221\u001b[0;31m         \u001b[0mtorch\u001b[0m\u001b[0;34m.\u001b[0m\u001b[0mautograd\u001b[0m\u001b[0;34m.\u001b[0m\u001b[0mbackward\u001b[0m\u001b[0;34m(\u001b[0m\u001b[0mself\u001b[0m\u001b[0;34m,\u001b[0m \u001b[0mgradient\u001b[0m\u001b[0;34m,\u001b[0m \u001b[0mretain_graph\u001b[0m\u001b[0;34m,\u001b[0m \u001b[0mcreate_graph\u001b[0m\u001b[0;34m)\u001b[0m\u001b[0;34m\u001b[0m\u001b[0;34m\u001b[0m\u001b[0m\n\u001b[0m\u001b[1;32m    222\u001b[0m \u001b[0;34m\u001b[0m\u001b[0m\n\u001b[1;32m    223\u001b[0m     \u001b[0;32mdef\u001b[0m \u001b[0mregister_hook\u001b[0m\u001b[0;34m(\u001b[0m\u001b[0mself\u001b[0m\u001b[0;34m,\u001b[0m \u001b[0mhook\u001b[0m\u001b[0;34m)\u001b[0m\u001b[0;34m:\u001b[0m\u001b[0;34m\u001b[0m\u001b[0;34m\u001b[0m\u001b[0m\n",
      "\u001b[0;32m/usr/local/lib/python3.6/dist-packages/torch/autograd/__init__.py\u001b[0m in \u001b[0;36mbackward\u001b[0;34m(tensors, grad_tensors, retain_graph, create_graph, grad_variables)\u001b[0m\n\u001b[1;32m    130\u001b[0m     Variable._execution_engine.run_backward(\n\u001b[1;32m    131\u001b[0m         \u001b[0mtensors\u001b[0m\u001b[0;34m,\u001b[0m \u001b[0mgrad_tensors_\u001b[0m\u001b[0;34m,\u001b[0m \u001b[0mretain_graph\u001b[0m\u001b[0;34m,\u001b[0m \u001b[0mcreate_graph\u001b[0m\u001b[0;34m,\u001b[0m\u001b[0;34m\u001b[0m\u001b[0;34m\u001b[0m\u001b[0m\n\u001b[0;32m--> 132\u001b[0;31m         allow_unreachable=True)  # allow_unreachable flag\n\u001b[0m\u001b[1;32m    133\u001b[0m \u001b[0;34m\u001b[0m\u001b[0m\n\u001b[1;32m    134\u001b[0m \u001b[0;34m\u001b[0m\u001b[0m\n",
      "\u001b[0;31mKeyboardInterrupt\u001b[0m: "
     ]
    }
   ],
   "source": [
    "for epoch in range(epochs):\n",
    "    loss, train_output, train_y  = train()\n",
    "    \n",
    "    test_output, test_y = test()\n",
    "    \n",
    "    train_RMSE = mean_squared_error(train_output*ma, train_y*ma, squared=False)\n",
    "    test_RMSE = mean_squared_error(test_output*ma, test_y*ma, squared=False)\n",
    "    \n",
    "    train_MAE = mean_absolute_error(train_output*ma, train_y*ma)\n",
    "    test_MAE = mean_absolute_error(test_output*ma, test_y*ma)\n",
    "    \n",
    "    print(f'epoch:{epoch+1}\\ntrain loss:{train_RMSE},test loss:{test_RMSE}\\\n",
    "    \\ntrain MAE(mean):{train_MAE},test MAE(mean):{test_MAE}')\n",
    "    "
   ]
  },
  {
   "cell_type": "code",
   "execution_count": null,
   "metadata": {},
   "outputs": [],
   "source": []
  }
 ],
 "metadata": {
  "kernelspec": {
   "display_name": "Python 3",
   "language": "python",
   "name": "python3"
  },
  "language_info": {
   "codemirror_mode": {
    "name": "ipython",
    "version": 3
   },
   "file_extension": ".py",
   "mimetype": "text/x-python",
   "name": "python",
   "nbconvert_exporter": "python",
   "pygments_lexer": "ipython3",
   "version": "3.6.9"
  }
 },
 "nbformat": 4,
 "nbformat_minor": 5
}
