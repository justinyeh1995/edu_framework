{
 "cells": [
  {
   "cell_type": "code",
   "execution_count": 10,
   "metadata": {},
   "outputs": [],
   "source": [
    "import os\n",
    "import numpy as np\n",
    "import pandas as pd\n",
    "from tqdm import tqdm, trange\n",
    "\n",
    "import torch\n",
    "from torch_geometric.nn import GAE\n",
    "from torch_geometric.utils import is_undirected, to_undirected\n",
    "\n",
    "\n",
    "from torch.utils.data import DataLoader, TensorDataset\n",
    "\n",
    "from model.GCN_GRU import GCN_GRU, Decoder\n",
    "from utils import *"
   ]
  },
  {
   "cell_type": "code",
   "execution_count": 2,
   "metadata": {},
   "outputs": [],
   "source": [
    "shop_col = 'stonc_6_label'\n",
    "device = torch.device('cuda:1' if torch.cuda.is_available() else 'cpu')\n",
    "\n",
    "embedding_dim = 64\n",
    "entity_dim = 8\n",
    "epochs = 1000\n",
    "learning_rate = 0.0001\n",
    "batch_size = 1000\n",
    "\n",
    "weights_path = 'GCN_GRU_Link_Prediction'"
   ]
  },
  {
   "cell_type": "code",
   "execution_count": 3,
   "metadata": {},
   "outputs": [],
   "source": [
    "data_path = './data'\n",
    "\n",
    "chid_dict_file = 'sample/sample_50k_idx_map.npy'\n",
    "cdtx_file = 'sample/sample_50k_cdtx.csv'\n",
    "cust_file = 'preprocessed/df_cust_log_without_shop.csv'\n",
    "\n",
    "chid_path = os.path.join(data_path, chid_dict_file)\n",
    "cdtx_path = os.path.join(data_path, cdtx_file)\n",
    "cust_path = os.path.join(data_path, cust_file)"
   ]
  },
  {
   "cell_type": "code",
   "execution_count": 4,
   "metadata": {},
   "outputs": [
    {
     "name": "stdout",
     "output_type": "stream",
     "text": [
      "Start reading cdtx file...\n",
      "Finish reading cdtx file !\n",
      "Start reading cust file...\n",
      "Finish reading cust file !\n",
      "Start maping encodeing...\n",
      "Finish !!\n"
     ]
    }
   ],
   "source": [
    "df_cdtx, df_cust, n_users, n_shops = read_sample_files(cdtx_path,\n",
    "                                                       cust_path,\n",
    "                                                       chid_path,\n",
    "                                                       shop_col)"
   ]
  },
  {
   "cell_type": "code",
   "execution_count": 12,
   "metadata": {},
   "outputs": [],
   "source": [
    "list_months = sorted(df_cdtx.csmdt.unique())\n",
    "ma = np.log(df_cdtx.groupby(['chid', 'csmdt']).objam.sum().max())\n",
    "\n",
    "ignore_cols = ['chid', 'data_dt']\n",
    "category_cols = [f'category_{i+1}' for i in range(6)]\n",
    "numeric_cols = list(set(df_cust.columns) - set(category_cols) - set(ignore_cols))\n",
    "\n",
    "emb_dims = list(df_cust[category_cols].nunique())\n",
    "\n",
    "input_dim = len(category_cols)*entity_dim + len(numeric_cols)"
   ]
  },
  {
   "cell_type": "code",
   "execution_count": 7,
   "metadata": {},
   "outputs": [
    {
     "name": "stderr",
     "output_type": "stream",
     "text": [
      "100%|██████████| 25/25 [00:18<00:00,  1.35it/s]\n"
     ]
    }
   ],
   "source": [
    "edge_dict = {}\n",
    "edge_weights_dict = {}\n",
    "for month in tqdm(list_months):\n",
    "    edges = df_cdtx[df_cdtx.csmdt==month].groupby(['chid', shop_col]).objam.sum()\n",
    "    edge_pairs = np.stack([np.array(i) for i in edges.index]).T\n",
    "    edge_pairs = torch.LongTensor(edge_pairs)\n",
    "    \n",
    "    edge_weights = np.log(edges.values+1)\n",
    "    edge_weights = torch.Tensor(edge_weights)\n",
    "    \n",
    "    if not is_undirected(edge_pairs):\n",
    "        edge_pairs = torch.cat([edge_pairs, edge_pairs[[1,0],:]], -1)\n",
    "        edge_weights = edge_weights.repeat(2)\n",
    "    \n",
    "    edge_dict[month] = edge_pairs\n",
    "    edge_weights_dict[month] = edge_weights"
   ]
  },
  {
   "cell_type": "code",
   "execution_count": 14,
   "metadata": {},
   "outputs": [],
   "source": [
    "model = GAE(GCN_GRU(input_dim, embedding_dim, entity_dim, emb_dims), Decoder(embedding_dim, 6)).to(device)\n",
    "\n",
    "x_num = []\n",
    "x_cat = []\n",
    "y = []\n",
    "for i in list_months:\n",
    "    cust_num_features = df_cust[df_cust.data_dt==i][numeric_cols].to_numpy()\n",
    "    cust_num_features = torch.Tensor(cust_num_features)\n",
    "    cust_cat_features = df_cust[df_cust.data_dt==i][category_cols].to_numpy()\n",
    "    cust_cat_features = torch.LongTensor(cust_cat_features)\n",
    "    \n",
    "    shop_num_features = torch.zeros(n_shops, cust_num_features.shape[1])\n",
    "    shop_cat_features = torch.zeros(n_shops, cust_cat_features.shape[1]).long()\n",
    "    \n",
    "    temp_y = np.e ** (df_cust[df_cust.data_dt==i]['objam'].to_numpy()*ma)\n",
    "    ind1 = (temp_y >0) & (temp_y <= 1e4)\n",
    "    ind2 = (temp_y >1e4) & (temp_y <= 5e4)\n",
    "    ind3 = (temp_y >5e4) & (temp_y <= 1e5)\n",
    "    ind4 = (temp_y >1e5) & (temp_y <= 3e5)\n",
    "    ind5 = (temp_y >3e5)\n",
    "\n",
    "    temp_y[ind1] = 1\n",
    "    temp_y[ind2] = 2\n",
    "    temp_y[ind3] = 3\n",
    "    temp_y[ind4] = 4\n",
    "    temp_y[ind5] = 5\n",
    "    \n",
    "    x_num.append(torch.cat([cust_num_features, shop_num_features], 0).to(device))\n",
    "    x_cat.append(torch.cat([cust_cat_features, shop_cat_features], 0).to(device))\n",
    "    y.append(torch.LongTensor(temp_y).to(device))\n",
    "    \n",
    "optimizer = torch.optim.AdamW(model.parameters(), lr=learning_rate)\n",
    "pos_edge_index = [i.to(device) for i in edge_dict.values()]\n",
    "pos_edge_weigts = [i.to(device) for i in edge_weights_dict.values()]\n",
    "criterion = torch.nn.CrossEntropyLoss()"
   ]
  },
  {
   "cell_type": "code",
   "execution_count": 15,
   "metadata": {},
   "outputs": [],
   "source": [
    "def train():\n",
    "    model.train()\n",
    "    train_output = []\n",
    "    train_y = np.array([])\n",
    "    for i in tqdm(range(10)):\n",
    "        \n",
    "        train_dataset = TensorDataset(y[i+12])\n",
    "        train_loader = DataLoader(dataset=train_dataset, shuffle=False, batch_size=batch_size)\n",
    "        \n",
    "        for j, true_y in enumerate(train_loader):\n",
    "            optimizer.zero_grad()\n",
    "            z = model.encode(x_cat[i:i+12], x_num[i:i+12], pos_edge_index[i:i+12], pos_edge_weigts[i:i+12])\n",
    "            output = model.decode(z[j*batch_size:(j+1)*batch_size]).sigmoid()\n",
    "            loss = criterion(output, true_y[0])\n",
    "            train_output.append(output.cpu().detach().numpy())\n",
    "            train_y = np.concatenate([train_y, true_y[0].cpu().detach().numpy().reshape(-1)])\n",
    "        \n",
    "            loss.backward(retain_graph=True)\n",
    "            optimizer.step()\n",
    "        \n",
    "            \n",
    "    return loss/10, train_output, train_y"
   ]
  },
  {
   "cell_type": "code",
   "execution_count": 16,
   "metadata": {},
   "outputs": [],
   "source": [
    "def test():\n",
    "    model.eval()\n",
    "    test_output = []\n",
    "    test_y = np.array([])\n",
    "    \n",
    "    for i in range(10,12):\n",
    "\n",
    "        with torch.no_grad():\n",
    "            z = model.encode(x_cat[i:i+12], x_num[i:i+12], pos_edge_index[i:i+12], pos_edge_weigts[i:i+12])\n",
    "            output = model.decode(z[:n_users]).sigmoid()\n",
    "            test_output.append(output.cpu().detach().numpy())\n",
    "            test_y = np.concatenate([test_y, y[i+12].cpu().detach().numpy().reshape(-1)])\n",
    "            \n",
    "    return test_output, test_y"
   ]
  },
  {
   "cell_type": "code",
   "execution_count": null,
   "metadata": {},
   "outputs": [
    {
     "name": "stderr",
     "output_type": "stream",
     "text": [
      " 90%|█████████ | 9/10 [01:51<00:12, 12.42s/it]"
     ]
    }
   ],
   "source": [
    "for epoch in range(epochs):\n",
    "    loss, train_output, train_y  = train()\n",
    "    \n",
    "    test_output, test_y = test()\n",
    "    \n",
    "    print('train',f1_score(train_y, np.argmax(np.concatenate(train_output,0),-1), average='macro'))\n",
    "    print('test', f1_score(test_y, np.argmax(np.concatenate(test_output,0),-1), average='macro'))"
   ]
  },
  {
   "cell_type": "code",
   "execution_count": null,
   "metadata": {},
   "outputs": [],
   "source": [
    "torch.save(model.encoder.state_dict(), weights_path)"
   ]
  }
 ],
 "metadata": {
  "kernelspec": {
   "display_name": "Python 3",
   "language": "python",
   "name": "python3"
  },
  "language_info": {
   "codemirror_mode": {
    "name": "ipython",
    "version": 3
   },
   "file_extension": ".py",
   "mimetype": "text/x-python",
   "name": "python",
   "nbconvert_exporter": "python",
   "pygments_lexer": "ipython3",
   "version": "3.6.9"
  }
 },
 "nbformat": 4,
 "nbformat_minor": 2
}
