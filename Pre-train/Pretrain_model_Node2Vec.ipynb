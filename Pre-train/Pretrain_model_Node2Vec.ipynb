{
 "cells": [
  {
   "cell_type": "code",
   "execution_count": 1,
   "metadata": {},
   "outputs": [
    {
     "name": "stderr",
     "output_type": "stream",
     "text": [
      "/home/wcks13589/.local/lib/python3.6/site-packages/numba/core/errors.py:154: UserWarning: Insufficiently recent colorama version found. Numba requires colorama >= 0.3.9\n",
      "  warnings.warn(msg)\n"
     ]
    }
   ],
   "source": [
    "import torch\n",
    "import numpy as np\n",
    "import pandas as pd\n",
    "import scipy.sparse as sp\n",
    "import matplotlib.pyplot as plt\n",
    "from tqdm.notebook import tqdm\n",
    "from sklearn.manifold import TSNE\n",
    "from torch_geometric.nn import Node2Vec"
   ]
  },
  {
   "cell_type": "code",
   "execution_count": 2,
   "metadata": {},
   "outputs": [],
   "source": [
    "data = pd.read_csv('./data/sample_zip_if_cca_cdtx0001_hist.csv').sort_values(by=['csmdt'])"
   ]
  },
  {
   "cell_type": "code",
   "execution_count": 3,
   "metadata": {},
   "outputs": [],
   "source": [
    "idx_map = np.load('./data/sample_idx_map.npy', allow_pickle=True).item()"
   ]
  },
  {
   "cell_type": "code",
   "execution_count": 4,
   "metadata": {},
   "outputs": [],
   "source": [
    "data = data[data.csmdt < '2019-01-01']"
   ]
  },
  {
   "cell_type": "code",
   "execution_count": 5,
   "metadata": {},
   "outputs": [
    {
     "data": {
      "text/html": [
       "<div>\n",
       "<style scoped>\n",
       "    .dataframe tbody tr th:only-of-type {\n",
       "        vertical-align: middle;\n",
       "    }\n",
       "\n",
       "    .dataframe tbody tr th {\n",
       "        vertical-align: top;\n",
       "    }\n",
       "\n",
       "    .dataframe thead th {\n",
       "        text-align: right;\n",
       "    }\n",
       "</style>\n",
       "<table border=\"1\" class=\"dataframe\">\n",
       "  <thead>\n",
       "    <tr style=\"text-align: right;\">\n",
       "      <th></th>\n",
       "      <th>bnsfg</th>\n",
       "      <th>bnspt</th>\n",
       "      <th>chid</th>\n",
       "      <th>csmdt</th>\n",
       "      <th>iterm</th>\n",
       "      <th>mcc</th>\n",
       "      <th>objam</th>\n",
       "      <th>scity</th>\n",
       "      <th>tcode</th>\n",
       "      <th>hcefg</th>\n",
       "    </tr>\n",
       "  </thead>\n",
       "  <tbody>\n",
       "    <tr>\n",
       "      <th>0</th>\n",
       "      <td>N</td>\n",
       "      <td>0</td>\n",
       "      <td>++OwUlLSxwS6YnHcDeLacA==</td>\n",
       "      <td>2018-01-01</td>\n",
       "      <td>0</td>\n",
       "      <td>5411</td>\n",
       "      <td>151</td>\n",
       "      <td>TAOYUAN</td>\n",
       "      <td>5</td>\n",
       "      <td>NaN</td>\n",
       "    </tr>\n",
       "    <tr>\n",
       "      <th>5025</th>\n",
       "      <td>N</td>\n",
       "      <td>0</td>\n",
       "      <td>dZsmhKhBUKkTsTTMREiUOw==</td>\n",
       "      <td>2018-01-01</td>\n",
       "      <td>0</td>\n",
       "      <td>5411</td>\n",
       "      <td>6651</td>\n",
       "      <td>TAICHUNG</td>\n",
       "      <td>5</td>\n",
       "      <td>NaN</td>\n",
       "    </tr>\n",
       "    <tr>\n",
       "      <th>5024</th>\n",
       "      <td>N</td>\n",
       "      <td>0</td>\n",
       "      <td>dZsmhKhBUKkTsTTMREiUOw==</td>\n",
       "      <td>2018-01-01</td>\n",
       "      <td>0</td>\n",
       "      <td>5309</td>\n",
       "      <td>22100</td>\n",
       "      <td>TAOYUAN CITY</td>\n",
       "      <td>5</td>\n",
       "      <td>NaN</td>\n",
       "    </tr>\n",
       "    <tr>\n",
       "      <th>5023</th>\n",
       "      <td>N</td>\n",
       "      <td>0</td>\n",
       "      <td>dZGKpSJ06HQn1XP6lkN8hw==</td>\n",
       "      <td>2018-01-01</td>\n",
       "      <td>0</td>\n",
       "      <td>5812</td>\n",
       "      <td>4269</td>\n",
       "      <td>TAIPEI</td>\n",
       "      <td>5</td>\n",
       "      <td>NaN</td>\n",
       "    </tr>\n",
       "    <tr>\n",
       "      <th>5022</th>\n",
       "      <td>N</td>\n",
       "      <td>0</td>\n",
       "      <td>dZGKpSJ06HQn1XP6lkN8hw==</td>\n",
       "      <td>2018-01-01</td>\n",
       "      <td>0</td>\n",
       "      <td>5311</td>\n",
       "      <td>2356</td>\n",
       "      <td>TAIPEI</td>\n",
       "      <td>5</td>\n",
       "      <td>NaN</td>\n",
       "    </tr>\n",
       "    <tr>\n",
       "      <th>...</th>\n",
       "      <td>...</td>\n",
       "      <td>...</td>\n",
       "      <td>...</td>\n",
       "      <td>...</td>\n",
       "      <td>...</td>\n",
       "      <td>...</td>\n",
       "      <td>...</td>\n",
       "      <td>...</td>\n",
       "      <td>...</td>\n",
       "      <td>...</td>\n",
       "    </tr>\n",
       "    <tr>\n",
       "      <th>2779259</th>\n",
       "      <td>N</td>\n",
       "      <td>0</td>\n",
       "      <td>JiJSWYYgaVvtzuNSGaShPg==</td>\n",
       "      <td>2018-12-31</td>\n",
       "      <td>0</td>\n",
       "      <td>5399</td>\n",
       "      <td>7176</td>\n",
       "      <td>TAIPEI</td>\n",
       "      <td>5</td>\n",
       "      <td>NaN</td>\n",
       "    </tr>\n",
       "    <tr>\n",
       "      <th>2779260</th>\n",
       "      <td>N</td>\n",
       "      <td>0</td>\n",
       "      <td>Jien5gG13Tgo6l7wXeRotQ==</td>\n",
       "      <td>2018-12-31</td>\n",
       "      <td>0</td>\n",
       "      <td>4112</td>\n",
       "      <td>8143</td>\n",
       "      <td>TAITUNG</td>\n",
       "      <td>5</td>\n",
       "      <td>NaN</td>\n",
       "    </tr>\n",
       "    <tr>\n",
       "      <th>2779263</th>\n",
       "      <td>N</td>\n",
       "      <td>0</td>\n",
       "      <td>JjvR0jPqSwfPUTd9JlwHFA==</td>\n",
       "      <td>2018-12-31</td>\n",
       "      <td>0</td>\n",
       "      <td>5541</td>\n",
       "      <td>5580</td>\n",
       "      <td>YUNLIN</td>\n",
       "      <td>5</td>\n",
       "      <td>NaN</td>\n",
       "    </tr>\n",
       "    <tr>\n",
       "      <th>2779262</th>\n",
       "      <td>N</td>\n",
       "      <td>0</td>\n",
       "      <td>JjqLTtNr5B/eihVF4VKFyQ==</td>\n",
       "      <td>2018-12-31</td>\n",
       "      <td>0</td>\n",
       "      <td>5811</td>\n",
       "      <td>3250</td>\n",
       "      <td>CHIAYI</td>\n",
       "      <td>5</td>\n",
       "      <td>NaN</td>\n",
       "    </tr>\n",
       "    <tr>\n",
       "      <th>2779258</th>\n",
       "      <td>N</td>\n",
       "      <td>0</td>\n",
       "      <td>JgIyRlebhgFbwKCzx4o1hQ==</td>\n",
       "      <td>2018-12-31</td>\n",
       "      <td>0</td>\n",
       "      <td>5541</td>\n",
       "      <td>4056</td>\n",
       "      <td>KAOHSIUNG</td>\n",
       "      <td>5</td>\n",
       "      <td>NaN</td>\n",
       "    </tr>\n",
       "  </tbody>\n",
       "</table>\n",
       "<p>2785843 rows × 10 columns</p>\n",
       "</div>"
      ],
      "text/plain": [
       "        bnsfg  bnspt                      chid       csmdt  iterm   mcc  \\\n",
       "0           N      0  ++OwUlLSxwS6YnHcDeLacA==  2018-01-01      0  5411   \n",
       "5025        N      0  dZsmhKhBUKkTsTTMREiUOw==  2018-01-01      0  5411   \n",
       "5024        N      0  dZsmhKhBUKkTsTTMREiUOw==  2018-01-01      0  5309   \n",
       "5023        N      0  dZGKpSJ06HQn1XP6lkN8hw==  2018-01-01      0  5812   \n",
       "5022        N      0  dZGKpSJ06HQn1XP6lkN8hw==  2018-01-01      0  5311   \n",
       "...       ...    ...                       ...         ...    ...   ...   \n",
       "2779259     N      0  JiJSWYYgaVvtzuNSGaShPg==  2018-12-31      0  5399   \n",
       "2779260     N      0  Jien5gG13Tgo6l7wXeRotQ==  2018-12-31      0  4112   \n",
       "2779263     N      0  JjvR0jPqSwfPUTd9JlwHFA==  2018-12-31      0  5541   \n",
       "2779262     N      0  JjqLTtNr5B/eihVF4VKFyQ==  2018-12-31      0  5811   \n",
       "2779258     N      0  JgIyRlebhgFbwKCzx4o1hQ==  2018-12-31      0  5541   \n",
       "\n",
       "         objam         scity  tcode hcefg  \n",
       "0          151       TAOYUAN      5   NaN  \n",
       "5025      6651      TAICHUNG      5   NaN  \n",
       "5024     22100  TAOYUAN CITY      5   NaN  \n",
       "5023      4269        TAIPEI      5   NaN  \n",
       "5022      2356        TAIPEI      5   NaN  \n",
       "...        ...           ...    ...   ...  \n",
       "2779259   7176        TAIPEI      5   NaN  \n",
       "2779260   8143       TAITUNG      5   NaN  \n",
       "2779263   5580        YUNLIN      5   NaN  \n",
       "2779262   3250        CHIAYI      5   NaN  \n",
       "2779258   4056     KAOHSIUNG      5   NaN  \n",
       "\n",
       "[2785843 rows x 10 columns]"
      ]
     },
     "execution_count": 5,
     "metadata": {},
     "output_type": "execute_result"
    }
   ],
   "source": [
    "data"
   ]
  },
  {
   "cell_type": "code",
   "execution_count": 6,
   "metadata": {},
   "outputs": [
    {
     "data": {
      "application/vnd.jupyter.widget-view+json": {
       "model_id": "063994d1a6b14247bb0de6e8cc4b99d4",
       "version_major": 2,
       "version_minor": 0
      },
      "text/plain": [
       "HBox(children=(HTML(value=''), FloatProgress(value=1.0, bar_style='info', layout=Layout(width='20px'), max=1.0…"
      ]
     },
     "metadata": {},
     "output_type": "display_data"
    },
    {
     "name": "stdout",
     "output_type": "stream",
     "text": [
      "\n"
     ]
    }
   ],
   "source": [
    "l = len(idx_map)\n",
    "for i, j  in tqdm(enumerate(set(data.mcc))):\n",
    "    idx_map[j] = i+l"
   ]
  },
  {
   "cell_type": "code",
   "execution_count": 7,
   "metadata": {},
   "outputs": [],
   "source": [
    "pairs = data.iloc[:,[2,5]].drop_duplicates()\n",
    "edges_unordered = pairs.to_numpy()\n",
    "edges = np.array(list(map(idx_map.get, edges_unordered.flatten())),\n",
    "                 dtype=np.int32).reshape(edges_unordered.shape)\n",
    "adj = sp.coo_matrix((np.ones(edges.shape[0]), (edges[:, 0], edges[:, 1])),\n",
    "                    shape=(len(idx_map), len(idx_map)),\n",
    "                    dtype=np.float32)\n",
    "adj = adj + adj.T.multiply(adj.T > adj) - adj.multiply(adj.T > adj)"
   ]
  },
  {
   "cell_type": "code",
   "execution_count": 8,
   "metadata": {},
   "outputs": [
    {
     "data": {
      "text/plain": [
       "(518928, 2)"
      ]
     },
     "execution_count": 8,
     "metadata": {},
     "output_type": "execute_result"
    }
   ],
   "source": [
    "edges.shape"
   ]
  },
  {
   "cell_type": "code",
   "execution_count": 9,
   "metadata": {},
   "outputs": [],
   "source": [
    "new_edges = []\n",
    "for i in edges:\n",
    "    new_edges.append(np.array([i[1],i[0]]))\n",
    "edges = np.append(edges, np.array(new_edges), axis = 0)"
   ]
  },
  {
   "cell_type": "code",
   "execution_count": 10,
   "metadata": {},
   "outputs": [
    {
     "data": {
      "text/plain": [
       "(1037856, 2)"
      ]
     },
     "execution_count": 10,
     "metadata": {},
     "output_type": "execute_result"
    }
   ],
   "source": [
    "edges.shape"
   ]
  },
  {
   "cell_type": "code",
   "execution_count": 11,
   "metadata": {},
   "outputs": [],
   "source": [
    "device = 'cuda:1' if torch.cuda.is_available() else 'cpu'\n",
    "model = Node2Vec(torch.Tensor(edges.T).long(), embedding_dim=64, walk_length=2,\n",
    "                 context_size=2, walks_per_node=10,\n",
    "                 num_negative_samples=1, p=1, q=1, sparse=True).to(device)"
   ]
  },
  {
   "cell_type": "code",
   "execution_count": 12,
   "metadata": {},
   "outputs": [],
   "source": [
    "loader = model.loader(batch_size=128, shuffle=True, num_workers=4)\n",
    "optimizer = torch.optim.SparseAdam(list(model.parameters()), lr=0.01)"
   ]
  },
  {
   "cell_type": "code",
   "execution_count": null,
   "metadata": {},
   "outputs": [],
   "source": [
    "model.eval()\n",
    "z = model(torch.arange(adj.shape[0], device=device))\n",
    "z = TSNE(n_components=2).fit_transform(z.detach().cpu().numpy())\n",
    "colors = ['#065535', '#bada55']"
   ]
  },
  {
   "cell_type": "code",
   "execution_count": null,
   "metadata": {},
   "outputs": [],
   "source": [
    "plt.figure(figsize=(8, 8))\n",
    "plt.scatter(z[:50000, 0], z[:50000, 1], s=20, color=colors[0])\n",
    "plt.scatter(z[50000:, 0], z[50000:, 1], s=20, color=colors[1])"
   ]
  },
  {
   "cell_type": "code",
   "execution_count": 13,
   "metadata": {},
   "outputs": [],
   "source": [
    "def train():\n",
    "    model.train()\n",
    "    total_loss = 0\n",
    "    for pos_rw, neg_rw in loader:\n",
    "        optimizer.zero_grad()\n",
    "        loss = model.loss(pos_rw.to(device), neg_rw.to(device))\n",
    "        loss.backward()\n",
    "        optimizer.step()\n",
    "        total_loss += loss.item()\n",
    "    return total_loss / len(loader)"
   ]
  },
  {
   "cell_type": "code",
   "execution_count": 18,
   "metadata": {},
   "outputs": [
    {
     "name": "stdout",
     "output_type": "stream",
     "text": [
      "Epoch: 01, Loss: 0.7519\n",
      "Epoch: 02, Loss: 0.7504\n",
      "Epoch: 03, Loss: 0.7507\n",
      "Epoch: 04, Loss: 0.7492\n",
      "Epoch: 05, Loss: 0.7484\n",
      "Epoch: 06, Loss: 0.7482\n",
      "Epoch: 07, Loss: 0.7495\n",
      "Epoch: 08, Loss: 0.7473\n",
      "Epoch: 09, Loss: 0.7488\n",
      "Epoch: 10, Loss: 0.7469\n",
      "Epoch: 11, Loss: 0.7462\n",
      "Epoch: 12, Loss: 0.7468\n",
      "Epoch: 13, Loss: 0.7444\n",
      "Epoch: 14, Loss: 0.7440\n",
      "Epoch: 15, Loss: 0.7433\n",
      "Epoch: 16, Loss: 0.7431\n",
      "Epoch: 17, Loss: 0.7422\n",
      "Epoch: 18, Loss: 0.7412\n",
      "Epoch: 19, Loss: 0.7412\n",
      "Epoch: 20, Loss: 0.7417\n",
      "Epoch: 21, Loss: 0.7403\n",
      "Epoch: 22, Loss: 0.7416\n",
      "Epoch: 23, Loss: 0.7404\n",
      "Epoch: 24, Loss: 0.7395\n",
      "Epoch: 25, Loss: 0.7390\n",
      "Epoch: 26, Loss: 0.7383\n",
      "Epoch: 27, Loss: 0.7389\n",
      "Epoch: 28, Loss: 0.7384\n",
      "Epoch: 29, Loss: 0.7379\n",
      "Epoch: 30, Loss: 0.7363\n",
      "Epoch: 31, Loss: 0.7368\n",
      "Epoch: 32, Loss: 0.7365\n",
      "Epoch: 33, Loss: 0.7358\n",
      "Epoch: 34, Loss: 0.7363\n",
      "Epoch: 35, Loss: 0.7346\n",
      "Epoch: 36, Loss: 0.7354\n",
      "Epoch: 37, Loss: 0.7362\n",
      "Epoch: 38, Loss: 0.7349\n",
      "Epoch: 39, Loss: 0.7336\n",
      "Epoch: 40, Loss: 0.7355\n",
      "Epoch: 41, Loss: 0.7351\n",
      "Epoch: 42, Loss: 0.7341\n",
      "Epoch: 43, Loss: 0.7349\n",
      "Epoch: 44, Loss: 0.7349\n",
      "Epoch: 45, Loss: 0.7335\n",
      "Epoch: 46, Loss: 0.7325\n",
      "Epoch: 47, Loss: 0.7332\n",
      "Epoch: 48, Loss: 0.7318\n",
      "Epoch: 49, Loss: 0.7328\n",
      "Epoch: 50, Loss: 0.7328\n",
      "Epoch: 51, Loss: 0.7313\n",
      "Epoch: 52, Loss: 0.7316\n",
      "Epoch: 53, Loss: 0.7318\n",
      "Epoch: 54, Loss: 0.7318\n",
      "Epoch: 55, Loss: 0.7321\n",
      "Epoch: 56, Loss: 0.7305\n",
      "Epoch: 57, Loss: 0.7317\n",
      "Epoch: 58, Loss: 0.7308\n",
      "Epoch: 59, Loss: 0.7296\n",
      "Epoch: 60, Loss: 0.7301\n",
      "Epoch: 61, Loss: 0.7302\n",
      "Epoch: 62, Loss: 0.7314\n",
      "Epoch: 63, Loss: 0.7298\n",
      "Epoch: 64, Loss: 0.7288\n",
      "Epoch: 65, Loss: 0.7301\n",
      "Epoch: 66, Loss: 0.7308\n",
      "Epoch: 67, Loss: 0.7296\n",
      "Epoch: 68, Loss: 0.7291\n",
      "Epoch: 69, Loss: 0.7292\n",
      "Epoch: 70, Loss: 0.7291\n",
      "Epoch: 71, Loss: 0.7326\n",
      "Epoch: 72, Loss: 0.7288\n",
      "Epoch: 73, Loss: 0.7288\n",
      "Epoch: 74, Loss: 0.7285\n",
      "Epoch: 75, Loss: 0.7302\n",
      "Epoch: 76, Loss: 0.7277\n",
      "Epoch: 77, Loss: 0.7287\n",
      "Epoch: 78, Loss: 0.7288\n",
      "Epoch: 79, Loss: 0.7283\n",
      "Epoch: 80, Loss: 0.7284\n",
      "Epoch: 81, Loss: 0.7270\n",
      "Epoch: 82, Loss: 0.7273\n",
      "Epoch: 83, Loss: 0.7277\n",
      "Epoch: 84, Loss: 0.7275\n",
      "Epoch: 85, Loss: 0.7268\n",
      "Epoch: 86, Loss: 0.7293\n",
      "Epoch: 87, Loss: 0.7268\n",
      "Epoch: 88, Loss: 0.7268\n",
      "Epoch: 89, Loss: 0.7263\n",
      "Epoch: 90, Loss: 0.7265\n",
      "Epoch: 91, Loss: 0.7280\n",
      "Epoch: 92, Loss: 0.7272\n",
      "Epoch: 93, Loss: 0.7260\n",
      "Epoch: 94, Loss: 0.7276\n",
      "Epoch: 95, Loss: 0.7275\n",
      "Epoch: 96, Loss: 0.7279\n",
      "Epoch: 97, Loss: 0.7275\n",
      "Epoch: 98, Loss: 0.7252\n",
      "Epoch: 99, Loss: 0.7270\n",
      "Epoch: 100, Loss: 0.7264\n",
      "Epoch: 101, Loss: 0.7267\n",
      "193.30981636047363\n"
     ]
    }
   ],
   "source": [
    "import time\n",
    "start = time.time()\n",
    "\n",
    "for epoch in range(1, 102):\n",
    "    loss = train()\n",
    "    print(f'Epoch: {epoch:02d}, Loss: {loss:.4f}')\n",
    "print(time.time()-start)"
   ]
  },
  {
   "cell_type": "code",
   "execution_count": 19,
   "metadata": {},
   "outputs": [],
   "source": [
    "model.eval()\n",
    "z = model(torch.arange(adj.shape[0], device=device))\n",
    "#z = TSNE(n_components=2).fit_transform(z.detach().cpu().numpy())"
   ]
  },
  {
   "cell_type": "code",
   "execution_count": 27,
   "metadata": {},
   "outputs": [
    {
     "data": {
      "text/plain": [
       "<matplotlib.collections.PathCollection at 0x7f7e218297b8>"
      ]
     },
     "execution_count": 27,
     "metadata": {},
     "output_type": "execute_result"
    },
    {
     "data": {
      "image/png": "[encoded data removed]",
      "text/plain": [
       "<Figure size 576x576 with 1 Axes>"
      ]
     },
     "metadata": {
      "needs_background": "light"
     },
     "output_type": "display_data"
    }
   ],
   "source": [
    "colors = ['#065535', '#bada55']\n",
    "plt.figure(figsize=(8, 8))\n",
    "plt.scatter(z[:50000, 0], z[:50000, 1], s=20, color=colors[0])\n",
    "plt.scatter(z[50000:, 0], z[50000:, 1], s=20, color=colors[1])"
   ]
  },
  {
   "cell_type": "code",
   "execution_count": 20,
   "metadata": {},
   "outputs": [],
   "source": [
    "np.save('node2vec_0112.npz',z.detach().cpu().numpy())"
   ]
  },
  {
   "cell_type": "code",
   "execution_count": 25,
   "metadata": {},
   "outputs": [],
   "source": [
    "np.save('sample_cust_mcc_idx_map', idx_map)"
   ]
  }
 ],
 "metadata": {
  "kernelspec": {
   "display_name": "Python 3",
   "language": "python",
   "name": "python3"
  },
  "language_info": {
   "codemirror_mode": {
    "name": "ipython",
    "version": 3
   },
   "file_extension": ".py",
   "mimetype": "text/x-python",
   "name": "python",
   "nbconvert_exporter": "python",
   "pygments_lexer": "ipython3",
   "version": "3.6.9"
  }
 },
 "nbformat": 4,
 "nbformat_minor": 2
}
