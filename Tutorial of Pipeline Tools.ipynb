{
 "cells": [
  {
   "cell_type": "markdown",
   "metadata": {},
   "source": [
    "# Simple Example "
   ]
  },
  {
   "cell_type": "code",
   "execution_count": null,
   "metadata": {
    "ExecuteTime": {
     "end_time": "2021-08-02T05:36:06.676652Z",
     "start_time": "2021-08-02T05:36:06.243023Z"
    }
   },
   "outputs": [],
   "source": [
    "from common.ETLBase import PipelineBuilder, PipeConfigBuilder"
   ]
  },
  {
   "cell_type": "code",
   "execution_count": null,
   "metadata": {
    "ExecuteTime": {
     "end_time": "2021-08-01T05:17:19.908140Z",
     "start_time": "2021-08-01T05:17:19.905359Z"
    }
   },
   "outputs": [],
   "source": [
    "config = PipeConfigBuilder()\n",
    "pipe = PipelineBuilder(config)"
   ]
  },
  {
   "cell_type": "code",
   "execution_count": null,
   "metadata": {
    "ExecuteTime": {
     "end_time": "2021-08-01T05:17:23.360873Z",
     "start_time": "2021-08-01T05:17:23.354701Z"
    }
   },
   "outputs": [],
   "source": [
    "config.setups(a=1,b=9)"
   ]
  },
  {
   "cell_type": "code",
   "execution_count": null,
   "metadata": {
    "ExecuteTime": {
     "end_time": "2021-08-01T05:17:24.187705Z",
     "start_time": "2021-08-01T05:17:24.183462Z"
    }
   },
   "outputs": [],
   "source": [
    "config.setups(z=3)"
   ]
  },
  {
   "cell_type": "code",
   "execution_count": null,
   "metadata": {
    "ExecuteTime": {
     "end_time": "2021-08-01T04:57:46.846742Z",
     "start_time": "2021-08-01T04:57:46.782036Z"
    }
   },
   "outputs": [],
   "source": [
    "config.view()"
   ]
  },
  {
   "cell_type": "code",
   "execution_count": null,
   "metadata": {
    "ExecuteTime": {
     "end_time": "2021-08-01T04:57:48.302600Z",
     "start_time": "2021-08-01T04:57:48.264654Z"
    }
   },
   "outputs": [],
   "source": [
    "config.view(summary=False)"
   ]
  },
  {
   "cell_type": "code",
   "execution_count": null,
   "metadata": {
    "ExecuteTime": {
     "end_time": "2021-08-01T04:57:49.719411Z",
     "start_time": "2021-08-01T04:57:49.715866Z"
    }
   },
   "outputs": [],
   "source": [
    "@pipe._func_\n",
    "def plus_a_b(a=1,b=2):\n",
    "    return a+b\n",
    "#pipe._plus_a_b = plus_a_b"
   ]
  },
  {
   "cell_type": "code",
   "execution_count": null,
   "metadata": {
    "ExecuteTime": {
     "end_time": "2021-08-01T04:58:16.114448Z",
     "start_time": "2021-08-01T04:58:15.896610Z"
    }
   },
   "outputs": [],
   "source": [
    "pipe.setup_connection('c = plus_a_b(a=a,b=b)')\n",
    "pipe.setup_connection('d = plus_a_b(a=a,b=c)')\n",
    "pipe.setup_connection('e = plus_a_b(d,d)')\n",
    "pipe.setup_connection('f = plus_a_b(a=b,b=d)')\n",
    "pipe.view(summary=False)"
   ]
  },
  {
   "cell_type": "code",
   "execution_count": null,
   "metadata": {
    "ExecuteTime": {
     "end_time": "2021-08-01T04:58:19.710163Z",
     "start_time": "2021-08-01T04:58:19.678690Z"
    }
   },
   "outputs": [],
   "source": [
    "pipe.f.get()"
   ]
  },
  {
   "cell_type": "code",
   "execution_count": null,
   "metadata": {
    "ExecuteTime": {
     "end_time": "2021-08-01T04:58:41.352757Z",
     "start_time": "2021-08-01T04:58:41.176285Z"
    }
   },
   "outputs": [],
   "source": [
    "pipe.view(summary=False, option='all')"
   ]
  },
  {
   "cell_type": "markdown",
   "metadata": {},
   "source": [
    "# Visualization of the Data Pipeline in an Experiment "
   ]
  },
  {
   "cell_type": "code",
   "execution_count": null,
   "metadata": {
    "ExecuteTime": {
     "end_time": "2021-08-01T05:23:10.810199Z",
     "start_time": "2021-08-01T05:23:08.100965Z"
    }
   },
   "outputs": [],
   "source": [
    "from experiments.ex3.connect_pipeline import pipe"
   ]
  },
  {
   "cell_type": "code",
   "execution_count": null,
   "metadata": {
    "ExecuteTime": {
     "end_time": "2021-08-01T04:59:10.658903Z",
     "start_time": "2021-08-01T04:59:10.601761Z"
    }
   },
   "outputs": [],
   "source": [
    "pipe.view(summary=False)"
   ]
  },
  {
   "cell_type": "markdown",
   "metadata": {},
   "source": [
    "## checking dependency "
   ]
  },
  {
   "cell_type": "code",
   "execution_count": null,
   "metadata": {
    "ExecuteTime": {
     "end_time": "2021-08-01T04:59:20.967522Z",
     "start_time": "2021-08-01T04:59:20.906301Z"
    }
   },
   "outputs": [],
   "source": [
    "pipe.view_dependency('split_data',summary=False)"
   ]
  },
  {
   "cell_type": "markdown",
   "metadata": {},
   "source": [
    "## viewing data content, size, and type "
   ]
  },
  {
   "cell_type": "code",
   "execution_count": null,
   "metadata": {
    "ExecuteTime": {
     "end_time": "2021-08-01T04:59:42.172749Z",
     "start_time": "2021-08-01T04:59:41.599833Z"
    }
   },
   "outputs": [],
   "source": [
    "pipe.view(summary=False, option = 'all')"
   ]
  },
  {
   "cell_type": "markdown",
   "metadata": {},
   "source": [
    "## viewing data size and type only "
   ]
  },
  {
   "cell_type": "code",
   "execution_count": null,
   "metadata": {},
   "outputs": [],
   "source": [
    "pipe.view(summary=False, option = 'light')"
   ]
  },
  {
   "cell_type": "code",
   "execution_count": null,
   "metadata": {},
   "outputs": [],
   "source": [
    "pipe.view_dependency('split_data',summary=False, option='light')"
   ]
  },
  {
   "cell_type": "markdown",
   "metadata": {},
   "source": [
    "# Obtain values of a temporary result of the pipeline "
   ]
  },
  {
   "cell_type": "code",
   "execution_count": null,
   "metadata": {
    "ExecuteTime": {
     "end_time": "2021-08-01T05:24:32.376892Z",
     "start_time": "2021-08-01T05:24:29.490221Z"
    }
   },
   "outputs": [],
   "source": [
    "pipe.test_dataset.get(verbose=True)   "
   ]
  },
  {
   "cell_type": "markdown",
   "metadata": {},
   "source": [
    "# Example of making modification to the pipeline "
   ]
  },
  {
   "cell_type": "markdown",
   "metadata": {},
   "source": [
    "# define new function and connect in the end "
   ]
  },
  {
   "cell_type": "code",
   "execution_count": null,
   "metadata": {},
   "outputs": [],
   "source": [
    "@pipe._func_\n",
    "def get_length(tensor_dataset):\n",
    "    return len(tensor_dataset)\n",
    "\n",
    "pipe.setup_connection('size = get_length(train_dataset)')"
   ]
  },
  {
   "cell_type": "code",
   "execution_count": null,
   "metadata": {},
   "outputs": [],
   "source": [
    "pipe.view(summary=False)"
   ]
  },
  {
   "cell_type": "code",
   "execution_count": null,
   "metadata": {},
   "outputs": [],
   "source": [
    "pipe.size.get()"
   ]
  },
  {
   "cell_type": "markdown",
   "metadata": {},
   "source": [
    "# modify a function"
   ]
  },
  {
   "cell_type": "code",
   "execution_count": null,
   "metadata": {},
   "outputs": [],
   "source": [
    "@pipe._rep_func_('build_TensorDataset')\n",
    "def build_TensorDataset(x_dense, x_sparse, objmean, tscnt, label_0):\n",
    "    return \"Hello New TensorDataset Result!\""
   ]
  },
  {
   "cell_type": "code",
   "execution_count": null,
   "metadata": {},
   "outputs": [],
   "source": [
    "pipe.test_dataset.get()"
   ]
  },
  {
   "cell_type": "code",
   "execution_count": null,
   "metadata": {},
   "outputs": [],
   "source": [
    "pipe.train_dataset.get()"
   ]
  },
  {
   "cell_type": "markdown",
   "metadata": {},
   "source": [
    "# Building ProcessBase"
   ]
  },
  {
   "cell_type": "code",
   "execution_count": 1,
   "metadata": {
    "ExecuteTime": {
     "end_time": "2021-08-02T06:31:53.362627Z",
     "start_time": "2021-08-02T06:31:52.770450Z"
    }
   },
   "outputs": [],
   "source": [
    "from experiments.ex4.preprocess.config import PreProcess  \n",
    "preprocess = PreProcess(save_tmp=True, experiment_name = 'ex4') \n",
    "\n",
    "import os \n",
    "origin_path = 'data/source'\n",
    "preprocess.setup_vars(\n",
    "    chid_file=os.path.join(origin_path, 'sample_chid.txt'), \n",
    "    cdtx_file=os.path.join(origin_path, 'sample_zip_if_cca_cdtx0001_hist.csv'), \n",
    "    cust_f_file=os.path.join(origin_path, 'sample_zip_if_cca_cust_f.csv'),\n",
    "    category_cols=['chid', 'bnsfg', 'iterm', 'mcc', 'scity'], \n",
    "    sparse_feat=['chid', 'bnsfg', 'iterm', 'mcc', 'scity'], \n",
    "    numeric_cols=['bnspt', 'timestamp_0', 'timestamp_1', 'objam'],\n",
    "    dense_feat=['bnspt', 'timestamp_0', 'timestamp_1', 'objam'],\n",
    "    cust_category_cols=['chid', 'masts', 'educd', 'trdtp', 'poscd'], \n",
    "    cust_numeric_cols=['slam', 'first_mob', 'constant_change', 'sum_l2_ind',\n",
    "                  'sum_u2_ind', 'constant_l2_ind', 'constant_u4_ind',\n",
    "                  'growth_rate', 'monotone_down', 'monotone_up', 'data_dt'],\n",
    "    target_cols=['chid', 'data_dt', 'objam_sum', 'objam_mean', 'trans_count', 'objam_mean_M3'], \n",
    "    USE_CHID=True, \n",
    "    time_column_data_dt='data_dt', \n",
    "    time_column_csmdt='csmdt', \n",
    "    result_column_timestamp_1='timestamp_1', \n",
    "    result_column_timestamp_0='timestamp_0', \n",
    "    result_column_timestamp='timestamp', \n",
    "    LEFT='left', \n",
    "    INNER='inner', \n",
    "    n_sample=50, \n",
    "    window_size=120,\n",
    "    test_size=2\n",
    ")"
   ]
  },
  {
   "cell_type": "code",
   "execution_count": 2,
   "metadata": {
    "ExecuteTime": {
     "end_time": "2021-08-02T06:31:57.269182Z",
     "start_time": "2021-08-02T06:31:54.457430Z"
    }
   },
   "outputs": [
    {
     "name": "stdout",
     "output_type": "stream",
     "text": [
      "[Connect] chid_file,cdtx_file,cust_f_file,category_cols,sparse_feat,numeric_cols,dense_feat,cust_category_cols,cust_numeric_cols,target_cols,USE_CHID,time_column_data_dt,time_column_csmdt,result_column_timestamp_1,result_column_timestamp_0,result_column_timestamp,LEFT,INNER,n_sample,window_size,test_size = collect_inputs_for_preprocess(chid_file=chid_file,cdtx_file=cdtx_file,cust_f_file=cust_f_file,category_cols=category_cols,sparse_feat=sparse_feat,numeric_cols=numeric_cols,dense_feat=dense_feat,cust_category_cols=cust_category_cols,cust_numeric_cols=cust_numeric_cols,target_cols=target_cols,USE_CHID=USE_CHID,time_column_data_dt=time_column_data_dt,time_column_csmdt=time_column_csmdt,result_column_timestamp_1=result_column_timestamp_1,result_column_timestamp_0=result_column_timestamp_0,result_column_timestamp=result_column_timestamp,LEFT=LEFT,INNER=INNER,n_sample=n_sample,window_size=window_size,test_size=test_size)\n",
      "[Connect] sparse_dense_setting_generator = create_sparse_dense_setting_generator(    category_cols=category_cols,    sparse_feat=sparse_feat,    numeric_cols=numeric_cols,     dense_feat=dense_feat,     USE_CHID=USE_CHID)\n",
      "from memory\n",
      "from memory\n",
      "from memory\n",
      "from memory\n",
      "[Connect] chids = load_chids(chid_file=chid_file)\n",
      "from memory\n",
      "[Connect] sampled_chids = sample_chids(chids, n_sample = n_sample)\n",
      "from memory\n",
      "[Connect] chid_to_nid_map = build_chid_to_nid_map(sampled_chids)\n",
      "[Connect] df_cdtx = load_cdtx(sampled_chids, cdtx_file = cdtx_file)\n",
      "from memory\n",
      "[Connect] df_cdtx = convert_uid_to_nid(df_cdtx, chid_to_nid_map)\n",
      "[Connect] df_cdtx = add_month(df_cdtx)\n",
      "[Connect] df_full_y_sum = make_chid_x_month_table(df_cdtx)\n",
      "[Connect] df_cdtx_monthly_objam = calculate_monthly_target(df_cdtx)\n",
      "[Connect] df_full_y_sum = merge_with_another_table(df_full_y_sum, df_cdtx_monthly_objam, join_method=LEFT)\n",
      "from memory\n",
      "[Connect] df_cust_f = load_cust_f(sampled_chids, cust_f_file=cust_f_file)\n",
      "from memory\n",
      "[Connect] df_cust_f = convert_uid_to_nid(df_cust_f, chid_to_nid_map)\n",
      "[Connect] df_full_y_sum = merge_with_another_table(df_full_y_sum, df_cust_f, join_method=INNER)\n",
      "from memory\n",
      "[Connect] df_full_y_sum = add_mean_of_previous_two_months(df_full_y_sum)\n",
      "[Connect] df_full_y_sum = cast_time_column_to_np_datatime64(df_full_y_sum, time_column = time_column_data_dt)\n",
      "from memory\n",
      "[Connect] df_cdtx = cast_time_column_to_np_datatime64(df_cdtx, time_column = time_column_csmdt)\n",
      "from memory\n",
      "[Connect] df_cdtx = add_duration_since_20180101(df_cdtx, time_column = time_column_csmdt, result_column=result_column_timestamp_1)\n",
      "from memory\n",
      "from memory\n",
      "[Connect] df_cdtx = add_duration_since_last_trans(df_cdtx, time_column = time_column_csmdt, result_column=result_column_timestamp_0)\n",
      "from memory\n",
      "from memory\n",
      "[Connect] df_input, feature_map = extract_feature_cols_and_encode_categoricals(df_cdtx, numeric_cols=numeric_cols, category_cols=category_cols)\n",
      "from memory\n",
      "from memory\n",
      "[Connect] df_feat_input, cust_feature_map = extract_feature_cols_and_encode_categoricals(df_cust_f, numeric_cols=cust_numeric_cols, category_cols=cust_category_cols)\n",
      "from memory\n",
      "from memory\n",
      "[Connect] df_feat_input = cast_time_column_to_np_datatime64(df_feat_input, time_column = time_column_data_dt)\n",
      "from memory\n",
      "[Connect] df_feat_input = add_duration_since_20180101(df_feat_input, time_column = time_column_data_dt, result_column=result_column_timestamp)\n",
      "from memory\n",
      "from memory\n",
      "[Connect] df_y = extract_target_columns(df_full_y_sum, target_cols=target_cols)\n",
      "from memory\n",
      "[Connect] df_y = add_duration_since_20180101(    df_y,     time_column = time_column_data_dt,     result_column=result_column_timestamp)\n",
      "from memory\n",
      "from memory\n",
      "[Connect] x_train, x_test, f_train, f_test, y_train, y_test = split_data(    df_input,     df_feat_input,     df_y,     window_size = window_size,     test_size = test_size)\n",
      "from memory\n",
      "from memory\n",
      "[Connect] y_train, y_test, y_columns = add_objam_mean_M3_diff_as_new_target(    df_y,     y_train,     y_test)\n",
      "[Connect] columns = extract_x_f_y_columns(df_input, df_feat_input, y_columns)\n",
      "[Connect] sparse_dims, sparse_index, dense_dims, dense_index = sparse_dense_setting_generating_process(sparse_dense_setting_generator, feature_map, chid_to_nid_map)\n",
      "[Connect] x_train_sparse, x_train_dense, x_test_sparse, x_test_dense = ProcessX.process(x_train, x_test, sparse_index, dense_index)\n",
      "ProcessX.process\n",
      "[Connect] train_objmean, train_tscnt, train_label_0, test_objmean, test_tscnt, test_label_0 = ProcessY.process(y_train, y_test, columns)\n",
      "ProcessY.process\n",
      "[Connect] train_dataset = build_TensorDataset(x_train_dense, x_train_sparse, train_objmean, train_tscnt, train_label_0)\n",
      "[Connect] test_dataset = build_TensorDataset(x_test_dense, x_test_sparse, test_objmean, test_tscnt, test_label_0)\n"
     ]
    }
   ],
   "source": [
    "preprocess.config(verbose=True)  "
   ]
  },
  {
   "cell_type": "code",
   "execution_count": 3,
   "metadata": {
    "ExecuteTime": {
     "end_time": "2021-08-02T06:32:04.449836Z",
     "start_time": "2021-08-02T06:32:04.394904Z"
    }
   },
   "outputs": [
    {
     "name": "stdout",
     "output_type": "stream",
     "text": [
      "[RUN] process of \"create_sparse_dense_setting_generator\"\n",
      "[COMPLETE] create_sparse_dense_setting_generator\n"
     ]
    },
    {
     "data": {
      "text/plain": [
       "<experiments.ex4.preprocess.ops.GenerateSparseDenseSetting at 0x7f6daa49f400>"
      ]
     },
     "execution_count": 3,
     "metadata": {},
     "output_type": "execute_result"
    }
   ],
   "source": [
    "preprocess.pipe.sparse_dense_setting_generator.get(verbose=True, load_tmp=True) "
   ]
  },
  {
   "cell_type": "code",
   "execution_count": null,
   "metadata": {
    "ExecuteTime": {
     "end_time": "2021-08-02T06:27:54.498263Z",
     "start_time": "2021-08-02T06:27:54.387458Z"
    }
   },
   "outputs": [],
   "source": [
    "preprocess.pipe.view(summary=False) "
   ]
  },
  {
   "cell_type": "code",
   "execution_count": null,
   "metadata": {
    "ExecuteTime": {
     "end_time": "2021-08-02T06:30:42.641879Z",
     "start_time": "2021-08-02T06:30:22.114010Z"
    }
   },
   "outputs": [],
   "source": [
    "preprocess.pipe.x_train.get(verbose=True, load_tmp=True)   "
   ]
  },
  {
   "cell_type": "code",
   "execution_count": null,
   "metadata": {
    "ExecuteTime": {
     "end_time": "2021-08-01T14:57:57.584152Z",
     "start_time": "2021-08-01T14:57:49.204740Z"
    }
   },
   "outputs": [],
   "source": [
    "preprocess.pipe.df_cdtx.get(verbose=True, load_tmp=True)   "
   ]
  },
  {
   "cell_type": "code",
   "execution_count": null,
   "metadata": {
    "ExecuteTime": {
     "end_time": "2021-08-01T14:55:39.710961Z",
     "start_time": "2021-08-01T14:55:16.204327Z"
    }
   },
   "outputs": [],
   "source": [
    "preprocess.pipe.df_full_y_sum.get(verbose=True, load_tmp=True)  "
   ]
  },
  {
   "cell_type": "code",
   "execution_count": 4,
   "metadata": {
    "ExecuteTime": {
     "end_time": "2021-08-02T06:32:29.573484Z",
     "start_time": "2021-08-02T06:32:10.923103Z"
    }
   },
   "outputs": [
    {
     "name": "stdout",
     "output_type": "stream",
     "text": [
      "[RUN] process of \"load_chids\"\n",
      "[COMPLETE] load_chids\n",
      "[RUN] process of \"sample_chids\"\n",
      "[COMPLETE] sample_chids\n",
      "[RUN] process of \"load_cdtx\"\n",
      "loading time: 5.996327638626099\n",
      "[COMPLETE] load_cdtx\n",
      "[LOAD] result of \"sample_chids\"\n",
      "from memory\n",
      "[RUN] process of \"build_chid_to_nid_map\"\n",
      "[COMPLETE] build_chid_to_nid_map\n",
      "[RUN] process of \"convert_uid_to_nid\"\n",
      "[COMPLETE] convert_uid_to_nid\n",
      "[RUN] process of \"add_month\"\n",
      "[COMPLETE] add_month\n",
      "[RUN] process of \"cast_time_column_to_np_datatime64\"\n"
     ]
    },
    {
     "name": "stderr",
     "output_type": "stream",
     "text": [
      "7949it [00:00, 1919873.46it/s]"
     ]
    },
    {
     "name": "stdout",
     "output_type": "stream",
     "text": [
      "[COMPLETE] cast_time_column_to_np_datatime64\n",
      "[RUN] process of \"add_duration_since_20180101\"\n",
      "[COMPLETE] add_duration_since_20180101\n",
      "[RUN] process of \"add_duration_since_last_trans\"\n",
      "[COMPLETE] add_duration_since_last_trans\n",
      "[RUN] process of \"extract_feature_cols_and_encode_categoricals\"\n",
      "table extracted\n",
      "bnsfg na filled\n",
      "iterm na filled\n",
      "mcc na filled\n"
     ]
    },
    {
     "name": "stderr",
     "output_type": "stream",
     "text": [
      "\n",
      "/project/eb-customer-embedding/github/ncku_customer_embedding/experiments/ex4/preprocess/ops.py:190: SettingWithCopyWarning: \n",
      "A value is trying to be set on a copy of a slice from a DataFrame.\n",
      "Try using .loc[row_indexer,col_indexer] = value instead\n",
      "\n",
      "See the caveats in the documentation: https://pandas.pydata.org/pandas-docs/stable/user_guide/indexing.html#returning-a-view-versus-a-copy\n",
      "  df_result[col] = df_result[col].fillna('')\n",
      "/project/eb-customer-embedding/github/ncku_customer_embedding/experiments/ex4/preprocess/ops.py:193: SettingWithCopyWarning: \n",
      "A value is trying to be set on a copy of a slice from a DataFrame.\n",
      "Try using .loc[row_indexer,col_indexer] = value instead\n",
      "\n",
      "See the caveats in the documentation: https://pandas.pydata.org/pandas-docs/stable/user_guide/indexing.html#returning-a-view-versus-a-copy\n",
      "  df_result[col] = df_result[col].fillna(-1)\n"
     ]
    },
    {
     "name": "stdout",
     "output_type": "stream",
     "text": [
      "scity na filled\n",
      "all non str category col casted\n",
      "mapper created\n",
      "bnsfg map applied\n",
      "iterm map applied\n",
      "mcc map applied\n",
      "scity map applied\n",
      "[COMPLETE] extract_feature_cols_and_encode_categoricals\n",
      "[RUN] process of \"extract_feature_cols_and_encode_categoricals[0]\"\n",
      "[COMPLETE] extract_feature_cols_and_encode_categoricals[0]\n"
     ]
    },
    {
     "name": "stderr",
     "output_type": "stream",
     "text": [
      "/project/eb-customer-embedding/github/ncku_customer_embedding/experiments/ex4/preprocess/ops.py:205: SettingWithCopyWarning: \n",
      "A value is trying to be set on a copy of a slice from a DataFrame.\n",
      "Try using .loc[row_indexer,col_indexer] = value instead\n",
      "\n",
      "See the caveats in the documentation: https://pandas.pydata.org/pandas-docs/stable/user_guide/indexing.html#returning-a-view-versus-a-copy\n",
      "  df_result[col] = df_result[col].map(mapper[col])\n"
     ]
    },
    {
     "name": "stdout",
     "output_type": "stream",
     "text": [
      "[LOAD] result of \"sample_chids\"\n",
      "from memory\n",
      "[RUN] process of \"load_cust_f\"\n",
      "loading time: 4.113139629364014\n",
      "[COMPLETE] load_cust_f\n",
      "[LOAD] result of \"build_chid_to_nid_map\"\n",
      "from memory\n",
      "[RUN] process of \"convert_uid_to_nid\"\n",
      "[COMPLETE] convert_uid_to_nid\n",
      "[RUN] process of \"extract_feature_cols_and_encode_categoricals\"\n",
      "table extracted\n",
      "masts na filled\n",
      "educd na filled\n",
      "trdtp na filled\n",
      "poscd na filled\n",
      "all non str category col casted\n",
      "mapper created\n",
      "masts map applied\n",
      "educd map applied\n",
      "trdtp map applied\n",
      "poscd map applied\n",
      "[COMPLETE] extract_feature_cols_and_encode_categoricals\n",
      "[RUN] process of \"extract_feature_cols_and_encode_categoricals[0]\"\n",
      "[COMPLETE] extract_feature_cols_and_encode_categoricals[0]\n",
      "[RUN] process of \"cast_time_column_to_np_datatime64\"\n",
      "[COMPLETE] cast_time_column_to_np_datatime64\n",
      "[RUN] process of \"add_duration_since_20180101\"\n",
      "[COMPLETE] add_duration_since_20180101\n",
      "[LOAD] result of \"add_month\"\n",
      "from memory\n",
      "[RUN] process of \"make_chid_x_month_table\"\n",
      "list_chid, list_month calculated\n",
      "[DELETE] df_cdtx\n",
      "[COMPLETE] make_chid_x_month_table\n"
     ]
    },
    {
     "name": "stderr",
     "output_type": "stream",
     "text": [
      "/project/eb-customer-embedding/github/ncku_customer_embedding/experiments/ex4/preprocess/ops.py:151: SettingWithCopyWarning: \n",
      "A value is trying to be set on a copy of a slice from a DataFrame.\n",
      "Try using .loc[row_indexer,col_indexer] = value instead\n",
      "\n",
      "See the caveats in the documentation: https://pandas.pydata.org/pandas-docs/stable/user_guide/indexing.html#returning-a-view-versus-a-copy\n",
      "  df_full_y_sum[time_column] = df_full_y_sum[time_column].astype(np.datetime64)\n",
      "/project/eb-customer-embedding/github/ncku_customer_embedding/experiments/ex4/preprocess/ops.py:157: SettingWithCopyWarning: \n",
      "A value is trying to be set on a copy of a slice from a DataFrame.\n",
      "Try using .loc[row_indexer,col_indexer] = value instead\n",
      "\n",
      "See the caveats in the documentation: https://pandas.pydata.org/pandas-docs/stable/user_guide/indexing.html#returning-a-view-versus-a-copy\n",
      "  ).values / np.timedelta64(1, 'D')\n"
     ]
    },
    {
     "name": "stdout",
     "output_type": "stream",
     "text": [
      "[LOAD] result of \"add_month\"\n",
      "from memory\n",
      "[RUN] process of \"calculate_monthly_target\"\n"
     ]
    },
    {
     "name": "stderr",
     "output_type": "stream",
     "text": [
      "\r",
      "  0%|          | 0/50 [00:00<?, ?it/s]"
     ]
    },
    {
     "name": "stdout",
     "output_type": "stream",
     "text": [
      "df_cdtx grouped\n",
      "[COMPLETE] calculate_monthly_target\n",
      "[RUN] process of \"merge_with_another_table\"\n",
      "[COMPLETE] merge_with_another_table\n",
      "[LOAD] result of \"convert_uid_to_nid\"\n",
      "from memory\n",
      "[RUN] process of \"merge_with_another_table\"\n",
      "[COMPLETE] merge_with_another_table\n",
      "[RUN] process of \"add_mean_of_previous_two_months\"\n"
     ]
    },
    {
     "name": "stderr",
     "output_type": "stream",
     "text": [
      "100%|██████████| 50/50 [00:01<00:00, 28.87it/s]\n",
      "  0%|          | 0/50 [00:00<?, ?it/s]"
     ]
    },
    {
     "name": "stdout",
     "output_type": "stream",
     "text": [
      "[COMPLETE] add_mean_of_previous_two_months\n",
      "[RUN] process of \"cast_time_column_to_np_datatime64\"\n",
      "[COMPLETE] cast_time_column_to_np_datatime64\n",
      "[RUN] process of \"extract_target_columns\"\n",
      "[COMPLETE] extract_target_columns\n",
      "[RUN] process of \"add_duration_since_20180101\"\n",
      "[COMPLETE] add_duration_since_20180101\n",
      "[RUN] process of \"split_data\"\n"
     ]
    },
    {
     "name": "stderr",
     "output_type": "stream",
     "text": [
      "100%|██████████| 50/50 [00:03<00:00, 15.98it/s]\n"
     ]
    },
    {
     "name": "stdout",
     "output_type": "stream",
     "text": [
      "[COMPLETE] split_data\n",
      "[RUN] process of \"split_data[0]\"\n",
      "[COMPLETE] split_data[0]\n",
      "[LOAD] result of \"split_data\"\n",
      "from memory\n",
      "[RUN] process of \"split_data[1]\"\n",
      "[COMPLETE] split_data[1]\n",
      "[LOAD] result of \"create_sparse_dense_setting_generator\"\n",
      "from memory\n",
      "[LOAD] result of \"extract_feature_cols_and_encode_categoricals\"\n",
      "from memory\n",
      "[RUN] process of \"extract_feature_cols_and_encode_categoricals[1]\"\n",
      "[COMPLETE] extract_feature_cols_and_encode_categoricals[1]\n",
      "[LOAD] result of \"build_chid_to_nid_map\"\n",
      "from memory\n",
      "[RUN] process of \"sparse_dense_setting_generating_process\"\n",
      "[COMPLETE] sparse_dense_setting_generating_process\n",
      "[RUN] process of \"sparse_dense_setting_generating_process[1]\"\n",
      "[COMPLETE] sparse_dense_setting_generating_process[1]\n",
      "[LOAD] result of \"sparse_dense_setting_generating_process\"\n",
      "from memory\n",
      "[RUN] process of \"sparse_dense_setting_generating_process[3]\"\n",
      "[COMPLETE] sparse_dense_setting_generating_process[3]\n",
      "[RUN] process of \"process\"\n",
      "Processing x_train\n",
      "Split Sparse and Dense Parts and Apply np.float64 and np.int64, respectively\n",
      "apply Log(1+x) transformation to the dense features\n",
      "apply MinMaxScale((0,1)) to the dense features\n",
      "Processing x_test\n",
      "Split Sparse and Dense Parts and Apply np.float64 and np.int64, respectively\n",
      "apply Log(1+x) transformation to the dense features\n",
      "apply MinMaxScale((0,1)) to the dense features\n",
      "[COMPLETE] process\n",
      "[RUN] process of \"process[1]\"\n",
      "[COMPLETE] process[1]\n",
      "[LOAD] result of \"process\"\n",
      "from memory\n",
      "[RUN] process of \"process[0]\"\n",
      "[COMPLETE] process[0]\n",
      "[LOAD] result of \"add_duration_since_20180101\"\n",
      "from memory\n",
      "[LOAD] result of \"split_data\"\n",
      "from memory\n",
      "[RUN] process of \"split_data[4]\"\n",
      "[COMPLETE] split_data[4]\n",
      "[LOAD] result of \"split_data\"\n",
      "from memory\n",
      "[RUN] process of \"split_data[5]\"\n",
      "[COMPLETE] split_data[5]\n",
      "[RUN] process of \"add_objam_mean_M3_diff_as_new_target\"\n",
      "[COMPLETE] add_objam_mean_M3_diff_as_new_target\n",
      "[RUN] process of \"add_objam_mean_M3_diff_as_new_target[0]\"\n",
      "[COMPLETE] add_objam_mean_M3_diff_as_new_target[0]\n",
      "[LOAD] result of \"add_objam_mean_M3_diff_as_new_target\"\n",
      "from memory\n",
      "[RUN] process of \"add_objam_mean_M3_diff_as_new_target[1]\"\n",
      "[COMPLETE] add_objam_mean_M3_diff_as_new_target[1]\n",
      "[LOAD] result of \"extract_feature_cols_and_encode_categoricals[0]\"\n",
      "from memory\n",
      "[LOAD] result of \"add_duration_since_20180101\"\n",
      "from memory\n",
      "[LOAD] result of \"add_objam_mean_M3_diff_as_new_target\"\n",
      "from memory\n",
      "[RUN] process of \"add_objam_mean_M3_diff_as_new_target[2]\"\n",
      "[COMPLETE] add_objam_mean_M3_diff_as_new_target[2]\n",
      "[RUN] process of \"extract_x_f_y_columns\"\n",
      "[COMPLETE] extract_x_f_y_columns\n",
      "[RUN] process of \"process\"\n",
      "Convert Numeric Y values to np.float64 for Regression\n",
      "Apply Log(1+x) Transformation\n",
      "Apply  MinMaxScaler((0,1)) to objmean\n",
      "Convert objsum to class target: whether or not objsum > 0 \n",
      "Convert Numeric Y values to np.float64 for Regression\n",
      "Apply Log(1+x) Transformation\n",
      "Apply  MinMaxScaler((0,1)) to objmean\n",
      "Convert objsum to class target: whether or not objsum > 0 \n",
      "[COMPLETE] process\n",
      "[RUN] process of \"process[0]\"\n",
      "[COMPLETE] process[0]\n",
      "[LOAD] result of \"process\"\n",
      "from memory\n",
      "[RUN] process of \"process[1]\"\n",
      "[COMPLETE] process[1]\n",
      "[LOAD] result of \"process\"\n",
      "from memory\n",
      "[RUN] process of \"process[2]\"\n",
      "[COMPLETE] process[2]\n",
      "[RUN] process of \"build_TensorDataset\"\n",
      "[COMPLETE] build_TensorDataset\n"
     ]
    },
    {
     "data": {
      "text/plain": [
       "<torch.utils.data.dataset.TensorDataset at 0x7f6d9cbc6cf8>"
      ]
     },
     "execution_count": 4,
     "metadata": {},
     "output_type": "execute_result"
    }
   ],
   "source": [
    "preprocess.pipe.train_dataset.get(verbose=True, load_tmp=True)  "
   ]
  },
  {
   "cell_type": "code",
   "execution_count": 5,
   "metadata": {
    "ExecuteTime": {
     "end_time": "2021-08-02T06:32:29.794531Z",
     "start_time": "2021-08-02T06:32:29.576276Z"
    }
   },
   "outputs": [
    {
     "name": "stdout",
     "output_type": "stream",
     "text": [
      "[LOAD] result of \"process\"\n",
      "from memory\n",
      "[RUN] process of \"process[3]\"\n",
      "[COMPLETE] process[3]\n",
      "[LOAD] result of \"process\"\n",
      "from memory\n",
      "[RUN] process of \"process[2]\"\n",
      "[COMPLETE] process[2]\n",
      "[LOAD] result of \"process\"\n",
      "from memory\n",
      "[RUN] process of \"process[3]\"\n",
      "[COMPLETE] process[3]\n",
      "[LOAD] result of \"process\"\n",
      "from memory\n",
      "[RUN] process of \"process[4]\"\n",
      "[COMPLETE] process[4]\n",
      "[LOAD] result of \"process\"\n",
      "from memory\n",
      "[RUN] process of \"process[5]\"\n",
      "[COMPLETE] process[5]\n",
      "[RUN] process of \"build_TensorDataset\"\n",
      "[COMPLETE] build_TensorDataset\n"
     ]
    },
    {
     "data": {
      "text/plain": [
       "<torch.utils.data.dataset.TensorDataset at 0x7f6e70d75128>"
      ]
     },
     "execution_count": 5,
     "metadata": {},
     "output_type": "execute_result"
    }
   ],
   "source": [
    "preprocess.pipe.test_dataset.get(verbose=True, load_tmp=True)  "
   ]
  },
  {
   "cell_type": "markdown",
   "metadata": {},
   "source": [
    "# Auto Process Code String in .py "
   ]
  },
  {
   "cell_type": "code",
   "execution_count": null,
   "metadata": {
    "ExecuteTime": {
     "end_time": "2021-08-01T15:43:54.474691Z",
     "start_time": "2021-08-01T15:43:54.468051Z"
    }
   },
   "outputs": [],
   "source": [
    "from common.process_compiler import block_str_generator "
   ]
  },
  {
   "cell_type": "code",
   "execution_count": null,
   "metadata": {
    "ExecuteTime": {
     "end_time": "2021-08-01T14:37:08.440606Z",
     "start_time": "2021-08-01T14:37:08.436264Z"
    }
   },
   "outputs": [],
   "source": [
    "block_str_gen = block_str_generator('experiments/ex4/preprocess/connect.py')"
   ]
  },
  {
   "cell_type": "code",
   "execution_count": null,
   "metadata": {
    "ExecuteTime": {
     "end_time": "2021-08-01T07:42:03.143501Z",
     "start_time": "2021-08-01T07:42:03.139892Z"
    }
   },
   "outputs": [],
   "source": [
    "\n",
    "# obtain get [PIN] message "
   ]
  },
  {
   "cell_type": "code",
   "execution_count": null,
   "metadata": {},
   "outputs": [],
   "source": [
    "# handle command string ''''''  and \"\"\"\"\"\" "
   ]
  },
  {
   "cell_type": "code",
   "execution_count": null,
   "metadata": {
    "ExecuteTime": {
     "end_time": "2021-08-01T15:26:38.654798Z",
     "start_time": "2021-08-01T15:26:38.342867Z"
    }
   },
   "outputs": [],
   "source": [
    "sampled_chids = preprocess.pipe.sampled_chids.get(verbose=True, load_tmp=False)  \n",
    "cdtx_file = preprocess.pipe.cdtx_file.get(verbose=True, load_tmp=False)  \n"
   ]
  },
  {
   "cell_type": "code",
   "execution_count": null,
   "metadata": {
    "ExecuteTime": {
     "end_time": "2021-08-01T15:26:39.340397Z",
     "start_time": "2021-08-01T15:26:39.067595Z"
    }
   },
   "outputs": [],
   "source": [
    "chid_to_nid_map = preprocess.pipe.chid_to_nid_map.get(verbose=True, load_tmp=False)  "
   ]
  },
  {
   "cell_type": "code",
   "execution_count": null,
   "metadata": {
    "ExecuteTime": {
     "end_time": "2021-08-01T15:26:40.373284Z",
     "start_time": "2021-08-01T15:26:40.370581Z"
    }
   },
   "outputs": [],
   "source": [
    "chid_to_nid_map_old = chid_to_nid_map"
   ]
  },
  {
   "cell_type": "code",
   "execution_count": null,
   "metadata": {
    "ExecuteTime": {
     "end_time": "2021-08-01T15:26:41.320067Z",
     "start_time": "2021-08-01T15:26:41.317320Z"
    }
   },
   "outputs": [],
   "source": [
    "from experiments.ex4.preprocess.ops import build_chid_to_nid_map\n",
    "chid_to_nid_map = build_chid_to_nid_map(sampled_chids)\n"
   ]
  },
  {
   "cell_type": "code",
   "execution_count": null,
   "metadata": {
    "ExecuteTime": {
     "end_time": "2021-08-01T15:26:42.875791Z",
     "start_time": "2021-08-01T15:26:42.872083Z"
    }
   },
   "outputs": [],
   "source": [
    "set(chid_to_nid_map) - set(chid_to_nid_map_old)"
   ]
  },
  {
   "cell_type": "code",
   "execution_count": null,
   "metadata": {
    "ExecuteTime": {
     "end_time": "2021-08-01T15:17:14.383118Z",
     "start_time": "2021-08-01T15:17:07.477979Z"
    }
   },
   "outputs": [],
   "source": [
    "from experiments.ex4.preprocess.ops import load_cdtx, convert_uid_to_nid\n",
    "df_cdtx = load_cdtx(sampled_chids, cdtx_file = cdtx_file)\n",
    "# df_cdtx = convert_uid_to_nid(df_cdtx, chid_to_nid_map)\n"
   ]
  },
  {
   "cell_type": "code",
   "execution_count": null,
   "metadata": {
    "ExecuteTime": {
     "end_time": "2021-08-01T15:17:32.901859Z",
     "start_time": "2021-08-01T15:17:32.896005Z"
    }
   },
   "outputs": [],
   "source": [
    "set(sampled_chids) - set(df_cdtx.chid.unique())"
   ]
  },
  {
   "cell_type": "code",
   "execution_count": null,
   "metadata": {
    "ExecuteTime": {
     "end_time": "2021-08-01T15:17:49.439391Z",
     "start_time": "2021-08-01T15:17:49.434129Z"
    }
   },
   "outputs": [],
   "source": [
    "set(df_cdtx.chid.unique()) - set(sampled_chids)"
   ]
  },
  {
   "cell_type": "code",
   "execution_count": null,
   "metadata": {
    "ExecuteTime": {
     "end_time": "2021-08-01T15:18:36.244781Z",
     "start_time": "2021-08-01T15:18:36.240015Z"
    }
   },
   "outputs": [],
   "source": [
    "set(chid_to_nid_map.keys()) - set(sampled_chids) "
   ]
  },
  {
   "cell_type": "code",
   "execution_count": null,
   "metadata": {
    "ExecuteTime": {
     "end_time": "2021-08-01T15:08:35.007856Z",
     "start_time": "2021-08-01T15:08:34.984348Z"
    }
   },
   "outputs": [],
   "source": [
    "df_cdtx"
   ]
  },
  {
   "cell_type": "code",
   "execution_count": null,
   "metadata": {
    "ExecuteTime": {
     "end_time": "2021-08-01T15:14:25.002547Z",
     "start_time": "2021-08-01T15:14:24.990983Z"
    }
   },
   "outputs": [],
   "source": [
    "chid_to_nid_map[sampled_chids[1]]"
   ]
  },
  {
   "cell_type": "code",
   "execution_count": null,
   "metadata": {},
   "outputs": [],
   "source": []
  },
  {
   "cell_type": "code",
   "execution_count": null,
   "metadata": {
    "ExecuteTime": {
     "end_time": "2021-08-01T15:21:37.423140Z",
     "start_time": "2021-08-01T15:21:37.383833Z"
    }
   },
   "outputs": [],
   "source": [
    "df_cdtx['chid'].replace(chid_to_nid_map)  "
   ]
  },
  {
   "cell_type": "code",
   "execution_count": null,
   "metadata": {
    "ExecuteTime": {
     "end_time": "2021-08-01T15:12:45.268487Z",
     "start_time": "2021-08-01T15:12:45.263000Z"
    }
   },
   "outputs": [],
   "source": [
    "df_cdtx['chid']"
   ]
  },
  {
   "cell_type": "code",
   "execution_count": null,
   "metadata": {},
   "outputs": [],
   "source": [
    "df_cdtx = load_cdtx(sampled_chids, cdtx_file = cdtx_file)\n",
    "\n",
    "df_cdtx = convert_uid_to_nid(df_cdtx, chid_to_nid_map)\n",
    "\n",
    "df_cdtx = add_month(df_cdtx)\n",
    "\n",
    "df_full_y_sum = make_chid_x_month_table(df_cdtx)\n",
    "\n",
    "df_cdtx_monthly_objam = calculate_monthly_target(df_cdtx)\n",
    "\n",
    "df_full_y_sum = merge_with_another_table(df_full_y_sum, df_cdtx_monthly_objam, join_method=LEFT)"
   ]
  }
 ],
 "metadata": {
  "hide_input": false,
  "kernelspec": {
   "display_name": "Python 3",
   "language": "python",
   "name": "python3"
  },
  "language_info": {
   "codemirror_mode": {
    "name": "ipython",
    "version": 3
   },
   "file_extension": ".py",
   "mimetype": "text/x-python",
   "name": "python",
   "nbconvert_exporter": "python",
   "pygments_lexer": "ipython3",
   "version": "3.6.11"
  },
  "toc": {
   "base_numbering": 1,
   "nav_menu": {},
   "number_sections": true,
   "sideBar": true,
   "skip_h1_title": false,
   "title_cell": "Table of Contents",
   "title_sidebar": "Contents",
   "toc_cell": false,
   "toc_position": {},
   "toc_section_display": true,
   "toc_window_display": false
  }
 },
 "nbformat": 4,
 "nbformat_minor": 4
}
