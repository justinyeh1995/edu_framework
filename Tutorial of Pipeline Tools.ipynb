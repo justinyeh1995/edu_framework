{
 "cells": [
  {
   "cell_type": "markdown",
   "metadata": {},
   "source": [
    "# Simple Example "
   ]
  },
  {
   "cell_type": "code",
   "execution_count": null,
   "metadata": {
    "ExecuteTime": {
     "end_time": "2021-08-01T05:17:18.894255Z",
     "start_time": "2021-08-01T05:17:18.534252Z"
    }
   },
   "outputs": [],
   "source": [
    "from common.ETLBase import PipelineBuilder, PipeConfigBuilder"
   ]
  },
  {
   "cell_type": "code",
   "execution_count": null,
   "metadata": {
    "ExecuteTime": {
     "end_time": "2021-08-01T05:17:19.908140Z",
     "start_time": "2021-08-01T05:17:19.905359Z"
    }
   },
   "outputs": [],
   "source": [
    "config = PipeConfigBuilder()\n",
    "pipe = PipelineBuilder(config)"
   ]
  },
  {
   "cell_type": "code",
   "execution_count": null,
   "metadata": {
    "ExecuteTime": {
     "end_time": "2021-08-01T05:17:23.360873Z",
     "start_time": "2021-08-01T05:17:23.354701Z"
    }
   },
   "outputs": [],
   "source": [
    "config.setups(a=1,b=9)"
   ]
  },
  {
   "cell_type": "code",
   "execution_count": null,
   "metadata": {
    "ExecuteTime": {
     "end_time": "2021-08-01T05:17:24.187705Z",
     "start_time": "2021-08-01T05:17:24.183462Z"
    }
   },
   "outputs": [],
   "source": [
    "config.setups(z=3)"
   ]
  },
  {
   "cell_type": "code",
   "execution_count": null,
   "metadata": {
    "ExecuteTime": {
     "end_time": "2021-08-01T04:57:46.846742Z",
     "start_time": "2021-08-01T04:57:46.782036Z"
    }
   },
   "outputs": [],
   "source": [
    "config.view()"
   ]
  },
  {
   "cell_type": "code",
   "execution_count": null,
   "metadata": {
    "ExecuteTime": {
     "end_time": "2021-08-01T04:57:48.302600Z",
     "start_time": "2021-08-01T04:57:48.264654Z"
    }
   },
   "outputs": [],
   "source": [
    "config.view(summary=False)"
   ]
  },
  {
   "cell_type": "code",
   "execution_count": null,
   "metadata": {
    "ExecuteTime": {
     "end_time": "2021-08-01T04:57:49.719411Z",
     "start_time": "2021-08-01T04:57:49.715866Z"
    }
   },
   "outputs": [],
   "source": [
    "@pipe._func_\n",
    "def plus_a_b(a=1,b=2):\n",
    "    return a+b\n",
    "#pipe._plus_a_b = plus_a_b"
   ]
  },
  {
   "cell_type": "code",
   "execution_count": null,
   "metadata": {
    "ExecuteTime": {
     "end_time": "2021-08-01T04:58:16.114448Z",
     "start_time": "2021-08-01T04:58:15.896610Z"
    }
   },
   "outputs": [],
   "source": [
    "pipe.setup_connection('c = plus_a_b(a=a,b=b)')\n",
    "pipe.setup_connection('d = plus_a_b(a=a,b=c)')\n",
    "pipe.setup_connection('e = plus_a_b(d,d)')\n",
    "pipe.setup_connection('f = plus_a_b(a=b,b=d)')\n",
    "pipe.view(summary=False)"
   ]
  },
  {
   "cell_type": "code",
   "execution_count": null,
   "metadata": {
    "ExecuteTime": {
     "end_time": "2021-08-01T04:58:19.710163Z",
     "start_time": "2021-08-01T04:58:19.678690Z"
    }
   },
   "outputs": [],
   "source": [
    "pipe.f.get()"
   ]
  },
  {
   "cell_type": "code",
   "execution_count": null,
   "metadata": {
    "ExecuteTime": {
     "end_time": "2021-08-01T04:58:41.352757Z",
     "start_time": "2021-08-01T04:58:41.176285Z"
    }
   },
   "outputs": [],
   "source": [
    "pipe.view(summary=False, option='all')"
   ]
  },
  {
   "cell_type": "markdown",
   "metadata": {},
   "source": [
    "# Visualization of the Data Pipeline in an Experiment "
   ]
  },
  {
   "cell_type": "code",
   "execution_count": 1,
   "metadata": {
    "ExecuteTime": {
     "end_time": "2021-08-01T05:23:10.810199Z",
     "start_time": "2021-08-01T05:23:08.100965Z"
    }
   },
   "outputs": [],
   "source": [
    "from experiments.ex3.connect_pipeline import pipe"
   ]
  },
  {
   "cell_type": "code",
   "execution_count": null,
   "metadata": {
    "ExecuteTime": {
     "end_time": "2021-08-01T04:59:10.658903Z",
     "start_time": "2021-08-01T04:59:10.601761Z"
    }
   },
   "outputs": [],
   "source": [
    "pipe.view(summary=False)"
   ]
  },
  {
   "cell_type": "markdown",
   "metadata": {},
   "source": [
    "## checking dependency "
   ]
  },
  {
   "cell_type": "code",
   "execution_count": null,
   "metadata": {
    "ExecuteTime": {
     "end_time": "2021-08-01T04:59:20.967522Z",
     "start_time": "2021-08-01T04:59:20.906301Z"
    }
   },
   "outputs": [],
   "source": [
    "pipe.view_dependency('split_data',summary=False)"
   ]
  },
  {
   "cell_type": "markdown",
   "metadata": {},
   "source": [
    "## viewing data content, size, and type "
   ]
  },
  {
   "cell_type": "code",
   "execution_count": null,
   "metadata": {
    "ExecuteTime": {
     "end_time": "2021-08-01T04:59:42.172749Z",
     "start_time": "2021-08-01T04:59:41.599833Z"
    }
   },
   "outputs": [],
   "source": [
    "pipe.view(summary=False, option = 'all')"
   ]
  },
  {
   "cell_type": "markdown",
   "metadata": {},
   "source": [
    "## viewing data size and type only "
   ]
  },
  {
   "cell_type": "code",
   "execution_count": null,
   "metadata": {},
   "outputs": [],
   "source": [
    "pipe.view(summary=False, option = 'light')"
   ]
  },
  {
   "cell_type": "code",
   "execution_count": null,
   "metadata": {},
   "outputs": [],
   "source": [
    "pipe.view_dependency('split_data',summary=False, option='light')"
   ]
  },
  {
   "cell_type": "markdown",
   "metadata": {},
   "source": [
    "# Obtain values of a temporary result of the pipeline "
   ]
  },
  {
   "cell_type": "code",
   "execution_count": 5,
   "metadata": {
    "ExecuteTime": {
     "end_time": "2021-08-01T05:24:32.376892Z",
     "start_time": "2021-08-01T05:24:29.490221Z"
    }
   },
   "outputs": [
    {
     "name": "stdout",
     "output_type": "stream",
     "text": [
      "[LOAD] result of \"split_data\"\n",
      " from memory\n",
      "[RUN] process of \"split_data[0]\"\n",
      "[COMPLETE] split_data[0]\n",
      "[LOAD] result of \"split_data\"\n",
      " from memory\n",
      "[RUN] process of \"split_data[1]\"\n",
      "[COMPLETE] split_data[1]\n",
      "[LOAD] result of \"extract_feature_cols_and_encode_categoricals\"\n",
      " from memory\n",
      "[RUN] process of \"extract_feature_cols_and_encode_categoricals[1]\"\n",
      "[COMPLETE] extract_feature_cols_and_encode_categoricals[1]\n",
      "[LOAD] result of \"sample_chids\"\n",
      " from data/sample/sampled_chids.npy\n",
      "[RUN] process of \"build_chid_to_nid_map\"\n",
      "[COMPLETE] build_chid_to_nid_map\n",
      "[RUN] process of \"process\"\n",
      "[COMPLETE] process\n",
      "[RUN] process of \"process[1]\"\n",
      "[COMPLETE] process[1]\n",
      "[LOAD] result of \"extract_feature_cols_and_encode_categoricals\"\n",
      " from memory\n",
      "[RUN] process of \"extract_feature_cols_and_encode_categoricals[1]\"\n",
      "[COMPLETE] extract_feature_cols_and_encode_categoricals[1]\n",
      "[LOAD] result of \"sample_chids\"\n",
      " from data/sample/sampled_chids.npy\n",
      "[RUN] process of \"build_chid_to_nid_map\"\n",
      "[COMPLETE] build_chid_to_nid_map\n",
      "[RUN] process of \"process\"\n",
      "[COMPLETE] process\n",
      "[RUN] process of \"process[3]\"\n",
      "[COMPLETE] process[3]\n",
      "[RUN] process of \"process\"\n",
      "Processing x_train\n",
      "Split Sparse and Dense Parts and Apply np.float64 and np.int64, respectively\n",
      "apply Log(1+x) transformation to the dense features\n",
      "apply MinMaxScale((0,1)) to the dense features\n",
      "Processing x_test\n",
      "Split Sparse and Dense Parts and Apply np.float64 and np.int64, respectively\n",
      "apply Log(1+x) transformation to the dense features\n",
      "apply MinMaxScale((0,1)) to the dense features\n",
      "[COMPLETE] process\n",
      "[RUN] process of \"process[3]\"\n",
      "[COMPLETE] process[3]\n",
      "[LOAD] result of \"split_data\"\n",
      " from memory\n",
      "[RUN] process of \"split_data[0]\"\n",
      "[COMPLETE] split_data[0]\n",
      "[LOAD] result of \"split_data\"\n",
      " from memory\n",
      "[RUN] process of \"split_data[1]\"\n",
      "[COMPLETE] split_data[1]\n",
      "[LOAD] result of \"extract_feature_cols_and_encode_categoricals\"\n",
      " from memory\n",
      "[RUN] process of \"extract_feature_cols_and_encode_categoricals[1]\"\n",
      "[COMPLETE] extract_feature_cols_and_encode_categoricals[1]\n",
      "[LOAD] result of \"sample_chids\"\n",
      " from data/sample/sampled_chids.npy\n",
      "[RUN] process of \"build_chid_to_nid_map\"\n",
      "[COMPLETE] build_chid_to_nid_map\n",
      "[RUN] process of \"process\"\n",
      "[COMPLETE] process\n",
      "[RUN] process of \"process[1]\"\n",
      "[COMPLETE] process[1]\n",
      "[LOAD] result of \"extract_feature_cols_and_encode_categoricals\"\n",
      " from memory\n",
      "[RUN] process of \"extract_feature_cols_and_encode_categoricals[1]\"\n",
      "[COMPLETE] extract_feature_cols_and_encode_categoricals[1]\n",
      "[LOAD] result of \"sample_chids\"\n",
      " from data/sample/sampled_chids.npy\n",
      "[RUN] process of \"build_chid_to_nid_map\"\n",
      "[COMPLETE] build_chid_to_nid_map\n",
      "[RUN] process of \"process\"\n",
      "[COMPLETE] process\n",
      "[RUN] process of \"process[3]\"\n",
      "[COMPLETE] process[3]\n",
      "[RUN] process of \"process\"\n",
      "Processing x_train\n",
      "Split Sparse and Dense Parts and Apply np.float64 and np.int64, respectively\n",
      "apply Log(1+x) transformation to the dense features\n",
      "apply MinMaxScale((0,1)) to the dense features\n",
      "Processing x_test\n",
      "Split Sparse and Dense Parts and Apply np.float64 and np.int64, respectively\n",
      "apply Log(1+x) transformation to the dense features\n",
      "apply MinMaxScale((0,1)) to the dense features\n",
      "[COMPLETE] process\n",
      "[RUN] process of \"process[2]\"\n",
      "[COMPLETE] process[2]\n",
      "[LOAD] result of \"process\"\n",
      " from memory\n",
      "[RUN] process of \"process[3]\"\n",
      "[COMPLETE] process[3]\n",
      "[LOAD] result of \"process\"\n",
      " from memory\n",
      "[RUN] process of \"process[4]\"\n",
      "[COMPLETE] process[4]\n",
      "[LOAD] result of \"process\"\n",
      " from memory\n",
      "[RUN] process of \"process[5]\"\n",
      "[COMPLETE] process[5]\n",
      "[RUN] process of \"build_TensorDataset\"\n",
      "[COMPLETE] build_TensorDataset\n"
     ]
    },
    {
     "data": {
      "text/plain": [
       "<torch.utils.data.dataset.TensorDataset at 0x7f95b2f6f8d0>"
      ]
     },
     "execution_count": 5,
     "metadata": {},
     "output_type": "execute_result"
    }
   ],
   "source": [
    "pipe.test_dataset.get(verbose=True)   "
   ]
  },
  {
   "cell_type": "markdown",
   "metadata": {},
   "source": [
    "# Example of making modification to the pipeline "
   ]
  },
  {
   "cell_type": "markdown",
   "metadata": {},
   "source": [
    "# define new function and connect in the end "
   ]
  },
  {
   "cell_type": "code",
   "execution_count": null,
   "metadata": {},
   "outputs": [],
   "source": [
    "@pipe._func_\n",
    "def get_length(tensor_dataset):\n",
    "    return len(tensor_dataset)\n",
    "\n",
    "pipe.setup_connection('size = get_length(train_dataset)')"
   ]
  },
  {
   "cell_type": "code",
   "execution_count": null,
   "metadata": {},
   "outputs": [],
   "source": [
    "pipe.view(summary=False)"
   ]
  },
  {
   "cell_type": "code",
   "execution_count": null,
   "metadata": {},
   "outputs": [],
   "source": [
    "pipe.size.get()"
   ]
  },
  {
   "cell_type": "markdown",
   "metadata": {},
   "source": [
    "# modify a function"
   ]
  },
  {
   "cell_type": "code",
   "execution_count": null,
   "metadata": {},
   "outputs": [],
   "source": [
    "@pipe._rep_func_('build_TensorDataset')\n",
    "def build_TensorDataset(x_dense, x_sparse, objmean, tscnt, label_0):\n",
    "    return \"Hello New TensorDataset Result!\""
   ]
  },
  {
   "cell_type": "code",
   "execution_count": null,
   "metadata": {},
   "outputs": [],
   "source": [
    "pipe.test_dataset.get()"
   ]
  },
  {
   "cell_type": "code",
   "execution_count": null,
   "metadata": {},
   "outputs": [],
   "source": [
    "pipe.train_dataset.get()"
   ]
  },
  {
   "cell_type": "code",
   "execution_count": null,
   "metadata": {},
   "outputs": [],
   "source": []
  }
 ],
 "metadata": {
  "hide_input": false,
  "kernelspec": {
   "display_name": "Python 3",
   "language": "python",
   "name": "python3"
  },
  "language_info": {
   "codemirror_mode": {
    "name": "ipython",
    "version": 3
   },
   "file_extension": ".py",
   "mimetype": "text/x-python",
   "name": "python",
   "nbconvert_exporter": "python",
   "pygments_lexer": "ipython3",
   "version": "3.6.11"
  },
  "toc": {
   "base_numbering": 1,
   "nav_menu": {},
   "number_sections": true,
   "sideBar": true,
   "skip_h1_title": false,
   "title_cell": "Table of Contents",
   "title_sidebar": "Contents",
   "toc_cell": false,
   "toc_position": {},
   "toc_section_display": true,
   "toc_window_display": false
  }
 },
 "nbformat": 4,
 "nbformat_minor": 4
}
