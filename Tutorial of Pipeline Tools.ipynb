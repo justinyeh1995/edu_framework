{
 "cells": [
  {
   "cell_type": "markdown",
   "metadata": {},
   "source": [
    "# Simple Example "
   ]
  },
  {
   "cell_type": "code",
   "execution_count": null,
   "metadata": {
    "ExecuteTime": {
     "end_time": "2021-08-02T05:36:06.676652Z",
     "start_time": "2021-08-02T05:36:06.243023Z"
    }
   },
   "outputs": [],
   "source": [
    "from common.ETLBase import PipelineBuilder, PipeConfigBuilder"
   ]
  },
  {
   "cell_type": "code",
   "execution_count": null,
   "metadata": {
    "ExecuteTime": {
     "end_time": "2021-08-01T05:17:19.908140Z",
     "start_time": "2021-08-01T05:17:19.905359Z"
    }
   },
   "outputs": [],
   "source": [
    "config = PipeConfigBuilder()\n",
    "pipe = PipelineBuilder(config)"
   ]
  },
  {
   "cell_type": "code",
   "execution_count": null,
   "metadata": {
    "ExecuteTime": {
     "end_time": "2021-08-01T05:17:23.360873Z",
     "start_time": "2021-08-01T05:17:23.354701Z"
    }
   },
   "outputs": [],
   "source": [
    "config.setups(a=1,b=9)"
   ]
  },
  {
   "cell_type": "code",
   "execution_count": null,
   "metadata": {
    "ExecuteTime": {
     "end_time": "2021-08-01T05:17:24.187705Z",
     "start_time": "2021-08-01T05:17:24.183462Z"
    }
   },
   "outputs": [],
   "source": [
    "config.setups(z=3)"
   ]
  },
  {
   "cell_type": "code",
   "execution_count": null,
   "metadata": {
    "ExecuteTime": {
     "end_time": "2021-08-01T04:57:46.846742Z",
     "start_time": "2021-08-01T04:57:46.782036Z"
    }
   },
   "outputs": [],
   "source": [
    "config.view()"
   ]
  },
  {
   "cell_type": "code",
   "execution_count": null,
   "metadata": {
    "ExecuteTime": {
     "end_time": "2021-08-01T04:57:48.302600Z",
     "start_time": "2021-08-01T04:57:48.264654Z"
    }
   },
   "outputs": [],
   "source": [
    "config.view(summary=False)"
   ]
  },
  {
   "cell_type": "code",
   "execution_count": null,
   "metadata": {
    "ExecuteTime": {
     "end_time": "2021-08-01T04:57:49.719411Z",
     "start_time": "2021-08-01T04:57:49.715866Z"
    }
   },
   "outputs": [],
   "source": [
    "@pipe._func_\n",
    "def plus_a_b(a=1,b=2):\n",
    "    return a+b\n",
    "#pipe._plus_a_b = plus_a_b"
   ]
  },
  {
   "cell_type": "code",
   "execution_count": null,
   "metadata": {
    "ExecuteTime": {
     "end_time": "2021-08-01T04:58:16.114448Z",
     "start_time": "2021-08-01T04:58:15.896610Z"
    }
   },
   "outputs": [],
   "source": [
    "pipe.setup_connection('c = plus_a_b(a=a,b=b)')\n",
    "pipe.setup_connection('d = plus_a_b(a=a,b=c)')\n",
    "pipe.setup_connection('e = plus_a_b(d,d)')\n",
    "pipe.setup_connection('f = plus_a_b(a=b,b=d)')\n",
    "pipe.view(summary=False)"
   ]
  },
  {
   "cell_type": "code",
   "execution_count": null,
   "metadata": {
    "ExecuteTime": {
     "end_time": "2021-08-01T04:58:19.710163Z",
     "start_time": "2021-08-01T04:58:19.678690Z"
    }
   },
   "outputs": [],
   "source": [
    "pipe.f.get()"
   ]
  },
  {
   "cell_type": "code",
   "execution_count": null,
   "metadata": {
    "ExecuteTime": {
     "end_time": "2021-08-01T04:58:41.352757Z",
     "start_time": "2021-08-01T04:58:41.176285Z"
    }
   },
   "outputs": [],
   "source": [
    "pipe.view(summary=False, option='all')"
   ]
  },
  {
   "cell_type": "markdown",
   "metadata": {},
   "source": [
    "# Visualization of the Data Pipeline in an Experiment "
   ]
  },
  {
   "cell_type": "code",
   "execution_count": null,
   "metadata": {
    "ExecuteTime": {
     "end_time": "2021-08-01T05:23:10.810199Z",
     "start_time": "2021-08-01T05:23:08.100965Z"
    }
   },
   "outputs": [],
   "source": [
    "from experiments.ex3.connect_pipeline import pipe"
   ]
  },
  {
   "cell_type": "code",
   "execution_count": null,
   "metadata": {
    "ExecuteTime": {
     "end_time": "2021-08-01T04:59:10.658903Z",
     "start_time": "2021-08-01T04:59:10.601761Z"
    }
   },
   "outputs": [],
   "source": [
    "pipe.view(summary=False)"
   ]
  },
  {
   "cell_type": "markdown",
   "metadata": {},
   "source": [
    "## checking dependency "
   ]
  },
  {
   "cell_type": "code",
   "execution_count": null,
   "metadata": {
    "ExecuteTime": {
     "end_time": "2021-08-01T04:59:20.967522Z",
     "start_time": "2021-08-01T04:59:20.906301Z"
    }
   },
   "outputs": [],
   "source": [
    "pipe.view_dependency('split_data',summary=False)"
   ]
  },
  {
   "cell_type": "markdown",
   "metadata": {},
   "source": [
    "## viewing data content, size, and type "
   ]
  },
  {
   "cell_type": "code",
   "execution_count": null,
   "metadata": {
    "ExecuteTime": {
     "end_time": "2021-08-01T04:59:42.172749Z",
     "start_time": "2021-08-01T04:59:41.599833Z"
    }
   },
   "outputs": [],
   "source": [
    "pipe.view(summary=False, option = 'all')"
   ]
  },
  {
   "cell_type": "markdown",
   "metadata": {},
   "source": [
    "## viewing data size and type only "
   ]
  },
  {
   "cell_type": "code",
   "execution_count": null,
   "metadata": {},
   "outputs": [],
   "source": [
    "pipe.view(summary=False, option = 'light')"
   ]
  },
  {
   "cell_type": "code",
   "execution_count": null,
   "metadata": {},
   "outputs": [],
   "source": [
    "pipe.view_dependency('split_data',summary=False, option='light')"
   ]
  },
  {
   "cell_type": "markdown",
   "metadata": {},
   "source": [
    "# Obtain values of a temporary result of the pipeline "
   ]
  },
  {
   "cell_type": "code",
   "execution_count": null,
   "metadata": {
    "ExecuteTime": {
     "end_time": "2021-08-01T05:24:32.376892Z",
     "start_time": "2021-08-01T05:24:29.490221Z"
    }
   },
   "outputs": [],
   "source": [
    "pipe.test_dataset.get(verbose=True)   "
   ]
  },
  {
   "cell_type": "markdown",
   "metadata": {},
   "source": [
    "# Example of making modification to the pipeline "
   ]
  },
  {
   "cell_type": "markdown",
   "metadata": {},
   "source": [
    "# define new function and connect in the end "
   ]
  },
  {
   "cell_type": "code",
   "execution_count": null,
   "metadata": {},
   "outputs": [],
   "source": [
    "@pipe._func_\n",
    "def get_length(tensor_dataset):\n",
    "    return len(tensor_dataset)\n",
    "\n",
    "pipe.setup_connection('size = get_length(train_dataset)')"
   ]
  },
  {
   "cell_type": "code",
   "execution_count": null,
   "metadata": {},
   "outputs": [],
   "source": [
    "pipe.view(summary=False)"
   ]
  },
  {
   "cell_type": "code",
   "execution_count": null,
   "metadata": {},
   "outputs": [],
   "source": [
    "pipe.size.get()"
   ]
  },
  {
   "cell_type": "markdown",
   "metadata": {},
   "source": [
    "# modify a function"
   ]
  },
  {
   "cell_type": "code",
   "execution_count": null,
   "metadata": {},
   "outputs": [],
   "source": [
    "@pipe._rep_func_('build_TensorDataset')\n",
    "def build_TensorDataset(x_dense, x_sparse, objmean, tscnt, label_0):\n",
    "    return \"Hello New TensorDataset Result!\""
   ]
  },
  {
   "cell_type": "code",
   "execution_count": null,
   "metadata": {},
   "outputs": [],
   "source": [
    "pipe.test_dataset.get()"
   ]
  },
  {
   "cell_type": "code",
   "execution_count": null,
   "metadata": {},
   "outputs": [],
   "source": [
    "pipe.train_dataset.get()"
   ]
  },
  {
   "cell_type": "markdown",
   "metadata": {},
   "source": [
    "# Building ProcessBase"
   ]
  },
  {
   "cell_type": "code",
   "execution_count": null,
   "metadata": {
    "ExecuteTime": {
     "end_time": "2021-08-02T06:31:53.362627Z",
     "start_time": "2021-08-02T06:31:52.770450Z"
    }
   },
   "outputs": [],
   "source": [
    "from experiments.ex4.preprocess.config import PreProcess  \n",
    "preprocess = PreProcess(save_tmp=True, experiment_name = 'ex4') \n",
    "\n",
    "import os \n",
    "origin_path = 'data/source'\n",
    "preprocess.setup_vars(\n",
    "    chid_file=os.path.join(origin_path, 'sample_chid.txt'), \n",
    "    cdtx_file=os.path.join(origin_path, 'sample_zip_if_cca_cdtx0001_hist.csv'), \n",
    "    cust_f_file=os.path.join(origin_path, 'sample_zip_if_cca_cust_f.csv'),\n",
    "    category_cols=['chid', 'bnsfg', 'iterm', 'mcc', 'scity'], \n",
    "    sparse_feat=['chid', 'bnsfg', 'iterm', 'mcc', 'scity'], \n",
    "    numeric_cols=['bnspt', 'timestamp_0', 'timestamp_1', 'objam'],\n",
    "    dense_feat=['bnspt', 'timestamp_0', 'timestamp_1', 'objam'],\n",
    "    cust_category_cols=['chid', 'masts', 'educd', 'trdtp', 'poscd'], \n",
    "    cust_numeric_cols=['slam', 'first_mob', 'constant_change', 'sum_l2_ind',\n",
    "                  'sum_u2_ind', 'constant_l2_ind', 'constant_u4_ind',\n",
    "                  'growth_rate', 'monotone_down', 'monotone_up', 'data_dt'],\n",
    "    target_cols=['chid', 'data_dt', 'objam_sum', 'objam_mean', 'trans_count', 'objam_mean_M3'], \n",
    "    USE_CHID=True, \n",
    "    time_column_data_dt='data_dt', \n",
    "    time_column_csmdt='csmdt', \n",
    "    result_column_timestamp_1='timestamp_1', \n",
    "    result_column_timestamp_0='timestamp_0', \n",
    "    result_column_timestamp='timestamp', \n",
    "    LEFT='left', \n",
    "    INNER='inner', \n",
    "    n_sample=50, \n",
    "    window_size=120,\n",
    "    test_size=2\n",
    ")"
   ]
  },
  {
   "cell_type": "code",
   "execution_count": null,
   "metadata": {
    "ExecuteTime": {
     "end_time": "2021-08-02T06:31:57.269182Z",
     "start_time": "2021-08-02T06:31:54.457430Z"
    }
   },
   "outputs": [],
   "source": [
    "preprocess.config(verbose=True)  "
   ]
  },
  {
   "cell_type": "code",
   "execution_count": null,
   "metadata": {
    "ExecuteTime": {
     "end_time": "2021-08-02T06:32:04.449836Z",
     "start_time": "2021-08-02T06:32:04.394904Z"
    }
   },
   "outputs": [],
   "source": [
    "preprocess.pipe.sparse_dense_setting_generator.get(verbose=True, load_tmp=True) "
   ]
  },
  {
   "cell_type": "code",
   "execution_count": null,
   "metadata": {
    "ExecuteTime": {
     "end_time": "2021-08-02T06:27:54.498263Z",
     "start_time": "2021-08-02T06:27:54.387458Z"
    }
   },
   "outputs": [],
   "source": [
    "preprocess.pipe.view(summary=False) "
   ]
  },
  {
   "cell_type": "code",
   "execution_count": null,
   "metadata": {
    "ExecuteTime": {
     "end_time": "2021-08-02T06:30:42.641879Z",
     "start_time": "2021-08-02T06:30:22.114010Z"
    }
   },
   "outputs": [],
   "source": [
    "preprocess.pipe.x_train.get(verbose=True, load_tmp=True)   "
   ]
  },
  {
   "cell_type": "code",
   "execution_count": null,
   "metadata": {
    "ExecuteTime": {
     "end_time": "2021-08-01T14:57:57.584152Z",
     "start_time": "2021-08-01T14:57:49.204740Z"
    }
   },
   "outputs": [],
   "source": [
    "preprocess.pipe.df_cdtx.get(verbose=True, load_tmp=True)   "
   ]
  },
  {
   "cell_type": "code",
   "execution_count": null,
   "metadata": {
    "ExecuteTime": {
     "end_time": "2021-08-01T14:55:39.710961Z",
     "start_time": "2021-08-01T14:55:16.204327Z"
    }
   },
   "outputs": [],
   "source": [
    "preprocess.pipe.df_full_y_sum.get(verbose=True, load_tmp=True)  "
   ]
  },
  {
   "cell_type": "code",
   "execution_count": null,
   "metadata": {
    "ExecuteTime": {
     "end_time": "2021-08-02T06:32:29.573484Z",
     "start_time": "2021-08-02T06:32:10.923103Z"
    }
   },
   "outputs": [],
   "source": [
    "preprocess.pipe.train_dataset.get(verbose=True, load_tmp=True)  "
   ]
  },
  {
   "cell_type": "code",
   "execution_count": null,
   "metadata": {
    "ExecuteTime": {
     "end_time": "2021-08-02T06:32:29.794531Z",
     "start_time": "2021-08-02T06:32:29.576276Z"
    }
   },
   "outputs": [],
   "source": [
    "preprocess.pipe.test_dataset.get(verbose=True, load_tmp=True)  "
   ]
  },
  {
   "cell_type": "markdown",
   "metadata": {},
   "source": [
    "# Auto-Delete Unused Memory \n",
    "\n",
    "--- \n",
    "\n",
    "- [X] make the connection inverse. (add children list variable and add during connection). \n",
    "- [X] insert processed variable. \n",
    "- [X] once processed, mark processed = True. \n",
    "- [X] if all children are processed = True, delete _in_memory_results. (do the check and delete after a parent being processed).  \n",
    "- [X] change is_processed to is_complete and check if still working ? (not working)\n",
    "\n",
    "\n",
    "\n",
    "\n"
   ]
  },
  {
   "cell_type": "code",
   "execution_count": null,
   "metadata": {
    "ExecuteTime": {
     "end_time": "2021-08-02T08:14:13.384535Z",
     "start_time": "2021-08-02T08:14:13.029104Z"
    }
   },
   "outputs": [],
   "source": [
    "from experiments.ex4.preprocess.config import PreProcess  \n",
    "preprocess = PreProcess(save_tmp=True, experiment_name = 'ex4') \n",
    "\n",
    "import os \n",
    "origin_path = 'data/source'\n",
    "preprocess.setup_vars(\n",
    "    chid_file=os.path.join(origin_path, 'sample_chid.txt'), \n",
    "    cdtx_file=os.path.join(origin_path, 'sample_zip_if_cca_cdtx0001_hist.csv'), \n",
    "    cust_f_file=os.path.join(origin_path, 'sample_zip_if_cca_cust_f.csv'),\n",
    "    category_cols=['chid', 'bnsfg', 'iterm', 'mcc', 'scity'], \n",
    "    sparse_feat=['chid', 'bnsfg', 'iterm', 'mcc', 'scity'], \n",
    "    numeric_cols=['bnspt', 'timestamp_0', 'timestamp_1', 'objam'],\n",
    "    dense_feat=['bnspt', 'timestamp_0', 'timestamp_1', 'objam'],\n",
    "    cust_category_cols=['chid', 'masts', 'educd', 'trdtp', 'poscd'], \n",
    "    cust_numeric_cols=['slam', 'first_mob', 'constant_change', 'sum_l2_ind',\n",
    "                  'sum_u2_ind', 'constant_l2_ind', 'constant_u4_ind',\n",
    "                  'growth_rate', 'monotone_down', 'monotone_up', 'data_dt'],\n",
    "    target_cols=['chid', 'data_dt', 'objam_sum', 'objam_mean', 'trans_count', 'objam_mean_M3'], \n",
    "    USE_CHID=True, \n",
    "    time_column_data_dt='data_dt', \n",
    "    time_column_csmdt='csmdt', \n",
    "    result_column_timestamp_1='timestamp_1', \n",
    "    result_column_timestamp_0='timestamp_0', \n",
    "    result_column_timestamp='timestamp', \n",
    "    LEFT='left', \n",
    "    INNER='inner', \n",
    "    n_sample=50, \n",
    "    window_size=120,\n",
    "    test_size=2\n",
    ")"
   ]
  },
  {
   "cell_type": "code",
   "execution_count": null,
   "metadata": {
    "ExecuteTime": {
     "end_time": "2021-08-02T08:14:16.206620Z",
     "start_time": "2021-08-02T08:14:13.700164Z"
    }
   },
   "outputs": [],
   "source": [
    "preprocess.config(verbose=True)  "
   ]
  },
  {
   "cell_type": "code",
   "execution_count": null,
   "metadata": {
    "ExecuteTime": {
     "end_time": "2021-08-02T08:14:52.251887Z",
     "start_time": "2021-08-02T08:14:33.441353Z"
    }
   },
   "outputs": [],
   "source": [
    "preprocess.pipe.train_dataset.get(verbose=True, \n",
    "                                  load_tmp=True, \n",
    "                                  handle_wastes=False) "
   ]
  },
  {
   "cell_type": "code",
   "execution_count": null,
   "metadata": {
    "ExecuteTime": {
     "end_time": "2021-08-02T08:13:41.211021Z",
     "start_time": "2021-08-02T08:13:41.115880Z"
    }
   },
   "outputs": [],
   "source": [
    "preprocess.pipe.test_dataset.get(verbose=True, load_tmp=True, handle_wastes=False)  "
   ]
  },
  {
   "cell_type": "code",
   "execution_count": null,
   "metadata": {
    "ExecuteTime": {
     "end_time": "2021-08-02T08:07:56.272722Z",
     "start_time": "2021-08-02T08:07:56.197839Z"
    }
   },
   "outputs": [],
   "source": [
    "preprocess.pipe.sparse_dense_setting_generator.get(verbose=True, load_tmp=True)  "
   ]
  },
  {
   "cell_type": "code",
   "execution_count": null,
   "metadata": {},
   "outputs": [],
   "source": []
  }
 ],
 "metadata": {
  "hide_input": false,
  "kernelspec": {
   "display_name": "Python 3",
   "language": "python",
   "name": "python3"
  },
  "language_info": {
   "codemirror_mode": {
    "name": "ipython",
    "version": 3
   },
   "file_extension": ".py",
   "mimetype": "text/x-python",
   "name": "python",
   "nbconvert_exporter": "python",
   "pygments_lexer": "ipython3",
   "version": "3.6.11"
  },
  "toc": {
   "base_numbering": 1,
   "nav_menu": {},
   "number_sections": true,
   "sideBar": true,
   "skip_h1_title": false,
   "title_cell": "Table of Contents",
   "title_sidebar": "Contents",
   "toc_cell": false,
   "toc_position": {},
   "toc_section_display": true,
   "toc_window_display": false
  }
 },
 "nbformat": 4,
 "nbformat_minor": 4
}
