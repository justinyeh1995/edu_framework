{
 "cells": [
  {
   "cell_type": "markdown",
   "metadata": {},
   "source": [
    "# Simple Example "
   ]
  },
  {
   "cell_type": "code",
   "execution_count": null,
   "metadata": {
    "ExecuteTime": {
     "end_time": "2021-08-01T05:17:18.894255Z",
     "start_time": "2021-08-01T05:17:18.534252Z"
    }
   },
   "outputs": [],
   "source": [
    "from common.ETLBase import PipelineBuilder, PipeConfigBuilder"
   ]
  },
  {
   "cell_type": "code",
   "execution_count": null,
   "metadata": {
    "ExecuteTime": {
     "end_time": "2021-08-01T05:17:19.908140Z",
     "start_time": "2021-08-01T05:17:19.905359Z"
    }
   },
   "outputs": [],
   "source": [
    "config = PipeConfigBuilder()\n",
    "pipe = PipelineBuilder(config)"
   ]
  },
  {
   "cell_type": "code",
   "execution_count": null,
   "metadata": {
    "ExecuteTime": {
     "end_time": "2021-08-01T05:17:23.360873Z",
     "start_time": "2021-08-01T05:17:23.354701Z"
    }
   },
   "outputs": [],
   "source": [
    "config.setups(a=1,b=9)"
   ]
  },
  {
   "cell_type": "code",
   "execution_count": null,
   "metadata": {
    "ExecuteTime": {
     "end_time": "2021-08-01T05:17:24.187705Z",
     "start_time": "2021-08-01T05:17:24.183462Z"
    }
   },
   "outputs": [],
   "source": [
    "config.setups(z=3)"
   ]
  },
  {
   "cell_type": "code",
   "execution_count": null,
   "metadata": {
    "ExecuteTime": {
     "end_time": "2021-08-01T04:57:46.846742Z",
     "start_time": "2021-08-01T04:57:46.782036Z"
    }
   },
   "outputs": [],
   "source": [
    "config.view()"
   ]
  },
  {
   "cell_type": "code",
   "execution_count": null,
   "metadata": {
    "ExecuteTime": {
     "end_time": "2021-08-01T04:57:48.302600Z",
     "start_time": "2021-08-01T04:57:48.264654Z"
    }
   },
   "outputs": [],
   "source": [
    "config.view(summary=False)"
   ]
  },
  {
   "cell_type": "code",
   "execution_count": null,
   "metadata": {
    "ExecuteTime": {
     "end_time": "2021-08-01T04:57:49.719411Z",
     "start_time": "2021-08-01T04:57:49.715866Z"
    }
   },
   "outputs": [],
   "source": [
    "@pipe._func_\n",
    "def plus_a_b(a=1,b=2):\n",
    "    return a+b\n",
    "#pipe._plus_a_b = plus_a_b"
   ]
  },
  {
   "cell_type": "code",
   "execution_count": null,
   "metadata": {
    "ExecuteTime": {
     "end_time": "2021-08-01T04:58:16.114448Z",
     "start_time": "2021-08-01T04:58:15.896610Z"
    }
   },
   "outputs": [],
   "source": [
    "pipe.setup_connection('c = plus_a_b(a=a,b=b)')\n",
    "pipe.setup_connection('d = plus_a_b(a=a,b=c)')\n",
    "pipe.setup_connection('e = plus_a_b(d,d)')\n",
    "pipe.setup_connection('f = plus_a_b(a=b,b=d)')\n",
    "pipe.view(summary=False)"
   ]
  },
  {
   "cell_type": "code",
   "execution_count": null,
   "metadata": {
    "ExecuteTime": {
     "end_time": "2021-08-01T04:58:19.710163Z",
     "start_time": "2021-08-01T04:58:19.678690Z"
    }
   },
   "outputs": [],
   "source": [
    "pipe.f.get()"
   ]
  },
  {
   "cell_type": "code",
   "execution_count": null,
   "metadata": {
    "ExecuteTime": {
     "end_time": "2021-08-01T04:58:41.352757Z",
     "start_time": "2021-08-01T04:58:41.176285Z"
    }
   },
   "outputs": [],
   "source": [
    "pipe.view(summary=False, option='all')"
   ]
  },
  {
   "cell_type": "markdown",
   "metadata": {},
   "source": [
    "# Visualization of the Data Pipeline in an Experiment "
   ]
  },
  {
   "cell_type": "code",
   "execution_count": null,
   "metadata": {
    "ExecuteTime": {
     "end_time": "2021-08-01T05:23:10.810199Z",
     "start_time": "2021-08-01T05:23:08.100965Z"
    }
   },
   "outputs": [],
   "source": [
    "from experiments.ex3.connect_pipeline import pipe"
   ]
  },
  {
   "cell_type": "code",
   "execution_count": null,
   "metadata": {
    "ExecuteTime": {
     "end_time": "2021-08-01T04:59:10.658903Z",
     "start_time": "2021-08-01T04:59:10.601761Z"
    }
   },
   "outputs": [],
   "source": [
    "pipe.view(summary=False)"
   ]
  },
  {
   "cell_type": "markdown",
   "metadata": {},
   "source": [
    "## checking dependency "
   ]
  },
  {
   "cell_type": "code",
   "execution_count": null,
   "metadata": {
    "ExecuteTime": {
     "end_time": "2021-08-01T04:59:20.967522Z",
     "start_time": "2021-08-01T04:59:20.906301Z"
    }
   },
   "outputs": [],
   "source": [
    "pipe.view_dependency('split_data',summary=False)"
   ]
  },
  {
   "cell_type": "markdown",
   "metadata": {},
   "source": [
    "## viewing data content, size, and type "
   ]
  },
  {
   "cell_type": "code",
   "execution_count": null,
   "metadata": {
    "ExecuteTime": {
     "end_time": "2021-08-01T04:59:42.172749Z",
     "start_time": "2021-08-01T04:59:41.599833Z"
    }
   },
   "outputs": [],
   "source": [
    "pipe.view(summary=False, option = 'all')"
   ]
  },
  {
   "cell_type": "markdown",
   "metadata": {},
   "source": [
    "## viewing data size and type only "
   ]
  },
  {
   "cell_type": "code",
   "execution_count": null,
   "metadata": {},
   "outputs": [],
   "source": [
    "pipe.view(summary=False, option = 'light')"
   ]
  },
  {
   "cell_type": "code",
   "execution_count": null,
   "metadata": {},
   "outputs": [],
   "source": [
    "pipe.view_dependency('split_data',summary=False, option='light')"
   ]
  },
  {
   "cell_type": "markdown",
   "metadata": {},
   "source": [
    "# Obtain values of a temporary result of the pipeline "
   ]
  },
  {
   "cell_type": "code",
   "execution_count": null,
   "metadata": {
    "ExecuteTime": {
     "end_time": "2021-08-01T05:24:32.376892Z",
     "start_time": "2021-08-01T05:24:29.490221Z"
    }
   },
   "outputs": [],
   "source": [
    "pipe.test_dataset.get(verbose=True)   "
   ]
  },
  {
   "cell_type": "markdown",
   "metadata": {},
   "source": [
    "# Example of making modification to the pipeline "
   ]
  },
  {
   "cell_type": "markdown",
   "metadata": {},
   "source": [
    "# define new function and connect in the end "
   ]
  },
  {
   "cell_type": "code",
   "execution_count": null,
   "metadata": {},
   "outputs": [],
   "source": [
    "@pipe._func_\n",
    "def get_length(tensor_dataset):\n",
    "    return len(tensor_dataset)\n",
    "\n",
    "pipe.setup_connection('size = get_length(train_dataset)')"
   ]
  },
  {
   "cell_type": "code",
   "execution_count": null,
   "metadata": {},
   "outputs": [],
   "source": [
    "pipe.view(summary=False)"
   ]
  },
  {
   "cell_type": "code",
   "execution_count": null,
   "metadata": {},
   "outputs": [],
   "source": [
    "pipe.size.get()"
   ]
  },
  {
   "cell_type": "markdown",
   "metadata": {},
   "source": [
    "# modify a function"
   ]
  },
  {
   "cell_type": "code",
   "execution_count": null,
   "metadata": {},
   "outputs": [],
   "source": [
    "@pipe._rep_func_('build_TensorDataset')\n",
    "def build_TensorDataset(x_dense, x_sparse, objmean, tscnt, label_0):\n",
    "    return \"Hello New TensorDataset Result!\""
   ]
  },
  {
   "cell_type": "code",
   "execution_count": null,
   "metadata": {},
   "outputs": [],
   "source": [
    "pipe.test_dataset.get()"
   ]
  },
  {
   "cell_type": "code",
   "execution_count": null,
   "metadata": {},
   "outputs": [],
   "source": [
    "pipe.train_dataset.get()"
   ]
  },
  {
   "cell_type": "markdown",
   "metadata": {},
   "source": [
    "# Building ProcessBase"
   ]
  },
  {
   "cell_type": "code",
   "execution_count": 1,
   "metadata": {
    "ExecuteTime": {
     "end_time": "2021-08-01T15:49:13.467494Z",
     "start_time": "2021-08-01T15:49:13.078614Z"
    }
   },
   "outputs": [],
   "source": [
    "from experiments.ex4.preprocess.config import PreProcess  \n",
    "preprocess = PreProcess(save_tmp=True, experiment_name = 'ex4') \n",
    "\n",
    "import os \n",
    "origin_path = 'data/source'\n",
    "preprocess.setup_vars(\n",
    "    chid_file=os.path.join(origin_path, 'sample_chid.txt'), \n",
    "    cdtx_file=os.path.join(origin_path, 'sample_zip_if_cca_cdtx0001_hist.csv'), \n",
    "    cust_f_file=os.path.join(origin_path, 'sample_zip_if_cca_cust_f.csv'),\n",
    "    category_cols=['chid', 'bnsfg', 'iterm', 'mcc', 'scity'], \n",
    "    sparse_feat=['chid', 'bnsfg', 'iterm', 'mcc', 'scity'], \n",
    "    numeric_cols=['bnspt', 'timestamp_0', 'timestamp_1', 'objam'],\n",
    "    dense_feat=['bnspt', 'timestamp_0', 'timestamp_1', 'objam'],\n",
    "    cust_category_cols=['chid', 'masts', 'educd', 'trdtp', 'poscd'], \n",
    "    cust_numeric_cols=['slam', 'first_mob', 'constant_change', 'sum_l2_ind',\n",
    "                  'sum_u2_ind', 'constant_l2_ind', 'constant_u4_ind',\n",
    "                  'growth_rate', 'monotone_down', 'monotone_up', 'data_dt'],\n",
    "    target_cols=['chid', 'data_dt', 'objam_sum', 'objam_mean', 'trans_count', 'objam_mean_M3'], \n",
    "    USE_CHID=True, \n",
    "    time_column_data_dt='data_dt', \n",
    "    time_column_csmdt='csmdt', \n",
    "    result_column_timestamp_1='timestamp_1', \n",
    "    result_column_timestamp_0='timestamp_0', \n",
    "    result_column_timestamp='timestamp', \n",
    "    LEFT='left', \n",
    "    INNER='inner', \n",
    "    n_sample=50, \n",
    "    window_size=120,\n",
    "    test_size=2\n",
    ")"
   ]
  },
  {
   "cell_type": "code",
   "execution_count": 2,
   "metadata": {
    "ExecuteTime": {
     "end_time": "2021-08-01T15:49:15.613562Z",
     "start_time": "2021-08-01T15:49:14.071625Z"
    }
   },
   "outputs": [
    {
     "name": "stdout",
     "output_type": "stream",
     "text": [
      "[Connect] chid_file,cdtx_file,cust_f_file,category_cols,sparse_feat,numeric_cols,dense_feat,cust_category_cols,cust_numeric_cols,target_cols,USE_CHID,time_column_data_dt,time_column_csmdt,result_column_timestamp_1,result_column_timestamp_0,result_column_timestamp,LEFT,INNER,n_sample,window_size,test_size = collect_inputs_for_preprocess(chid_file=chid_file,cdtx_file=cdtx_file,cust_f_file=cust_f_file,category_cols=category_cols,sparse_feat=sparse_feat,numeric_cols=numeric_cols,dense_feat=dense_feat,cust_category_cols=cust_category_cols,cust_numeric_cols=cust_numeric_cols,target_cols=target_cols,USE_CHID=USE_CHID,time_column_data_dt=time_column_data_dt,time_column_csmdt=time_column_csmdt,result_column_timestamp_1=result_column_timestamp_1,result_column_timestamp_0=result_column_timestamp_0,result_column_timestamp=result_column_timestamp,LEFT=LEFT,INNER=INNER,n_sample=n_sample,window_size=window_size,test_size=test_size)\n",
      "[Connect] sparse_dense_setting_generator = create_sparse_dense_setting_generator(    category_cols=category_cols,    sparse_feat=sparse_feat,    numeric_cols=numeric_cols,     dense_feat=dense_feat,     USE_CHID=USE_CHID)\n",
      "[Connect] chids = load_chids(chid_file=chid_file)\n",
      "[Connect] sampled_chids = sample_chids(chids, n_sample = n_sample)\n",
      "[Connect] chid_to_nid_map = build_chid_to_nid_map(sampled_chids)\n",
      "[Connect] df_cdtx = load_cdtx(sampled_chids, cdtx_file = cdtx_file)\n",
      "[Connect] df_cdtx = convert_uid_to_nid(df_cdtx, chid_to_nid_map)\n",
      "[Connect] df_cdtx = add_month(df_cdtx)\n",
      "[Connect] df_full_y_sum = make_chid_x_month_table(df_cdtx)\n",
      "[Connect] df_cdtx_monthly_objam = calculate_monthly_target(df_cdtx)\n",
      "[Connect] df_full_y_sum = merge_with_another_table(df_full_y_sum, df_cdtx_monthly_objam, join_method=LEFT)\n",
      "[Connect] df_cust_f = load_cust_f(sampled_chids, cust_f_file=cust_f_file)\n",
      "[Connect] df_cust_f = convert_uid_to_nid(df_cust_f, chid_to_nid_map)\n",
      "[Connect] df_full_y_sum = merge_with_another_table(df_full_y_sum, df_cust_f, join_method=INNER)\n",
      "[Connect] df_full_y_sum = add_mean_of_previous_two_months(df_full_y_sum)\n",
      "[Connect] df_full_y_sum = cast_time_column_to_np_datatime64(df_full_y_sum, time_column = time_column_data_dt)\n",
      "[Connect] df_cdtx = cast_time_column_to_np_datatime64(df_cdtx, time_column = time_column_csmdt)\n",
      "[Connect] df_cdtx = add_duration_since_20180101(df_cdtx, time_column = time_column_csmdt, result_column=result_column_timestamp_1)\n",
      "[Connect] df_cdtx = add_duration_since_last_trans(df_cdtx, time_column = time_column_csmdt, result_column=result_column_timestamp_0)\n",
      "[Connect] df_input, feature_map = extract_feature_cols_and_encode_categoricals(df_cdtx, numeric_cols=numeric_cols, category_cols=category_cols)\n",
      "[Connect] df_feat_input, cust_feature_map = extract_feature_cols_and_encode_categoricals(df_cust_f, numeric_cols=cust_numeric_cols, category_cols=cust_category_cols)\n",
      "[Connect] df_feat_input = cast_time_column_to_np_datatime64(df_feat_input, time_column = time_column_data_dt)\n",
      "[Connect] df_feat_input = add_duration_since_20180101(df_feat_input, time_column = time_column_data_dt, result_column=result_column_timestamp)\n",
      "[Connect] df_y = extract_target_columns(df_full_y_sum, target_cols=target_cols)\n",
      "[Connect] df_y = add_duration_since_20180101(df_y, time_column = time_column_data_dt, result_column=result_column_timestamp)\n",
      "[Connect] x_train, x_test, f_train, f_test, y_train, y_test = split_data(df_input, df_feat_input, df_y, window_size = window_size, test_size = test_size)\n",
      "[Connect] y_train, y_test, y_columns = add_objam_mean_M3_diff_as_new_target(df_y, y_train, y_test)\n",
      "[Connect] columns = extract_x_f_y_columns(df_input, df_feat_input, y_columns)\n",
      "[Connect] sparse_dims, sparse_index, dense_dims, dense_index = sparse_dense_setting_generating_process(sparse_dense_setting_generator, feature_map, chid_to_nid_map)\n",
      "[Connect] x_train_sparse, x_train_dense, x_test_sparse, x_test_dense = ProcessX.process(x_train, x_test, sparse_index, dense_index)\n",
      "ProcessX.process\n",
      "[Connect] train_objmean, train_tscnt, train_label_0, test_objmean, test_tscnt, test_label_0 = ProcessY.process(y_train, y_test, columns)\n",
      "ProcessY.process\n",
      "[Connect] train_dataset = build_TensorDataset(x_train_dense, x_train_sparse, train_objmean, train_tscnt, train_label_0)\n",
      "[Connect] test_dataset = build_TensorDataset(x_test_dense, x_test_sparse, test_objmean, test_tscnt, test_label_0)\n"
     ]
    }
   ],
   "source": [
    "preprocess.config(verbose=True)  "
   ]
  },
  {
   "cell_type": "code",
   "execution_count": 5,
   "metadata": {
    "ExecuteTime": {
     "end_time": "2021-08-01T15:50:37.596508Z",
     "start_time": "2021-08-01T15:50:37.537008Z"
    }
   },
   "outputs": [
    {
     "name": "stdout",
     "output_type": "stream",
     "text": [
      "[RUN] process of \"create_sparse_dense_setting_generator\"\n",
      "[COMPLETE] create_sparse_dense_setting_generator\n"
     ]
    },
    {
     "ename": "TypeError",
     "evalue": "argument of type 'NoneType' is not iterable",
     "output_type": "error",
     "traceback": [
      "\u001b[0;31m---------------------------------------------------------------------------\u001b[0m",
      "\u001b[0;31mTypeError\u001b[0m                                 Traceback (most recent call last)",
      "\u001b[0;32m<ipython-input-5-a9a1ed60480a>\u001b[0m in \u001b[0;36m<module>\u001b[0;34m\u001b[0m\n\u001b[0;32m----> 1\u001b[0;31m \u001b[0mpreprocess\u001b[0m\u001b[0;34m.\u001b[0m\u001b[0mpipe\u001b[0m\u001b[0;34m.\u001b[0m\u001b[0msparse_dense_setting_generator\u001b[0m\u001b[0;34m.\u001b[0m\u001b[0mget\u001b[0m\u001b[0;34m(\u001b[0m\u001b[0mverbose\u001b[0m\u001b[0;34m=\u001b[0m\u001b[0;32mTrue\u001b[0m\u001b[0;34m,\u001b[0m \u001b[0mload_tmp\u001b[0m\u001b[0;34m=\u001b[0m\u001b[0;32mTrue\u001b[0m\u001b[0;34m)\u001b[0m\u001b[0;34m\u001b[0m\u001b[0;34m\u001b[0m\u001b[0m\n\u001b[0m",
      "\u001b[0;32m/project/eb-customer-embedding/github/ncku_customer_embedding/common/ETLBase.py\u001b[0m in \u001b[0;36mget\u001b[0;34m(self, verbose, load_tmp)\u001b[0m\n\u001b[1;32m    902\u001b[0m     \u001b[0;32mdef\u001b[0m \u001b[0mget\u001b[0m\u001b[0;34m(\u001b[0m\u001b[0mself\u001b[0m\u001b[0;34m,\u001b[0m \u001b[0mverbose\u001b[0m\u001b[0;34m=\u001b[0m\u001b[0;32mFalse\u001b[0m\u001b[0;34m,\u001b[0m \u001b[0mload_tmp\u001b[0m\u001b[0;34m=\u001b[0m\u001b[0;32mTrue\u001b[0m\u001b[0;34m)\u001b[0m\u001b[0;34m:\u001b[0m\u001b[0;34m\u001b[0m\u001b[0;34m\u001b[0m\u001b[0m\n\u001b[1;32m    903\u001b[0m         \u001b[0;32massert\u001b[0m \u001b[0mself\u001b[0m\u001b[0;34m.\u001b[0m\u001b[0mn_out\u001b[0m \u001b[0;34m==\u001b[0m \u001b[0;36m1\u001b[0m\u001b[0;34m\u001b[0m\u001b[0;34m\u001b[0m\u001b[0m\n\u001b[0;32m--> 904\u001b[0;31m         \u001b[0;32mreturn\u001b[0m \u001b[0mself\u001b[0m\u001b[0;34m.\u001b[0m\u001b[0mrun\u001b[0m\u001b[0;34m(\u001b[0m\u001b[0mverbose\u001b[0m\u001b[0;34m=\u001b[0m\u001b[0mverbose\u001b[0m\u001b[0;34m,\u001b[0m \u001b[0mload_tmp\u001b[0m\u001b[0;34m=\u001b[0m\u001b[0mload_tmp\u001b[0m\u001b[0;34m)\u001b[0m\u001b[0;34m[\u001b[0m\u001b[0;36m0\u001b[0m\u001b[0;34m]\u001b[0m\u001b[0;34m\u001b[0m\u001b[0;34m\u001b[0m\u001b[0m\n\u001b[0m\u001b[1;32m    905\u001b[0m \u001b[0;34m\u001b[0m\u001b[0m\n\u001b[1;32m    906\u001b[0m \u001b[0;31m# TODO:\u001b[0m\u001b[0;34m\u001b[0m\u001b[0;34m\u001b[0m\u001b[0;34m\u001b[0m\u001b[0m\n",
      "\u001b[0;32m/project/eb-customer-embedding/github/ncku_customer_embedding/common/ETLBase.py\u001b[0m in \u001b[0;36mrun\u001b[0;34m(self, verbose, load_tmp)\u001b[0m\n\u001b[1;32m    704\u001b[0m \u001b[0;34m\u001b[0m\u001b[0m\n\u001b[1;32m    705\u001b[0m \u001b[0;34m\u001b[0m\u001b[0m\n\u001b[0;32m--> 706\u001b[0;31m         \u001b[0mself\u001b[0m\u001b[0;34m.\u001b[0m\u001b[0msave_result\u001b[0m\u001b[0;34m(\u001b[0m\u001b[0mresults\u001b[0m\u001b[0;34m,\u001b[0m \u001b[0mverbose\u001b[0m\u001b[0;34m=\u001b[0m\u001b[0mverbose\u001b[0m\u001b[0;34m,\u001b[0m \u001b[0msave\u001b[0m \u001b[0;34m=\u001b[0m \u001b[0mself\u001b[0m\u001b[0;34m.\u001b[0m\u001b[0msave\u001b[0m\u001b[0;34m)\u001b[0m\u001b[0;34m\u001b[0m\u001b[0;34m\u001b[0m\u001b[0m\n\u001b[0m\u001b[1;32m    707\u001b[0m         \u001b[0;32mreturn\u001b[0m \u001b[0mresults\u001b[0m\u001b[0;34m\u001b[0m\u001b[0;34m\u001b[0m\u001b[0m\n\u001b[1;32m    708\u001b[0m \u001b[0;34m\u001b[0m\u001b[0m\n",
      "\u001b[0;32m/project/eb-customer-embedding/github/ncku_customer_embedding/common/ETLBase.py\u001b[0m in \u001b[0;36msave_result\u001b[0;34m(self, results, verbose, save)\u001b[0m\n\u001b[1;32m    783\u001b[0m \u001b[0;34m\u001b[0m\u001b[0m\n\u001b[1;32m    784\u001b[0m     \u001b[0;32mdef\u001b[0m \u001b[0msave_result\u001b[0m\u001b[0;34m(\u001b[0m\u001b[0mself\u001b[0m\u001b[0;34m,\u001b[0m \u001b[0mresults\u001b[0m\u001b[0;34m,\u001b[0m \u001b[0mverbose\u001b[0m\u001b[0;34m=\u001b[0m\u001b[0;32mFalse\u001b[0m\u001b[0;34m,\u001b[0m \u001b[0msave\u001b[0m \u001b[0;34m=\u001b[0m \u001b[0;32mTrue\u001b[0m\u001b[0;34m)\u001b[0m\u001b[0;34m:\u001b[0m\u001b[0;34m\u001b[0m\u001b[0;34m\u001b[0m\u001b[0m\n\u001b[0;32m--> 785\u001b[0;31m         \u001b[0mself\u001b[0m\u001b[0;34m.\u001b[0m\u001b[0m_create_data_folder\u001b[0m\u001b[0;34m(\u001b[0m\u001b[0mverbose\u001b[0m\u001b[0;34m=\u001b[0m\u001b[0mverbose\u001b[0m\u001b[0;34m)\u001b[0m\u001b[0;34m\u001b[0m\u001b[0;34m\u001b[0m\u001b[0m\n\u001b[0m\u001b[1;32m    786\u001b[0m         \u001b[0;32mif\u001b[0m \u001b[0msave\u001b[0m\u001b[0;34m:\u001b[0m\u001b[0;34m\u001b[0m\u001b[0;34m\u001b[0m\u001b[0m\n\u001b[1;32m    787\u001b[0m             \u001b[0;32mif\u001b[0m \u001b[0mverbose\u001b[0m\u001b[0;34m:\u001b[0m\u001b[0;34m\u001b[0m\u001b[0;34m\u001b[0m\u001b[0m\n",
      "\u001b[0;32m/project/eb-customer-embedding/github/ncku_customer_embedding/common/ETLBase.py\u001b[0m in \u001b[0;36m_create_data_folder\u001b[0;34m(self, verbose)\u001b[0m\n\u001b[1;32m    758\u001b[0m         \u001b[0;31m# create folders on initialization\u001b[0m\u001b[0;34m\u001b[0m\u001b[0;34m\u001b[0m\u001b[0;34m\u001b[0m\u001b[0m\n\u001b[1;32m    759\u001b[0m         \u001b[0;32mfor\u001b[0m \u001b[0mresult_path\u001b[0m \u001b[0;32min\u001b[0m \u001b[0mresult_dirs\u001b[0m\u001b[0;34m:\u001b[0m\u001b[0;34m\u001b[0m\u001b[0;34m\u001b[0m\u001b[0m\n\u001b[0;32m--> 760\u001b[0;31m             \u001b[0;32mif\u001b[0m \u001b[0;34m\"..\"\u001b[0m \u001b[0;32min\u001b[0m \u001b[0mresult_path\u001b[0m\u001b[0;34m:\u001b[0m\u001b[0;34m\u001b[0m\u001b[0;34m\u001b[0m\u001b[0m\n\u001b[0m\u001b[1;32m    761\u001b[0m                 \u001b[0;32mbreak\u001b[0m \u001b[0;31m# Note: do not create folder outside current directory\u001b[0m\u001b[0;34m\u001b[0m\u001b[0;34m\u001b[0m\u001b[0m\n\u001b[1;32m    762\u001b[0m             \u001b[0mfolder_path\u001b[0m \u001b[0;34m=\u001b[0m \u001b[0;34m\"\"\u001b[0m\u001b[0;34m\u001b[0m\u001b[0;34m\u001b[0m\u001b[0m\n",
      "\u001b[0;31mTypeError\u001b[0m: argument of type 'NoneType' is not iterable"
     ]
    }
   ],
   "source": [
    "preprocess.pipe.sparse_dense_setting_generator.get(verbose=True, load_tmp=True) "
   ]
  },
  {
   "cell_type": "code",
   "execution_count": null,
   "metadata": {
    "ExecuteTime": {
     "end_time": "2021-08-01T15:26:27.532789Z",
     "start_time": "2021-08-01T15:26:27.429190Z"
    }
   },
   "outputs": [],
   "source": [
    "preprocess.pipe.view(summary=False) "
   ]
  },
  {
   "cell_type": "code",
   "execution_count": null,
   "metadata": {
    "ExecuteTime": {
     "end_time": "2021-08-01T15:46:48.682707Z",
     "start_time": "2021-08-01T15:46:48.555679Z"
    }
   },
   "outputs": [],
   "source": [
    "preprocess.pipe.x_train.get(verbose=True, load_tmp=True)   "
   ]
  },
  {
   "cell_type": "code",
   "execution_count": null,
   "metadata": {
    "ExecuteTime": {
     "end_time": "2021-08-01T14:57:57.584152Z",
     "start_time": "2021-08-01T14:57:49.204740Z"
    }
   },
   "outputs": [],
   "source": [
    "preprocess.pipe.df_cdtx.get(verbose=True, load_tmp=True)   "
   ]
  },
  {
   "cell_type": "code",
   "execution_count": null,
   "metadata": {
    "ExecuteTime": {
     "end_time": "2021-08-01T14:55:39.710961Z",
     "start_time": "2021-08-01T14:55:16.204327Z"
    }
   },
   "outputs": [],
   "source": [
    "preprocess.pipe.df_full_y_sum.get(verbose=True, load_tmp=True)  "
   ]
  },
  {
   "cell_type": "code",
   "execution_count": null,
   "metadata": {
    "ExecuteTime": {
     "end_time": "2021-08-01T15:39:23.361815Z",
     "start_time": "2021-08-01T15:29:21.573707Z"
    }
   },
   "outputs": [],
   "source": [
    "preprocess.pipe.train_dataset.get(verbose=True, load_tmp=True)  "
   ]
  },
  {
   "cell_type": "code",
   "execution_count": null,
   "metadata": {
    "ExecuteTime": {
     "end_time": "2021-08-01T15:39:23.366300Z",
     "start_time": "2021-08-01T15:29:17.165Z"
    }
   },
   "outputs": [],
   "source": [
    "preprocess.pipe.test_dataset.get(verbose=True, load_tmp=True)  "
   ]
  },
  {
   "cell_type": "markdown",
   "metadata": {},
   "source": [
    "# Auto Process Code String in .py "
   ]
  },
  {
   "cell_type": "code",
   "execution_count": null,
   "metadata": {
    "ExecuteTime": {
     "end_time": "2021-08-01T15:43:54.474691Z",
     "start_time": "2021-08-01T15:43:54.468051Z"
    }
   },
   "outputs": [],
   "source": [
    "from common.process_compiler import block_str_generator "
   ]
  },
  {
   "cell_type": "code",
   "execution_count": null,
   "metadata": {
    "ExecuteTime": {
     "end_time": "2021-08-01T14:37:08.440606Z",
     "start_time": "2021-08-01T14:37:08.436264Z"
    }
   },
   "outputs": [],
   "source": [
    "block_str_gen = block_str_generator('experiments/ex4/preprocess/connect.py')"
   ]
  },
  {
   "cell_type": "code",
   "execution_count": null,
   "metadata": {
    "ExecuteTime": {
     "end_time": "2021-08-01T07:42:03.143501Z",
     "start_time": "2021-08-01T07:42:03.139892Z"
    }
   },
   "outputs": [],
   "source": [
    "\n",
    "# obtain get [PIN] message "
   ]
  },
  {
   "cell_type": "code",
   "execution_count": null,
   "metadata": {},
   "outputs": [],
   "source": [
    "# handle command string ''''''  and \"\"\"\"\"\" "
   ]
  },
  {
   "cell_type": "code",
   "execution_count": null,
   "metadata": {
    "ExecuteTime": {
     "end_time": "2021-08-01T15:26:38.654798Z",
     "start_time": "2021-08-01T15:26:38.342867Z"
    }
   },
   "outputs": [],
   "source": [
    "sampled_chids = preprocess.pipe.sampled_chids.get(verbose=True, load_tmp=False)  \n",
    "cdtx_file = preprocess.pipe.cdtx_file.get(verbose=True, load_tmp=False)  \n"
   ]
  },
  {
   "cell_type": "code",
   "execution_count": null,
   "metadata": {
    "ExecuteTime": {
     "end_time": "2021-08-01T15:26:39.340397Z",
     "start_time": "2021-08-01T15:26:39.067595Z"
    }
   },
   "outputs": [],
   "source": [
    "chid_to_nid_map = preprocess.pipe.chid_to_nid_map.get(verbose=True, load_tmp=False)  "
   ]
  },
  {
   "cell_type": "code",
   "execution_count": null,
   "metadata": {
    "ExecuteTime": {
     "end_time": "2021-08-01T15:26:40.373284Z",
     "start_time": "2021-08-01T15:26:40.370581Z"
    }
   },
   "outputs": [],
   "source": [
    "chid_to_nid_map_old = chid_to_nid_map"
   ]
  },
  {
   "cell_type": "code",
   "execution_count": null,
   "metadata": {
    "ExecuteTime": {
     "end_time": "2021-08-01T15:26:41.320067Z",
     "start_time": "2021-08-01T15:26:41.317320Z"
    }
   },
   "outputs": [],
   "source": [
    "from experiments.ex4.preprocess.ops import build_chid_to_nid_map\n",
    "chid_to_nid_map = build_chid_to_nid_map(sampled_chids)\n"
   ]
  },
  {
   "cell_type": "code",
   "execution_count": null,
   "metadata": {
    "ExecuteTime": {
     "end_time": "2021-08-01T15:26:42.875791Z",
     "start_time": "2021-08-01T15:26:42.872083Z"
    }
   },
   "outputs": [],
   "source": [
    "set(chid_to_nid_map) - set(chid_to_nid_map_old)"
   ]
  },
  {
   "cell_type": "code",
   "execution_count": null,
   "metadata": {
    "ExecuteTime": {
     "end_time": "2021-08-01T15:17:14.383118Z",
     "start_time": "2021-08-01T15:17:07.477979Z"
    }
   },
   "outputs": [],
   "source": [
    "from experiments.ex4.preprocess.ops import load_cdtx, convert_uid_to_nid\n",
    "df_cdtx = load_cdtx(sampled_chids, cdtx_file = cdtx_file)\n",
    "# df_cdtx = convert_uid_to_nid(df_cdtx, chid_to_nid_map)\n"
   ]
  },
  {
   "cell_type": "code",
   "execution_count": null,
   "metadata": {
    "ExecuteTime": {
     "end_time": "2021-08-01T15:17:32.901859Z",
     "start_time": "2021-08-01T15:17:32.896005Z"
    }
   },
   "outputs": [],
   "source": [
    "set(sampled_chids) - set(df_cdtx.chid.unique())"
   ]
  },
  {
   "cell_type": "code",
   "execution_count": null,
   "metadata": {
    "ExecuteTime": {
     "end_time": "2021-08-01T15:17:49.439391Z",
     "start_time": "2021-08-01T15:17:49.434129Z"
    }
   },
   "outputs": [],
   "source": [
    "set(df_cdtx.chid.unique()) - set(sampled_chids)"
   ]
  },
  {
   "cell_type": "code",
   "execution_count": null,
   "metadata": {
    "ExecuteTime": {
     "end_time": "2021-08-01T15:18:36.244781Z",
     "start_time": "2021-08-01T15:18:36.240015Z"
    }
   },
   "outputs": [],
   "source": [
    "set(chid_to_nid_map.keys()) - set(sampled_chids) "
   ]
  },
  {
   "cell_type": "code",
   "execution_count": null,
   "metadata": {
    "ExecuteTime": {
     "end_time": "2021-08-01T15:08:35.007856Z",
     "start_time": "2021-08-01T15:08:34.984348Z"
    }
   },
   "outputs": [],
   "source": [
    "df_cdtx"
   ]
  },
  {
   "cell_type": "code",
   "execution_count": null,
   "metadata": {
    "ExecuteTime": {
     "end_time": "2021-08-01T15:14:25.002547Z",
     "start_time": "2021-08-01T15:14:24.990983Z"
    }
   },
   "outputs": [],
   "source": [
    "chid_to_nid_map[sampled_chids[1]]"
   ]
  },
  {
   "cell_type": "code",
   "execution_count": null,
   "metadata": {},
   "outputs": [],
   "source": []
  },
  {
   "cell_type": "code",
   "execution_count": null,
   "metadata": {
    "ExecuteTime": {
     "end_time": "2021-08-01T15:21:37.423140Z",
     "start_time": "2021-08-01T15:21:37.383833Z"
    }
   },
   "outputs": [],
   "source": [
    "df_cdtx['chid'].replace(chid_to_nid_map)  "
   ]
  },
  {
   "cell_type": "code",
   "execution_count": null,
   "metadata": {
    "ExecuteTime": {
     "end_time": "2021-08-01T15:12:45.268487Z",
     "start_time": "2021-08-01T15:12:45.263000Z"
    }
   },
   "outputs": [],
   "source": [
    "df_cdtx['chid']"
   ]
  },
  {
   "cell_type": "code",
   "execution_count": null,
   "metadata": {},
   "outputs": [],
   "source": [
    "df_cdtx = load_cdtx(sampled_chids, cdtx_file = cdtx_file)\n",
    "\n",
    "df_cdtx = convert_uid_to_nid(df_cdtx, chid_to_nid_map)\n",
    "\n",
    "df_cdtx = add_month(df_cdtx)\n",
    "\n",
    "df_full_y_sum = make_chid_x_month_table(df_cdtx)\n",
    "\n",
    "df_cdtx_monthly_objam = calculate_monthly_target(df_cdtx)\n",
    "\n",
    "df_full_y_sum = merge_with_another_table(df_full_y_sum, df_cdtx_monthly_objam, join_method=LEFT)"
   ]
  }
 ],
 "metadata": {
  "hide_input": false,
  "kernelspec": {
   "display_name": "Python 3",
   "language": "python",
   "name": "python3"
  },
  "language_info": {
   "codemirror_mode": {
    "name": "ipython",
    "version": 3
   },
   "file_extension": ".py",
   "mimetype": "text/x-python",
   "name": "python",
   "nbconvert_exporter": "python",
   "pygments_lexer": "ipython3",
   "version": "3.6.11"
  },
  "toc": {
   "base_numbering": 1,
   "nav_menu": {},
   "number_sections": true,
   "sideBar": true,
   "skip_h1_title": false,
   "title_cell": "Table of Contents",
   "title_sidebar": "Contents",
   "toc_cell": false,
   "toc_position": {},
   "toc_section_display": true,
   "toc_window_display": false
  }
 },
 "nbformat": 4,
 "nbformat_minor": 4
}
