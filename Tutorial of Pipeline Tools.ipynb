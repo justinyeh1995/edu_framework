{
 "cells": [
  {
   "cell_type": "markdown",
   "metadata": {},
   "source": [
    "# Simple Example "
   ]
  },
  {
   "cell_type": "code",
   "execution_count": null,
   "metadata": {
    "ExecuteTime": {
     "end_time": "2021-08-02T05:36:06.676652Z",
     "start_time": "2021-08-02T05:36:06.243023Z"
    }
   },
   "outputs": [],
   "source": [
    "from common.ETLBase import PipelineBuilder, PipeConfigBuilder"
   ]
  },
  {
   "cell_type": "code",
   "execution_count": null,
   "metadata": {
    "ExecuteTime": {
     "end_time": "2021-08-01T05:17:19.908140Z",
     "start_time": "2021-08-01T05:17:19.905359Z"
    }
   },
   "outputs": [],
   "source": [
    "config = PipeConfigBuilder()\n",
    "pipe = PipelineBuilder(config)"
   ]
  },
  {
   "cell_type": "code",
   "execution_count": null,
   "metadata": {
    "ExecuteTime": {
     "end_time": "2021-08-01T05:17:23.360873Z",
     "start_time": "2021-08-01T05:17:23.354701Z"
    }
   },
   "outputs": [],
   "source": [
    "config.setups(a=1,b=9)"
   ]
  },
  {
   "cell_type": "code",
   "execution_count": null,
   "metadata": {
    "ExecuteTime": {
     "end_time": "2021-08-01T05:17:24.187705Z",
     "start_time": "2021-08-01T05:17:24.183462Z"
    }
   },
   "outputs": [],
   "source": [
    "config.setups(z=3)"
   ]
  },
  {
   "cell_type": "code",
   "execution_count": null,
   "metadata": {
    "ExecuteTime": {
     "end_time": "2021-08-01T04:57:46.846742Z",
     "start_time": "2021-08-01T04:57:46.782036Z"
    }
   },
   "outputs": [],
   "source": [
    "config.view()"
   ]
  },
  {
   "cell_type": "code",
   "execution_count": null,
   "metadata": {
    "ExecuteTime": {
     "end_time": "2021-08-01T04:57:48.302600Z",
     "start_time": "2021-08-01T04:57:48.264654Z"
    }
   },
   "outputs": [],
   "source": [
    "config.view(summary=False)"
   ]
  },
  {
   "cell_type": "code",
   "execution_count": null,
   "metadata": {
    "ExecuteTime": {
     "end_time": "2021-08-01T04:57:49.719411Z",
     "start_time": "2021-08-01T04:57:49.715866Z"
    }
   },
   "outputs": [],
   "source": [
    "@pipe._func_\n",
    "def plus_a_b(a=1,b=2):\n",
    "    return a+b\n",
    "#pipe._plus_a_b = plus_a_b"
   ]
  },
  {
   "cell_type": "code",
   "execution_count": null,
   "metadata": {
    "ExecuteTime": {
     "end_time": "2021-08-01T04:58:16.114448Z",
     "start_time": "2021-08-01T04:58:15.896610Z"
    }
   },
   "outputs": [],
   "source": [
    "pipe.setup_connection('c = plus_a_b(a=a,b=b)')\n",
    "pipe.setup_connection('d = plus_a_b(a=a,b=c)')\n",
    "pipe.setup_connection('e = plus_a_b(d,d)')\n",
    "pipe.setup_connection('f = plus_a_b(a=b,b=d)')\n",
    "pipe.view(summary=False)"
   ]
  },
  {
   "cell_type": "code",
   "execution_count": null,
   "metadata": {
    "ExecuteTime": {
     "end_time": "2021-08-01T04:58:19.710163Z",
     "start_time": "2021-08-01T04:58:19.678690Z"
    }
   },
   "outputs": [],
   "source": [
    "pipe.f.get()"
   ]
  },
  {
   "cell_type": "code",
   "execution_count": null,
   "metadata": {
    "ExecuteTime": {
     "end_time": "2021-08-01T04:58:41.352757Z",
     "start_time": "2021-08-01T04:58:41.176285Z"
    }
   },
   "outputs": [],
   "source": [
    "pipe.view(summary=False, option='all')"
   ]
  },
  {
   "cell_type": "markdown",
   "metadata": {},
   "source": [
    "# Building Simple ProcessBase Module "
   ]
  },
  {
   "cell_type": "code",
   "execution_count": 2,
   "metadata": {
    "ExecuteTime": {
     "end_time": "2021-08-10T07:59:51.228954Z",
     "start_time": "2021-08-10T07:59:50.831746Z"
    }
   },
   "outputs": [],
   "source": [
    "from common.ETLBase import ProcessBase, Setup \n",
    "from common.process_compiler import block_str_generator\n",
    "# TODO: add fix variables \n",
    "class PreProcess(ProcessBase):\n",
    "    def module_name(self):\n",
    "        return \"preprocess\"\n",
    "    def packages(self):\n",
    "        pass \n",
    "    def define_functions(self, pipe):\n",
    "        @pipe._func_\n",
    "        def plus_a_b(a=1,b=2):\n",
    "            return a+b \n",
    "    def inputs(self):\n",
    "        return [\n",
    "            'a', \n",
    "            'b'\n",
    "        ]\n",
    "    def outputs(self):\n",
    "        return ['e','f'] \n",
    "    \n",
    "    def connections(self, **kargs):\n",
    "        conns = [\n",
    "            'c = plus_a_b(a=a,b=b)', \n",
    "            'd = plus_a_b(a=a,b=c)', \n",
    "            'e = plus_a_b(d,d)', \n",
    "            'f = plus_a_b(a=b,b=d)'\n",
    "        ]\n",
    "        return conns"
   ]
  },
  {
   "cell_type": "code",
   "execution_count": 3,
   "metadata": {
    "ExecuteTime": {
     "end_time": "2021-08-10T08:00:08.312833Z",
     "start_time": "2021-08-10T08:00:08.309877Z"
    }
   },
   "outputs": [],
   "source": [
    "preprocess = PreProcess() "
   ]
  },
  {
   "cell_type": "code",
   "execution_count": 4,
   "metadata": {
    "ExecuteTime": {
     "end_time": "2021-08-10T08:00:38.023972Z",
     "start_time": "2021-08-10T08:00:38.019801Z"
    }
   },
   "outputs": [],
   "source": [
    "preprocess.setup_vars(\n",
    "    a = 1, \n",
    "    b = 2\n",
    ")"
   ]
  },
  {
   "cell_type": "code",
   "execution_count": 6,
   "metadata": {
    "ExecuteTime": {
     "end_time": "2021-08-10T08:01:08.325417Z",
     "start_time": "2021-08-10T08:01:07.585371Z"
    }
   },
   "outputs": [
    {
     "name": "stdout",
     "output_type": "stream",
     "text": [
      "[Connect] a,b = collect_inputs_for_preprocess(a=a,b=b)\n",
      "[Connect] c = plus_a_b(a=a,b=b)\n",
      "[REMOVE] result of \"gather\"\n",
      "[Connect] d = plus_a_b(a=a,b=c)\n",
      "[REMOVE] result of \"gather\"\n",
      "[Connect] e = plus_a_b(d,d)\n",
      "[Connect] f = plus_a_b(a=b,b=d)\n",
      "[REMOVE] result of \"gather\"\n"
     ]
    }
   ],
   "source": [
    "preprocess.config() "
   ]
  },
  {
   "cell_type": "code",
   "execution_count": 7,
   "metadata": {
    "ExecuteTime": {
     "end_time": "2021-08-10T08:01:09.576589Z",
     "start_time": "2021-08-10T08:01:09.535931Z"
    }
   },
   "outputs": [
    {
     "data": {
      "image/svg+xml": [
       "<?xml version=\"1.0\" encoding=\"UTF-8\" standalone=\"no\"?>\n",
       "<!DOCTYPE svg PUBLIC \"-//W3C//DTD SVG 1.1//EN\"\n",
       " \"http://www.w3.org/Graphics/SVG/1.1/DTD/svg11.dtd\">\n",
       "<!-- Generated by graphviz version 2.42.3 (20191010.1750)\n",
       " -->\n",
       "<!-- Title: %3 Pages: 1 -->\n",
       "<svg width=\"175pt\" height=\"486pt\"\n",
       " viewBox=\"0.00 0.00 174.50 485.88\" xmlns=\"http://www.w3.org/2000/svg\" xmlns:xlink=\"http://www.w3.org/1999/xlink\">\n",
       "<g id=\"graph0\" class=\"graph\" transform=\"scale(1 1) rotate(0) translate(4 481.88)\">\n",
       "<title>%3</title>\n",
       "<polygon fill=\"white\" stroke=\"transparent\" points=\"-4,4 -4,-481.88 170.5,-481.88 170.5,4 -4,4\"/>\n",
       "<!-- b_2 -->\n",
       "<g id=\"node1\" class=\"node\">\n",
       "<title>b_2</title>\n",
       "<path fill=\"gray\" stroke=\"black\" d=\"M70.5,-475.2C70.5,-476.64 65.35,-477.81 59,-477.81 52.65,-477.81 47.5,-476.64 47.5,-475.2 47.5,-475.2 47.5,-451.68 47.5,-451.68 47.5,-450.23 52.65,-449.06 59,-449.06 65.35,-449.06 70.5,-450.23 70.5,-451.68 70.5,-451.68 70.5,-475.2 70.5,-475.2\"/>\n",
       "<path fill=\"none\" stroke=\"black\" d=\"M70.5,-475.2C70.5,-473.76 65.35,-472.59 59,-472.59 52.65,-472.59 47.5,-473.76 47.5,-475.2\"/>\n",
       "<text text-anchor=\"middle\" x=\"59\" y=\"-460.34\" font-family=\"Times,serif\" font-size=\"12.00\">b</text>\n",
       "</g>\n",
       "<!-- 2_3 -->\n",
       "<g id=\"node2\" class=\"node\">\n",
       "<title>2_3</title>\n",
       "<polygon fill=\"none\" stroke=\"black\" points=\"70,-419 48,-419 48,-400 70,-400 70,-419\"/>\n",
       "<text text-anchor=\"middle\" x=\"59\" y=\"-407\" font-family=\"Times,serif\" font-size=\"10.00\">2</text>\n",
       "</g>\n",
       "<!-- b_2&#45;&gt;2_3 -->\n",
       "<g id=\"edge1\" class=\"edge\">\n",
       "<title>b_2&#45;&gt;2_3</title>\n",
       "<path fill=\"none\" stroke=\"black\" d=\"M59,-448.79C59,-442.93 59,-435.98 59,-429.62\"/>\n",
       "<polygon fill=\"black\" stroke=\"black\" points=\"62.5,-429.17 59,-419.17 55.5,-429.17 62.5,-429.17\"/>\n",
       "</g>\n",
       "<!-- collect_inputs_for_preprocess_4 -->\n",
       "<g id=\"node5\" class=\"node\">\n",
       "<title>collect_inputs_for_preprocess_4</title>\n",
       "<polygon fill=\"lightblue\" stroke=\"black\" points=\"158,-370 0,-370 0,-349 158,-349 158,-370\"/>\n",
       "<text text-anchor=\"middle\" x=\"79\" y=\"-356.4\" font-family=\"Times,serif\" font-size=\"12.00\">collect_inputs_for_preprocess</text>\n",
       "</g>\n",
       "<!-- 2_3&#45;&gt;collect_inputs_for_preprocess_4 -->\n",
       "<g id=\"edge6\" class=\"edge\">\n",
       "<title>2_3&#45;&gt;collect_inputs_for_preprocess_4</title>\n",
       "<path fill=\"none\" stroke=\"black\" d=\"M62.67,-399.7C65,-394.1 68.12,-386.62 71,-379.7\"/>\n",
       "<polygon fill=\"black\" stroke=\"black\" points=\"74.33,-380.82 74.94,-370.24 67.87,-378.12 74.33,-380.82\"/>\n",
       "</g>\n",
       "<!-- a_0 -->\n",
       "<g id=\"node3\" class=\"node\">\n",
       "<title>a_0</title>\n",
       "<path fill=\"gray\" stroke=\"black\" d=\"M111,-475.2C111,-476.64 106.07,-477.81 100,-477.81 93.93,-477.81 89,-476.64 89,-475.2 89,-475.2 89,-451.68 89,-451.68 89,-450.23 93.93,-449.06 100,-449.06 106.07,-449.06 111,-450.23 111,-451.68 111,-451.68 111,-475.2 111,-475.2\"/>\n",
       "<path fill=\"none\" stroke=\"black\" d=\"M111,-475.2C111,-473.76 106.07,-472.59 100,-472.59 93.93,-472.59 89,-473.76 89,-475.2\"/>\n",
       "<text text-anchor=\"middle\" x=\"100\" y=\"-460.34\" font-family=\"Times,serif\" font-size=\"12.00\">a</text>\n",
       "</g>\n",
       "<!-- 1_1 -->\n",
       "<g id=\"node4\" class=\"node\">\n",
       "<title>1_1</title>\n",
       "<polygon fill=\"none\" stroke=\"black\" points=\"110,-419 88,-419 88,-400 110,-400 110,-419\"/>\n",
       "<text text-anchor=\"middle\" x=\"99\" y=\"-407\" font-family=\"Times,serif\" font-size=\"10.00\">1</text>\n",
       "</g>\n",
       "<!-- a_0&#45;&gt;1_1 -->\n",
       "<g id=\"edge2\" class=\"edge\">\n",
       "<title>a_0&#45;&gt;1_1</title>\n",
       "<path fill=\"none\" stroke=\"black\" d=\"M99.74,-448.79C99.62,-442.93 99.49,-435.98 99.37,-429.62\"/>\n",
       "<polygon fill=\"black\" stroke=\"black\" points=\"102.86,-429.1 99.17,-419.17 95.86,-429.24 102.86,-429.1\"/>\n",
       "</g>\n",
       "<!-- 1_1&#45;&gt;collect_inputs_for_preprocess_4 -->\n",
       "<g id=\"edge5\" class=\"edge\">\n",
       "<title>1_1&#45;&gt;collect_inputs_for_preprocess_4</title>\n",
       "<path fill=\"none\" stroke=\"black\" d=\"M95.33,-399.7C93,-394.1 89.88,-386.62 87,-379.7\"/>\n",
       "<polygon fill=\"black\" stroke=\"black\" points=\"90.13,-378.12 83.06,-370.24 83.67,-380.82 90.13,-378.12\"/>\n",
       "</g>\n",
       "<!-- a_5 -->\n",
       "<g id=\"node6\" class=\"node\">\n",
       "<title>a_5</title>\n",
       "<polygon fill=\"none\" stroke=\"black\" points=\"69.5,-319 48.5,-319 48.5,-300 69.5,-300 69.5,-319\"/>\n",
       "<text text-anchor=\"middle\" x=\"59\" y=\"-307\" font-family=\"Times,serif\" font-size=\"10.00\">a</text>\n",
       "</g>\n",
       "<!-- collect_inputs_for_preprocess_4&#45;&gt;a_5 -->\n",
       "<g id=\"edge3\" class=\"edge\">\n",
       "<title>collect_inputs_for_preprocess_4&#45;&gt;a_5</title>\n",
       "<path fill=\"none\" stroke=\"black\" d=\"M74.95,-348.79C72.53,-342.97 69.37,-335.39 66.51,-328.52\"/>\n",
       "<polygon fill=\"black\" stroke=\"black\" points=\"69.71,-327.12 62.64,-319.23 63.25,-329.81 69.71,-327.12\"/>\n",
       "</g>\n",
       "<!-- b_6 -->\n",
       "<g id=\"node7\" class=\"node\">\n",
       "<title>b_6</title>\n",
       "<polygon fill=\"none\" stroke=\"black\" points=\"110,-319 88,-319 88,-300 110,-300 110,-319\"/>\n",
       "<text text-anchor=\"middle\" x=\"99\" y=\"-307\" font-family=\"Times,serif\" font-size=\"10.00\">b</text>\n",
       "</g>\n",
       "<!-- collect_inputs_for_preprocess_4&#45;&gt;b_6 -->\n",
       "<g id=\"edge4\" class=\"edge\">\n",
       "<title>collect_inputs_for_preprocess_4&#45;&gt;b_6</title>\n",
       "<path fill=\"none\" stroke=\"black\" d=\"M83.05,-348.79C85.47,-342.97 88.63,-335.39 91.49,-328.52\"/>\n",
       "<polygon fill=\"black\" stroke=\"black\" points=\"94.75,-329.81 95.36,-319.23 88.29,-327.12 94.75,-329.81\"/>\n",
       "</g>\n",
       "<!-- plus_a_b_7 -->\n",
       "<g id=\"node8\" class=\"node\">\n",
       "<title>plus_a_b_7</title>\n",
       "<polygon fill=\"lightblue\" stroke=\"black\" points=\"108.5,-270 49.5,-270 49.5,-249 108.5,-249 108.5,-270\"/>\n",
       "<text text-anchor=\"middle\" x=\"79\" y=\"-256.4\" font-family=\"Times,serif\" font-size=\"12.00\">plus_a_b</text>\n",
       "</g>\n",
       "<!-- a_5&#45;&gt;plus_a_b_7 -->\n",
       "<g id=\"edge8\" class=\"edge\">\n",
       "<title>a_5&#45;&gt;plus_a_b_7</title>\n",
       "<path fill=\"none\" stroke=\"black\" d=\"M62.67,-299.7C65,-294.1 68.12,-286.62 71,-279.7\"/>\n",
       "<polygon fill=\"black\" stroke=\"black\" points=\"74.33,-280.82 74.94,-270.24 67.87,-278.12 74.33,-280.82\"/>\n",
       "</g>\n",
       "<!-- plus_a_b_9 -->\n",
       "<g id=\"node10\" class=\"node\">\n",
       "<title>plus_a_b_9</title>\n",
       "<polygon fill=\"lightblue\" stroke=\"black\" points=\"89.5,-170 30.5,-170 30.5,-149 89.5,-149 89.5,-170\"/>\n",
       "<text text-anchor=\"middle\" x=\"60\" y=\"-156.4\" font-family=\"Times,serif\" font-size=\"12.00\">plus_a_b</text>\n",
       "</g>\n",
       "<!-- a_5&#45;&gt;plus_a_b_9 -->\n",
       "<g id=\"edge11\" class=\"edge\">\n",
       "<title>a_5&#45;&gt;plus_a_b_9</title>\n",
       "<path fill=\"none\" stroke=\"black\" d=\"M53.23,-299.76C48.63,-292.23 42.54,-280.89 40,-270 32.68,-238.62 43.38,-201.67 51.73,-179.72\"/>\n",
       "<polygon fill=\"black\" stroke=\"black\" points=\"55.06,-180.82 55.55,-170.23 48.57,-178.2 55.06,-180.82\"/>\n",
       "</g>\n",
       "<!-- b_6&#45;&gt;plus_a_b_7 -->\n",
       "<g id=\"edge9\" class=\"edge\">\n",
       "<title>b_6&#45;&gt;plus_a_b_7</title>\n",
       "<path fill=\"none\" stroke=\"black\" d=\"M95.33,-299.7C93,-294.1 89.88,-286.62 87,-279.7\"/>\n",
       "<polygon fill=\"black\" stroke=\"black\" points=\"90.13,-278.12 83.06,-270.24 83.67,-280.82 90.13,-278.12\"/>\n",
       "</g>\n",
       "<!-- plus_a_b_13 -->\n",
       "<g id=\"node12\" class=\"node\">\n",
       "<title>plus_a_b_13</title>\n",
       "<polygon fill=\"lightblue\" stroke=\"black\" points=\"166.5,-70 107.5,-70 107.5,-49 166.5,-49 166.5,-70\"/>\n",
       "<text text-anchor=\"middle\" x=\"137\" y=\"-56.4\" font-family=\"Times,serif\" font-size=\"12.00\">plus_a_b</text>\n",
       "</g>\n",
       "<!-- b_6&#45;&gt;plus_a_b_13 -->\n",
       "<g id=\"edge14\" class=\"edge\">\n",
       "<title>b_6&#45;&gt;plus_a_b_13</title>\n",
       "<path fill=\"none\" stroke=\"black\" d=\"M104.94,-299.76C115.62,-283.14 137,-245.54 137,-210.5 137,-210.5 137,-210.5 137,-158.5 137,-131.48 137,-100.26 137,-80.46\"/>\n",
       "<polygon fill=\"black\" stroke=\"black\" points=\"140.5,-80.24 137,-70.24 133.5,-80.24 140.5,-80.24\"/>\n",
       "</g>\n",
       "<!-- c_8 -->\n",
       "<g id=\"node9\" class=\"node\">\n",
       "<title>c_8</title>\n",
       "<polygon fill=\"none\" stroke=\"black\" points=\"80.5,-219 59.5,-219 59.5,-200 80.5,-200 80.5,-219\"/>\n",
       "<text text-anchor=\"middle\" x=\"70\" y=\"-207\" font-family=\"Times,serif\" font-size=\"10.00\">c</text>\n",
       "</g>\n",
       "<!-- plus_a_b_7&#45;&gt;c_8 -->\n",
       "<g id=\"edge7\" class=\"edge\">\n",
       "<title>plus_a_b_7&#45;&gt;c_8</title>\n",
       "<path fill=\"none\" stroke=\"black\" d=\"M77.18,-248.79C76.14,-243.24 74.8,-236.1 73.56,-229.48\"/>\n",
       "<polygon fill=\"black\" stroke=\"black\" points=\"76.92,-228.41 71.64,-219.23 70.04,-229.7 76.92,-228.41\"/>\n",
       "</g>\n",
       "<!-- c_8&#45;&gt;plus_a_b_9 -->\n",
       "<g id=\"edge12\" class=\"edge\">\n",
       "<title>c_8&#45;&gt;plus_a_b_9</title>\n",
       "<path fill=\"none\" stroke=\"black\" d=\"M68.17,-199.7C67.03,-194.23 65.51,-186.97 64.1,-180.18\"/>\n",
       "<polygon fill=\"black\" stroke=\"black\" points=\"67.49,-179.31 62.03,-170.24 60.64,-180.74 67.49,-179.31\"/>\n",
       "</g>\n",
       "<!-- d_10 -->\n",
       "<g id=\"node11\" class=\"node\">\n",
       "<title>d_10</title>\n",
       "<polygon fill=\"none\" stroke=\"black\" points=\"71,-119 49,-119 49,-100 71,-100 71,-119\"/>\n",
       "<text text-anchor=\"middle\" x=\"60\" y=\"-107\" font-family=\"Times,serif\" font-size=\"10.00\">d</text>\n",
       "</g>\n",
       "<!-- plus_a_b_9&#45;&gt;d_10 -->\n",
       "<g id=\"edge10\" class=\"edge\">\n",
       "<title>plus_a_b_9&#45;&gt;d_10</title>\n",
       "<path fill=\"none\" stroke=\"black\" d=\"M60,-148.79C60,-143.24 60,-136.1 60,-129.48\"/>\n",
       "<polygon fill=\"black\" stroke=\"black\" points=\"63.5,-129.23 60,-119.23 56.5,-129.23 63.5,-129.23\"/>\n",
       "</g>\n",
       "<!-- d_10&#45;&gt;plus_a_b_13 -->\n",
       "<g id=\"edge15\" class=\"edge\">\n",
       "<title>d_10&#45;&gt;plus_a_b_13</title>\n",
       "<path fill=\"none\" stroke=\"black\" d=\"M71.03,-101.62C81.95,-94.82 99.01,-84.18 113.05,-75.43\"/>\n",
       "<polygon fill=\"black\" stroke=\"black\" points=\"115.11,-78.27 121.74,-70.01 111.4,-72.33 115.11,-78.27\"/>\n",
       "</g>\n",
       "<!-- plus_a_b_11 -->\n",
       "<g id=\"node14\" class=\"node\">\n",
       "<title>plus_a_b_11</title>\n",
       "<polygon fill=\"lightblue\" stroke=\"black\" points=\"89.5,-70 30.5,-70 30.5,-49 89.5,-49 89.5,-70\"/>\n",
       "<text text-anchor=\"middle\" x=\"60\" y=\"-56.4\" font-family=\"Times,serif\" font-size=\"12.00\">plus_a_b</text>\n",
       "</g>\n",
       "<!-- d_10&#45;&gt;plus_a_b_11 -->\n",
       "<g id=\"edge17\" class=\"edge\">\n",
       "<title>d_10&#45;&gt;plus_a_b_11</title>\n",
       "<path fill=\"none\" stroke=\"black\" d=\"M54.64,-99.7C53.47,-94.23 53.04,-86.97 53.35,-80.18\"/>\n",
       "<polygon fill=\"black\" stroke=\"black\" points=\"56.83,-80.56 54.45,-70.24 49.87,-79.79 56.83,-80.56\"/>\n",
       "</g>\n",
       "<!-- d_10&#45;&gt;plus_a_b_11 -->\n",
       "<g id=\"edge18\" class=\"edge\">\n",
       "<title>d_10&#45;&gt;plus_a_b_11</title>\n",
       "<path fill=\"none\" stroke=\"black\" d=\"M65.36,-99.7C66.53,-94.23 66.96,-86.97 66.65,-80.18\"/>\n",
       "<polygon fill=\"black\" stroke=\"black\" points=\"70.13,-79.79 65.55,-70.24 63.17,-80.56 70.13,-79.79\"/>\n",
       "</g>\n",
       "<!-- f_14 -->\n",
       "<g id=\"node13\" class=\"node\">\n",
       "<title>f_14</title>\n",
       "<polygon fill=\"none\" stroke=\"black\" points=\"147,-19 127,-19 127,0 147,0 147,-19\"/>\n",
       "<text text-anchor=\"middle\" x=\"137\" y=\"-7\" font-family=\"Times,serif\" font-size=\"10.00\">f</text>\n",
       "</g>\n",
       "<!-- plus_a_b_13&#45;&gt;f_14 -->\n",
       "<g id=\"edge13\" class=\"edge\">\n",
       "<title>plus_a_b_13&#45;&gt;f_14</title>\n",
       "<path fill=\"none\" stroke=\"black\" d=\"M137,-48.79C137,-43.24 137,-36.1 137,-29.48\"/>\n",
       "<polygon fill=\"black\" stroke=\"black\" points=\"140.5,-29.23 137,-19.23 133.5,-29.23 140.5,-29.23\"/>\n",
       "</g>\n",
       "<!-- e_12 -->\n",
       "<g id=\"node15\" class=\"node\">\n",
       "<title>e_12</title>\n",
       "<polygon fill=\"none\" stroke=\"black\" points=\"70.5,-19 49.5,-19 49.5,0 70.5,0 70.5,-19\"/>\n",
       "<text text-anchor=\"middle\" x=\"60\" y=\"-7\" font-family=\"Times,serif\" font-size=\"10.00\">e</text>\n",
       "</g>\n",
       "<!-- plus_a_b_11&#45;&gt;e_12 -->\n",
       "<g id=\"edge16\" class=\"edge\">\n",
       "<title>plus_a_b_11&#45;&gt;e_12</title>\n",
       "<path fill=\"none\" stroke=\"black\" d=\"M60,-48.79C60,-43.24 60,-36.1 60,-29.48\"/>\n",
       "<polygon fill=\"black\" stroke=\"black\" points=\"63.5,-29.23 60,-19.23 56.5,-29.23 63.5,-29.23\"/>\n",
       "</g>\n",
       "</g>\n",
       "</svg>\n"
      ],
      "text/plain": [
       "<graphviz.dot.Digraph at 0x7fe8aa6e3ef0>"
      ]
     },
     "execution_count": 7,
     "metadata": {},
     "output_type": "execute_result"
    }
   ],
   "source": [
    "preprocess.pipe.view(summary=False)"
   ]
  },
  {
   "cell_type": "code",
   "execution_count": 8,
   "metadata": {
    "ExecuteTime": {
     "end_time": "2021-08-10T08:01:30.854985Z",
     "start_time": "2021-08-10T08:01:30.623579Z"
    }
   },
   "outputs": [
    {
     "name": "stdout",
     "output_type": "stream",
     "text": [
      "[REMOVE] result of \"plus_a_b\"\n",
      "[REMOVE] result of \"plus_a_b\"\n"
     ]
    },
    {
     "data": {
      "text/plain": [
       "8"
      ]
     },
     "execution_count": 8,
     "metadata": {},
     "output_type": "execute_result"
    }
   ],
   "source": [
    "preprocess.pipe.e.get()"
   ]
  },
  {
   "cell_type": "code",
   "execution_count": 10,
   "metadata": {
    "ExecuteTime": {
     "end_time": "2021-08-10T08:17:21.607866Z",
     "start_time": "2021-08-10T08:17:21.541523Z"
    }
   },
   "outputs": [
    {
     "data": {
      "text/plain": [
       "3"
      ]
     },
     "execution_count": 10,
     "metadata": {},
     "output_type": "execute_result"
    }
   ],
   "source": [
    "preprocess.pipe.c.get()"
   ]
  },
  {
   "cell_type": "code",
   "execution_count": 9,
   "metadata": {
    "ExecuteTime": {
     "end_time": "2021-08-10T08:01:42.414452Z",
     "start_time": "2021-08-10T08:01:42.343581Z"
    }
   },
   "outputs": [
    {
     "data": {
      "text/plain": [
       "6"
      ]
     },
     "execution_count": 9,
     "metadata": {},
     "output_type": "execute_result"
    }
   ],
   "source": [
    "preprocess.pipe.f.get()"
   ]
  },
  {
   "cell_type": "markdown",
   "metadata": {},
   "source": [
    "# Visualization of the Data Pipeline in an Experiment "
   ]
  },
  {
   "cell_type": "code",
   "execution_count": null,
   "metadata": {
    "ExecuteTime": {
     "end_time": "2021-08-01T05:23:10.810199Z",
     "start_time": "2021-08-01T05:23:08.100965Z"
    }
   },
   "outputs": [],
   "source": [
    "from experiments.ex3.connect_pipeline import pipe"
   ]
  },
  {
   "cell_type": "code",
   "execution_count": null,
   "metadata": {
    "ExecuteTime": {
     "end_time": "2021-08-01T04:59:10.658903Z",
     "start_time": "2021-08-01T04:59:10.601761Z"
    }
   },
   "outputs": [],
   "source": [
    "pipe.view(summary=False)"
   ]
  },
  {
   "cell_type": "markdown",
   "metadata": {},
   "source": [
    "## checking dependency "
   ]
  },
  {
   "cell_type": "code",
   "execution_count": null,
   "metadata": {
    "ExecuteTime": {
     "end_time": "2021-08-01T04:59:20.967522Z",
     "start_time": "2021-08-01T04:59:20.906301Z"
    }
   },
   "outputs": [],
   "source": [
    "pipe.view_dependency('split_data',summary=False)"
   ]
  },
  {
   "cell_type": "markdown",
   "metadata": {},
   "source": [
    "## viewing data content, size, and type "
   ]
  },
  {
   "cell_type": "code",
   "execution_count": null,
   "metadata": {
    "ExecuteTime": {
     "end_time": "2021-08-01T04:59:42.172749Z",
     "start_time": "2021-08-01T04:59:41.599833Z"
    }
   },
   "outputs": [],
   "source": [
    "pipe.view(summary=False, option = 'all')"
   ]
  },
  {
   "cell_type": "markdown",
   "metadata": {},
   "source": [
    "## viewing data size and type only "
   ]
  },
  {
   "cell_type": "code",
   "execution_count": null,
   "metadata": {},
   "outputs": [],
   "source": [
    "pipe.view(summary=False, option = 'light')"
   ]
  },
  {
   "cell_type": "code",
   "execution_count": null,
   "metadata": {},
   "outputs": [],
   "source": [
    "pipe.view_dependency('split_data',summary=False, option='light')"
   ]
  },
  {
   "cell_type": "markdown",
   "metadata": {},
   "source": [
    "# Obtain values of a temporary result of the pipeline "
   ]
  },
  {
   "cell_type": "code",
   "execution_count": null,
   "metadata": {
    "ExecuteTime": {
     "end_time": "2021-08-01T05:24:32.376892Z",
     "start_time": "2021-08-01T05:24:29.490221Z"
    }
   },
   "outputs": [],
   "source": [
    "pipe.test_dataset.get(verbose=True)   "
   ]
  },
  {
   "cell_type": "markdown",
   "metadata": {},
   "source": [
    "# Example of making modification to the pipeline "
   ]
  },
  {
   "cell_type": "markdown",
   "metadata": {},
   "source": [
    "# define new function and connect in the end "
   ]
  },
  {
   "cell_type": "code",
   "execution_count": null,
   "metadata": {},
   "outputs": [],
   "source": [
    "@pipe._func_\n",
    "def get_length(tensor_dataset):\n",
    "    return len(tensor_dataset)\n",
    "\n",
    "pipe.setup_connection('size = get_length(train_dataset)')"
   ]
  },
  {
   "cell_type": "code",
   "execution_count": null,
   "metadata": {},
   "outputs": [],
   "source": [
    "pipe.view(summary=False)"
   ]
  },
  {
   "cell_type": "code",
   "execution_count": null,
   "metadata": {},
   "outputs": [],
   "source": [
    "pipe.size.get()"
   ]
  },
  {
   "cell_type": "markdown",
   "metadata": {},
   "source": [
    "# modify a function"
   ]
  },
  {
   "cell_type": "code",
   "execution_count": null,
   "metadata": {},
   "outputs": [],
   "source": [
    "@pipe._rep_func_('build_TensorDataset')\n",
    "def build_TensorDataset(x_dense, x_sparse, objmean, tscnt, label_0):\n",
    "    return \"Hello New TensorDataset Result!\""
   ]
  },
  {
   "cell_type": "code",
   "execution_count": null,
   "metadata": {},
   "outputs": [],
   "source": [
    "pipe.test_dataset.get()"
   ]
  },
  {
   "cell_type": "code",
   "execution_count": null,
   "metadata": {},
   "outputs": [],
   "source": [
    "pipe.train_dataset.get()"
   ]
  },
  {
   "cell_type": "markdown",
   "metadata": {},
   "source": [
    "# ProcessBase Example on ex4 "
   ]
  },
  {
   "cell_type": "code",
   "execution_count": null,
   "metadata": {
    "ExecuteTime": {
     "end_time": "2021-08-02T06:31:53.362627Z",
     "start_time": "2021-08-02T06:31:52.770450Z"
    }
   },
   "outputs": [],
   "source": [
    "from experiments.ex4.preprocess.config import PreProcess  \n",
    "preprocess = PreProcess(save_tmp=True, experiment_name = 'ex4') \n",
    "\n",
    "import os \n",
    "origin_path = 'data/source'\n",
    "preprocess.setup_vars(\n",
    "    chid_file=os.path.join(origin_path, 'sample_chid.txt'), \n",
    "    cdtx_file=os.path.join(origin_path, 'sample_zip_if_cca_cdtx0001_hist.csv'), \n",
    "    cust_f_file=os.path.join(origin_path, 'sample_zip_if_cca_cust_f.csv'),\n",
    "    category_cols=['chid', 'bnsfg', 'iterm', 'mcc', 'scity'], \n",
    "    sparse_feat=['chid', 'bnsfg', 'iterm', 'mcc', 'scity'], \n",
    "    numeric_cols=['bnspt', 'timestamp_0', 'timestamp_1', 'objam'],\n",
    "    dense_feat=['bnspt', 'timestamp_0', 'timestamp_1', 'objam'],\n",
    "    cust_category_cols=['chid', 'masts', 'educd', 'trdtp', 'poscd'], \n",
    "    cust_numeric_cols=['slam', 'first_mob', 'constant_change', 'sum_l2_ind',\n",
    "                  'sum_u2_ind', 'constant_l2_ind', 'constant_u4_ind',\n",
    "                  'growth_rate', 'monotone_down', 'monotone_up', 'data_dt'],\n",
    "    target_cols=['chid', 'data_dt', 'objam_sum', 'objam_mean', 'trans_count', 'objam_mean_M3'], \n",
    "    USE_CHID=True, \n",
    "    time_column_data_dt='data_dt', \n",
    "    time_column_csmdt='csmdt', \n",
    "    result_column_timestamp_1='timestamp_1', \n",
    "    result_column_timestamp_0='timestamp_0', \n",
    "    result_column_timestamp='timestamp', \n",
    "    LEFT='left', \n",
    "    INNER='inner', \n",
    "    n_sample=50, \n",
    "    window_size=120,\n",
    "    test_size=2\n",
    ")"
   ]
  },
  {
   "cell_type": "code",
   "execution_count": null,
   "metadata": {
    "ExecuteTime": {
     "end_time": "2021-08-02T06:31:57.269182Z",
     "start_time": "2021-08-02T06:31:54.457430Z"
    }
   },
   "outputs": [],
   "source": [
    "preprocess.config(verbose=True)  "
   ]
  },
  {
   "cell_type": "code",
   "execution_count": null,
   "metadata": {
    "ExecuteTime": {
     "end_time": "2021-08-02T06:32:04.449836Z",
     "start_time": "2021-08-02T06:32:04.394904Z"
    }
   },
   "outputs": [],
   "source": [
    "preprocess.pipe.sparse_dense_setting_generator.get(verbose=True, load_tmp=True) "
   ]
  },
  {
   "cell_type": "code",
   "execution_count": null,
   "metadata": {
    "ExecuteTime": {
     "end_time": "2021-08-02T06:27:54.498263Z",
     "start_time": "2021-08-02T06:27:54.387458Z"
    }
   },
   "outputs": [],
   "source": [
    "preprocess.pipe.view(summary=False) "
   ]
  },
  {
   "cell_type": "code",
   "execution_count": null,
   "metadata": {
    "ExecuteTime": {
     "end_time": "2021-08-02T06:30:42.641879Z",
     "start_time": "2021-08-02T06:30:22.114010Z"
    }
   },
   "outputs": [],
   "source": [
    "preprocess.pipe.x_train.get(verbose=True, load_tmp=True)   "
   ]
  },
  {
   "cell_type": "code",
   "execution_count": null,
   "metadata": {
    "ExecuteTime": {
     "end_time": "2021-08-01T14:57:57.584152Z",
     "start_time": "2021-08-01T14:57:49.204740Z"
    }
   },
   "outputs": [],
   "source": [
    "preprocess.pipe.df_cdtx.get(verbose=True, load_tmp=True)   "
   ]
  },
  {
   "cell_type": "code",
   "execution_count": null,
   "metadata": {
    "ExecuteTime": {
     "end_time": "2021-08-01T14:55:39.710961Z",
     "start_time": "2021-08-01T14:55:16.204327Z"
    }
   },
   "outputs": [],
   "source": [
    "preprocess.pipe.df_full_y_sum.get(verbose=True, load_tmp=True)  "
   ]
  },
  {
   "cell_type": "code",
   "execution_count": null,
   "metadata": {
    "ExecuteTime": {
     "end_time": "2021-08-02T06:32:29.573484Z",
     "start_time": "2021-08-02T06:32:10.923103Z"
    }
   },
   "outputs": [],
   "source": [
    "preprocess.pipe.train_dataset.get(verbose=True, load_tmp=True)  "
   ]
  },
  {
   "cell_type": "code",
   "execution_count": null,
   "metadata": {
    "ExecuteTime": {
     "end_time": "2021-08-02T06:32:29.794531Z",
     "start_time": "2021-08-02T06:32:29.576276Z"
    }
   },
   "outputs": [],
   "source": [
    "preprocess.pipe.test_dataset.get(verbose=True, load_tmp=True)  "
   ]
  },
  {
   "cell_type": "markdown",
   "metadata": {},
   "source": [
    "# Auto-Delete Unused Memory \n",
    "\n",
    "--- \n",
    "\n",
    "- [X] make the connection inverse. (add children list variable and add during connection). \n",
    "- [X] insert processed variable. \n",
    "- [X] once processed, mark processed = True. \n",
    "- [X] if all children are processed = True, delete _in_memory_results. (do the check and delete after a parent being processed).  \n",
    "- [X] change is_processed to is_complete and check if still working ? (not working)\n",
    "\n",
    "\n",
    "\n",
    "\n"
   ]
  },
  {
   "cell_type": "code",
   "execution_count": null,
   "metadata": {
    "ExecuteTime": {
     "end_time": "2021-08-02T08:14:13.384535Z",
     "start_time": "2021-08-02T08:14:13.029104Z"
    }
   },
   "outputs": [],
   "source": [
    "from experiments.ex4.preprocess.config import PreProcess  \n",
    "preprocess = PreProcess(save_tmp=True, experiment_name = 'ex4') \n",
    "\n",
    "import os \n",
    "origin_path = 'data/source'\n",
    "preprocess.setup_vars(\n",
    "    chid_file=os.path.join(origin_path, 'sample_chid.txt'), \n",
    "    cdtx_file=os.path.join(origin_path, 'sample_zip_if_cca_cdtx0001_hist.csv'), \n",
    "    cust_f_file=os.path.join(origin_path, 'sample_zip_if_cca_cust_f.csv'),\n",
    "    category_cols=['chid', 'bnsfg', 'iterm', 'mcc', 'scity'], \n",
    "    sparse_feat=['chid', 'bnsfg', 'iterm', 'mcc', 'scity'], \n",
    "    numeric_cols=['bnspt', 'timestamp_0', 'timestamp_1', 'objam'],\n",
    "    dense_feat=['bnspt', 'timestamp_0', 'timestamp_1', 'objam'],\n",
    "    cust_category_cols=['chid', 'masts', 'educd', 'trdtp', 'poscd'], \n",
    "    cust_numeric_cols=['slam', 'first_mob', 'constant_change', 'sum_l2_ind',\n",
    "                  'sum_u2_ind', 'constant_l2_ind', 'constant_u4_ind',\n",
    "                  'growth_rate', 'monotone_down', 'monotone_up', 'data_dt'],\n",
    "    target_cols=['chid', 'data_dt', 'objam_sum', 'objam_mean', 'trans_count', 'objam_mean_M3'], \n",
    "    USE_CHID=True, \n",
    "    time_column_data_dt='data_dt', \n",
    "    time_column_csmdt='csmdt', \n",
    "    result_column_timestamp_1='timestamp_1', \n",
    "    result_column_timestamp_0='timestamp_0', \n",
    "    result_column_timestamp='timestamp', \n",
    "    LEFT='left', \n",
    "    INNER='inner', \n",
    "    n_sample=50, \n",
    "    window_size=120,\n",
    "    test_size=2\n",
    ")"
   ]
  },
  {
   "cell_type": "code",
   "execution_count": null,
   "metadata": {
    "ExecuteTime": {
     "end_time": "2021-08-02T08:14:16.206620Z",
     "start_time": "2021-08-02T08:14:13.700164Z"
    }
   },
   "outputs": [],
   "source": [
    "preprocess.config(verbose=True)  "
   ]
  },
  {
   "cell_type": "code",
   "execution_count": null,
   "metadata": {
    "ExecuteTime": {
     "end_time": "2021-08-02T08:14:52.251887Z",
     "start_time": "2021-08-02T08:14:33.441353Z"
    }
   },
   "outputs": [],
   "source": [
    "preprocess.pipe.train_dataset.get(verbose=True, \n",
    "                                  load_tmp=True, \n",
    "                                  handle_wastes=False) "
   ]
  },
  {
   "cell_type": "code",
   "execution_count": null,
   "metadata": {
    "ExecuteTime": {
     "end_time": "2021-08-02T08:13:41.211021Z",
     "start_time": "2021-08-02T08:13:41.115880Z"
    }
   },
   "outputs": [],
   "source": [
    "preprocess.pipe.test_dataset.get(verbose=True, load_tmp=True, handle_wastes=False)  "
   ]
  },
  {
   "cell_type": "code",
   "execution_count": null,
   "metadata": {
    "ExecuteTime": {
     "end_time": "2021-08-02T08:07:56.272722Z",
     "start_time": "2021-08-02T08:07:56.197839Z"
    }
   },
   "outputs": [],
   "source": [
    "preprocess.pipe.sparse_dense_setting_generator.get(verbose=True, load_tmp=True)  "
   ]
  },
  {
   "cell_type": "code",
   "execution_count": null,
   "metadata": {},
   "outputs": [],
   "source": []
  }
 ],
 "metadata": {
  "hide_input": false,
  "kernelspec": {
   "display_name": "Python 3",
   "language": "python",
   "name": "python3"
  },
  "language_info": {
   "codemirror_mode": {
    "name": "ipython",
    "version": 3
   },
   "file_extension": ".py",
   "mimetype": "text/x-python",
   "name": "python",
   "nbconvert_exporter": "python",
   "pygments_lexer": "ipython3",
   "version": "3.6.11"
  },
  "toc": {
   "base_numbering": 1,
   "nav_menu": {},
   "number_sections": true,
   "sideBar": true,
   "skip_h1_title": false,
   "title_cell": "Table of Contents",
   "title_sidebar": "Contents",
   "toc_cell": false,
   "toc_position": {},
   "toc_section_display": true,
   "toc_window_display": false
  }
 },
 "nbformat": 4,
 "nbformat_minor": 4
}
