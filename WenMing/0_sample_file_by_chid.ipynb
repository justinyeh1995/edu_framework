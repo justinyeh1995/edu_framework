{
  "nbformat": 4,
  "nbformat_minor": 0,
  "metadata": {
    "kernelspec": {
      "display_name": "Python 3",
      "language": "python",
      "name": "python3"
    },
    "language_info": {
      "codemirror_mode": {
        "name": "ipython",
        "version": 3
      },
      "file_extension": ".py",
      "mimetype": "text/x-python",
      "name": "python",
      "nbconvert_exporter": "python",
      "pygments_lexer": "ipython3",
      "version": "3.7.9"
    },
    "colab": {
      "name": "0_sample_file_by_chid.ipynb",
      "provenance": [],
      "collapsed_sections": [
        "rDXZ7GjGxRD3",
        "qoHaKQ1-xRD4",
        "7NiHJ_iHxRD6"
      ],
      "toc_visible": true,
      "machine_shape": "hm",
      "include_colab_link": true
    }
  },
  "cells": [
    {
      "cell_type": "markdown",
      "metadata": {
        "id": "view-in-github",
        "colab_type": "text"
      },
      "source": [
        "<a href=\"https://colab.research.google.com/github/udothemath/ncku_customer_embedding/blob/main/WenMing/0_sample_file_by_chid.ipynb\" target=\"_parent\"><img src=\"https://colab.research.google.com/assets/colab-badge.svg\" alt=\"Open In Colab\"/></a>"
      ]
    },
    {
      "cell_type": "markdown",
      "metadata": {
        "id": "DbUlSAWRxRDg"
      },
      "source": [
        "# This notebook is used for data preprocessing and sampling"
      ]
    },
    {
      "cell_type": "code",
      "metadata": {
        "id": "wfI2PZxHLp-a",
        "colab": {
          "base_uri": "https://localhost:8080/"
        },
        "outputId": "20924d6a-1b48-48e8-ba31-afef64def3f2"
      },
      "source": [
        "# Just Commit Version\n",
        "# 如果有使用 coloab 再執行此 cell\n",
        "from google.colab import drive\n",
        "drive.mount('/gdrive')\n",
        "!ln -s /gdrive/MyDrive/colab/NCKU_embedding/data/ ./data\n"
      ],
      "execution_count": null,
      "outputs": [
        {
          "output_type": "stream",
          "text": [
            "Drive already mounted at /gdrive; to attempt to forcibly remount, call drive.mount(\"/gdrive\", force_remount=True).\n",
            "ln: failed to create symbolic link './data/data': File exists\n"
          ],
          "name": "stdout"
        }
      ]
    },
    {
      "cell_type": "code",
      "metadata": {
        "id": "pMnYo6FUxRDx"
      },
      "source": [
        "%matplotlib inline\n",
        "import matplotlib.pyplot as plt\n",
        "from time import time\n",
        "import pandas as pd\n",
        "import numpy as np\n",
        "import os\n",
        "import random\n",
        "from tqdm.notebook import tqdm\n",
        "import datetime"
      ],
      "execution_count": null,
      "outputs": []
    },
    {
      "cell_type": "code",
      "metadata": {
        "id": "k9M0YPSgxRDy"
      },
      "source": [
        "data_path = './data'\n",
        "cdtx_path = 'raw/zip_if_cca_cdtx0001_hist'\n",
        "y_path = 'raw/zip_if_cca_y'\n",
        "cust_f_path = 'raw/zip_if_cca_cust_f'\n",
        "stonc_tag_f_path = 'raw/zip_if_cca_stonc_tag_features'\n",
        "\n",
        "mcc_feature_path ='raw/if_cca_cdtx_group_by/'\n",
        "\n",
        "child_file = 'sample_chid.txt'\n",
        "cdtx_file = 'pickle_if_cca_cdtx0001_hist_{:04d}.pkl'\n",
        "y_file = 'pickle_if_cca_y_{:04d}.pkl'\n",
        "cust_f_file = 'pickle_if_cca_cust_f_{:04d}.pkl'\n",
        "stonc_tag_f_file = 'pickle_if_cca_stonc_tag_features_0000.pkl'"
      ],
      "execution_count": null,
      "outputs": []
    },
    {
      "cell_type": "markdown",
      "metadata": {
        "id": "G25cCr1wxRDy"
      },
      "source": [
        "## 進行資料篩選\n",
        "* 隨機抽取了三個檔案 pickle_if_cca_cdtx0001_hist_0008～10.pkl\n",
        "* 篩選日期為小於 2019/1/1 "
      ]
    },
    {
      "cell_type": "code",
      "metadata": {
        "id": "bzC-liIzN9WJ"
      },
      "source": [
        "!wc -l data/raw/zip_if_cca_cdtx0001_hist/pickle_if_cca_cdtx0001_hist_0010.pkl\n",
        "!wc -l data/raw/zip_if_cca_cdtx0001_hist/pickle_if_cca_cdtx0001_hist_0009.pkl\n",
        "!wc -l data/raw/zip_if_cca_cdtx0001_hist/pickle_if_cca_cdtx0001_hist_0008.pkl"
      ],
      "execution_count": null,
      "outputs": []
    },
    {
      "cell_type": "code",
      "metadata": {
        "id": "lRrNXPEUNVrH"
      },
      "source": [
        "data1 = np.load(f'data/raw/zip_if_cca_cdtx0001_hist/pickle_if_cca_cdtx0001_hist_0008.pkl',  allow_pickle=True)\n",
        "data1 = data1[data1.csmdt < datetime.date(2019, 1, 1)]\n",
        "chids = set(data1.chid.unique())\n",
        "del data1"
      ],
      "execution_count": null,
      "outputs": []
    },
    {
      "cell_type": "code",
      "metadata": {
        "id": "zmh8onbGPOAM"
      },
      "source": [
        "data2 = np.load(f'data/raw/zip_if_cca_cdtx0001_hist/pickle_if_cca_cdtx0001_hist_0009.pkl',  allow_pickle=True)\n",
        "data2 = data2[data2.csmdt < datetime.date(2019, 1, 1)]\n",
        "chids.update(data2.chid.unique())\n",
        "del data2"
      ],
      "execution_count": null,
      "outputs": []
    },
    {
      "cell_type": "code",
      "metadata": {
        "id": "iY_2kpygPPMx"
      },
      "source": [
        "data3 = np.load(f'data/raw/zip_if_cca_cdtx0001_hist/pickle_if_cca_cdtx0001_hist_0010.pkl',  allow_pickle=True)\n",
        "data3 = data3[data3.csmdt < datetime.date(2019, 1, 1)]\n",
        "chids.update(data3.chid.unique())\n",
        "del data3"
      ],
      "execution_count": null,
      "outputs": []
    },
    {
      "cell_type": "markdown",
      "metadata": {
        "id": "99TD_meUxRD0"
      },
      "source": [
        "## 產生所有不重複的 chid (customer ID)\n",
        "* 並產出 customer id list File : './data/sample_50k/sample_chid.txt'"
      ]
    },
    {
      "cell_type": "code",
      "metadata": {
        "id": "u_uG3v_8xRDz"
      },
      "source": [
        "chids = np.array(list(chids))"
      ],
      "execution_count": null,
      "outputs": []
    },
    {
      "cell_type": "code",
      "metadata": {
        "id": "pXY41VCSxRD1"
      },
      "source": [
        "random.seed(1012+4028+4036)\n",
        "sample_chids = random.sample(list(chids), k = 50000)\n",
        "with open(os.path.join(data_path, 'sample_50k', child_file), 'w') as f:\n",
        "    for i in sample_chids:\n",
        "        f.write(i+'\\n')"
      ],
      "execution_count": null,
      "outputs": []
    },
    {
      "cell_type": "markdown",
      "metadata": {
        "id": "QENQqe-DxRD2"
      },
      "source": [
        "## Produce the mapping table that serial number -> chid"
      ]
    },
    {
      "cell_type": "code",
      "metadata": {
        "id": "QpqKnZssxRD2"
      },
      "source": [
        "idx_map = {}\n",
        "for i,j in enumerate(sample_chids):\n",
        "    idx_map[j] = i"
      ],
      "execution_count": null,
      "outputs": []
    },
    {
      "cell_type": "code",
      "metadata": {
        "id": "4hGOXELXxRD2"
      },
      "source": [
        "np.save(os.path.join(data_path, 'sample_50k/sample_idx_map'), idx_map)"
      ],
      "execution_count": null,
      "outputs": []
    },
    {
      "cell_type": "markdown",
      "metadata": {
        "id": "zrTWinIlxRD2"
      },
      "source": [
        "## Load White List"
      ]
    },
    {
      "cell_type": "code",
      "metadata": {
        "id": "nyPghcV3xRD3",
        "colab": {
          "base_uri": "https://localhost:8080/"
        },
        "outputId": "e5979b33-f5ed-4ddb-94d5-ebbc5f811a93"
      },
      "source": [
        "chid_arary = np.loadtxt(os.path.join(data_path, 'sample_50k', child_file), dtype=np.str)\n",
        "len(set(chid_arary))"
      ],
      "execution_count": null,
      "outputs": [
        {
          "output_type": "execute_result",
          "data": {
            "text/plain": [
              "50000"
            ]
          },
          "metadata": {
            "tags": []
          },
          "execution_count": 5
        }
      ]
    },
    {
      "cell_type": "markdown",
      "metadata": {
        "id": "rDXZ7GjGxRD3"
      },
      "source": [
        "## Counting the total loading time and extrac transation log by chid list \n",
        "* this is used for counting the toal time that load whole zip_if_cca_cdtx0001_hist data \n",
        "* suffule all pickle file and filtering by chid list"
      ]
    },
    {
      "cell_type": "code",
      "metadata": {
        "id": "neacCqhjxRD3"
      },
      "source": [
        "cdtx_list = []\n",
        "\n",
        "t = time()\n",
        "for i in range(0, 30):\n",
        "    print('In',  cdtx_file.format(i))\n",
        "    \n",
        "    t0 = time()\n",
        "    \n",
        "    df_cdtx = pd.read_pickle(os.path.join(data_path, cdtx_path, cdtx_file.format(i)))\n",
        "    t1 = time()\n",
        "    \n",
        "    print('\\t Load file cost', t1 - t0)\n",
        "    \n",
        "    mask = df_cdtx.chid.isin(chid_arary)\n",
        "    t2 = time()\n",
        "    \n",
        "    print('\\t Find mask cost', t2 - t1)\n",
        "    \n",
        "    cdtx_list.append(df_cdtx.values[:][mask])\n",
        "    t3 = time()\n",
        "    \n",
        "    print('\\t One file total cost', t3 - t0, '\\n')\n",
        "    \n",
        "columns = df_cdtx.columns\n",
        "print('Whole files total cost', t3 - t)"
      ],
      "execution_count": null,
      "outputs": []
    },
    {
      "cell_type": "code",
      "metadata": {
        "id": "swhdXk8axRD3"
      },
      "source": [
        "sample_df_cdtx = pd.DataFrame(np.concatenate(cdtx_list, axis=0), columns=df_cdtx.columns)\n",
        "sample_df_cdtx = sample_df_cdtx.sort_values(by=['csmdt', 'chid', 'mcc']).reset_index(drop=True)\n",
        "sample_df_cdtx.shape"
      ],
      "execution_count": null,
      "outputs": []
    },
    {
      "cell_type": "code",
      "metadata": {
        "id": "OQz4SW5ExRD4"
      },
      "source": [
        "len(sample_df_cdtx.chid.unique()), len(sample_df_cdtx.csmdt.unique()), len(sample_df_cdtx.mcc.unique())"
      ],
      "execution_count": null,
      "outputs": []
    },
    {
      "cell_type": "code",
      "metadata": {
        "id": "y7jXhOB3xRD4"
      },
      "source": [
        "sample_df_cdtx.to_csv(os.path.join(data_path, 'sample_50k', 'sample_zip_if_cca_cdtx0001_hist.csv'), index=False, encoding='utf-8')"
      ],
      "execution_count": null,
      "outputs": []
    },
    {
      "cell_type": "code",
      "metadata": {
        "id": "CGDXqRRcxRD4"
      },
      "source": [
        "!head -n 3 ./data/sample_50k/sample_zip_if_cca_cdtx0001_hist.csv"
      ],
      "execution_count": null,
      "outputs": []
    },
    {
      "cell_type": "code",
      "metadata": {
        "id": "-D-g2eZlVY_2"
      },
      "source": [
        "del sample_df_cdtx"
      ],
      "execution_count": null,
      "outputs": []
    },
    {
      "cell_type": "code",
      "metadata": {
        "id": "pAmVgMbpVcwZ"
      },
      "source": [
        "del cdtx_list"
      ],
      "execution_count": null,
      "outputs": []
    },
    {
      "cell_type": "code",
      "metadata": {
        "id": "EJi3It30Vkz_"
      },
      "source": [
        "del df_cdtx\n",
        "del mask"
      ],
      "execution_count": null,
      "outputs": []
    },
    {
      "cell_type": "markdown",
      "metadata": {
        "id": "qoHaKQ1-xRD4"
      },
      "source": [
        "## 對學習目標資料檔進行整理 zip_if_cca_y"
      ]
    },
    {
      "cell_type": "code",
      "metadata": {
        "scrolled": true,
        "id": "DJkFm9sGxRD5"
      },
      "source": [
        "y_list = []\n",
        "\n",
        "t = time()\n",
        "for i in range(0, 13):\n",
        "    print('In',  y_file.format(i))\n",
        "    \n",
        "    t0 = time()\n",
        "    \n",
        "    df_y = pd.read_pickle(os.path.join(data_path, y_path, y_file.format(i)))\n",
        "    t1 = time()\n",
        "    \n",
        "    print('\\t Load file cost', t1 - t0)\n",
        "    \n",
        "    mask = df_y.chid.isin(chid_arary)\n",
        "    t2 = time()\n",
        "    \n",
        "    print('\\t Find mask cost', t2 - t1)\n",
        "    \n",
        "    y_list.append(df_y.values[:][mask])\n",
        "    t3 = time()\n",
        "    \n",
        "    print('\\t One file total cost', t3 - t0, '\\n')\n",
        "    \n",
        "columns = df_y.columns\n",
        "print('Whole files total cost', t3 - t)"
      ],
      "execution_count": null,
      "outputs": []
    },
    {
      "cell_type": "code",
      "metadata": {
        "id": "_LANHrIKxRD5"
      },
      "source": [
        "sample_df_y = pd.DataFrame(np.concatenate(y_list, axis=0), columns=df_y.columns)\n",
        "sample_df_y = sample_df_y.sort_values(by=['data_dt', 'chid', 'stonc_tag']).reset_index(drop=True)\n",
        "sample_df_y.shape"
      ],
      "execution_count": null,
      "outputs": []
    },
    {
      "cell_type": "code",
      "metadata": {
        "id": "ZTUOGo9GxRD5"
      },
      "source": [
        "len(sample_df_y.chid.unique()), len(sample_df_y.data_dt.unique()), len(sample_df_y.stonc_tag.unique())"
      ],
      "execution_count": null,
      "outputs": []
    },
    {
      "cell_type": "code",
      "metadata": {
        "id": "PDKBS5uExRD6"
      },
      "source": [
        "sample_df_y.to_csv(os.path.join(data_path, 'sample_50k', 'sample_zip_if_cca_y.csv'), index=False, encoding='utf-8')"
      ],
      "execution_count": null,
      "outputs": []
    },
    {
      "cell_type": "markdown",
      "metadata": {
        "id": "7NiHJ_iHxRD6"
      },
      "source": [
        "### the objective data include below column\n",
        "* date_dt: the transaction's date\n",
        "* chid: user's id\n",
        "* stonc_tg: merchant category\n",
        "* y: the amount of consumption\n",
        "\n"
      ]
    },
    {
      "cell_type": "code",
      "metadata": {
        "id": "O8tjQhdcxRD6"
      },
      "source": [
        "!head -n 5 ./data/sample_50k/sample_zip_if_cca_y.csv"
      ],
      "execution_count": null,
      "outputs": []
    },
    {
      "cell_type": "markdown",
      "metadata": {
        "id": "zuZi2TkmxRD6"
      },
      "source": [
        "## 根據抽樣過後的 chid list 取出相對的使用者 Profile"
      ]
    },
    {
      "cell_type": "code",
      "metadata": {
        "id": "FFCHvbeFxRD6"
      },
      "source": [
        "pd.read_pickle(os.path.join(data_path, cust_f_path, cust_f_file.format(0))).head(3)"
      ],
      "execution_count": null,
      "outputs": []
    },
    {
      "cell_type": "code",
      "metadata": {
        "scrolled": true,
        "id": "8CFyz756xRD7"
      },
      "source": [
        "cust_f_list = []\n",
        "\n",
        "t = time()\n",
        "for i in range(0, 94):\n",
        "    print('In',  cust_f_file.format(i))\n",
        "    \n",
        "    t0 = time()\n",
        "    \n",
        "    df_cust_f = pd.read_pickle(os.path.join(data_path, cust_f_path, cust_f_file.format(i)))\n",
        "    t1 = time()\n",
        "    \n",
        "    print('\\t Load file cost', t1 - t0)\n",
        "    \n",
        "    mask = df_cust_f.chid.isin(chid_arary)\n",
        "    t2 = time()\n",
        "    \n",
        "    print('\\t Find mask cost', t2 - t1)\n",
        "    \n",
        "    cust_f_list.append(df_cust_f.values[:][mask])\n",
        "    t3 = time()\n",
        "    \n",
        "    print('\\t One file total cost', t3 - t0, '\\n')\n",
        "    \n",
        "columns = df_cust_f.columns\n",
        "print('Whole files total cost', t3 - t)"
      ],
      "execution_count": null,
      "outputs": []
    },
    {
      "cell_type": "code",
      "metadata": {
        "id": "NVZMui3ZxRD7"
      },
      "source": [
        "cust_f_list"
      ],
      "execution_count": null,
      "outputs": []
    },
    {
      "cell_type": "code",
      "metadata": {
        "id": "OvcEmrK0xRD8"
      },
      "source": [
        "sample_df_cust_f = pd.DataFrame(np.concatenate(cust_f_list, axis=0), columns=df_cust_f.columns)\n",
        "sample_df_cust_f = sample_df_cust_f.sort_values(by=['chid', 'data_ym', 'data_dt']).reset_index(drop=True)\n",
        "sample_df_cust_f.shape"
      ],
      "execution_count": null,
      "outputs": []
    },
    {
      "cell_type": "code",
      "metadata": {
        "id": "k-Gd4e1qxRD8"
      },
      "source": [
        "len(sample_df_cust_f.chid.unique()), len(sample_df_cust_f.data_ym.unique()), len(sample_df_cust_f.data_dt.unique())"
      ],
      "execution_count": null,
      "outputs": []
    },
    {
      "cell_type": "markdown",
      "metadata": {
        "id": "moyqPzaJxRD9"
      },
      "source": [
        ""
      ]
    },
    {
      "cell_type": "code",
      "metadata": {
        "id": "pHURv5O5xRD9"
      },
      "source": [
        "sample_df_cust_f.to_csv(os.path.join(data_path, 'sample_50k', 'sample_zip_if_cca_cust_f.csv'), index=False, encoding='utf-8')"
      ],
      "execution_count": null,
      "outputs": []
    },
    {
      "cell_type": "code",
      "metadata": {
        "id": "QOzwL7cuxRD9"
      },
      "source": [
        "!head -n 3 ./data/sample_50k/sample_zip_if_cca_cust_f.csv"
      ],
      "execution_count": null,
      "outputs": []
    },
    {
      "cell_type": "markdown",
      "metadata": {
        "id": "CBnzEo1V634r"
      },
      "source": [
        "## 對 MCC Feature\n",
        "資料原始的 sql 如下 \n",
        "``` sql\n",
        "SELECT chid, mcc, year, month, \n",
        "countif(dayofweek=1)/count(objam) as dow1,\n",
        "countif(dayofweek=2)/count(objam) as dow2,\n",
        "countif(dayofweek=3)/count(objam) as dow3,\n",
        "countif(dayofweek=4)/count(objam) as dow4,\n",
        "countif(dayofweek=5)/count(objam) as dow5,\n",
        "countif(dayofweek=6)/count(objam) as dow6,\n",
        "countif(dayofweek=7)/count(objam) as dow7,\n",
        "sum(objam) as sum_objam, avg(objam) as avg_objam, count(objam) as count_objam\n",
        "FROM `neat-motif-123006.crd.if_cca_cdtx_view` group by  chid, year, month, mcc\n",
        "```"
      ]
    },
    {
      "cell_type": "code",
      "metadata": {
        "colab": {
          "base_uri": "https://localhost:8080/"
        },
        "id": "88IuU9zr7KJz",
        "outputId": "2efb8d3b-e635-440e-a21c-9b78affb2de7"
      },
      "source": [
        "import os\n",
        "df_mcc_list = []\n",
        "for p in os.listdir(os.path.join(data_path, mcc_feature_path)):\n",
        "    print('In',  p)\n",
        "\n",
        "\n",
        "    t0 = time()\n",
        "    \n",
        "    df_mcc = pd.read_csv(os.path.join(os.path.join(data_path, mcc_feature_path,p)))\n",
        "\n",
        "    t1 = time()\n",
        "    \n",
        "    print('\\t Load file cost', t1 - t0)\n",
        "    \n",
        "    mask = df_mcc.chid.isin(chid_arary)\n",
        "    t2 = time()\n",
        "    \n",
        "    print('\\t Find mask cost', t2 - t1)\n",
        "    \n",
        "    df_mcc_list.append(df_mcc.values[:][mask])\n",
        "    t3 = time()\n",
        "    \n",
        "    print('\\t One file total cost', t3 - t0, '\\n')\n"
      ],
      "execution_count": null,
      "outputs": [
        {
          "output_type": "stream",
          "text": [
            "In if_cca_cdtx_group_by_000000000000.csv\n",
            "\t Load file cost 14.4201979637146\n",
            "\t Find mask cost 2.1580440998077393\n",
            "\t One file total cost 23.141867876052856 \n",
            "\n",
            "In if_cca_cdtx_group_by_000000000001.csv\n",
            "\t Load file cost 24.708451509475708\n",
            "\t Find mask cost 2.2560203075408936\n",
            "\t One file total cost 31.204665660858154 \n",
            "\n",
            "In if_cca_cdtx_group_by_000000000002.csv\n",
            "\t Load file cost 18.46385407447815\n",
            "\t Find mask cost 2.14729380607605\n",
            "\t One file total cost 24.077491760253906 \n",
            "\n",
            "In if_cca_cdtx_group_by_000000000004.csv\n",
            "\t Load file cost 17.353042364120483\n",
            "\t Find mask cost 2.215131998062134\n",
            "\t One file total cost 23.717532634735107 \n",
            "\n",
            "In if_cca_cdtx_group_by_000000000003.csv\n",
            "\t Load file cost 16.34816598892212\n",
            "\t Find mask cost 2.415743827819824\n",
            "\t One file total cost 22.757824659347534 \n",
            "\n",
            "In if_cca_cdtx_group_by_000000000005.csv\n",
            "\t Load file cost 18.26445984840393\n",
            "\t Find mask cost 2.8342251777648926\n",
            "\t One file total cost 25.393646955490112 \n",
            "\n",
            "In if_cca_cdtx_group_by_000000000007.csv\n",
            "\t Load file cost 16.583141088485718\n",
            "\t Find mask cost 2.4390103816986084\n",
            "\t One file total cost 22.938711166381836 \n",
            "\n",
            "In if_cca_cdtx_group_by_000000000006.csv\n",
            "\t Load file cost 18.47635531425476\n",
            "\t Find mask cost 2.592177152633667\n",
            "\t One file total cost 25.431196689605713 \n",
            "\n",
            "In if_cca_cdtx_group_by_000000000008.csv\n",
            "\t Load file cost 16.11270046234131\n",
            "\t Find mask cost 2.555757761001587\n",
            "\t One file total cost 23.424256324768066 \n",
            "\n",
            "In if_cca_cdtx_group_by_000000000010.csv\n",
            "\t Load file cost 21.048072814941406\n",
            "\t Find mask cost 2.847064733505249\n",
            "\t One file total cost 28.51301670074463 \n",
            "\n",
            "In if_cca_cdtx_group_by_000000000009.csv\n",
            "\t Load file cost 19.7435884475708\n",
            "\t Find mask cost 2.4620521068573\n",
            "\t One file total cost 26.29812479019165 \n",
            "\n",
            "In if_cca_cdtx_group_by_000000000011.csv\n",
            "\t Load file cost 17.79871392250061\n",
            "\t Find mask cost 2.2988855838775635\n",
            "\t One file total cost 24.493860006332397 \n",
            "\n",
            "In if_cca_cdtx_group_by_000000000012.csv\n",
            "\t Load file cost 19.318845748901367\n",
            "\t Find mask cost 2.799600124359131\n",
            "\t One file total cost 26.017065286636353 \n",
            "\n",
            "In if_cca_cdtx_group_by_000000000014.csv\n",
            "\t Load file cost 17.310497999191284\n",
            "\t Find mask cost 2.3260598182678223\n",
            "\t One file total cost 23.835923194885254 \n",
            "\n",
            "In if_cca_cdtx_group_by_000000000013.csv\n",
            "\t Load file cost 17.760270595550537\n",
            "\t Find mask cost 2.440927267074585\n",
            "\t One file total cost 24.58660578727722 \n",
            "\n",
            "In if_cca_cdtx_group_by_000000000015.csv\n",
            "\t Load file cost 17.09990668296814\n",
            "\t Find mask cost 2.9182372093200684\n",
            "\t One file total cost 25.234549283981323 \n",
            "\n",
            "In if_cca_cdtx_group_by_000000000017.csv\n",
            "\t Load file cost 19.011188745498657\n",
            "\t Find mask cost 2.7573046684265137\n",
            "\t One file total cost 26.345115661621094 \n",
            "\n",
            "In if_cca_cdtx_group_by_000000000016.csv\n",
            "\t Load file cost 16.866119384765625\n",
            "\t Find mask cost 2.528325319290161\n",
            "\t One file total cost 24.248943328857422 \n",
            "\n"
          ],
          "name": "stdout"
        }
      ]
    },
    {
      "cell_type": "code",
      "metadata": {
        "colab": {
          "base_uri": "https://localhost:8080/",
          "height": 111
        },
        "id": "6wHPOn3QAKA3",
        "outputId": "d7ecdad3-7037-4bab-c805-2953eae61fb0"
      },
      "source": [
        "df_mcc.head(2)"
      ],
      "execution_count": null,
      "outputs": [
        {
          "output_type": "execute_result",
          "data": {
            "text/html": [
              "<div>\n",
              "<style scoped>\n",
              "    .dataframe tbody tr th:only-of-type {\n",
              "        vertical-align: middle;\n",
              "    }\n",
              "\n",
              "    .dataframe tbody tr th {\n",
              "        vertical-align: top;\n",
              "    }\n",
              "\n",
              "    .dataframe thead th {\n",
              "        text-align: right;\n",
              "    }\n",
              "</style>\n",
              "<table border=\"1\" class=\"dataframe\">\n",
              "  <thead>\n",
              "    <tr style=\"text-align: right;\">\n",
              "      <th></th>\n",
              "      <th>chid</th>\n",
              "      <th>mcc</th>\n",
              "      <th>year</th>\n",
              "      <th>month</th>\n",
              "      <th>dow1</th>\n",
              "      <th>dow2</th>\n",
              "      <th>dow3</th>\n",
              "      <th>dow4</th>\n",
              "      <th>dow5</th>\n",
              "      <th>dow6</th>\n",
              "      <th>dow7</th>\n",
              "      <th>sum_objam</th>\n",
              "      <th>avg_objam</th>\n",
              "      <th>count_objam</th>\n",
              "    </tr>\n",
              "  </thead>\n",
              "  <tbody>\n",
              "    <tr>\n",
              "      <th>0</th>\n",
              "      <td>e6AUEsbC+4lA9PlonTRsBA==</td>\n",
              "      <td>8999</td>\n",
              "      <td>2019</td>\n",
              "      <td>12</td>\n",
              "      <td>0.0</td>\n",
              "      <td>0.0</td>\n",
              "      <td>1.0</td>\n",
              "      <td>0.0</td>\n",
              "      <td>0.0</td>\n",
              "      <td>0.0</td>\n",
              "      <td>0.0</td>\n",
              "      <td>7712</td>\n",
              "      <td>7712.0</td>\n",
              "      <td>1</td>\n",
              "    </tr>\n",
              "    <tr>\n",
              "      <th>1</th>\n",
              "      <td>f+ilq6WC96mhcjn2fF47KA==</td>\n",
              "      <td>4722</td>\n",
              "      <td>2020</td>\n",
              "      <td>1</td>\n",
              "      <td>0.0</td>\n",
              "      <td>0.0</td>\n",
              "      <td>0.0</td>\n",
              "      <td>0.0</td>\n",
              "      <td>0.0</td>\n",
              "      <td>0.0</td>\n",
              "      <td>1.0</td>\n",
              "      <td>121940</td>\n",
              "      <td>121940.0</td>\n",
              "      <td>1</td>\n",
              "    </tr>\n",
              "  </tbody>\n",
              "</table>\n",
              "</div>"
            ],
            "text/plain": [
              "                       chid   mcc  year  ...  sum_objam  avg_objam  count_objam\n",
              "0  e6AUEsbC+4lA9PlonTRsBA==  8999  2019  ...       7712     7712.0            1\n",
              "1  f+ilq6WC96mhcjn2fF47KA==  4722  2020  ...     121940   121940.0            1\n",
              "\n",
              "[2 rows x 14 columns]"
            ]
          },
          "metadata": {
            "tags": []
          },
          "execution_count": 19
        }
      ]
    },
    {
      "cell_type": "code",
      "metadata": {
        "colab": {
          "base_uri": "https://localhost:8080/"
        },
        "id": "_gYLwNVt7DvR",
        "outputId": "2dd114aa-3703-4ac3-f228-edd54430465d"
      },
      "source": [
        "sample_df_mcc = pd.DataFrame(np.concatenate(df_mcc_list, axis=0), columns=df_mcc.columns)\n",
        "sample_df_mcc = sample_df_mcc.sort_values(by=['chid', 'year', 'month']).reset_index(drop=True)\n",
        "sample_df_mcc.shape"
      ],
      "execution_count": null,
      "outputs": [
        {
          "output_type": "execute_result",
          "data": {
            "text/plain": [
              "(3248802, 14)"
            ]
          },
          "metadata": {
            "tags": []
          },
          "execution_count": 20
        }
      ]
    },
    {
      "cell_type": "code",
      "metadata": {
        "colab": {
          "base_uri": "https://localhost:8080/",
          "height": 111
        },
        "id": "_Or2j1-9AzZO",
        "outputId": "c56e0233-db25-4eff-fbf0-41b137234a6e"
      },
      "source": [
        "sample_df_mcc.head(2)"
      ],
      "execution_count": null,
      "outputs": [
        {
          "output_type": "execute_result",
          "data": {
            "text/html": [
              "<div>\n",
              "<style scoped>\n",
              "    .dataframe tbody tr th:only-of-type {\n",
              "        vertical-align: middle;\n",
              "    }\n",
              "\n",
              "    .dataframe tbody tr th {\n",
              "        vertical-align: top;\n",
              "    }\n",
              "\n",
              "    .dataframe thead th {\n",
              "        text-align: right;\n",
              "    }\n",
              "</style>\n",
              "<table border=\"1\" class=\"dataframe\">\n",
              "  <thead>\n",
              "    <tr style=\"text-align: right;\">\n",
              "      <th></th>\n",
              "      <th>chid</th>\n",
              "      <th>mcc</th>\n",
              "      <th>year</th>\n",
              "      <th>month</th>\n",
              "      <th>dow1</th>\n",
              "      <th>dow2</th>\n",
              "      <th>dow3</th>\n",
              "      <th>dow4</th>\n",
              "      <th>dow5</th>\n",
              "      <th>dow6</th>\n",
              "      <th>dow7</th>\n",
              "      <th>sum_objam</th>\n",
              "      <th>avg_objam</th>\n",
              "      <th>count_objam</th>\n",
              "    </tr>\n",
              "  </thead>\n",
              "  <tbody>\n",
              "    <tr>\n",
              "      <th>0</th>\n",
              "      <td>++Huqpxe3/XNAVyL1cp9fA==</td>\n",
              "      <td>5411</td>\n",
              "      <td>2018</td>\n",
              "      <td>2</td>\n",
              "      <td>0</td>\n",
              "      <td>0</td>\n",
              "      <td>0</td>\n",
              "      <td>0</td>\n",
              "      <td>1</td>\n",
              "      <td>0</td>\n",
              "      <td>0</td>\n",
              "      <td>2928</td>\n",
              "      <td>2928</td>\n",
              "      <td>1</td>\n",
              "    </tr>\n",
              "    <tr>\n",
              "      <th>1</th>\n",
              "      <td>++Huqpxe3/XNAVyL1cp9fA==</td>\n",
              "      <td>ICH5</td>\n",
              "      <td>2018</td>\n",
              "      <td>4</td>\n",
              "      <td>0</td>\n",
              "      <td>0</td>\n",
              "      <td>0</td>\n",
              "      <td>1</td>\n",
              "      <td>0</td>\n",
              "      <td>0</td>\n",
              "      <td>0</td>\n",
              "      <td>2600</td>\n",
              "      <td>2600</td>\n",
              "      <td>1</td>\n",
              "    </tr>\n",
              "  </tbody>\n",
              "</table>\n",
              "</div>"
            ],
            "text/plain": [
              "                       chid   mcc  year  ... sum_objam avg_objam count_objam\n",
              "0  ++Huqpxe3/XNAVyL1cp9fA==  5411  2018  ...      2928      2928           1\n",
              "1  ++Huqpxe3/XNAVyL1cp9fA==  ICH5  2018  ...      2600      2600           1\n",
              "\n",
              "[2 rows x 14 columns]"
            ]
          },
          "metadata": {
            "tags": []
          },
          "execution_count": 21
        }
      ]
    },
    {
      "cell_type": "code",
      "metadata": {
        "id": "Qegair7pA9Ne"
      },
      "source": [
        "sample_df_mcc.to_csv(os.path.join(data_path, 'sample_50k', 'sample_if_cca_cdtx_group_by_mcc.csv'), index=False, encoding='utf-8')"
      ],
      "execution_count": null,
      "outputs": []
    }
  ]
}