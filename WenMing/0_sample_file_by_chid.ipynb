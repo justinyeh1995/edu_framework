{
  "nbformat": 4,
  "nbformat_minor": 0,
  "metadata": {
    "kernelspec": {
      "display_name": "Python 3",
      "language": "python",
      "name": "python3"
    },
    "language_info": {
      "codemirror_mode": {
        "name": "ipython",
        "version": 3
      },
      "file_extension": ".py",
      "mimetype": "text/x-python",
      "name": "python",
      "nbconvert_exporter": "python",
      "pygments_lexer": "ipython3",
      "version": "3.7.9"
    },
    "colab": {
      "name": "0_sample_file_by_chid.ipynb",
      "provenance": [],
      "toc_visible": true,
      "machine_shape": "hm",
      "include_colab_link": true
    }
  },
  "cells": [
    {
      "cell_type": "markdown",
      "metadata": {
        "id": "view-in-github",
        "colab_type": "text"
      },
      "source": [
        "<a href=\"https://colab.research.google.com/github/udothemath/ncku_customer_embedding/blob/main/WenMing/0_sample_file_by_chid.ipynb\" target=\"_parent\"><img src=\"https://colab.research.google.com/assets/colab-badge.svg\" alt=\"Open In Colab\"/></a>"
      ]
    },
    {
      "cell_type": "markdown",
      "metadata": {
        "id": "DbUlSAWRxRDg"
      },
      "source": [
        "# This notebook is used for data preprocessing and sampling"
      ]
    },
    {
      "cell_type": "code",
      "metadata": {
        "id": "wfI2PZxHLp-a"
      },
      "source": [
        "# 如果有使用 coloab 再執行此 cell\n",
        "from google.colab import drive\n",
        "drive.mount('/gdrive')\n",
        "!ln -s /gdrive/MyDrive/colab/NCKU_embedding/data/ ./data\n"
      ],
      "execution_count": null,
      "outputs": []
    },
    {
      "cell_type": "code",
      "metadata": {
        "id": "pMnYo6FUxRDx"
      },
      "source": [
        "%matplotlib inline\n",
        "import matplotlib.pyplot as plt\n",
        "from time import time\n",
        "import pandas as pd\n",
        "import numpy as np\n",
        "import os\n",
        "import random\n",
        "from tqdm.notebook import tqdm\n",
        "import datetime"
      ],
      "execution_count": null,
      "outputs": []
    },
    {
      "cell_type": "code",
      "metadata": {
        "id": "k9M0YPSgxRDy"
      },
      "source": [
        "data_path = './data'\n",
        "cdtx_path = 'raw/zip_if_cca_cdtx0001_hist'\n",
        "y_path = 'raw/zip_if_cca_y'\n",
        "cust_f_path = 'raw/zip_if_cca_cust_f'\n",
        "stonc_tag_f_path = 'raw/zip_if_cca_stonc_tag_features'\n",
        "\n",
        "child_file = 'sample_chid.txt'\n",
        "cdtx_file = 'pickle_if_cca_cdtx0001_hist_{:04d}.pkl'\n",
        "y_file = 'pickle_if_cca_y_{:04d}.pkl'\n",
        "cust_f_file = 'pickle_if_cca_cust_f_{:04d}.pkl'\n",
        "stonc_tag_f_file = 'pickle_if_cca_stonc_tag_features_0000.pkl'"
      ],
      "execution_count": null,
      "outputs": []
    },
    {
      "cell_type": "markdown",
      "metadata": {
        "id": "G25cCr1wxRDy"
      },
      "source": [
        "## 進行資料篩選\n",
        "* 隨機抽取了三個檔案 pickle_if_cca_cdtx0001_hist_0008～10.pkl\n",
        "* 篩選日期為小於 2019/1/1 "
      ]
    },
    {
      "cell_type": "code",
      "metadata": {
        "id": "bzC-liIzN9WJ"
      },
      "source": [
        "!wc -l data/raw/zip_if_cca_cdtx0001_hist/pickle_if_cca_cdtx0001_hist_0010.pkl\n",
        "!wc -l data/raw/zip_if_cca_cdtx0001_hist/pickle_if_cca_cdtx0001_hist_0009.pkl\n",
        "!wc -l data/raw/zip_if_cca_cdtx0001_hist/pickle_if_cca_cdtx0001_hist_0008.pkl"
      ],
      "execution_count": null,
      "outputs": []
    },
    {
      "cell_type": "code",
      "metadata": {
        "id": "lRrNXPEUNVrH"
      },
      "source": [
        "data1 = np.load(f'data/raw/zip_if_cca_cdtx0001_hist/pickle_if_cca_cdtx0001_hist_0008.pkl',  allow_pickle=True)\n",
        "data1 = data1[data1.csmdt < datetime.date(2019, 1, 1)]\n",
        "chids = set(data1.chid.unique())\n",
        "del data1"
      ],
      "execution_count": null,
      "outputs": []
    },
    {
      "cell_type": "code",
      "metadata": {
        "id": "zmh8onbGPOAM"
      },
      "source": [
        "data2 = np.load(f'data/raw/zip_if_cca_cdtx0001_hist/pickle_if_cca_cdtx0001_hist_0009.pkl',  allow_pickle=True)\n",
        "data2 = data2[data2.csmdt < datetime.date(2019, 1, 1)]\n",
        "chids.update(data2.chid.unique())\n",
        "del data2"
      ],
      "execution_count": null,
      "outputs": []
    },
    {
      "cell_type": "code",
      "metadata": {
        "id": "iY_2kpygPPMx"
      },
      "source": [
        "data3 = np.load(f'data/raw/zip_if_cca_cdtx0001_hist/pickle_if_cca_cdtx0001_hist_0010.pkl',  allow_pickle=True)\n",
        "data3 = data3[data3.csmdt < datetime.date(2019, 1, 1)]\n",
        "chids.update(data3.chid.unique())\n",
        "del data3"
      ],
      "execution_count": null,
      "outputs": []
    },
    {
      "cell_type": "markdown",
      "metadata": {
        "id": "99TD_meUxRD0"
      },
      "source": [
        "## 產生所有不重複的 chid (customer ID)\n",
        "* 並產出 customer id list File : './data/sample_50k/sample_chid.txt'"
      ]
    },
    {
      "cell_type": "code",
      "metadata": {
        "id": "u_uG3v_8xRDz"
      },
      "source": [
        "chids = np.array(list(chids))"
      ],
      "execution_count": null,
      "outputs": []
    },
    {
      "cell_type": "code",
      "metadata": {
        "id": "pXY41VCSxRD1"
      },
      "source": [
        "random.seed(1012+4028+4036)\n",
        "sample_chids = random.sample(list(chids), k = 50000)\n",
        "with open(os.path.join(data_path, 'sample_50k', child_file), 'w') as f:\n",
        "    for i in sample_chids:\n",
        "        f.write(i+'\\n')"
      ],
      "execution_count": null,
      "outputs": []
    },
    {
      "cell_type": "markdown",
      "metadata": {
        "id": "QENQqe-DxRD2"
      },
      "source": [
        "## Produce the mapping table that serial number -> chid"
      ]
    },
    {
      "cell_type": "code",
      "metadata": {
        "id": "QpqKnZssxRD2"
      },
      "source": [
        "idx_map = {}\n",
        "for i,j in enumerate(sample_chids):\n",
        "    idx_map[j] = i"
      ],
      "execution_count": null,
      "outputs": []
    },
    {
      "cell_type": "code",
      "metadata": {
        "id": "4hGOXELXxRD2"
      },
      "source": [
        "np.save(os.path.join(data_path, 'sample_50k/sample_idx_map'), idx_map)"
      ],
      "execution_count": null,
      "outputs": []
    },
    {
      "cell_type": "markdown",
      "metadata": {
        "id": "zrTWinIlxRD2"
      },
      "source": [
        "## Load White List"
      ]
    },
    {
      "cell_type": "code",
      "metadata": {
        "id": "nyPghcV3xRD3"
      },
      "source": [
        "chid_arary = np.loadtxt(os.path.join(data_path, 'sample_50k', child_file), dtype=np.str)\n",
        "len(set(chid_arary))"
      ],
      "execution_count": null,
      "outputs": []
    },
    {
      "cell_type": "markdown",
      "metadata": {
        "id": "rDXZ7GjGxRD3"
      },
      "source": [
        "## Counting the total loading time and extrac transation log by chid list \n",
        "* this is used for counting the toal time that load whole zip_if_cca_cdtx0001_hist data \n",
        "* suffule all pickle file and filtering by chid list"
      ]
    },
    {
      "cell_type": "code",
      "metadata": {
        "id": "neacCqhjxRD3"
      },
      "source": [
        "cdtx_list = []\n",
        "\n",
        "t = time()\n",
        "for i in range(0, 30):\n",
        "    print('In',  cdtx_file.format(i))\n",
        "    \n",
        "    t0 = time()\n",
        "    \n",
        "    df_cdtx = pd.read_pickle(os.path.join(data_path, cdtx_path, cdtx_file.format(i)))\n",
        "    t1 = time()\n",
        "    \n",
        "    print('\\t Load file cost', t1 - t0)\n",
        "    \n",
        "    mask = df_cdtx.chid.isin(chid_arary)\n",
        "    t2 = time()\n",
        "    \n",
        "    print('\\t Find mask cost', t2 - t1)\n",
        "    \n",
        "    cdtx_list.append(df_cdtx.values[:][mask])\n",
        "    t3 = time()\n",
        "    \n",
        "    print('\\t One file total cost', t3 - t0, '\\n')\n",
        "    \n",
        "columns = df_cdtx.columns\n",
        "print('Whole files total cost', t3 - t)"
      ],
      "execution_count": null,
      "outputs": []
    },
    {
      "cell_type": "code",
      "metadata": {
        "id": "swhdXk8axRD3"
      },
      "source": [
        "sample_df_cdtx = pd.DataFrame(np.concatenate(cdtx_list, axis=0), columns=df_cdtx.columns)\n",
        "sample_df_cdtx = sample_df_cdtx.sort_values(by=['csmdt', 'chid', 'mcc']).reset_index(drop=True)\n",
        "sample_df_cdtx.shape"
      ],
      "execution_count": null,
      "outputs": []
    },
    {
      "cell_type": "code",
      "metadata": {
        "id": "OQz4SW5ExRD4"
      },
      "source": [
        "len(sample_df_cdtx.chid.unique()), len(sample_df_cdtx.csmdt.unique()), len(sample_df_cdtx.mcc.unique())"
      ],
      "execution_count": null,
      "outputs": []
    },
    {
      "cell_type": "code",
      "metadata": {
        "id": "y7jXhOB3xRD4"
      },
      "source": [
        "sample_df_cdtx.to_csv(os.path.join(data_path, 'sample_50k', 'sample_zip_if_cca_cdtx0001_hist.csv'), index=False, encoding='utf-8')"
      ],
      "execution_count": null,
      "outputs": []
    },
    {
      "cell_type": "code",
      "metadata": {
        "id": "CGDXqRRcxRD4"
      },
      "source": [
        "!head -n 3 ./data/sample_50k/sample_zip_if_cca_cdtx0001_hist.csv"
      ],
      "execution_count": null,
      "outputs": []
    },
    {
      "cell_type": "code",
      "metadata": {
        "id": "-D-g2eZlVY_2"
      },
      "source": [
        "del sample_df_cdtx"
      ],
      "execution_count": null,
      "outputs": []
    },
    {
      "cell_type": "code",
      "metadata": {
        "id": "pAmVgMbpVcwZ"
      },
      "source": [
        "del cdtx_list"
      ],
      "execution_count": null,
      "outputs": []
    },
    {
      "cell_type": "code",
      "metadata": {
        "id": "EJi3It30Vkz_"
      },
      "source": [
        "del df_cdtx\n",
        "del mask"
      ],
      "execution_count": null,
      "outputs": []
    },
    {
      "cell_type": "markdown",
      "metadata": {
        "id": "qoHaKQ1-xRD4"
      },
      "source": [
        "## 對學習目標資料檔進行整理 zip_if_cca_y"
      ]
    },
    {
      "cell_type": "code",
      "metadata": {
        "scrolled": true,
        "id": "DJkFm9sGxRD5"
      },
      "source": [
        "y_list = []\n",
        "\n",
        "t = time()\n",
        "for i in range(0, 13):\n",
        "    print('In',  y_file.format(i))\n",
        "    \n",
        "    t0 = time()\n",
        "    \n",
        "    df_y = pd.read_pickle(os.path.join(data_path, y_path, y_file.format(i)))\n",
        "    t1 = time()\n",
        "    \n",
        "    print('\\t Load file cost', t1 - t0)\n",
        "    \n",
        "    mask = df_y.chid.isin(chid_arary)\n",
        "    t2 = time()\n",
        "    \n",
        "    print('\\t Find mask cost', t2 - t1)\n",
        "    \n",
        "    y_list.append(df_y.values[:][mask])\n",
        "    t3 = time()\n",
        "    \n",
        "    print('\\t One file total cost', t3 - t0, '\\n')\n",
        "    \n",
        "columns = df_y.columns\n",
        "print('Whole files total cost', t3 - t)"
      ],
      "execution_count": null,
      "outputs": []
    },
    {
      "cell_type": "code",
      "metadata": {
        "id": "_LANHrIKxRD5"
      },
      "source": [
        "sample_df_y = pd.DataFrame(np.concatenate(y_list, axis=0), columns=df_y.columns)\n",
        "sample_df_y = sample_df_y.sort_values(by=['data_dt', 'chid', 'stonc_tag']).reset_index(drop=True)\n",
        "sample_df_y.shape"
      ],
      "execution_count": null,
      "outputs": []
    },
    {
      "cell_type": "code",
      "metadata": {
        "id": "ZTUOGo9GxRD5"
      },
      "source": [
        "len(sample_df_y.chid.unique()), len(sample_df_y.data_dt.unique()), len(sample_df_y.stonc_tag.unique())"
      ],
      "execution_count": null,
      "outputs": []
    },
    {
      "cell_type": "code",
      "metadata": {
        "id": "PDKBS5uExRD6"
      },
      "source": [
        "sample_df_y.to_csv(os.path.join(data_path, 'sample_50k', 'sample_zip_if_cca_y.csv'), index=False, encoding='utf-8')"
      ],
      "execution_count": null,
      "outputs": []
    },
    {
      "cell_type": "markdown",
      "metadata": {
        "id": "7NiHJ_iHxRD6"
      },
      "source": [
        "### the objective data include below column\n",
        "* date_dt: the transaction's date\n",
        "* chid: user's id\n",
        "* stonc_tg: merchant category\n",
        "* y: the amount of consumption\n",
        "\n"
      ]
    },
    {
      "cell_type": "code",
      "metadata": {
        "id": "O8tjQhdcxRD6"
      },
      "source": [
        "!head -n 5 ./data/sample_50k/sample_zip_if_cca_y.csv"
      ],
      "execution_count": null,
      "outputs": []
    },
    {
      "cell_type": "markdown",
      "metadata": {
        "id": "zuZi2TkmxRD6"
      },
      "source": [
        "## 根據抽樣過後的 chid list 取出相對的使用者 Profile"
      ]
    },
    {
      "cell_type": "code",
      "metadata": {
        "id": "FFCHvbeFxRD6"
      },
      "source": [
        "pd.read_pickle(os.path.join(data_path, cust_f_path, cust_f_file.format(0))).head(3)"
      ],
      "execution_count": null,
      "outputs": []
    },
    {
      "cell_type": "code",
      "metadata": {
        "scrolled": true,
        "id": "8CFyz756xRD7"
      },
      "source": [
        "cust_f_list = []\n",
        "\n",
        "t = time()\n",
        "for i in range(0, 94):\n",
        "    print('In',  cust_f_file.format(i))\n",
        "    \n",
        "    t0 = time()\n",
        "    \n",
        "    df_cust_f = pd.read_pickle(os.path.join(data_path, cust_f_path, cust_f_file.format(i)))\n",
        "    t1 = time()\n",
        "    \n",
        "    print('\\t Load file cost', t1 - t0)\n",
        "    \n",
        "    mask = df_cust_f.chid.isin(chid_arary)\n",
        "    t2 = time()\n",
        "    \n",
        "    print('\\t Find mask cost', t2 - t1)\n",
        "    \n",
        "    cust_f_list.append(df_cust_f.values[:][mask])\n",
        "    t3 = time()\n",
        "    \n",
        "    print('\\t One file total cost', t3 - t0, '\\n')\n",
        "    \n",
        "columns = df_cust_f.columns\n",
        "print('Whole files total cost', t3 - t)"
      ],
      "execution_count": null,
      "outputs": []
    },
    {
      "cell_type": "code",
      "metadata": {
        "id": "NVZMui3ZxRD7"
      },
      "source": [
        "cust_f_list"
      ],
      "execution_count": null,
      "outputs": []
    },
    {
      "cell_type": "code",
      "metadata": {
        "id": "OvcEmrK0xRD8"
      },
      "source": [
        "sample_df_cust_f = pd.DataFrame(np.concatenate(cust_f_list, axis=0), columns=df_cust_f.columns)\n",
        "sample_df_cust_f = sample_df_cust_f.sort_values(by=['chid', 'data_ym', 'data_dt']).reset_index(drop=True)\n",
        "sample_df_cust_f.shape"
      ],
      "execution_count": null,
      "outputs": []
    },
    {
      "cell_type": "code",
      "metadata": {
        "id": "k-Gd4e1qxRD8"
      },
      "source": [
        "len(sample_df_cust_f.chid.unique()), len(sample_df_cust_f.data_ym.unique()), len(sample_df_cust_f.data_dt.unique())"
      ],
      "execution_count": null,
      "outputs": []
    },
    {
      "cell_type": "markdown",
      "metadata": {
        "id": "moyqPzaJxRD9"
      },
      "source": [
        ""
      ]
    },
    {
      "cell_type": "code",
      "metadata": {
        "id": "pHURv5O5xRD9"
      },
      "source": [
        "sample_df_cust_f.to_csv(os.path.join(data_path, 'sample_50k', 'sample_zip_if_cca_cust_f.csv'), index=False, encoding='utf-8')"
      ],
      "execution_count": null,
      "outputs": []
    },
    {
      "cell_type": "code",
      "metadata": {
        "id": "QOzwL7cuxRD9"
      },
      "source": [
        "!head -n 3 ./data/sample_50k/sample_zip_if_cca_cust_f.csv"
      ],
      "execution_count": null,
      "outputs": []
    }
  ]
}