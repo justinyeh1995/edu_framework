{
 "cells": [
  {
   "cell_type": "code",
   "execution_count": 1,
   "id": "acute-personal",
   "metadata": {},
   "outputs": [],
   "source": [
    "import os\n",
    "import numpy as np\n",
    "import pandas as pd\n",
    "from time import time\n",
    "from tqdm import tqdm, trange\n",
    "from sklearn.preprocessing import MinMaxScaler"
   ]
  },
  {
   "cell_type": "code",
   "execution_count": 2,
   "id": "worth-tours",
   "metadata": {},
   "outputs": [],
   "source": [
    "sample_path = './data/sample_50k'\n",
    "\n",
    "chid_file = 'sample_chid.txt'\n",
    "chid_dict_file = 'sample_idx_map.npy'\n",
    "cdtx_file = 'sample_zip_if_cca_cdtx0001_hist.csv'\n",
    "cust_f_file = 'sample_zip_if_cca_cust_f.csv'\n",
    "y_file = 'sample_zip_if_cca_y.csv'"
   ]
  },
  {
   "cell_type": "code",
   "execution_count": 3,
   "id": "minimal-parallel",
   "metadata": {},
   "outputs": [
    {
     "name": "stdout",
     "output_type": "stream",
     "text": [
      "(50000,) 50000 (6654938, 10) (1176172, 32) (2889085, 4)\n"
     ]
    }
   ],
   "source": [
    "chid_array = np.loadtxt(os.path.join(sample_path, chid_file), dtype=np.str)\n",
    "chid_dict = np.load(os.path.join(sample_path, chid_dict_file), allow_pickle=True).item()\n",
    "df_cdtx = pd.read_csv(os.path.join(sample_path, cdtx_file)) # 交易記錄檔\n",
    "df_cust_f = pd.read_csv(os.path.join(sample_path, cust_f_file)) # user feature\n",
    "df_cust_f.drop_duplicates(ignore_index=True, inplace=True)\n",
    "df_y = pd.read_csv(os.path.join(sample_path, y_file)) #  預測目標\n",
    "\n",
    "print(chid_array.shape, len(chid_dict), df_cdtx.shape, df_cust_f.shape, df_y.shape)"
   ]
  },
  {
   "cell_type": "code",
   "execution_count": 4,
   "id": "active-snowboard",
   "metadata": {},
   "outputs": [],
   "source": [
    "df_cdtx = df_cdtx[df_cdtx.chid.isin(chid_array)].copy()\n",
    "df_cust_f = df_cust_f[df_cust_f.chid.isin(chid_array)].copy()\n",
    "df_y = df_y[df_y.chid.isin(chid_array)].copy()"
   ]
  },
  {
   "cell_type": "code",
   "execution_count": 5,
   "id": "twelve-antigua",
   "metadata": {},
   "outputs": [
    {
     "name": "stdout",
     "output_type": "stream",
     "text": [
      "50000 50000 50000\n"
     ]
    },
    {
     "data": {
      "text/html": [
       "<div>\n",
       "<style scoped>\n",
       "    .dataframe tbody tr th:only-of-type {\n",
       "        vertical-align: middle;\n",
       "    }\n",
       "\n",
       "    .dataframe tbody tr th {\n",
       "        vertical-align: top;\n",
       "    }\n",
       "\n",
       "    .dataframe thead th {\n",
       "        text-align: right;\n",
       "    }\n",
       "</style>\n",
       "<table border=\"1\" class=\"dataframe\">\n",
       "  <thead>\n",
       "    <tr style=\"text-align: right;\">\n",
       "      <th></th>\n",
       "      <th>data_ym</th>\n",
       "      <th>monin</th>\n",
       "      <th>wrky</th>\n",
       "      <th>first_mob</th>\n",
       "      <th>data_dt</th>\n",
       "      <th>masts</th>\n",
       "      <th>educd</th>\n",
       "      <th>naty</th>\n",
       "      <th>trdtp</th>\n",
       "      <th>poscd</th>\n",
       "      <th>...</th>\n",
       "      <th>constant_u2_ind</th>\n",
       "      <th>constant_u3_ind</th>\n",
       "      <th>constant_u4_ind</th>\n",
       "      <th>constant_l2_ind</th>\n",
       "      <th>constant_l3_ind</th>\n",
       "      <th>constant_l4_ind</th>\n",
       "      <th>constant_change</th>\n",
       "      <th>growth_rate</th>\n",
       "      <th>monotone_up</th>\n",
       "      <th>monotone_down</th>\n",
       "    </tr>\n",
       "    <tr>\n",
       "      <th>chid</th>\n",
       "      <th></th>\n",
       "      <th></th>\n",
       "      <th></th>\n",
       "      <th></th>\n",
       "      <th></th>\n",
       "      <th></th>\n",
       "      <th></th>\n",
       "      <th></th>\n",
       "      <th></th>\n",
       "      <th></th>\n",
       "      <th></th>\n",
       "      <th></th>\n",
       "      <th></th>\n",
       "      <th></th>\n",
       "      <th></th>\n",
       "      <th></th>\n",
       "      <th></th>\n",
       "      <th></th>\n",
       "      <th></th>\n",
       "      <th></th>\n",
       "      <th></th>\n",
       "    </tr>\n",
       "  </thead>\n",
       "  <tbody>\n",
       "    <tr>\n",
       "      <th>15476</th>\n",
       "      <td>11</td>\n",
       "      <td>11</td>\n",
       "      <td>11</td>\n",
       "      <td>11</td>\n",
       "      <td>11</td>\n",
       "      <td>11</td>\n",
       "      <td>11</td>\n",
       "      <td>11</td>\n",
       "      <td>11</td>\n",
       "      <td>11</td>\n",
       "      <td>...</td>\n",
       "      <td>11</td>\n",
       "      <td>11</td>\n",
       "      <td>11</td>\n",
       "      <td>11</td>\n",
       "      <td>11</td>\n",
       "      <td>11</td>\n",
       "      <td>11</td>\n",
       "      <td>11</td>\n",
       "      <td>11</td>\n",
       "      <td>11</td>\n",
       "    </tr>\n",
       "    <tr>\n",
       "      <th>49573</th>\n",
       "      <td>11</td>\n",
       "      <td>11</td>\n",
       "      <td>11</td>\n",
       "      <td>11</td>\n",
       "      <td>11</td>\n",
       "      <td>11</td>\n",
       "      <td>11</td>\n",
       "      <td>11</td>\n",
       "      <td>11</td>\n",
       "      <td>11</td>\n",
       "      <td>...</td>\n",
       "      <td>11</td>\n",
       "      <td>11</td>\n",
       "      <td>11</td>\n",
       "      <td>11</td>\n",
       "      <td>11</td>\n",
       "      <td>11</td>\n",
       "      <td>11</td>\n",
       "      <td>11</td>\n",
       "      <td>11</td>\n",
       "      <td>11</td>\n",
       "    </tr>\n",
       "    <tr>\n",
       "      <th>23965</th>\n",
       "      <td>11</td>\n",
       "      <td>11</td>\n",
       "      <td>11</td>\n",
       "      <td>11</td>\n",
       "      <td>11</td>\n",
       "      <td>11</td>\n",
       "      <td>11</td>\n",
       "      <td>11</td>\n",
       "      <td>11</td>\n",
       "      <td>11</td>\n",
       "      <td>...</td>\n",
       "      <td>11</td>\n",
       "      <td>11</td>\n",
       "      <td>11</td>\n",
       "      <td>11</td>\n",
       "      <td>11</td>\n",
       "      <td>11</td>\n",
       "      <td>11</td>\n",
       "      <td>11</td>\n",
       "      <td>11</td>\n",
       "      <td>11</td>\n",
       "    </tr>\n",
       "    <tr>\n",
       "      <th>49831</th>\n",
       "      <td>11</td>\n",
       "      <td>11</td>\n",
       "      <td>11</td>\n",
       "      <td>11</td>\n",
       "      <td>11</td>\n",
       "      <td>11</td>\n",
       "      <td>11</td>\n",
       "      <td>11</td>\n",
       "      <td>11</td>\n",
       "      <td>11</td>\n",
       "      <td>...</td>\n",
       "      <td>11</td>\n",
       "      <td>11</td>\n",
       "      <td>11</td>\n",
       "      <td>11</td>\n",
       "      <td>11</td>\n",
       "      <td>11</td>\n",
       "      <td>11</td>\n",
       "      <td>11</td>\n",
       "      <td>11</td>\n",
       "      <td>11</td>\n",
       "    </tr>\n",
       "    <tr>\n",
       "      <th>41575</th>\n",
       "      <td>11</td>\n",
       "      <td>11</td>\n",
       "      <td>11</td>\n",
       "      <td>11</td>\n",
       "      <td>11</td>\n",
       "      <td>11</td>\n",
       "      <td>11</td>\n",
       "      <td>11</td>\n",
       "      <td>11</td>\n",
       "      <td>11</td>\n",
       "      <td>...</td>\n",
       "      <td>11</td>\n",
       "      <td>11</td>\n",
       "      <td>11</td>\n",
       "      <td>11</td>\n",
       "      <td>11</td>\n",
       "      <td>11</td>\n",
       "      <td>11</td>\n",
       "      <td>11</td>\n",
       "      <td>11</td>\n",
       "      <td>11</td>\n",
       "    </tr>\n",
       "  </tbody>\n",
       "</table>\n",
       "<p>5 rows × 31 columns</p>\n",
       "</div>"
      ],
      "text/plain": [
       "       data_ym  monin  wrky  first_mob  data_dt  masts  educd  naty  trdtp  \\\n",
       "chid                                                                         \n",
       "15476       11     11    11         11       11     11     11    11     11   \n",
       "49573       11     11    11         11       11     11     11    11     11   \n",
       "23965       11     11    11         11       11     11     11    11     11   \n",
       "49831       11     11    11         11       11     11     11    11     11   \n",
       "41575       11     11    11         11       11     11     11    11     11   \n",
       "\n",
       "       poscd  ...  constant_u2_ind  constant_u3_ind  constant_u4_ind  \\\n",
       "chid          ...                                                      \n",
       "15476     11  ...               11               11               11   \n",
       "49573     11  ...               11               11               11   \n",
       "23965     11  ...               11               11               11   \n",
       "49831     11  ...               11               11               11   \n",
       "41575     11  ...               11               11               11   \n",
       "\n",
       "       constant_l2_ind  constant_l3_ind  constant_l4_ind  constant_change  \\\n",
       "chid                                                                        \n",
       "15476               11               11               11               11   \n",
       "49573               11               11               11               11   \n",
       "23965               11               11               11               11   \n",
       "49831               11               11               11               11   \n",
       "41575               11               11               11               11   \n",
       "\n",
       "       growth_rate  monotone_up  monotone_down  \n",
       "chid                                            \n",
       "15476           11           11             11  \n",
       "49573           11           11             11  \n",
       "23965           11           11             11  \n",
       "49831           11           11             11  \n",
       "41575           11           11             11  \n",
       "\n",
       "[5 rows x 31 columns]"
      ]
     },
     "execution_count": 5,
     "metadata": {},
     "output_type": "execute_result"
    }
   ],
   "source": [
    "df_cdtx.chid = df_cdtx.chid.map(chid_dict)+1\n",
    "df_cust_f.chid = df_cust_f.chid.map(chid_dict)+1\n",
    "df_y.chid = df_y.chid.map(chid_dict)+1\n",
    "\n",
    "print(df_cdtx.chid.nunique(), df_cust_f.chid.nunique(), df_y.chid.nunique())\n",
    "df_cust_f.groupby('chid').count().sort_values(by='data_ym').head()"
   ]
  },
  {
   "cell_type": "code",
   "execution_count": 6,
   "id": "numerical-mercy",
   "metadata": {},
   "outputs": [
    {
     "data": {
      "text/html": [
       "<div>\n",
       "<style scoped>\n",
       "    .dataframe tbody tr th:only-of-type {\n",
       "        vertical-align: middle;\n",
       "    }\n",
       "\n",
       "    .dataframe tbody tr th {\n",
       "        vertical-align: top;\n",
       "    }\n",
       "\n",
       "    .dataframe thead th {\n",
       "        text-align: right;\n",
       "    }\n",
       "</style>\n",
       "<table border=\"1\" class=\"dataframe\">\n",
       "  <thead>\n",
       "    <tr style=\"text-align: right;\">\n",
       "      <th></th>\n",
       "      <th>bnsfg</th>\n",
       "      <th>bnspt</th>\n",
       "      <th>chid</th>\n",
       "      <th>csmdt</th>\n",
       "      <th>iterm</th>\n",
       "      <th>mcc</th>\n",
       "      <th>objam</th>\n",
       "      <th>scity</th>\n",
       "      <th>tcode</th>\n",
       "      <th>hcefg</th>\n",
       "      <th>month</th>\n",
       "    </tr>\n",
       "  </thead>\n",
       "  <tbody>\n",
       "    <tr>\n",
       "      <th>0</th>\n",
       "      <td>N</td>\n",
       "      <td>0</td>\n",
       "      <td>8055</td>\n",
       "      <td>2018-01-01</td>\n",
       "      <td>0</td>\n",
       "      <td>5411</td>\n",
       "      <td>151</td>\n",
       "      <td>TAOYUAN</td>\n",
       "      <td>5</td>\n",
       "      <td>NaN</td>\n",
       "      <td>2018-01-01</td>\n",
       "    </tr>\n",
       "    <tr>\n",
       "      <th>1</th>\n",
       "      <td>N</td>\n",
       "      <td>0</td>\n",
       "      <td>8055</td>\n",
       "      <td>2018-01-01</td>\n",
       "      <td>0</td>\n",
       "      <td>5411</td>\n",
       "      <td>146</td>\n",
       "      <td>TAOYUAN</td>\n",
       "      <td>5</td>\n",
       "      <td>NaN</td>\n",
       "      <td>2018-01-01</td>\n",
       "    </tr>\n",
       "  </tbody>\n",
       "</table>\n",
       "</div>"
      ],
      "text/plain": [
       "  bnsfg  bnspt  chid       csmdt  iterm   mcc  objam    scity  tcode hcefg  \\\n",
       "0     N      0  8055  2018-01-01      0  5411    151  TAOYUAN      5   NaN   \n",
       "1     N      0  8055  2018-01-01      0  5411    146  TAOYUAN      5   NaN   \n",
       "\n",
       "        month  \n",
       "0  2018-01-01  \n",
       "1  2018-01-01  "
      ]
     },
     "execution_count": 6,
     "metadata": {},
     "output_type": "execute_result"
    }
   ],
   "source": [
    "df_cdtx['month'] = df_cdtx.csmdt.apply(lambda x: x[:-3]+'-01')\n",
    "df_cdtx.head(2)"
   ]
  },
  {
   "cell_type": "code",
   "execution_count": 7,
   "id": "involved-offense",
   "metadata": {},
   "outputs": [
    {
     "data": {
      "text/plain": [
       "(600000, 2)"
      ]
     },
     "execution_count": 7,
     "metadata": {},
     "output_type": "execute_result"
    }
   ],
   "source": [
    "## 填滿後12個月\n",
    "\n",
    "list_chid = sorted(df_y.chid.unique())\n",
    "list_month = sorted(df_y.data_dt.unique())[12:]\n",
    "\n",
    "df_full_y_sum = pd.DataFrame({\n",
    "    'chid': list_chid*len(list_month),\n",
    "}).sort_values(by='chid', ignore_index=True)\n",
    "df_full_y_sum['data_dt'] = list_month*len(list_chid)\n",
    "\n",
    "df_full_y_sum.shape"
   ]
  },
  {
   "cell_type": "code",
   "execution_count": 8,
   "id": "fifty-principal",
   "metadata": {},
   "outputs": [],
   "source": [
    "## 取得整個月的 objam \n",
    "temp_cdtx = df_cdtx.groupby(['chid', 'month']).sum()\n",
    "df_cdtx_objam = pd.DataFrame(list(map(list, temp_cdtx.index)), columns=['chid', 'data_dt'])\n",
    "df_cdtx_objam['objam'] = temp_cdtx.objam.values\n",
    "\n",
    "### 取得整個月的 y\n",
    "#temp_y = df_y.groupby(['chid', 'data_dt']).sum()\n",
    "#df_y_sum = pd.DataFrame(list(map(list, temp_y.index)), columns=['chid', 'data_dt'])\n",
    "#df_y_sum['y'] = temp_y['y'].values"
   ]
  },
  {
   "cell_type": "code",
   "execution_count": 9,
   "id": "chubby-jumping",
   "metadata": {},
   "outputs": [
    {
     "data": {
      "text/plain": [
       "(600000, 3)"
      ]
     },
     "execution_count": 9,
     "metadata": {},
     "output_type": "execute_result"
    }
   ],
   "source": [
    "## join objam & y \n",
    "\n",
    "df_full_y_sum = df_full_y_sum.merge(df_cdtx_objam, \n",
    "                                    how='left', \n",
    "                                    left_on=['chid', 'data_dt'], \n",
    "                                    right_on=['chid', 'data_dt']).fillna(0)\n",
    "\n",
    "#df_full_y_sum = df_full_y_sum.merge(df_y_sum, \n",
    "#                                    how='left', \n",
    "#                                    left_on=['chid', 'data_dt'], \n",
    "#                                    right_on=['chid', 'data_dt']).fillna(0)\n",
    "\n",
    "df_full_y_sum.data_dt = df_full_y_sum.data_dt.astype(np.datetime64)\n",
    "\n",
    "df_full_y_sum.shape"
   ]
  },
  {
   "cell_type": "code",
   "execution_count": 10,
   "id": "unusual-science",
   "metadata": {},
   "outputs": [],
   "source": [
    "df_cdtx.csmdt = df_cdtx.csmdt.astype(np.datetime64)\n",
    "df_cdtx.sort_values(by=['chid', 'csmdt'], ignore_index=True, inplace=True)\n",
    "df_cdtx['timestamp_0'] = (df_cdtx.csmdt - df_cdtx.csmdt.shift()).apply(lambda x: x.days).fillna(0)\n",
    "df_cdtx['timestamp_1'] = (df_cdtx.csmdt - np.datetime64('2018-01-01')).apply(lambda x: x.days).fillna(0)"
   ]
  },
  {
   "cell_type": "code",
   "execution_count": 11,
   "id": "invisible-crazy",
   "metadata": {},
   "outputs": [
    {
     "name": "stderr",
     "output_type": "stream",
     "text": [
      "6654938it [00:01, 3391576.39it/s]\n"
     ]
    }
   ],
   "source": [
    "mask_list = []\n",
    "chid_pre = -1 \n",
    "\n",
    "for i, chid in tqdm(enumerate(df_cdtx.chid.values)):\n",
    "    if chid != chid_pre:\n",
    "        chid_pre = chid\n",
    "        mask_list.append(i)\n",
    "        \n",
    "df_cdtx.loc[mask_list, 'timestamp_0'] = 0"
   ]
  },
  {
   "cell_type": "code",
   "execution_count": 12,
   "id": "plastic-oracle",
   "metadata": {},
   "outputs": [],
   "source": [
    "category_cols = ['chid', 'bnsfg', 'iterm', 'mcc', 'scity', 'tcode']\n",
    "numeric_cols = ['bnspt', 'timestamp_0', 'timestamp_1', 'objam']\n",
    "\n",
    "df_input = df_cdtx[category_cols + numeric_cols].copy()"
   ]
  },
  {
   "cell_type": "code",
   "execution_count": 13,
   "id": "united-directory",
   "metadata": {},
   "outputs": [
    {
     "name": "stdout",
     "output_type": "stream",
     "text": [
      "(6654938, 10)\n"
     ]
    },
    {
     "data": {
      "text/html": [
       "<div>\n",
       "<style scoped>\n",
       "    .dataframe tbody tr th:only-of-type {\n",
       "        vertical-align: middle;\n",
       "    }\n",
       "\n",
       "    .dataframe tbody tr th {\n",
       "        vertical-align: top;\n",
       "    }\n",
       "\n",
       "    .dataframe thead th {\n",
       "        text-align: right;\n",
       "    }\n",
       "</style>\n",
       "<table border=\"1\" class=\"dataframe\">\n",
       "  <thead>\n",
       "    <tr style=\"text-align: right;\">\n",
       "      <th></th>\n",
       "      <th>chid</th>\n",
       "      <th>bnsfg</th>\n",
       "      <th>iterm</th>\n",
       "      <th>mcc</th>\n",
       "      <th>scity</th>\n",
       "      <th>tcode</th>\n",
       "      <th>bnspt</th>\n",
       "      <th>timestamp_0</th>\n",
       "      <th>timestamp_1</th>\n",
       "      <th>objam</th>\n",
       "    </tr>\n",
       "  </thead>\n",
       "  <tbody>\n",
       "    <tr>\n",
       "      <th>0</th>\n",
       "      <td>1</td>\n",
       "      <td>1</td>\n",
       "      <td>1</td>\n",
       "      <td>281</td>\n",
       "      <td>9834</td>\n",
       "      <td>3</td>\n",
       "      <td>0</td>\n",
       "      <td>0.0</td>\n",
       "      <td>24</td>\n",
       "      <td>5528</td>\n",
       "    </tr>\n",
       "    <tr>\n",
       "      <th>1</th>\n",
       "      <td>1</td>\n",
       "      <td>1</td>\n",
       "      <td>1</td>\n",
       "      <td>319</td>\n",
       "      <td>9833</td>\n",
       "      <td>3</td>\n",
       "      <td>0</td>\n",
       "      <td>6.0</td>\n",
       "      <td>30</td>\n",
       "      <td>5200</td>\n",
       "    </tr>\n",
       "  </tbody>\n",
       "</table>\n",
       "</div>"
      ],
      "text/plain": [
       "   chid  bnsfg  iterm  mcc  scity  tcode  bnspt  timestamp_0  timestamp_1  \\\n",
       "0     1      1      1  281   9834      3      0          0.0           24   \n",
       "1     1      1      1  319   9833      3      0          6.0           30   \n",
       "\n",
       "   objam  \n",
       "0   5528  \n",
       "1   5200  "
      ]
     },
     "execution_count": 13,
     "metadata": {},
     "output_type": "execute_result"
    }
   ],
   "source": [
    "df_input.loc[:, category_cols[1:]] = df_input.loc[:, category_cols[1:]].astype(np.str)\n",
    "\n",
    "mapper = {col: {value: index+1 for index, value in enumerate(sorted(df_input[col].unique()))} \n",
    "          for col in category_cols[1:]}\n",
    "\n",
    "df_input[category_cols[1:]] = df_input[category_cols[1:]].apply(lambda x: x.map(mapper[x.name]))\n",
    "\n",
    "print(df_input.shape)\n",
    "df_input.head(2)"
   ]
  },
  {
   "cell_type": "code",
   "execution_count": 14,
   "id": "monthly-robinson",
   "metadata": {},
   "outputs": [
    {
     "name": "stdout",
     "output_type": "stream",
     "text": [
      "bnsfg 2\n",
      "iterm 17\n",
      "mcc 502\n",
      "scity 11242\n",
      "tcode 6\n"
     ]
    }
   ],
   "source": [
    "for feat in mapper:\n",
    "    print(feat, len(mapper[feat]))"
   ]
  },
  {
   "cell_type": "code",
   "execution_count": 15,
   "id": "representative-payday",
   "metadata": {},
   "outputs": [],
   "source": [
    "def data_split(df_x, df_y, window_size, test_size=0.166):\n",
    "    df_x = df_x.copy()\n",
    "    df_y = df_y.copy()\n",
    "    df_y['timestamp'] = (df_y.data_dt - np.datetime64('2018-01-01')).apply(lambda x: x.days).fillna(0)    \n",
    "    \n",
    "    x_train, x_test, y_train, y_test = [], [], [], []\n",
    "            \n",
    "    for i in tqdm(sorted(df_y.chid.unique())):\n",
    "        data_x = df_x[df_x.chid == i]\n",
    "        data_y = df_y[df_y.chid == i]\n",
    "        \n",
    "        last = data_y.shape[0] - 1\n",
    "        test_num = round(data_y.shape[0]*test_size)           \n",
    "        \n",
    "        for j, ts in enumerate(sorted(data_y.timestamp.unique()[1:])):\n",
    "            data_x_ws = data_x[data_x.timestamp_1 < ts][-window_size:].copy()\n",
    "            data_x_ws.timestamp_1 = ts - data_x_ws.timestamp_1\n",
    "            data_x_ws = data_x_ws.values\n",
    "\n",
    "            if data_x_ws.shape[0] < window_size:\n",
    "                tmp = np.zeros((window_size, data_x.shape[1]))\n",
    "                tmp[-data_x_ws.shape[0]:] = data_x_ws\n",
    "                data_x_ws = tmp\n",
    "\n",
    "            if j < last - test_num:\n",
    "                x_train.append(data_x_ws)\n",
    "                y_train.append(data_y.objam.values[[j+1]])\n",
    "            elif j < last:\n",
    "                x_test.append(data_x_ws)\n",
    "                y_test.append(data_y.objam.values[[j+1]])\n",
    "            else:\n",
    "                break        \n",
    "\n",
    "    x_train, x_test, y_train, y_test = np.array(x_train), np.array(x_test), np.array(y_train), np.array(y_test)\n",
    "    \n",
    "    return x_train, x_test, y_train, y_test"
   ]
  },
  {
   "cell_type": "code",
   "execution_count": 16,
   "id": "present-ambassador",
   "metadata": {},
   "outputs": [
    {
     "name": "stderr",
     "output_type": "stream",
     "text": [
      "100%|██████████| 50000/50000 [12:53<00:00, 64.67it/s]\n"
     ]
    }
   ],
   "source": [
    "x_train, x_test, y_train, y_test = data_split(df_input, df_full_y_sum, window_size=20, test_size=0.166)"
   ]
  },
  {
   "cell_type": "code",
   "execution_count": 17,
   "id": "express-radical",
   "metadata": {},
   "outputs": [
    {
     "data": {
      "text/plain": [
       "((450000, 20, 10), (100000, 20, 10), (450000, 1), (100000, 1))"
      ]
     },
     "execution_count": 17,
     "metadata": {},
     "output_type": "execute_result"
    }
   ],
   "source": [
    "x_train.shape, x_test.shape, y_train.shape, y_test.shape"
   ]
  },
  {
   "cell_type": "code",
   "execution_count": 19,
   "id": "private-harmony",
   "metadata": {},
   "outputs": [],
   "source": [
    "np.save(os.path.join(sample_path, 'ETRNN', 'x_train'), x_train)\n",
    "np.save(os.path.join(sample_path, 'ETRNN', 'x_test'), x_test)\n",
    "np.save(os.path.join(sample_path, 'ETRNN', 'y_train'), y_train)\n",
    "np.save(os.path.join(sample_path, 'ETRNN', 'y_test'), y_test)"
   ]
  },
  {
   "cell_type": "code",
   "execution_count": 20,
   "id": "negative-coral",
   "metadata": {},
   "outputs": [],
   "source": [
    "np.save(os.path.join(sample_path, 'ETRNN', 'feature_map'), mapper)"
   ]
  }
 ],
 "metadata": {
  "kernelspec": {
   "display_name": "Python 3",
   "language": "python",
   "name": "python3"
  },
  "language_info": {
   "codemirror_mode": {
    "name": "ipython",
    "version": 3
   },
   "file_extension": ".py",
   "mimetype": "text/x-python",
   "name": "python",
   "nbconvert_exporter": "python",
   "pygments_lexer": "ipython3",
   "version": "3.6.9"
  }
 },
 "nbformat": 4,
 "nbformat_minor": 5
}
