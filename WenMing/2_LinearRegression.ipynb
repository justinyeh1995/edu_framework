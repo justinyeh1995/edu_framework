{
  "nbformat": 4,
  "nbformat_minor": 5,
  "metadata": {
    "kernelspec": {
      "display_name": "Python 3",
      "language": "python",
      "name": "python3"
    },
    "language_info": {
      "codemirror_mode": {
        "name": "ipython",
        "version": 3
      },
      "file_extension": ".py",
      "mimetype": "text/x-python",
      "name": "python",
      "nbconvert_exporter": "python",
      "pygments_lexer": "ipython3",
      "version": "3.7.9"
    },
    "colab": {
      "name": "2_LinearRegression.ipynb",
      "provenance": [],
      "include_colab_link": true
    }
  },
  "cells": [
    {
      "cell_type": "markdown",
      "metadata": {
        "id": "view-in-github",
        "colab_type": "text"
      },
      "source": [
        "<a href=\"https://colab.research.google.com/github/udothemath/ncku_customer_embedding/blob/main/WenMing/2_LinearRegression.ipynb\" target=\"_parent\"><img src=\"https://colab.research.google.com/assets/colab-badge.svg\" alt=\"Open In Colab\"/></a>"
      ]
    },
    {
      "cell_type": "markdown",
      "metadata": {
        "id": "scheduled-processing"
      },
      "source": [
        "# 使用 Linear Regression 作為 Basline "
      ],
      "id": "scheduled-processing"
    },
    {
      "cell_type": "code",
      "metadata": {
        "id": "RNSZIwraXp3m"
      },
      "source": [
        "# 如果有使用 coloab 再執行此 cell\n",
        "from google.colab import drive\n",
        "drive.mount('/gdrive')\n",
        "!ln -s /gdrive/MyDrive/colab/NCKU_embedding/data/ ./data"
      ],
      "id": "RNSZIwraXp3m",
      "execution_count": null,
      "outputs": []
    },
    {
      "cell_type": "code",
      "metadata": {
        "id": "arabic-setting"
      },
      "source": [
        "import os\n",
        "import numpy as np\n",
        "import pandas as pd\n",
        "from time import time\n",
        "from tqdm.notebook import tqdm\n",
        "from sklearn.preprocessing import MinMaxScaler"
      ],
      "id": "arabic-setting",
      "execution_count": null,
      "outputs": []
    },
    {
      "cell_type": "code",
      "metadata": {
        "id": "hungarian-affect"
      },
      "source": [
        "from sklearn.svm import LinearSVR\n",
        "from sklearn.linear_model import LinearRegression\n",
        "from sklearn.linear_model import Lasso\n",
        "from sklearn.linear_model import Ridge\n",
        "\n",
        "from sklearn.metrics import mean_squared_error, mean_absolute_error, median_absolute_error"
      ],
      "id": "hungarian-affect",
      "execution_count": null,
      "outputs": []
    },
    {
      "cell_type": "markdown",
      "metadata": {
        "id": "changing-setup"
      },
      "source": [
        "## Do One Hot Encode\n",
        "* User this function [pd.get_dummies](https://pandas.pydata.org/pandas-docs/stable/reference/api/pandas.get_dummies.html)\n",
        "* just for category column "
      ],
      "id": "changing-setup"
    },
    {
      "cell_type": "code",
      "metadata": {
        "id": "equal-vancouver"
      },
      "source": [
        "from sklearn.preprocessing import OneHotEncoder\n",
        "\n",
        "def to_one_hot(df, sparse_feature, dense_feat, one_hot_encoder):\n",
        "    df[sparse_feature] = df[sparse_feature].astype(object)\n",
        "\n",
        "#     temp_col = list(set(df.columns)-set(sparse_feature))\n",
        "#     temp_col.sort(key=list(df.columns).index)\n",
        "    \n",
        "    \n",
        "    temp_matrix = one_hot_encoder.transform(df[sparse_feature])\n",
        "    temp_pd = pd.DataFrame.sparse.from_spmatrix(temp_matrix, index=None, columns=one_hot_encoder.get_feature_names(sparse_feature))\n",
        "    \n",
        "    df = pd.concat([df[dense_feat], temp_pd] , axis=1)\n",
        "\n",
        "    return df"
      ],
      "id": "equal-vancouver",
      "execution_count": null,
      "outputs": []
    },
    {
      "cell_type": "code",
      "metadata": {
        "id": "cellular-frederick",
        "outputId": "e394ae56-a5cc-45a7-e2a4-bc6eca22e15a"
      },
      "source": [
        "sample_path = './data/sample_50k'\n",
        "shift = 1\n",
        "x_train = pd.read_csv(os.path.join(sample_path, 'Normal_%d'%shift, 'x_train.csv'), encoding='utf-8')\n",
        "x_test = pd.read_csv(os.path.join(sample_path, 'Normal_%d'%shift, 'x_test.csv'), encoding='utf-8')\n",
        "y_train = pd.read_csv(os.path.join(sample_path, 'Normal_%d'%shift, 'y_train.csv'), encoding='utf-8').values\n",
        "y_test = pd.read_csv(os.path.join(sample_path, 'Normal_%d'%shift, 'y_test.csv'), encoding='utf-8').values\n",
        "\n",
        "chid_mapper = np.load(os.path.join(sample_path, 'sample_idx_map.npy'), allow_pickle=True).item()\n",
        "feat_mapper = np.load(os.path.join(sample_path, 'Normal_%d'%shift, 'feature_map.npy'), allow_pickle=True).item()\n",
        "feature = np.load(os.path.join(sample_path, 'Normal_%d'%shift, 'feature.npy'), allow_pickle=True).item()\n",
        "\n",
        "category_cols = feature['category_columns']\n",
        "numeric_cols = feature['numeric_columns']\n",
        "\n",
        "print(x_train.shape, x_test.shape, y_train.shape, y_test.shape, len(chid_mapper), [(k, len(v)) for k, v in feat_mapper.items()])"
      ],
      "id": "cellular-frederick",
      "execution_count": null,
      "outputs": [
        {
          "output_type": "stream",
          "text": [
            "(450000, 31) (100000, 31) (450000, 1) (100000, 1) 50000 [('masts', 4), ('educd', 7), ('naty', 3), ('trdtp', 28), ('poscd', 10), ('cuorg', 29)]\n"
          ],
          "name": "stdout"
        }
      ]
    },
    {
      "cell_type": "code",
      "metadata": {
        "id": "suburban-edward"
      },
      "source": [
        "user_list_train = x_train['chid']\n",
        "user_list_test = x_test['chid']"
      ],
      "id": "suburban-edward",
      "execution_count": null,
      "outputs": []
    },
    {
      "cell_type": "code",
      "metadata": {
        "id": "subjective-placement"
      },
      "source": [
        "x_train = x_train.drop(['chid'], axis=1)\n",
        "x_test = x_test.drop(['chid'], axis=1)"
      ],
      "id": "subjective-placement",
      "execution_count": null,
      "outputs": []
    },
    {
      "cell_type": "markdown",
      "metadata": {
        "id": "increasing-latex"
      },
      "source": [
        "### 選取所需要的 column \n",
        "* 去掉 chid\n",
        "* 去掉 objam"
      ],
      "id": "increasing-latex"
    },
    {
      "cell_type": "code",
      "metadata": {
        "id": "congressional-throat"
      },
      "source": [
        "sparse_feat = category_cols[1:]\n",
        "dense_feat = numeric_cols#[:-1]\n"
      ],
      "id": "congressional-throat",
      "execution_count": null,
      "outputs": []
    },
    {
      "cell_type": "code",
      "metadata": {
        "id": "aggressive-assembly",
        "outputId": "24b61d61-439b-4e99-a7d5-82021018efd4"
      },
      "source": [
        "one_hot_encoder = OneHotEncoder()\n",
        "# one_hot_encoder.get_feature_names()\n",
        "one_hot_encoder.fit(x_train[sparse_feat])\n",
        "one_hot_encoder.fit(x_test[sparse_feat])"
      ],
      "id": "aggressive-assembly",
      "execution_count": null,
      "outputs": [
        {
          "output_type": "execute_result",
          "data": {
            "text/plain": [
              "OneHotEncoder()"
            ]
          },
          "metadata": {
            "tags": []
          },
          "execution_count": 8
        }
      ]
    },
    {
      "cell_type": "code",
      "metadata": {
        "id": "intense-mortality",
        "outputId": "4fd18684-9aaf-4f7c-c4b0-c7a109238e54"
      },
      "source": [
        "# USE_CHID = False\n",
        "# idx_start = 1-int(USE_CHID)\n",
        "\n",
        "x_train_oh = to_one_hot(x_train, sparse_feat, dense_feat, one_hot_encoder)\n",
        "x_test_oh  = to_one_hot(x_test , sparse_feat, dense_feat, one_hot_encoder)\n",
        "\n",
        "print(x_train_oh.shape)\n",
        "print(x_test_oh.shape)"
      ],
      "id": "intense-mortality",
      "execution_count": null,
      "outputs": [
        {
          "output_type": "stream",
          "text": [
            "(450000, 100)\n",
            "(100000, 100)\n"
          ],
          "name": "stdout"
        }
      ]
    },
    {
      "cell_type": "code",
      "metadata": {
        "id": "alive-modification",
        "outputId": "9dcf191e-be1c-46ea-f49e-743b9e3ca980"
      },
      "source": [
        "x_train_oh.head(2)"
      ],
      "id": "alive-modification",
      "execution_count": null,
      "outputs": [
        {
          "output_type": "execute_result",
          "data": {
            "text/html": [
              "<div>\n",
              "<style scoped>\n",
              "    .dataframe tbody tr th:only-of-type {\n",
              "        vertical-align: middle;\n",
              "    }\n",
              "\n",
              "    .dataframe tbody tr th {\n",
              "        vertical-align: top;\n",
              "    }\n",
              "\n",
              "    .dataframe thead th {\n",
              "        text-align: right;\n",
              "    }\n",
              "</style>\n",
              "<table border=\"1\" class=\"dataframe\">\n",
              "  <thead>\n",
              "    <tr style=\"text-align: right;\">\n",
              "      <th></th>\n",
              "      <th>monin</th>\n",
              "      <th>wrky</th>\n",
              "      <th>first_mob</th>\n",
              "      <th>cycam</th>\n",
              "      <th>slam</th>\n",
              "      <th>sum_area_c</th>\n",
              "      <th>sum_u2_ind</th>\n",
              "      <th>sum_u3_ind</th>\n",
              "      <th>sum_u4_ind</th>\n",
              "      <th>sum_l2_ind</th>\n",
              "      <th>...</th>\n",
              "      <th>cuorg_19</th>\n",
              "      <th>cuorg_20</th>\n",
              "      <th>cuorg_21</th>\n",
              "      <th>cuorg_22</th>\n",
              "      <th>cuorg_23</th>\n",
              "      <th>cuorg_24</th>\n",
              "      <th>cuorg_25</th>\n",
              "      <th>cuorg_26</th>\n",
              "      <th>cuorg_27</th>\n",
              "      <th>cuorg_28</th>\n",
              "    </tr>\n",
              "  </thead>\n",
              "  <tbody>\n",
              "    <tr>\n",
              "      <th>0</th>\n",
              "      <td>347563.0</td>\n",
              "      <td>0.0</td>\n",
              "      <td>65.0</td>\n",
              "      <td>520000.0</td>\n",
              "      <td>676000.0</td>\n",
              "      <td>6.0</td>\n",
              "      <td>0.0</td>\n",
              "      <td>0.0</td>\n",
              "      <td>0.0</td>\n",
              "      <td>0.0</td>\n",
              "      <td>...</td>\n",
              "      <td>0.0</td>\n",
              "      <td>0.0</td>\n",
              "      <td>0.0</td>\n",
              "      <td>0.0</td>\n",
              "      <td>0.0</td>\n",
              "      <td>0.0</td>\n",
              "      <td>0.0</td>\n",
              "      <td>0.0</td>\n",
              "      <td>0.0</td>\n",
              "      <td>0.0</td>\n",
              "    </tr>\n",
              "    <tr>\n",
              "      <th>1</th>\n",
              "      <td>347563.0</td>\n",
              "      <td>0.0</td>\n",
              "      <td>66.0</td>\n",
              "      <td>520000.0</td>\n",
              "      <td>676000.0</td>\n",
              "      <td>6.0</td>\n",
              "      <td>0.0</td>\n",
              "      <td>0.0</td>\n",
              "      <td>0.0</td>\n",
              "      <td>0.0</td>\n",
              "      <td>...</td>\n",
              "      <td>0.0</td>\n",
              "      <td>0.0</td>\n",
              "      <td>0.0</td>\n",
              "      <td>0.0</td>\n",
              "      <td>0.0</td>\n",
              "      <td>0.0</td>\n",
              "      <td>0.0</td>\n",
              "      <td>0.0</td>\n",
              "      <td>0.0</td>\n",
              "      <td>0.0</td>\n",
              "    </tr>\n",
              "  </tbody>\n",
              "</table>\n",
              "<p>2 rows × 100 columns</p>\n",
              "</div>"
            ],
            "text/plain": [
              "      monin  wrky  first_mob     cycam      slam  sum_area_c  sum_u2_ind  \\\n",
              "0  347563.0   0.0       65.0  520000.0  676000.0         6.0         0.0   \n",
              "1  347563.0   0.0       66.0  520000.0  676000.0         6.0         0.0   \n",
              "\n",
              "   sum_u3_ind  sum_u4_ind  sum_l2_ind  ...  cuorg_19  cuorg_20  cuorg_21  \\\n",
              "0         0.0         0.0         0.0  ...       0.0       0.0       0.0   \n",
              "1         0.0         0.0         0.0  ...       0.0       0.0       0.0   \n",
              "\n",
              "   cuorg_22  cuorg_23  cuorg_24  cuorg_25  cuorg_26  cuorg_27  cuorg_28  \n",
              "0       0.0       0.0       0.0       0.0       0.0       0.0       0.0  \n",
              "1       0.0       0.0       0.0       0.0       0.0       0.0       0.0  \n",
              "\n",
              "[2 rows x 100 columns]"
            ]
          },
          "metadata": {
            "tags": []
          },
          "execution_count": 10
        }
      ]
    },
    {
      "cell_type": "code",
      "metadata": {
        "id": "magnetic-vault",
        "outputId": "8d945efc-b892-4ae0-8280-19d5cc231e6e"
      },
      "source": [
        "x_train_oh.shape"
      ],
      "id": "magnetic-vault",
      "execution_count": null,
      "outputs": [
        {
          "output_type": "execute_result",
          "data": {
            "text/plain": [
              "(450000, 100)"
            ]
          },
          "metadata": {
            "tags": []
          },
          "execution_count": 11
        }
      ]
    },
    {
      "cell_type": "markdown",
      "metadata": {
        "id": "conventional-terminal"
      },
      "source": [
        "## Do normalization for X data"
      ],
      "id": "conventional-terminal"
    },
    {
      "cell_type": "code",
      "metadata": {
        "id": "disciplinary-shoulder"
      },
      "source": [
        "# x_data\n",
        "x_scaler = MinMaxScaler(feature_range=(0, 1))\n",
        "\n",
        "x_train_oh[dense_feat] = np.log1p(x_train_oh[dense_feat] - x_train_oh[dense_feat].min(axis=0))\n",
        "x_train_oh[dense_feat] = x_scaler.fit_transform(x_train_oh[dense_feat])\n",
        "\n",
        "x_test_oh[dense_feat] = np.log1p(x_test_oh[dense_feat] - x_test_oh[dense_feat].min(axis=0))\n",
        "x_test_oh[dense_feat] = x_scaler.transform(x_test_oh[dense_feat])\n",
        "\n",
        "x_train_oh = x_train_oh.values\n",
        "x_test_oh = x_test_oh.values"
      ],
      "id": "disciplinary-shoulder",
      "execution_count": null,
      "outputs": []
    },
    {
      "cell_type": "code",
      "metadata": {
        "id": "behind-allen",
        "outputId": "e80e8775-860a-4b63-9322-95ef4e4a7f3c"
      },
      "source": [
        "x_train_oh.shape"
      ],
      "id": "behind-allen",
      "execution_count": null,
      "outputs": [
        {
          "output_type": "execute_result",
          "data": {
            "text/plain": [
              "(450000, 100)"
            ]
          },
          "metadata": {
            "tags": []
          },
          "execution_count": 13
        }
      ]
    },
    {
      "cell_type": "markdown",
      "metadata": {
        "id": "divine-bulgarian"
      },
      "source": [
        "## Do normalization for Y data and do log transformation"
      ],
      "id": "divine-bulgarian"
    },
    {
      "cell_type": "code",
      "metadata": {
        "id": "simple-preservation"
      },
      "source": [
        "# y_data\n",
        "USE_YMINMAX = True\n",
        "y_scaler = None\n",
        "\n",
        "y_train = np.log1p(y_train)\n",
        "y_test = np.log1p(y_test)\n",
        "\n",
        "if USE_YMINMAX:\n",
        "    y_scaler = MinMaxScaler(feature_range=(0, 1))\n",
        "    y_train = y_scaler.fit_transform(y_train)\n",
        "    y_test = y_scaler.transform(y_test)"
      ],
      "id": "simple-preservation",
      "execution_count": null,
      "outputs": []
    },
    {
      "cell_type": "code",
      "metadata": {
        "id": "changing-regard",
        "outputId": "ca78b9ee-bc93-4063-8a0a-202d9ca16168"
      },
      "source": [
        "print(x_train_oh.shape, y_train.shape)\n",
        "print(x_test_oh.shape, y_test.shape)"
      ],
      "id": "changing-regard",
      "execution_count": null,
      "outputs": [
        {
          "output_type": "stream",
          "text": [
            "(450000, 100) (450000, 1)\n",
            "(100000, 100) (100000, 1)\n"
          ],
          "name": "stdout"
        }
      ]
    },
    {
      "cell_type": "code",
      "metadata": {
        "id": "formal-dominican"
      },
      "source": [
        "# Lasso(alpha=1.0, *, fit_intercept=True, normalize=False, precompute=False, copy_X=True, max_iter=1000, tol=0.0001, warm_start=False, positive=False, random_state=None, selection='cyclic')"
      ],
      "id": "formal-dominican",
      "execution_count": null,
      "outputs": []
    },
    {
      "cell_type": "code",
      "metadata": {
        "scrolled": false,
        "id": "swedish-disco",
        "outputId": "61b31a1d-8ccd-40b9-a0c4-62620a617e66"
      },
      "source": [
        "TRAIN_TYPE = [('L1loss', 'epsilon_insensitive'), \n",
        "              ('L2loss', 'squared_epsilon_insensitive')]\n",
        "loss_type, loss = TRAIN_TYPE[0]\n",
        "\n",
        "t0 = time()\n",
        "# svr = LinearRegression()\n",
        "svr = Lasso(alpha=.001)\n",
        "svr.fit(x_train_oh, y_train.ravel())\n",
        "t1 = time()\n",
        "\n",
        "print('cost: {:.2f}'.format(t1 - t0))"
      ],
      "id": "swedish-disco",
      "execution_count": null,
      "outputs": [
        {
          "output_type": "stream",
          "text": [
            "cost: 2.11\n"
          ],
          "name": "stdout"
        }
      ]
    },
    {
      "cell_type": "code",
      "metadata": {
        "id": "bronze-poison"
      },
      "source": [
        "train_pred_list = svr.predict(x_train_oh)\n",
        "train_pred_list = y_scaler.inverse_transform(train_pred_list.reshape([-1,1]))\n",
        "train_pred_list = np.expm1(train_pred_list)\n"
      ],
      "id": "bronze-poison",
      "execution_count": null,
      "outputs": []
    },
    {
      "cell_type": "code",
      "metadata": {
        "id": "future-offering"
      },
      "source": [
        "train_true_list = y_scaler.inverse_transform(y_train) \n",
        "train_true_list = np.expm1(train_true_list)\n"
      ],
      "id": "future-offering",
      "execution_count": null,
      "outputs": []
    },
    {
      "cell_type": "code",
      "metadata": {
        "id": "likely-chrome",
        "outputId": "ab313a81-8b9b-40ee-e892-1260e9169a8d"
      },
      "source": [
        "train_true_list"
      ],
      "id": "likely-chrome",
      "execution_count": null,
      "outputs": [
        {
          "output_type": "execute_result",
          "data": {
            "text/plain": [
              "array([[ 21164.],\n",
              "       [ 52629.],\n",
              "       [132023.],\n",
              "       ...,\n",
              "       [     0.],\n",
              "       [ 54423.],\n",
              "       [ 80330.]])"
            ]
          },
          "metadata": {
            "tags": []
          },
          "execution_count": 20
        }
      ]
    },
    {
      "cell_type": "code",
      "metadata": {
        "id": "abstract-solution",
        "outputId": "b44e7610-f9fb-4e31-8c3e-b678e8b9c4e8"
      },
      "source": [
        "\n",
        "\n",
        "train_result = {\n",
        "    'RMSE': mean_squared_error(train_true_list, train_pred_list, squared=False), \n",
        "    'MAE(mean)': mean_absolute_error(train_true_list, train_pred_list), \n",
        "    'MAE(median)': median_absolute_error(train_true_list, train_pred_list)\n",
        "}\n",
        "train_result"
      ],
      "id": "abstract-solution",
      "execution_count": null,
      "outputs": [
        {
          "output_type": "execute_result",
          "data": {
            "text/plain": [
              "{'RMSE': 727390.8684337285,\n",
              " 'MAE(mean)': 61748.180095581054,\n",
              " 'MAE(median)': 10537.779291131195}"
            ]
          },
          "metadata": {
            "tags": []
          },
          "execution_count": 21
        }
      ]
    },
    {
      "cell_type": "code",
      "metadata": {
        "id": "digital-portsmouth"
      },
      "source": [
        "test_true_list = y_test.ravel()\n",
        "test_pred_list = svr.predict(x_test_oh)\n",
        "\n",
        "if y_scaler:\n",
        "    test_true_list = y_scaler.inverse_transform(test_true_list.reshape([-1,1]))\n",
        "    test_pred_list = y_scaler.inverse_transform(test_pred_list.reshape([-1,1]))\n",
        "    \n",
        "test_true_list = np.expm1(test_true_list)\n",
        "test_pred_list = np.expm1(test_pred_list)\n",
        "\n",
        "test_result = {\n",
        "    'RMSE': mean_squared_error(test_true_list, test_pred_list, squared=False), \n",
        "    'MAE(mean)': mean_absolute_error(test_true_list, test_pred_list), \n",
        "    'MAE(median)': median_absolute_error(test_true_list, test_pred_list)\n",
        "}"
      ],
      "id": "digital-portsmouth",
      "execution_count": null,
      "outputs": []
    },
    {
      "cell_type": "code",
      "metadata": {
        "id": "classical-luxembourg",
        "outputId": "2ba8862c-dd24-4a26-8b8c-e67d036e8bd8"
      },
      "source": [
        "test_result"
      ],
      "id": "classical-luxembourg",
      "execution_count": null,
      "outputs": [
        {
          "output_type": "execute_result",
          "data": {
            "text/plain": [
              "{'RMSE': 453338.75743099157,\n",
              " 'MAE(mean)': 67987.62056951928,\n",
              " 'MAE(median)': 11277.446997008235}"
            ]
          },
          "metadata": {
            "tags": []
          },
          "execution_count": 23
        }
      ]
    },
    {
      "cell_type": "markdown",
      "metadata": {
        "id": "simplified-wheel"
      },
      "source": [
        "### 測試結果\n",
        "* 從 RMSE、MAE(mean) 與 MAE(median) 這麼大差距來看，有些 instance outliner 所造成的\n",
        "* 需要再看一下 objam 的分佈\n",
        "* 另外思考預測所有消費金額是否洽當\n"
      ],
      "id": "simplified-wheel"
    },
    {
      "cell_type": "markdown",
      "metadata": {
        "id": "reserved-australian"
      },
      "source": [
        "### 確認哪些 Featrue 是有作用的\n",
        "* trdtp -> 行業別\n",
        "* educd -> 教育"
      ],
      "id": "reserved-australian"
    },
    {
      "cell_type": "code",
      "metadata": {
        "id": "christian-walnut",
        "outputId": "14cbb882-5eef-4cb2-d67e-ea5feed80bfd"
      },
      "source": [
        "from itertools import compress\n",
        "\n",
        "list(compress(list(one_hot_encoder.get_feature_names(sparse_feat)),list(svr.coef_!=0)))\n"
      ],
      "id": "christian-walnut",
      "execution_count": null,
      "outputs": [
        {
          "output_type": "execute_result",
          "data": {
            "text/plain": [
              "['educd_3',\n",
              " 'educd_4',\n",
              " 'educd_5',\n",
              " 'educd_6',\n",
              " 'naty_1',\n",
              " 'trdtp_1',\n",
              " 'trdtp_5',\n",
              " 'trdtp_10',\n",
              " 'trdtp_11',\n",
              " 'trdtp_12',\n",
              " 'trdtp_17',\n",
              " 'trdtp_18',\n",
              " 'trdtp_19',\n",
              " 'trdtp_20',\n",
              " 'cuorg_13',\n",
              " 'cuorg_20']"
            ]
          },
          "metadata": {
            "tags": []
          },
          "execution_count": 24
        }
      ]
    },
    {
      "cell_type": "code",
      "metadata": {
        "id": "compatible-plaintiff",
        "outputId": "0d861e84-1289-432d-c18a-2f5dc57095c0"
      },
      "source": [
        "print('train\\t'+' '.join(['{}:{:.2f}'.format(k, v) for k, v in train_result.items()]))\n",
        "print('test\\t'+' '.join(['{}:{:.2f}'.format(k, v) for k, v in test_result.items()]))"
      ],
      "id": "compatible-plaintiff",
      "execution_count": null,
      "outputs": [
        {
          "output_type": "stream",
          "text": [
            "train\tRMSE:727390.87 MAE(mean):61748.18 MAE(median):10537.78\n",
            "test\tRMSE:453338.76 MAE(mean):67987.62 MAE(median):11277.45\n"
          ],
          "name": "stdout"
        }
      ]
    },
    {
      "cell_type": "code",
      "metadata": {
        "id": "worth-poison",
        "outputId": "10c2ba4b-24a7-4e9e-c826-d6b1e1a55a51"
      },
      "source": [
        "%matplotlib inline\n",
        "import matplotlib.pyplot as plt\n",
        "import seaborn as sns\n",
        "with sns.axes_style(\"darkgrid\"):\n",
        "    fig, axes = plt.subplots(1, 2, figsize=(16, 6),)\n",
        "\n",
        "    sns.histplot(ax=axes[0], x=test_true_list.reshape([-1,]), kde=True, element='step', stat='probability')\n",
        "    sns.histplot(ax=axes[1], x=test_pred_list.reshape([-1,]), kde=True, element='step', stat='probability')\n",
        "\n",
        "plt.show()"
      ],
      "id": "worth-poison",
      "execution_count": null,
      "outputs": [
        {
          "output_type": "display_data",
          "data": {
            "image/png": "[encoded data removed]",
            "text/plain": [
              "<Figure size 1152x432 with 2 Axes>"
            ]
          },
          "metadata": {
            "tags": []
          }
        }
      ]
    },
    {
      "cell_type": "code",
      "metadata": {
        "id": "parliamentary-victor",
        "outputId": "11f04e56-be5a-4818-b94e-8513e465deab"
      },
      "source": [
        "with sns.axes_style(\"darkgrid\"):\n",
        "    fig, axes = plt.subplots(1, 2, figsize=(16, 8), sharey=False)\n",
        "    fig.suptitle('')\n",
        "\n",
        "    sns.scatterplot(ax=axes[0], x=test_true_list, y=test_pred_list)\n",
        "    xylim = (np.min([test_true_list, test_pred_list])-.1e7, np.max([test_true_list, test_pred_list])+.1e7)\n",
        "    axes[0].set(xlabel='True', ylabel='Pred', xlim=xylim, ylim=xylim)\n",
        "    \n",
        "    sns.scatterplot(ax=axes[1], x=test_true_list, y=test_true_list-test_pred_list)\n",
        "    xylim = (np.min([test_true_list, test_true_list-test_pred_list])-.1e7, np.max([test_true_list, test_true_list-test_pred_list])+.1e7)\n",
        "    axes[1].set(xlabel='True', ylabel='True - Pred', xlim=xylim, ylim=xylim)\n",
        "    plt.show()"
      ],
      "id": "parliamentary-victor",
      "execution_count": null,
      "outputs": [
        {
          "output_type": "error",
          "ename": "ValueError",
          "evalue": "If using all scalar values, you must pass an index",
          "traceback": [
            "\u001b[0;31m---------------------------------------------------------------------------\u001b[0m",
            "\u001b[0;31mValueError\u001b[0m                                Traceback (most recent call last)",
            "\u001b[0;32m<ipython-input-27-dfb92b69ef6e>\u001b[0m in \u001b[0;36m<module>\u001b[0;34m\u001b[0m\n\u001b[1;32m      3\u001b[0m     \u001b[0mfig\u001b[0m\u001b[0;34m.\u001b[0m\u001b[0msuptitle\u001b[0m\u001b[0;34m(\u001b[0m\u001b[0;34m''\u001b[0m\u001b[0;34m)\u001b[0m\u001b[0;34m\u001b[0m\u001b[0;34m\u001b[0m\u001b[0m\n\u001b[1;32m      4\u001b[0m \u001b[0;34m\u001b[0m\u001b[0m\n\u001b[0;32m----> 5\u001b[0;31m     \u001b[0msns\u001b[0m\u001b[0;34m.\u001b[0m\u001b[0mscatterplot\u001b[0m\u001b[0;34m(\u001b[0m\u001b[0max\u001b[0m\u001b[0;34m=\u001b[0m\u001b[0maxes\u001b[0m\u001b[0;34m[\u001b[0m\u001b[0;36m0\u001b[0m\u001b[0;34m]\u001b[0m\u001b[0;34m,\u001b[0m \u001b[0mx\u001b[0m\u001b[0;34m=\u001b[0m\u001b[0mtest_true_list\u001b[0m\u001b[0;34m,\u001b[0m \u001b[0my\u001b[0m\u001b[0;34m=\u001b[0m\u001b[0mtest_pred_list\u001b[0m\u001b[0;34m)\u001b[0m\u001b[0;34m\u001b[0m\u001b[0;34m\u001b[0m\u001b[0m\n\u001b[0m\u001b[1;32m      6\u001b[0m     \u001b[0mxylim\u001b[0m \u001b[0;34m=\u001b[0m \u001b[0;34m(\u001b[0m\u001b[0mnp\u001b[0m\u001b[0;34m.\u001b[0m\u001b[0mmin\u001b[0m\u001b[0;34m(\u001b[0m\u001b[0;34m[\u001b[0m\u001b[0mtest_true_list\u001b[0m\u001b[0;34m,\u001b[0m \u001b[0mtest_pred_list\u001b[0m\u001b[0;34m]\u001b[0m\u001b[0;34m)\u001b[0m\u001b[0;34m-\u001b[0m\u001b[0;36m.1e7\u001b[0m\u001b[0;34m,\u001b[0m \u001b[0mnp\u001b[0m\u001b[0;34m.\u001b[0m\u001b[0mmax\u001b[0m\u001b[0;34m(\u001b[0m\u001b[0;34m[\u001b[0m\u001b[0mtest_true_list\u001b[0m\u001b[0;34m,\u001b[0m \u001b[0mtest_pred_list\u001b[0m\u001b[0;34m]\u001b[0m\u001b[0;34m)\u001b[0m\u001b[0;34m+\u001b[0m\u001b[0;36m.1e7\u001b[0m\u001b[0;34m)\u001b[0m\u001b[0;34m\u001b[0m\u001b[0;34m\u001b[0m\u001b[0m\n\u001b[1;32m      7\u001b[0m     \u001b[0maxes\u001b[0m\u001b[0;34m[\u001b[0m\u001b[0;36m0\u001b[0m\u001b[0;34m]\u001b[0m\u001b[0;34m.\u001b[0m\u001b[0mset\u001b[0m\u001b[0;34m(\u001b[0m\u001b[0mxlabel\u001b[0m\u001b[0;34m=\u001b[0m\u001b[0;34m'True'\u001b[0m\u001b[0;34m,\u001b[0m \u001b[0mylabel\u001b[0m\u001b[0;34m=\u001b[0m\u001b[0;34m'Pred'\u001b[0m\u001b[0;34m,\u001b[0m \u001b[0mxlim\u001b[0m\u001b[0;34m=\u001b[0m\u001b[0mxylim\u001b[0m\u001b[0;34m,\u001b[0m \u001b[0mylim\u001b[0m\u001b[0;34m=\u001b[0m\u001b[0mxylim\u001b[0m\u001b[0;34m)\u001b[0m\u001b[0;34m\u001b[0m\u001b[0;34m\u001b[0m\u001b[0m\n",
            "\u001b[0;32m~/env_ncku/lib/python3.7/site-packages/seaborn/_decorators.py\u001b[0m in \u001b[0;36minner_f\u001b[0;34m(*args, **kwargs)\u001b[0m\n\u001b[1;32m     44\u001b[0m             )\n\u001b[1;32m     45\u001b[0m         \u001b[0mkwargs\u001b[0m\u001b[0;34m.\u001b[0m\u001b[0mupdate\u001b[0m\u001b[0;34m(\u001b[0m\u001b[0;34m{\u001b[0m\u001b[0mk\u001b[0m\u001b[0;34m:\u001b[0m \u001b[0marg\u001b[0m \u001b[0;32mfor\u001b[0m \u001b[0mk\u001b[0m\u001b[0;34m,\u001b[0m \u001b[0marg\u001b[0m \u001b[0;32min\u001b[0m \u001b[0mzip\u001b[0m\u001b[0;34m(\u001b[0m\u001b[0msig\u001b[0m\u001b[0;34m.\u001b[0m\u001b[0mparameters\u001b[0m\u001b[0;34m,\u001b[0m \u001b[0margs\u001b[0m\u001b[0;34m)\u001b[0m\u001b[0;34m}\u001b[0m\u001b[0;34m)\u001b[0m\u001b[0;34m\u001b[0m\u001b[0;34m\u001b[0m\u001b[0m\n\u001b[0;32m---> 46\u001b[0;31m         \u001b[0;32mreturn\u001b[0m \u001b[0mf\u001b[0m\u001b[0;34m(\u001b[0m\u001b[0;34m**\u001b[0m\u001b[0mkwargs\u001b[0m\u001b[0;34m)\u001b[0m\u001b[0;34m\u001b[0m\u001b[0;34m\u001b[0m\u001b[0m\n\u001b[0m\u001b[1;32m     47\u001b[0m     \u001b[0;32mreturn\u001b[0m \u001b[0minner_f\u001b[0m\u001b[0;34m\u001b[0m\u001b[0;34m\u001b[0m\u001b[0m\n\u001b[1;32m     48\u001b[0m \u001b[0;34m\u001b[0m\u001b[0m\n",
            "\u001b[0;32m~/env_ncku/lib/python3.7/site-packages/seaborn/relational.py\u001b[0m in \u001b[0;36mscatterplot\u001b[0;34m(x, y, hue, style, size, data, palette, hue_order, hue_norm, sizes, size_order, size_norm, markers, style_order, x_bins, y_bins, units, estimator, ci, n_boot, alpha, x_jitter, y_jitter, legend, ax, **kwargs)\u001b[0m\n\u001b[1;32m    803\u001b[0m         \u001b[0mx_bins\u001b[0m\u001b[0;34m=\u001b[0m\u001b[0mx_bins\u001b[0m\u001b[0;34m,\u001b[0m \u001b[0my_bins\u001b[0m\u001b[0;34m=\u001b[0m\u001b[0my_bins\u001b[0m\u001b[0;34m,\u001b[0m\u001b[0;34m\u001b[0m\u001b[0;34m\u001b[0m\u001b[0m\n\u001b[1;32m    804\u001b[0m         \u001b[0mestimator\u001b[0m\u001b[0;34m=\u001b[0m\u001b[0mestimator\u001b[0m\u001b[0;34m,\u001b[0m \u001b[0mci\u001b[0m\u001b[0;34m=\u001b[0m\u001b[0mci\u001b[0m\u001b[0;34m,\u001b[0m \u001b[0mn_boot\u001b[0m\u001b[0;34m=\u001b[0m\u001b[0mn_boot\u001b[0m\u001b[0;34m,\u001b[0m\u001b[0;34m\u001b[0m\u001b[0;34m\u001b[0m\u001b[0m\n\u001b[0;32m--> 805\u001b[0;31m         \u001b[0malpha\u001b[0m\u001b[0;34m=\u001b[0m\u001b[0malpha\u001b[0m\u001b[0;34m,\u001b[0m \u001b[0mx_jitter\u001b[0m\u001b[0;34m=\u001b[0m\u001b[0mx_jitter\u001b[0m\u001b[0;34m,\u001b[0m \u001b[0my_jitter\u001b[0m\u001b[0;34m=\u001b[0m\u001b[0my_jitter\u001b[0m\u001b[0;34m,\u001b[0m \u001b[0mlegend\u001b[0m\u001b[0;34m=\u001b[0m\u001b[0mlegend\u001b[0m\u001b[0;34m,\u001b[0m\u001b[0;34m\u001b[0m\u001b[0;34m\u001b[0m\u001b[0m\n\u001b[0m\u001b[1;32m    806\u001b[0m     )\n\u001b[1;32m    807\u001b[0m \u001b[0;34m\u001b[0m\u001b[0m\n",
            "\u001b[0;32m~/env_ncku/lib/python3.7/site-packages/seaborn/relational.py\u001b[0m in \u001b[0;36m__init__\u001b[0;34m(self, data, variables, x_bins, y_bins, estimator, ci, n_boot, alpha, x_jitter, y_jitter, legend)\u001b[0m\n\u001b[1;32m    585\u001b[0m         )\n\u001b[1;32m    586\u001b[0m \u001b[0;34m\u001b[0m\u001b[0m\n\u001b[0;32m--> 587\u001b[0;31m         \u001b[0msuper\u001b[0m\u001b[0;34m(\u001b[0m\u001b[0;34m)\u001b[0m\u001b[0;34m.\u001b[0m\u001b[0m__init__\u001b[0m\u001b[0;34m(\u001b[0m\u001b[0mdata\u001b[0m\u001b[0;34m=\u001b[0m\u001b[0mdata\u001b[0m\u001b[0;34m,\u001b[0m \u001b[0mvariables\u001b[0m\u001b[0;34m=\u001b[0m\u001b[0mvariables\u001b[0m\u001b[0;34m)\u001b[0m\u001b[0;34m\u001b[0m\u001b[0;34m\u001b[0m\u001b[0m\n\u001b[0m\u001b[1;32m    588\u001b[0m \u001b[0;34m\u001b[0m\u001b[0m\n\u001b[1;32m    589\u001b[0m         \u001b[0mself\u001b[0m\u001b[0;34m.\u001b[0m\u001b[0malpha\u001b[0m \u001b[0;34m=\u001b[0m \u001b[0malpha\u001b[0m\u001b[0;34m\u001b[0m\u001b[0;34m\u001b[0m\u001b[0m\n",
            "\u001b[0;32m~/env_ncku/lib/python3.7/site-packages/seaborn/_core.py\u001b[0m in \u001b[0;36m__init__\u001b[0;34m(self, data, variables)\u001b[0m\n\u001b[1;32m    602\u001b[0m     \u001b[0;32mdef\u001b[0m \u001b[0m__init__\u001b[0m\u001b[0;34m(\u001b[0m\u001b[0mself\u001b[0m\u001b[0;34m,\u001b[0m \u001b[0mdata\u001b[0m\u001b[0;34m=\u001b[0m\u001b[0;32mNone\u001b[0m\u001b[0;34m,\u001b[0m \u001b[0mvariables\u001b[0m\u001b[0;34m=\u001b[0m\u001b[0;34m{\u001b[0m\u001b[0;34m}\u001b[0m\u001b[0;34m)\u001b[0m\u001b[0;34m:\u001b[0m\u001b[0;34m\u001b[0m\u001b[0;34m\u001b[0m\u001b[0m\n\u001b[1;32m    603\u001b[0m \u001b[0;34m\u001b[0m\u001b[0m\n\u001b[0;32m--> 604\u001b[0;31m         \u001b[0mself\u001b[0m\u001b[0;34m.\u001b[0m\u001b[0massign_variables\u001b[0m\u001b[0;34m(\u001b[0m\u001b[0mdata\u001b[0m\u001b[0;34m,\u001b[0m \u001b[0mvariables\u001b[0m\u001b[0;34m)\u001b[0m\u001b[0;34m\u001b[0m\u001b[0;34m\u001b[0m\u001b[0m\n\u001b[0m\u001b[1;32m    605\u001b[0m \u001b[0;34m\u001b[0m\u001b[0m\n\u001b[1;32m    606\u001b[0m         \u001b[0;32mfor\u001b[0m \u001b[0mvar\u001b[0m\u001b[0;34m,\u001b[0m \u001b[0mcls\u001b[0m \u001b[0;32min\u001b[0m \u001b[0mself\u001b[0m\u001b[0;34m.\u001b[0m\u001b[0m_semantic_mappings\u001b[0m\u001b[0;34m.\u001b[0m\u001b[0mitems\u001b[0m\u001b[0;34m(\u001b[0m\u001b[0;34m)\u001b[0m\u001b[0;34m:\u001b[0m\u001b[0;34m\u001b[0m\u001b[0;34m\u001b[0m\u001b[0m\n",
            "\u001b[0;32m~/env_ncku/lib/python3.7/site-packages/seaborn/_core.py\u001b[0m in \u001b[0;36massign_variables\u001b[0;34m(self, data, variables)\u001b[0m\n\u001b[1;32m    666\u001b[0m             \u001b[0mself\u001b[0m\u001b[0;34m.\u001b[0m\u001b[0minput_format\u001b[0m \u001b[0;34m=\u001b[0m \u001b[0;34m\"long\"\u001b[0m\u001b[0;34m\u001b[0m\u001b[0;34m\u001b[0m\u001b[0m\n\u001b[1;32m    667\u001b[0m             plot_data, variables = self._assign_variables_longform(\n\u001b[0;32m--> 668\u001b[0;31m                 \u001b[0mdata\u001b[0m\u001b[0;34m,\u001b[0m \u001b[0;34m**\u001b[0m\u001b[0mvariables\u001b[0m\u001b[0;34m,\u001b[0m\u001b[0;34m\u001b[0m\u001b[0;34m\u001b[0m\u001b[0m\n\u001b[0m\u001b[1;32m    669\u001b[0m             )\n\u001b[1;32m    670\u001b[0m \u001b[0;34m\u001b[0m\u001b[0m\n",
            "\u001b[0;32m~/env_ncku/lib/python3.7/site-packages/seaborn/_core.py\u001b[0m in \u001b[0;36m_assign_variables_longform\u001b[0;34m(self, data, **kwargs)\u001b[0m\n\u001b[1;32m    924\u001b[0m         \u001b[0;31m# Construct a tidy plot DataFrame. This will convert a number of\u001b[0m\u001b[0;34m\u001b[0m\u001b[0;34m\u001b[0m\u001b[0;34m\u001b[0m\u001b[0m\n\u001b[1;32m    925\u001b[0m         \u001b[0;31m# types automatically, aligning on index in case of pandas objects\u001b[0m\u001b[0;34m\u001b[0m\u001b[0;34m\u001b[0m\u001b[0;34m\u001b[0m\u001b[0m\n\u001b[0;32m--> 926\u001b[0;31m         \u001b[0mplot_data\u001b[0m \u001b[0;34m=\u001b[0m \u001b[0mpd\u001b[0m\u001b[0;34m.\u001b[0m\u001b[0mDataFrame\u001b[0m\u001b[0;34m(\u001b[0m\u001b[0mplot_data\u001b[0m\u001b[0;34m)\u001b[0m\u001b[0;34m\u001b[0m\u001b[0;34m\u001b[0m\u001b[0m\n\u001b[0m\u001b[1;32m    927\u001b[0m \u001b[0;34m\u001b[0m\u001b[0m\n\u001b[1;32m    928\u001b[0m         \u001b[0;31m# Reduce the variables dictionary to fields with valid data\u001b[0m\u001b[0;34m\u001b[0m\u001b[0;34m\u001b[0m\u001b[0;34m\u001b[0m\u001b[0m\n",
            "\u001b[0;32m~/env_ncku/lib/python3.7/site-packages/pandas/core/frame.py\u001b[0m in \u001b[0;36m__init__\u001b[0;34m(self, data, index, columns, dtype, copy)\u001b[0m\n\u001b[1;32m    527\u001b[0m \u001b[0;34m\u001b[0m\u001b[0m\n\u001b[1;32m    528\u001b[0m         \u001b[0;32melif\u001b[0m \u001b[0misinstance\u001b[0m\u001b[0;34m(\u001b[0m\u001b[0mdata\u001b[0m\u001b[0;34m,\u001b[0m \u001b[0mdict\u001b[0m\u001b[0;34m)\u001b[0m\u001b[0;34m:\u001b[0m\u001b[0;34m\u001b[0m\u001b[0;34m\u001b[0m\u001b[0m\n\u001b[0;32m--> 529\u001b[0;31m             \u001b[0mmgr\u001b[0m \u001b[0;34m=\u001b[0m \u001b[0minit_dict\u001b[0m\u001b[0;34m(\u001b[0m\u001b[0mdata\u001b[0m\u001b[0;34m,\u001b[0m \u001b[0mindex\u001b[0m\u001b[0;34m,\u001b[0m \u001b[0mcolumns\u001b[0m\u001b[0;34m,\u001b[0m \u001b[0mdtype\u001b[0m\u001b[0;34m=\u001b[0m\u001b[0mdtype\u001b[0m\u001b[0;34m)\u001b[0m\u001b[0;34m\u001b[0m\u001b[0;34m\u001b[0m\u001b[0m\n\u001b[0m\u001b[1;32m    530\u001b[0m         \u001b[0;32melif\u001b[0m \u001b[0misinstance\u001b[0m\u001b[0;34m(\u001b[0m\u001b[0mdata\u001b[0m\u001b[0;34m,\u001b[0m \u001b[0mma\u001b[0m\u001b[0;34m.\u001b[0m\u001b[0mMaskedArray\u001b[0m\u001b[0;34m)\u001b[0m\u001b[0;34m:\u001b[0m\u001b[0;34m\u001b[0m\u001b[0;34m\u001b[0m\u001b[0m\n\u001b[1;32m    531\u001b[0m             \u001b[0;32mimport\u001b[0m \u001b[0mnumpy\u001b[0m\u001b[0;34m.\u001b[0m\u001b[0mma\u001b[0m\u001b[0;34m.\u001b[0m\u001b[0mmrecords\u001b[0m \u001b[0;32mas\u001b[0m \u001b[0mmrecords\u001b[0m\u001b[0;34m\u001b[0m\u001b[0;34m\u001b[0m\u001b[0m\n",
            "\u001b[0;32m~/env_ncku/lib/python3.7/site-packages/pandas/core/internals/construction.py\u001b[0m in \u001b[0;36minit_dict\u001b[0;34m(data, index, columns, dtype)\u001b[0m\n\u001b[1;32m    285\u001b[0m             \u001b[0marr\u001b[0m \u001b[0;32mif\u001b[0m \u001b[0;32mnot\u001b[0m \u001b[0mis_datetime64tz_dtype\u001b[0m\u001b[0;34m(\u001b[0m\u001b[0marr\u001b[0m\u001b[0;34m)\u001b[0m \u001b[0;32melse\u001b[0m \u001b[0marr\u001b[0m\u001b[0;34m.\u001b[0m\u001b[0mcopy\u001b[0m\u001b[0;34m(\u001b[0m\u001b[0;34m)\u001b[0m \u001b[0;32mfor\u001b[0m \u001b[0marr\u001b[0m \u001b[0;32min\u001b[0m \u001b[0marrays\u001b[0m\u001b[0;34m\u001b[0m\u001b[0;34m\u001b[0m\u001b[0m\n\u001b[1;32m    286\u001b[0m         ]\n\u001b[0;32m--> 287\u001b[0;31m     \u001b[0;32mreturn\u001b[0m \u001b[0marrays_to_mgr\u001b[0m\u001b[0;34m(\u001b[0m\u001b[0marrays\u001b[0m\u001b[0;34m,\u001b[0m \u001b[0mdata_names\u001b[0m\u001b[0;34m,\u001b[0m \u001b[0mindex\u001b[0m\u001b[0;34m,\u001b[0m \u001b[0mcolumns\u001b[0m\u001b[0;34m,\u001b[0m \u001b[0mdtype\u001b[0m\u001b[0;34m=\u001b[0m\u001b[0mdtype\u001b[0m\u001b[0;34m)\u001b[0m\u001b[0;34m\u001b[0m\u001b[0;34m\u001b[0m\u001b[0m\n\u001b[0m\u001b[1;32m    288\u001b[0m \u001b[0;34m\u001b[0m\u001b[0m\n\u001b[1;32m    289\u001b[0m \u001b[0;34m\u001b[0m\u001b[0m\n",
            "\u001b[0;32m~/env_ncku/lib/python3.7/site-packages/pandas/core/internals/construction.py\u001b[0m in \u001b[0;36marrays_to_mgr\u001b[0;34m(arrays, arr_names, index, columns, dtype, verify_integrity)\u001b[0m\n\u001b[1;32m     78\u001b[0m         \u001b[0;31m# figure out the index, if necessary\u001b[0m\u001b[0;34m\u001b[0m\u001b[0;34m\u001b[0m\u001b[0;34m\u001b[0m\u001b[0m\n\u001b[1;32m     79\u001b[0m         \u001b[0;32mif\u001b[0m \u001b[0mindex\u001b[0m \u001b[0;32mis\u001b[0m \u001b[0;32mNone\u001b[0m\u001b[0;34m:\u001b[0m\u001b[0;34m\u001b[0m\u001b[0;34m\u001b[0m\u001b[0m\n\u001b[0;32m---> 80\u001b[0;31m             \u001b[0mindex\u001b[0m \u001b[0;34m=\u001b[0m \u001b[0mextract_index\u001b[0m\u001b[0;34m(\u001b[0m\u001b[0marrays\u001b[0m\u001b[0;34m)\u001b[0m\u001b[0;34m\u001b[0m\u001b[0;34m\u001b[0m\u001b[0m\n\u001b[0m\u001b[1;32m     81\u001b[0m         \u001b[0;32melse\u001b[0m\u001b[0;34m:\u001b[0m\u001b[0;34m\u001b[0m\u001b[0;34m\u001b[0m\u001b[0m\n\u001b[1;32m     82\u001b[0m             \u001b[0mindex\u001b[0m \u001b[0;34m=\u001b[0m \u001b[0mensure_index\u001b[0m\u001b[0;34m(\u001b[0m\u001b[0mindex\u001b[0m\u001b[0;34m)\u001b[0m\u001b[0;34m\u001b[0m\u001b[0;34m\u001b[0m\u001b[0m\n",
            "\u001b[0;32m~/env_ncku/lib/python3.7/site-packages/pandas/core/internals/construction.py\u001b[0m in \u001b[0;36mextract_index\u001b[0;34m(data)\u001b[0m\n\u001b[1;32m    389\u001b[0m \u001b[0;34m\u001b[0m\u001b[0m\n\u001b[1;32m    390\u001b[0m         \u001b[0;32mif\u001b[0m \u001b[0;32mnot\u001b[0m \u001b[0mindexes\u001b[0m \u001b[0;32mand\u001b[0m \u001b[0;32mnot\u001b[0m \u001b[0mraw_lengths\u001b[0m\u001b[0;34m:\u001b[0m\u001b[0;34m\u001b[0m\u001b[0;34m\u001b[0m\u001b[0m\n\u001b[0;32m--> 391\u001b[0;31m             \u001b[0;32mraise\u001b[0m \u001b[0mValueError\u001b[0m\u001b[0;34m(\u001b[0m\u001b[0;34m\"If using all scalar values, you must pass an index\"\u001b[0m\u001b[0;34m)\u001b[0m\u001b[0;34m\u001b[0m\u001b[0;34m\u001b[0m\u001b[0m\n\u001b[0m\u001b[1;32m    392\u001b[0m \u001b[0;34m\u001b[0m\u001b[0m\n\u001b[1;32m    393\u001b[0m         \u001b[0;32mif\u001b[0m \u001b[0mhave_series\u001b[0m\u001b[0;34m:\u001b[0m\u001b[0;34m\u001b[0m\u001b[0;34m\u001b[0m\u001b[0m\n",
            "\u001b[0;31mValueError\u001b[0m: If using all scalar values, you must pass an index"
          ]
        },
        {
          "output_type": "display_data",
          "data": {
            "image/png": "[encoded data removed]",
            "text/plain": [
              "<Figure size 1152x576 with 2 Axes>"
            ]
          },
          "metadata": {
            "tags": []
          }
        }
      ]
    },
    {
      "cell_type": "code",
      "metadata": {
        "id": "collaborative-toronto"
      },
      "source": [
        "df_out = pd.DataFrame({\n",
        "    'chid': x_test.iloc[:, 0].values.astype(np.int64), \n",
        "    'true': test_true_list.flatten(),\n",
        "    'pred': test_pred_list.flatten()\n",
        "})\n",
        "\n",
        "df_out.head(2)"
      ],
      "id": "collaborative-toronto",
      "execution_count": null,
      "outputs": []
    },
    {
      "cell_type": "code",
      "metadata": {
        "id": "italic-stake"
      },
      "source": [
        "#df_out.to_csv('result/linearSVR.csv', index=False, encoding='utf-8')"
      ],
      "id": "italic-stake",
      "execution_count": null,
      "outputs": []
    }
  ]
}