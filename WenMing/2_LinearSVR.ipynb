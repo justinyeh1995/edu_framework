{
 "cells": [
  {
   "cell_type": "code",
   "execution_count": 1,
   "id": "arabic-setting",
   "metadata": {},
   "outputs": [],
   "source": [
    "import os\n",
    "import numpy as np\n",
    "import pandas as pd\n",
    "from time import time\n",
    "from tqdm.notebook import tqdm\n",
    "from sklearn.preprocessing import MinMaxScaler"
   ]
  },
  {
   "cell_type": "code",
   "execution_count": 2,
   "id": "hungarian-affect",
   "metadata": {},
   "outputs": [],
   "source": [
    "from sklearn.svm import LinearSVR\n",
    "from sklearn.metrics import mean_squared_error, mean_absolute_error, median_absolute_error"
   ]
  },
  {
   "cell_type": "code",
   "execution_count": 3,
   "id": "equal-vancouver",
   "metadata": {},
   "outputs": [],
   "source": [
    "def to_one_hot(df, sparse_feature):\n",
    "    df[sparse_feature] = df[sparse_feature].astype(object)\n",
    "\n",
    "    temp_col = list(set(df.columns)-set(sparse_feature))\n",
    "    temp_col.sort(key=list(df.columns).index)\n",
    "\n",
    "    df = pd.concat([df[temp_col], pd.get_dummies(df[sparse_feature])] , axis=1)\n",
    "\n",
    "    return df"
   ]
  },
  {
   "cell_type": "code",
   "execution_count": 4,
   "id": "cellular-frederick",
   "metadata": {},
   "outputs": [
    {
     "name": "stdout",
     "output_type": "stream",
     "text": [
      "(450000, 31) (100000, 31) (450000, 1) (100000, 1) 50000 [('masts', 4), ('educd', 7), ('naty', 3), ('trdtp', 28), ('poscd', 10), ('cuorg', 31)]\n"
     ]
    }
   ],
   "source": [
    "sample_path = './data/sample_50k'\n",
    "\n",
    "x_train = pd.read_csv(os.path.join(sample_path, 'Normal', 'x_train.csv'), encoding='utf-8')\n",
    "x_test = pd.read_csv(os.path.join(sample_path, 'Normal', 'x_test.csv'), encoding='utf-8')\n",
    "y_train = pd.read_csv(os.path.join(sample_path, 'Normal', 'y_train.csv'), encoding='utf-8').values\n",
    "y_test = pd.read_csv(os.path.join(sample_path, 'Normal', 'y_test.csv'), encoding='utf-8').values\n",
    "\n",
    "chid_mapper = np.load(os.path.join(sample_path, 'sample_idx_map.npy'), allow_pickle=True).item()\n",
    "feat_mapper = np.load(os.path.join(sample_path, 'Normal', 'feature_map.npy'), allow_pickle=True).item()\n",
    "feature = np.load(os.path.join(sample_path, 'Normal', 'feature.npy'), allow_pickle=True).item()\n",
    "\n",
    "category_cols = feature['category_columns']\n",
    "numeric_cols = feature['numeric_columns']\n",
    "\n",
    "print(x_train.shape, x_test.shape, y_train.shape, y_test.shape, len(chid_mapper), [(k, len(v)) for k, v in feat_mapper.items()])"
   ]
  },
  {
   "cell_type": "code",
   "execution_count": 5,
   "id": "congressional-throat",
   "metadata": {},
   "outputs": [],
   "source": [
    "sparse_feat = category_cols\n",
    "dense_feat = numeric_cols"
   ]
  },
  {
   "cell_type": "code",
   "execution_count": 6,
   "id": "intense-mortality",
   "metadata": {},
   "outputs": [],
   "source": [
    "USE_CHID = False\n",
    "idx_start = 1-int(USE_CHID)\n",
    "\n",
    "x_train_oh = to_one_hot(x_train, sparse_feat[idx_start:])\n",
    "x_test_oh = to_one_hot(x_test, sparse_feat[idx_start:])"
   ]
  },
  {
   "cell_type": "code",
   "execution_count": 7,
   "id": "disciplinary-shoulder",
   "metadata": {},
   "outputs": [],
   "source": [
    "# x_data\n",
    "x_scaler = MinMaxScaler(feature_range=(0, 1))\n",
    "\n",
    "x_train_oh[dense_feat] = np.log1p(x_train_oh[dense_feat] - x_train_oh[dense_feat].min(axis=0))\n",
    "x_train_oh[dense_feat] = x_scaler.fit_transform(x_train_oh[dense_feat])\n",
    "\n",
    "x_test_oh[dense_feat] = np.log1p(x_test_oh[dense_feat] - x_test_oh[dense_feat].min(axis=0))\n",
    "x_test_oh[dense_feat] = x_scaler.transform(x_test_oh[dense_feat])\n",
    "\n",
    "x_train_oh = x_train_oh.values[:, idx_start:]\n",
    "x_test_oh = x_test_oh.values[:, idx_start:]"
   ]
  },
  {
   "cell_type": "code",
   "execution_count": 8,
   "id": "simple-preservation",
   "metadata": {},
   "outputs": [],
   "source": [
    "# y_data\n",
    "USE_YMINMAX = False\n",
    "y_scaler = None\n",
    "\n",
    "y_train = np.log1p(y_train)\n",
    "y_test = np.log1p(y_test)\n",
    "\n",
    "if USE_YMINMAX:\n",
    "    y_scaler = MinMaxScaler(feature_range=(0, 1))\n",
    "    y_train = y_scaler.fit_transform(y_train)\n",
    "    y_test = y_scaler.transform(y_test)"
   ]
  },
  {
   "cell_type": "code",
   "execution_count": 9,
   "id": "changing-regard",
   "metadata": {},
   "outputs": [
    {
     "name": "stdout",
     "output_type": "stream",
     "text": [
      "(450000, 102) (450000, 1)\n",
      "(100000, 102) (100000, 1)\n"
     ]
    }
   ],
   "source": [
    "print(x_train_oh.shape, y_train.shape)\n",
    "print(x_test_oh.shape, y_test.shape)"
   ]
  },
  {
   "cell_type": "code",
   "execution_count": 10,
   "id": "swedish-disco",
   "metadata": {
    "scrolled": false
   },
   "outputs": [
    {
     "name": "stdout",
     "output_type": "stream",
     "text": [
      "cost: 92.51\n"
     ]
    }
   ],
   "source": [
    "TRAIN_TYPE = [('L1loss', 'epsilon_insensitive'), \n",
    "              ('L2loss', 'squared_epsilon_insensitive')]\n",
    "loss_type, loss = TRAIN_TYPE[0]\n",
    "\n",
    "t0 = time()\n",
    "svr = LinearSVR(random_state=4036, loss=loss)\n",
    "svr.fit(x_train_oh, y_train.ravel())\n",
    "t1 = time()\n",
    "\n",
    "print('cost: {:.2f}'.format(t1 - t0))"
   ]
  },
  {
   "cell_type": "code",
   "execution_count": 11,
   "id": "abstract-solution",
   "metadata": {},
   "outputs": [],
   "source": [
    "train_true_list = y_train.ravel()\n",
    "train_pred_list = svr.predict(x_train_oh)\n",
    "\n",
    "if y_scaler:\n",
    "    train_true_list = y_scaler.inverse_transform(train_true_list)\n",
    "    train_pred_list = y_scaler.inverse_transform(train_pred_list)\n",
    "    \n",
    "train_true_list = np.expm1(train_true_list)\n",
    "train_pred_list = np.expm1(train_pred_list)\n",
    "\n",
    "train_result = {\n",
    "    'RMSE': mean_squared_error(train_true_list, train_pred_list, squared=False), \n",
    "    'MAE(mean)': mean_absolute_error(train_true_list, train_pred_list), \n",
    "    'MAE(median)': median_absolute_error(train_true_list, train_pred_list)\n",
    "}"
   ]
  },
  {
   "cell_type": "code",
   "execution_count": 12,
   "id": "digital-portsmouth",
   "metadata": {},
   "outputs": [],
   "source": [
    "test_true_list = y_test.ravel()\n",
    "test_pred_list = svr.predict(x_test_oh)\n",
    "\n",
    "if y_scaler:\n",
    "    test_true_list = y_scaler.inverse_transform(test_true_list)\n",
    "    test_pred_list = y_scaler.inverse_transform(test_pred_list)\n",
    "    \n",
    "test_true_list = np.expm1(test_true_list)\n",
    "test_pred_list = np.expm1(test_pred_list)\n",
    "\n",
    "test_result = {\n",
    "    'RMSE': mean_squared_error(test_true_list, test_pred_list, squared=False), \n",
    "    'MAE(mean)': mean_absolute_error(test_true_list, test_pred_list), \n",
    "    'MAE(median)': median_absolute_error(test_true_list, test_pred_list)\n",
    "}"
   ]
  },
  {
   "cell_type": "code",
   "execution_count": 13,
   "id": "compatible-plaintiff",
   "metadata": {},
   "outputs": [
    {
     "name": "stdout",
     "output_type": "stream",
     "text": [
      "train\tRMSE:386325.12 MAE(mean):57227.39 MAE(median):11868.33\n",
      "test\tRMSE:404296.29 MAE(mean):61130.02 MAE(median):11380.03\n"
     ]
    }
   ],
   "source": [
    "print('train\\t'+' '.join(['{}:{:.2f}'.format(k, v) for k, v in train_result.items()]))\n",
    "print('test\\t'+' '.join(['{}:{:.2f}'.format(k, v) for k, v in test_result.items()]))"
   ]
  },
  {
   "cell_type": "code",
   "execution_count": 14,
   "id": "particular-dividend",
   "metadata": {},
   "outputs": [
    {
     "data": {
      "image/png": "[encoded data removed]",
      "text/plain": [
       "<Figure size 1152x432 with 2 Axes>"
      ]
     },
     "metadata": {},
     "output_type": "display_data"
    }
   ],
   "source": [
    "%matplotlib inline\n",
    "import matplotlib.pyplot as plt\n",
    "import seaborn as sns\n",
    "\n",
    "with sns.axes_style(\"darkgrid\"):\n",
    "    fig, axes = plt.subplots(1, 2, figsize=(16, 6), sharey=True, sharex=True)\n",
    "    fig.suptitle('')\n",
    "    \n",
    "    sns.histplot(ax=axes[0], x=test_true_list, kde=True, element='step', stat='probability')\n",
    "    sns.histplot(ax=axes[1], x=test_pred_list, kde=True, element='step', stat='probability')\n",
    "    axes[0].set_title('True')\n",
    "    axes[1].set_title('Pred')\n",
    "    plt.show()"
   ]
  },
  {
   "cell_type": "code",
   "execution_count": 15,
   "id": "parliamentary-victor",
   "metadata": {},
   "outputs": [
    {
     "data": {
      "image/png": "[encoded data removed]",
      "text/plain": [
       "<Figure size 1152x576 with 2 Axes>"
      ]
     },
     "metadata": {},
     "output_type": "display_data"
    }
   ],
   "source": [
    "with sns.axes_style(\"darkgrid\"):\n",
    "    fig, axes = plt.subplots(1, 2, figsize=(16, 8), sharey=False)\n",
    "    fig.suptitle('')\n",
    "\n",
    "    sns.scatterplot(ax=axes[0], x=test_true_list, y=test_pred_list)\n",
    "    xylim = (np.min([test_true_list, test_pred_list])-.1e7, np.max([test_true_list, test_pred_list])+.1e7)\n",
    "    axes[0].set(xlabel='True', ylabel='Pred', xlim=xylim, ylim=xylim)\n",
    "    \n",
    "    sns.scatterplot(ax=axes[1], x=test_true_list, y=test_true_list-test_pred_list)\n",
    "    xylim = (np.min([test_true_list, test_true_list-test_pred_list])-.1e7, np.max([test_true_list, test_true_list-test_pred_list])+.1e7)\n",
    "    axes[1].set(xlabel='True', ylabel='True - Pred', xlim=xylim, ylim=xylim)\n",
    "    plt.show()"
   ]
  },
  {
   "cell_type": "code",
   "execution_count": 16,
   "id": "collaborative-toronto",
   "metadata": {},
   "outputs": [
    {
     "data": {
      "text/html": [
       "<div>\n",
       "<style scoped>\n",
       "    .dataframe tbody tr th:only-of-type {\n",
       "        vertical-align: middle;\n",
       "    }\n",
       "\n",
       "    .dataframe tbody tr th {\n",
       "        vertical-align: top;\n",
       "    }\n",
       "\n",
       "    .dataframe thead th {\n",
       "        text-align: right;\n",
       "    }\n",
       "</style>\n",
       "<table border=\"1\" class=\"dataframe\">\n",
       "  <thead>\n",
       "    <tr style=\"text-align: right;\">\n",
       "      <th></th>\n",
       "      <th>chid</th>\n",
       "      <th>true</th>\n",
       "      <th>pred</th>\n",
       "    </tr>\n",
       "  </thead>\n",
       "  <tbody>\n",
       "    <tr>\n",
       "      <th>0</th>\n",
       "      <td>0</td>\n",
       "      <td>41008.0</td>\n",
       "      <td>20618.687418</td>\n",
       "    </tr>\n",
       "    <tr>\n",
       "      <th>1</th>\n",
       "      <td>0</td>\n",
       "      <td>407784.0</td>\n",
       "      <td>35736.097042</td>\n",
       "    </tr>\n",
       "  </tbody>\n",
       "</table>\n",
       "</div>"
      ],
      "text/plain": [
       "   chid      true          pred\n",
       "0     0   41008.0  20618.687418\n",
       "1     0  407784.0  35736.097042"
      ]
     },
     "execution_count": 16,
     "metadata": {},
     "output_type": "execute_result"
    }
   ],
   "source": [
    "df_out = pd.DataFrame({\n",
    "    'chid': x_test.iloc[:, 0].values.astype(np.int64), \n",
    "    'true': test_true_list.flatten(),\n",
    "    'pred': test_pred_list.flatten()\n",
    "})\n",
    "\n",
    "df_out.head(2)"
   ]
  },
  {
   "cell_type": "code",
   "execution_count": 17,
   "id": "italic-stake",
   "metadata": {},
   "outputs": [],
   "source": [
    "#df_out.to_csv('result/linearSVR.csv', index=False, encoding='utf-8')"
   ]
  }
 ],
 "metadata": {
  "kernelspec": {
   "display_name": "Python 3",
   "language": "python",
   "name": "python3"
  },
  "language_info": {
   "codemirror_mode": {
    "name": "ipython",
    "version": 3
   },
   "file_extension": ".py",
   "mimetype": "text/x-python",
   "name": "python",
   "nbconvert_exporter": "python",
   "pygments_lexer": "ipython3",
   "version": "3.6.9"
  }
 },
 "nbformat": 4,
 "nbformat_minor": 5
}
