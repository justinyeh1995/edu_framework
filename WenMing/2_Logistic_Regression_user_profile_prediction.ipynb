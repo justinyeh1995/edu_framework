{
  "nbformat": 4,
  "nbformat_minor": 5,
  "metadata": {
    "kernelspec": {
      "display_name": "Python 3",
      "language": "python",
      "name": "python3"
    },
    "language_info": {
      "codemirror_mode": {
        "name": "ipython",
        "version": 3
      },
      "file_extension": ".py",
      "mimetype": "text/x-python",
      "name": "python",
      "nbconvert_exporter": "python",
      "pygments_lexer": "ipython3",
      "version": "3.7.9"
    },
    "colab": {
      "name": "2_Logistic_Regression_user_profile_prediction.ipynb",
      "provenance": [],
      "collapsed_sections": [],
      "toc_visible": true,
      "machine_shape": "hm",
      "include_colab_link": true
    }
  },
  "cells": [
    {
      "cell_type": "markdown",
      "metadata": {
        "id": "view-in-github",
        "colab_type": "text"
      },
      "source": [
        "<a href=\"https://colab.research.google.com/github/udothemath/ncku_customer_embedding/blob/main/WenMing/2_Logistic_Regression_user_profile_prediction.ipynb\" target=\"_parent\"><img src=\"https://colab.research.google.com/assets/colab-badge.svg\" alt=\"Open In Colab\"/></a>"
      ]
    },
    {
      "cell_type": "markdown",
      "metadata": {
        "id": "scheduled-processing"
      },
      "source": [
        "# 使用 Logistic Regression 作為 Basline ，且改預測使用者的屬性\n",
        "* 因為預測消費金額，目前資料解釋力尚不足，故原的 Y 值定義在此 Notebook 中會被修改\n",
        "* 改為預測使用者屬性作為 Baseline 來驗證這些 feature 是否具有足夠的代表力\n",
        "* 且避免使用過度複雜模型\n"
      ],
      "id": "scheduled-processing"
    },
    {
      "cell_type": "code",
      "metadata": {
        "id": "RNSZIwraXp3m",
        "colab": {
          "base_uri": "https://localhost:8080/"
        },
        "outputId": "5fca57f1-4850-476b-ba49-d5a5d643e42c"
      },
      "source": [
        "# 如果有使用 coloab 再執行此 cell\n",
        "from google.colab import drive\n",
        "drive.mount('/gdrive')\n",
        "!ln -s /gdrive/MyDrive/colab/NCKU_embedding/data/ ./data"
      ],
      "id": "RNSZIwraXp3m",
      "execution_count": 1,
      "outputs": [
        {
          "output_type": "stream",
          "text": [
            "Drive already mounted at /gdrive; to attempt to forcibly remount, call drive.mount(\"/gdrive\", force_remount=True).\n",
            "ln: failed to create symbolic link './data/data': File exists\n"
          ],
          "name": "stdout"
        }
      ]
    },
    {
      "cell_type": "code",
      "metadata": {
        "id": "BiRArHkokd2s"
      },
      "source": [
        ""
      ],
      "id": "BiRArHkokd2s",
      "execution_count": 1,
      "outputs": []
    },
    {
      "cell_type": "code",
      "metadata": {
        "id": "o61XnZjVkjoS"
      },
      "source": [
        "from google.colab import auth\n",
        "auth.authenticate_user()"
      ],
      "id": "o61XnZjVkjoS",
      "execution_count": 2,
      "outputs": []
    },
    {
      "cell_type": "code",
      "metadata": {
        "id": "5ME8iSFSkjoS"
      },
      "source": [
        "from google.cloud import bigquery\n",
        "\n",
        "# https://cloud.google.com/resource-manager/docs/creating-managing-projects\n",
        "project_id = 'neat-motif-123006'\n",
        "client = bigquery.Client(project=project_id)\n"
      ],
      "id": "5ME8iSFSkjoS",
      "execution_count": 3,
      "outputs": []
    },
    {
      "cell_type": "code",
      "metadata": {
        "id": "Z_K5w3e-nK9p"
      },
      "source": [
        "# 只拿 x_train 來作 user profile 驗證，因為 x_test 的資料筆數可能無法 train 出好的 embedding\n",
        "sql = \"\"\"\n",
        "SELECT\n",
        "chid,\n",
        "avg(monin) as monin ,\n",
        "avg(wrky) as wrky ,\n",
        "avg(first_mob) as first_mob ,\n",
        "avg(cycam) as cycam ,\n",
        "avg(slam) as slam ,\n",
        "avg(sum_area_c) as sum_area_c ,\n",
        "avg(sum_u2_ind) as sum_u2_ind ,\n",
        "avg(sum_u3_ind) as sum_u3_ind ,\n",
        "avg(sum_u4_ind) as sum_u4_ind ,\n",
        "avg(sum_l2_ind) as sum_l2_ind ,\n",
        "avg(sum_l3_ind) as sum_l3_ind ,\n",
        "avg(sum_l4_ind) as sum_l4_ind ,\n",
        "avg(constant_area_c) as constant_area_c ,\n",
        "avg(constant_u2_ind) as constant_u2_ind ,\n",
        "avg(constant_u3_ind) as constant_u3_ind ,\n",
        "avg(constant_u4_ind) as constant_u4_ind ,\n",
        "avg(constant_l2_ind) as constant_l2_ind ,\n",
        "avg(constant_l3_ind) as constant_l3_ind ,\n",
        "avg(constant_l4_ind) as constant_l4_ind ,\n",
        "avg(constant_change) as constant_change ,\n",
        "avg(growth_rate) as  growth_rate,\n",
        "avg(monotone_up) as monotone_up ,\n",
        "avg(monotone_down) as monotone_down ,\n",
        "avg(objam) as objam\n",
        "FROM\n",
        "  `neat-motif-123006.crd.Normal_0_x_train`\n",
        "group by chid\n",
        "\"\"\"\n",
        "x_train = client.query(sql).to_dataframe()"
      ],
      "id": "Z_K5w3e-nK9p",
      "execution_count": 4,
      "outputs": []
    },
    {
      "cell_type": "code",
      "metadata": {
        "id": "arabic-setting"
      },
      "source": [
        "import os\n",
        "import numpy as np\n",
        "import pandas as pd\n",
        "from time import time\n",
        "from tqdm.notebook import tqdm\n",
        "from sklearn.preprocessing import MinMaxScaler\n",
        "\n",
        "\n",
        "import matplotlib.pyplot as plt\n",
        "import seaborn as sns\n",
        "from scipy.stats import norm\n",
        "from sklearn.preprocessing import StandardScaler\n",
        "from scipy import stats\n",
        "import warnings\n",
        "warnings.filterwarnings('ignore')\n",
        "%matplotlib inline\n",
        "\n",
        "from sklearn.linear_model import LogisticRegression\n",
        "from sklearn.metrics import accuracy_score, confusion_matrix, auc, roc_auc_score,f1_score"
      ],
      "id": "arabic-setting",
      "execution_count": 5,
      "outputs": []
    },
    {
      "cell_type": "code",
      "metadata": {
        "id": "hungarian-affect",
        "colab": {
          "base_uri": "https://localhost:8080/",
          "height": 111
        },
        "outputId": "9851b284-ee1e-459a-ce40-667f7bd5fcc2"
      },
      "source": [
        "import pickle\n",
        "with open(\"./data/sample_50k/valid_user_masts.pkl\",\"rb\") as fr:\n",
        "    valid_user_masts= pickle.load(fr)\n",
        "valid_user_masts.head(2)"
      ],
      "id": "hungarian-affect",
      "execution_count": 6,
      "outputs": [
        {
          "output_type": "execute_result",
          "data": {
            "text/html": [
              "<div>\n",
              "<style scoped>\n",
              "    .dataframe tbody tr th:only-of-type {\n",
              "        vertical-align: middle;\n",
              "    }\n",
              "\n",
              "    .dataframe tbody tr th {\n",
              "        vertical-align: top;\n",
              "    }\n",
              "\n",
              "    .dataframe thead th {\n",
              "        text-align: right;\n",
              "    }\n",
              "</style>\n",
              "<table border=\"1\" class=\"dataframe\">\n",
              "  <thead>\n",
              "    <tr style=\"text-align: right;\">\n",
              "      <th></th>\n",
              "      <th>chid</th>\n",
              "      <th>masts</th>\n",
              "    </tr>\n",
              "  </thead>\n",
              "  <tbody>\n",
              "    <tr>\n",
              "      <th>0</th>\n",
              "      <td>0</td>\n",
              "      <td>1</td>\n",
              "    </tr>\n",
              "    <tr>\n",
              "      <th>1</th>\n",
              "      <td>1</td>\n",
              "      <td>1</td>\n",
              "    </tr>\n",
              "  </tbody>\n",
              "</table>\n",
              "</div>"
            ],
            "text/plain": [
              "   chid  masts\n",
              "0     0      1\n",
              "1     1      1"
            ]
          },
          "metadata": {
            "tags": []
          },
          "execution_count": 6
        }
      ]
    },
    {
      "cell_type": "code",
      "metadata": {
        "id": "rUD8sYT9sDPe"
      },
      "source": [
        "valid_user_masts = valid_user_masts.set_index('chid')\n",
        "valid_user_masts = valid_user_masts.sort_index()"
      ],
      "id": "rUD8sYT9sDPe",
      "execution_count": 7,
      "outputs": []
    },
    {
      "cell_type": "code",
      "metadata": {
        "id": "y675rJyJrFlL"
      },
      "source": [
        "# filtering user by valid list \n",
        "x_train = x_train[x_train.chid.isin(valid_user_masts.index)]\n",
        "x_train = x_train.set_index('chid')\n",
        "x_train = x_train.sort_index()"
      ],
      "id": "y675rJyJrFlL",
      "execution_count": 8,
      "outputs": []
    },
    {
      "cell_type": "code",
      "metadata": {
        "id": "equal-vancouver"
      },
      "source": [
        "from sklearn.preprocessing import OneHotEncoder"
      ],
      "id": "equal-vancouver",
      "execution_count": 9,
      "outputs": []
    },
    {
      "cell_type": "code",
      "metadata": {
        "id": "cellular-frederick"
      },
      "source": [
        "sample_path = './data/sample_50k'\n",
        "shift = 0\n",
        "# x_train = pd.read_csv(os.path.join(sample_path, 'Normal_%d'%shift, 'x_train.csv'), encoding='utf-8')\n",
        "# x_test = pd.read_csv(os.path.join(sample_path, 'Normal_%d'%shift, 'x_test.csv'), encoding='utf-8')\n",
        "# y_train = pd.read_csv(os.path.join(sample_path, 'Normal_%d'%shift, 'y_train.csv'), encoding='utf-8')\n",
        "# y_test = pd.read_csv(os.path.join(sample_path, 'Normal_%d'%shift, 'y_test.csv'), encoding='utf-8')\n",
        "\n",
        "# chid_mapper = np.load(os.path.join(sample_path, 'sample_idx_map.npy'), allow_pickle=True).item()\n",
        "# feat_mapper = np.load(os.path.join(sample_path, 'Normal_%d'%shift, 'feature_map.npy'), allow_pickle=True).item()\n",
        "feature = np.load(os.path.join(sample_path, 'Normal_%d'%shift, 'feature.npy'), allow_pickle=True).item()\n",
        "\n",
        "category_cols = feature['category_columns']\n",
        "numeric_cols = feature['numeric_columns']\n",
        "\n",
        "# print(x_train.shape, x_test.shape, y_train.shape, y_test.shape, len(chid_mapper), [(k, len(v)) for k, v in feat_mapper.items()])"
      ],
      "id": "cellular-frederick",
      "execution_count": 10,
      "outputs": []
    },
    {
      "cell_type": "code",
      "metadata": {
        "id": "suburban-edward"
      },
      "source": [
        "user_list_train = x_train.index \n"
      ],
      "id": "suburban-edward",
      "execution_count": 11,
      "outputs": []
    },
    {
      "cell_type": "code",
      "metadata": {
        "id": "P2m5X4l01jxN",
        "colab": {
          "base_uri": "https://localhost:8080/",
          "height": 131
        },
        "outputId": "0cd29f25-78f2-47a3-83fb-ef0e89f6f53a"
      },
      "source": [
        "x_train.head(1)"
      ],
      "id": "P2m5X4l01jxN",
      "execution_count": 12,
      "outputs": [
        {
          "output_type": "execute_result",
          "data": {
            "text/html": [
              "<div>\n",
              "<style scoped>\n",
              "    .dataframe tbody tr th:only-of-type {\n",
              "        vertical-align: middle;\n",
              "    }\n",
              "\n",
              "    .dataframe tbody tr th {\n",
              "        vertical-align: top;\n",
              "    }\n",
              "\n",
              "    .dataframe thead th {\n",
              "        text-align: right;\n",
              "    }\n",
              "</style>\n",
              "<table border=\"1\" class=\"dataframe\">\n",
              "  <thead>\n",
              "    <tr style=\"text-align: right;\">\n",
              "      <th></th>\n",
              "      <th>monin</th>\n",
              "      <th>wrky</th>\n",
              "      <th>first_mob</th>\n",
              "      <th>cycam</th>\n",
              "      <th>slam</th>\n",
              "      <th>sum_area_c</th>\n",
              "      <th>sum_u2_ind</th>\n",
              "      <th>sum_u3_ind</th>\n",
              "      <th>sum_u4_ind</th>\n",
              "      <th>sum_l2_ind</th>\n",
              "      <th>sum_l3_ind</th>\n",
              "      <th>sum_l4_ind</th>\n",
              "      <th>constant_area_c</th>\n",
              "      <th>constant_u2_ind</th>\n",
              "      <th>constant_u3_ind</th>\n",
              "      <th>constant_u4_ind</th>\n",
              "      <th>constant_l2_ind</th>\n",
              "      <th>constant_l3_ind</th>\n",
              "      <th>constant_l4_ind</th>\n",
              "      <th>constant_change</th>\n",
              "      <th>growth_rate</th>\n",
              "      <th>monotone_up</th>\n",
              "      <th>monotone_down</th>\n",
              "      <th>objam</th>\n",
              "    </tr>\n",
              "    <tr>\n",
              "      <th>chid</th>\n",
              "      <th></th>\n",
              "      <th></th>\n",
              "      <th></th>\n",
              "      <th></th>\n",
              "      <th></th>\n",
              "      <th></th>\n",
              "      <th></th>\n",
              "      <th></th>\n",
              "      <th></th>\n",
              "      <th></th>\n",
              "      <th></th>\n",
              "      <th></th>\n",
              "      <th></th>\n",
              "      <th></th>\n",
              "      <th></th>\n",
              "      <th></th>\n",
              "      <th></th>\n",
              "      <th></th>\n",
              "      <th></th>\n",
              "      <th></th>\n",
              "      <th></th>\n",
              "      <th></th>\n",
              "      <th></th>\n",
              "      <th></th>\n",
              "    </tr>\n",
              "  </thead>\n",
              "  <tbody>\n",
              "    <tr>\n",
              "      <th>0</th>\n",
              "      <td>982800.0</td>\n",
              "      <td>0.0</td>\n",
              "      <td>201.0</td>\n",
              "      <td>5200000.0</td>\n",
              "      <td>5.429956e+06</td>\n",
              "      <td>2.888889</td>\n",
              "      <td>0.888889</td>\n",
              "      <td>0.444444</td>\n",
              "      <td>0.555556</td>\n",
              "      <td>1.222222</td>\n",
              "      <td>0.0</td>\n",
              "      <td>0.0</td>\n",
              "      <td>1.777778</td>\n",
              "      <td>0.333333</td>\n",
              "      <td>0.0</td>\n",
              "      <td>0.111111</td>\n",
              "      <td>0.333333</td>\n",
              "      <td>0.0</td>\n",
              "      <td>0.0</td>\n",
              "      <td>0.222222</td>\n",
              "      <td>1.011111</td>\n",
              "      <td>0.666667</td>\n",
              "      <td>1.0</td>\n",
              "      <td>291758.444444</td>\n",
              "    </tr>\n",
              "  </tbody>\n",
              "</table>\n",
              "</div>"
            ],
            "text/plain": [
              "         monin  wrky  first_mob  ...  monotone_up  monotone_down          objam\n",
              "chid                             ...                                           \n",
              "0     982800.0   0.0      201.0  ...     0.666667            1.0  291758.444444\n",
              "\n",
              "[1 rows x 24 columns]"
            ]
          },
          "metadata": {
            "tags": []
          },
          "execution_count": 12
        }
      ]
    },
    {
      "cell_type": "code",
      "metadata": {
        "colab": {
          "base_uri": "https://localhost:8080/",
          "height": 162
        },
        "id": "37OTRTQdt98V",
        "outputId": "0cfb17fd-21c7-4544-9946-274e35bda3e6"
      },
      "source": [
        "x_final = pd.concat([valid_user_masts,x_train],axis=1)\n",
        "x_final.head(2)"
      ],
      "id": "37OTRTQdt98V",
      "execution_count": 20,
      "outputs": [
        {
          "output_type": "execute_result",
          "data": {
            "text/html": [
              "<div>\n",
              "<style scoped>\n",
              "    .dataframe tbody tr th:only-of-type {\n",
              "        vertical-align: middle;\n",
              "    }\n",
              "\n",
              "    .dataframe tbody tr th {\n",
              "        vertical-align: top;\n",
              "    }\n",
              "\n",
              "    .dataframe thead th {\n",
              "        text-align: right;\n",
              "    }\n",
              "</style>\n",
              "<table border=\"1\" class=\"dataframe\">\n",
              "  <thead>\n",
              "    <tr style=\"text-align: right;\">\n",
              "      <th></th>\n",
              "      <th>masts</th>\n",
              "      <th>monin</th>\n",
              "      <th>wrky</th>\n",
              "      <th>first_mob</th>\n",
              "      <th>cycam</th>\n",
              "      <th>slam</th>\n",
              "      <th>sum_area_c</th>\n",
              "      <th>sum_u2_ind</th>\n",
              "      <th>sum_u3_ind</th>\n",
              "      <th>sum_u4_ind</th>\n",
              "      <th>sum_l2_ind</th>\n",
              "      <th>sum_l3_ind</th>\n",
              "      <th>sum_l4_ind</th>\n",
              "      <th>constant_area_c</th>\n",
              "      <th>constant_u2_ind</th>\n",
              "      <th>constant_u3_ind</th>\n",
              "      <th>constant_u4_ind</th>\n",
              "      <th>constant_l2_ind</th>\n",
              "      <th>constant_l3_ind</th>\n",
              "      <th>constant_l4_ind</th>\n",
              "      <th>constant_change</th>\n",
              "      <th>growth_rate</th>\n",
              "      <th>monotone_up</th>\n",
              "      <th>monotone_down</th>\n",
              "      <th>objam</th>\n",
              "    </tr>\n",
              "    <tr>\n",
              "      <th>chid</th>\n",
              "      <th></th>\n",
              "      <th></th>\n",
              "      <th></th>\n",
              "      <th></th>\n",
              "      <th></th>\n",
              "      <th></th>\n",
              "      <th></th>\n",
              "      <th></th>\n",
              "      <th></th>\n",
              "      <th></th>\n",
              "      <th></th>\n",
              "      <th></th>\n",
              "      <th></th>\n",
              "      <th></th>\n",
              "      <th></th>\n",
              "      <th></th>\n",
              "      <th></th>\n",
              "      <th></th>\n",
              "      <th></th>\n",
              "      <th></th>\n",
              "      <th></th>\n",
              "      <th></th>\n",
              "      <th></th>\n",
              "      <th></th>\n",
              "      <th></th>\n",
              "    </tr>\n",
              "  </thead>\n",
              "  <tbody>\n",
              "    <tr>\n",
              "      <th>0</th>\n",
              "      <td>1</td>\n",
              "      <td>982800.0</td>\n",
              "      <td>0.0</td>\n",
              "      <td>201.0</td>\n",
              "      <td>5200000.0</td>\n",
              "      <td>5.429956e+06</td>\n",
              "      <td>2.888889</td>\n",
              "      <td>0.888889</td>\n",
              "      <td>0.444444</td>\n",
              "      <td>0.555556</td>\n",
              "      <td>1.222222</td>\n",
              "      <td>0.0</td>\n",
              "      <td>0.0</td>\n",
              "      <td>1.777778</td>\n",
              "      <td>0.333333</td>\n",
              "      <td>0.000000</td>\n",
              "      <td>0.111111</td>\n",
              "      <td>0.333333</td>\n",
              "      <td>0.0</td>\n",
              "      <td>0.0</td>\n",
              "      <td>0.222222</td>\n",
              "      <td>1.011111</td>\n",
              "      <td>0.666667</td>\n",
              "      <td>1.000000</td>\n",
              "      <td>291758.444444</td>\n",
              "    </tr>\n",
              "    <tr>\n",
              "      <th>1</th>\n",
              "      <td>1</td>\n",
              "      <td>405694.0</td>\n",
              "      <td>32.0</td>\n",
              "      <td>109.0</td>\n",
              "      <td>1092000.0</td>\n",
              "      <td>1.092000e+06</td>\n",
              "      <td>1.888889</td>\n",
              "      <td>0.222222</td>\n",
              "      <td>0.444444</td>\n",
              "      <td>1.777778</td>\n",
              "      <td>1.666667</td>\n",
              "      <td>0.0</td>\n",
              "      <td>0.0</td>\n",
              "      <td>0.222222</td>\n",
              "      <td>0.000000</td>\n",
              "      <td>0.111111</td>\n",
              "      <td>1.555556</td>\n",
              "      <td>0.888889</td>\n",
              "      <td>0.0</td>\n",
              "      <td>0.0</td>\n",
              "      <td>0.000000</td>\n",
              "      <td>1.322222</td>\n",
              "      <td>0.111111</td>\n",
              "      <td>3.555556</td>\n",
              "      <td>109753.666667</td>\n",
              "    </tr>\n",
              "  </tbody>\n",
              "</table>\n",
              "</div>"
            ],
            "text/plain": [
              "      masts     monin  wrky  ...  monotone_up  monotone_down          objam\n",
              "chid                         ...                                           \n",
              "0         1  982800.0   0.0  ...     0.666667       1.000000  291758.444444\n",
              "1         1  405694.0  32.0  ...     0.111111       3.555556  109753.666667\n",
              "\n",
              "[2 rows x 25 columns]"
            ]
          },
          "metadata": {
            "tags": []
          },
          "execution_count": 20
        }
      ]
    },
    {
      "cell_type": "markdown",
      "metadata": {
        "id": "increasing-latex"
      },
      "source": [
        "## 進行 Feature Selection\n",
        "* 先對 data 作 normalizing\n",
        "* 使用 chi squre 來看一下相依性\n",
        "\n",
        "## 選取所需要的 column \n",
        "<span style=\"color:red\">（！！記得修改預設的 Y Colunm）</span>\n"
      ],
      "id": "increasing-latex"
    },
    {
      "cell_type": "code",
      "metadata": {
        "id": "unvSQonP0jP2"
      },
      "source": [
        "sparse_feat = category_cols[0:]\n",
        "dollar_feat = ['monin', 'cycam', 'slam', 'objam']"
      ],
      "id": "unvSQonP0jP2",
      "execution_count": 21,
      "outputs": []
    },
    {
      "cell_type": "code",
      "metadata": {
        "id": "wZt-kfbGGJv_"
      },
      "source": [
        "# x_data dollar value should be transformed by log function\n",
        "\n",
        "x_final[dollar_feat] = np.log1p(x_final[dollar_feat])\n",
        "\n",
        "assert x_final.isna().sum().sum()==0 "
      ],
      "id": "wZt-kfbGGJv_",
      "execution_count": 22,
      "outputs": []
    },
    {
      "cell_type": "code",
      "metadata": {
        "id": "2eC4zvEo2bkX",
        "colab": {
          "base_uri": "https://localhost:8080/",
          "height": 162
        },
        "outputId": "25db9379-fb72-4990-91ee-6e9de356a7df"
      },
      "source": [
        "x_scaler = MinMaxScaler(feature_range=(0, 1))\n",
        "x_final[numeric_cols] = x_scaler.fit_transform(x_final[numeric_cols])\n",
        "x_final[numeric_cols].head(2)\n",
        "\n"
      ],
      "id": "2eC4zvEo2bkX",
      "execution_count": 23,
      "outputs": [
        {
          "output_type": "execute_result",
          "data": {
            "text/html": [
              "<div>\n",
              "<style scoped>\n",
              "    .dataframe tbody tr th:only-of-type {\n",
              "        vertical-align: middle;\n",
              "    }\n",
              "\n",
              "    .dataframe tbody tr th {\n",
              "        vertical-align: top;\n",
              "    }\n",
              "\n",
              "    .dataframe thead th {\n",
              "        text-align: right;\n",
              "    }\n",
              "</style>\n",
              "<table border=\"1\" class=\"dataframe\">\n",
              "  <thead>\n",
              "    <tr style=\"text-align: right;\">\n",
              "      <th></th>\n",
              "      <th>monin</th>\n",
              "      <th>wrky</th>\n",
              "      <th>first_mob</th>\n",
              "      <th>cycam</th>\n",
              "      <th>slam</th>\n",
              "      <th>sum_area_c</th>\n",
              "      <th>sum_u2_ind</th>\n",
              "      <th>sum_u3_ind</th>\n",
              "      <th>sum_u4_ind</th>\n",
              "      <th>sum_l2_ind</th>\n",
              "      <th>sum_l3_ind</th>\n",
              "      <th>sum_l4_ind</th>\n",
              "      <th>constant_area_c</th>\n",
              "      <th>constant_u2_ind</th>\n",
              "      <th>constant_u3_ind</th>\n",
              "      <th>constant_u4_ind</th>\n",
              "      <th>constant_l2_ind</th>\n",
              "      <th>constant_l3_ind</th>\n",
              "      <th>constant_l4_ind</th>\n",
              "      <th>constant_change</th>\n",
              "      <th>growth_rate</th>\n",
              "      <th>monotone_up</th>\n",
              "      <th>monotone_down</th>\n",
              "      <th>objam</th>\n",
              "    </tr>\n",
              "    <tr>\n",
              "      <th>chid</th>\n",
              "      <th></th>\n",
              "      <th></th>\n",
              "      <th></th>\n",
              "      <th></th>\n",
              "      <th></th>\n",
              "      <th></th>\n",
              "      <th></th>\n",
              "      <th></th>\n",
              "      <th></th>\n",
              "      <th></th>\n",
              "      <th></th>\n",
              "      <th></th>\n",
              "      <th></th>\n",
              "      <th></th>\n",
              "      <th></th>\n",
              "      <th></th>\n",
              "      <th></th>\n",
              "      <th></th>\n",
              "      <th></th>\n",
              "      <th></th>\n",
              "      <th></th>\n",
              "      <th></th>\n",
              "      <th></th>\n",
              "      <th></th>\n",
              "    </tr>\n",
              "  </thead>\n",
              "  <tbody>\n",
              "    <tr>\n",
              "      <th>0</th>\n",
              "      <td>0.704341</td>\n",
              "      <td>0.000000</td>\n",
              "      <td>0.637540</td>\n",
              "      <td>0.905735</td>\n",
              "      <td>0.893002</td>\n",
              "      <td>0.481481</td>\n",
              "      <td>0.363636</td>\n",
              "      <td>0.235294</td>\n",
              "      <td>0.142857</td>\n",
              "      <td>0.392857</td>\n",
              "      <td>0.0</td>\n",
              "      <td>0.0</td>\n",
              "      <td>0.296296</td>\n",
              "      <td>0.2</td>\n",
              "      <td>0.000000</td>\n",
              "      <td>0.028571</td>\n",
              "      <td>0.130435</td>\n",
              "      <td>0.0</td>\n",
              "      <td>0.0</td>\n",
              "      <td>0.037037</td>\n",
              "      <td>0.308077</td>\n",
              "      <td>0.176471</td>\n",
              "      <td>0.166667</td>\n",
              "      <td>0.742054</td>\n",
              "    </tr>\n",
              "    <tr>\n",
              "      <th>1</th>\n",
              "      <td>0.659175</td>\n",
              "      <td>0.062016</td>\n",
              "      <td>0.339806</td>\n",
              "      <td>0.814328</td>\n",
              "      <td>0.800640</td>\n",
              "      <td>0.314815</td>\n",
              "      <td>0.090909</td>\n",
              "      <td>0.235294</td>\n",
              "      <td>0.457143</td>\n",
              "      <td>0.535714</td>\n",
              "      <td>0.0</td>\n",
              "      <td>0.0</td>\n",
              "      <td>0.037037</td>\n",
              "      <td>0.0</td>\n",
              "      <td>0.090909</td>\n",
              "      <td>0.400000</td>\n",
              "      <td>0.347826</td>\n",
              "      <td>0.0</td>\n",
              "      <td>0.0</td>\n",
              "      <td>0.000000</td>\n",
              "      <td>0.308086</td>\n",
              "      <td>0.029412</td>\n",
              "      <td>0.592593</td>\n",
              "      <td>0.684400</td>\n",
              "    </tr>\n",
              "  </tbody>\n",
              "</table>\n",
              "</div>"
            ],
            "text/plain": [
              "         monin      wrky  first_mob  ...  monotone_up  monotone_down     objam\n",
              "chid                                 ...                                      \n",
              "0     0.704341  0.000000   0.637540  ...     0.176471       0.166667  0.742054\n",
              "1     0.659175  0.062016   0.339806  ...     0.029412       0.592593  0.684400\n",
              "\n",
              "[2 rows x 24 columns]"
            ]
          },
          "metadata": {
            "tags": []
          },
          "execution_count": 23
        }
      ]
    },
    {
      "cell_type": "markdown",
      "metadata": {
        "id": "ubSp-cQE8jf_"
      },
      "source": [
        "## 根據下圖的 correlation matric 分析有以下初步判定\n",
        "* user profile feature 與數值型(金錢消費) feature 相關性普遍低，推判目前的 feature enginerring 尚不足以來作為使用者分群的來源依據\n",
        "* 銷費總額(objam) 與 簽帳連續(monotone_up/monotone_down) 具有較有相關性，這也符合邏輯\n"
      ],
      "id": "ubSp-cQE8jf_"
    },
    {
      "cell_type": "code",
      "metadata": {
        "id": "NAYio-AA7kqD",
        "colab": {
          "base_uri": "https://localhost:8080/",
          "height": 616
        },
        "outputId": "f562ce67-5fd4-435e-c0a2-e35ff7009ed0"
      },
      "source": [
        "#correlation matrix\n",
        "corrmat = x_final.corr()\n",
        "f, ax = plt.subplots(figsize=(12, 9))\n",
        "sns.heatmap(corrmat, vmax=.8, square=True);"
      ],
      "id": "NAYio-AA7kqD",
      "execution_count": 24,
      "outputs": [
        {
          "output_type": "display_data",
          "data": {
            "image/png": "[encoded data removed]",
            "text/plain": [
              "<Figure size 864x648 with 2 Axes>"
            ]
          },
          "metadata": {
            "tags": [],
            "needs_background": "light"
          }
        }
      ]
    },
    {
      "cell_type": "code",
      "metadata": {
        "id": "6XBMtysqqAm_"
      },
      "source": [
        ""
      ],
      "id": "6XBMtysqqAm_",
      "execution_count": null,
      "outputs": []
    },
    {
      "cell_type": "markdown",
      "metadata": {
        "id": "U64WUa0n-t8a"
      },
      "source": [
        "# 試作使用分類\n",
        "* 教育程度(educd),婚姻狀態(masts),行業別(trdtp)"
      ],
      "id": "U64WUa0n-t8a"
    },
    {
      "cell_type": "markdown",
      "metadata": {
        "id": "U5-Ze7zyB_Ys"
      },
      "source": [
        "# 婚姻狀況\n",
        "* 結論: 在 training data, 效果還算可以達到 0.68，但是在 testing data 中效果不盡理想。\n",
        "* 有些使用者的婚姻狀態有改變，所以需要過濾掉一些(已經透過 BigQuery 進行過濾了)"
      ],
      "id": "U5-Ze7zyB_Ys"
    },
    {
      "cell_type": "code",
      "metadata": {
        "colab": {
          "base_uri": "https://localhost:8080/",
          "height": 470
        },
        "id": "ps4SN1txwDZq",
        "outputId": "de716e0f-e7c3-4bb8-9a01-35ba13196352"
      },
      "source": [
        "y = x_final.masts\n",
        "del x_final['masts']\n",
        "x_final"
      ],
      "id": "ps4SN1txwDZq",
      "execution_count": 27,
      "outputs": [
        {
          "output_type": "execute_result",
          "data": {
            "text/html": [
              "<div>\n",
              "<style scoped>\n",
              "    .dataframe tbody tr th:only-of-type {\n",
              "        vertical-align: middle;\n",
              "    }\n",
              "\n",
              "    .dataframe tbody tr th {\n",
              "        vertical-align: top;\n",
              "    }\n",
              "\n",
              "    .dataframe thead th {\n",
              "        text-align: right;\n",
              "    }\n",
              "</style>\n",
              "<table border=\"1\" class=\"dataframe\">\n",
              "  <thead>\n",
              "    <tr style=\"text-align: right;\">\n",
              "      <th></th>\n",
              "      <th>monin</th>\n",
              "      <th>wrky</th>\n",
              "      <th>first_mob</th>\n",
              "      <th>cycam</th>\n",
              "      <th>slam</th>\n",
              "      <th>sum_area_c</th>\n",
              "      <th>sum_u2_ind</th>\n",
              "      <th>sum_u3_ind</th>\n",
              "      <th>sum_u4_ind</th>\n",
              "      <th>sum_l2_ind</th>\n",
              "      <th>sum_l3_ind</th>\n",
              "      <th>sum_l4_ind</th>\n",
              "      <th>constant_area_c</th>\n",
              "      <th>constant_u2_ind</th>\n",
              "      <th>constant_u3_ind</th>\n",
              "      <th>constant_u4_ind</th>\n",
              "      <th>constant_l2_ind</th>\n",
              "      <th>constant_l3_ind</th>\n",
              "      <th>constant_l4_ind</th>\n",
              "      <th>constant_change</th>\n",
              "      <th>growth_rate</th>\n",
              "      <th>monotone_up</th>\n",
              "      <th>monotone_down</th>\n",
              "      <th>objam</th>\n",
              "    </tr>\n",
              "    <tr>\n",
              "      <th>chid</th>\n",
              "      <th></th>\n",
              "      <th></th>\n",
              "      <th></th>\n",
              "      <th></th>\n",
              "      <th></th>\n",
              "      <th></th>\n",
              "      <th></th>\n",
              "      <th></th>\n",
              "      <th></th>\n",
              "      <th></th>\n",
              "      <th></th>\n",
              "      <th></th>\n",
              "      <th></th>\n",
              "      <th></th>\n",
              "      <th></th>\n",
              "      <th></th>\n",
              "      <th></th>\n",
              "      <th></th>\n",
              "      <th></th>\n",
              "      <th></th>\n",
              "      <th></th>\n",
              "      <th></th>\n",
              "      <th></th>\n",
              "      <th></th>\n",
              "    </tr>\n",
              "  </thead>\n",
              "  <tbody>\n",
              "    <tr>\n",
              "      <th>0</th>\n",
              "      <td>0.704341</td>\n",
              "      <td>0.000000</td>\n",
              "      <td>0.637540</td>\n",
              "      <td>0.905735</td>\n",
              "      <td>0.893002</td>\n",
              "      <td>0.481481</td>\n",
              "      <td>0.363636</td>\n",
              "      <td>0.235294</td>\n",
              "      <td>0.142857</td>\n",
              "      <td>0.392857</td>\n",
              "      <td>0.0000</td>\n",
              "      <td>0.000000</td>\n",
              "      <td>0.296296</td>\n",
              "      <td>0.200000</td>\n",
              "      <td>0.000000</td>\n",
              "      <td>0.028571</td>\n",
              "      <td>0.130435</td>\n",
              "      <td>0.000000</td>\n",
              "      <td>0.0</td>\n",
              "      <td>0.037037</td>\n",
              "      <td>0.308077</td>\n",
              "      <td>0.176471</td>\n",
              "      <td>0.166667</td>\n",
              "      <td>0.742054</td>\n",
              "    </tr>\n",
              "    <tr>\n",
              "      <th>1</th>\n",
              "      <td>0.659175</td>\n",
              "      <td>0.062016</td>\n",
              "      <td>0.339806</td>\n",
              "      <td>0.814328</td>\n",
              "      <td>0.800640</td>\n",
              "      <td>0.314815</td>\n",
              "      <td>0.090909</td>\n",
              "      <td>0.235294</td>\n",
              "      <td>0.457143</td>\n",
              "      <td>0.535714</td>\n",
              "      <td>0.0000</td>\n",
              "      <td>0.000000</td>\n",
              "      <td>0.037037</td>\n",
              "      <td>0.000000</td>\n",
              "      <td>0.090909</td>\n",
              "      <td>0.400000</td>\n",
              "      <td>0.347826</td>\n",
              "      <td>0.000000</td>\n",
              "      <td>0.0</td>\n",
              "      <td>0.000000</td>\n",
              "      <td>0.308086</td>\n",
              "      <td>0.029412</td>\n",
              "      <td>0.592593</td>\n",
              "      <td>0.684400</td>\n",
              "    </tr>\n",
              "    <tr>\n",
              "      <th>2</th>\n",
              "      <td>0.568249</td>\n",
              "      <td>0.000000</td>\n",
              "      <td>0.165049</td>\n",
              "      <td>0.811471</td>\n",
              "      <td>0.803319</td>\n",
              "      <td>0.518519</td>\n",
              "      <td>0.409091</td>\n",
              "      <td>0.294118</td>\n",
              "      <td>0.000000</td>\n",
              "      <td>0.250000</td>\n",
              "      <td>0.2500</td>\n",
              "      <td>0.043478</td>\n",
              "      <td>0.277778</td>\n",
              "      <td>0.066667</td>\n",
              "      <td>0.272727</td>\n",
              "      <td>0.000000</td>\n",
              "      <td>0.086957</td>\n",
              "      <td>0.153846</td>\n",
              "      <td>0.0</td>\n",
              "      <td>0.037037</td>\n",
              "      <td>0.308076</td>\n",
              "      <td>0.176471</td>\n",
              "      <td>0.203704</td>\n",
              "      <td>0.544789</td>\n",
              "    </tr>\n",
              "    <tr>\n",
              "      <th>3</th>\n",
              "      <td>0.629559</td>\n",
              "      <td>0.036822</td>\n",
              "      <td>0.009709</td>\n",
              "      <td>0.770873</td>\n",
              "      <td>0.757915</td>\n",
              "      <td>0.000000</td>\n",
              "      <td>0.000000</td>\n",
              "      <td>0.000000</td>\n",
              "      <td>0.000000</td>\n",
              "      <td>0.000000</td>\n",
              "      <td>0.0000</td>\n",
              "      <td>0.000000</td>\n",
              "      <td>0.000000</td>\n",
              "      <td>0.000000</td>\n",
              "      <td>0.000000</td>\n",
              "      <td>0.000000</td>\n",
              "      <td>0.000000</td>\n",
              "      <td>0.000000</td>\n",
              "      <td>0.0</td>\n",
              "      <td>0.000000</td>\n",
              "      <td>0.308047</td>\n",
              "      <td>0.000000</td>\n",
              "      <td>0.000000</td>\n",
              "      <td>0.000000</td>\n",
              "    </tr>\n",
              "    <tr>\n",
              "      <th>4</th>\n",
              "      <td>0.634234</td>\n",
              "      <td>0.000000</td>\n",
              "      <td>0.760518</td>\n",
              "      <td>0.811471</td>\n",
              "      <td>0.812939</td>\n",
              "      <td>0.333333</td>\n",
              "      <td>0.181818</td>\n",
              "      <td>0.235294</td>\n",
              "      <td>0.057143</td>\n",
              "      <td>0.285714</td>\n",
              "      <td>0.0000</td>\n",
              "      <td>0.000000</td>\n",
              "      <td>0.092593</td>\n",
              "      <td>0.066667</td>\n",
              "      <td>0.000000</td>\n",
              "      <td>0.000000</td>\n",
              "      <td>0.260870</td>\n",
              "      <td>0.000000</td>\n",
              "      <td>0.0</td>\n",
              "      <td>0.000000</td>\n",
              "      <td>0.308071</td>\n",
              "      <td>0.058824</td>\n",
              "      <td>0.407407</td>\n",
              "      <td>0.550007</td>\n",
              "    </tr>\n",
              "    <tr>\n",
              "      <th>...</th>\n",
              "      <td>...</td>\n",
              "      <td>...</td>\n",
              "      <td>...</td>\n",
              "      <td>...</td>\n",
              "      <td>...</td>\n",
              "      <td>...</td>\n",
              "      <td>...</td>\n",
              "      <td>...</td>\n",
              "      <td>...</td>\n",
              "      <td>...</td>\n",
              "      <td>...</td>\n",
              "      <td>...</td>\n",
              "      <td>...</td>\n",
              "      <td>...</td>\n",
              "      <td>...</td>\n",
              "      <td>...</td>\n",
              "      <td>...</td>\n",
              "      <td>...</td>\n",
              "      <td>...</td>\n",
              "      <td>...</td>\n",
              "      <td>...</td>\n",
              "      <td>...</td>\n",
              "      <td>...</td>\n",
              "      <td>...</td>\n",
              "    </tr>\n",
              "    <tr>\n",
              "      <th>49995</th>\n",
              "      <td>0.617691</td>\n",
              "      <td>0.000000</td>\n",
              "      <td>0.708738</td>\n",
              "      <td>0.794621</td>\n",
              "      <td>0.781264</td>\n",
              "      <td>0.111111</td>\n",
              "      <td>0.000000</td>\n",
              "      <td>0.000000</td>\n",
              "      <td>0.000000</td>\n",
              "      <td>0.000000</td>\n",
              "      <td>0.0000</td>\n",
              "      <td>0.000000</td>\n",
              "      <td>0.111111</td>\n",
              "      <td>0.000000</td>\n",
              "      <td>0.000000</td>\n",
              "      <td>0.000000</td>\n",
              "      <td>0.000000</td>\n",
              "      <td>0.000000</td>\n",
              "      <td>0.0</td>\n",
              "      <td>0.000000</td>\n",
              "      <td>0.308051</td>\n",
              "      <td>0.029412</td>\n",
              "      <td>0.000000</td>\n",
              "      <td>0.529950</td>\n",
              "    </tr>\n",
              "    <tr>\n",
              "      <th>49996</th>\n",
              "      <td>0.621851</td>\n",
              "      <td>0.000000</td>\n",
              "      <td>0.734628</td>\n",
              "      <td>0.822149</td>\n",
              "      <td>0.821179</td>\n",
              "      <td>0.796296</td>\n",
              "      <td>0.227273</td>\n",
              "      <td>0.000000</td>\n",
              "      <td>0.000000</td>\n",
              "      <td>0.214286</td>\n",
              "      <td>0.0000</td>\n",
              "      <td>0.000000</td>\n",
              "      <td>0.574074</td>\n",
              "      <td>0.200000</td>\n",
              "      <td>0.000000</td>\n",
              "      <td>0.000000</td>\n",
              "      <td>0.260870</td>\n",
              "      <td>0.000000</td>\n",
              "      <td>0.0</td>\n",
              "      <td>0.000000</td>\n",
              "      <td>0.308071</td>\n",
              "      <td>0.000000</td>\n",
              "      <td>0.518519</td>\n",
              "      <td>0.661507</td>\n",
              "    </tr>\n",
              "    <tr>\n",
              "      <th>49997</th>\n",
              "      <td>0.632783</td>\n",
              "      <td>0.050388</td>\n",
              "      <td>0.016181</td>\n",
              "      <td>0.808466</td>\n",
              "      <td>0.806953</td>\n",
              "      <td>0.370370</td>\n",
              "      <td>0.090909</td>\n",
              "      <td>0.000000</td>\n",
              "      <td>0.114286</td>\n",
              "      <td>0.250000</td>\n",
              "      <td>0.1875</td>\n",
              "      <td>0.000000</td>\n",
              "      <td>0.296296</td>\n",
              "      <td>0.000000</td>\n",
              "      <td>0.000000</td>\n",
              "      <td>0.114286</td>\n",
              "      <td>0.000000</td>\n",
              "      <td>0.230769</td>\n",
              "      <td>0.0</td>\n",
              "      <td>0.018519</td>\n",
              "      <td>0.308079</td>\n",
              "      <td>0.058824</td>\n",
              "      <td>0.425926</td>\n",
              "      <td>0.600190</td>\n",
              "    </tr>\n",
              "    <tr>\n",
              "      <th>49998</th>\n",
              "      <td>0.622233</td>\n",
              "      <td>0.000000</td>\n",
              "      <td>0.631068</td>\n",
              "      <td>0.786240</td>\n",
              "      <td>0.773023</td>\n",
              "      <td>0.240741</td>\n",
              "      <td>0.000000</td>\n",
              "      <td>0.000000</td>\n",
              "      <td>0.200000</td>\n",
              "      <td>0.142857</td>\n",
              "      <td>0.0000</td>\n",
              "      <td>0.000000</td>\n",
              "      <td>0.111111</td>\n",
              "      <td>0.000000</td>\n",
              "      <td>0.000000</td>\n",
              "      <td>0.200000</td>\n",
              "      <td>0.173913</td>\n",
              "      <td>0.000000</td>\n",
              "      <td>0.0</td>\n",
              "      <td>0.018519</td>\n",
              "      <td>0.308542</td>\n",
              "      <td>0.029412</td>\n",
              "      <td>0.259259</td>\n",
              "      <td>0.656669</td>\n",
              "    </tr>\n",
              "    <tr>\n",
              "      <th>49999</th>\n",
              "      <td>0.652527</td>\n",
              "      <td>0.021318</td>\n",
              "      <td>0.242718</td>\n",
              "      <td>0.767525</td>\n",
              "      <td>0.761331</td>\n",
              "      <td>0.537037</td>\n",
              "      <td>0.318182</td>\n",
              "      <td>0.411765</td>\n",
              "      <td>0.228571</td>\n",
              "      <td>0.107143</td>\n",
              "      <td>0.0000</td>\n",
              "      <td>0.000000</td>\n",
              "      <td>0.425926</td>\n",
              "      <td>0.133333</td>\n",
              "      <td>0.181818</td>\n",
              "      <td>0.114286</td>\n",
              "      <td>0.000000</td>\n",
              "      <td>0.000000</td>\n",
              "      <td>0.0</td>\n",
              "      <td>0.018519</td>\n",
              "      <td>0.308084</td>\n",
              "      <td>0.205882</td>\n",
              "      <td>0.203704</td>\n",
              "      <td>0.607061</td>\n",
              "    </tr>\n",
              "  </tbody>\n",
              "</table>\n",
              "<p>49876 rows × 24 columns</p>\n",
              "</div>"
            ],
            "text/plain": [
              "          monin      wrky  first_mob  ...  monotone_up  monotone_down     objam\n",
              "chid                                  ...                                      \n",
              "0      0.704341  0.000000   0.637540  ...     0.176471       0.166667  0.742054\n",
              "1      0.659175  0.062016   0.339806  ...     0.029412       0.592593  0.684400\n",
              "2      0.568249  0.000000   0.165049  ...     0.176471       0.203704  0.544789\n",
              "3      0.629559  0.036822   0.009709  ...     0.000000       0.000000  0.000000\n",
              "4      0.634234  0.000000   0.760518  ...     0.058824       0.407407  0.550007\n",
              "...         ...       ...        ...  ...          ...            ...       ...\n",
              "49995  0.617691  0.000000   0.708738  ...     0.029412       0.000000  0.529950\n",
              "49996  0.621851  0.000000   0.734628  ...     0.000000       0.518519  0.661507\n",
              "49997  0.632783  0.050388   0.016181  ...     0.058824       0.425926  0.600190\n",
              "49998  0.622233  0.000000   0.631068  ...     0.029412       0.259259  0.656669\n",
              "49999  0.652527  0.021318   0.242718  ...     0.205882       0.203704  0.607061\n",
              "\n",
              "[49876 rows x 24 columns]"
            ]
          },
          "metadata": {
            "tags": []
          },
          "execution_count": 27
        }
      ]
    },
    {
      "cell_type": "code",
      "metadata": {
        "id": "eEBvDXnhyLQ3"
      },
      "source": [
        ""
      ],
      "id": "eEBvDXnhyLQ3",
      "execution_count": null,
      "outputs": []
    },
    {
      "cell_type": "markdown",
      "metadata": {
        "id": "pB7gJMdSyLym"
      },
      "source": [
        "## Train Test Split"
      ],
      "id": "pB7gJMdSyLym"
    },
    {
      "cell_type": "code",
      "metadata": {
        "id": "lIV4kT_xySdE"
      },
      "source": [
        "from sklearn.model_selection import train_test_split\n"
      ],
      "id": "lIV4kT_xySdE",
      "execution_count": 39,
      "outputs": []
    },
    {
      "cell_type": "code",
      "metadata": {
        "id": "CHornHZyySbF"
      },
      "source": [
        "X_train, X_test, y_train, y_test = train_test_split(\n",
        "    x_final, y, test_size=0.33, random_state=42)"
      ],
      "id": "CHornHZyySbF",
      "execution_count": 40,
      "outputs": []
    },
    {
      "cell_type": "code",
      "metadata": {
        "id": "Gs1FGVjoySQ8"
      },
      "source": [
        ""
      ],
      "id": "Gs1FGVjoySQ8",
      "execution_count": null,
      "outputs": []
    },
    {
      "cell_type": "markdown",
      "metadata": {
        "id": "oxU87txmlpZ0"
      },
      "source": [
        "## Retain those rows which masts status is 1 and 3 "
      ],
      "id": "oxU87txmlpZ0"
    },
    {
      "cell_type": "code",
      "metadata": {
        "id": "kjmnXaQPzpaL",
        "colab": {
          "base_uri": "https://localhost:8080/"
        },
        "outputId": "ecc51a49-22f7-4c2d-d238-c60f64bfd34c"
      },
      "source": [
        "# 利用 chi squre 找出好的 feature\n",
        "k=5\n",
        "from sklearn.feature_selection import SelectKBest\n",
        "from sklearn.feature_selection import chi2\n",
        "selector = SelectKBest(chi2, k=k)\n",
        "selector.fit(X_train, y_train)\n",
        "\n",
        "\n",
        "new_cols_set = set()\n",
        "for ci in selector.get_support(indices=True):\n",
        "    # print(x_train_masts.columns[ci])\n",
        "    new_cols_set.add(X_train.columns[ci])\n",
        "new_cols_set"
      ],
      "id": "kjmnXaQPzpaL",
      "execution_count": 42,
      "outputs": [
        {
          "output_type": "execute_result",
          "data": {
            "text/plain": [
              "{'cycam', 'first_mob', 'monin', 'slam', 'wrky'}"
            ]
          },
          "metadata": {
            "tags": []
          },
          "execution_count": 42
        }
      ]
    },
    {
      "cell_type": "code",
      "metadata": {
        "id": "6lFsFPYIthjo"
      },
      "source": [
        "X_train = X_train[new_cols_set]\n",
        "X_test = X_test[new_cols_set]"
      ],
      "id": "6lFsFPYIthjo",
      "execution_count": 45,
      "outputs": []
    },
    {
      "cell_type": "markdown",
      "metadata": {
        "id": "conventional-terminal"
      },
      "source": [
        "## Train Classifier and Evaluation"
      ],
      "id": "conventional-terminal"
    },
    {
      "cell_type": "code",
      "metadata": {
        "id": "changing-regard",
        "colab": {
          "base_uri": "https://localhost:8080/"
        },
        "outputId": "fd6f5c74-8f98-4f6c-b4a8-2c6390307963"
      },
      "source": [
        "print(X_train.shape , y_train.shape)\n",
        "# print(x_test_oh.shape, y_test.shape)"
      ],
      "id": "changing-regard",
      "execution_count": 46,
      "outputs": [
        {
          "output_type": "stream",
          "text": [
            "(33416, 5) (33416,)\n"
          ],
          "name": "stdout"
        }
      ]
    },
    {
      "cell_type": "code",
      "metadata": {
        "colab": {
          "base_uri": "https://localhost:8080/",
          "height": 282
        },
        "id": "pTZiEYicUkv7",
        "outputId": "4d621457-2ec8-4d6b-839d-488d4accd0f1"
      },
      "source": [
        "y_train.hist()"
      ],
      "id": "pTZiEYicUkv7",
      "execution_count": 47,
      "outputs": [
        {
          "output_type": "execute_result",
          "data": {
            "text/plain": [
              "<matplotlib.axes._subplots.AxesSubplot at 0x7fb3f99df470>"
            ]
          },
          "metadata": {
            "tags": []
          },
          "execution_count": 47
        },
        {
          "output_type": "display_data",
          "data": {
            "image/png": "[encoded data removed]",
            "text/plain": [
              "<Figure size 432x288 with 1 Axes>"
            ]
          },
          "metadata": {
            "tags": [],
            "needs_background": "light"
          }
        }
      ]
    },
    {
      "cell_type": "code",
      "metadata": {
        "scrolled": false,
        "id": "swedish-disco",
        "colab": {
          "base_uri": "https://localhost:8080/"
        },
        "outputId": "bb821c23-318e-4e56-e823-79bae4723939"
      },
      "source": [
        "# train classifier\n",
        "t0 = time()\n",
        "# svr = LinearRegression()\n",
        "classifier = LogisticRegression(penalty='l1',solver='saga')\n",
        "classifier.fit(X_train, y_train)\n",
        "t1 = time()\n",
        "\n",
        "print('cost: {:.2f}'.format(t1 - t0))"
      ],
      "id": "swedish-disco",
      "execution_count": 48,
      "outputs": [
        {
          "output_type": "stream",
          "text": [
            "cost: 0.12\n"
          ],
          "name": "stdout"
        }
      ]
    },
    {
      "cell_type": "markdown",
      "metadata": {
        "id": "RZfScj6p2ADz"
      },
      "source": [
        "### Training Data Performance"
      ],
      "id": "RZfScj6p2ADz"
    },
    {
      "cell_type": "code",
      "metadata": {
        "id": "7io1qvYTVQR7",
        "colab": {
          "base_uri": "https://localhost:8080/"
        },
        "outputId": "e7cf5203-28ea-4c10-fd07-b4ef55f9f52b"
      },
      "source": [
        "predict_y = classifier.predict(X_train)\n",
        "predict_y_prb = classifier.predict_proba(X_train)\n",
        "\n",
        "\n",
        "print(\"Select Columns:\",list(new_cols_set))\n",
        "print(\"accuracy_score\", accuracy_score(y_train,predict_y))\n",
        "print(\"confusion_matrix\\n\", confusion_matrix(y_train,predict_y))\n",
        "print(\"roc_auc_score\", roc_auc_score(y_train,predict_y_prb[:,1]))\n",
        "# auc(y_train_masts,predict_y_prb)"
      ],
      "id": "7io1qvYTVQR7",
      "execution_count": 49,
      "outputs": [
        {
          "output_type": "stream",
          "text": [
            "Select Columns: ['monin', 'wrky', 'slam', 'first_mob', 'cycam']\n",
            "accuracy_score 0.6474144122576011\n",
            "confusion_matrix\n",
            " [[14328  5082]\n",
            " [ 6700  7306]]\n",
            "roc_auc_score 0.6836687860939556\n"
          ],
          "name": "stdout"
        }
      ]
    },
    {
      "cell_type": "markdown",
      "metadata": {
        "id": "51_B7QBE2E4W"
      },
      "source": [
        "### Testing Data Performance"
      ],
      "id": "51_B7QBE2E4W"
    },
    {
      "cell_type": "code",
      "metadata": {
        "colab": {
          "base_uri": "https://localhost:8080/"
        },
        "id": "cJTkEpnw2J7M",
        "outputId": "f15a1aae-49f7-4715-9181-9be5d50394f5"
      },
      "source": [
        "predict_y = classifier.predict(X_test)\n",
        "predict_y_prb = classifier.predict_proba(X_test)\n",
        "\n",
        "\n",
        "print(\"Select Columns:\",list(new_cols_set))\n",
        "print(\"accuracy_score\", accuracy_score(y_test,predict_y))\n",
        "print(\"confusion_matrix\\n\", confusion_matrix(y_test,predict_y))\n",
        "print(\"roc_auc_score\", roc_auc_score(y_test,predict_y_prb[:,1]))\n",
        "# auc(y_train_masts,predict_y_prb)"
      ],
      "id": "cJTkEpnw2J7M",
      "execution_count": 50,
      "outputs": [
        {
          "output_type": "stream",
          "text": [
            "Select Columns: ['monin', 'wrky', 'slam', 'first_mob', 'cycam']\n",
            "accuracy_score 0.6481166464155529\n",
            "confusion_matrix\n",
            " [[7039 2530]\n",
            " [3262 3629]]\n",
            "roc_auc_score 0.6822214790210959\n"
          ],
          "name": "stdout"
        }
      ]
    }
  ]
}