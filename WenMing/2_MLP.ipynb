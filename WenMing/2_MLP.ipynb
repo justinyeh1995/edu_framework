{
 "cells": [
  {
   "cell_type": "code",
   "execution_count": 1,
   "id": "arabic-setting",
   "metadata": {},
   "outputs": [],
   "source": [
    "import os\n",
    "import numpy as np\n",
    "import pandas as pd\n",
    "from time import time\n",
    "from tqdm.notebook import tqdm\n",
    "from sklearn.preprocessing import MinMaxScaler"
   ]
  },
  {
   "cell_type": "code",
   "execution_count": 2,
   "id": "hungarian-affect",
   "metadata": {},
   "outputs": [],
   "source": [
    "import copy\n",
    "import torch\n",
    "from torch import nn\n",
    "from model import MLP\n",
    "from torch.utils.data import DataLoader, TensorDataset\n",
    "from sklearn.metrics import mean_squared_error, mean_absolute_error, median_absolute_error"
   ]
  },
  {
   "cell_type": "code",
   "execution_count": 3,
   "id": "yellow-spain",
   "metadata": {},
   "outputs": [],
   "source": [
    "class Trainer:\n",
    "    def __init__(self, model, criterion, optimizer, sparse_feature, device='cpu'):\n",
    "        self.model = model.to(device)\n",
    "        self.criterion = criterion\n",
    "        self.optimizer = optimizer\n",
    "        self.sparse_feature = sparse_feature\n",
    "        self.device = device\n",
    "        \n",
    "    def fit(self, train_loader, test_loader=None, epoch=1, early_stop=-1, eval_type='RMSE', scaler=None):\n",
    "        history = {\n",
    "            'train': [], \n",
    "            'test': []\n",
    "        }\n",
    "        \n",
    "        best_eval = 9e9\n",
    "        early_cnt = 0\n",
    "        best_model_params = copy.deepcopy(self.model.state_dict())\n",
    "        \n",
    "        for ep in tqdm(range(epoch)):\n",
    "            print('Epoch:{}'.format(ep+1))\n",
    "            \n",
    "            for batch in train_loader:\n",
    "                self.model.train()\n",
    "                self.optimizer.zero_grad()\n",
    "                \n",
    "                x_dense, x_sparse, y = [b.to(self.device) for b in batch]\n",
    "                \n",
    "                output = self.model(x_dense, x_sparse, self.sparse_feature)\n",
    "                loss = self.criterion(output, y)\n",
    "\n",
    "                loss.backward()\n",
    "                self.optimizer.step()\n",
    "                \n",
    "            train_result, _, _ = self.evaluate(train_loader, scaler)\n",
    "            history['train'].append(train_result)\n",
    "            print('\\ttrain\\t'+' '.join(['{}:{:.2f}'.format(k, v) for k, v in train_result.items()]))\n",
    "            \n",
    "            if test_loader:\n",
    "                test_result, _, _ = self.evaluate(test_loader, scaler)\n",
    "                history['test'].append(test_result)\n",
    "                print('\\ttest\\t'+' '.join(['{}:{:.2f}'.format(k, v) for k, v in test_result.items()]))\n",
    "\n",
    "                if test_result[eval_type] < best_eval:\n",
    "                    early_cnt = 0\n",
    "                    best_eval = test_result[eval_type]\n",
    "                    best_model_params = copy.deepcopy(self.model.state_dict())\n",
    "                    print('\\tbetter!')\n",
    "\n",
    "                elif early_stop > 0:\n",
    "                    early_cnt += 1\n",
    "\n",
    "            if early_cnt >= early_stop:\n",
    "                break\n",
    "        \n",
    "        self.model.load_state_dict(best_model_params)\n",
    "        \n",
    "        return history\n",
    "        \n",
    "    def evaluate(self, loader, scaler=None):\n",
    "        true_list = []\n",
    "        pred_list = []\n",
    "        \n",
    "        self.model.eval()\n",
    "        for batch in loader:\n",
    "            x_dense, x_sparse, y = [b.to(self.device) for b in batch]\n",
    "            output = self.model(x_dense, x_sparse, self.sparse_feature)\n",
    "            \n",
    "            true_list.append(y.cpu().detach().numpy())\n",
    "            pred_list.append(output.cpu().detach().numpy())\n",
    "        \n",
    "        true_list = np.concatenate(true_list, axis=0)\n",
    "        pred_list = np.concatenate(pred_list, axis=0)\n",
    "        \n",
    "        true_list = np.expm1(scaler.inverse_transform(true_list) if scaler else true_list)\n",
    "        pred_list = np.expm1(scaler.inverse_transform(pred_list) if scaler else pred_list)\n",
    "        \n",
    "        result = {\n",
    "            'RMSE': mean_squared_error(true_list, pred_list, squared=False), \n",
    "            'MAE(mean)': mean_absolute_error(true_list, pred_list), \n",
    "            'MAE(median)': median_absolute_error(true_list, pred_list)\n",
    "        }\n",
    "        \n",
    "        return result, true_list, pred_list"
   ]
  },
  {
   "cell_type": "code",
   "execution_count": 4,
   "id": "cellular-frederick",
   "metadata": {},
   "outputs": [
    {
     "name": "stdout",
     "output_type": "stream",
     "text": [
      "(450000, 31) (100000, 31) (450000, 1) (100000, 1) 50000 [('masts', 4), ('educd', 7), ('naty', 3), ('trdtp', 28), ('poscd', 10), ('cuorg', 31)]\n"
     ]
    }
   ],
   "source": [
    "sample_path = './data/sample_50k'\n",
    "\n",
    "x_train = pd.read_csv(os.path.join(sample_path, 'Normal', 'x_train.csv'), encoding='utf-8').values\n",
    "x_test = pd.read_csv(os.path.join(sample_path, 'Normal', 'x_test.csv'), encoding='utf-8').values\n",
    "y_train = pd.read_csv(os.path.join(sample_path, 'Normal', 'y_train.csv'), encoding='utf-8').values\n",
    "y_test = pd.read_csv(os.path.join(sample_path, 'Normal', 'y_test.csv'), encoding='utf-8').values\n",
    "\n",
    "chid_mapper = np.load(os.path.join(sample_path, 'sample_idx_map.npy'), allow_pickle=True).item()\n",
    "feat_mapper = np.load(os.path.join(sample_path, 'Normal', 'feature_map.npy'), allow_pickle=True).item()\n",
    "feature = np.load(os.path.join(sample_path, 'Normal', 'feature.npy'), allow_pickle=True).item()\n",
    "\n",
    "category_cols = feature['category_columns']\n",
    "numeric_cols = feature['numeric_columns']\n",
    "\n",
    "print(x_train.shape, x_test.shape, y_train.shape, y_test.shape, len(chid_mapper), [(k, len(v)) for k, v in feat_mapper.items()])"
   ]
  },
  {
   "cell_type": "code",
   "execution_count": 5,
   "id": "congressional-throat",
   "metadata": {},
   "outputs": [],
   "source": [
    "sparse_feat = category_cols\n",
    "dense_feat = numeric_cols"
   ]
  },
  {
   "cell_type": "code",
   "execution_count": 6,
   "id": "blocked-feature",
   "metadata": {},
   "outputs": [
    {
     "name": "stdout",
     "output_type": "stream",
     "text": [
      "24\n",
      "[('chid', 50001, 64), ('masts', 5, 4), ('educd', 8, 4), ('naty', 4, 4), ('trdtp', 29, 4), ('poscd', 11, 4), ('cuorg', 32, 4)]\n"
     ]
    }
   ],
   "source": [
    "USE_CHID = True\n",
    "idx_start = 1-int(USE_CHID)\n",
    "\n",
    "chid_embed_dim = 64\n",
    "feat_embed_dim = 4\n",
    "\n",
    "dense_dims = len(dense_feat) # number of dense feature\n",
    "feat_dims = np.array([len(chid_mapper)] + [len(v) for v in feat_mapper.values()])+1 # 0 is padding index, so add 1 dims\n",
    "embed_dims = [chid_embed_dim]+[feat_embed_dim]*len(feat_mapper) # dims of chid and other sparse feature\n",
    "\n",
    "sparse_dims = [(sf, fd, ed) for sf, fd, ed in zip(sparse_feat[idx_start:], feat_dims[idx_start:], embed_dims[idx_start:])]\n",
    "\n",
    "print(dense_dims)\n",
    "print(sparse_dims)"
   ]
  },
  {
   "cell_type": "code",
   "execution_count": 7,
   "id": "insured-berkeley",
   "metadata": {},
   "outputs": [],
   "source": [
    "# x_data\n",
    "x_scaler = MinMaxScaler(feature_range=(0, 1))\n",
    "\n",
    "x_train_dense = x_train[:, len(sparse_feat):] # split dense feature\n",
    "x_train_sparse = x_train[:, idx_start:len(sparse_feat)] # split sparse feature\n",
    "\n",
    "x_train_dense = np.log1p(x_train_dense - x_train_dense.min(axis=0))\n",
    "x_train_dense = x_scaler.fit_transform(x_train_dense)\n",
    "\n",
    "x_test_dense = x_test[:, len(sparse_feat):]\n",
    "x_test_sparse = x_test[:, idx_start:len(sparse_feat)]\n",
    "\n",
    "x_test_dense = np.log1p(x_test_dense - x_test_dense.min(axis=0))\n",
    "x_test_dense = x_scaler.transform(x_test_dense)"
   ]
  },
  {
   "cell_type": "code",
   "execution_count": 8,
   "id": "simple-preservation",
   "metadata": {},
   "outputs": [],
   "source": [
    "# y_data\n",
    "USE_YMINMAX = False\n",
    "y_scaler = None\n",
    "\n",
    "y_train = np.log1p(y_train)\n",
    "y_test = np.log1p(y_test)\n",
    "\n",
    "if USE_YMINMAX:\n",
    "    y_scaler = MinMaxScaler(feature_range=(0, 1))\n",
    "    y_train = y_scaler.fit_transform(y_train)\n",
    "    y_test = y_scaler.transform(y_test)"
   ]
  },
  {
   "cell_type": "code",
   "execution_count": 9,
   "id": "changing-regard",
   "metadata": {},
   "outputs": [
    {
     "name": "stdout",
     "output_type": "stream",
     "text": [
      "(450000, 24) (450000, 7) (450000, 1)\n",
      "(100000, 24) (100000, 7) (100000, 1)\n"
     ]
    }
   ],
   "source": [
    "print(x_train_dense.shape, x_train_sparse.shape, y_train.shape)\n",
    "print(x_test_dense.shape, x_test_sparse.shape, y_test.shape)"
   ]
  },
  {
   "cell_type": "code",
   "execution_count": 10,
   "id": "cellular-valuable",
   "metadata": {},
   "outputs": [],
   "source": [
    "batch_size = 2048\n",
    "\n",
    "train_dataset = TensorDataset(torch.FloatTensor(x_train_dense), torch.LongTensor(x_train_sparse), \n",
    "                              torch.FloatTensor(y_train))\n",
    "train_loader = DataLoader(dataset=train_dataset, shuffle=True, batch_size=batch_size, num_workers=8)\n",
    "\n",
    "test_dataset = TensorDataset(torch.FloatTensor(x_test_dense), torch.LongTensor(x_test_sparse), \n",
    "                             torch.FloatTensor(y_test))\n",
    "test_loader = DataLoader(dataset=test_dataset, shuffle=False, batch_size=batch_size, num_workers=8)"
   ]
  },
  {
   "cell_type": "code",
   "execution_count": 11,
   "id": "disciplinary-tribune",
   "metadata": {},
   "outputs": [
    {
     "data": {
      "text/plain": [
       "MLP(\n",
       "  (embedding_dict): ModuleDict(\n",
       "    (chid): Embedding(50001, 64, padding_idx=0)\n",
       "    (masts): Embedding(5, 4, padding_idx=0)\n",
       "    (educd): Embedding(8, 4, padding_idx=0)\n",
       "    (naty): Embedding(4, 4, padding_idx=0)\n",
       "    (trdtp): Embedding(29, 4, padding_idx=0)\n",
       "    (poscd): Embedding(11, 4, padding_idx=0)\n",
       "    (cuorg): Embedding(32, 4, padding_idx=0)\n",
       "  )\n",
       "  (layers): Sequential(\n",
       "    (0): Sequential(\n",
       "      (0): Linear(in_features=112, out_features=256, bias=True)\n",
       "      (1): ReLU()\n",
       "    )\n",
       "    (1): Sequential(\n",
       "      (0): Linear(in_features=256, out_features=128, bias=True)\n",
       "      (1): ReLU()\n",
       "    )\n",
       "  )\n",
       "  (out_layer): Linear(in_features=128, out_features=1, bias=True)\n",
       ")"
      ]
     },
     "execution_count": 11,
     "metadata": {},
     "output_type": "execute_result"
    }
   ],
   "source": [
    "device = torch.device('cuda' if torch.cuda.is_available() else 'cpu')\n",
    "model = MLP(dense_dims, sparse_dims, hidden_dims=[256, 128], out_dim=1)\n",
    "optimizer = torch.optim.Adam(model.parameters(), lr=1e-3)\n",
    "\n",
    "model"
   ]
  },
  {
   "cell_type": "code",
   "execution_count": 12,
   "id": "brief-producer",
   "metadata": {},
   "outputs": [],
   "source": [
    "USE_PRETRAINED = False\n",
    "if USE_CHID and USE_PRETRAINED:\n",
    "    embed = np.load(os.path.join(sample_path, 'embedding/node2vec_50k_0112.npy'), allow_pickle=True)\n",
    "    embed = torch.from_numpy(embed[:50000])\n",
    "    model.embedding_dict['chid'].weight.data.copy_(embed)"
   ]
  },
  {
   "cell_type": "code",
   "execution_count": 13,
   "id": "swedish-disco",
   "metadata": {
    "scrolled": false
   },
   "outputs": [
    {
     "data": {
      "application/vnd.jupyter.widget-view+json": {
       "model_id": "cd50ce70f86d47a0986854a8a3b5cfa5",
       "version_major": 2,
       "version_minor": 0
      },
      "text/plain": [
       "HBox(children=(HTML(value=''), FloatProgress(value=0.0, max=200.0), HTML(value='')))"
      ]
     },
     "metadata": {},
     "output_type": "display_data"
    },
    {
     "name": "stdout",
     "output_type": "stream",
     "text": [
      "Epoch:1\n",
      "\ttrain\tRMSE:396562.03 MAE(mean):61339.64 MAE(median):11180.72\n",
      "\ttest\tRMSE:421870.59 MAE(mean):68747.68 MAE(median):11968.17\n",
      "\tbetter!\n",
      "Epoch:2\n",
      "\ttrain\tRMSE:393271.81 MAE(mean):58011.42 MAE(median):10530.70\n",
      "\ttest\tRMSE:417894.16 MAE(mean):64473.21 MAE(median):11090.81\n",
      "\tbetter!\n",
      "Epoch:3\n",
      "\ttrain\tRMSE:391272.31 MAE(mean):57033.61 MAE(median):10367.68\n",
      "\ttest\tRMSE:414993.62 MAE(mean):63390.59 MAE(median):11262.20\n",
      "\tbetter!\n",
      "Epoch:4\n",
      "\ttrain\tRMSE:390509.59 MAE(mean):56484.78 MAE(median):10033.64\n",
      "\ttest\tRMSE:415814.88 MAE(mean):63858.77 MAE(median):11314.78\n",
      "Epoch:5\n",
      "\ttrain\tRMSE:390084.19 MAE(mean):55258.61 MAE(median):9506.95\n",
      "\ttest\tRMSE:415427.28 MAE(mean):63991.19 MAE(median):11339.36\n",
      "Epoch:6\n",
      "\ttrain\tRMSE:385473.88 MAE(mean):53869.76 MAE(median):9559.01\n",
      "\ttest\tRMSE:412762.62 MAE(mean):66188.11 MAE(median):12610.99\n",
      "\tbetter!\n",
      "Epoch:7\n",
      "\ttrain\tRMSE:383970.44 MAE(mean):51294.81 MAE(median):8883.16\n",
      "\ttest\tRMSE:406112.69 MAE(mean):62156.77 MAE(median):12042.07\n",
      "\tbetter!\n",
      "Epoch:8\n",
      "\ttrain\tRMSE:382254.19 MAE(mean):50375.54 MAE(median):8331.28\n",
      "\ttest\tRMSE:406506.50 MAE(mean):59813.21 MAE(median):11095.02\n",
      "Epoch:9\n",
      "\ttrain\tRMSE:379065.09 MAE(mean):50189.37 MAE(median):9337.53\n",
      "\ttest\tRMSE:403027.84 MAE(mean):64605.67 MAE(median):13620.22\n",
      "\tbetter!\n",
      "Epoch:10\n",
      "\ttrain\tRMSE:375277.34 MAE(mean):49064.23 MAE(median):8941.62\n",
      "\ttest\tRMSE:402868.34 MAE(mean):62697.41 MAE(median):13216.04\n",
      "\tbetter!\n",
      "Epoch:11\n",
      "\ttrain\tRMSE:377154.69 MAE(mean):48846.88 MAE(median):8487.02\n",
      "\ttest\tRMSE:401726.22 MAE(mean):60680.23 MAE(median):12071.53\n",
      "\tbetter!\n",
      "Epoch:12\n",
      "\ttrain\tRMSE:375742.66 MAE(mean):48506.37 MAE(median):8275.13\n",
      "\ttest\tRMSE:403520.19 MAE(mean):60247.18 MAE(median):11760.71\n",
      "Epoch:13\n",
      "\ttrain\tRMSE:372050.28 MAE(mean):48961.65 MAE(median):8978.55\n",
      "\ttest\tRMSE:407287.03 MAE(mean):63751.37 MAE(median):13313.59\n",
      "Epoch:14\n",
      "\ttrain\tRMSE:373913.22 MAE(mean):48663.44 MAE(median):8642.68\n",
      "\ttest\tRMSE:403335.81 MAE(mean):62256.78 MAE(median):12779.23\n",
      "Epoch:15\n",
      "\ttrain\tRMSE:371882.03 MAE(mean):48514.00 MAE(median):8817.10\n",
      "\ttest\tRMSE:406245.69 MAE(mean):63423.59 MAE(median):13179.49\n",
      "Epoch:16\n",
      "\ttrain\tRMSE:376118.81 MAE(mean):48110.98 MAE(median):8053.69\n",
      "\ttest\tRMSE:404869.69 MAE(mean):59828.50 MAE(median):11554.98\n",
      "Epoch:17\n",
      "\ttrain\tRMSE:374972.66 MAE(mean):47902.30 MAE(median):7944.37\n",
      "\ttest\tRMSE:406560.12 MAE(mean):59446.03 MAE(median):11477.04\n",
      "Epoch:18\n",
      "\ttrain\tRMSE:373978.78 MAE(mean):47620.88 MAE(median):8017.65\n",
      "\ttest\tRMSE:403473.53 MAE(mean):59966.03 MAE(median):11716.59\n",
      "Epoch:19\n",
      "\ttrain\tRMSE:372147.44 MAE(mean):47616.43 MAE(median):8129.19\n",
      "\ttest\tRMSE:406167.66 MAE(mean):60728.23 MAE(median):12050.52\n",
      "Epoch:20\n",
      "\ttrain\tRMSE:370831.94 MAE(mean):47813.50 MAE(median):8606.65\n",
      "\ttest\tRMSE:404991.28 MAE(mean):62766.73 MAE(median):13020.32\n",
      "Epoch:21\n",
      "\ttrain\tRMSE:374163.81 MAE(mean):47622.27 MAE(median):7997.42\n",
      "\ttest\tRMSE:403253.84 MAE(mean):60364.70 MAE(median):11711.79\n",
      "Epoch:22\n",
      "\ttrain\tRMSE:372765.22 MAE(mean):47478.50 MAE(median):8298.90\n",
      "\ttest\tRMSE:405972.22 MAE(mean):62055.62 MAE(median):12810.24\n",
      "Epoch:23\n",
      "\ttrain\tRMSE:370345.72 MAE(mean):49464.77 MAE(median):9570.37\n",
      "\ttest\tRMSE:409424.94 MAE(mean):68478.85 MAE(median):15017.88\n",
      "Epoch:24\n",
      "\ttrain\tRMSE:373097.38 MAE(mean):47405.85 MAE(median):7994.69\n",
      "\ttest\tRMSE:406023.38 MAE(mean):61455.73 MAE(median):12161.96\n",
      "Epoch:25\n",
      "\ttrain\tRMSE:370283.84 MAE(mean):47891.51 MAE(median):8695.63\n",
      "\ttest\tRMSE:405234.75 MAE(mean):65306.51 MAE(median):13704.82\n",
      "Epoch:26\n",
      "\ttrain\tRMSE:373727.16 MAE(mean):47527.16 MAE(median):7599.55\n",
      "\ttest\tRMSE:405624.19 MAE(mean):60445.40 MAE(median):11239.08\n",
      "Epoch:27\n",
      "\ttrain\tRMSE:370649.50 MAE(mean):46726.39 MAE(median):7914.04\n",
      "\ttest\tRMSE:407809.47 MAE(mean):62861.62 MAE(median):12562.44\n",
      "Epoch:28\n",
      "\ttrain\tRMSE:370263.50 MAE(mean):46526.99 MAE(median):7802.22\n",
      "\ttest\tRMSE:406891.91 MAE(mean):62958.09 MAE(median):12554.80\n",
      "Epoch:29\n",
      "\ttrain\tRMSE:368307.75 MAE(mean):46525.37 MAE(median):7971.01\n",
      "\ttest\tRMSE:408224.00 MAE(mean):64714.38 MAE(median):13128.04\n",
      "Epoch:30\n",
      "\ttrain\tRMSE:367309.41 MAE(mean):46833.68 MAE(median):8286.48\n",
      "\ttest\tRMSE:412291.25 MAE(mean):66566.38 MAE(median):13943.15\n",
      "Epoch:31\n",
      "\ttrain\tRMSE:367324.72 MAE(mean):46604.85 MAE(median):8093.84\n",
      "\ttest\tRMSE:411800.12 MAE(mean):66852.95 MAE(median):13792.11\n",
      "\n",
      "cost: 948.13\n"
     ]
    }
   ],
   "source": [
    "TRAIN_TYPE = [('RMSE', nn.MSELoss()), \n",
    "              ('MAE(mean)', nn.L1Loss())]\n",
    "eval_type, criterion = TRAIN_TYPE[0]\n",
    "\n",
    "t0 = time()\n",
    "trainer = Trainer(model, criterion, optimizer, sparse_feat, device)\n",
    "history = trainer.fit(train_loader, test_loader, epoch=200, early_stop=20, eval_type=eval_type, scaler=y_scaler)\n",
    "t1 = time()\n",
    "\n",
    "print('cost: {:.2f}'.format(t1 - t0))"
   ]
  },
  {
   "cell_type": "code",
   "execution_count": 14,
   "id": "compatible-plaintiff",
   "metadata": {},
   "outputs": [
    {
     "name": "stdout",
     "output_type": "stream",
     "text": [
      "train\tRMSE:377154.69 MAE(mean):48846.88 MAE(median):8487.02\n",
      "test\tRMSE:401726.22 MAE(mean):60680.23 MAE(median):12071.53\n"
     ]
    }
   ],
   "source": [
    "train_result, train_true_list, train_pred_list = trainer.evaluate(train_loader, scaler=y_scaler)\n",
    "test_result, test_true_list, test_pred_list = trainer.evaluate(test_loader, scaler=y_scaler)\n",
    "\n",
    "print('train\\t'+' '.join(['{}:{:.2f}'.format(k, v) for k, v in train_result.items()]))\n",
    "print('test\\t'+' '.join(['{}:{:.2f}'.format(k, v) for k, v in test_result.items()]))"
   ]
  },
  {
   "cell_type": "code",
   "execution_count": 15,
   "id": "particular-dividend",
   "metadata": {},
   "outputs": [
    {
     "data": {
      "image/png": "[encoded data removed]",
      "text/plain": [
       "<Figure size 1152x432 with 2 Axes>"
      ]
     },
     "metadata": {},
     "output_type": "display_data"
    }
   ],
   "source": [
    "%matplotlib inline\n",
    "import matplotlib.pyplot as plt\n",
    "import seaborn as sns\n",
    "\n",
    "with sns.axes_style(\"darkgrid\"):\n",
    "    fig, axes = plt.subplots(1, 2, figsize=(16, 6), sharey=True, sharex=True)\n",
    "    fig.suptitle('')\n",
    "    \n",
    "    sns.histplot(ax=axes[0], x=test_true_list.flatten(), kde=True, element='step', stat='probability')\n",
    "    sns.histplot(ax=axes[1], x=test_pred_list.flatten(), kde=True, element='step', stat='probability')\n",
    "    axes[0].set_title('True')\n",
    "    axes[1].set_title('Pred')\n",
    "    plt.show()"
   ]
  },
  {
   "cell_type": "code",
   "execution_count": 16,
   "id": "parliamentary-victor",
   "metadata": {},
   "outputs": [
    {
     "data": {
      "image/png": "[encoded data removed]",
      "text/plain": [
       "<Figure size 1152x576 with 2 Axes>"
      ]
     },
     "metadata": {},
     "output_type": "display_data"
    }
   ],
   "source": [
    "with sns.axes_style(\"darkgrid\"):\n",
    "    fig, axes = plt.subplots(1, 2, figsize=(16, 8), sharey=False)\n",
    "    fig.suptitle('')\n",
    "\n",
    "    sns.scatterplot(ax=axes[0], x=test_true_list.flatten(), y=test_pred_list.flatten())\n",
    "    xylim = (np.min([test_true_list, test_pred_list])-.1e7, np.max([test_true_list, test_pred_list])+.1e7)\n",
    "    axes[0].set(xlabel='True', ylabel='Pred', xlim=xylim, ylim=xylim)\n",
    "    \n",
    "    sns.scatterplot(ax=axes[1], x=test_true_list.flatten(), y=test_true_list.flatten()-test_pred_list.flatten())\n",
    "    xylim = (np.min([test_true_list, test_true_list-test_pred_list])-.1e7, np.max([test_true_list, test_true_list-test_pred_list])+.1e7)\n",
    "    axes[1].set(xlabel='True', ylabel='True - Pred', xlim=xylim, ylim=xylim)\n",
    "    plt.show()"
   ]
  },
  {
   "cell_type": "code",
   "execution_count": 17,
   "id": "collaborative-toronto",
   "metadata": {},
   "outputs": [
    {
     "data": {
      "text/html": [
       "<div>\n",
       "<style scoped>\n",
       "    .dataframe tbody tr th:only-of-type {\n",
       "        vertical-align: middle;\n",
       "    }\n",
       "\n",
       "    .dataframe tbody tr th {\n",
       "        vertical-align: top;\n",
       "    }\n",
       "\n",
       "    .dataframe thead th {\n",
       "        text-align: right;\n",
       "    }\n",
       "</style>\n",
       "<table border=\"1\" class=\"dataframe\">\n",
       "  <thead>\n",
       "    <tr style=\"text-align: right;\">\n",
       "      <th></th>\n",
       "      <th>chid</th>\n",
       "      <th>true</th>\n",
       "      <th>pred</th>\n",
       "    </tr>\n",
       "  </thead>\n",
       "  <tbody>\n",
       "    <tr>\n",
       "      <th>0</th>\n",
       "      <td>0</td>\n",
       "      <td>41007.996094</td>\n",
       "      <td>-0.939345</td>\n",
       "    </tr>\n",
       "    <tr>\n",
       "      <th>1</th>\n",
       "      <td>0</td>\n",
       "      <td>407783.937500</td>\n",
       "      <td>-0.937918</td>\n",
       "    </tr>\n",
       "  </tbody>\n",
       "</table>\n",
       "</div>"
      ],
      "text/plain": [
       "   chid           true      pred\n",
       "0     0   41007.996094 -0.939345\n",
       "1     0  407783.937500 -0.937918"
      ]
     },
     "execution_count": 17,
     "metadata": {},
     "output_type": "execute_result"
    }
   ],
   "source": [
    "df_out = pd.DataFrame({\n",
    "    'chid': x_test[:, 0].astype(np.int64), \n",
    "    'true': test_true_list.flatten(),\n",
    "    'pred': test_pred_list.flatten()\n",
    "})\n",
    "\n",
    "df_out.head(2)"
   ]
  },
  {
   "cell_type": "code",
   "execution_count": 18,
   "id": "italic-stake",
   "metadata": {},
   "outputs": [],
   "source": [
    "#df_out.to_csv('result/mlp_random.csv', index=False, encoding='utf-8')"
   ]
  }
 ],
 "metadata": {
  "kernelspec": {
   "display_name": "Python 3",
   "language": "python",
   "name": "python3"
  },
  "language_info": {
   "codemirror_mode": {
    "name": "ipython",
    "version": 3
   },
   "file_extension": ".py",
   "mimetype": "text/x-python",
   "name": "python",
   "nbconvert_exporter": "python",
   "pygments_lexer": "ipython3",
   "version": "3.6.9"
  }
 },
 "nbformat": 4,
 "nbformat_minor": 5
}
