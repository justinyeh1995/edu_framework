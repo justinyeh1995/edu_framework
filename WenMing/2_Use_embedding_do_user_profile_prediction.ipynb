{
  "nbformat": 4,
  "nbformat_minor": 0,
  "metadata": {
    "colab": {
      "name": "2_Use_embedding_do_user_profile_prediction.ipynb",
      "provenance": [],
      "collapsed_sections": [],
      "toc_visible": true,
      "machine_shape": "hm",
      "authorship_tag": "ABX9TyMzd3F/nqFhM3t/GtBwfDOT",
      "include_colab_link": true
    },
    "kernelspec": {
      "name": "python3",
      "display_name": "Python 3"
    },
    "accelerator": "GPU"
  },
  "cells": [
    {
      "cell_type": "markdown",
      "metadata": {
        "id": "view-in-github",
        "colab_type": "text"
      },
      "source": [
        "<a href=\"https://colab.research.google.com/github/udothemath/ncku_customer_embedding/blob/main/WenMing/2_Use_embedding_do_user_profile_prediction.ipynb\" target=\"_parent\"><img src=\"https://colab.research.google.com/assets/colab-badge.svg\" alt=\"Open In Colab\"/></a>"
      ]
    },
    {
      "cell_type": "code",
      "metadata": {
        "colab": {
          "base_uri": "https://localhost:8080/"
        },
        "id": "ShHvrboTOHGu",
        "outputId": "8e30d66b-d63a-4e5b-b5f8-5960a86617c3"
      },
      "source": [
        "# 如果有使用 coloab 再執行此 cell\n",
        "from google.colab import drive\n",
        "drive.mount('/gdrive')\n",
        "!ln -s /gdrive/MyDrive/colab/NCKU_embedding/data/ ./data\n",
        "\n",
        "from google.colab import auth\n",
        "auth.authenticate_user()\n",
        "from google.cloud import bigquery\n",
        "\n",
        "# https://cloud.google.com/resource-manager/docs/creating-managing-projects\n",
        "project_id = 'neat-motif-123006'\n",
        "client = bigquery.Client(project=project_id)\n"
      ],
      "execution_count": null,
      "outputs": [
        {
          "output_type": "stream",
          "text": [
            "Mounted at /gdrive\n"
          ],
          "name": "stdout"
        }
      ]
    },
    {
      "cell_type": "code",
      "metadata": {
        "id": "IUQqX8l5PC2q"
      },
      "source": [
        ""
      ],
      "execution_count": null,
      "outputs": []
    },
    {
      "cell_type": "markdown",
      "metadata": {
        "id": "VimVvVOqdC65"
      },
      "source": [
        "# Load Common Trainig Data and Testing Data"
      ]
    },
    {
      "cell_type": "code",
      "metadata": {
        "id": "4Ahnu2zidKmg"
      },
      "source": [
        "import os\n",
        "import numpy as np\n",
        "import pandas as pd\n",
        "from time import time\n",
        "from tqdm.notebook import tqdm\n",
        "from sklearn.preprocessing import MinMaxScaler\n",
        "\n",
        "\n",
        "import matplotlib.pyplot as plt\n",
        "import seaborn as sns\n",
        "from scipy.stats import norm\n",
        "from sklearn.preprocessing import StandardScaler\n",
        "from scipy import stats\n",
        "import warnings\n",
        "warnings.filterwarnings('ignore')\n",
        "%matplotlib inline\n",
        "\n",
        "from sklearn.linear_model import LogisticRegression\n",
        "from sklearn.metrics import accuracy_score, confusion_matrix, auc, roc_auc_score,f1_score\n",
        "\n",
        "import pickle"
      ],
      "execution_count": null,
      "outputs": []
    },
    {
      "cell_type": "code",
      "metadata": {
        "id": "PF-JjK0FdTqT"
      },
      "source": [
        ""
      ],
      "execution_count": null,
      "outputs": []
    },
    {
      "cell_type": "markdown",
      "metadata": {
        "id": "N9mI7RNaehho"
      },
      "source": [
        "## 整理出 User Profile 的 Prediciton Target Label\n",
        "* 有部份的使用者婚姻狀態有改變，所以要先去除掉\n"
      ]
    },
    {
      "cell_type": "code",
      "metadata": {
        "id": "QHf6qAFijEbp"
      },
      "source": [
        "result = client.query(\"\"\"\n",
        "select chid, masts from `neat-motif-123006.crd.x_train`\n",
        "where chid in (\n",
        "SELECT chid FROM `neat-motif-123006.crd.x_train`\n",
        "where masts = 1 or masts = 3\n",
        "group by chid having count(distinct masts) = 1)\n",
        "group by chid, masts having masts=1 or masts=3 order by chid  \n",
        "\"\"\")\n",
        "valid_user_masts = result.to_dataframe()"
      ],
      "execution_count": null,
      "outputs": []
    },
    {
      "cell_type": "code",
      "metadata": {
        "id": "2iMY-GuPhUK2"
      },
      "source": [
        "import pickle\n",
        "with open(\"./data/sample_50k/valid_user_masts.pkl\",\"wb\") as fw:\n",
        "    pickle.dump(valid_user_masts,fw)"
      ],
      "execution_count": null,
      "outputs": []
    },
    {
      "cell_type": "code",
      "metadata": {
        "colab": {
          "base_uri": "https://localhost:8080/"
        },
        "id": "zu04ZauwdTyj",
        "outputId": "6d59dda6-5a18-4472-880c-46b8cafc63cf"
      },
      "source": [
        "valid_user_masts.masts.unique()"
      ],
      "execution_count": null,
      "outputs": [
        {
          "output_type": "execute_result",
          "data": {
            "text/plain": [
              "array([1, 3])"
            ]
          },
          "metadata": {
            "tags": []
          },
          "execution_count": 93
        }
      ]
    },
    {
      "cell_type": "code",
      "metadata": {
        "id": "W3sjrkb_hfs2"
      },
      "source": [
        ""
      ],
      "execution_count": null,
      "outputs": []
    },
    {
      "cell_type": "code",
      "metadata": {
        "id": "39SwhTnFhcHw"
      },
      "source": [
        "valid_user_masts.masts =valid_user_masts.masts.map({1:0,3:1})"
      ],
      "execution_count": null,
      "outputs": []
    },
    {
      "cell_type": "code",
      "metadata": {
        "colab": {
          "base_uri": "https://localhost:8080/"
        },
        "id": "oRHRU60yhzGJ",
        "outputId": "79e43497-0934-4003-9f60-2564688d91d7"
      },
      "source": [
        "valid_user_masts.masts.unique()"
      ],
      "execution_count": null,
      "outputs": [
        {
          "output_type": "execute_result",
          "data": {
            "text/plain": [
              "array([0, 1])"
            ]
          },
          "metadata": {
            "tags": []
          },
          "execution_count": 95
        }
      ]
    },
    {
      "cell_type": "code",
      "metadata": {
        "id": "WdtsF3sfZo3w"
      },
      "source": [
        "import numpy as np\n",
        "from sklearn.model_selection import train_test_split"
      ],
      "execution_count": null,
      "outputs": []
    },
    {
      "cell_type": "code",
      "metadata": {
        "id": "75_EpMvIaDUM"
      },
      "source": [
        "X = valid_user_masts.chid\n",
        "y = valid_user_masts.masts"
      ],
      "execution_count": null,
      "outputs": []
    },
    {
      "cell_type": "code",
      "metadata": {
        "id": "h8MIGuwfZo_I"
      },
      "source": [
        "X_train, X_test, y_train, y_test = train_test_split(\n",
        "    X, y, test_size=0.1, random_state=42)"
      ],
      "execution_count": null,
      "outputs": []
    },
    {
      "cell_type": "code",
      "metadata": {
        "id": "f27ZE0YydT05"
      },
      "source": [
        "train_y = valid_user_masts.masts.to_list()"
      ],
      "execution_count": null,
      "outputs": []
    },
    {
      "cell_type": "markdown",
      "metadata": {
        "id": "E11zrqPnad70"
      },
      "source": [
        "# 使用 Pytroch Node2Vec"
      ]
    },
    {
      "cell_type": "code",
      "metadata": {
        "id": "OYKBhr2cajlS"
      },
      "source": [
        "fr = open(\"/content/data/sample_50k/embedding/Word2Vec_0221.pkl\",'rb')\n",
        "model = pickle.load(fr)\n",
        "fr.close()"
      ],
      "execution_count": null,
      "outputs": []
    },
    {
      "cell_type": "code",
      "metadata": {
        "id": "MB-Oj6pNajn1"
      },
      "source": [
        ""
      ],
      "execution_count": null,
      "outputs": []
    },
    {
      "cell_type": "code",
      "metadata": {
        "id": "7_Du2hIAajqe"
      },
      "source": [
        ""
      ],
      "execution_count": null,
      "outputs": []
    },
    {
      "cell_type": "code",
      "metadata": {
        "id": "oMtlKlLsajtI"
      },
      "source": [
        ""
      ],
      "execution_count": null,
      "outputs": []
    },
    {
      "cell_type": "markdown",
      "metadata": {
        "id": "xZsoNMUvalPI"
      },
      "source": [
        "# 使用 Word2Vec and StellarGraph\n",
        "*  logistic regresson classifier -> acc = 0.5737770649558942\n",
        "*  dnn classifier -> acc = 0.5643544506816359"
      ]
    },
    {
      "cell_type": "code",
      "metadata": {
        "id": "6RSQZrBGYQmO"
      },
      "source": [
        "import pickle"
      ],
      "execution_count": null,
      "outputs": []
    },
    {
      "cell_type": "code",
      "metadata": {
        "id": "zSFxAQFoYA3S"
      },
      "source": [
        "# load word2vec id\n",
        "fr = open(\"./data/sample_50k/embedding/user_and_mcc_idx_map.pkl\",\"rb\")\n",
        "user_and_mcc_idx_map = pickle.load(fr)"
      ],
      "execution_count": null,
      "outputs": []
    },
    {
      "cell_type": "code",
      "metadata": {
        "id": "ZBqJJ7GDYmqq"
      },
      "source": [
        "# user_and_mcc_idx_map\n",
        "idx2_user_mcc = {}\n",
        "\n",
        "for k in user_and_mcc_idx_map:\n",
        "    v = user_and_mcc_idx_map[k]\n",
        "    idx2_user_mcc[v] = k"
      ],
      "execution_count": null,
      "outputs": []
    },
    {
      "cell_type": "code",
      "metadata": {
        "id": "Mn8-UXX9cRou"
      },
      "source": [
        "import numpy as np\n",
        "user_idx_map = np.load('./data/sample_50k/sample_idx_map.npy', allow_pickle=True).item()"
      ],
      "execution_count": null,
      "outputs": []
    },
    {
      "cell_type": "code",
      "metadata": {
        "id": "1RVa_BOeVJQ5"
      },
      "source": [
        "# load word2vec model\n",
        "\n",
        "fr = open(\"./data/sample_50k/embedding/Word2Vec_0221.pkl\",'rb')\n",
        "w2vec = pickle.load(fr)\n",
        "fr.close()"
      ],
      "execution_count": null,
      "outputs": []
    },
    {
      "cell_type": "code",
      "metadata": {
        "id": "IGUvIBZyVWJM"
      },
      "source": [
        "# 取 user'd embedding\n",
        "user_embedding = w2vec.wv.vectors[:50000]"
      ],
      "execution_count": null,
      "outputs": []
    },
    {
      "cell_type": "code",
      "metadata": {
        "colab": {
          "base_uri": "https://localhost:8080/"
        },
        "id": "BJcL35wTW8sZ",
        "outputId": "cc970e12-048f-41ba-958f-75d0ab7179cb"
      },
      "source": [
        "user_embedding.shape"
      ],
      "execution_count": null,
      "outputs": [
        {
          "output_type": "execute_result",
          "data": {
            "text/plain": [
              "(50000, 128)"
            ]
          },
          "metadata": {
            "tags": []
          },
          "execution_count": 107
        }
      ]
    },
    {
      "cell_type": "code",
      "metadata": {
        "id": "cl7VXzdgVkmw"
      },
      "source": [
        "# filter user \n",
        "user_embedding_train = user_embedding.take(X_train.to_list(), axis=0)"
      ],
      "execution_count": null,
      "outputs": []
    },
    {
      "cell_type": "code",
      "metadata": {
        "colab": {
          "base_uri": "https://localhost:8080/"
        },
        "id": "zfb0a0tcXzgM",
        "outputId": "7887589b-42f3-4ff0-c756-8bc5e8cc4ba6"
      },
      "source": [
        "user_embedding_test = user_embedding.take(X_test.to_list(), axis=0)\n",
        "user_embedding_test.shape"
      ],
      "execution_count": null,
      "outputs": [
        {
          "output_type": "execute_result",
          "data": {
            "text/plain": [
              "(4988, 128)"
            ]
          },
          "metadata": {
            "tags": []
          },
          "execution_count": 109
        }
      ]
    },
    {
      "cell_type": "code",
      "metadata": {
        "colab": {
          "base_uri": "https://localhost:8080/"
        },
        "id": "QujDreg3bOqL",
        "outputId": "1189ed84-bca2-417b-aee6-6f1f52f0b619"
      },
      "source": [
        "from sklearn.linear_model import LogisticRegressionCV\n",
        "clf = LogisticRegressionCV(\n",
        "    Cs=10, cv=10, scoring=\"accuracy\", verbose=False, multi_class=\"ovr\", max_iter=300\n",
        ")\n",
        "clf.fit(user_embedding_train, y_train)"
      ],
      "execution_count": null,
      "outputs": [
        {
          "output_type": "execute_result",
          "data": {
            "text/plain": [
              "LogisticRegressionCV(Cs=10, class_weight=None, cv=10, dual=False,\n",
              "                     fit_intercept=True, intercept_scaling=1.0, l1_ratios=None,\n",
              "                     max_iter=300, multi_class='ovr', n_jobs=None, penalty='l2',\n",
              "                     random_state=None, refit=True, scoring='accuracy',\n",
              "                     solver='lbfgs', tol=0.0001, verbose=False)"
            ]
          },
          "metadata": {
            "tags": []
          },
          "execution_count": 110
        }
      ]
    },
    {
      "cell_type": "code",
      "metadata": {
        "colab": {
          "base_uri": "https://localhost:8080/"
        },
        "id": "ARQHXa2ReEe1",
        "outputId": "b74f6977-9519-40cb-a35e-c3e226a03e31"
      },
      "source": [
        "y_pred = clf.predict(user_embedding_test)\n",
        "accuracy_score(y_test,y_pred)"
      ],
      "execution_count": null,
      "outputs": [
        {
          "output_type": "execute_result",
          "data": {
            "text/plain": [
              "0.5737770649558942"
            ]
          },
          "metadata": {
            "tags": []
          },
          "execution_count": 123
        }
      ]
    },
    {
      "cell_type": "code",
      "metadata": {
        "colab": {
          "base_uri": "https://localhost:8080/"
        },
        "id": "24_F5PdOlSZD",
        "outputId": "64d2dddd-387e-4224-bb07-d4eacfe3ea16"
      },
      "source": [
        "y_pred_proba = clf.predict_proba(user_embedding_test)\n",
        "roc_auc_score(y_test,y_pred)"
      ],
      "execution_count": null,
      "outputs": [
        {
          "output_type": "execute_result",
          "data": {
            "text/plain": [
              "0.5040664877234571"
            ]
          },
          "metadata": {
            "tags": []
          },
          "execution_count": 136
        }
      ]
    },
    {
      "cell_type": "code",
      "metadata": {
        "id": "58knWLvkeqyd"
      },
      "source": [
        "y_pred = clf.predict(user_embedding_test)"
      ],
      "execution_count": null,
      "outputs": []
    },
    {
      "cell_type": "code",
      "metadata": {
        "id": "GxbWJ0I9gEBi"
      },
      "source": [
        "import keras\n",
        "from keras import backend as K\n",
        "from keras.models import Sequential\n",
        "from keras.layers import Activation\n",
        "from keras.layers.core import Dense,Dropout\n",
        "from keras.optimizers import Adam\n",
        "# from keras.metrics import categorical_crossentropy\n",
        "from keras.losses import categorical_crossentropy"
      ],
      "execution_count": null,
      "outputs": []
    },
    {
      "cell_type": "code",
      "metadata": {
        "id": "4fD4cjVDgJde"
      },
      "source": [
        "simple_model = Sequential([\n",
        "    Dense(user_embedding_train.shape[1], input_shape=(user_embedding_train.shape[1], )),\n",
        "    Dropout(0.25),\n",
        "    Dense(32, activation='relu'),\n",
        "    Dropout(0.25),\n",
        "    Dense(2, activation='softmax')\n",
        "])"
      ],
      "execution_count": null,
      "outputs": []
    },
    {
      "cell_type": "code",
      "metadata": {
        "colab": {
          "base_uri": "https://localhost:8080/"
        },
        "id": "1q_pdj0WgZkb",
        "outputId": "48a40ef6-4581-4645-fe04-9cfc6b4c5dab"
      },
      "source": [
        "simple_model.summary()\n"
      ],
      "execution_count": null,
      "outputs": [
        {
          "output_type": "stream",
          "text": [
            "Model: \"sequential_1\"\n",
            "_________________________________________________________________\n",
            "Layer (type)                 Output Shape              Param #   \n",
            "=================================================================\n",
            "dense_3 (Dense)              (None, 128)               16512     \n",
            "_________________________________________________________________\n",
            "dropout_2 (Dropout)          (None, 128)               0         \n",
            "_________________________________________________________________\n",
            "dense_4 (Dense)              (None, 32)                4128      \n",
            "_________________________________________________________________\n",
            "dropout_3 (Dropout)          (None, 32)                0         \n",
            "_________________________________________________________________\n",
            "dense_5 (Dense)              (None, 2)                 66        \n",
            "=================================================================\n",
            "Total params: 20,706\n",
            "Trainable params: 20,706\n",
            "Non-trainable params: 0\n",
            "_________________________________________________________________\n"
          ],
          "name": "stdout"
        }
      ]
    },
    {
      "cell_type": "code",
      "metadata": {
        "id": "rcLxBbiagcD3"
      },
      "source": [
        "simple_model.compile(Adam(lr=0.001),loss=categorical_crossentropy,metrics=['accuracy'])\n"
      ],
      "execution_count": null,
      "outputs": []
    },
    {
      "cell_type": "code",
      "metadata": {
        "colab": {
          "base_uri": "https://localhost:8080/"
        },
        "id": "os8vSCZWgi81",
        "outputId": "5b3f898a-cd51-4332-dc28-394c28a0b35d"
      },
      "source": [
        "y_train"
      ],
      "execution_count": null,
      "outputs": [
        {
          "output_type": "execute_result",
          "data": {
            "text/plain": [
              "21410    1\n",
              "42501    1\n",
              "23692    1\n",
              "17851    1\n",
              "9720     0\n",
              "        ..\n",
              "11284    0\n",
              "44732    0\n",
              "38158    0\n",
              "860      1\n",
              "15795    0\n",
              "Name: masts, Length: 44888, dtype: int64"
            ]
          },
          "metadata": {
            "tags": []
          },
          "execution_count": 117
        }
      ]
    },
    {
      "cell_type": "code",
      "metadata": {
        "colab": {
          "base_uri": "https://localhost:8080/"
        },
        "id": "YFrYXLbwgf7V",
        "outputId": "893e88e2-5ef1-4ada-b8ef-0be98737d65a"
      },
      "source": [
        "y_train=keras.utils.to_categorical(y_train)\n",
        "y_train"
      ],
      "execution_count": null,
      "outputs": [
        {
          "output_type": "execute_result",
          "data": {
            "text/plain": [
              "array([[0., 1.],\n",
              "       [0., 1.],\n",
              "       [0., 1.],\n",
              "       ...,\n",
              "       [1., 0.],\n",
              "       [0., 1.],\n",
              "       [1., 0.]], dtype=float32)"
            ]
          },
          "metadata": {
            "tags": []
          },
          "execution_count": 118
        }
      ]
    },
    {
      "cell_type": "code",
      "metadata": {
        "colab": {
          "base_uri": "https://localhost:8080/"
        },
        "id": "ZsMp1qqEg0yI",
        "outputId": "19053a3b-35b5-4b5e-b9b5-e07c33737287"
      },
      "source": [
        "user_embedding_train.shape"
      ],
      "execution_count": null,
      "outputs": [
        {
          "output_type": "execute_result",
          "data": {
            "text/plain": [
              "(44888, 128)"
            ]
          },
          "metadata": {
            "tags": []
          },
          "execution_count": 119
        }
      ]
    },
    {
      "cell_type": "code",
      "metadata": {
        "id": "0FhB7wHfgn23"
      },
      "source": [
        "simple_model.fit(\n",
        "    user_embedding_train, y_train, validation_split=0.2, batch_size=25, epochs=20, shuffle=True, verbose=2)\n"
      ],
      "execution_count": null,
      "outputs": []
    },
    {
      "cell_type": "code",
      "metadata": {
        "id": "zGRYUBS5kf4Z"
      },
      "source": [
        "y_pred = simple_model.predict_classes(user_embedding_test)"
      ],
      "execution_count": null,
      "outputs": []
    },
    {
      "cell_type": "code",
      "metadata": {
        "id": "dFKRLkC9k-oj"
      },
      "source": [
        "y_pred_proba = simple_model.predict(user_embedding_test)"
      ],
      "execution_count": null,
      "outputs": []
    },
    {
      "cell_type": "code",
      "metadata": {
        "colab": {
          "base_uri": "https://localhost:8080/"
        },
        "id": "KCFdGNYekqal",
        "outputId": "ae3bab6e-b07a-4e11-cad4-e148cdc534c8"
      },
      "source": [
        "accuracy_score(y_test,y_pred)"
      ],
      "execution_count": null,
      "outputs": [
        {
          "output_type": "execute_result",
          "data": {
            "text/plain": [
              "0.5643544506816359"
            ]
          },
          "metadata": {
            "tags": []
          },
          "execution_count": 128
        }
      ]
    }
  ]
}