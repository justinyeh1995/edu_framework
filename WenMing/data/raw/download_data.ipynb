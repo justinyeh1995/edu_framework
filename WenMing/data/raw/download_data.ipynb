{
 "cells": [
  {
   "cell_type": "markdown",
   "id": "future-soviet",
   "metadata": {},
   "source": [
    "## backup path : gs://kent-share/ncku"
   ]
  },
  {
   "cell_type": "code",
   "execution_count": null,
   "id": "critical-lawsuit",
   "metadata": {},
   "outputs": [
    {
     "name": "stdout",
     "output_type": "stream",
     "text": [
      "Copying gs://fraud-lab/graph_credit_card/zip_if_cca_cdtx0001_hist_v1_format.tar.gz...\n",
      "==> NOTE: You are downloading one or more large file(s), which would            \n",
      "run significantly faster if you enabled sliced object downloads. This\n",
      "feature is enabled by default but requires that compiled crcmod be\n",
      "installed (see \"gsutil help crcmod\").\n",
      "\n",
      "\\ [2 files][ 15.6 GiB/ 19.6 GiB]  107.5 MiB/s                                   \r"
     ]
    }
   ],
   "source": [
    "!gsutil cp gs://fraud-lab/graph_credit_card/* ./"
   ]
  },
  {
   "cell_type": "markdown",
   "id": "reflected-christianity",
   "metadata": {},
   "source": [
    "# Preprocessing"
   ]
  },
  {
   "cell_type": "code",
   "execution_count": null,
   "id": "declared-concentration",
   "metadata": {},
   "outputs": [],
   "source": [
    "import pickle\n",
    "f = open(\"./pickle_if_cca_cdtx0001_hist_0000.pkl\",\"rb\")\n",
    "obj = pickle.load(f)"
   ]
  },
  {
   "cell_type": "code",
   "execution_count": null,
   "id": "informative-choice",
   "metadata": {},
   "outputs": [],
   "source": []
  }
 ],
 "metadata": {
  "kernelspec": {
   "display_name": "Python (env)",
   "language": "python",
   "name": "env_ncku"
  },
  "language_info": {
   "codemirror_mode": {
    "name": "ipython",
    "version": 3
   },
   "file_extension": ".py",
   "mimetype": "text/x-python",
   "name": "python",
   "nbconvert_exporter": "python",
   "pygments_lexer": "ipython3",
   "version": "3.7.9"
  }
 },
 "nbformat": 4,
 "nbformat_minor": 5
}
