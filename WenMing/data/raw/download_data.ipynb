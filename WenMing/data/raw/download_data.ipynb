{
  "nbformat": 4,
  "nbformat_minor": 5,
  "metadata": {
    "kernelspec": {
      "display_name": "Python (env)",
      "language": "python",
      "name": "env_ncku"
    },
    "language_info": {
      "codemirror_mode": {
        "name": "ipython",
        "version": 3
      },
      "file_extension": ".py",
      "mimetype": "text/x-python",
      "name": "python",
      "nbconvert_exporter": "python",
      "pygments_lexer": "ipython3",
      "version": "3.7.9"
    },
    "colab": {
      "name": "download_data.ipynb",
      "provenance": [],
      "include_colab_link": true
    }
  },
  "cells": [
    {
      "cell_type": "markdown",
      "metadata": {
        "id": "view-in-github",
        "colab_type": "text"
      },
      "source": [
        "<a href=\"https://colab.research.google.com/github/udothemath/ncku_customer_embedding/blob/main/WenMing/data/raw/download_data.ipynb\" target=\"_parent\"><img src=\"https://colab.research.google.com/assets/colab-badge.svg\" alt=\"Open In Colab\"/></a>"
      ]
    },
    {
      "cell_type": "markdown",
      "metadata": {
        "id": "future-soviet"
      },
      "source": [
        "## backup path : gs://kent-share/ncku"
      ],
      "id": "future-soviet"
    },
    {
      "cell_type": "code",
      "metadata": {
        "colab": {
          "base_uri": "https://localhost:8080/"
        },
        "id": "XU689knZz2yW",
        "outputId": "887f7b3f-9f8a-4c43-b00f-f5eadf8d4f8d"
      },
      "source": [
        "from google.colab import drive\n",
        "drive.mount('/gdrive')"
      ],
      "id": "XU689knZz2yW",
      "execution_count": 2,
      "outputs": [
        {
          "output_type": "stream",
          "text": [
            "Mounted at /gdrive\n"
          ],
          "name": "stdout"
        }
      ]
    },
    {
      "cell_type": "code",
      "metadata": {
        "id": "_-AycPLy0LhN"
      },
      "source": [
        "!ln -s /gdrive/MyDrive/colab/NCKU_embedding/data/ ./data\n"
      ],
      "id": "_-AycPLy0LhN",
      "execution_count": 4,
      "outputs": []
    },
    {
      "cell_type": "code",
      "metadata": {
        "colab": {
          "base_uri": "https://localhost:8080/"
        },
        "id": "critical-lawsuit",
        "outputId": "7e128eaa-bc73-40b1-c9c3-55e4915c0947"
      },
      "source": [
        "!gsutil cp gs://fraud-lab/graph_credit_card/* ./"
      ],
      "id": "critical-lawsuit",
      "execution_count": 1,
      "outputs": [
        {
          "output_type": "stream",
          "text": [
            "ServiceException: 401 Anonymous caller does not have storage.objects.list access to the Google Cloud Storage bucket.\n"
          ],
          "name": "stdout"
        }
      ]
    },
    {
      "cell_type": "markdown",
      "metadata": {
        "id": "reflected-christianity"
      },
      "source": [
        "# Preprocessing"
      ],
      "id": "reflected-christianity"
    },
    {
      "cell_type": "code",
      "metadata": {
        "id": "declared-concentration"
      },
      "source": [
        "import pickle\n",
        "f = open(\"./pickle_if_cca_cdtx0001_hist_0000.pkl\",\"rb\")\n",
        "obj = pickle.load(f)"
      ],
      "id": "declared-concentration",
      "execution_count": null,
      "outputs": []
    },
    {
      "cell_type": "code",
      "metadata": {
        "id": "informative-choice"
      },
      "source": [
        ""
      ],
      "id": "informative-choice",
      "execution_count": null,
      "outputs": []
    }
  ]
}