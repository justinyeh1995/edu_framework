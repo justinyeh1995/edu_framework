{
  "nbformat": 4,
  "nbformat_minor": 5,
  "metadata": {
    "kernelspec": {
      "display_name": "Python (env)",
      "language": "python",
      "name": "env_ncku"
    },
    "language_info": {
      "codemirror_mode": {
        "name": "ipython",
        "version": 3
      },
      "file_extension": ".py",
      "mimetype": "text/x-python",
      "name": "python",
      "nbconvert_exporter": "python",
      "pygments_lexer": "ipython3",
      "version": "3.7.9"
    },
    "colab": {
      "name": "download_data.ipynb",
      "provenance": [],
      "include_colab_link": true
    }
  },
  "cells": [
    {
      "cell_type": "markdown",
      "metadata": {
        "id": "view-in-github",
        "colab_type": "text"
      },
      "source": [
        "<a href=\"https://colab.research.google.com/github/udothemath/ncku_customer_embedding/blob/main/WenMing/data/raw/download_data.ipynb\" target=\"_parent\"><img src=\"https://colab.research.google.com/assets/colab-badge.svg\" alt=\"Open In Colab\"/></a>"
      ]
    },
    {
      "cell_type": "markdown",
      "metadata": {
        "id": "future-soviet"
      },
      "source": [
        "## backup path : gs://kent-share/ncku"
      ],
      "id": "future-soviet"
    },
    {
      "cell_type": "code",
      "metadata": {
        "colab": {
          "base_uri": "https://localhost:8080/"
        },
        "id": "XU689knZz2yW",
        "outputId": "63dd4df8-0b35-415a-fff6-1cbe5621a4f3"
      },
      "source": [
        "from google.colab import drive\n",
        "drive.mount('/gdrive')"
      ],
      "id": "XU689knZz2yW",
      "execution_count": 1,
      "outputs": [
        {
          "output_type": "stream",
          "text": [
            "Drive already mounted at /gdrive; to attempt to forcibly remount, call drive.mount(\"/gdrive\", force_remount=True).\n"
          ],
          "name": "stdout"
        }
      ]
    },
    {
      "cell_type": "code",
      "metadata": {
        "colab": {
          "base_uri": "https://localhost:8080/"
        },
        "id": "ZKT0Sf7K1b5f",
        "outputId": "bbe43a2f-2301-4f42-ae74-fdeb71f44ee3"
      },
      "source": [
        "from google.colab import auth\n",
        "auth.authenticate_user()\n",
        "\n",
        "# https://cloud.google.com/resource-manager/docs/creating-managing-projects\n",
        "project_id = 'kent-tw'\n",
        "!gcloud config set project {project_id}"
      ],
      "id": "ZKT0Sf7K1b5f",
      "execution_count": 5,
      "outputs": [
        {
          "output_type": "stream",
          "text": [
            "Updated property [core/project].\n"
          ],
          "name": "stdout"
        }
      ]
    },
    {
      "cell_type": "code",
      "metadata": {
        "colab": {
          "base_uri": "https://localhost:8080/"
        },
        "id": "_-AycPLy0LhN",
        "outputId": "97431e7c-f3be-440a-df9e-1790e59b3452"
      },
      "source": [
        "!ln -s /gdrive/MyDrive/colab/NCKU_embedding/data/ ./data\n"
      ],
      "id": "_-AycPLy0LhN",
      "execution_count": 6,
      "outputs": [
        {
          "output_type": "stream",
          "text": [
            "ln: failed to create symbolic link './data/data': File exists\n"
          ],
          "name": "stdout"
        }
      ]
    },
    {
      "cell_type": "code",
      "metadata": {
        "colab": {
          "base_uri": "https://localhost:8080/"
        },
        "id": "critical-lawsuit",
        "outputId": "c9447f38-396f-4e44-802c-a50168230ba4"
      },
      "source": [
        "!mkdir ./data/raw/\n",
        "!gsutil -m cp gs://fraud-lab/graph_credit_card/* ./data/raw/"
      ],
      "id": "critical-lawsuit",
      "execution_count": 8,
      "outputs": [
        {
          "output_type": "stream",
          "text": [
            "mkdir: cannot create directory ‘./data/raw/’: File exists\n",
            "Copying gs://fraud-lab/graph_credit_card/zip_if_cca_cdtx0001_hist_v1_format.tar.gz...\n",
            "Copying gs://fraud-lab/graph_credit_card/zip_ncku_sample_csv.7z...\n",
            "Copying gs://fraud-lab/graph_credit_card/zip_if_cca_cust_f_v1_format.tar.gz...\n",
            "Copying gs://fraud-lab/graph_credit_card/zip_if_cca_cust_stonc_tag_features.tar.7z...\n",
            "Copying gs://fraud-lab/graph_credit_card/zip_if_cca_stonc_tag_features.tar.7z...\n",
            "Copying gs://fraud-lab/graph_credit_card/zip_if_cca_y.tar.7z...\n",
            "Resuming download for ./data/raw/zip_if_cca_cdtx0001_hist_v1_format.tar.gz component 3\n",
            "Resuming download for ./data/raw/zip_if_cca_cdtx0001_hist_v1_format.tar.gz component 0\n",
            "Resuming download for ./data/raw/zip_if_cca_cdtx0001_hist_v1_format.tar.gz component 2\n",
            "Resuming download for ./data/raw/zip_if_cca_cdtx0001_hist_v1_format.tar.gz component 1\n",
            "| [6/6 files][ 20.7 GiB/ 20.7 GiB] 100% Done  26.9 MiB/s ETA 00:00:00           \n",
            "Operation completed over 6 objects/20.7 GiB.                                     \n"
          ],
          "name": "stdout"
        }
      ]
    },
    {
      "cell_type": "markdown",
      "metadata": {
        "id": "reflected-christianity"
      },
      "source": [
        "# Preprocessing"
      ],
      "id": "reflected-christianity"
    },
    {
      "cell_type": "code",
      "metadata": {
        "id": "declared-concentration"
      },
      "source": [
        "import pickle\n",
        "f = open(\"./pickle_if_cca_cdtx0001_hist_0000.pkl\",\"rb\")\n",
        "obj = pickle.load(f)"
      ],
      "id": "declared-concentration",
      "execution_count": null,
      "outputs": []
    },
    {
      "cell_type": "code",
      "metadata": {
        "id": "informative-choice"
      },
      "source": [
        "!mkdir ./data/raw/zip_if_cca_cdtx0001_hist/\n",
        "!mv ./data/raw/zip_if_cca_cdtx0001_hist_v1_format.tar.gz ./data/raw/zip_if_cca_cdtx0001_hist/"
      ],
      "id": "informative-choice",
      "execution_count": 11,
      "outputs": []
    },
    {
      "cell_type": "code",
      "metadata": {
        "colab": {
          "base_uri": "https://localhost:8080/"
        },
        "id": "y9h0z0fOHtBZ",
        "outputId": "922f31ae-6995-4aea-932e-dd5c2d8c4ea0"
      },
      "source": [
        "!tar -zxvf ./data/raw/zip_if_cca_cdtx0001_hist/zip_if_cca_cdtx0001_hist_v1_format.tar.gz"
      ],
      "id": "y9h0z0fOHtBZ",
      "execution_count": 15,
      "outputs": [
        {
          "output_type": "stream",
          "text": [
            "pickle_if_cca_cdtx0001_hist_0000.pkl\n",
            "pickle_if_cca_cdtx0001_hist_0001.pkl\n",
            "pickle_if_cca_cdtx0001_hist_0002.pkl\n",
            "pickle_if_cca_cdtx0001_hist_0003.pkl\n",
            "pickle_if_cca_cdtx0001_hist_0004.pkl\n",
            "pickle_if_cca_cdtx0001_hist_0005.pkl\n",
            "pickle_if_cca_cdtx0001_hist_0006.pkl\n",
            "pickle_if_cca_cdtx0001_hist_0007.pkl\n",
            "pickle_if_cca_cdtx0001_hist_0008.pkl\n",
            "pickle_if_cca_cdtx0001_hist_0009.pkl\n",
            "pickle_if_cca_cdtx0001_hist_0010.pkl\n",
            "pickle_if_cca_cdtx0001_hist_0011.pkl\n",
            "pickle_if_cca_cdtx0001_hist_0012.pkl\n",
            "pickle_if_cca_cdtx0001_hist_0013.pkl\n",
            "pickle_if_cca_cdtx0001_hist_0014.pkl\n",
            "pickle_if_cca_cdtx0001_hist_0015.pkl\n",
            "pickle_if_cca_cdtx0001_hist_0016.pkl\n",
            "pickle_if_cca_cdtx0001_hist_0017.pkl\n",
            "pickle_if_cca_cdtx0001_hist_0018.pkl\n",
            "pickle_if_cca_cdtx0001_hist_0019.pkl\n",
            "pickle_if_cca_cdtx0001_hist_0020.pkl\n",
            "pickle_if_cca_cdtx0001_hist_0021.pkl\n",
            "pickle_if_cca_cdtx0001_hist_0022.pkl\n",
            "pickle_if_cca_cdtx0001_hist_0023.pkl\n",
            "pickle_if_cca_cdtx0001_hist_0024.pkl\n",
            "pickle_if_cca_cdtx0001_hist_0025.pkl\n",
            "pickle_if_cca_cdtx0001_hist_0026.pkl\n",
            "pickle_if_cca_cdtx0001_hist_0027.pkl\n",
            "pickle_if_cca_cdtx0001_hist_0028.pkl\n",
            "pickle_if_cca_cdtx0001_hist_0029.pkl\n"
          ],
          "name": "stdout"
        }
      ]
    },
    {
      "cell_type": "code",
      "metadata": {
        "id": "IEhfo2gxJNwE"
      },
      "source": [
        "!mv ./p*.pkl ./data/raw/zip_if_cca_cdtx0001_hist/"
      ],
      "id": "IEhfo2gxJNwE",
      "execution_count": 16,
      "outputs": []
    }
  ]
}