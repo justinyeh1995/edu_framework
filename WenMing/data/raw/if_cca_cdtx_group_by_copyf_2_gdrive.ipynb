{
  "nbformat": 4,
  "nbformat_minor": 0,
  "metadata": {
    "colab": {
      "name": "if_cca_cdtx_group_by_copyf_2_gdrive.ipynb",
      "provenance": [],
      "collapsed_sections": [],
      "toc_visible": true,
      "machine_shape": "hm",
      "authorship_tag": "ABX9TyMNyLHJU7YgCinLZKMWLiwg",
      "include_colab_link": true
    },
    "kernelspec": {
      "display_name": "Python 3",
      "name": "python3"
    }
  },
  "cells": [
    {
      "cell_type": "markdown",
      "metadata": {
        "id": "view-in-github",
        "colab_type": "text"
      },
      "source": [
        "<a href=\"https://colab.research.google.com/github/udothemath/ncku_customer_embedding/blob/main/WenMing/data/raw/if_cca_cdtx_group_by_copyf_2_gdrive.ipynb\" target=\"_parent\"><img src=\"https://colab.research.google.com/assets/colab-badge.svg\" alt=\"Open In Colab\"/></a>"
      ]
    },
    {
      "cell_type": "markdown",
      "metadata": {
        "id": "VgPGk38gZAyX"
      },
      "source": [
        "# Copy Data From GCS"
      ]
    },
    {
      "cell_type": "code",
      "metadata": {
        "colab": {
          "base_uri": "https://localhost:8080/"
        },
        "id": "SGh9hniTyBGe",
        "outputId": "24db26ef-32de-4c25-994d-b9a6e7cd3290"
      },
      "source": [
        "# 如果有使用 coloab 再執行此 cell\n",
        "from google.colab import drive\n",
        "drive.mount('/gdrive')\n",
        "!ln -s /gdrive/MyDrive/colab/NCKU_embedding/data/ ./data"
      ],
      "execution_count": null,
      "outputs": [
        {
          "output_type": "stream",
          "text": [
            "Drive already mounted at /gdrive; to attempt to forcibly remount, call drive.mount(\"/gdrive\", force_remount=True).\n",
            "ln: failed to create symbolic link './data/data': File exists\n"
          ],
          "name": "stdout"
        }
      ]
    },
    {
      "cell_type": "code",
      "metadata": {
        "id": "fU6N7KFcySyh"
      },
      "source": [
        ""
      ],
      "execution_count": null,
      "outputs": []
    },
    {
      "cell_type": "code",
      "metadata": {
        "colab": {
          "base_uri": "https://localhost:8080/"
        },
        "id": "xfUnM-5iya7w",
        "outputId": "e31eb269-7fcc-414c-c2d7-58eb9eafe593"
      },
      "source": [
        "from google.colab import auth\n",
        "auth.authenticate_user()\n",
        "\n",
        "# https://cloud.google.com/resource-manager/docs/creating-managing-projects\n",
        "project_id = 'kent-tw'\n",
        "!gcloud config set project {project_id}"
      ],
      "execution_count": null,
      "outputs": [
        {
          "output_type": "stream",
          "text": [
            "Updated property [core/project].\n"
          ],
          "name": "stdout"
        }
      ]
    },
    {
      "cell_type": "code",
      "metadata": {
        "id": "7b27o-AXy34w"
      },
      "source": [
        "!mkdir ./data/raw/if_cca_cdtx_group_by/"
      ],
      "execution_count": null,
      "outputs": []
    },
    {
      "cell_type": "code",
      "metadata": {
        "colab": {
          "base_uri": "https://localhost:8080/"
        },
        "id": "ajWI2tmHya7x",
        "outputId": "836ece13-f786-443b-a4ee-b17d36343332"
      },
      "source": [
        "# Download the file from a given Google Cloud Storage bucket.\n",
        "!gsutil cp gs://fraud-lab/graph_credit_card/if_cca_cdtx_group_by/* ./data/raw/if_cca_cdtx_group_by/\n",
        "  \n",
        "# Print the result to make sure the transfer worked.\n"
      ],
      "execution_count": null,
      "outputs": [
        {
          "output_type": "stream",
          "text": [
            "Copying gs://fraud-lab/graph_credit_card/if_cca_cdtx_group_by/if_cca_cdtx_group_by_000000000000.csv...\n",
            "Copying gs://fraud-lab/graph_credit_card/if_cca_cdtx_group_by/if_cca_cdtx_group_by_000000000001.csv...\n",
            "Copying gs://fraud-lab/graph_credit_card/if_cca_cdtx_group_by/if_cca_cdtx_group_by_000000000002.csv...\n",
            "Copying gs://fraud-lab/graph_credit_card/if_cca_cdtx_group_by/if_cca_cdtx_group_by_000000000003.csv...\n",
            "\\ [4 files][  2.1 GiB/  2.1 GiB]   37.0 MiB/s                                   \n",
            "==> NOTE: You are performing a sequence of gsutil operations that may\n",
            "run significantly faster if you instead use gsutil -m cp ... Please\n",
            "see the -m section under \"gsutil help options\" for further information\n",
            "about when gsutil -m can be advantageous.\n",
            "\n",
            "Copying gs://fraud-lab/graph_credit_card/if_cca_cdtx_group_by/if_cca_cdtx_group_by_000000000004.csv...\n",
            "Copying gs://fraud-lab/graph_credit_card/if_cca_cdtx_group_by/if_cca_cdtx_group_by_000000000005.csv...\n",
            "Copying gs://fraud-lab/graph_credit_card/if_cca_cdtx_group_by/if_cca_cdtx_group_by_000000000006.csv...\n",
            "Copying gs://fraud-lab/graph_credit_card/if_cca_cdtx_group_by/if_cca_cdtx_group_by_000000000007.csv...\n",
            "Copying gs://fraud-lab/graph_credit_card/if_cca_cdtx_group_by/if_cca_cdtx_group_by_000000000008.csv...\n",
            "Copying gs://fraud-lab/graph_credit_card/if_cca_cdtx_group_by/if_cca_cdtx_group_by_000000000009.csv...\n",
            "Copying gs://fraud-lab/graph_credit_card/if_cca_cdtx_group_by/if_cca_cdtx_group_by_000000000010.csv...\n",
            "Copying gs://fraud-lab/graph_credit_card/if_cca_cdtx_group_by/if_cca_cdtx_group_by_000000000011.csv...\n",
            "Copying gs://fraud-lab/graph_credit_card/if_cca_cdtx_group_by/if_cca_cdtx_group_by_000000000012.csv...\n",
            "Copying gs://fraud-lab/graph_credit_card/if_cca_cdtx_group_by/if_cca_cdtx_group_by_000000000013.csv...\n",
            "Copying gs://fraud-lab/graph_credit_card/if_cca_cdtx_group_by/if_cca_cdtx_group_by_000000000014.csv...\n",
            "Copying gs://fraud-lab/graph_credit_card/if_cca_cdtx_group_by/if_cca_cdtx_group_by_000000000015.csv...\n",
            "Copying gs://fraud-lab/graph_credit_card/if_cca_cdtx_group_by/if_cca_cdtx_group_by_000000000016.csv...\n",
            "Copying gs://fraud-lab/graph_credit_card/if_cca_cdtx_group_by/if_cca_cdtx_group_by_000000000017.csv...\n",
            "| [18 files][  9.6 GiB/  9.6 GiB]   46.3 MiB/s                                  \n",
            "Operation completed over 18 objects/9.6 GiB.                                     \n"
          ],
          "name": "stdout"
        }
      ]
    },
    {
      "cell_type": "markdown",
      "metadata": {
        "id": "IA03uj-1ZGdN"
      },
      "source": [
        "# Extract DAta "
      ]
    },
    {
      "cell_type": "code",
      "metadata": {
        "colab": {
          "base_uri": "https://localhost:8080/"
        },
        "id": "eYudH_8rZzzQ",
        "outputId": "9721f92c-03c1-484c-8424-e537fa3ceaab"
      },
      "source": [
        "!ls ./data/raw/"
      ],
      "execution_count": null,
      "outputs": [
        {
          "output_type": "stream",
          "text": [
            "if_cca_cdtx_group_by\n",
            "if_cca_cdtx_group_by_copyfrom_gcs_2_gdrive.ipynb\n",
            "zip_if_cca_cdtx0001_hist\n",
            "zip_if_cca_cust_f\n",
            "zip_if_cca_cust_f_v1_format.tar.gz\n",
            "zip_if_cca_cust_stonc_tag_features.tar.7z\n",
            "zip_if_cca_stonc_tag_features.tar.7z\n",
            "zip_if_cca_y\n",
            "zip_if_cca_y.tar.7z\n",
            "zip_ncku_cdtx0001_group00.tar.7z\n",
            "zip_ncku_cdtx0001_group00.tar.gz\n",
            "zip_ncku_cdtx0001_group01.tar.7z\n",
            "zip_ncku_cdtx0001_group02.tar.7z\n",
            "zip_ncku_cdtx0001_group03.tar.7z\n",
            "zip_ncku_cdtx0001_group04.tar.7z\n",
            "zip_ncku_cdtx0001_group05.tar.7z\n",
            "zip_ncku_cdtx0001_group06.tar.7z\n",
            "zip_ncku_cdtx0001_group07.tar.7z\n",
            "zip_ncku_cdtx0001_group08.tar.7z\n",
            "zip_ncku_cdtx0001_group09.tar.7z\n",
            "zip_ncku_cdtx0001_group10.tar.7z\n",
            "zip_ncku_cdtx0001_group11.tar.7z\n",
            "zip_ncku_cdtx0001_group12.tar.7z\n",
            "zip_ncku_cdtx0001_group13.tar.7z\n",
            "zip_ncku_cdtx0001_group14.tar.7z\n",
            "zip_ncku_cdtx0001_group15.tar.7z\n",
            "zip_ncku_cust_f_group00.tar.7z\n",
            "zip_ncku_cust_f_group01.tar.7z\n",
            "zip_ncku_cust_f_group02.tar.7z\n",
            "zip_ncku_cust_f_group03.tar.7z\n",
            "zip_ncku_cust_f_group04.tar.7z\n",
            "zip_ncku_sample_csv.7z\n",
            "zip_ncku_sample_file.7z\n"
          ],
          "name": "stdout"
        }
      ]
    },
    {
      "cell_type": "code",
      "metadata": {
        "colab": {
          "base_uri": "https://localhost:8080/"
        },
        "id": "CEkVNw7HaHmK",
        "outputId": "dee93b0e-d77e-4dc9-bba2-d40c5afde852"
      },
      "source": [
        "!mkdir ./data/raw/zip_ncku_cdtx0001_group/\n",
        "!mv ./data/raw/zip_ncku_cdtx0001_group0* ./data/raw/zip_ncku_cdtx0001_group/"
      ],
      "execution_count": null,
      "outputs": [
        {
          "output_type": "stream",
          "text": [
            "mkdir: cannot create directory ‘./data/raw/zip_ncku_cdtx0001_group/’: File exists\n"
          ],
          "name": "stdout"
        }
      ]
    },
    {
      "cell_type": "code",
      "metadata": {
        "colab": {
          "base_uri": "https://localhost:8080/"
        },
        "id": "ABWElh34i2uk",
        "outputId": "235185bd-8813-4e62-b16b-83e18bf8bf76"
      },
      "source": [
        "# https://pypi.python.org/pypi/libarchive\n",
        "!apt-get -qq install -y libarchive-dev && pip install -U libarchive\n",
        "import libarchive"
      ],
      "execution_count": null,
      "outputs": [
        {
          "output_type": "stream",
          "text": [
            "Selecting previously unselected package libarchive-dev:amd64.\n",
            "(Reading database ... 146442 files and directories currently installed.)\n",
            "Preparing to unpack .../libarchive-dev_3.2.2-3.1ubuntu0.6_amd64.deb ...\n",
            "Unpacking libarchive-dev:amd64 (3.2.2-3.1ubuntu0.6) ...\n",
            "Setting up libarchive-dev:amd64 (3.2.2-3.1ubuntu0.6) ...\n",
            "Processing triggers for man-db (2.8.3-2ubuntu0.1) ...\n",
            "Collecting libarchive\n",
            "  Downloading https://files.pythonhosted.org/packages/bf/d4/26f5c9835d4d648e4f22b5fb91288457698e928aaf9d4ab7eff405b7ef03/libarchive-0.4.7.tar.gz\n",
            "Collecting nose\n",
            "\u001b[?25l  Downloading https://files.pythonhosted.org/packages/15/d8/dd071918c040f50fa1cf80da16423af51ff8ce4a0f2399b7bf8de45ac3d9/nose-1.3.7-py3-none-any.whl (154kB)\n",
            "\u001b[K     |████████████████████████████████| 163kB 4.4MB/s \n",
            "\u001b[?25hBuilding wheels for collected packages: libarchive\n",
            "  Building wheel for libarchive (setup.py) ... \u001b[?25l\u001b[?25hdone\n",
            "  Created wheel for libarchive: filename=libarchive-0.4.7-cp36-none-any.whl size=31634 sha256=d369222cea61c8ba6fcbb12ec682cd020e36cba9e5733e59d3588500dcb43a03\n",
            "  Stored in directory: /root/.cache/pip/wheels/3b/5c/fa/92ee330d259e8fa5bedbd53f67040710fe81cfa463b8711d26\n",
            "Successfully built libarchive\n",
            "Installing collected packages: nose, libarchive\n",
            "Successfully installed libarchive-0.4.7 nose-1.3.7\n"
          ],
          "name": "stdout"
        }
      ]
    },
    {
      "cell_type": "code",
      "metadata": {
        "id": "uLwMMnZRkt73"
      },
      "source": [
        "!rm -rvf ./data/raw/zip_ncku_cdtx0001_group/*.gz"
      ],
      "execution_count": null,
      "outputs": []
    },
    {
      "cell_type": "code",
      "metadata": {
        "colab": {
          "base_uri": "https://localhost:8080/"
        },
        "id": "aERz0NdEjUGv",
        "outputId": "79d333bc-1c2b-452e-f7a0-272481609e30"
      },
      "source": [
        "for i in range(16):\n",
        "    if i!=4 : continue\n",
        "    print(\"./data/raw/zip_ncku_cdtx0001_group/zip_ncku_cdtx0001_group%02d.tar.7z\"%i)\n",
        "    path = \"./data/raw/zip_ncku_cdtx0001_group/zip_ncku_cdtx0001_group%02d.tar.7z\"%i\n",
        "    !7z e $path -o./data/raw/zip_ncku_cdtx0001_group/ -pesun13\n"
      ],
      "execution_count": null,
      "outputs": [
        {
          "output_type": "stream",
          "text": [
            "./data/raw/zip_ncku_cdtx0001_group/zip_ncku_cdtx0001_group04.tar.7z\n",
            "\n",
            "7-Zip [64] 16.02 : Copyright (c) 1999-2016 Igor Pavlov : 2016-05-21\n",
            "p7zip Version 16.02 (locale=en_US.UTF-8,Utf16=on,HugeFiles=on,64 bits,4 CPUs Intel(R) Xeon(R) CPU @ 2.30GHz (306F0),ASM,AES-NI)\n",
            "\n",
            "Scanning the drive for archives:\n",
            "  0M Scan ./data/raw/zip_ncku_cdtx0001_group/\b\b\b\b\b\b\b\b\b\b\b\b\b\b\b\b\b\b\b\b\b\b\b\b\b\b\b\b\b\b\b\b\b\b\b\b\b\b\b\b\b\b\b\b\b                                             \b\b\b\b\b\b\b\b\b\b\b\b\b\b\b\b\b\b\b\b\b\b\b\b\b\b\b\b\b\b\b\b\b\b\b\b\b\b\b\b\b\b\b\b\b1 file, 980224810 bytes (935 MiB)\n",
            "\n",
            "Extracting archive: ./data/raw/zip_ncku_cdtx0001_group/zip_ncku_cdtx0001_group04.tar.7z\n",
            "ERROR: ./data/raw/zip_ncku_cdtx0001_group/zip_ncku_cdtx0001_group04.tar.7z\n",
            "./data/raw/zip_ncku_cdtx0001_group/zip_ncku_cdtx0001_group04.tar.7z\n",
            "Open ERROR: Can not open the file as [7z] archive\n",
            "\n",
            "\n",
            "ERRORS:\n",
            "Headers Error\n",
            "  0%\b\b\b\b    \b\b\b\b\n",
            "Can't open as archive: 1\n",
            "Files: 0\n",
            "Size:       0\n",
            "Compressed: 0\n"
          ],
          "name": "stdout"
        }
      ]
    },
    {
      "cell_type": "code",
      "metadata": {
        "colab": {
          "base_uri": "https://localhost:8080/"
        },
        "id": "LXRSyMsNV-Kn",
        "outputId": "c0e8129d-1413-48a4-cfb8-38bb2860fe97"
      },
      "source": [
        "for i in range(16):\n",
        "    # if i != 4 : continue\n",
        "    print(\"./data/raw/zip_ncku_cdtx0001_group/zip_ncku_cdtx0001_group%02d.tar.gz\"%i)\n",
        "    path = \"./data/raw/zip_ncku_cdtx0001_group/zip_ncku_cdtx0001_group%02d.tar.gz\"%i\n",
        "    !tar -zxvf $path"
      ],
      "execution_count": null,
      "outputs": [
        {
          "output_type": "stream",
          "text": [
            "./data/raw/zip_ncku_cdtx0001_group/zip_ncku_cdtx0001_group04.tar.gz\n",
            "tar (child): ./data/raw/zip_ncku_cdtx0001_group/zip_ncku_cdtx0001_group04.tar.gz: Cannot open: No such file or directory\n",
            "tar (child): Error is not recoverable: exiting now\n",
            "tar: Child returned status 2\n",
            "tar: Error is not recoverable: exiting now\n"
          ],
          "name": "stdout"
        }
      ]
    },
    {
      "cell_type": "code",
      "metadata": {
        "colab": {
          "base_uri": "https://localhost:8080/"
        },
        "id": "AiCcIDgpsziO",
        "outputId": "233786cf-622c-4362-8bba-f7f939d1ee37"
      },
      "source": [
        "!mv sub_eb_customer_embedding_ncku_cdtx0001_* /content/data/raw/zip_ncku_cdtx0001_group/"
      ],
      "execution_count": null,
      "outputs": [
        {
          "output_type": "stream",
          "text": [
            "mv: cannot remove 'sub_eb_customer_embedding_ncku_cdtx0001_0141.json': No such file or directory\n",
            "^C\n"
          ],
          "name": "stdout"
        }
      ]
    },
    {
      "cell_type": "code",
      "metadata": {
        "colab": {
          "base_uri": "https://localhost:8080/"
        },
        "id": "8WRP44I5M4fT",
        "outputId": "fab7eed2-60e2-4ccf-e11a-19d1e8becc64"
      },
      "source": [
        "from google.colab import auth\n",
        "auth.authenticate_user()\n",
        "\n",
        "# https://cloud.google.com/resource-manager/docs/creating-managing-projects\n",
        "project_id = 'kent-tw'\n",
        "!gcloud config set project {project_id}"
      ],
      "execution_count": null,
      "outputs": [
        {
          "output_type": "stream",
          "text": [
            "Updated property [core/project].\n"
          ],
          "name": "stdout"
        }
      ]
    },
    {
      "cell_type": "code",
      "metadata": {
        "id": "3QuRHrVmIUai"
      },
      "source": [
        "# !gsutil -m cp ./data/raw/zip_ncku_cdtx0001_group/su*.json gs://fraud-lab/graph_credit_card/zip_ncku_cdtx0001_group/"
      ],
      "execution_count": null,
      "outputs": []
    },
    {
      "cell_type": "code",
      "metadata": {
        "id": "WSk2tVEE0Jgk",
        "colab": {
          "base_uri": "https://localhost:8080/"
        },
        "outputId": "345b41d7-71a1-44fc-9665-8464e54d6e45"
      },
      "source": [
        "!gsutil -m cp ./data/raw/zip_ncku_cdtx0001_group/cdtx0001*.json gs://kent-share/ncku/zip_ncku_cdtx0001_group/"
      ],
      "execution_count": null,
      "outputs": [
        {
          "output_type": "stream",
          "text": [
            "Copying file://./data/raw/zip_ncku_cdtx0001_group/cdtx0001_0003.json [Content-Type=application/json]...\n",
            "Copying file://./data/raw/zip_ncku_cdtx0001_group/cdtx0001_0001.json [Content-Type=application/json]...\n",
            "/ [0 files][    0.0 B/664.9 MiB]                                                \r/ [0 files][    0.0 B/  1.3 GiB]                                                \rCopying file://./data/raw/zip_ncku_cdtx0001_group/cdtx0001_0000.json [Content-Type=application/json]...\n",
            "Copying file://./data/raw/zip_ncku_cdtx0001_group/cdtx0001_0002.json [Content-Type=application/json]...\n",
            "/ [0 files][    0.0 B/  2.0 GiB]                                                \r/ [0 files][    0.0 B/  2.6 GiB]                                                \rCopying file://./data/raw/zip_ncku_cdtx0001_group/cdtx0001_0004.json [Content-Type=application/json]...\n",
            "/ [0 files][    0.0 B/  3.2 GiB]                                                \r==> NOTE: You are uploading one or more large file(s), which would run\n",
            "significantly faster if you enable parallel composite uploads. This\n",
            "feature can be enabled by editing the\n",
            "\"parallel_composite_upload_threshold\" value in your .boto\n",
            "configuration file. However, note that if you do this large files will\n",
            "be uploaded as `composite objects\n",
            "<https://cloud.google.com/storage/docs/composite-objects>`_,which\n",
            "means that any user who downloads such objects will need to have a\n",
            "compiled crcmod installed (see \"gsutil help crcmod\"). This is because\n",
            "without a compiled crcmod, computing checksums on composite objects is\n",
            "so slow that gsutil disables downloads of composite objects.\n",
            "\n",
            "Copying file://./data/raw/zip_ncku_cdtx0001_group/cdtx0001_0016.json [Content-Type=application/json]...\n",
            "/ [0 files][    0.0 B/  3.9 GiB]                                                \rCopying file://./data/raw/zip_ncku_cdtx0001_group/cdtx0001_0015.json [Content-Type=application/json]...\n",
            "/ [0 files][    0.0 B/  4.6 GiB]                                                \rCopying file://./data/raw/zip_ncku_cdtx0001_group/cdtx0001_0010.json [Content-Type=application/json]...\n",
            "/ [0 files][    0.0 B/  5.2 GiB]                                                \rCopying file://./data/raw/zip_ncku_cdtx0001_group/cdtx0001_0005.json [Content-Type=application/json]...\n",
            "Copying file://./data/raw/zip_ncku_cdtx0001_group/cdtx0001_0006.json [Content-Type=application/json]...\n",
            "/ [0 files][    0.0 B/  5.8 GiB]                                                \r/ [0 files][    0.0 B/  6.5 GiB]                                                \rCopying file://./data/raw/zip_ncku_cdtx0001_group/cdtx0001_0007.json [Content-Type=application/json]...\n",
            "/ [0 files][    0.0 B/  7.1 GiB]                                                \rCopying file://./data/raw/zip_ncku_cdtx0001_group/cdtx0001_0011.json [Content-Type=application/json]...\n",
            "Copying file://./data/raw/zip_ncku_cdtx0001_group/cdtx0001_0013.json [Content-Type=application/json]...\n",
            "Copying file://./data/raw/zip_ncku_cdtx0001_group/cdtx0001_0017.json [Content-Type=application/json]...\n",
            "Copying file://./data/raw/zip_ncku_cdtx0001_group/cdtx0001_0014.json [Content-Type=application/json]...\n",
            "Copying file://./data/raw/zip_ncku_cdtx0001_group/cdtx0001_0012.json [Content-Type=application/json]...\n",
            "Copying file://./data/raw/zip_ncku_cdtx0001_group/cdtx0001_0009.json [Content-Type=application/json]...\n",
            "Copying file://./data/raw/zip_ncku_cdtx0001_group/cdtx0001_0008.json [Content-Type=application/json]...\n",
            "Copying file://./data/raw/zip_ncku_cdtx0001_group/cdtx0001_0019.json [Content-Type=application/json]...\n",
            "Copying file://./data/raw/zip_ncku_cdtx0001_group/cdtx0001_0018.json [Content-Type=application/json]...\n",
            "Copying file://./data/raw/zip_ncku_cdtx0001_group/cdtx0001_0020.json [Content-Type=application/json]...\n",
            "Copying file://./data/raw/zip_ncku_cdtx0001_group/cdtx0001_0021.json [Content-Type=application/json]...\n",
            "Copying file://./data/raw/zip_ncku_cdtx0001_group/cdtx0001_0022.json [Content-Type=application/json]...\n",
            "Copying file://./data/raw/zip_ncku_cdtx0001_group/cdtx0001_0023.json [Content-Type=application/json]...\n",
            "Copying file://./data/raw/zip_ncku_cdtx0001_group/cdtx0001_0024.json [Content-Type=application/json]...\n",
            "Copying file://./data/raw/zip_ncku_cdtx0001_group/cdtx0001_0025.json [Content-Type=application/json]...\n",
            "Copying file://./data/raw/zip_ncku_cdtx0001_group/cdtx0001_0026.json [Content-Type=application/json]...\n",
            "Copying file://./data/raw/zip_ncku_cdtx0001_group/cdtx0001_0027.json [Content-Type=application/json]...\n",
            "Copying file://./data/raw/zip_ncku_cdtx0001_group/cdtx0001_0028.json [Content-Type=application/json]...\n",
            "Copying file://./data/raw/zip_ncku_cdtx0001_group/cdtx0001_0029.json [Content-Type=application/json]...\n",
            "Copying file://./data/raw/zip_ncku_cdtx0001_group/cdtx0001_0030.json [Content-Type=application/json]...\n",
            "Copying file://./data/raw/zip_ncku_cdtx0001_group/cdtx0001_0031.json [Content-Type=application/json]...\n",
            "Copying file://./data/raw/zip_ncku_cdtx0001_group/cdtx0001_0032.json [Content-Type=application/json]...\n",
            "Copying file://./data/raw/zip_ncku_cdtx0001_group/cdtx0001_0033.json [Content-Type=application/json]...\n",
            "Copying file://./data/raw/zip_ncku_cdtx0001_group/cdtx0001_0034.json [Content-Type=application/json]...\n",
            "Copying file://./data/raw/zip_ncku_cdtx0001_group/cdtx0001_0035.json [Content-Type=application/json]...\n",
            "Copying file://./data/raw/zip_ncku_cdtx0001_group/cdtx0001_0036.json [Content-Type=application/json]...\n",
            "Copying file://./data/raw/zip_ncku_cdtx0001_group/cdtx0001_0037.json [Content-Type=application/json]...\n",
            "Copying file://./data/raw/zip_ncku_cdtx0001_group/cdtx0001_0038.json [Content-Type=application/json]...\n",
            "Copying file://./data/raw/zip_ncku_cdtx0001_group/cdtx0001_0039.json [Content-Type=application/json]...\n",
            "Copying file://./data/raw/zip_ncku_cdtx0001_group/cdtx0001_0050.json [Content-Type=application/json]...\n",
            "Copying file://./data/raw/zip_ncku_cdtx0001_group/cdtx0001_0051.json [Content-Type=application/json]...\n",
            "Copying file://./data/raw/zip_ncku_cdtx0001_group/cdtx0001_0052.json [Content-Type=application/json]...\n",
            "Copying file://./data/raw/zip_ncku_cdtx0001_group/cdtx0001_0053.json [Content-Type=application/json]...\n",
            "Copying file://./data/raw/zip_ncku_cdtx0001_group/cdtx0001_0054.json [Content-Type=application/json]...\n",
            "Copying file://./data/raw/zip_ncku_cdtx0001_group/cdtx0001_0055.json [Content-Type=application/json]...\n",
            "Copying file://./data/raw/zip_ncku_cdtx0001_group/cdtx0001_0056.json [Content-Type=application/json]...\n",
            "Copying file://./data/raw/zip_ncku_cdtx0001_group/cdtx0001_0057.json [Content-Type=application/json]...\n",
            "Copying file://./data/raw/zip_ncku_cdtx0001_group/cdtx0001_0058.json [Content-Type=application/json]...\n",
            "Copying file://./data/raw/zip_ncku_cdtx0001_group/cdtx0001_0059.json [Content-Type=application/json]...\n",
            "Copying file://./data/raw/zip_ncku_cdtx0001_group/cdtx0001_0060.json [Content-Type=application/json]...\n",
            "Copying file://./data/raw/zip_ncku_cdtx0001_group/cdtx0001_0061.json [Content-Type=application/json]...\n",
            "Copying file://./data/raw/zip_ncku_cdtx0001_group/cdtx0001_0062.json [Content-Type=application/json]...\n",
            "Copying file://./data/raw/zip_ncku_cdtx0001_group/cdtx0001_0063.json [Content-Type=application/json]...\n",
            "Copying file://./data/raw/zip_ncku_cdtx0001_group/cdtx0001_0064.json [Content-Type=application/json]...\n",
            "Copying file://./data/raw/zip_ncku_cdtx0001_group/cdtx0001_0065.json [Content-Type=application/json]...\n",
            "Copying file://./data/raw/zip_ncku_cdtx0001_group/cdtx0001_0066.json [Content-Type=application/json]...\n",
            "Copying file://./data/raw/zip_ncku_cdtx0001_group/cdtx0001_0067.json [Content-Type=application/json]...\n",
            "Copying file://./data/raw/zip_ncku_cdtx0001_group/cdtx0001_0068.json [Content-Type=application/json]...\n",
            "Copying file://./data/raw/zip_ncku_cdtx0001_group/cdtx0001_0069.json [Content-Type=application/json]...\n",
            "Copying file://./data/raw/zip_ncku_cdtx0001_group/cdtx0001_0070.json [Content-Type=application/json]...\n",
            "Copying file://./data/raw/zip_ncku_cdtx0001_group/cdtx0001_0071.json [Content-Type=application/json]...\n",
            "Copying file://./data/raw/zip_ncku_cdtx0001_group/cdtx0001_0072.json [Content-Type=application/json]...\n",
            "Copying file://./data/raw/zip_ncku_cdtx0001_group/cdtx0001_0073.json [Content-Type=application/json]...\n",
            "Copying file://./data/raw/zip_ncku_cdtx0001_group/cdtx0001_0074.json [Content-Type=application/json]...\n",
            "Copying file://./data/raw/zip_ncku_cdtx0001_group/cdtx0001_0075.json [Content-Type=application/json]...\n",
            "Copying file://./data/raw/zip_ncku_cdtx0001_group/cdtx0001_0076.json [Content-Type=application/json]...\n",
            "Copying file://./data/raw/zip_ncku_cdtx0001_group/cdtx0001_0077.json [Content-Type=application/json]...\n",
            "Copying file://./data/raw/zip_ncku_cdtx0001_group/cdtx0001_0078.json [Content-Type=application/json]...\n",
            "Copying file://./data/raw/zip_ncku_cdtx0001_group/cdtx0001_0079.json [Content-Type=application/json]...\n",
            "Copying file://./data/raw/zip_ncku_cdtx0001_group/cdtx0001_0080.json [Content-Type=application/json]...\n",
            "Copying file://./data/raw/zip_ncku_cdtx0001_group/cdtx0001_0081.json [Content-Type=application/json]...\n",
            "Copying file://./data/raw/zip_ncku_cdtx0001_group/cdtx0001_0082.json [Content-Type=application/json]...\n",
            "Copying file://./data/raw/zip_ncku_cdtx0001_group/cdtx0001_0083.json [Content-Type=application/json]...\n",
            "Copying file://./data/raw/zip_ncku_cdtx0001_group/cdtx0001_0084.json [Content-Type=application/json]...\n",
            "Copying file://./data/raw/zip_ncku_cdtx0001_group/cdtx0001_0085.json [Content-Type=application/json]...\n",
            "Copying file://./data/raw/zip_ncku_cdtx0001_group/cdtx0001_0086.json [Content-Type=application/json]...\n",
            "Copying file://./data/raw/zip_ncku_cdtx0001_group/cdtx0001_0087.json [Content-Type=application/json]...\n",
            "Copying file://./data/raw/zip_ncku_cdtx0001_group/cdtx0001_0088.json [Content-Type=application/json]...\n",
            "Copying file://./data/raw/zip_ncku_cdtx0001_group/cdtx0001_0089.json [Content-Type=application/json]...\n",
            "Copying file://./data/raw/zip_ncku_cdtx0001_group/cdtx0001_0090.json [Content-Type=application/json]...\n",
            "Copying file://./data/raw/zip_ncku_cdtx0001_group/cdtx0001_0091.json [Content-Type=application/json]...\n",
            "Copying file://./data/raw/zip_ncku_cdtx0001_group/cdtx0001_0092.json [Content-Type=application/json]...\n",
            "Copying file://./data/raw/zip_ncku_cdtx0001_group/cdtx0001_0093.json [Content-Type=application/json]...\n",
            "Copying file://./data/raw/zip_ncku_cdtx0001_group/cdtx0001_0094.json [Content-Type=application/json]...\n",
            "Copying file://./data/raw/zip_ncku_cdtx0001_group/cdtx0001_0095.json [Content-Type=application/json]...\n",
            "Copying file://./data/raw/zip_ncku_cdtx0001_group/cdtx0001_0096.json [Content-Type=application/json]...\n",
            "Copying file://./data/raw/zip_ncku_cdtx0001_group/cdtx0001_0097.json [Content-Type=application/json]...\n",
            "Copying file://./data/raw/zip_ncku_cdtx0001_group/cdtx0001_0098.json [Content-Type=application/json]...\n",
            "Copying file://./data/raw/zip_ncku_cdtx0001_group/cdtx0001_0099.json [Content-Type=application/json]...\n",
            "Copying file://./data/raw/zip_ncku_cdtx0001_group/cdtx0001_0100.json [Content-Type=application/json]...\n",
            "Copying file://./data/raw/zip_ncku_cdtx0001_group/cdtx0001_0101.json [Content-Type=application/json]...\n",
            "Copying file://./data/raw/zip_ncku_cdtx0001_group/cdtx0001_0102.json [Content-Type=application/json]...\n",
            "Copying file://./data/raw/zip_ncku_cdtx0001_group/cdtx0001_0103.json [Content-Type=application/json]...\n",
            "Copying file://./data/raw/zip_ncku_cdtx0001_group/cdtx0001_0104.json [Content-Type=application/json]...\n",
            "Copying file://./data/raw/zip_ncku_cdtx0001_group/cdtx0001_0105.json [Content-Type=application/json]...\n",
            "Copying file://./data/raw/zip_ncku_cdtx0001_group/cdtx0001_0106.json [Content-Type=application/json]...\n",
            "Copying file://./data/raw/zip_ncku_cdtx0001_group/cdtx0001_0107.json [Content-Type=application/json]...\n",
            "Copying file://./data/raw/zip_ncku_cdtx0001_group/cdtx0001_0108.json [Content-Type=application/json]...\n",
            "Copying file://./data/raw/zip_ncku_cdtx0001_group/cdtx0001_0109.json [Content-Type=application/json]...\n",
            "Copying file://./data/raw/zip_ncku_cdtx0001_group/cdtx0001_0110.json [Content-Type=application/json]...\n",
            "Copying file://./data/raw/zip_ncku_cdtx0001_group/cdtx0001_0111.json [Content-Type=application/json]...\n",
            "Copying file://./data/raw/zip_ncku_cdtx0001_group/cdtx0001_0112.json [Content-Type=application/json]...\n",
            "Copying file://./data/raw/zip_ncku_cdtx0001_group/cdtx0001_0113.json [Content-Type=application/json]...\n",
            "Copying file://./data/raw/zip_ncku_cdtx0001_group/cdtx0001_0114.json [Content-Type=application/json]...\n",
            "Copying file://./data/raw/zip_ncku_cdtx0001_group/cdtx0001_0115.json [Content-Type=application/json]...\n",
            "Copying file://./data/raw/zip_ncku_cdtx0001_group/cdtx0001_0116.json [Content-Type=application/json]...\n",
            "Copying file://./data/raw/zip_ncku_cdtx0001_group/cdtx0001_0117.json [Content-Type=application/json]...\n",
            "Copying file://./data/raw/zip_ncku_cdtx0001_group/cdtx0001_0118.json [Content-Type=application/json]...\n",
            "Copying file://./data/raw/zip_ncku_cdtx0001_group/cdtx0001_0119.json [Content-Type=application/json]...\n",
            "Copying file://./data/raw/zip_ncku_cdtx0001_group/cdtx0001_0120.json [Content-Type=application/json]...\n",
            "Copying file://./data/raw/zip_ncku_cdtx0001_group/cdtx0001_0121.json [Content-Type=application/json]...\n",
            "Copying file://./data/raw/zip_ncku_cdtx0001_group/cdtx0001_0122.json [Content-Type=application/json]...\n",
            "Copying file://./data/raw/zip_ncku_cdtx0001_group/cdtx0001_0123.json [Content-Type=application/json]...\n",
            "Copying file://./data/raw/zip_ncku_cdtx0001_group/cdtx0001_0124.json [Content-Type=application/json]...\n",
            "Copying file://./data/raw/zip_ncku_cdtx0001_group/cdtx0001_0125.json [Content-Type=application/json]...\n",
            "Copying file://./data/raw/zip_ncku_cdtx0001_group/cdtx0001_0126.json [Content-Type=application/json]...\n",
            "Copying file://./data/raw/zip_ncku_cdtx0001_group/cdtx0001_0127.json [Content-Type=application/json]...\n",
            "Copying file://./data/raw/zip_ncku_cdtx0001_group/cdtx0001_0128.json [Content-Type=application/json]...\n",
            "|\n",
            "Operation completed over 119 objects/77.3 GiB.                                   \n"
          ],
          "name": "stdout"
        }
      ]
    },
    {
      "cell_type": "code",
      "metadata": {
        "id": "TMY_I0o1T7th"
      },
      "source": [
        "import json\n"
      ],
      "execution_count": null,
      "outputs": []
    },
    {
      "cell_type": "code",
      "metadata": {
        "colab": {
          "base_uri": "https://localhost:8080/"
        },
        "id": "OvZTLkaAUY-b",
        "outputId": "648d6ac7-6c0c-4250-883c-bfd32af7dfe5"
      },
      "source": [
        "from tqdm import tqdm\n",
        "for i in tqdm(range(129)):\n",
        "    if i <= 40 : continue \n",
        "    try:\n",
        "        fr = open(\"./data/raw/zip_ncku_cdtx0001_group/sub_eb_customer_embedding_ncku_cdtx0001_%04d.json\"%i,\"r\")\n",
        "        obj = json.load(fr)\n",
        "        print(\"in\",'./data/raw/zip_ncku_cdtx0001_group/cdtx0001_%04d.json'%i)\n",
        "        fw = open('./data/raw/zip_ncku_cdtx0001_group/cdtx0001_%04d.json'%i,\"w\")\n",
        "\n",
        "        for k in obj:\n",
        "            fw.write(json.dumps(obj[k])+\"\\n\")\n",
        "        fr.close()\n",
        "        fw.close()\n",
        "        del obj\n",
        "    except:\n",
        "        print(\"skip:\",\n",
        "              \"./data/raw/zip_ncku_cdtx0001_group/sub_eb_customer_embedding_ncku_cdtx0001_%04d.json\"%i)\n"
      ],
      "execution_count": null,
      "outputs": [
        {
          "output_type": "stream",
          "text": [
            "\n",
            "\n",
            "  0%|          | 0/129 [00:00<?, ?it/s]\u001b[A\u001b[A"
          ],
          "name": "stderr"
        },
        {
          "output_type": "stream",
          "text": [
            "skip: ./data/raw/zip_ncku_cdtx0001_group/sub_eb_customer_embedding_ncku_cdtx0001_0041.json\n",
            "skip: ./data/raw/zip_ncku_cdtx0001_group/sub_eb_customer_embedding_ncku_cdtx0001_0042.json\n",
            "skip: ./data/raw/zip_ncku_cdtx0001_group/sub_eb_customer_embedding_ncku_cdtx0001_0043.json\n",
            "skip: ./data/raw/zip_ncku_cdtx0001_group/sub_eb_customer_embedding_ncku_cdtx0001_0044.json\n",
            "skip: ./data/raw/zip_ncku_cdtx0001_group/sub_eb_customer_embedding_ncku_cdtx0001_0045.json\n",
            "skip: ./data/raw/zip_ncku_cdtx0001_group/sub_eb_customer_embedding_ncku_cdtx0001_0046.json\n",
            "skip: ./data/raw/zip_ncku_cdtx0001_group/sub_eb_customer_embedding_ncku_cdtx0001_0047.json\n",
            "skip: ./data/raw/zip_ncku_cdtx0001_group/sub_eb_customer_embedding_ncku_cdtx0001_0048.json\n",
            "skip: ./data/raw/zip_ncku_cdtx0001_group/sub_eb_customer_embedding_ncku_cdtx0001_0049.json\n",
            "in ./data/raw/zip_ncku_cdtx0001_group/cdtx0001_0050.json\n"
          ],
          "name": "stdout"
        },
        {
          "output_type": "stream",
          "text": [
            "\n",
            "\n",
            " 40%|███▉      | 51/129 [01:29<02:16,  1.75s/it]\u001b[A\u001b[A"
          ],
          "name": "stderr"
        },
        {
          "output_type": "stream",
          "text": [
            "in ./data/raw/zip_ncku_cdtx0001_group/cdtx0001_0051.json\n"
          ],
          "name": "stdout"
        },
        {
          "output_type": "stream",
          "text": [
            "\n",
            "\n",
            " 40%|████      | 52/129 [02:46<31:25, 24.49s/it]\u001b[A\u001b[A"
          ],
          "name": "stderr"
        },
        {
          "output_type": "stream",
          "text": [
            "in ./data/raw/zip_ncku_cdtx0001_group/cdtx0001_0052.json\n"
          ],
          "name": "stdout"
        },
        {
          "output_type": "stream",
          "text": [
            "\n",
            "\n",
            " 41%|████      | 53/129 [03:58<49:11, 38.83s/it]\u001b[A\u001b[A"
          ],
          "name": "stderr"
        },
        {
          "output_type": "stream",
          "text": [
            "in ./data/raw/zip_ncku_cdtx0001_group/cdtx0001_0053.json\n"
          ],
          "name": "stdout"
        },
        {
          "output_type": "stream",
          "text": [
            "\n",
            "\n",
            " 42%|████▏     | 54/129 [05:14<1:02:24, 49.92s/it]\u001b[A\u001b[A"
          ],
          "name": "stderr"
        },
        {
          "output_type": "stream",
          "text": [
            "in ./data/raw/zip_ncku_cdtx0001_group/cdtx0001_0054.json\n"
          ],
          "name": "stdout"
        },
        {
          "output_type": "stream",
          "text": [
            "\n",
            "\n",
            " 43%|████▎     | 55/129 [06:28<1:10:25, 57.10s/it]\u001b[A\u001b[A"
          ],
          "name": "stderr"
        },
        {
          "output_type": "stream",
          "text": [
            "in ./data/raw/zip_ncku_cdtx0001_group/cdtx0001_0055.json\n"
          ],
          "name": "stdout"
        },
        {
          "output_type": "stream",
          "text": [
            "\n",
            "\n",
            " 43%|████▎     | 56/129 [07:27<1:10:10, 57.68s/it]\u001b[A\u001b[A"
          ],
          "name": "stderr"
        },
        {
          "output_type": "stream",
          "text": [
            "in ./data/raw/zip_ncku_cdtx0001_group/cdtx0001_0056.json\n"
          ],
          "name": "stdout"
        },
        {
          "output_type": "stream",
          "text": [
            "\n",
            "\n",
            " 44%|████▍     | 57/129 [08:43<1:15:41, 63.08s/it]\u001b[A\u001b[A"
          ],
          "name": "stderr"
        },
        {
          "output_type": "stream",
          "text": [
            "in ./data/raw/zip_ncku_cdtx0001_group/cdtx0001_0057.json\n"
          ],
          "name": "stdout"
        },
        {
          "output_type": "stream",
          "text": [
            "\n",
            "\n",
            " 45%|████▍     | 58/129 [10:00<1:19:38, 67.31s/it]\u001b[A\u001b[A"
          ],
          "name": "stderr"
        },
        {
          "output_type": "stream",
          "text": [
            "in ./data/raw/zip_ncku_cdtx0001_group/cdtx0001_0058.json\n"
          ],
          "name": "stdout"
        },
        {
          "output_type": "stream",
          "text": [
            "\n",
            "\n",
            " 46%|████▌     | 59/129 [11:25<1:24:33, 72.48s/it]\u001b[A\u001b[A"
          ],
          "name": "stderr"
        },
        {
          "output_type": "stream",
          "text": [
            "in ./data/raw/zip_ncku_cdtx0001_group/cdtx0001_0059.json\n"
          ],
          "name": "stdout"
        },
        {
          "output_type": "stream",
          "text": [
            "\n",
            "\n",
            " 47%|████▋     | 60/129 [12:42<1:24:58, 73.90s/it]\u001b[A\u001b[A"
          ],
          "name": "stderr"
        },
        {
          "output_type": "stream",
          "text": [
            "in ./data/raw/zip_ncku_cdtx0001_group/cdtx0001_0060.json\n"
          ],
          "name": "stdout"
        },
        {
          "output_type": "stream",
          "text": [
            "\n",
            "\n",
            " 47%|████▋     | 61/129 [13:59<1:24:49, 74.85s/it]\u001b[A\u001b[A"
          ],
          "name": "stderr"
        },
        {
          "output_type": "stream",
          "text": [
            "in ./data/raw/zip_ncku_cdtx0001_group/cdtx0001_0061.json\n"
          ],
          "name": "stdout"
        },
        {
          "output_type": "stream",
          "text": [
            "\n",
            "\n",
            " 48%|████▊     | 62/129 [14:57<1:17:55, 69.79s/it]\u001b[A\u001b[A"
          ],
          "name": "stderr"
        },
        {
          "output_type": "stream",
          "text": [
            "in ./data/raw/zip_ncku_cdtx0001_group/cdtx0001_0062.json\n"
          ],
          "name": "stdout"
        },
        {
          "output_type": "stream",
          "text": [
            "\n",
            "\n",
            " 49%|████▉     | 63/129 [16:09<1:17:29, 70.45s/it]\u001b[A\u001b[A"
          ],
          "name": "stderr"
        },
        {
          "output_type": "stream",
          "text": [
            "in ./data/raw/zip_ncku_cdtx0001_group/cdtx0001_0063.json\n"
          ],
          "name": "stdout"
        },
        {
          "output_type": "stream",
          "text": [
            "\n",
            "\n",
            " 50%|████▉     | 64/129 [17:20<1:16:38, 70.75s/it]\u001b[A\u001b[A"
          ],
          "name": "stderr"
        },
        {
          "output_type": "stream",
          "text": [
            "in ./data/raw/zip_ncku_cdtx0001_group/cdtx0001_0064.json\n"
          ],
          "name": "stdout"
        },
        {
          "output_type": "stream",
          "text": [
            "\n",
            "\n",
            " 50%|█████     | 65/129 [18:37<1:17:16, 72.44s/it]\u001b[A\u001b[A"
          ],
          "name": "stderr"
        },
        {
          "output_type": "stream",
          "text": [
            "in ./data/raw/zip_ncku_cdtx0001_group/cdtx0001_0065.json\n"
          ],
          "name": "stdout"
        },
        {
          "output_type": "stream",
          "text": [
            "\n",
            "\n",
            " 51%|█████     | 66/129 [19:48<1:15:36, 72.00s/it]\u001b[A\u001b[A"
          ],
          "name": "stderr"
        },
        {
          "output_type": "stream",
          "text": [
            "in ./data/raw/zip_ncku_cdtx0001_group/cdtx0001_0066.json\n"
          ],
          "name": "stdout"
        },
        {
          "output_type": "stream",
          "text": [
            "\n",
            "\n",
            " 52%|█████▏    | 67/129 [20:59<1:14:12, 71.81s/it]\u001b[A\u001b[A"
          ],
          "name": "stderr"
        },
        {
          "output_type": "stream",
          "text": [
            "in ./data/raw/zip_ncku_cdtx0001_group/cdtx0001_0067.json\n"
          ],
          "name": "stdout"
        },
        {
          "output_type": "stream",
          "text": [
            "\n",
            "\n",
            " 53%|█████▎    | 68/129 [22:05<1:11:23, 70.22s/it]\u001b[A\u001b[A"
          ],
          "name": "stderr"
        },
        {
          "output_type": "stream",
          "text": [
            "in ./data/raw/zip_ncku_cdtx0001_group/cdtx0001_0068.json\n"
          ],
          "name": "stdout"
        },
        {
          "output_type": "stream",
          "text": [
            "\n",
            "\n",
            " 53%|█████▎    | 69/129 [23:33<1:15:17, 75.29s/it]\u001b[A\u001b[A"
          ],
          "name": "stderr"
        },
        {
          "output_type": "stream",
          "text": [
            "in ./data/raw/zip_ncku_cdtx0001_group/cdtx0001_0069.json\n"
          ],
          "name": "stdout"
        },
        {
          "output_type": "stream",
          "text": [
            "\n",
            "\n",
            " 54%|█████▍    | 70/129 [24:41<1:12:03, 73.27s/it]\u001b[A\u001b[A"
          ],
          "name": "stderr"
        },
        {
          "output_type": "stream",
          "text": [
            "in ./data/raw/zip_ncku_cdtx0001_group/cdtx0001_0070.json\n"
          ],
          "name": "stdout"
        },
        {
          "output_type": "stream",
          "text": [
            "\n",
            "\n",
            " 55%|█████▌    | 71/129 [25:53<1:10:19, 72.74s/it]\u001b[A\u001b[A"
          ],
          "name": "stderr"
        },
        {
          "output_type": "stream",
          "text": [
            "in ./data/raw/zip_ncku_cdtx0001_group/cdtx0001_0071.json\n"
          ],
          "name": "stdout"
        },
        {
          "output_type": "stream",
          "text": [
            "\n",
            "\n",
            " 56%|█████▌    | 72/129 [27:12<1:11:06, 74.86s/it]\u001b[A\u001b[A"
          ],
          "name": "stderr"
        },
        {
          "output_type": "stream",
          "text": [
            "in ./data/raw/zip_ncku_cdtx0001_group/cdtx0001_0072.json\n"
          ],
          "name": "stdout"
        },
        {
          "output_type": "stream",
          "text": [
            "\n",
            "\n",
            " 57%|█████▋    | 73/129 [28:23<1:08:42, 73.61s/it]\u001b[A\u001b[A"
          ],
          "name": "stderr"
        },
        {
          "output_type": "stream",
          "text": [
            "in ./data/raw/zip_ncku_cdtx0001_group/cdtx0001_0073.json\n"
          ],
          "name": "stdout"
        },
        {
          "output_type": "stream",
          "text": [
            "\n",
            "\n",
            " 57%|█████▋    | 74/129 [29:25<1:04:16, 70.11s/it]\u001b[A\u001b[A"
          ],
          "name": "stderr"
        },
        {
          "output_type": "stream",
          "text": [
            "in ./data/raw/zip_ncku_cdtx0001_group/cdtx0001_0074.json\n"
          ],
          "name": "stdout"
        },
        {
          "output_type": "stream",
          "text": [
            "\n",
            "\n",
            " 58%|█████▊    | 75/129 [30:30<1:01:46, 68.64s/it]\u001b[A\u001b[A"
          ],
          "name": "stderr"
        },
        {
          "output_type": "stream",
          "text": [
            "in ./data/raw/zip_ncku_cdtx0001_group/cdtx0001_0075.json\n"
          ],
          "name": "stdout"
        },
        {
          "output_type": "stream",
          "text": [
            "\n",
            "\n",
            " 59%|█████▉    | 76/129 [31:51<1:03:44, 72.16s/it]\u001b[A\u001b[A"
          ],
          "name": "stderr"
        },
        {
          "output_type": "stream",
          "text": [
            "in ./data/raw/zip_ncku_cdtx0001_group/cdtx0001_0076.json\n"
          ],
          "name": "stdout"
        },
        {
          "output_type": "stream",
          "text": [
            "\n",
            "\n",
            " 60%|█████▉    | 77/129 [33:00<1:01:47, 71.30s/it]\u001b[A\u001b[A"
          ],
          "name": "stderr"
        },
        {
          "output_type": "stream",
          "text": [
            "in ./data/raw/zip_ncku_cdtx0001_group/cdtx0001_0077.json\n"
          ],
          "name": "stdout"
        },
        {
          "output_type": "stream",
          "text": [
            "\n",
            "\n",
            " 60%|██████    | 78/129 [34:11<1:00:29, 71.18s/it]\u001b[A\u001b[A"
          ],
          "name": "stderr"
        },
        {
          "output_type": "stream",
          "text": [
            "in ./data/raw/zip_ncku_cdtx0001_group/cdtx0001_0078.json\n"
          ],
          "name": "stdout"
        },
        {
          "output_type": "stream",
          "text": [
            "\n",
            "\n",
            " 61%|██████    | 79/129 [35:19<58:39, 70.39s/it]  \u001b[A\u001b[A"
          ],
          "name": "stderr"
        },
        {
          "output_type": "stream",
          "text": [
            "in ./data/raw/zip_ncku_cdtx0001_group/cdtx0001_0079.json\n"
          ],
          "name": "stdout"
        },
        {
          "output_type": "stream",
          "text": [
            "\n",
            "\n",
            " 62%|██████▏   | 80/129 [36:07<51:57, 63.61s/it]\u001b[A\u001b[A"
          ],
          "name": "stderr"
        },
        {
          "output_type": "stream",
          "text": [
            "in ./data/raw/zip_ncku_cdtx0001_group/cdtx0001_0080.json\n"
          ],
          "name": "stdout"
        },
        {
          "output_type": "stream",
          "text": [
            "\n",
            "\n",
            " 63%|██████▎   | 81/129 [37:07<50:03, 62.57s/it]\u001b[A\u001b[A"
          ],
          "name": "stderr"
        },
        {
          "output_type": "stream",
          "text": [
            "in ./data/raw/zip_ncku_cdtx0001_group/cdtx0001_0081.json\n"
          ],
          "name": "stdout"
        },
        {
          "output_type": "stream",
          "text": [
            "\n",
            "\n",
            " 64%|██████▎   | 82/129 [38:02<47:12, 60.27s/it]\u001b[A\u001b[A"
          ],
          "name": "stderr"
        },
        {
          "output_type": "stream",
          "text": [
            "in ./data/raw/zip_ncku_cdtx0001_group/cdtx0001_0082.json\n"
          ],
          "name": "stdout"
        },
        {
          "output_type": "stream",
          "text": [
            "\n",
            "\n",
            " 64%|██████▍   | 83/129 [39:10<47:50, 62.39s/it]\u001b[A\u001b[A"
          ],
          "name": "stderr"
        },
        {
          "output_type": "stream",
          "text": [
            "in ./data/raw/zip_ncku_cdtx0001_group/cdtx0001_0083.json\n"
          ],
          "name": "stdout"
        },
        {
          "output_type": "stream",
          "text": [
            "\n",
            "\n",
            " 65%|██████▌   | 84/129 [40:16<47:45, 63.68s/it]\u001b[A\u001b[A"
          ],
          "name": "stderr"
        },
        {
          "output_type": "stream",
          "text": [
            "in ./data/raw/zip_ncku_cdtx0001_group/cdtx0001_0084.json\n"
          ],
          "name": "stdout"
        },
        {
          "output_type": "stream",
          "text": [
            "\n",
            "\n",
            " 66%|██████▌   | 85/129 [41:20<46:46, 63.78s/it]\u001b[A\u001b[A"
          ],
          "name": "stderr"
        },
        {
          "output_type": "stream",
          "text": [
            "in ./data/raw/zip_ncku_cdtx0001_group/cdtx0001_0085.json\n"
          ],
          "name": "stdout"
        },
        {
          "output_type": "stream",
          "text": [
            "\n",
            "\n",
            " 67%|██████▋   | 86/129 [42:26<46:10, 64.43s/it]\u001b[A\u001b[A"
          ],
          "name": "stderr"
        },
        {
          "output_type": "stream",
          "text": [
            "in ./data/raw/zip_ncku_cdtx0001_group/cdtx0001_0086.json\n"
          ],
          "name": "stdout"
        },
        {
          "output_type": "stream",
          "text": [
            "\n",
            "\n",
            " 67%|██████▋   | 87/129 [43:43<47:36, 68.01s/it]\u001b[A\u001b[A"
          ],
          "name": "stderr"
        },
        {
          "output_type": "stream",
          "text": [
            "in ./data/raw/zip_ncku_cdtx0001_group/cdtx0001_0087.json\n"
          ],
          "name": "stdout"
        },
        {
          "output_type": "stream",
          "text": [
            "\n",
            "\n",
            " 68%|██████▊   | 88/129 [44:35<43:13, 63.25s/it]\u001b[A\u001b[A"
          ],
          "name": "stderr"
        },
        {
          "output_type": "stream",
          "text": [
            "in ./data/raw/zip_ncku_cdtx0001_group/cdtx0001_0088.json\n"
          ],
          "name": "stdout"
        },
        {
          "output_type": "stream",
          "text": [
            "\n",
            "\n",
            " 69%|██████▉   | 89/129 [45:39<42:16, 63.42s/it]\u001b[A\u001b[A"
          ],
          "name": "stderr"
        },
        {
          "output_type": "stream",
          "text": [
            "in ./data/raw/zip_ncku_cdtx0001_group/cdtx0001_0089.json\n"
          ],
          "name": "stdout"
        },
        {
          "output_type": "stream",
          "text": [
            "\n",
            "\n",
            " 70%|██████▉   | 90/129 [46:25<37:53, 58.30s/it]\u001b[A\u001b[A"
          ],
          "name": "stderr"
        },
        {
          "output_type": "stream",
          "text": [
            "in ./data/raw/zip_ncku_cdtx0001_group/cdtx0001_0090.json\n"
          ],
          "name": "stdout"
        },
        {
          "output_type": "stream",
          "text": [
            "\n",
            "\n",
            " 71%|███████   | 91/129 [47:31<38:27, 60.72s/it]\u001b[A\u001b[A"
          ],
          "name": "stderr"
        },
        {
          "output_type": "stream",
          "text": [
            "in ./data/raw/zip_ncku_cdtx0001_group/cdtx0001_0091.json\n"
          ],
          "name": "stdout"
        },
        {
          "output_type": "stream",
          "text": [
            "\n",
            "\n",
            " 71%|███████▏  | 92/129 [48:17<34:39, 56.20s/it]\u001b[A\u001b[A"
          ],
          "name": "stderr"
        },
        {
          "output_type": "stream",
          "text": [
            "in ./data/raw/zip_ncku_cdtx0001_group/cdtx0001_0092.json\n"
          ],
          "name": "stdout"
        },
        {
          "output_type": "stream",
          "text": [
            "\n",
            "\n",
            " 72%|███████▏  | 93/129 [49:08<32:52, 54.78s/it]\u001b[A\u001b[A"
          ],
          "name": "stderr"
        },
        {
          "output_type": "stream",
          "text": [
            "in ./data/raw/zip_ncku_cdtx0001_group/cdtx0001_0093.json\n"
          ],
          "name": "stdout"
        },
        {
          "output_type": "stream",
          "text": [
            "\n",
            "\n",
            " 73%|███████▎  | 94/129 [50:11<33:19, 57.12s/it]\u001b[A\u001b[A"
          ],
          "name": "stderr"
        },
        {
          "output_type": "stream",
          "text": [
            "in ./data/raw/zip_ncku_cdtx0001_group/cdtx0001_0094.json\n"
          ],
          "name": "stdout"
        },
        {
          "output_type": "stream",
          "text": [
            "\n",
            "\n",
            " 74%|███████▎  | 95/129 [51:03<31:31, 55.62s/it]\u001b[A\u001b[A"
          ],
          "name": "stderr"
        },
        {
          "output_type": "stream",
          "text": [
            "in ./data/raw/zip_ncku_cdtx0001_group/cdtx0001_0095.json\n"
          ],
          "name": "stdout"
        },
        {
          "output_type": "stream",
          "text": [
            "\n",
            "\n",
            " 74%|███████▍  | 96/129 [51:57<30:22, 55.22s/it]\u001b[A\u001b[A"
          ],
          "name": "stderr"
        },
        {
          "output_type": "stream",
          "text": [
            "in ./data/raw/zip_ncku_cdtx0001_group/cdtx0001_0096.json\n"
          ],
          "name": "stdout"
        },
        {
          "output_type": "stream",
          "text": [
            "\n",
            "\n",
            " 75%|███████▌  | 97/129 [53:04<31:18, 58.69s/it]\u001b[A\u001b[A"
          ],
          "name": "stderr"
        },
        {
          "output_type": "stream",
          "text": [
            "in ./data/raw/zip_ncku_cdtx0001_group/cdtx0001_0097.json\n"
          ],
          "name": "stdout"
        },
        {
          "output_type": "stream",
          "text": [
            "\n",
            "\n",
            " 76%|███████▌  | 98/129 [54:00<29:52, 57.83s/it]\u001b[A\u001b[A"
          ],
          "name": "stderr"
        },
        {
          "output_type": "stream",
          "text": [
            "in ./data/raw/zip_ncku_cdtx0001_group/cdtx0001_0098.json\n"
          ],
          "name": "stdout"
        },
        {
          "output_type": "stream",
          "text": [
            "\n",
            "\n",
            " 77%|███████▋  | 99/129 [54:53<28:12, 56.40s/it]\u001b[A\u001b[A"
          ],
          "name": "stderr"
        },
        {
          "output_type": "stream",
          "text": [
            "in ./data/raw/zip_ncku_cdtx0001_group/cdtx0001_0099.json\n"
          ],
          "name": "stdout"
        },
        {
          "output_type": "stream",
          "text": [
            "\n",
            "\n",
            " 78%|███████▊  | 100/129 [55:50<27:19, 56.54s/it]\u001b[A\u001b[A"
          ],
          "name": "stderr"
        },
        {
          "output_type": "stream",
          "text": [
            "in ./data/raw/zip_ncku_cdtx0001_group/cdtx0001_0100.json\n"
          ],
          "name": "stdout"
        },
        {
          "output_type": "stream",
          "text": [
            "\n",
            "\n",
            " 78%|███████▊  | 101/129 [56:42<25:46, 55.22s/it]\u001b[A\u001b[A"
          ],
          "name": "stderr"
        },
        {
          "output_type": "stream",
          "text": [
            "in ./data/raw/zip_ncku_cdtx0001_group/cdtx0001_0101.json\n"
          ],
          "name": "stdout"
        },
        {
          "output_type": "stream",
          "text": [
            "\n",
            "\n",
            " 79%|███████▉  | 102/129 [57:25<23:08, 51.41s/it]\u001b[A\u001b[A"
          ],
          "name": "stderr"
        },
        {
          "output_type": "stream",
          "text": [
            "in ./data/raw/zip_ncku_cdtx0001_group/cdtx0001_0102.json\n"
          ],
          "name": "stdout"
        },
        {
          "output_type": "stream",
          "text": [
            "\n",
            "\n",
            " 80%|███████▉  | 103/129 [58:28<23:50, 55.00s/it]\u001b[A\u001b[A"
          ],
          "name": "stderr"
        },
        {
          "output_type": "stream",
          "text": [
            "in ./data/raw/zip_ncku_cdtx0001_group/cdtx0001_0103.json\n"
          ],
          "name": "stdout"
        },
        {
          "output_type": "stream",
          "text": [
            "\n",
            "\n",
            " 81%|████████  | 104/129 [59:30<23:45, 57.02s/it]\u001b[A\u001b[A"
          ],
          "name": "stderr"
        },
        {
          "output_type": "stream",
          "text": [
            "in ./data/raw/zip_ncku_cdtx0001_group/cdtx0001_0104.json\n"
          ],
          "name": "stdout"
        },
        {
          "output_type": "stream",
          "text": [
            "\n",
            "\n",
            " 81%|████████▏ | 105/129 [1:00:30<23:13, 58.06s/it]\u001b[A\u001b[A"
          ],
          "name": "stderr"
        },
        {
          "output_type": "stream",
          "text": [
            "in ./data/raw/zip_ncku_cdtx0001_group/cdtx0001_0105.json\n"
          ],
          "name": "stdout"
        },
        {
          "output_type": "stream",
          "text": [
            "\n",
            "\n",
            " 82%|████████▏ | 106/129 [1:01:31<22:35, 58.92s/it]\u001b[A\u001b[A"
          ],
          "name": "stderr"
        },
        {
          "output_type": "stream",
          "text": [
            "in ./data/raw/zip_ncku_cdtx0001_group/cdtx0001_0106.json\n"
          ],
          "name": "stdout"
        },
        {
          "output_type": "stream",
          "text": [
            "\n",
            "\n",
            " 83%|████████▎ | 107/129 [1:02:36<22:16, 60.74s/it]\u001b[A\u001b[A"
          ],
          "name": "stderr"
        },
        {
          "output_type": "stream",
          "text": [
            "in ./data/raw/zip_ncku_cdtx0001_group/cdtx0001_0107.json\n"
          ],
          "name": "stdout"
        },
        {
          "output_type": "stream",
          "text": [
            "\n",
            "\n",
            " 84%|████████▎ | 108/129 [1:03:43<21:55, 62.64s/it]\u001b[A\u001b[A"
          ],
          "name": "stderr"
        },
        {
          "output_type": "stream",
          "text": [
            "in ./data/raw/zip_ncku_cdtx0001_group/cdtx0001_0108.json\n"
          ],
          "name": "stdout"
        },
        {
          "output_type": "stream",
          "text": [
            "\n",
            "\n",
            " 84%|████████▍ | 109/129 [1:04:44<20:44, 62.22s/it]\u001b[A\u001b[A"
          ],
          "name": "stderr"
        },
        {
          "output_type": "stream",
          "text": [
            "in ./data/raw/zip_ncku_cdtx0001_group/cdtx0001_0109.json\n"
          ],
          "name": "stdout"
        },
        {
          "output_type": "stream",
          "text": [
            "\n",
            "\n",
            " 85%|████████▌ | 110/129 [1:05:37<18:45, 59.22s/it]\u001b[A\u001b[A"
          ],
          "name": "stderr"
        },
        {
          "output_type": "stream",
          "text": [
            "in ./data/raw/zip_ncku_cdtx0001_group/cdtx0001_0110.json\n"
          ],
          "name": "stdout"
        },
        {
          "output_type": "stream",
          "text": [
            "\n",
            "\n",
            " 86%|████████▌ | 111/129 [1:06:26<16:52, 56.26s/it]\u001b[A\u001b[A"
          ],
          "name": "stderr"
        },
        {
          "output_type": "stream",
          "text": [
            "in ./data/raw/zip_ncku_cdtx0001_group/cdtx0001_0111.json\n"
          ],
          "name": "stdout"
        },
        {
          "output_type": "stream",
          "text": [
            "\n",
            "\n",
            " 87%|████████▋ | 112/129 [1:07:19<15:41, 55.37s/it]\u001b[A\u001b[A"
          ],
          "name": "stderr"
        },
        {
          "output_type": "stream",
          "text": [
            "in ./data/raw/zip_ncku_cdtx0001_group/cdtx0001_0112.json\n"
          ],
          "name": "stdout"
        },
        {
          "output_type": "stream",
          "text": [
            "\n",
            "\n",
            " 88%|████████▊ | 113/129 [1:08:06<14:05, 52.86s/it]\u001b[A\u001b[A"
          ],
          "name": "stderr"
        },
        {
          "output_type": "stream",
          "text": [
            "in ./data/raw/zip_ncku_cdtx0001_group/cdtx0001_0113.json\n"
          ],
          "name": "stdout"
        },
        {
          "output_type": "stream",
          "text": [
            "\n",
            "\n",
            " 88%|████████▊ | 114/129 [1:08:57<13:04, 52.28s/it]\u001b[A\u001b[A"
          ],
          "name": "stderr"
        },
        {
          "output_type": "stream",
          "text": [
            "in ./data/raw/zip_ncku_cdtx0001_group/cdtx0001_0114.json\n"
          ],
          "name": "stdout"
        },
        {
          "output_type": "stream",
          "text": [
            "\n",
            "\n",
            " 89%|████████▉ | 115/129 [1:09:50<12:13, 52.36s/it]\u001b[A\u001b[A"
          ],
          "name": "stderr"
        },
        {
          "output_type": "stream",
          "text": [
            "in ./data/raw/zip_ncku_cdtx0001_group/cdtx0001_0115.json\n"
          ],
          "name": "stdout"
        },
        {
          "output_type": "stream",
          "text": [
            "\n",
            "\n",
            " 90%|████████▉ | 116/129 [1:10:44<11:28, 52.94s/it]\u001b[A\u001b[A"
          ],
          "name": "stderr"
        },
        {
          "output_type": "stream",
          "text": [
            "in ./data/raw/zip_ncku_cdtx0001_group/cdtx0001_0116.json\n"
          ],
          "name": "stdout"
        },
        {
          "output_type": "stream",
          "text": [
            "\n",
            "\n",
            " 91%|█████████ | 117/129 [1:11:41<10:48, 54.04s/it]\u001b[A\u001b[A"
          ],
          "name": "stderr"
        },
        {
          "output_type": "stream",
          "text": [
            "in ./data/raw/zip_ncku_cdtx0001_group/cdtx0001_0117.json\n"
          ],
          "name": "stdout"
        },
        {
          "output_type": "stream",
          "text": [
            "\n",
            "\n",
            " 91%|█████████▏| 118/129 [1:12:36<09:58, 54.38s/it]\u001b[A\u001b[A"
          ],
          "name": "stderr"
        },
        {
          "output_type": "stream",
          "text": [
            "in ./data/raw/zip_ncku_cdtx0001_group/cdtx0001_0118.json\n"
          ],
          "name": "stdout"
        },
        {
          "output_type": "stream",
          "text": [
            "\n",
            "\n",
            " 92%|█████████▏| 119/129 [1:13:34<09:14, 55.42s/it]\u001b[A\u001b[A"
          ],
          "name": "stderr"
        },
        {
          "output_type": "stream",
          "text": [
            "in ./data/raw/zip_ncku_cdtx0001_group/cdtx0001_0119.json\n"
          ],
          "name": "stdout"
        },
        {
          "output_type": "stream",
          "text": [
            "\n",
            "\n",
            " 93%|█████████▎| 120/129 [1:14:29<08:18, 55.40s/it]\u001b[A\u001b[A"
          ],
          "name": "stderr"
        },
        {
          "output_type": "stream",
          "text": [
            "in ./data/raw/zip_ncku_cdtx0001_group/cdtx0001_0120.json\n"
          ],
          "name": "stdout"
        },
        {
          "output_type": "stream",
          "text": [
            "\n",
            "\n",
            " 94%|█████████▍| 121/129 [1:15:19<07:09, 53.70s/it]\u001b[A\u001b[A"
          ],
          "name": "stderr"
        },
        {
          "output_type": "stream",
          "text": [
            "in ./data/raw/zip_ncku_cdtx0001_group/cdtx0001_0121.json\n"
          ],
          "name": "stdout"
        },
        {
          "output_type": "stream",
          "text": [
            "\n",
            "\n",
            " 95%|█████████▍| 122/129 [1:16:14<06:18, 54.13s/it]\u001b[A\u001b[A"
          ],
          "name": "stderr"
        },
        {
          "output_type": "stream",
          "text": [
            "in ./data/raw/zip_ncku_cdtx0001_group/cdtx0001_0122.json\n"
          ],
          "name": "stdout"
        },
        {
          "output_type": "stream",
          "text": [
            "\n",
            "\n",
            " 95%|█████████▌| 123/129 [1:17:02<05:14, 52.45s/it]\u001b[A\u001b[A"
          ],
          "name": "stderr"
        },
        {
          "output_type": "stream",
          "text": [
            "in ./data/raw/zip_ncku_cdtx0001_group/cdtx0001_0123.json\n"
          ],
          "name": "stdout"
        },
        {
          "output_type": "stream",
          "text": [
            "\n",
            "\n",
            " 96%|█████████▌| 124/129 [1:17:55<04:22, 52.52s/it]\u001b[A\u001b[A"
          ],
          "name": "stderr"
        },
        {
          "output_type": "stream",
          "text": [
            "in ./data/raw/zip_ncku_cdtx0001_group/cdtx0001_0124.json\n"
          ],
          "name": "stdout"
        },
        {
          "output_type": "stream",
          "text": [
            "\n",
            "\n",
            " 97%|█████████▋| 125/129 [1:18:37<03:17, 49.33s/it]\u001b[A\u001b[A"
          ],
          "name": "stderr"
        },
        {
          "output_type": "stream",
          "text": [
            "in ./data/raw/zip_ncku_cdtx0001_group/cdtx0001_0125.json\n"
          ],
          "name": "stdout"
        },
        {
          "output_type": "stream",
          "text": [
            "\n",
            "\n",
            " 98%|█████████▊| 126/129 [1:19:28<02:29, 49.97s/it]\u001b[A\u001b[A"
          ],
          "name": "stderr"
        },
        {
          "output_type": "stream",
          "text": [
            "in ./data/raw/zip_ncku_cdtx0001_group/cdtx0001_0126.json\n"
          ],
          "name": "stdout"
        },
        {
          "output_type": "stream",
          "text": [
            "\n",
            "\n",
            " 98%|█████████▊| 127/129 [1:20:22<01:42, 51.16s/it]\u001b[A\u001b[A"
          ],
          "name": "stderr"
        },
        {
          "output_type": "stream",
          "text": [
            "in ./data/raw/zip_ncku_cdtx0001_group/cdtx0001_0127.json\n"
          ],
          "name": "stdout"
        },
        {
          "output_type": "stream",
          "text": [
            "\n",
            "\n",
            " 99%|█████████▉| 128/129 [1:21:12<00:50, 50.76s/it]\u001b[A\u001b[A"
          ],
          "name": "stderr"
        },
        {
          "output_type": "stream",
          "text": [
            "in ./data/raw/zip_ncku_cdtx0001_group/cdtx0001_0128.json\n"
          ],
          "name": "stdout"
        },
        {
          "output_type": "stream",
          "text": [
            "\n",
            "\n",
            "100%|██████████| 129/129 [1:22:01<00:00, 38.15s/it]\n"
          ],
          "name": "stderr"
        }
      ]
    }
  ]
}