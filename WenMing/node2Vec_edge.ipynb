{
 "cells": [
  {
   "cell_type": "code",
   "execution_count": null,
   "metadata": {},
   "outputs": [],
   "source": [
    "import time\n",
    "import torch\n",
    "import numpy as np\n",
    "import pandas as pd\n",
    "from tqdm.notebook import tqdm\n",
    "from sklearn.manifold import TSNE\n",
    "from sklearn.preprocessing import MinMaxScaler\n",
    "\n",
    "#from torch_geometric.nn import Node2Vec\n",
    "from model import Node2Vec"
   ]
  },
  {
   "cell_type": "code",
   "execution_count": null,
   "metadata": {},
   "outputs": [],
   "source": [
    "%matplotlib inline\n",
    "import matplotlib.pyplot as plt\n",
    "import seaborn as sns"
   ]
  },
  {
   "cell_type": "code",
   "execution_count": null,
   "metadata": {},
   "outputs": [],
   "source": [
    "data = pd.read_csv('./data/sample_50k/sample_zip_if_cca_cdtx0001_hist.csv').sort_values(by=['csmdt'], ignore_index=True)\n",
    "idx_map = np.load('./data/sample_50k/sample_idx_map.npy', allow_pickle=True).item()"
   ]
  },
  {
   "cell_type": "code",
   "execution_count": null,
   "metadata": {},
   "outputs": [],
   "source": [
    "sample_size = len(idx_map)\n",
    "\n",
    "data = data[data.chid.map(idx_map) < sample_size].copy()\n",
    "data = data[data.csmdt < '2019-01-01']\n",
    "data = data.loc[:, ['chid', 'mcc', 'objam']]"
   ]
  },
  {
   "cell_type": "code",
   "execution_count": null,
   "metadata": {},
   "outputs": [],
   "source": [
    "sample_idx_map = {}\n",
    "\n",
    "for i, (key, value) in zip(range(sample_size), idx_map.items()):\n",
    "    sample_idx_map[key] = value\n",
    "    \n",
    "l = len(sample_idx_map)\n",
    "for i, j  in enumerate(set(data.mcc)):\n",
    "    sample_idx_map[j] = i+l"
   ]
  },
  {
   "cell_type": "code",
   "execution_count": null,
   "metadata": {},
   "outputs": [],
   "source": [
    "df_group = data.groupby(by=['chid', 'mcc']).mean()\n",
    "df_edge = pd.DataFrame(list(map(list, df_group.index)), columns=['chid', 'mcc'])\n",
    "df_edge['value'] = df_group.objam.values\n",
    "df_edge.chid = df_edge.chid.map(sample_idx_map)\n",
    "df_edge.mcc = df_edge.mcc.map(sample_idx_map)\n",
    "\n",
    "scaler = MinMaxScaler(feature_range=(0, 1))\n",
    "df_edge.loc[:, ['value']] = scaler.fit_transform(df_edge.loc[:, ['value']])\n",
    "\n",
    "df_edge.head(2)"
   ]
  },
  {
   "cell_type": "code",
   "execution_count": null,
   "metadata": {},
   "outputs": [],
   "source": [
    "edges = df_edge.values\n",
    "edges = np.append(edges, df_edge.loc[:, ['mcc', 'chid', 'value']].values, axis = 0)"
   ]
  },
  {
   "cell_type": "code",
   "execution_count": null,
   "metadata": {},
   "outputs": [],
   "source": [
    "device = 'cuda' if torch.cuda.is_available() else 'cpu'\n",
    "model = Node2Vec(torch.Tensor(edges.T), embedding_dim=64, walk_length=2,\n",
    "                 context_size=2, walks_per_node=10,\n",
    "                 num_negative_samples=4, p=1, q=1, sparse=False).to(device)"
   ]
  },
  {
   "cell_type": "code",
   "execution_count": null,
   "metadata": {},
   "outputs": [],
   "source": [
    "#loader = model.loader(sample_range=range(sample_size), batch_size=2048, shuffle=True, num_workers=8)\n",
    "loader = model.loader(batch_size=2048, shuffle=True, num_workers=16)\n",
    "#optimizer = torch.optim.SparseAdam(list(model.parameters()), lr=0.01)\n",
    "optimizer = torch.optim.Adam(list(model.parameters()), lr=0.01)"
   ]
  },
  {
   "cell_type": "code",
   "execution_count": null,
   "metadata": {},
   "outputs": [],
   "source": [
    "model.eval()\n",
    "embeds = model()\n",
    "tsne_embeds = TSNE(n_components=2).fit_transform(embeds.detach().cpu().numpy())"
   ]
  },
  {
   "cell_type": "code",
   "execution_count": null,
   "metadata": {},
   "outputs": [],
   "source": [
    "colors = ['#065535', '#bada55']\n",
    "\n",
    "plt.figure(figsize=(8, 8))\n",
    "plt.scatter(tsne_embeds[:sample_size, 0], tsne_embeds[:sample_size, 1], s=20, color=colors[0], label='user')\n",
    "plt.scatter(tsne_embeds[sample_size:, 0], tsne_embeds[sample_size:, 1], s=20, color=colors[1], label='item')\n",
    "plt.legend()"
   ]
  },
  {
   "cell_type": "code",
   "execution_count": null,
   "metadata": {},
   "outputs": [],
   "source": [
    "def train():\n",
    "    model.train()\n",
    "    total_loss = 0\n",
    "    for pos_rw, neg_rw, pos_val in loader:\n",
    "        optimizer.zero_grad()\n",
    "        loss = model.loss(pos_rw.to(device), neg_rw.to(device), pos_val.to(device))\n",
    "        loss.backward()\n",
    "        optimizer.step()\n",
    "        total_loss += loss.item()\n",
    "    return total_loss / len(loader)"
   ]
  },
  {
   "cell_type": "code",
   "execution_count": null,
   "metadata": {},
   "outputs": [],
   "source": [
    "epochs = 200\n",
    "\n",
    "t0 = time.time()\n",
    "\n",
    "for ep in tqdm(range(epochs)):\n",
    "    loss = train()\n",
    "    \n",
    "    print('Epoch: {:02d}, LossL {:.4f}'.format(ep+1, loss))\n",
    "print(time.time() - t0)"
   ]
  },
  {
   "cell_type": "code",
   "execution_count": null,
   "metadata": {},
   "outputs": [],
   "source": [
    "model.eval()\n",
    "embeds = model()\n",
    "tsne_embeds = TSNE(n_components=2).fit_transform(embeds.detach().cpu().numpy())"
   ]
  },
  {
   "cell_type": "code",
   "execution_count": null,
   "metadata": {},
   "outputs": [],
   "source": [
    "colors = ['#065535', '#bada55']\n",
    "\n",
    "plt.figure(figsize=(8, 8))\n",
    "plt.scatter(tsne_embeds[:sample_size, 0], tsne_embeds[:sample_size, 1], s=20, color=colors[0], label='user')\n",
    "plt.scatter(tsne_embeds[sample_size:, 0], tsne_embeds[sample_size:, 1], s=20, color=colors[1], label='item')\n",
    "plt.legend()"
   ]
  },
  {
   "cell_type": "code",
   "execution_count": null,
   "metadata": {},
   "outputs": [],
   "source": [
    "#np.save('data/sample_50k/embedding/node2vec_50k_0112', embeds.detach().cpu().numpy())\n",
    "#np.save('data/sample_50k/embedding/sample_cust_mcc_idx_map_50k_0112', sample_idx_map)"
   ]
  }
 ],
 "metadata": {
  "kernelspec": {
   "display_name": "Python 3",
   "language": "python",
   "name": "python3"
  },
  "language_info": {
   "codemirror_mode": {
    "name": "ipython",
    "version": 3
   },
   "file_extension": ".py",
   "mimetype": "text/x-python",
   "name": "python",
   "nbconvert_exporter": "python",
   "pygments_lexer": "ipython3",
   "version": "3.6.9"
  }
 },
 "nbformat": 4,
 "nbformat_minor": 2
}
