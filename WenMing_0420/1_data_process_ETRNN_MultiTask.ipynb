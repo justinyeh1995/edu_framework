{
 "cells": [
  {
   "cell_type": "code",
   "execution_count": 29,
   "metadata": {},
   "outputs": [],
   "source": [
    "import os\n",
    "import json\n",
    "import numpy as np\n",
    "import pandas as pd\n",
    "from time import time\n",
    "from tqdm import tqdm, trange\n",
    "from sklearn.preprocessing import MinMaxScaler"
   ]
  },
  {
   "cell_type": "code",
   "execution_count": 2,
   "metadata": {},
   "outputs": [],
   "source": [
    "sample_path = './data/sample_50k'\n",
    "\n",
    "chid_file = 'sample_50k_chid.txt'\n",
    "cdtx_file = 'sample_50k_cdtx.json'\n",
    "cust_f_file = 'sample_50k_cust_f.json'\n",
    "chid_dict_file = 'sample_50k_chid_idx_map.npy'"
   ]
  },
  {
   "cell_type": "code",
   "execution_count": 3,
   "metadata": {},
   "outputs": [
    {
     "data": {
      "text/plain": [
       "((50000,), 50000)"
      ]
     },
     "execution_count": 3,
     "metadata": {},
     "output_type": "execute_result"
    }
   ],
   "source": [
    "chid_array = np.loadtxt(os.path.join(sample_path, chid_file), dtype=np.str)\n",
    "chid_dict = np.load(os.path.join(sample_path, chid_dict_file), allow_pickle=True).item()\n",
    "\n",
    "chid_array.shape, len(chid_dict)"
   ]
  },
  {
   "cell_type": "code",
   "execution_count": 4,
   "metadata": {},
   "outputs": [
    {
     "name": "stdout",
     "output_type": "stream",
     "text": [
      "93.65322995185852\n"
     ]
    },
    {
     "data": {
      "text/plain": [
       "((5991848, 17), 50000)"
      ]
     },
     "execution_count": 4,
     "metadata": {},
     "output_type": "execute_result"
    }
   ],
   "source": [
    "# load 消費檔, json -> dataframe\n",
    "t0 = time()\n",
    "with open(os.path.join(sample_path, cdtx_file)) as f:\n",
    "    cdtx_dict = json.load(f)\n",
    "    \n",
    "cdtx_rows = np.array(list(map(lambda x:list(x.values()), cdtx_dict.values())))\n",
    "cdtx_cols = list(cdtx_dict.get('0').keys())    \n",
    "df_cdtx = pd.DataFrame(data=cdtx_rows, columns=cdtx_cols)\n",
    "\n",
    "df_cdtx.csmdt = df_cdtx.csmdt.apply(lambda x: x[:-len('T00:00:00.000Z')])\n",
    "df_cdtx.sort_values(by=['csmdt', 'chid'], inplace=True, ignore_index=True)\n",
    "df_cdtx.objam = df_cdtx.objam.astype(np.int64)\n",
    "print(time() - t0)\n",
    "\n",
    "df_cdtx.shape, df_cdtx.chid.nunique()"
   ]
  },
  {
   "cell_type": "code",
   "execution_count": 5,
   "metadata": {},
   "outputs": [
    {
     "name": "stdout",
     "output_type": "stream",
     "text": [
      "63.684427976608276\n"
     ]
    },
    {
     "data": {
      "text/plain": [
       "((1183871, 31), 50000)"
      ]
     },
     "execution_count": 5,
     "metadata": {},
     "output_type": "execute_result"
    }
   ],
   "source": [
    "# load 特徵檔, json -> dataframe\n",
    "t0 = time()\n",
    "with open(os.path.join(sample_path, cust_f_file)) as f:\n",
    "    cust_f_dict = json.load(f)\n",
    "    \n",
    "cust_f_rows = np.array(list(map(lambda x:list(x.values()), cust_f_dict.values())))\n",
    "cust_f_cols = list(cust_f_dict.get('0').keys())    \n",
    "df_cust_f = pd.DataFrame(data=cust_f_rows, columns=cust_f_cols)\n",
    "\n",
    "df_cust_f.data_dt = df_cust_f.data_dt.apply(lambda x: x[:-len('T00:00:00.000Z')])\n",
    "df_cust_f.sort_values(by=['data_dt', 'chid'], inplace=True, ignore_index=True)\n",
    "df_cust_f.drop_duplicates(ignore_index=True, inplace=True)\n",
    "\n",
    "print(time() - t0)\n",
    "\n",
    "df_cust_f.shape, df_cust_f.chid.nunique()"
   ]
  },
  {
   "cell_type": "code",
   "execution_count": 6,
   "metadata": {},
   "outputs": [
    {
     "name": "stdout",
     "output_type": "stream",
     "text": [
      "50000\n"
     ]
    },
    {
     "data": {
      "text/html": [
       "<div>\n",
       "<style scoped>\n",
       "    .dataframe tbody tr th:only-of-type {\n",
       "        vertical-align: middle;\n",
       "    }\n",
       "\n",
       "    .dataframe tbody tr th {\n",
       "        vertical-align: top;\n",
       "    }\n",
       "\n",
       "    .dataframe thead th {\n",
       "        text-align: right;\n",
       "    }\n",
       "</style>\n",
       "<table border=\"1\" class=\"dataframe\">\n",
       "  <thead>\n",
       "    <tr style=\"text-align: right;\">\n",
       "      <th></th>\n",
       "      <th>bnsfg</th>\n",
       "      <th>bnspt</th>\n",
       "      <th>chid</th>\n",
       "      <th>csmdt</th>\n",
       "      <th>iterm</th>\n",
       "      <th>mcc</th>\n",
       "      <th>objam</th>\n",
       "      <th>scity</th>\n",
       "      <th>tcode</th>\n",
       "      <th>hcefg</th>\n",
       "      <th>ecfg</th>\n",
       "      <th>etymd</th>\n",
       "      <th>stonc_tag</th>\n",
       "      <th>stonc_label</th>\n",
       "      <th>stonm_label</th>\n",
       "      <th>stonc_6_label</th>\n",
       "      <th>stonc_10_label</th>\n",
       "      <th>month</th>\n",
       "    </tr>\n",
       "  </thead>\n",
       "  <tbody>\n",
       "    <tr>\n",
       "      <th>0</th>\n",
       "      <td>N</td>\n",
       "      <td>0</td>\n",
       "      <td>34</td>\n",
       "      <td>2018-01-01</td>\n",
       "      <td>0</td>\n",
       "      <td>5411</td>\n",
       "      <td>19945</td>\n",
       "      <td>KAOHSIUNG</td>\n",
       "      <td>05</td>\n",
       "      <td>None</td>\n",
       "      <td>N</td>\n",
       "      <td>07</td>\n",
       "      <td>R2</td>\n",
       "      <td>650646</td>\n",
       "      <td>3.56435e+06</td>\n",
       "      <td>53003</td>\n",
       "      <td>296048</td>\n",
       "      <td>2018-01-01</td>\n",
       "    </tr>\n",
       "    <tr>\n",
       "      <th>1</th>\n",
       "      <td>N</td>\n",
       "      <td>0</td>\n",
       "      <td>34</td>\n",
       "      <td>2018-01-01</td>\n",
       "      <td>0</td>\n",
       "      <td>5811</td>\n",
       "      <td>1302</td>\n",
       "      <td>KAOHSIUNG</td>\n",
       "      <td>05</td>\n",
       "      <td>None</td>\n",
       "      <td>N</td>\n",
       "      <td>05</td>\n",
       "      <td>F3</td>\n",
       "      <td>963675</td>\n",
       "      <td>3.72518e+06</td>\n",
       "      <td>119238</td>\n",
       "      <td>529490</td>\n",
       "      <td>2018-01-01</td>\n",
       "    </tr>\n",
       "  </tbody>\n",
       "</table>\n",
       "</div>"
      ],
      "text/plain": [
       "  bnsfg bnspt  chid       csmdt iterm   mcc  objam      scity tcode hcefg  \\\n",
       "0     N     0    34  2018-01-01     0  5411  19945  KAOHSIUNG    05  None   \n",
       "1     N     0    34  2018-01-01     0  5811   1302  KAOHSIUNG    05  None   \n",
       "\n",
       "  ecfg etymd stonc_tag stonc_label  stonm_label stonc_6_label stonc_10_label  \\\n",
       "0    N    07        R2      650646  3.56435e+06         53003         296048   \n",
       "1    N    05        F3      963675  3.72518e+06        119238         529490   \n",
       "\n",
       "        month  \n",
       "0  2018-01-01  \n",
       "1  2018-01-01  "
      ]
     },
     "execution_count": 6,
     "metadata": {},
     "output_type": "execute_result"
    }
   ],
   "source": [
    "# add month column, chid convert to index\n",
    "df_cdtx.chid = df_cdtx.chid.map(chid_dict)+1\n",
    "df_cdtx['month'] = df_cdtx.csmdt.apply(lambda x: x[:-3]+'-01')\n",
    "print(df_cdtx.chid.nunique())\n",
    "\n",
    "df_cdtx.head(2)"
   ]
  },
  {
   "cell_type": "code",
   "execution_count": 7,
   "metadata": {},
   "outputs": [
    {
     "name": "stdout",
     "output_type": "stream",
     "text": [
      "50000\n"
     ]
    },
    {
     "data": {
      "text/html": [
       "<div>\n",
       "<style scoped>\n",
       "    .dataframe tbody tr th:only-of-type {\n",
       "        vertical-align: middle;\n",
       "    }\n",
       "\n",
       "    .dataframe tbody tr th {\n",
       "        vertical-align: top;\n",
       "    }\n",
       "\n",
       "    .dataframe thead th {\n",
       "        text-align: right;\n",
       "    }\n",
       "</style>\n",
       "<table border=\"1\" class=\"dataframe\">\n",
       "  <thead>\n",
       "    <tr style=\"text-align: right;\">\n",
       "      <th></th>\n",
       "      <th>chid</th>\n",
       "      <th>monin</th>\n",
       "      <th>wrky</th>\n",
       "      <th>first_mob</th>\n",
       "      <th>data_dt</th>\n",
       "      <th>masts</th>\n",
       "      <th>educd</th>\n",
       "      <th>naty</th>\n",
       "      <th>trdtp</th>\n",
       "      <th>poscd</th>\n",
       "      <th>...</th>\n",
       "      <th>constant_u2_ind</th>\n",
       "      <th>constant_u3_ind</th>\n",
       "      <th>constant_u4_ind</th>\n",
       "      <th>constant_l2_ind</th>\n",
       "      <th>constant_l3_ind</th>\n",
       "      <th>constant_l4_ind</th>\n",
       "      <th>constant_change</th>\n",
       "      <th>growth_rate</th>\n",
       "      <th>monotone_up</th>\n",
       "      <th>monotone_down</th>\n",
       "    </tr>\n",
       "  </thead>\n",
       "  <tbody>\n",
       "    <tr>\n",
       "      <th>0</th>\n",
       "      <td>1</td>\n",
       "      <td>392533.0</td>\n",
       "      <td>30.0</td>\n",
       "      <td>144.0</td>\n",
       "      <td>2018-01-01</td>\n",
       "      <td>5a7095e93ba2ee05247bba34dd4509a51e2798d33a1c7c...</td>\n",
       "      <td>a2822b0ed756338d1ff31695467786db874a02189bdbcf...</td>\n",
       "      <td>7fcfcd907e0d490a37d0e7df45db65bc6bf009c3d90f66...</td>\n",
       "      <td>99bc9b817c9067f33b85455a28efaba660e6aa1231be75...</td>\n",
       "      <td>9484866f7342a8442f275ab5cf94c4be10c4474bb036ca...</td>\n",
       "      <td>...</td>\n",
       "      <td>0.0</td>\n",
       "      <td>0.0</td>\n",
       "      <td>3.0</td>\n",
       "      <td>0.0</td>\n",
       "      <td>0.0</td>\n",
       "      <td>0.0</td>\n",
       "      <td>0.0</td>\n",
       "      <td>1.0</td>\n",
       "      <td>0.0</td>\n",
       "      <td>2.0</td>\n",
       "    </tr>\n",
       "    <tr>\n",
       "      <th>1</th>\n",
       "      <td>2</td>\n",
       "      <td>302357.0</td>\n",
       "      <td>0.0</td>\n",
       "      <td>15.0</td>\n",
       "      <td>2018-01-01</td>\n",
       "      <td>ea9d465d7361343a138603660b263e4f9fdb7bc04c5843...</td>\n",
       "      <td>a2822b0ed756338d1ff31695467786db874a02189bdbcf...</td>\n",
       "      <td>7fcfcd907e0d490a37d0e7df45db65bc6bf009c3d90f66...</td>\n",
       "      <td>f0243f3eded4a032b3ad01b034d5d6a96b92d8ba6f7344...</td>\n",
       "      <td>78c2e56448aad92ca71e8501f14fdc6f4a177ee7773dc4...</td>\n",
       "      <td>...</td>\n",
       "      <td>0.0</td>\n",
       "      <td>0.0</td>\n",
       "      <td>4.0</td>\n",
       "      <td>0.0</td>\n",
       "      <td>0.0</td>\n",
       "      <td>0.0</td>\n",
       "      <td>0.0</td>\n",
       "      <td>1.0</td>\n",
       "      <td>0.0</td>\n",
       "      <td>2.0</td>\n",
       "    </tr>\n",
       "  </tbody>\n",
       "</table>\n",
       "<p>2 rows × 31 columns</p>\n",
       "</div>"
      ],
      "text/plain": [
       "   chid     monin  wrky first_mob     data_dt  \\\n",
       "0     1  392533.0  30.0     144.0  2018-01-01   \n",
       "1     2  302357.0   0.0      15.0  2018-01-01   \n",
       "\n",
       "                                               masts  \\\n",
       "0  5a7095e93ba2ee05247bba34dd4509a51e2798d33a1c7c...   \n",
       "1  ea9d465d7361343a138603660b263e4f9fdb7bc04c5843...   \n",
       "\n",
       "                                               educd  \\\n",
       "0  a2822b0ed756338d1ff31695467786db874a02189bdbcf...   \n",
       "1  a2822b0ed756338d1ff31695467786db874a02189bdbcf...   \n",
       "\n",
       "                                                naty  \\\n",
       "0  7fcfcd907e0d490a37d0e7df45db65bc6bf009c3d90f66...   \n",
       "1  7fcfcd907e0d490a37d0e7df45db65bc6bf009c3d90f66...   \n",
       "\n",
       "                                               trdtp  \\\n",
       "0  99bc9b817c9067f33b85455a28efaba660e6aa1231be75...   \n",
       "1  f0243f3eded4a032b3ad01b034d5d6a96b92d8ba6f7344...   \n",
       "\n",
       "                                               poscd  ... constant_u2_ind  \\\n",
       "0  9484866f7342a8442f275ab5cf94c4be10c4474bb036ca...  ...             0.0   \n",
       "1  78c2e56448aad92ca71e8501f14fdc6f4a177ee7773dc4...  ...             0.0   \n",
       "\n",
       "  constant_u3_ind constant_u4_ind constant_l2_ind constant_l3_ind  \\\n",
       "0             0.0             3.0             0.0             0.0   \n",
       "1             0.0             4.0             0.0             0.0   \n",
       "\n",
       "  constant_l4_ind constant_change growth_rate monotone_up monotone_down  \n",
       "0             0.0             0.0         1.0         0.0           2.0  \n",
       "1             0.0             0.0         1.0         0.0           2.0  \n",
       "\n",
       "[2 rows x 31 columns]"
      ]
     },
     "execution_count": 7,
     "metadata": {},
     "output_type": "execute_result"
    }
   ],
   "source": [
    "# add month column, chid convert to index\n",
    "df_cust_f.chid = df_cust_f.chid.map(chid_dict)+1\n",
    "print(df_cust_f.chid.nunique())\n",
    "\n",
    "df_cust_f.head(2)"
   ]
  },
  {
   "cell_type": "code",
   "execution_count": 8,
   "metadata": {},
   "outputs": [
    {
     "data": {
      "text/plain": [
       "(875908, 6)"
      ]
     },
     "execution_count": 8,
     "metadata": {},
     "output_type": "execute_result"
    }
   ],
   "source": [
    "## 取得整個月的 objam \n",
    "cdtx_group = df_cdtx[['chid', 'month', 'objam']].groupby(['chid', 'month'])\n",
    "\n",
    "cdtx_sum = cdtx_group.sum() # 總金額\n",
    "cdtx_mean = cdtx_group.mean() # 平均金額\n",
    "cdtx_count = cdtx_group.count() # 消費次數\n",
    "\n",
    "df_cdtx_objam = pd.DataFrame(list(map(list, cdtx_sum.index)), columns=['chid', 'data_dt'])\n",
    "df_cdtx_objam['objam_sum'] = cdtx_sum.values[:, 0]\n",
    "df_cdtx_objam['objam_mean'] = cdtx_mean.values[:, 0]\n",
    "df_cdtx_objam['trans_count'] = cdtx_count.values[:, 0] # 交易次數\n",
    "\n",
    "cdtx_group = df_cdtx[['chid', 'month', 'stonc_6_label']].drop_duplicates().groupby(['chid', 'month'])\n",
    "cdtx_count = cdtx_group.count()\n",
    "df_cdtx_objam['shop_count'] = cdtx_count.values[:, 0] # 一個月內消費店家種類個數\n",
    "\n",
    "df_cdtx_objam.shape"
   ]
  },
  {
   "cell_type": "code",
   "execution_count": 9,
   "metadata": {},
   "outputs": [
    {
     "data": {
      "text/plain": [
       "(1250000, 2)"
      ]
     },
     "execution_count": 9,
     "metadata": {},
     "output_type": "execute_result"
    }
   ],
   "source": [
    "list_chid = sorted(df_cdtx.chid.unique())\n",
    "list_month = sorted(df_cdtx.month.unique())[:]\n",
    "\n",
    "df_full_y_sum = pd.DataFrame({\n",
    "    'chid': list_chid*len(list_month),\n",
    "}).sort_values(by='chid', ignore_index=True)\n",
    "df_full_y_sum['data_dt'] = list_month*len(list_chid)\n",
    "\n",
    "df_full_y_sum.shape"
   ]
  },
  {
   "cell_type": "code",
   "execution_count": 10,
   "metadata": {},
   "outputs": [
    {
     "data": {
      "text/plain": [
       "(1250000, 6)"
      ]
     },
     "execution_count": 10,
     "metadata": {},
     "output_type": "execute_result"
    }
   ],
   "source": [
    "## join objam\n",
    "df_full_y_sum = df_full_y_sum.merge(df_cdtx_objam, \n",
    "                                    how='left', \n",
    "                                    left_on=['chid', 'data_dt'], \n",
    "                                    right_on=['chid', 'data_dt']).fillna(0)\n",
    "\n",
    "df_full_y_sum.shape"
   ]
  },
  {
   "cell_type": "code",
   "execution_count": 11,
   "metadata": {},
   "outputs": [
    {
     "data": {
      "text/plain": [
       "(1183871, 35)"
      ]
     },
     "execution_count": 11,
     "metadata": {},
     "output_type": "execute_result"
    }
   ],
   "source": [
    "## join feature\n",
    "df_full_y_sum = df_full_y_sum.merge(df_cust_f, \n",
    "                                    how='inner', \n",
    "                                    left_on=['chid', 'data_dt'], \n",
    "                                    right_on=['chid', 'data_dt']).fillna(0)\n",
    "df_full_y_sum.shape"
   ]
  },
  {
   "cell_type": "code",
   "execution_count": 12,
   "metadata": {},
   "outputs": [
    {
     "name": "stderr",
     "output_type": "stream",
     "text": [
      "100%|██████████| 50000/50000 [06:40<00:00, 124.94it/s]\n"
     ]
    }
   ],
   "source": [
    "# 本月 前1、2月 平均金額 \n",
    "df_full_y_sum.insert(6, 'objam_mean_M3', 0)\n",
    "for chid in tqdm(sorted(df_full_y_sum.chid.unique())):\n",
    "    mask = df_full_y_sum.chid == chid\n",
    "    \n",
    "    temp = (df_full_y_sum.loc[mask, 'objam_sum'] + \n",
    "            df_full_y_sum.loc[mask, 'objam_sum'].shift(1).fillna(0) + \n",
    "            df_full_y_sum.loc[mask, 'objam_sum'].shift(2).fillna(0)) // 3   \n",
    "    \n",
    "    df_full_y_sum.loc[mask, 'objam_mean_M3'] = temp"
   ]
  },
  {
   "cell_type": "code",
   "execution_count": null,
   "metadata": {},
   "outputs": [],
   "source": [
    "df_full_y_sum.data_dt = df_full_y_sum.data_dt.astype(np.datetime64)\n",
    "\n",
    "df_cdtx.csmdt = df_cdtx.csmdt.astype(np.datetime64)\n",
    "df_cdtx.sort_values(by=['chid', 'csmdt'], ignore_index=True, inplace=True)\n",
    "df_cdtx['timestamp_0'] = (df_cdtx.csmdt - df_cdtx.csmdt.shift()).apply(lambda x: x.days).fillna(0) # 距離上次消費的天數\n",
    "df_cdtx['timestamp_1'] = (df_cdtx.csmdt - np.datetime64('2018-01-01')).apply(lambda x: x.days).fillna(0) # 距離2018-01-01的天數"
   ]
  },
  {
   "cell_type": "code",
   "execution_count": null,
   "metadata": {},
   "outputs": [],
   "source": [
    "# drop error row\n",
    "mask_list = []\n",
    "chid_pre = -1 \n",
    "\n",
    "for i, chid in tqdm(enumerate(df_cdtx.chid.values)):\n",
    "    if chid != chid_pre:\n",
    "        chid_pre = chid\n",
    "        mask_list.append(i)\n",
    "        \n",
    "df_cdtx.loc[mask_list, 'timestamp_0'] = 0"
   ]
  },
  {
   "cell_type": "code",
   "execution_count": null,
   "metadata": {},
   "outputs": [],
   "source": [
    "# time series columns\n",
    "category_cols = ['chid', 'bnsfg', 'iterm', 'mcc', 'scity', 'stonc_tag', 'stonc_label', 'stonm_label', \n",
    "                 'stonc_6_label', 'stonc_10_label']\n",
    "numeric_cols = ['bnspt', 'timestamp_0', 'timestamp_1', 'objam']\n",
    "\n",
    "df_input = df_cdtx[category_cols + numeric_cols].copy()"
   ]
  },
  {
   "cell_type": "code",
   "execution_count": 16,
   "metadata": {},
   "outputs": [
    {
     "name": "stdout",
     "output_type": "stream",
     "text": [
      "(5991848, 14)\n"
     ]
    },
    {
     "data": {
      "text/html": [
       "<div>\n",
       "<style scoped>\n",
       "    .dataframe tbody tr th:only-of-type {\n",
       "        vertical-align: middle;\n",
       "    }\n",
       "\n",
       "    .dataframe tbody tr th {\n",
       "        vertical-align: top;\n",
       "    }\n",
       "\n",
       "    .dataframe thead th {\n",
       "        text-align: right;\n",
       "    }\n",
       "</style>\n",
       "<table border=\"1\" class=\"dataframe\">\n",
       "  <thead>\n",
       "    <tr style=\"text-align: right;\">\n",
       "      <th></th>\n",
       "      <th>chid</th>\n",
       "      <th>bnsfg</th>\n",
       "      <th>iterm</th>\n",
       "      <th>mcc</th>\n",
       "      <th>scity</th>\n",
       "      <th>stonc_tag</th>\n",
       "      <th>stonc_label</th>\n",
       "      <th>stonm_label</th>\n",
       "      <th>stonc_6_label</th>\n",
       "      <th>stonc_10_label</th>\n",
       "      <th>bnspt</th>\n",
       "      <th>timestamp_0</th>\n",
       "      <th>timestamp_1</th>\n",
       "      <th>objam</th>\n",
       "    </tr>\n",
       "  </thead>\n",
       "  <tbody>\n",
       "    <tr>\n",
       "      <th>0</th>\n",
       "      <td>1</td>\n",
       "      <td>1</td>\n",
       "      <td>1</td>\n",
       "      <td>276</td>\n",
       "      <td>10784</td>\n",
       "      <td>38</td>\n",
       "      <td>84934</td>\n",
       "      <td>109698</td>\n",
       "      <td>58742</td>\n",
       "      <td>25124</td>\n",
       "      <td>0</td>\n",
       "      <td>0.0</td>\n",
       "      <td>19</td>\n",
       "      <td>21241</td>\n",
       "    </tr>\n",
       "    <tr>\n",
       "      <th>1</th>\n",
       "      <td>1</td>\n",
       "      <td>1</td>\n",
       "      <td>1</td>\n",
       "      <td>276</td>\n",
       "      <td>10766</td>\n",
       "      <td>38</td>\n",
       "      <td>115998</td>\n",
       "      <td>115922</td>\n",
       "      <td>61758</td>\n",
       "      <td>29054</td>\n",
       "      <td>0</td>\n",
       "      <td>33.0</td>\n",
       "      <td>52</td>\n",
       "      <td>639</td>\n",
       "    </tr>\n",
       "  </tbody>\n",
       "</table>\n",
       "</div>"
      ],
      "text/plain": [
       "   chid  bnsfg  iterm  mcc  scity  stonc_tag  stonc_label  stonm_label  \\\n",
       "0     1      1      1  276  10784         38        84934       109698   \n",
       "1     1      1      1  276  10766         38       115998       115922   \n",
       "\n",
       "   stonc_6_label  stonc_10_label bnspt  timestamp_0  timestamp_1  objam  \n",
       "0          58742           25124     0          0.0           19  21241  \n",
       "1          61758           29054     0         33.0           52    639  "
      ]
     },
     "execution_count": 16,
     "metadata": {},
     "output_type": "execute_result"
    }
   ],
   "source": [
    "# time series.category_cols convert to index\n",
    "df_input.loc[:, category_cols[1:]] = df_input.loc[:, category_cols[1:]].astype(np.str)\n",
    "\n",
    "mapper = {col: {value: index+1 for index, value in enumerate(sorted(df_input[col].unique()))} \n",
    "          for col in category_cols[1:]}\n",
    "\n",
    "df_input[category_cols[1:]] = df_input[category_cols[1:]].apply(lambda x: x.map(mapper[x.name]))\n",
    "\n",
    "print(df_input.shape)\n",
    "df_input.head(2)"
   ]
  },
  {
   "cell_type": "code",
   "execution_count": 17,
   "metadata": {},
   "outputs": [
    {
     "name": "stdout",
     "output_type": "stream",
     "text": [
      "bnsfg 2\n",
      "iterm 15\n",
      "mcc 507\n",
      "scity 11074\n",
      "stonc_tag 49\n",
      "stonc_label 202387\n",
      "stonm_label 212342\n",
      "stonc_6_label 78560\n",
      "stonc_10_label 128075\n"
     ]
    }
   ],
   "source": [
    "for feat in mapper:\n",
    "    print(feat, len(mapper[feat]))"
   ]
  },
  {
   "cell_type": "code",
   "execution_count": 18,
   "metadata": {},
   "outputs": [
    {
     "name": "stdout",
     "output_type": "stream",
     "text": [
      "(1183871, 16)\n"
     ]
    },
    {
     "data": {
      "text/html": [
       "<div>\n",
       "<style scoped>\n",
       "    .dataframe tbody tr th:only-of-type {\n",
       "        vertical-align: middle;\n",
       "    }\n",
       "\n",
       "    .dataframe tbody tr th {\n",
       "        vertical-align: top;\n",
       "    }\n",
       "\n",
       "    .dataframe thead th {\n",
       "        text-align: right;\n",
       "    }\n",
       "</style>\n",
       "<table border=\"1\" class=\"dataframe\">\n",
       "  <thead>\n",
       "    <tr style=\"text-align: right;\">\n",
       "      <th></th>\n",
       "      <th>chid</th>\n",
       "      <th>masts</th>\n",
       "      <th>educd</th>\n",
       "      <th>trdtp</th>\n",
       "      <th>poscd</th>\n",
       "      <th>slam</th>\n",
       "      <th>first_mob</th>\n",
       "      <th>constant_change</th>\n",
       "      <th>sum_l2_ind</th>\n",
       "      <th>sum_u2_ind</th>\n",
       "      <th>constant_l2_ind</th>\n",
       "      <th>constant_u4_ind</th>\n",
       "      <th>growth_rate</th>\n",
       "      <th>monotone_down</th>\n",
       "      <th>monotone_up</th>\n",
       "      <th>data_dt</th>\n",
       "    </tr>\n",
       "  </thead>\n",
       "  <tbody>\n",
       "    <tr>\n",
       "      <th>1183866</th>\n",
       "      <td>49996</td>\n",
       "      <td>ea9d465d7361343a138603660b263e4f9fdb7bc04c5843...</td>\n",
       "      <td>a2822b0ed756338d1ff31695467786db874a02189bdbcf...</td>\n",
       "      <td>4e55935aee7e67e2892b3a22b4d5a21ab77ed239947e58...</td>\n",
       "      <td>9484866f7342a8442f275ab5cf94c4be10c4474bb036ca...</td>\n",
       "      <td>962000.0</td>\n",
       "      <td>36.0</td>\n",
       "      <td>0.0</td>\n",
       "      <td>3.0</td>\n",
       "      <td>1.0</td>\n",
       "      <td>0.0</td>\n",
       "      <td>0.0</td>\n",
       "      <td>1.0</td>\n",
       "      <td>0.0</td>\n",
       "      <td>3.0</td>\n",
       "      <td>2019-12-01</td>\n",
       "    </tr>\n",
       "    <tr>\n",
       "      <th>1183867</th>\n",
       "      <td>49997</td>\n",
       "      <td>ea9d465d7361343a138603660b263e4f9fdb7bc04c5843...</td>\n",
       "      <td>78c2e56448aad92ca71e8501f14fdc6f4a177ee7773dc4...</td>\n",
       "      <td>27cda3aac16cb3ddbad97b0b4e698a602a8a2176331227...</td>\n",
       "      <td>5c5e9c182ca75b1747c92227c6b1e8d2eeb1f4d0e205ae...</td>\n",
       "      <td>592000.0</td>\n",
       "      <td>77.0</td>\n",
       "      <td>0.0</td>\n",
       "      <td>2.0</td>\n",
       "      <td>0.0</td>\n",
       "      <td>0.0</td>\n",
       "      <td>0.0</td>\n",
       "      <td>1.0</td>\n",
       "      <td>6.0</td>\n",
       "      <td>0.0</td>\n",
       "      <td>2019-12-01</td>\n",
       "    </tr>\n",
       "    <tr>\n",
       "      <th>1183868</th>\n",
       "      <td>49998</td>\n",
       "      <td>5a7095e93ba2ee05247bba34dd4509a51e2798d33a1c7c...</td>\n",
       "      <td>a2822b0ed756338d1ff31695467786db874a02189bdbcf...</td>\n",
       "      <td>4e55935aee7e67e2892b3a22b4d5a21ab77ed239947e58...</td>\n",
       "      <td>9484866f7342a8442f275ab5cf94c4be10c4474bb036ca...</td>\n",
       "      <td>814000.0</td>\n",
       "      <td>225.0</td>\n",
       "      <td>0.0</td>\n",
       "      <td>0.0</td>\n",
       "      <td>4.0</td>\n",
       "      <td>0.0</td>\n",
       "      <td>0.0</td>\n",
       "      <td>1.0</td>\n",
       "      <td>2.0</td>\n",
       "      <td>0.0</td>\n",
       "      <td>2019-12-01</td>\n",
       "    </tr>\n",
       "    <tr>\n",
       "      <th>1183869</th>\n",
       "      <td>49999</td>\n",
       "      <td>ea9d465d7361343a138603660b263e4f9fdb7bc04c5843...</td>\n",
       "      <td>78c2e56448aad92ca71e8501f14fdc6f4a177ee7773dc4...</td>\n",
       "      <td>27cda3aac16cb3ddbad97b0b4e698a602a8a2176331227...</td>\n",
       "      <td>78c2e56448aad92ca71e8501f14fdc6f4a177ee7773dc4...</td>\n",
       "      <td>1154400.0</td>\n",
       "      <td>54.0</td>\n",
       "      <td>0.0</td>\n",
       "      <td>6.0</td>\n",
       "      <td>0.0</td>\n",
       "      <td>6.0</td>\n",
       "      <td>0.0</td>\n",
       "      <td>1.0</td>\n",
       "      <td>1.0</td>\n",
       "      <td>0.0</td>\n",
       "      <td>2019-12-01</td>\n",
       "    </tr>\n",
       "    <tr>\n",
       "      <th>1183870</th>\n",
       "      <td>50000</td>\n",
       "      <td>5a7095e93ba2ee05247bba34dd4509a51e2798d33a1c7c...</td>\n",
       "      <td>78c2e56448aad92ca71e8501f14fdc6f4a177ee7773dc4...</td>\n",
       "      <td>f0243f3eded4a032b3ad01b034d5d6a96b92d8ba6f7344...</td>\n",
       "      <td>f17309a7a79032026d499f38ac354432e400e1e072b8a8...</td>\n",
       "      <td>1250600.0</td>\n",
       "      <td>60.0</td>\n",
       "      <td>0.0</td>\n",
       "      <td>0.0</td>\n",
       "      <td>0.0</td>\n",
       "      <td>0.0</td>\n",
       "      <td>0.0</td>\n",
       "      <td>1.0</td>\n",
       "      <td>2.0</td>\n",
       "      <td>0.0</td>\n",
       "      <td>2019-12-01</td>\n",
       "    </tr>\n",
       "  </tbody>\n",
       "</table>\n",
       "</div>"
      ],
      "text/plain": [
       "          chid                                              masts  \\\n",
       "1183866  49996  ea9d465d7361343a138603660b263e4f9fdb7bc04c5843...   \n",
       "1183867  49997  ea9d465d7361343a138603660b263e4f9fdb7bc04c5843...   \n",
       "1183868  49998  5a7095e93ba2ee05247bba34dd4509a51e2798d33a1c7c...   \n",
       "1183869  49999  ea9d465d7361343a138603660b263e4f9fdb7bc04c5843...   \n",
       "1183870  50000  5a7095e93ba2ee05247bba34dd4509a51e2798d33a1c7c...   \n",
       "\n",
       "                                                     educd  \\\n",
       "1183866  a2822b0ed756338d1ff31695467786db874a02189bdbcf...   \n",
       "1183867  78c2e56448aad92ca71e8501f14fdc6f4a177ee7773dc4...   \n",
       "1183868  a2822b0ed756338d1ff31695467786db874a02189bdbcf...   \n",
       "1183869  78c2e56448aad92ca71e8501f14fdc6f4a177ee7773dc4...   \n",
       "1183870  78c2e56448aad92ca71e8501f14fdc6f4a177ee7773dc4...   \n",
       "\n",
       "                                                     trdtp  \\\n",
       "1183866  4e55935aee7e67e2892b3a22b4d5a21ab77ed239947e58...   \n",
       "1183867  27cda3aac16cb3ddbad97b0b4e698a602a8a2176331227...   \n",
       "1183868  4e55935aee7e67e2892b3a22b4d5a21ab77ed239947e58...   \n",
       "1183869  27cda3aac16cb3ddbad97b0b4e698a602a8a2176331227...   \n",
       "1183870  f0243f3eded4a032b3ad01b034d5d6a96b92d8ba6f7344...   \n",
       "\n",
       "                                                     poscd       slam  \\\n",
       "1183866  9484866f7342a8442f275ab5cf94c4be10c4474bb036ca...   962000.0   \n",
       "1183867  5c5e9c182ca75b1747c92227c6b1e8d2eeb1f4d0e205ae...   592000.0   \n",
       "1183868  9484866f7342a8442f275ab5cf94c4be10c4474bb036ca...   814000.0   \n",
       "1183869  78c2e56448aad92ca71e8501f14fdc6f4a177ee7773dc4...  1154400.0   \n",
       "1183870  f17309a7a79032026d499f38ac354432e400e1e072b8a8...  1250600.0   \n",
       "\n",
       "        first_mob constant_change sum_l2_ind sum_u2_ind constant_l2_ind  \\\n",
       "1183866      36.0             0.0        3.0        1.0             0.0   \n",
       "1183867      77.0             0.0        2.0        0.0             0.0   \n",
       "1183868     225.0             0.0        0.0        4.0             0.0   \n",
       "1183869      54.0             0.0        6.0        0.0             6.0   \n",
       "1183870      60.0             0.0        0.0        0.0             0.0   \n",
       "\n",
       "        constant_u4_ind growth_rate monotone_down monotone_up    data_dt  \n",
       "1183866             0.0         1.0           0.0         3.0 2019-12-01  \n",
       "1183867             0.0         1.0           6.0         0.0 2019-12-01  \n",
       "1183868             0.0         1.0           2.0         0.0 2019-12-01  \n",
       "1183869             0.0         1.0           1.0         0.0 2019-12-01  \n",
       "1183870             0.0         1.0           2.0         0.0 2019-12-01  "
      ]
     },
     "execution_count": 18,
     "metadata": {},
     "output_type": "execute_result"
    }
   ],
   "source": [
    "# user feature columns / each month\n",
    "feat_category_cols = ['chid', 'masts', 'educd', 'trdtp', 'poscd']\n",
    "feat_numeric_cols = ['slam', 'first_mob', 'constant_change', 'sum_l2_ind', 'sum_u2_ind', 'constant_l2_ind', 'constant_u4_ind', \n",
    "                     'growth_rate', 'monotone_down', 'monotone_up']\n",
    "\n",
    "df_feat_input = df_cust_f[feat_category_cols + feat_numeric_cols + ['data_dt']].copy()\n",
    "df_feat_input.data_dt = df_feat_input.data_dt.astype(np.datetime64)\n",
    "\n",
    "print(df_feat_input.shape)\n",
    "df_feat_input.tail()"
   ]
  },
  {
   "cell_type": "code",
   "execution_count": 19,
   "metadata": {},
   "outputs": [
    {
     "name": "stdout",
     "output_type": "stream",
     "text": [
      "(1183871, 16)\n"
     ]
    },
    {
     "data": {
      "text/html": [
       "<div>\n",
       "<style scoped>\n",
       "    .dataframe tbody tr th:only-of-type {\n",
       "        vertical-align: middle;\n",
       "    }\n",
       "\n",
       "    .dataframe tbody tr th {\n",
       "        vertical-align: top;\n",
       "    }\n",
       "\n",
       "    .dataframe thead th {\n",
       "        text-align: right;\n",
       "    }\n",
       "</style>\n",
       "<table border=\"1\" class=\"dataframe\">\n",
       "  <thead>\n",
       "    <tr style=\"text-align: right;\">\n",
       "      <th></th>\n",
       "      <th>chid</th>\n",
       "      <th>masts</th>\n",
       "      <th>educd</th>\n",
       "      <th>trdtp</th>\n",
       "      <th>poscd</th>\n",
       "      <th>slam</th>\n",
       "      <th>first_mob</th>\n",
       "      <th>constant_change</th>\n",
       "      <th>sum_l2_ind</th>\n",
       "      <th>sum_u2_ind</th>\n",
       "      <th>constant_l2_ind</th>\n",
       "      <th>constant_u4_ind</th>\n",
       "      <th>growth_rate</th>\n",
       "      <th>monotone_down</th>\n",
       "      <th>monotone_up</th>\n",
       "      <th>data_dt</th>\n",
       "    </tr>\n",
       "  </thead>\n",
       "  <tbody>\n",
       "    <tr>\n",
       "      <th>0</th>\n",
       "      <td>1</td>\n",
       "      <td>1</td>\n",
       "      <td>5</td>\n",
       "      <td>18</td>\n",
       "      <td>6</td>\n",
       "      <td>577200.0</td>\n",
       "      <td>144.0</td>\n",
       "      <td>0.0</td>\n",
       "      <td>1.0</td>\n",
       "      <td>0.0</td>\n",
       "      <td>0.0</td>\n",
       "      <td>3.0</td>\n",
       "      <td>1.0</td>\n",
       "      <td>2.0</td>\n",
       "      <td>0.0</td>\n",
       "      <td>2018-01-01</td>\n",
       "    </tr>\n",
       "    <tr>\n",
       "      <th>1</th>\n",
       "      <td>2</td>\n",
       "      <td>3</td>\n",
       "      <td>5</td>\n",
       "      <td>25</td>\n",
       "      <td>5</td>\n",
       "      <td>288600.0</td>\n",
       "      <td>15.0</td>\n",
       "      <td>0.0</td>\n",
       "      <td>0.0</td>\n",
       "      <td>2.0</td>\n",
       "      <td>0.0</td>\n",
       "      <td>4.0</td>\n",
       "      <td>1.0</td>\n",
       "      <td>2.0</td>\n",
       "      <td>0.0</td>\n",
       "      <td>2018-01-01</td>\n",
       "    </tr>\n",
       "  </tbody>\n",
       "</table>\n",
       "</div>"
      ],
      "text/plain": [
       "   chid  masts  educd  trdtp  poscd      slam first_mob constant_change  \\\n",
       "0     1      1      5     18      6  577200.0     144.0             0.0   \n",
       "1     2      3      5     25      5  288600.0      15.0             0.0   \n",
       "\n",
       "  sum_l2_ind sum_u2_ind constant_l2_ind constant_u4_ind growth_rate  \\\n",
       "0        1.0        0.0             0.0             3.0         1.0   \n",
       "1        0.0        2.0             0.0             4.0         1.0   \n",
       "\n",
       "  monotone_down monotone_up    data_dt  \n",
       "0           2.0         0.0 2018-01-01  \n",
       "1           2.0         0.0 2018-01-01  "
      ]
     },
     "execution_count": 19,
     "metadata": {},
     "output_type": "execute_result"
    }
   ],
   "source": [
    "# user feature.category_cols convert to index\n",
    "df_feat_input.loc[:, feat_category_cols[1:]] = df_feat_input.loc[:, feat_category_cols[1:]].astype(np.str)\n",
    "\n",
    "feat_mapper = {col: {value: index+1 for index, value in enumerate(sorted(df_feat_input[col].unique()))} \n",
    "               for col in feat_category_cols[1:]}\n",
    "\n",
    "df_feat_input[feat_category_cols[1:]] = df_feat_input[feat_category_cols[1:]].apply(lambda x: x.map(feat_mapper[x.name]))\n",
    "\n",
    "print(df_feat_input.shape)\n",
    "df_feat_input.head(2)"
   ]
  },
  {
   "cell_type": "code",
   "execution_count": 20,
   "metadata": {},
   "outputs": [
    {
     "name": "stdout",
     "output_type": "stream",
     "text": [
      "masts 3\n",
      "educd 6\n",
      "trdtp 27\n",
      "poscd 9\n"
     ]
    }
   ],
   "source": [
    "for feat in feat_mapper:\n",
    "    print(feat, len(feat_mapper[feat]))"
   ]
  },
  {
   "cell_type": "code",
   "execution_count": 21,
   "metadata": {},
   "outputs": [
    {
     "name": "stdout",
     "output_type": "stream",
     "text": [
      "(1183871, 7)\n"
     ]
    },
    {
     "data": {
      "text/html": [
       "<div>\n",
       "<style scoped>\n",
       "    .dataframe tbody tr th:only-of-type {\n",
       "        vertical-align: middle;\n",
       "    }\n",
       "\n",
       "    .dataframe tbody tr th {\n",
       "        vertical-align: top;\n",
       "    }\n",
       "\n",
       "    .dataframe thead th {\n",
       "        text-align: right;\n",
       "    }\n",
       "</style>\n",
       "<table border=\"1\" class=\"dataframe\">\n",
       "  <thead>\n",
       "    <tr style=\"text-align: right;\">\n",
       "      <th></th>\n",
       "      <th>chid</th>\n",
       "      <th>data_dt</th>\n",
       "      <th>objam_sum</th>\n",
       "      <th>objam_mean</th>\n",
       "      <th>trans_count</th>\n",
       "      <th>shop_count</th>\n",
       "      <th>objam_mean_M3</th>\n",
       "    </tr>\n",
       "  </thead>\n",
       "  <tbody>\n",
       "    <tr>\n",
       "      <th>1183866</th>\n",
       "      <td>50000</td>\n",
       "      <td>2019-08-01</td>\n",
       "      <td>28526.0</td>\n",
       "      <td>4075.142857</td>\n",
       "      <td>7.0</td>\n",
       "      <td>5.0</td>\n",
       "      <td>27699.0</td>\n",
       "    </tr>\n",
       "    <tr>\n",
       "      <th>1183867</th>\n",
       "      <td>50000</td>\n",
       "      <td>2019-09-01</td>\n",
       "      <td>17955.0</td>\n",
       "      <td>2992.500000</td>\n",
       "      <td>6.0</td>\n",
       "      <td>4.0</td>\n",
       "      <td>20412.0</td>\n",
       "    </tr>\n",
       "    <tr>\n",
       "      <th>1183868</th>\n",
       "      <td>50000</td>\n",
       "      <td>2019-10-01</td>\n",
       "      <td>33220.0</td>\n",
       "      <td>4745.714286</td>\n",
       "      <td>7.0</td>\n",
       "      <td>6.0</td>\n",
       "      <td>26567.0</td>\n",
       "    </tr>\n",
       "    <tr>\n",
       "      <th>1183869</th>\n",
       "      <td>50000</td>\n",
       "      <td>2019-11-01</td>\n",
       "      <td>21384.0</td>\n",
       "      <td>3054.857143</td>\n",
       "      <td>7.0</td>\n",
       "      <td>5.0</td>\n",
       "      <td>24186.0</td>\n",
       "    </tr>\n",
       "    <tr>\n",
       "      <th>1183870</th>\n",
       "      <td>50000</td>\n",
       "      <td>2019-12-01</td>\n",
       "      <td>12977.0</td>\n",
       "      <td>2595.400000</td>\n",
       "      <td>5.0</td>\n",
       "      <td>4.0</td>\n",
       "      <td>22527.0</td>\n",
       "    </tr>\n",
       "  </tbody>\n",
       "</table>\n",
       "</div>"
      ],
      "text/plain": [
       "          chid    data_dt  objam_sum   objam_mean  trans_count  shop_count  \\\n",
       "1183866  50000 2019-08-01    28526.0  4075.142857          7.0         5.0   \n",
       "1183867  50000 2019-09-01    17955.0  2992.500000          6.0         4.0   \n",
       "1183868  50000 2019-10-01    33220.0  4745.714286          7.0         6.0   \n",
       "1183869  50000 2019-11-01    21384.0  3054.857143          7.0         5.0   \n",
       "1183870  50000 2019-12-01    12977.0  2595.400000          5.0         4.0   \n",
       "\n",
       "         objam_mean_M3  \n",
       "1183866        27699.0  \n",
       "1183867        20412.0  \n",
       "1183868        26567.0  \n",
       "1183869        24186.0  \n",
       "1183870        22527.0  "
      ]
     },
     "execution_count": 21,
     "metadata": {},
     "output_type": "execute_result"
    }
   ],
   "source": [
    "y_cols = ['chid', 'data_dt', 'objam_sum', 'objam_mean', 'trans_count', 'shop_count', 'objam_mean_M3']\n",
    "df_y = df_full_y_sum[y_cols].copy().reset_index(drop=True)\n",
    "\n",
    "print(df_y.shape)\n",
    "df_y.tail()"
   ]
  },
  {
   "cell_type": "code",
   "execution_count": 22,
   "metadata": {},
   "outputs": [],
   "source": [
    "def data_split(df_x, df_f, df_y, window_size, test_size=2):\n",
    "    df_x = df_x.copy()\n",
    "    df_f = df_f.copy()\n",
    "    df_y = df_y.copy()\n",
    "    \n",
    "    df_f['timestamp'] = (df_f.data_dt - np.datetime64('2018-01-01')).apply(lambda x: x.days).fillna(0)\n",
    "    df_y['timestamp'] = (df_y.data_dt - np.datetime64('2018-01-01')).apply(lambda x: x.days).fillna(0)\n",
    "    \n",
    "    x_train, x_test, f_train, f_test, y_train, y_test = [], [], [], [], [], []\n",
    "            \n",
    "    for i in tqdm(sorted(df_y.chid.unique())):\n",
    "        data_x = df_x[df_x.chid == i].reset_index(drop=True)\n",
    "        data_f = df_f[df_f.chid == i].reset_index(drop=True)\n",
    "        data_y = df_y[df_y.chid == i].reset_index(drop=True)\n",
    "        \n",
    "        last = data_y.shape[0] - 1\n",
    "        ts_list = sorted(data_y.timestamp.unique())\n",
    "        \n",
    "        for j, (ts_f, ts_y) in enumerate(zip(ts_list[:-1], ts_list[1:])):\n",
    "            data_x_ws = data_x[data_x.timestamp_1 < ts_y][-window_size:].copy()\n",
    "            data_x_ws.timestamp_1 = ts_y - data_x_ws.timestamp_1\n",
    "            data_x_ws = data_x_ws.values\n",
    "\n",
    "            if data_x_ws.shape[0] < window_size:\n",
    "                tmp = np.zeros((window_size, data_x.shape[1]))\n",
    "                if data_x_ws.shape[0] > 0:\n",
    "                    tmp[-data_x_ws.shape[0]:] = data_x_ws\n",
    "                data_x_ws = tmp\n",
    "\n",
    "            if j < last - test_size:\n",
    "                x_train.append(data_x_ws)\n",
    "                f_train.append(data_f[data_f.timestamp == ts_f].values[0, :-1])\n",
    "                y_train.append(data_y.values[j+1, :-1])\n",
    "            elif j < last:\n",
    "                x_test.append(data_x_ws)\n",
    "                f_test.append(data_f[data_f.timestamp == ts_f].values[0, :-1])\n",
    "                y_test.append(data_y.values[j+1, :-1])\n",
    "            else:\n",
    "                break        \n",
    "\n",
    "    x_train, x_test = np.array(x_train), np.array(x_test)\n",
    "    f_train, f_test = np.array(f_train), np.array(f_test)\n",
    "    y_train, y_test = np.array(y_train), np.array(y_test)\n",
    "    \n",
    "    return x_train, x_test, f_train, f_test, y_train, y_test"
   ]
  },
  {
   "cell_type": "code",
   "execution_count": 23,
   "metadata": {},
   "outputs": [
    {
     "name": "stderr",
     "output_type": "stream",
     "text": [
      "100%|██████████| 50000/50000 [43:45<00:00, 19.04it/s]  \n"
     ]
    }
   ],
   "source": [
    "# full_data，全資料\n",
    "\n",
    "# input month: train -> 2018[1, 2, ..., 12]+2019[1, 2, ..., 9], test -> 2019[10, 11]\n",
    "x_train, x_test, f_train, f_test, y_train, y_test = data_split(df_input, df_feat_input, df_y, \n",
    "                                                               window_size=120, test_size=2)"
   ]
  },
  {
   "cell_type": "code",
   "execution_count": 24,
   "metadata": {},
   "outputs": [
    {
     "data": {
      "text/plain": [
       "((1033871, 120, 14),\n",
       " (100000, 120, 14),\n",
       " (1033871, 16),\n",
       " (100000, 16),\n",
       " (1033871, 7),\n",
       " (100000, 7))"
      ]
     },
     "execution_count": 24,
     "metadata": {},
     "output_type": "execute_result"
    }
   ],
   "source": [
    "x_train.shape, x_test.shape, f_train.shape, f_test.shape, y_train.shape, y_test.shape"
   ]
  },
  {
   "cell_type": "code",
   "execution_count": 25,
   "metadata": {},
   "outputs": [
    {
     "name": "stdout",
     "output_type": "stream",
     "text": [
      "['chid', 'data_dt', 'objam_sum', 'objam_mean', 'trans_count', 'shop_count', 'objam_mean_M3_diff']\n"
     ]
    }
   ],
   "source": [
    "y_columns = list(df_y)\n",
    "y_columns[-1] = 'objam_mean_M3_diff'\n",
    "\n",
    "y_train[:, -1] = y_train[:, 2] - y_train[:, -1]\n",
    "y_test[:, -1] = y_test[:, 2] - y_test[:, -1]\n",
    "\n",
    "print(y_columns)"
   ]
  },
  {
   "cell_type": "code",
   "execution_count": 26,
   "metadata": {},
   "outputs": [],
   "source": [
    "np.save(os.path.join(sample_path, 'RNN', 'x_train'), x_train)\n",
    "np.save(os.path.join(sample_path, 'RNN', 'x_test'), x_test)\n",
    "np.save(os.path.join(sample_path, 'RNN', 'f_train'), f_train)\n",
    "np.save(os.path.join(sample_path, 'RNN', 'f_test'), f_test)\n",
    "np.save(os.path.join(sample_path, 'RNN', 'y_train'), y_train)\n",
    "np.save(os.path.join(sample_path, 'RNN', 'y_test'), y_test)"
   ]
  },
  {
   "cell_type": "code",
   "execution_count": 27,
   "metadata": {},
   "outputs": [],
   "source": [
    "np.save(os.path.join(sample_path, 'RNN', 'feature_map'), mapper)\n",
    "np.save(os.path.join(sample_path, 'RNN', 'cust_feature_map'), feat_mapper)"
   ]
  },
  {
   "cell_type": "code",
   "execution_count": 28,
   "metadata": {},
   "outputs": [
    {
     "name": "stdout",
     "output_type": "stream",
     "text": [
      "{'x_columns': ['chid', 'bnsfg', 'iterm', 'mcc', 'scity', 'stonc_tag', 'stonc_label', 'stonm_label', 'stonc_6_label', 'stonc_10_label', 'bnspt', 'timestamp_0', 'timestamp_1', 'objam'], 'f_columns': ['chid', 'masts', 'educd', 'trdtp', 'poscd', 'slam', 'first_mob', 'constant_change', 'sum_l2_ind', 'sum_u2_ind', 'constant_l2_ind', 'constant_u4_ind', 'growth_rate', 'monotone_down', 'monotone_up', 'data_dt'], 'y_columns': ['chid', 'data_dt', 'objam_sum', 'objam_mean', 'trans_count', 'shop_count', 'objam_mean_M3_diff']}\n"
     ]
    }
   ],
   "source": [
    "columns = {\n",
    "    'x_columns': list(df_input), \n",
    "    'f_columns': list(df_feat_input), \n",
    "    'y_columns': y_columns, \n",
    "}\n",
    "np.save(os.path.join(sample_path, 'RNN', 'columns'), columns)\n",
    "print(columns)"
   ]
  }
 ],
 "metadata": {
  "kernelspec": {
   "display_name": "Python 3",
   "language": "python",
   "name": "python3"
  },
  "language_info": {
   "codemirror_mode": {
    "name": "ipython",
    "version": 3
   },
   "file_extension": ".py",
   "mimetype": "text/x-python",
   "name": "python",
   "nbconvert_exporter": "python",
   "pygments_lexer": "ipython3",
   "version": "3.6.9"
  }
 },
 "nbformat": 4,
 "nbformat_minor": 5
}
