{
 "cells": [
  {
   "cell_type": "code",
   "execution_count": 1,
   "metadata": {},
   "outputs": [],
   "source": [
    "import os\n",
    "import json\n",
    "import numpy as np\n",
    "import pandas as pd\n",
    "from time import time\n",
    "from tqdm import tqdm, trange\n",
    "from sklearn.preprocessing import MinMaxScaler"
   ]
  },
  {
   "cell_type": "code",
   "execution_count": 2,
   "metadata": {},
   "outputs": [],
   "source": [
    "sample_path = './data/sample_50k'\n",
    "\n",
    "chid_file = 'sample_50k_chid.txt'\n",
    "cdtx_file = 'sample_50k_cdtx.json'\n",
    "cust_f_file = 'sample_50k_cust_f.json'\n",
    "chid_dict_file = 'sample_50k_chid_idx_map.npy'"
   ]
  },
  {
   "cell_type": "code",
   "execution_count": 3,
   "metadata": {},
   "outputs": [
    {
     "ename": "OSError",
     "evalue": "./data/sample_50k/sample_50k_chid.txt not found.",
     "output_type": "error",
     "traceback": [
      "\u001b[0;31m---------------------------------------------------------------------------\u001b[0m",
      "\u001b[0;31mOSError\u001b[0m                                   Traceback (most recent call last)",
      "\u001b[0;32m<ipython-input-3-ecdc918c8942>\u001b[0m in \u001b[0;36m<module>\u001b[0;34m\u001b[0m\n\u001b[0;32m----> 1\u001b[0;31m \u001b[0mchid_array\u001b[0m \u001b[0;34m=\u001b[0m \u001b[0mnp\u001b[0m\u001b[0;34m.\u001b[0m\u001b[0mloadtxt\u001b[0m\u001b[0;34m(\u001b[0m\u001b[0mos\u001b[0m\u001b[0;34m.\u001b[0m\u001b[0mpath\u001b[0m\u001b[0;34m.\u001b[0m\u001b[0mjoin\u001b[0m\u001b[0;34m(\u001b[0m\u001b[0msample_path\u001b[0m\u001b[0;34m,\u001b[0m \u001b[0mchid_file\u001b[0m\u001b[0;34m)\u001b[0m\u001b[0;34m,\u001b[0m \u001b[0mdtype\u001b[0m\u001b[0;34m=\u001b[0m\u001b[0mnp\u001b[0m\u001b[0;34m.\u001b[0m\u001b[0mstr\u001b[0m\u001b[0;34m)\u001b[0m\u001b[0;34m\u001b[0m\u001b[0;34m\u001b[0m\u001b[0m\n\u001b[0m\u001b[1;32m      2\u001b[0m \u001b[0mchid_dict\u001b[0m \u001b[0;34m=\u001b[0m \u001b[0mnp\u001b[0m\u001b[0;34m.\u001b[0m\u001b[0mload\u001b[0m\u001b[0;34m(\u001b[0m\u001b[0mos\u001b[0m\u001b[0;34m.\u001b[0m\u001b[0mpath\u001b[0m\u001b[0;34m.\u001b[0m\u001b[0mjoin\u001b[0m\u001b[0;34m(\u001b[0m\u001b[0msample_path\u001b[0m\u001b[0;34m,\u001b[0m \u001b[0mchid_dict_file\u001b[0m\u001b[0;34m)\u001b[0m\u001b[0;34m,\u001b[0m \u001b[0mallow_pickle\u001b[0m\u001b[0;34m=\u001b[0m\u001b[0;32mTrue\u001b[0m\u001b[0;34m)\u001b[0m\u001b[0;34m.\u001b[0m\u001b[0mitem\u001b[0m\u001b[0;34m(\u001b[0m\u001b[0;34m)\u001b[0m\u001b[0;34m\u001b[0m\u001b[0;34m\u001b[0m\u001b[0m\n\u001b[1;32m      3\u001b[0m \u001b[0;34m\u001b[0m\u001b[0m\n\u001b[1;32m      4\u001b[0m \u001b[0mchid_array\u001b[0m\u001b[0;34m.\u001b[0m\u001b[0mshape\u001b[0m\u001b[0;34m,\u001b[0m \u001b[0mlen\u001b[0m\u001b[0;34m(\u001b[0m\u001b[0mchid_dict\u001b[0m\u001b[0;34m)\u001b[0m\u001b[0;34m\u001b[0m\u001b[0;34m\u001b[0m\u001b[0m\n",
      "\u001b[0;32m~/.pyenv/versions/3.7.9/lib/python3.7/site-packages/numpy/lib/npyio.py\u001b[0m in \u001b[0;36mloadtxt\u001b[0;34m(fname, dtype, comments, delimiter, converters, skiprows, usecols, unpack, ndmin, encoding, max_rows)\u001b[0m\n\u001b[1;32m    979\u001b[0m             \u001b[0mfname\u001b[0m \u001b[0;34m=\u001b[0m \u001b[0mos_fspath\u001b[0m\u001b[0;34m(\u001b[0m\u001b[0mfname\u001b[0m\u001b[0;34m)\u001b[0m\u001b[0;34m\u001b[0m\u001b[0;34m\u001b[0m\u001b[0m\n\u001b[1;32m    980\u001b[0m         \u001b[0;32mif\u001b[0m \u001b[0m_is_string_like\u001b[0m\u001b[0;34m(\u001b[0m\u001b[0mfname\u001b[0m\u001b[0;34m)\u001b[0m\u001b[0;34m:\u001b[0m\u001b[0;34m\u001b[0m\u001b[0;34m\u001b[0m\u001b[0m\n\u001b[0;32m--> 981\u001b[0;31m             \u001b[0mfh\u001b[0m \u001b[0;34m=\u001b[0m \u001b[0mnp\u001b[0m\u001b[0;34m.\u001b[0m\u001b[0mlib\u001b[0m\u001b[0;34m.\u001b[0m\u001b[0m_datasource\u001b[0m\u001b[0;34m.\u001b[0m\u001b[0mopen\u001b[0m\u001b[0;34m(\u001b[0m\u001b[0mfname\u001b[0m\u001b[0;34m,\u001b[0m \u001b[0;34m'rt'\u001b[0m\u001b[0;34m,\u001b[0m \u001b[0mencoding\u001b[0m\u001b[0;34m=\u001b[0m\u001b[0mencoding\u001b[0m\u001b[0;34m)\u001b[0m\u001b[0;34m\u001b[0m\u001b[0;34m\u001b[0m\u001b[0m\n\u001b[0m\u001b[1;32m    982\u001b[0m             \u001b[0mfencoding\u001b[0m \u001b[0;34m=\u001b[0m \u001b[0mgetattr\u001b[0m\u001b[0;34m(\u001b[0m\u001b[0mfh\u001b[0m\u001b[0;34m,\u001b[0m \u001b[0;34m'encoding'\u001b[0m\u001b[0;34m,\u001b[0m \u001b[0;34m'latin1'\u001b[0m\u001b[0;34m)\u001b[0m\u001b[0;34m\u001b[0m\u001b[0;34m\u001b[0m\u001b[0m\n\u001b[1;32m    983\u001b[0m             \u001b[0mfh\u001b[0m \u001b[0;34m=\u001b[0m \u001b[0miter\u001b[0m\u001b[0;34m(\u001b[0m\u001b[0mfh\u001b[0m\u001b[0;34m)\u001b[0m\u001b[0;34m\u001b[0m\u001b[0;34m\u001b[0m\u001b[0m\n",
      "\u001b[0;32m~/.pyenv/versions/3.7.9/lib/python3.7/site-packages/numpy/lib/_datasource.py\u001b[0m in \u001b[0;36mopen\u001b[0;34m(path, mode, destpath, encoding, newline)\u001b[0m\n\u001b[1;32m    267\u001b[0m \u001b[0;34m\u001b[0m\u001b[0m\n\u001b[1;32m    268\u001b[0m     \u001b[0mds\u001b[0m \u001b[0;34m=\u001b[0m \u001b[0mDataSource\u001b[0m\u001b[0;34m(\u001b[0m\u001b[0mdestpath\u001b[0m\u001b[0;34m)\u001b[0m\u001b[0;34m\u001b[0m\u001b[0;34m\u001b[0m\u001b[0m\n\u001b[0;32m--> 269\u001b[0;31m     \u001b[0;32mreturn\u001b[0m \u001b[0mds\u001b[0m\u001b[0;34m.\u001b[0m\u001b[0mopen\u001b[0m\u001b[0;34m(\u001b[0m\u001b[0mpath\u001b[0m\u001b[0;34m,\u001b[0m \u001b[0mmode\u001b[0m\u001b[0;34m,\u001b[0m \u001b[0mencoding\u001b[0m\u001b[0;34m=\u001b[0m\u001b[0mencoding\u001b[0m\u001b[0;34m,\u001b[0m \u001b[0mnewline\u001b[0m\u001b[0;34m=\u001b[0m\u001b[0mnewline\u001b[0m\u001b[0;34m)\u001b[0m\u001b[0;34m\u001b[0m\u001b[0;34m\u001b[0m\u001b[0m\n\u001b[0m\u001b[1;32m    270\u001b[0m \u001b[0;34m\u001b[0m\u001b[0m\n\u001b[1;32m    271\u001b[0m \u001b[0;34m\u001b[0m\u001b[0m\n",
      "\u001b[0;32m~/.pyenv/versions/3.7.9/lib/python3.7/site-packages/numpy/lib/_datasource.py\u001b[0m in \u001b[0;36mopen\u001b[0;34m(self, path, mode, encoding, newline)\u001b[0m\n\u001b[1;32m    621\u001b[0m                                       encoding=encoding, newline=newline)\n\u001b[1;32m    622\u001b[0m         \u001b[0;32melse\u001b[0m\u001b[0;34m:\u001b[0m\u001b[0;34m\u001b[0m\u001b[0;34m\u001b[0m\u001b[0m\n\u001b[0;32m--> 623\u001b[0;31m             \u001b[0;32mraise\u001b[0m \u001b[0mIOError\u001b[0m\u001b[0;34m(\u001b[0m\u001b[0;34m\"%s not found.\"\u001b[0m \u001b[0;34m%\u001b[0m \u001b[0mpath\u001b[0m\u001b[0;34m)\u001b[0m\u001b[0;34m\u001b[0m\u001b[0;34m\u001b[0m\u001b[0m\n\u001b[0m\u001b[1;32m    624\u001b[0m \u001b[0;34m\u001b[0m\u001b[0m\n\u001b[1;32m    625\u001b[0m \u001b[0;34m\u001b[0m\u001b[0m\n",
      "\u001b[0;31mOSError\u001b[0m: ./data/sample_50k/sample_50k_chid.txt not found."
     ]
    }
   ],
   "source": [
    "chid_array = np.loadtxt(os.path.join(sample_path, chid_file), dtype=np.str)\n",
    "chid_dict = np.load(os.path.join(sample_path, chid_dict_file), allow_pickle=True).item()\n",
    "\n",
    "chid_array.shape, len(chid_dict)"
   ]
  },
  {
   "cell_type": "code",
   "execution_count": 4,
   "metadata": {},
   "outputs": [
    {
     "name": "stdout",
     "output_type": "stream",
     "text": [
      "94.79894924163818\n"
     ]
    },
    {
     "data": {
      "text/plain": [
       "((5991848, 17), 50000)"
      ]
     },
     "execution_count": 4,
     "metadata": {},
     "output_type": "execute_result"
    }
   ],
   "source": [
    "# load 消費檔, json -> dataframe\n",
    "t0 = time()\n",
    "with open(os.path.join(sample_path, cdtx_file)) as f:\n",
    "    cdtx_dict = json.load(f)\n",
    "    \n",
    "cdtx_rows = np.array(list(map(lambda x:list(x.values()), cdtx_dict.values())))\n",
    "cdtx_cols = list(cdtx_dict.get('0').keys())    \n",
    "df_cdtx = pd.DataFrame(data=cdtx_rows, columns=cdtx_cols)\n",
    "\n",
    "df_cdtx.csmdt = df_cdtx.csmdt.apply(lambda x: x[:-len('T00:00:00.000Z')])\n",
    "df_cdtx.sort_values(by=['csmdt', 'chid'], inplace=True, ignore_index=True)\n",
    "df_cdtx.objam = df_cdtx.objam.astype(np.int64)\n",
    "print(time() - t0)\n",
    "\n",
    "df_cdtx.shape, df_cdtx.chid.nunique()"
   ]
  },
  {
   "cell_type": "code",
   "execution_count": 5,
   "metadata": {},
   "outputs": [
    {
     "name": "stdout",
     "output_type": "stream",
     "text": [
      "58.011794090270996\n"
     ]
    },
    {
     "data": {
      "text/plain": [
       "((1183871, 31), 50000)"
      ]
     },
     "execution_count": 5,
     "metadata": {},
     "output_type": "execute_result"
    }
   ],
   "source": [
    "# load 特徵檔, json -> dataframe\n",
    "t0 = time()\n",
    "with open(os.path.join(sample_path, cust_f_file)) as f:\n",
    "    cust_f_dict = json.load(f)\n",
    "    \n",
    "cust_f_rows = np.array(list(map(lambda x:list(x.values()), cust_f_dict.values())))\n",
    "cust_f_cols = list(cust_f_dict.get('0').keys())    \n",
    "df_cust_f = pd.DataFrame(data=cust_f_rows, columns=cust_f_cols)\n",
    "\n",
    "df_cust_f.data_dt = df_cust_f.data_dt.apply(lambda x: x[:-len('T00:00:00.000Z')])\n",
    "df_cust_f.sort_values(by=['data_dt', 'chid'], inplace=True, ignore_index=True)\n",
    "df_cust_f.drop_duplicates(ignore_index=True, inplace=True)\n",
    "\n",
    "print(time() - t0)\n",
    "\n",
    "df_cust_f.shape, df_cust_f.chid.nunique()"
   ]
  },
  {
   "cell_type": "code",
   "execution_count": 6,
   "metadata": {},
   "outputs": [
    {
     "data": {
      "text/html": [
       "<div>\n",
       "<style scoped>\n",
       "    .dataframe tbody tr th:only-of-type {\n",
       "        vertical-align: middle;\n",
       "    }\n",
       "\n",
       "    .dataframe tbody tr th {\n",
       "        vertical-align: top;\n",
       "    }\n",
       "\n",
       "    .dataframe thead th {\n",
       "        text-align: right;\n",
       "    }\n",
       "</style>\n",
       "<table border=\"1\" class=\"dataframe\">\n",
       "  <thead>\n",
       "    <tr style=\"text-align: right;\">\n",
       "      <th></th>\n",
       "      <th>chid</th>\n",
       "      <th>monin</th>\n",
       "      <th>wrky</th>\n",
       "      <th>first_mob</th>\n",
       "      <th>data_dt</th>\n",
       "      <th>masts</th>\n",
       "      <th>educd</th>\n",
       "      <th>naty</th>\n",
       "      <th>trdtp</th>\n",
       "      <th>poscd</th>\n",
       "      <th>...</th>\n",
       "      <th>constant_u2_ind</th>\n",
       "      <th>constant_u3_ind</th>\n",
       "      <th>constant_u4_ind</th>\n",
       "      <th>constant_l2_ind</th>\n",
       "      <th>constant_l3_ind</th>\n",
       "      <th>constant_l4_ind</th>\n",
       "      <th>constant_change</th>\n",
       "      <th>growth_rate</th>\n",
       "      <th>monotone_up</th>\n",
       "      <th>monotone_down</th>\n",
       "    </tr>\n",
       "  </thead>\n",
       "  <tbody>\n",
       "    <tr>\n",
       "      <th>0</th>\n",
       "      <td>++2ooB282PrzxCER3DfKVA==</td>\n",
       "      <td>392533.0</td>\n",
       "      <td>30.0</td>\n",
       "      <td>144.0</td>\n",
       "      <td>2018-01-01</td>\n",
       "      <td>5a7095e93ba2ee05247bba34dd4509a51e2798d33a1c7c...</td>\n",
       "      <td>a2822b0ed756338d1ff31695467786db874a02189bdbcf...</td>\n",
       "      <td>7fcfcd907e0d490a37d0e7df45db65bc6bf009c3d90f66...</td>\n",
       "      <td>99bc9b817c9067f33b85455a28efaba660e6aa1231be75...</td>\n",
       "      <td>9484866f7342a8442f275ab5cf94c4be10c4474bb036ca...</td>\n",
       "      <td>...</td>\n",
       "      <td>0.0</td>\n",
       "      <td>0.0</td>\n",
       "      <td>3.0</td>\n",
       "      <td>0.0</td>\n",
       "      <td>0.0</td>\n",
       "      <td>0.0</td>\n",
       "      <td>0.0</td>\n",
       "      <td>1.0</td>\n",
       "      <td>0.0</td>\n",
       "      <td>2.0</td>\n",
       "    </tr>\n",
       "    <tr>\n",
       "      <th>1</th>\n",
       "      <td>++9w1UgockPycf2IG6QqeQ==</td>\n",
       "      <td>302357.0</td>\n",
       "      <td>0.0</td>\n",
       "      <td>15.0</td>\n",
       "      <td>2018-01-01</td>\n",
       "      <td>ea9d465d7361343a138603660b263e4f9fdb7bc04c5843...</td>\n",
       "      <td>a2822b0ed756338d1ff31695467786db874a02189bdbcf...</td>\n",
       "      <td>7fcfcd907e0d490a37d0e7df45db65bc6bf009c3d90f66...</td>\n",
       "      <td>f0243f3eded4a032b3ad01b034d5d6a96b92d8ba6f7344...</td>\n",
       "      <td>78c2e56448aad92ca71e8501f14fdc6f4a177ee7773dc4...</td>\n",
       "      <td>...</td>\n",
       "      <td>0.0</td>\n",
       "      <td>0.0</td>\n",
       "      <td>4.0</td>\n",
       "      <td>0.0</td>\n",
       "      <td>0.0</td>\n",
       "      <td>0.0</td>\n",
       "      <td>0.0</td>\n",
       "      <td>1.0</td>\n",
       "      <td>0.0</td>\n",
       "      <td>2.0</td>\n",
       "    </tr>\n",
       "    <tr>\n",
       "      <th>2</th>\n",
       "      <td>++GnbfoVuQ14bYMTfFu5Iw==</td>\n",
       "      <td>259052.0</td>\n",
       "      <td>0.0</td>\n",
       "      <td>184.0</td>\n",
       "      <td>2018-01-01</td>\n",
       "      <td>ea9d465d7361343a138603660b263e4f9fdb7bc04c5843...</td>\n",
       "      <td>1ed13fb8d916b8ba4aca01f3ab6eca7a819b92e912c7a8...</td>\n",
       "      <td>7fcfcd907e0d490a37d0e7df45db65bc6bf009c3d90f66...</td>\n",
       "      <td>99bc9b817c9067f33b85455a28efaba660e6aa1231be75...</td>\n",
       "      <td>78c2e56448aad92ca71e8501f14fdc6f4a177ee7773dc4...</td>\n",
       "      <td>...</td>\n",
       "      <td>0.0</td>\n",
       "      <td>0.0</td>\n",
       "      <td>0.0</td>\n",
       "      <td>0.0</td>\n",
       "      <td>0.0</td>\n",
       "      <td>0.0</td>\n",
       "      <td>1.0</td>\n",
       "      <td>1.0</td>\n",
       "      <td>1.0</td>\n",
       "      <td>0.0</td>\n",
       "    </tr>\n",
       "    <tr>\n",
       "      <th>3</th>\n",
       "      <td>++JbCrg7w3D/R9imzfxilg==</td>\n",
       "      <td>1747384.0</td>\n",
       "      <td>0.0</td>\n",
       "      <td>153.0</td>\n",
       "      <td>2018-01-01</td>\n",
       "      <td>5a7095e93ba2ee05247bba34dd4509a51e2798d33a1c7c...</td>\n",
       "      <td>a2822b0ed756338d1ff31695467786db874a02189bdbcf...</td>\n",
       "      <td>7fcfcd907e0d490a37d0e7df45db65bc6bf009c3d90f66...</td>\n",
       "      <td>f0243f3eded4a032b3ad01b034d5d6a96b92d8ba6f7344...</td>\n",
       "      <td>78c2e56448aad92ca71e8501f14fdc6f4a177ee7773dc4...</td>\n",
       "      <td>...</td>\n",
       "      <td>0.0</td>\n",
       "      <td>0.0</td>\n",
       "      <td>0.0</td>\n",
       "      <td>0.0</td>\n",
       "      <td>0.0</td>\n",
       "      <td>0.0</td>\n",
       "      <td>0.0</td>\n",
       "      <td>0.0</td>\n",
       "      <td>0.0</td>\n",
       "      <td>0.0</td>\n",
       "    </tr>\n",
       "    <tr>\n",
       "      <th>4</th>\n",
       "      <td>++Vm1gVqBD+aJKBg71hRWA==</td>\n",
       "      <td>402915.0</td>\n",
       "      <td>0.0</td>\n",
       "      <td>51.0</td>\n",
       "      <td>2018-01-01</td>\n",
       "      <td>ea9d465d7361343a138603660b263e4f9fdb7bc04c5843...</td>\n",
       "      <td>9ea8636e8661c94a50a8f80087137df3df35659c2aca17...</td>\n",
       "      <td>7fcfcd907e0d490a37d0e7df45db65bc6bf009c3d90f66...</td>\n",
       "      <td>53f490495a0ec0ee6aaf9c03252e5989b3624d312c7b72...</td>\n",
       "      <td>9484866f7342a8442f275ab5cf94c4be10c4474bb036ca...</td>\n",
       "      <td>...</td>\n",
       "      <td>0.0</td>\n",
       "      <td>0.0</td>\n",
       "      <td>0.0</td>\n",
       "      <td>0.0</td>\n",
       "      <td>0.0</td>\n",
       "      <td>0.0</td>\n",
       "      <td>0.0</td>\n",
       "      <td>0.0</td>\n",
       "      <td>0.0</td>\n",
       "      <td>0.0</td>\n",
       "    </tr>\n",
       "  </tbody>\n",
       "</table>\n",
       "<p>5 rows × 31 columns</p>\n",
       "</div>"
      ],
      "text/plain": [
       "                       chid      monin  wrky first_mob     data_dt  \\\n",
       "0  ++2ooB282PrzxCER3DfKVA==   392533.0  30.0     144.0  2018-01-01   \n",
       "1  ++9w1UgockPycf2IG6QqeQ==   302357.0   0.0      15.0  2018-01-01   \n",
       "2  ++GnbfoVuQ14bYMTfFu5Iw==   259052.0   0.0     184.0  2018-01-01   \n",
       "3  ++JbCrg7w3D/R9imzfxilg==  1747384.0   0.0     153.0  2018-01-01   \n",
       "4  ++Vm1gVqBD+aJKBg71hRWA==   402915.0   0.0      51.0  2018-01-01   \n",
       "\n",
       "                                               masts  \\\n",
       "0  5a7095e93ba2ee05247bba34dd4509a51e2798d33a1c7c...   \n",
       "1  ea9d465d7361343a138603660b263e4f9fdb7bc04c5843...   \n",
       "2  ea9d465d7361343a138603660b263e4f9fdb7bc04c5843...   \n",
       "3  5a7095e93ba2ee05247bba34dd4509a51e2798d33a1c7c...   \n",
       "4  ea9d465d7361343a138603660b263e4f9fdb7bc04c5843...   \n",
       "\n",
       "                                               educd  \\\n",
       "0  a2822b0ed756338d1ff31695467786db874a02189bdbcf...   \n",
       "1  a2822b0ed756338d1ff31695467786db874a02189bdbcf...   \n",
       "2  1ed13fb8d916b8ba4aca01f3ab6eca7a819b92e912c7a8...   \n",
       "3  a2822b0ed756338d1ff31695467786db874a02189bdbcf...   \n",
       "4  9ea8636e8661c94a50a8f80087137df3df35659c2aca17...   \n",
       "\n",
       "                                                naty  \\\n",
       "0  7fcfcd907e0d490a37d0e7df45db65bc6bf009c3d90f66...   \n",
       "1  7fcfcd907e0d490a37d0e7df45db65bc6bf009c3d90f66...   \n",
       "2  7fcfcd907e0d490a37d0e7df45db65bc6bf009c3d90f66...   \n",
       "3  7fcfcd907e0d490a37d0e7df45db65bc6bf009c3d90f66...   \n",
       "4  7fcfcd907e0d490a37d0e7df45db65bc6bf009c3d90f66...   \n",
       "\n",
       "                                               trdtp  \\\n",
       "0  99bc9b817c9067f33b85455a28efaba660e6aa1231be75...   \n",
       "1  f0243f3eded4a032b3ad01b034d5d6a96b92d8ba6f7344...   \n",
       "2  99bc9b817c9067f33b85455a28efaba660e6aa1231be75...   \n",
       "3  f0243f3eded4a032b3ad01b034d5d6a96b92d8ba6f7344...   \n",
       "4  53f490495a0ec0ee6aaf9c03252e5989b3624d312c7b72...   \n",
       "\n",
       "                                               poscd  ... constant_u2_ind  \\\n",
       "0  9484866f7342a8442f275ab5cf94c4be10c4474bb036ca...  ...             0.0   \n",
       "1  78c2e56448aad92ca71e8501f14fdc6f4a177ee7773dc4...  ...             0.0   \n",
       "2  78c2e56448aad92ca71e8501f14fdc6f4a177ee7773dc4...  ...             0.0   \n",
       "3  78c2e56448aad92ca71e8501f14fdc6f4a177ee7773dc4...  ...             0.0   \n",
       "4  9484866f7342a8442f275ab5cf94c4be10c4474bb036ca...  ...             0.0   \n",
       "\n",
       "  constant_u3_ind constant_u4_ind constant_l2_ind constant_l3_ind  \\\n",
       "0             0.0             3.0             0.0             0.0   \n",
       "1             0.0             4.0             0.0             0.0   \n",
       "2             0.0             0.0             0.0             0.0   \n",
       "3             0.0             0.0             0.0             0.0   \n",
       "4             0.0             0.0             0.0             0.0   \n",
       "\n",
       "  constant_l4_ind constant_change growth_rate monotone_up monotone_down  \n",
       "0             0.0             0.0         1.0         0.0           2.0  \n",
       "1             0.0             0.0         1.0         0.0           2.0  \n",
       "2             0.0             1.0         1.0         1.0           0.0  \n",
       "3             0.0             0.0         0.0         0.0           0.0  \n",
       "4             0.0             0.0         0.0         0.0           0.0  \n",
       "\n",
       "[5 rows x 31 columns]"
      ]
     },
     "execution_count": 6,
     "metadata": {},
     "output_type": "execute_result"
    }
   ],
   "source": [
    "df_cust_f.head()"
   ]
  },
  {
   "cell_type": "code",
   "execution_count": 7,
   "metadata": {},
   "outputs": [
    {
     "name": "stdout",
     "output_type": "stream",
     "text": [
      "50000\n"
     ]
    },
    {
     "data": {
      "text/html": [
       "<div>\n",
       "<style scoped>\n",
       "    .dataframe tbody tr th:only-of-type {\n",
       "        vertical-align: middle;\n",
       "    }\n",
       "\n",
       "    .dataframe tbody tr th {\n",
       "        vertical-align: top;\n",
       "    }\n",
       "\n",
       "    .dataframe thead th {\n",
       "        text-align: right;\n",
       "    }\n",
       "</style>\n",
       "<table border=\"1\" class=\"dataframe\">\n",
       "  <thead>\n",
       "    <tr style=\"text-align: right;\">\n",
       "      <th></th>\n",
       "      <th>bnsfg</th>\n",
       "      <th>bnspt</th>\n",
       "      <th>chid</th>\n",
       "      <th>csmdt</th>\n",
       "      <th>iterm</th>\n",
       "      <th>mcc</th>\n",
       "      <th>objam</th>\n",
       "      <th>scity</th>\n",
       "      <th>tcode</th>\n",
       "      <th>hcefg</th>\n",
       "      <th>ecfg</th>\n",
       "      <th>etymd</th>\n",
       "      <th>stonc_tag</th>\n",
       "      <th>stonc_label</th>\n",
       "      <th>stonm_label</th>\n",
       "      <th>stonc_6_label</th>\n",
       "      <th>stonc_10_label</th>\n",
       "      <th>month</th>\n",
       "    </tr>\n",
       "  </thead>\n",
       "  <tbody>\n",
       "    <tr>\n",
       "      <th>0</th>\n",
       "      <td>N</td>\n",
       "      <td>0</td>\n",
       "      <td>33</td>\n",
       "      <td>2018-01-01</td>\n",
       "      <td>0</td>\n",
       "      <td>5411</td>\n",
       "      <td>19945</td>\n",
       "      <td>KAOHSIUNG</td>\n",
       "      <td>05</td>\n",
       "      <td>None</td>\n",
       "      <td>N</td>\n",
       "      <td>07</td>\n",
       "      <td>R2</td>\n",
       "      <td>650646</td>\n",
       "      <td>3.56435e+06</td>\n",
       "      <td>53003</td>\n",
       "      <td>296048</td>\n",
       "      <td>2018-01-01</td>\n",
       "    </tr>\n",
       "    <tr>\n",
       "      <th>1</th>\n",
       "      <td>N</td>\n",
       "      <td>0</td>\n",
       "      <td>33</td>\n",
       "      <td>2018-01-01</td>\n",
       "      <td>0</td>\n",
       "      <td>5811</td>\n",
       "      <td>1302</td>\n",
       "      <td>KAOHSIUNG</td>\n",
       "      <td>05</td>\n",
       "      <td>None</td>\n",
       "      <td>N</td>\n",
       "      <td>05</td>\n",
       "      <td>F3</td>\n",
       "      <td>963675</td>\n",
       "      <td>3.72518e+06</td>\n",
       "      <td>119238</td>\n",
       "      <td>529490</td>\n",
       "      <td>2018-01-01</td>\n",
       "    </tr>\n",
       "  </tbody>\n",
       "</table>\n",
       "</div>"
      ],
      "text/plain": [
       "  bnsfg bnspt  chid       csmdt iterm   mcc  objam      scity tcode hcefg  \\\n",
       "0     N     0    33  2018-01-01     0  5411  19945  KAOHSIUNG    05  None   \n",
       "1     N     0    33  2018-01-01     0  5811   1302  KAOHSIUNG    05  None   \n",
       "\n",
       "  ecfg etymd stonc_tag stonc_label  stonm_label stonc_6_label stonc_10_label  \\\n",
       "0    N    07        R2      650646  3.56435e+06         53003         296048   \n",
       "1    N    05        F3      963675  3.72518e+06        119238         529490   \n",
       "\n",
       "        month  \n",
       "0  2018-01-01  \n",
       "1  2018-01-01  "
      ]
     },
     "execution_count": 7,
     "metadata": {},
     "output_type": "execute_result"
    }
   ],
   "source": [
    "# add month column, chid convert to index\n",
    "df_cdtx.chid = df_cdtx.chid.map(chid_dict)\n",
    "df_cdtx['month'] = df_cdtx.csmdt.apply(lambda x: x[:-3]+'-01')\n",
    "print(df_cdtx.chid.nunique())\n",
    "\n",
    "df_cdtx.head(2)"
   ]
  },
  {
   "cell_type": "code",
   "execution_count": 8,
   "metadata": {},
   "outputs": [
    {
     "name": "stdout",
     "output_type": "stream",
     "text": [
      "50000\n"
     ]
    },
    {
     "data": {
      "text/html": [
       "<div>\n",
       "<style scoped>\n",
       "    .dataframe tbody tr th:only-of-type {\n",
       "        vertical-align: middle;\n",
       "    }\n",
       "\n",
       "    .dataframe tbody tr th {\n",
       "        vertical-align: top;\n",
       "    }\n",
       "\n",
       "    .dataframe thead th {\n",
       "        text-align: right;\n",
       "    }\n",
       "</style>\n",
       "<table border=\"1\" class=\"dataframe\">\n",
       "  <thead>\n",
       "    <tr style=\"text-align: right;\">\n",
       "      <th></th>\n",
       "      <th>chid</th>\n",
       "      <th>monin</th>\n",
       "      <th>wrky</th>\n",
       "      <th>first_mob</th>\n",
       "      <th>data_dt</th>\n",
       "      <th>masts</th>\n",
       "      <th>educd</th>\n",
       "      <th>naty</th>\n",
       "      <th>trdtp</th>\n",
       "      <th>poscd</th>\n",
       "      <th>...</th>\n",
       "      <th>constant_u2_ind</th>\n",
       "      <th>constant_u3_ind</th>\n",
       "      <th>constant_u4_ind</th>\n",
       "      <th>constant_l2_ind</th>\n",
       "      <th>constant_l3_ind</th>\n",
       "      <th>constant_l4_ind</th>\n",
       "      <th>constant_change</th>\n",
       "      <th>growth_rate</th>\n",
       "      <th>monotone_up</th>\n",
       "      <th>monotone_down</th>\n",
       "    </tr>\n",
       "  </thead>\n",
       "  <tbody>\n",
       "    <tr>\n",
       "      <th>0</th>\n",
       "      <td>0</td>\n",
       "      <td>392533.0</td>\n",
       "      <td>30.0</td>\n",
       "      <td>144.0</td>\n",
       "      <td>2018-01-01</td>\n",
       "      <td>5a7095e93ba2ee05247bba34dd4509a51e2798d33a1c7c...</td>\n",
       "      <td>a2822b0ed756338d1ff31695467786db874a02189bdbcf...</td>\n",
       "      <td>7fcfcd907e0d490a37d0e7df45db65bc6bf009c3d90f66...</td>\n",
       "      <td>99bc9b817c9067f33b85455a28efaba660e6aa1231be75...</td>\n",
       "      <td>9484866f7342a8442f275ab5cf94c4be10c4474bb036ca...</td>\n",
       "      <td>...</td>\n",
       "      <td>0.0</td>\n",
       "      <td>0.0</td>\n",
       "      <td>3.0</td>\n",
       "      <td>0.0</td>\n",
       "      <td>0.0</td>\n",
       "      <td>0.0</td>\n",
       "      <td>0.0</td>\n",
       "      <td>1.0</td>\n",
       "      <td>0.0</td>\n",
       "      <td>2.0</td>\n",
       "    </tr>\n",
       "    <tr>\n",
       "      <th>1</th>\n",
       "      <td>1</td>\n",
       "      <td>302357.0</td>\n",
       "      <td>0.0</td>\n",
       "      <td>15.0</td>\n",
       "      <td>2018-01-01</td>\n",
       "      <td>ea9d465d7361343a138603660b263e4f9fdb7bc04c5843...</td>\n",
       "      <td>a2822b0ed756338d1ff31695467786db874a02189bdbcf...</td>\n",
       "      <td>7fcfcd907e0d490a37d0e7df45db65bc6bf009c3d90f66...</td>\n",
       "      <td>f0243f3eded4a032b3ad01b034d5d6a96b92d8ba6f7344...</td>\n",
       "      <td>78c2e56448aad92ca71e8501f14fdc6f4a177ee7773dc4...</td>\n",
       "      <td>...</td>\n",
       "      <td>0.0</td>\n",
       "      <td>0.0</td>\n",
       "      <td>4.0</td>\n",
       "      <td>0.0</td>\n",
       "      <td>0.0</td>\n",
       "      <td>0.0</td>\n",
       "      <td>0.0</td>\n",
       "      <td>1.0</td>\n",
       "      <td>0.0</td>\n",
       "      <td>2.0</td>\n",
       "    </tr>\n",
       "  </tbody>\n",
       "</table>\n",
       "<p>2 rows × 31 columns</p>\n",
       "</div>"
      ],
      "text/plain": [
       "   chid     monin  wrky first_mob     data_dt  \\\n",
       "0     0  392533.0  30.0     144.0  2018-01-01   \n",
       "1     1  302357.0   0.0      15.0  2018-01-01   \n",
       "\n",
       "                                               masts  \\\n",
       "0  5a7095e93ba2ee05247bba34dd4509a51e2798d33a1c7c...   \n",
       "1  ea9d465d7361343a138603660b263e4f9fdb7bc04c5843...   \n",
       "\n",
       "                                               educd  \\\n",
       "0  a2822b0ed756338d1ff31695467786db874a02189bdbcf...   \n",
       "1  a2822b0ed756338d1ff31695467786db874a02189bdbcf...   \n",
       "\n",
       "                                                naty  \\\n",
       "0  7fcfcd907e0d490a37d0e7df45db65bc6bf009c3d90f66...   \n",
       "1  7fcfcd907e0d490a37d0e7df45db65bc6bf009c3d90f66...   \n",
       "\n",
       "                                               trdtp  \\\n",
       "0  99bc9b817c9067f33b85455a28efaba660e6aa1231be75...   \n",
       "1  f0243f3eded4a032b3ad01b034d5d6a96b92d8ba6f7344...   \n",
       "\n",
       "                                               poscd  ... constant_u2_ind  \\\n",
       "0  9484866f7342a8442f275ab5cf94c4be10c4474bb036ca...  ...             0.0   \n",
       "1  78c2e56448aad92ca71e8501f14fdc6f4a177ee7773dc4...  ...             0.0   \n",
       "\n",
       "  constant_u3_ind constant_u4_ind constant_l2_ind constant_l3_ind  \\\n",
       "0             0.0             3.0             0.0             0.0   \n",
       "1             0.0             4.0             0.0             0.0   \n",
       "\n",
       "  constant_l4_ind constant_change growth_rate monotone_up monotone_down  \n",
       "0             0.0             0.0         1.0         0.0           2.0  \n",
       "1             0.0             0.0         1.0         0.0           2.0  \n",
       "\n",
       "[2 rows x 31 columns]"
      ]
     },
     "execution_count": 8,
     "metadata": {},
     "output_type": "execute_result"
    }
   ],
   "source": [
    "# add month column, chid convert to index\n",
    "df_cust_f.chid = df_cust_f.chid.map(chid_dict)#+1\n",
    "print(df_cust_f.chid.nunique())\n",
    "\n",
    "df_cust_f.head(2)"
   ]
  },
  {
   "cell_type": "code",
   "execution_count": 9,
   "metadata": {},
   "outputs": [
    {
     "data": {
      "text/plain": [
       "(875908, 6)"
      ]
     },
     "execution_count": 9,
     "metadata": {},
     "output_type": "execute_result"
    }
   ],
   "source": [
    "## 取得整個月的 objam \n",
    "cdtx_group = df_cdtx[['chid', 'month', 'objam']].groupby(['chid', 'month'])\n",
    "\n",
    "cdtx_sum = cdtx_group.sum() # 總金額\n",
    "cdtx_mean = cdtx_group.mean() # 平均金額\n",
    "cdtx_count = cdtx_group.count() # 消費次數\n",
    "\n",
    "df_cdtx_objam = pd.DataFrame(list(map(list, cdtx_sum.index)), columns=['chid', 'data_dt'])\n",
    "df_cdtx_objam['objam_sum'] = cdtx_sum.values[:, 0]\n",
    "df_cdtx_objam['objam_mean'] = cdtx_mean.values[:, 0]\n",
    "df_cdtx_objam['trans_count'] = cdtx_count.values[:, 0] # 交易次數\n",
    "\n",
    "cdtx_group = df_cdtx[['chid', 'month', 'stonc_6_label']].drop_duplicates().groupby(['chid', 'month'])\n",
    "cdtx_count = cdtx_group.count()\n",
    "df_cdtx_objam['shop_count'] = cdtx_count.values[:, 0] # 一個月內消費店家種類個數\n",
    "\n",
    "df_cdtx_objam.shape"
   ]
  },
  {
   "cell_type": "code",
   "execution_count": 10,
   "metadata": {},
   "outputs": [],
   "source": [
    "## MCC 轉 index\n",
    "mcc_mapper = {value: index for index, value in enumerate(sorted(df_cdtx.mcc.unique()))} \n",
    "df_cdtx.mcc = df_cdtx.mcc.map(mcc_mapper)"
   ]
  },
  {
   "cell_type": "code",
   "execution_count": 11,
   "metadata": {},
   "outputs": [
    {
     "name": "stderr",
     "output_type": "stream",
     "text": [
      "100%|██████████| 25/25 [00:27<00:00,  1.09s/it]\n"
     ]
    }
   ],
   "source": [
    "## 每個月MCC的objam總和\n",
    "\n",
    "cust_shop_objam = []\n",
    "list_month = sorted(df_cdtx.month.unique())\n",
    "n_user = df_cdtx.chid.nunique()\n",
    "n_mcc = df_cdtx.mcc.nunique()\n",
    "\n",
    "for month in tqdm(list_month):\n",
    "    x = np.zeros([n_user, n_mcc])\n",
    "    groupby = df_cdtx[df_cdtx.month==month].groupby(['chid', 'mcc']).sum()\n",
    "    index = groupby.index\n",
    "    objams = groupby.values\n",
    "    \n",
    "    for (row, col), objam in zip(index, objams):\n",
    "        if objam > 0:\n",
    "            x[row, col] = objam\n",
    "        else:\n",
    "            x[row, col] = 0\n",
    "\n",
    "    cust_shop_objam.append(x)\n",
    "\n",
    "cust_shop_objam = np.concatenate(cust_shop_objam, 0)"
   ]
  },
  {
   "cell_type": "code",
   "execution_count": 12,
   "metadata": {},
   "outputs": [],
   "source": [
    "df_mcc_sum = pd.DataFrame({\n",
    "                'chid': sorted(df_cdtx.chid.unique())*len(list_month),\n",
    "                'data_dt': np.array([ [month]*n_user for month in list_month]).flatten()\n",
    "            })"
   ]
  },
  {
   "cell_type": "code",
   "execution_count": 13,
   "metadata": {},
   "outputs": [
    {
     "data": {
      "text/plain": [
       "(1250000, 509)"
      ]
     },
     "execution_count": 13,
     "metadata": {},
     "output_type": "execute_result"
    }
   ],
   "source": [
    "mcc_cols = ['mcc_' + str(i) for i in range(n_mcc)]\n",
    "df_mcc_sum[mcc_cols] = cust_shop_objam\n",
    "\n",
    "df_mcc_sum.shape"
   ]
  },
  {
   "cell_type": "code",
   "execution_count": 14,
   "metadata": {},
   "outputs": [
    {
     "data": {
      "text/plain": [
       "(1250000, 2)"
      ]
     },
     "execution_count": 14,
     "metadata": {},
     "output_type": "execute_result"
    }
   ],
   "source": [
    "list_chid = sorted(df_cdtx.chid.unique())\n",
    "list_month = sorted(df_cdtx.month.unique())\n",
    "\n",
    "df_full_y_sum = pd.DataFrame({\n",
    "    'chid': list_chid*len(list_month),\n",
    "}).sort_values(by='chid', ignore_index=True)\n",
    "df_full_y_sum['data_dt'] = list_month*len(list_chid)\n",
    "\n",
    "df_full_y_sum.shape"
   ]
  },
  {
   "cell_type": "code",
   "execution_count": 15,
   "metadata": {},
   "outputs": [
    {
     "data": {
      "text/plain": [
       "(1250000, 6)"
      ]
     },
     "execution_count": 15,
     "metadata": {},
     "output_type": "execute_result"
    }
   ],
   "source": [
    "## join objam\n",
    "df_full_y_sum = df_full_y_sum.merge(df_cdtx_objam, \n",
    "                                    how='left', \n",
    "                                    left_on=['chid', 'data_dt'], \n",
    "                                    right_on=['chid', 'data_dt']).fillna(0)\n",
    "\n",
    "df_full_y_sum.shape"
   ]
  },
  {
   "cell_type": "code",
   "execution_count": 16,
   "metadata": {},
   "outputs": [
    {
     "data": {
      "text/plain": [
       "(1183871, 35)"
      ]
     },
     "execution_count": 16,
     "metadata": {},
     "output_type": "execute_result"
    }
   ],
   "source": [
    "## join feature\n",
    "df_full_y_sum = df_full_y_sum.merge(df_cust_f, \n",
    "                                    how='inner', \n",
    "                                    left_on=['chid', 'data_dt'], \n",
    "                                    right_on=['chid', 'data_dt']).fillna(0)\n",
    "df_full_y_sum.shape"
   ]
  },
  {
   "cell_type": "code",
   "execution_count": 17,
   "metadata": {},
   "outputs": [
    {
     "data": {
      "text/plain": [
       "(1183871, 542)"
      ]
     },
     "execution_count": 17,
     "metadata": {},
     "output_type": "execute_result"
    }
   ],
   "source": [
    "## join MCC objam\n",
    "df_full_y_sum = df_full_y_sum.merge(df_mcc_sum, \n",
    "                                    how='inner', \n",
    "                                    left_on=['chid', 'data_dt'], \n",
    "                                    right_on=['chid', 'data_dt']).fillna(0)\n",
    "df_full_y_sum.shape"
   ]
  },
  {
   "cell_type": "code",
   "execution_count": 18,
   "metadata": {},
   "outputs": [
    {
     "data": {
      "text/plain": [
       "(7, 534)"
      ]
     },
     "execution_count": 18,
     "metadata": {},
     "output_type": "execute_result"
    }
   ],
   "source": [
    "category_cols = ['chid', 'masts', 'educd', 'naty', 'trdtp', 'poscd', 'cuorg']\n",
    "\n",
    "numeric_cols = sorted(set(df_full_y_sum.columns) - set(category_cols) - set(['data_ym', 'data_dt']), \n",
    "                      key=list(df_full_y_sum.columns).index)\n",
    "\n",
    "len(category_cols), len(numeric_cols)"
   ]
  },
  {
   "cell_type": "code",
   "execution_count": 19,
   "metadata": {},
   "outputs": [
    {
     "name": "stdout",
     "output_type": "stream",
     "text": [
      "(1183871, 542)\n"
     ]
    },
    {
     "data": {
      "text/html": [
       "<div>\n",
       "<style scoped>\n",
       "    .dataframe tbody tr th:only-of-type {\n",
       "        vertical-align: middle;\n",
       "    }\n",
       "\n",
       "    .dataframe tbody tr th {\n",
       "        vertical-align: top;\n",
       "    }\n",
       "\n",
       "    .dataframe thead th {\n",
       "        text-align: right;\n",
       "    }\n",
       "</style>\n",
       "<table border=\"1\" class=\"dataframe\">\n",
       "  <thead>\n",
       "    <tr style=\"text-align: right;\">\n",
       "      <th></th>\n",
       "      <th>chid</th>\n",
       "      <th>masts</th>\n",
       "      <th>educd</th>\n",
       "      <th>naty</th>\n",
       "      <th>trdtp</th>\n",
       "      <th>poscd</th>\n",
       "      <th>cuorg</th>\n",
       "      <th>objam_sum</th>\n",
       "      <th>objam_mean</th>\n",
       "      <th>trans_count</th>\n",
       "      <th>...</th>\n",
       "      <th>mcc_498</th>\n",
       "      <th>mcc_499</th>\n",
       "      <th>mcc_500</th>\n",
       "      <th>mcc_501</th>\n",
       "      <th>mcc_502</th>\n",
       "      <th>mcc_503</th>\n",
       "      <th>mcc_504</th>\n",
       "      <th>mcc_505</th>\n",
       "      <th>mcc_506</th>\n",
       "      <th>data_dt</th>\n",
       "    </tr>\n",
       "  </thead>\n",
       "  <tbody>\n",
       "    <tr>\n",
       "      <th>0</th>\n",
       "      <td>0</td>\n",
       "      <td>0</td>\n",
       "      <td>4</td>\n",
       "      <td>1</td>\n",
       "      <td>17</td>\n",
       "      <td>5</td>\n",
       "      <td>6</td>\n",
       "      <td>21241.0</td>\n",
       "      <td>21241.0</td>\n",
       "      <td>1.0</td>\n",
       "      <td>...</td>\n",
       "      <td>0.0</td>\n",
       "      <td>0.0</td>\n",
       "      <td>0.0</td>\n",
       "      <td>0.0</td>\n",
       "      <td>0.0</td>\n",
       "      <td>0.0</td>\n",
       "      <td>0.0</td>\n",
       "      <td>0.0</td>\n",
       "      <td>0.0</td>\n",
       "      <td>2018-01-01</td>\n",
       "    </tr>\n",
       "    <tr>\n",
       "      <th>1</th>\n",
       "      <td>0</td>\n",
       "      <td>0</td>\n",
       "      <td>4</td>\n",
       "      <td>1</td>\n",
       "      <td>17</td>\n",
       "      <td>5</td>\n",
       "      <td>6</td>\n",
       "      <td>639.0</td>\n",
       "      <td>639.0</td>\n",
       "      <td>1.0</td>\n",
       "      <td>...</td>\n",
       "      <td>0.0</td>\n",
       "      <td>0.0</td>\n",
       "      <td>0.0</td>\n",
       "      <td>0.0</td>\n",
       "      <td>0.0</td>\n",
       "      <td>0.0</td>\n",
       "      <td>0.0</td>\n",
       "      <td>0.0</td>\n",
       "      <td>0.0</td>\n",
       "      <td>2018-02-01</td>\n",
       "    </tr>\n",
       "  </tbody>\n",
       "</table>\n",
       "<p>2 rows × 542 columns</p>\n",
       "</div>"
      ],
      "text/plain": [
       "   chid  masts  educd  naty  trdtp  poscd  cuorg  objam_sum  objam_mean  \\\n",
       "0     0      0      4     1     17      5      6    21241.0     21241.0   \n",
       "1     0      0      4     1     17      5      6      639.0       639.0   \n",
       "\n",
       "   trans_count  ...  mcc_498 mcc_499 mcc_500 mcc_501 mcc_502 mcc_503 mcc_504  \\\n",
       "0          1.0  ...      0.0     0.0     0.0     0.0     0.0     0.0     0.0   \n",
       "1          1.0  ...      0.0     0.0     0.0     0.0     0.0     0.0     0.0   \n",
       "\n",
       "  mcc_505 mcc_506     data_dt  \n",
       "0     0.0     0.0  2018-01-01  \n",
       "1     0.0     0.0  2018-02-01  \n",
       "\n",
       "[2 rows x 542 columns]"
      ]
     },
     "execution_count": 19,
     "metadata": {},
     "output_type": "execute_result"
    }
   ],
   "source": [
    "df_input = df_full_y_sum[category_cols + numeric_cols + ['data_dt']].copy()\n",
    "df_input.loc[:, category_cols[1:]] = df_input.loc[:, category_cols[1:]].astype(np.str)\n",
    "\n",
    "mapper = {col: {value: index for index, value in enumerate(sorted(df_input[col].unique()))} \n",
    "          for col in category_cols[1:]}\n",
    "\n",
    "df_input[category_cols[1:]] = df_input[category_cols[1:]].apply(lambda x: x.map(mapper[x.name]))\n",
    "\n",
    "print(df_input.shape)\n",
    "df_input.head(2)"
   ]
  },
  {
   "cell_type": "code",
   "execution_count": 20,
   "metadata": {},
   "outputs": [
    {
     "name": "stdout",
     "output_type": "stream",
     "text": [
      "(1183871, 6)\n"
     ]
    },
    {
     "data": {
      "text/html": [
       "<div>\n",
       "<style scoped>\n",
       "    .dataframe tbody tr th:only-of-type {\n",
       "        vertical-align: middle;\n",
       "    }\n",
       "\n",
       "    .dataframe tbody tr th {\n",
       "        vertical-align: top;\n",
       "    }\n",
       "\n",
       "    .dataframe thead th {\n",
       "        text-align: right;\n",
       "    }\n",
       "</style>\n",
       "<table border=\"1\" class=\"dataframe\">\n",
       "  <thead>\n",
       "    <tr style=\"text-align: right;\">\n",
       "      <th></th>\n",
       "      <th>chid</th>\n",
       "      <th>data_dt</th>\n",
       "      <th>objam_sum</th>\n",
       "      <th>objam_mean</th>\n",
       "      <th>trans_count</th>\n",
       "      <th>shop_count</th>\n",
       "    </tr>\n",
       "  </thead>\n",
       "  <tbody>\n",
       "    <tr>\n",
       "      <th>1183866</th>\n",
       "      <td>49999</td>\n",
       "      <td>2019-08-01</td>\n",
       "      <td>28526.0</td>\n",
       "      <td>4075.142857</td>\n",
       "      <td>7.0</td>\n",
       "      <td>5.0</td>\n",
       "    </tr>\n",
       "    <tr>\n",
       "      <th>1183867</th>\n",
       "      <td>49999</td>\n",
       "      <td>2019-09-01</td>\n",
       "      <td>17955.0</td>\n",
       "      <td>2992.500000</td>\n",
       "      <td>6.0</td>\n",
       "      <td>4.0</td>\n",
       "    </tr>\n",
       "    <tr>\n",
       "      <th>1183868</th>\n",
       "      <td>49999</td>\n",
       "      <td>2019-10-01</td>\n",
       "      <td>33220.0</td>\n",
       "      <td>4745.714286</td>\n",
       "      <td>7.0</td>\n",
       "      <td>6.0</td>\n",
       "    </tr>\n",
       "    <tr>\n",
       "      <th>1183869</th>\n",
       "      <td>49999</td>\n",
       "      <td>2019-11-01</td>\n",
       "      <td>21384.0</td>\n",
       "      <td>3054.857143</td>\n",
       "      <td>7.0</td>\n",
       "      <td>5.0</td>\n",
       "    </tr>\n",
       "    <tr>\n",
       "      <th>1183870</th>\n",
       "      <td>49999</td>\n",
       "      <td>2019-12-01</td>\n",
       "      <td>12977.0</td>\n",
       "      <td>2595.400000</td>\n",
       "      <td>5.0</td>\n",
       "      <td>4.0</td>\n",
       "    </tr>\n",
       "  </tbody>\n",
       "</table>\n",
       "</div>"
      ],
      "text/plain": [
       "          chid     data_dt  objam_sum   objam_mean  trans_count  shop_count\n",
       "1183866  49999  2019-08-01    28526.0  4075.142857          7.0         5.0\n",
       "1183867  49999  2019-09-01    17955.0  2992.500000          6.0         4.0\n",
       "1183868  49999  2019-10-01    33220.0  4745.714286          7.0         6.0\n",
       "1183869  49999  2019-11-01    21384.0  3054.857143          7.0         5.0\n",
       "1183870  49999  2019-12-01    12977.0  2595.400000          5.0         4.0"
      ]
     },
     "execution_count": 20,
     "metadata": {},
     "output_type": "execute_result"
    }
   ],
   "source": [
    "y_cols = ['chid', 'data_dt', 'objam_sum', 'objam_mean', 'trans_count', 'shop_count']\n",
    "df_y = df_full_y_sum[y_cols].copy().reset_index(drop=True)\n",
    "\n",
    "print(df_y.shape)\n",
    "df_y.tail()"
   ]
  },
  {
   "cell_type": "code",
   "execution_count": 21,
   "metadata": {},
   "outputs": [
    {
     "data": {
      "text/plain": [
       "(50000, 50000)"
      ]
     },
     "execution_count": 21,
     "metadata": {},
     "output_type": "execute_result"
    }
   ],
   "source": [
    "df_input.chid.nunique(), df_y.chid.nunique()"
   ]
  },
  {
   "cell_type": "code",
   "execution_count": 22,
   "metadata": {},
   "outputs": [],
   "source": [
    "def data_split(df_x, df_y, test_size=2):\n",
    "    df_x = df_x.copy()\n",
    "    df_y = df_y.copy()\n",
    "    \n",
    "    x_train, x_test, y_train, y_test = [], [], [], []\n",
    "            \n",
    "    for i in tqdm(sorted(df_y.chid.unique())):\n",
    "        data_x = df_x[df_x.chid == i].reset_index(drop=True)\n",
    "        data_y = df_y[df_y.chid == i].reset_index(drop=True)\n",
    "        \n",
    "        last = data_y.shape[0] - 1\n",
    "        dt_list = sorted(data_y.data_dt.unique())\n",
    "        \n",
    "        for j, (dt_x, dt_y) in enumerate(zip(dt_list[:-1], dt_list[1:])):\n",
    "\n",
    "            if j < last - test_size:\n",
    "                x_train.append(data_x[data_x.data_dt == dt_x].values[0, :-1])\n",
    "                y_train.append(data_y.values[j+1, :])\n",
    "            elif j < last:\n",
    "                x_test.append(data_x[data_x.data_dt == dt_x].values[0, :-1])\n",
    "                y_test.append(data_y.values[j+1, :])\n",
    "            else:\n",
    "                break        \n",
    "\n",
    "    x_train, x_test = np.array(x_train), np.array(x_test)\n",
    "    y_train, y_test = np.array(y_train), np.array(y_test)\n",
    "    \n",
    "    return x_train, x_test, y_train, y_test"
   ]
  },
  {
   "cell_type": "code",
   "execution_count": 23,
   "metadata": {},
   "outputs": [
    {
     "name": "stderr",
     "output_type": "stream",
     "text": [
      "100%|██████████| 50000/50000 [13:31<00:00, 61.63it/s]\n"
     ]
    }
   ],
   "source": [
    "# full_data，全資料\n",
    "\n",
    "# input month: train -> 2018[1, 2, ..., 12]+2019[1, 2, ..., 9], test -> 2019[10, 11]\n",
    "x_train, x_test, y_train, y_test = data_split(df_input, df_y, test_size=2)"
   ]
  },
  {
   "cell_type": "code",
   "execution_count": 24,
   "metadata": {},
   "outputs": [
    {
     "data": {
      "text/plain": [
       "((1033871, 541), (100000, 541), (1033871, 6), (100000, 6))"
      ]
     },
     "execution_count": 24,
     "metadata": {},
     "output_type": "execute_result"
    }
   ],
   "source": [
    "x_train.shape, x_test.shape, y_train.shape, y_test.shape"
   ]
  },
  {
   "cell_type": "code",
   "execution_count": 25,
   "metadata": {},
   "outputs": [],
   "source": [
    "np.save(os.path.join(sample_path, 'Normal', 'x_train'), x_train)\n",
    "np.save(os.path.join(sample_path, 'Normal', 'x_test'), x_test)\n",
    "np.save(os.path.join(sample_path, 'Normal', 'y_train'), y_train)\n",
    "np.save(os.path.join(sample_path, 'Normal', 'y_test'), y_test)"
   ]
  },
  {
   "cell_type": "code",
   "execution_count": 26,
   "metadata": {},
   "outputs": [],
   "source": [
    "np.save(os.path.join(sample_path, 'Normal', 'feature_map'), mapper)"
   ]
  },
  {
   "cell_type": "code",
   "execution_count": 27,
   "metadata": {},
   "outputs": [
    {
     "name": "stdout",
     "output_type": "stream",
     "text": [
      "{'x_columns': ['chid', 'masts', 'educd', 'naty', 'trdtp', 'poscd', 'cuorg', 'objam_sum', 'objam_mean', 'trans_count', 'shop_count', 'monin', 'wrky', 'first_mob', 'cycam', 'slam', 'sum_area_c', 'sum_u2_ind', 'sum_u3_ind', 'sum_u4_ind', 'sum_l2_ind', 'sum_l3_ind', 'sum_l4_ind', 'constant_area_c', 'constant_u2_ind', 'constant_u3_ind', 'constant_u4_ind', 'constant_l2_ind', 'constant_l3_ind', 'constant_l4_ind', 'constant_change', 'growth_rate', 'monotone_up', 'monotone_down', 'mcc_0', 'mcc_1', 'mcc_2', 'mcc_3', 'mcc_4', 'mcc_5', 'mcc_6', 'mcc_7', 'mcc_8', 'mcc_9', 'mcc_10', 'mcc_11', 'mcc_12', 'mcc_13', 'mcc_14', 'mcc_15', 'mcc_16', 'mcc_17', 'mcc_18', 'mcc_19', 'mcc_20', 'mcc_21', 'mcc_22', 'mcc_23', 'mcc_24', 'mcc_25', 'mcc_26', 'mcc_27', 'mcc_28', 'mcc_29', 'mcc_30', 'mcc_31', 'mcc_32', 'mcc_33', 'mcc_34', 'mcc_35', 'mcc_36', 'mcc_37', 'mcc_38', 'mcc_39', 'mcc_40', 'mcc_41', 'mcc_42', 'mcc_43', 'mcc_44', 'mcc_45', 'mcc_46', 'mcc_47', 'mcc_48', 'mcc_49', 'mcc_50', 'mcc_51', 'mcc_52', 'mcc_53', 'mcc_54', 'mcc_55', 'mcc_56', 'mcc_57', 'mcc_58', 'mcc_59', 'mcc_60', 'mcc_61', 'mcc_62', 'mcc_63', 'mcc_64', 'mcc_65', 'mcc_66', 'mcc_67', 'mcc_68', 'mcc_69', 'mcc_70', 'mcc_71', 'mcc_72', 'mcc_73', 'mcc_74', 'mcc_75', 'mcc_76', 'mcc_77', 'mcc_78', 'mcc_79', 'mcc_80', 'mcc_81', 'mcc_82', 'mcc_83', 'mcc_84', 'mcc_85', 'mcc_86', 'mcc_87', 'mcc_88', 'mcc_89', 'mcc_90', 'mcc_91', 'mcc_92', 'mcc_93', 'mcc_94', 'mcc_95', 'mcc_96', 'mcc_97', 'mcc_98', 'mcc_99', 'mcc_100', 'mcc_101', 'mcc_102', 'mcc_103', 'mcc_104', 'mcc_105', 'mcc_106', 'mcc_107', 'mcc_108', 'mcc_109', 'mcc_110', 'mcc_111', 'mcc_112', 'mcc_113', 'mcc_114', 'mcc_115', 'mcc_116', 'mcc_117', 'mcc_118', 'mcc_119', 'mcc_120', 'mcc_121', 'mcc_122', 'mcc_123', 'mcc_124', 'mcc_125', 'mcc_126', 'mcc_127', 'mcc_128', 'mcc_129', 'mcc_130', 'mcc_131', 'mcc_132', 'mcc_133', 'mcc_134', 'mcc_135', 'mcc_136', 'mcc_137', 'mcc_138', 'mcc_139', 'mcc_140', 'mcc_141', 'mcc_142', 'mcc_143', 'mcc_144', 'mcc_145', 'mcc_146', 'mcc_147', 'mcc_148', 'mcc_149', 'mcc_150', 'mcc_151', 'mcc_152', 'mcc_153', 'mcc_154', 'mcc_155', 'mcc_156', 'mcc_157', 'mcc_158', 'mcc_159', 'mcc_160', 'mcc_161', 'mcc_162', 'mcc_163', 'mcc_164', 'mcc_165', 'mcc_166', 'mcc_167', 'mcc_168', 'mcc_169', 'mcc_170', 'mcc_171', 'mcc_172', 'mcc_173', 'mcc_174', 'mcc_175', 'mcc_176', 'mcc_177', 'mcc_178', 'mcc_179', 'mcc_180', 'mcc_181', 'mcc_182', 'mcc_183', 'mcc_184', 'mcc_185', 'mcc_186', 'mcc_187', 'mcc_188', 'mcc_189', 'mcc_190', 'mcc_191', 'mcc_192', 'mcc_193', 'mcc_194', 'mcc_195', 'mcc_196', 'mcc_197', 'mcc_198', 'mcc_199', 'mcc_200', 'mcc_201', 'mcc_202', 'mcc_203', 'mcc_204', 'mcc_205', 'mcc_206', 'mcc_207', 'mcc_208', 'mcc_209', 'mcc_210', 'mcc_211', 'mcc_212', 'mcc_213', 'mcc_214', 'mcc_215', 'mcc_216', 'mcc_217', 'mcc_218', 'mcc_219', 'mcc_220', 'mcc_221', 'mcc_222', 'mcc_223', 'mcc_224', 'mcc_225', 'mcc_226', 'mcc_227', 'mcc_228', 'mcc_229', 'mcc_230', 'mcc_231', 'mcc_232', 'mcc_233', 'mcc_234', 'mcc_235', 'mcc_236', 'mcc_237', 'mcc_238', 'mcc_239', 'mcc_240', 'mcc_241', 'mcc_242', 'mcc_243', 'mcc_244', 'mcc_245', 'mcc_246', 'mcc_247', 'mcc_248', 'mcc_249', 'mcc_250', 'mcc_251', 'mcc_252', 'mcc_253', 'mcc_254', 'mcc_255', 'mcc_256', 'mcc_257', 'mcc_258', 'mcc_259', 'mcc_260', 'mcc_261', 'mcc_262', 'mcc_263', 'mcc_264', 'mcc_265', 'mcc_266', 'mcc_267', 'mcc_268', 'mcc_269', 'mcc_270', 'mcc_271', 'mcc_272', 'mcc_273', 'mcc_274', 'mcc_275', 'mcc_276', 'mcc_277', 'mcc_278', 'mcc_279', 'mcc_280', 'mcc_281', 'mcc_282', 'mcc_283', 'mcc_284', 'mcc_285', 'mcc_286', 'mcc_287', 'mcc_288', 'mcc_289', 'mcc_290', 'mcc_291', 'mcc_292', 'mcc_293', 'mcc_294', 'mcc_295', 'mcc_296', 'mcc_297', 'mcc_298', 'mcc_299', 'mcc_300', 'mcc_301', 'mcc_302', 'mcc_303', 'mcc_304', 'mcc_305', 'mcc_306', 'mcc_307', 'mcc_308', 'mcc_309', 'mcc_310', 'mcc_311', 'mcc_312', 'mcc_313', 'mcc_314', 'mcc_315', 'mcc_316', 'mcc_317', 'mcc_318', 'mcc_319', 'mcc_320', 'mcc_321', 'mcc_322', 'mcc_323', 'mcc_324', 'mcc_325', 'mcc_326', 'mcc_327', 'mcc_328', 'mcc_329', 'mcc_330', 'mcc_331', 'mcc_332', 'mcc_333', 'mcc_334', 'mcc_335', 'mcc_336', 'mcc_337', 'mcc_338', 'mcc_339', 'mcc_340', 'mcc_341', 'mcc_342', 'mcc_343', 'mcc_344', 'mcc_345', 'mcc_346', 'mcc_347', 'mcc_348', 'mcc_349', 'mcc_350', 'mcc_351', 'mcc_352', 'mcc_353', 'mcc_354', 'mcc_355', 'mcc_356', 'mcc_357', 'mcc_358', 'mcc_359', 'mcc_360', 'mcc_361', 'mcc_362', 'mcc_363', 'mcc_364', 'mcc_365', 'mcc_366', 'mcc_367', 'mcc_368', 'mcc_369', 'mcc_370', 'mcc_371', 'mcc_372', 'mcc_373', 'mcc_374', 'mcc_375', 'mcc_376', 'mcc_377', 'mcc_378', 'mcc_379', 'mcc_380', 'mcc_381', 'mcc_382', 'mcc_383', 'mcc_384', 'mcc_385', 'mcc_386', 'mcc_387', 'mcc_388', 'mcc_389', 'mcc_390', 'mcc_391', 'mcc_392', 'mcc_393', 'mcc_394', 'mcc_395', 'mcc_396', 'mcc_397', 'mcc_398', 'mcc_399', 'mcc_400', 'mcc_401', 'mcc_402', 'mcc_403', 'mcc_404', 'mcc_405', 'mcc_406', 'mcc_407', 'mcc_408', 'mcc_409', 'mcc_410', 'mcc_411', 'mcc_412', 'mcc_413', 'mcc_414', 'mcc_415', 'mcc_416', 'mcc_417', 'mcc_418', 'mcc_419', 'mcc_420', 'mcc_421', 'mcc_422', 'mcc_423', 'mcc_424', 'mcc_425', 'mcc_426', 'mcc_427', 'mcc_428', 'mcc_429', 'mcc_430', 'mcc_431', 'mcc_432', 'mcc_433', 'mcc_434', 'mcc_435', 'mcc_436', 'mcc_437', 'mcc_438', 'mcc_439', 'mcc_440', 'mcc_441', 'mcc_442', 'mcc_443', 'mcc_444', 'mcc_445', 'mcc_446', 'mcc_447', 'mcc_448', 'mcc_449', 'mcc_450', 'mcc_451', 'mcc_452', 'mcc_453', 'mcc_454', 'mcc_455', 'mcc_456', 'mcc_457', 'mcc_458', 'mcc_459', 'mcc_460', 'mcc_461', 'mcc_462', 'mcc_463', 'mcc_464', 'mcc_465', 'mcc_466', 'mcc_467', 'mcc_468', 'mcc_469', 'mcc_470', 'mcc_471', 'mcc_472', 'mcc_473', 'mcc_474', 'mcc_475', 'mcc_476', 'mcc_477', 'mcc_478', 'mcc_479', 'mcc_480', 'mcc_481', 'mcc_482', 'mcc_483', 'mcc_484', 'mcc_485', 'mcc_486', 'mcc_487', 'mcc_488', 'mcc_489', 'mcc_490', 'mcc_491', 'mcc_492', 'mcc_493', 'mcc_494', 'mcc_495', 'mcc_496', 'mcc_497', 'mcc_498', 'mcc_499', 'mcc_500', 'mcc_501', 'mcc_502', 'mcc_503', 'mcc_504', 'mcc_505', 'mcc_506', 'data_dt'], 'y_columns': ['chid', 'data_dt', 'objam_sum', 'objam_mean', 'trans_count', 'shop_count']}\n"
     ]
    }
   ],
   "source": [
    "columns = {\n",
    "    'x_columns': list(df_input), \n",
    "    'y_columns': y_cols, \n",
    "}\n",
    "np.save(os.path.join(sample_path, 'Normal', 'columns'), columns)\n",
    "print(columns)"
   ]
  }
 ],
 "metadata": {
  "kernelspec": {
   "display_name": "Python 3",
   "language": "python",
   "name": "python3"
  },
  "language_info": {
   "codemirror_mode": {
    "name": "ipython",
    "version": 3
   },
   "file_extension": ".py",
   "mimetype": "text/x-python",
   "name": "python",
   "nbconvert_exporter": "python",
   "pygments_lexer": "ipython3",
   "version": "3.7.9"
  }
 },
 "nbformat": 4,
 "nbformat_minor": 5
}
