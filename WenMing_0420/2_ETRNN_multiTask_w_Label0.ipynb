{
 "cells": [
  {
   "cell_type": "code",
   "execution_count": 1,
   "metadata": {},
   "outputs": [],
   "source": [
    "import os\n",
    "import numpy as np\n",
    "import pandas as pd\n",
    "from time import time\n",
    "from tqdm.notebook import tqdm\n",
    "from sklearn.preprocessing import MinMaxScaler\n",
    "\n",
    "%matplotlib inline\n",
    "import matplotlib.pyplot as plt\n",
    "import seaborn as sns"
   ]
  },
  {
   "cell_type": "code",
   "execution_count": 2,
   "metadata": {},
   "outputs": [],
   "source": [
    "import copy\n",
    "import torch\n",
    "from torch import nn\n",
    "from torch.utils.data import DataLoader, TensorDataset\n",
    "from sklearn.metrics import mean_squared_error, mean_absolute_error, median_absolute_error\n",
    "from sklearn.metrics import confusion_matrix, accuracy_score, recall_score, precision_score, f1_score"
   ]
  },
  {
   "cell_type": "code",
   "execution_count": 3,
   "metadata": {},
   "outputs": [],
   "source": [
    "import torch\n",
    "from torch import nn\n",
    "from torch.autograd import Variable\n",
    "\n",
    "class ET_Rnn(torch.nn.Module):\n",
    "    def __init__(self, dense_dims, sparse_dims, hidden_dims, n_layers=1, use_chid=True, cell='GRU', bi=False, dropout=0, device='cpu'):\n",
    "        super(ET_Rnn, self).__init__()\n",
    "        self.hidden_dims = hidden_dims\n",
    "        self.n_layers = n_layers\n",
    "        self.cell = cell\n",
    "        self.use_chid = use_chid\n",
    "        self.device = device\n",
    "        self.bi = bi\n",
    "        \n",
    "        self.embedding_list = nn.ModuleList([nn.Embedding(fd, ed, padding_idx=0) for fd, ed in sparse_dims])\n",
    "        \n",
    "        if use_chid: \n",
    "            rnn_in_dim = dense_dims + sum([ed for fd, ed in sparse_dims[1:]])   \n",
    "            self.out_dim = hidden_dims*(bi+1) + sparse_dims[0][1] # chid embed dim\n",
    "            self.user_layer = nn.Linear(sparse_dims[0][1], sparse_dims[0][1]) \n",
    "            \n",
    "        else:\n",
    "            rnn_in_dim = dense_dims + sum([ed for fd, ed in sparse_dims[:]])\n",
    "            self.out_dim = hidden_dims*(bi+1)\n",
    "        \n",
    "        if self.cell == 'LSTM':\n",
    "            self.rnn = nn.LSTM(rnn_in_dim, hidden_dims, n_layers, batch_first=True, bidirectional=bi, dropout=dropout)\n",
    "        elif self.cell == 'GRU':\n",
    "            self.rnn = nn.GRU(rnn_in_dim, hidden_dims, n_layers, batch_first=True, bidirectional=bi, dropout=dropout)    \n",
    "        \n",
    "        self.init_embedding()\n",
    "        \n",
    "    def init_embedding(self):\n",
    "        for embed in self.embedding_list:\n",
    "            embed.reset_parameters()\n",
    "\n",
    "    def init_hidden(self, x):\n",
    "        if self.cell == 'LSTM':\n",
    "            hidden = Variable(torch.zeros(self.n_layers*(self.bi+1), x.size(0), self.hidden_dims)).to(self.device)\n",
    "            context = Variable(torch.zeros(self.n_layers*(self.bi+1), x.size(0), self.hidden_dims)).to(self.device)\n",
    "            ret = (hidden, context)\n",
    "        elif self.cell == 'GRU':\n",
    "            hidden = Variable(torch.zeros(self.n_layers*(self.bi+1), x.size(0), self.hidden_dims)).to(self.device)\n",
    "            ret = hidden\n",
    "        \n",
    "        return ret\n",
    "            \n",
    "    def forward(self, x_dense, x_sparse):\n",
    "        if self.use_chid:\n",
    "            x = torch.cat([x_dense]+[embed(x_sparse[:, :, i+1]) for i, embed in enumerate(self.embedding_list[1:])], dim=-1)            \n",
    "        else:\n",
    "            x = torch.cat([x_dense]+[embed(x_sparse[:, :, i]) for i, embed in enumerate(self.embedding_list[:])], dim=-1)\n",
    "        \n",
    "        self.hidden = self.init_hidden(x)\n",
    "        logits, self.hidden = self.rnn(x, self.hidden)\n",
    "        \n",
    "        if self.use_chid:\n",
    "            user_embed = self.user_layer(self.embedding_list[0](x_sparse[:,0,0]))\n",
    "            last_logits = torch.cat([logits[:, -1], user_embed], dim=-1)\n",
    "        else:\n",
    "            last_logits = logits[:, -1]\n",
    "        \n",
    "        return last_logits"
   ]
  },
  {
   "cell_type": "code",
   "execution_count": 4,
   "metadata": {},
   "outputs": [],
   "source": [
    "class MLP(nn.Module):\n",
    "    def __init__(self, input_dims, hidden_dims=[1], out_dim=1):\n",
    "        super(MLP, self).__init__()\n",
    "        hidden_dims = [input_dims] + hidden_dims\n",
    "        \n",
    "        self.layers = nn.Sequential(*[\n",
    "            nn.Sequential(\n",
    "                nn.Linear(idim, odim), \n",
    "                nn.ReLU()\n",
    "            ) for idim, odim in zip(hidden_dims[:-1], hidden_dims[1:])\n",
    "        ])\n",
    "        \n",
    "        self.out_layer = nn.Linear(hidden_dims[-1], out_dim)\n",
    "                   \n",
    "    def forward(self, x):\n",
    "        out = self.layers(x)\n",
    "        out = self.out_layer(out)\n",
    "        \n",
    "        return out"
   ]
  },
  {
   "cell_type": "code",
   "execution_count": 5,
   "metadata": {},
   "outputs": [],
   "source": [
    "class MultiTaskModel(nn.Module):\n",
    "    def __init__(self, dense_dims, sparse_dims, hidden_dims, out_dims=[1], n_layers=1, use_chid=True, cell='GRU', bi=False, dropout=0, device='cpu'):\n",
    "        super(MultiTaskModel, self).__init__()\n",
    "        self.rnn = ET_Rnn(dense_dims, sparse_dims, hidden_dims, n_layers=n_layers, use_chid=use_chid, \n",
    "                          cell=cell, bi=bi, dropout=dropout, device=device)\n",
    "        \n",
    "        self.mlps = nn.ModuleList([MLP(self.rnn.out_dim, hidden_dims=[self.rnn.out_dim//2], out_dim=od) for od in out_dims])\n",
    "        \n",
    "    def forward(self, x_dense, x_sparse):\n",
    "        logits = self.rnn(x_dense, x_sparse)\n",
    "        outs = [mlp(logits)for mlp in self.mlps]\n",
    "        \n",
    "        return outs        "
   ]
  },
  {
   "cell_type": "code",
   "execution_count": 23,
   "metadata": {},
   "outputs": [],
   "source": [
    "class Trainer:\n",
    "    def __init__(self, model, optimizer, device='cpu'):\n",
    "        self.model = model.to(device)\n",
    "        self.criterion_reg = nn.MSELoss()\n",
    "        self.criterion_clf = nn.CrossEntropyLoss()\n",
    "        self.optimizer = optimizer\n",
    "        self.device = device\n",
    "        \n",
    "    def fit(self, train_loader, test_loader=None, epoch=1, early_stop=-1, scaler=None):\n",
    "        history = {\n",
    "            'train': [], \n",
    "            'test': []\n",
    "        }\n",
    "        \n",
    "        best_eval = 9e9\n",
    "        early_cnt = 0\n",
    "        best_model_params = copy.deepcopy(self.model.state_dict())\n",
    "        \n",
    "        for ep in tqdm(range(epoch)):\n",
    "            #print('Epoch:{}'.format(ep+1))\n",
    "            \n",
    "            self.model.train()\n",
    "            for batch in train_loader:\n",
    "                loss = 0\n",
    "                self.optimizer.zero_grad()\n",
    "                \n",
    "                batch = [b.to(self.device) for b in batch]\n",
    "                x_dense, x_sparse = batch[:2]\n",
    "                task = batch[2:]\n",
    "                \n",
    "                #x_dense, x_sparse, task_0, task_1, task_2, task_3 = [b.to(self.device) for b in batch]\n",
    "                \n",
    "                outputs = self.model(x_dense, x_sparse)\n",
    "                \n",
    "                reg_num = 3\n",
    "                for i in range(reg_num):\n",
    "                    loss += self.criterion_reg(outputs[i], task[i])\n",
    "                for i in range(reg_num, 4):\n",
    "                    loss += self.criterion_clf(outputs[i], task[i])\n",
    "\n",
    "                loss.backward()\n",
    "                self.optimizer.step()\n",
    "                \n",
    "            train_result, _, _ = self.evaluate(train_loader)\n",
    "            history['train'].append(train_result)\n",
    "            #print('\\ttrain\\t'+' '.join(['{}:{:.2f}'.format(k, v) for k, v in train_result.items()]))\n",
    "            \n",
    "            if test_loader:\n",
    "                test_result, _, _ = self.evaluate(test_loader)\n",
    "                history['test'].append(test_result)\n",
    "                \n",
    "                if ep%5 == 0 or ep == epoch-1:\n",
    "                    print('Epoch:{}'.format(ep+1))\n",
    "                    print('\\ttest\\t'+' '.join(['{}:{:.3f}'.format(k, v) for k, v in test_result.items()]))\n",
    "\n",
    "                if test_result['total_loss'] < best_eval:\n",
    "                    early_cnt = 0\n",
    "                    best_eval = test_result['total_loss']\n",
    "                    best_model_params = copy.deepcopy(self.model.state_dict())\n",
    "                    #print('\\tbetter!')\n",
    "\n",
    "                elif early_stop > 0:\n",
    "                    early_cnt += 1\n",
    "\n",
    "            if early_stop > 0 and early_cnt >= early_stop:\n",
    "                break\n",
    "        \n",
    "        self.model.load_state_dict(best_model_params)\n",
    "        \n",
    "        return history\n",
    "        \n",
    "    def evaluate(self, loader):\n",
    "        true_list = [[] for i in range(4)]\n",
    "        pred_list = [[] for i in range(4)]\n",
    "        total_loss = 0\n",
    "        loss_list = [0]*4\n",
    "        reg_num = 3\n",
    "        \n",
    "        self.model.eval()\n",
    "        for batch in loader:\n",
    "            batch = [b.to(self.device) for b in batch]\n",
    "            x_dense, x_sparse = batch[:2]\n",
    "            task = batch[2:]\n",
    "            \n",
    "            outputs = self.model(x_dense, x_sparse)         \n",
    "            \n",
    "            for i, (y, output) in enumerate(zip(task, outputs)):\n",
    "                true_list[i].append(y.cpu().detach().numpy())\n",
    "                pred_list[i].append(output.cpu().detach().numpy())\n",
    "                \n",
    "                if i < reg_num:\n",
    "                    batch_loss = self.criterion_reg(output, y).cpu().detach().item() * y.shape[0]\n",
    "                else:\n",
    "                    batch_loss = self.criterion_clf(output, y).cpu().detach().item() * y.shape[0]\n",
    "                    \n",
    "                total_loss += batch_loss\n",
    "                loss_list[i] += batch_loss\n",
    "\n",
    "        for i in range(reg_num):\n",
    "            true_list[i] = np.expm1(np.concatenate(true_list[i], axis=0))\n",
    "            pred_list[i] = np.expm1(np.concatenate(pred_list[i], axis=0))\n",
    "            \n",
    "        for i in range(reg_num, 4):\n",
    "            true_list[i] = np.concatenate(true_list[i], axis=0).reshape(-1, 1)\n",
    "            pred_list[i] = np.argmax(np.concatenate(pred_list[i], axis=0), axis=1).reshape(-1, 1)                         \n",
    "        \n",
    "        # objsum, tscnt, spcnt, label_0, label_mul\n",
    "        result = {\n",
    "            'total_loss': total_loss/len(loader.dataset), \n",
    "            'objsum': mean_squared_error(true_list[0], pred_list[0], squared=False), \n",
    "            'tscnt': mean_squared_error(true_list[1], pred_list[1], squared=False), \n",
    "            'spcnt': mean_squared_error(true_list[2], pred_list[2], squared=False), \n",
    "            'label_mul': accuracy_score(true_list[3], pred_list[3]),\n",
    "        }\n",
    "        \n",
    "        return result, true_list, pred_list"
   ]
  },
  {
   "cell_type": "code",
   "execution_count": 7,
   "metadata": {},
   "outputs": [
    {
     "name": "stdout",
     "output_type": "stream",
     "text": [
      "(1033871, 120, 14) (100000, 120, 14) (1033871, 7) (100000, 7) 50000\n",
      "[('bnsfg', 2), ('iterm', 15), ('mcc', 507), ('scity', 11074), ('stonc_tag', 49), ('stonc_label', 202387), ('stonm_label', 212342), ('stonc_6_label', 78560), ('stonc_10_label', 128075)] [('masts', 3), ('educd', 6), ('trdtp', 27), ('poscd', 9)]\n"
     ]
    }
   ],
   "source": [
    "sample_path = './data/sample_50k'\n",
    "\n",
    "x_train = np.load(os.path.join(sample_path, 'RNN', 'x_train.npy'), allow_pickle=True)\n",
    "x_test = np.load(os.path.join(sample_path, 'RNN', 'x_test.npy'), allow_pickle=True)\n",
    "\n",
    "#f_train = np.load(os.path.join(sample_path, 'RNN', 'f_train.npy'), allow_pickle=True)\n",
    "#f_test = np.load(os.path.join(sample_path, 'RNN', 'f_test.npy'), allow_pickle=True)\n",
    "\n",
    "Y_train = np.load(os.path.join(sample_path, 'RNN', 'y_train.npy'), allow_pickle=True)\n",
    "Y_test = np.load(os.path.join(sample_path, 'RNN', 'y_test.npy'), allow_pickle=True)\n",
    "\n",
    "chid_mapper = np.load(os.path.join(sample_path, 'sample_50k_chid_idx_map.npy'), allow_pickle=True).item()\n",
    "feat_mapper = np.load(os.path.join(sample_path, 'RNN', 'feature_map.npy'), allow_pickle=True).item()\n",
    "cust_feature_map = np.load(os.path.join(sample_path, 'RNN', 'cust_feature_map.npy'), allow_pickle=True).item()\n",
    "\n",
    "columns = np.load(os.path.join(sample_path, 'RNN', 'columns.npy'), allow_pickle=True).item()\n",
    "\n",
    "print(x_train.shape, x_test.shape, Y_train.shape, Y_test.shape, len(chid_mapper))\n",
    "print([(k, len(v)) for k, v in feat_mapper.items()], [(k, len(v)) for k, v in cust_feature_map.items()])"
   ]
  },
  {
   "cell_type": "code",
   "execution_count": 8,
   "metadata": {
    "scrolled": true
   },
   "outputs": [
    {
     "name": "stdout",
     "output_type": "stream",
     "text": [
      "['chid', 'bnsfg', 'iterm', 'mcc', 'scity', 'stonc_tag', 'stonc_label', 'stonm_label', 'stonc_6_label', 'stonc_10_label', 'bnspt', 'timestamp_0', 'timestamp_1', 'objam']\n",
      "['chid', 'bnsfg', 'iterm', 'mcc', 'scity', 'stonc_tag', 'stonc_label', 'stonm_label', 'stonc_6_label', 'stonc_10_label'] ['bnspt', 'timestamp_0', 'timestamp_1', 'objam']\n"
     ]
    }
   ],
   "source": [
    "category_cols = columns['x_columns'][:-4]\n",
    "numeric_cols = columns['x_columns'][-4:]\n",
    "\n",
    "print(columns['x_columns'])\n",
    "print(category_cols, numeric_cols)"
   ]
  },
  {
   "cell_type": "code",
   "execution_count": 9,
   "metadata": {},
   "outputs": [
    {
     "name": "stdout",
     "output_type": "stream",
     "text": [
      "['chid', 'data_dt', 'objam_sum', 'objam_mean', 'trans_count', 'shop_count', 'objam_mean_M3_diff']\n"
     ]
    }
   ],
   "source": [
    "print(columns['y_columns'])"
   ]
  },
  {
   "cell_type": "code",
   "execution_count": 10,
   "metadata": {},
   "outputs": [],
   "source": [
    "# regession\n",
    "index = columns['y_columns'].index('objam_sum')\n",
    "train_objsum = Y_train[:, [index]].astype(np.float64)\n",
    "test_objsum = Y_test[:, [index]].astype(np.float64)\n",
    "\n",
    "#index = columns['y_columns'].index('objam_mean')\n",
    "#train_objmean = Y_train[:, [index]].astype(np.float64)\n",
    "#test_objmean = Y_test[:, [index]].astype(np.float64)\n",
    "\n",
    "index = columns['y_columns'].index('trans_count')\n",
    "train_tscnt = Y_train[:, [index]].astype(np.float64)\n",
    "test_tscnt = Y_test[:, [index]].astype(np.float64)\n",
    "\n",
    "index = columns['y_columns'].index('shop_count')\n",
    "train_spcnt = Y_train[:, [index]].astype(np.float64)\n",
    "test_spcnt = Y_test[:, [index]].astype(np.float64)"
   ]
  },
  {
   "cell_type": "code",
   "execution_count": 11,
   "metadata": {},
   "outputs": [
    {
     "name": "stdout",
     "output_type": "stream",
     "text": [
      "6 6 (1033871, 1) (100000, 1)\n"
     ]
    }
   ],
   "source": [
    "#classfication\n",
    "bounds = [0]\n",
    "lable_trans = np.vectorize(lambda x: sum([x > bound for bound in bounds]))\n",
    "\n",
    "train_label_0 = lable_trans(train_objsum)\n",
    "test_label_0 = lable_trans(test_objsum)\n",
    "\n",
    "bounds = [0, 1e4, 5e4, 1e5, 3e5]\n",
    "lable_trans = np.vectorize(lambda x: sum([x > bound for bound in bounds]))\n",
    "train_label_mul = lable_trans(train_objsum)\n",
    "test_label_mul = lable_trans(test_objsum)\n",
    "\n",
    "print(np.unique(train_label_mul).shape[0], np.unique(test_label_mul).shape[0], train_label_mul.shape, test_label_mul.shape)"
   ]
  },
  {
   "cell_type": "code",
   "execution_count": 12,
   "metadata": {},
   "outputs": [],
   "source": [
    "# log transform\n",
    "train_objsum = np.log1p(train_objsum)\n",
    "test_objsum = np.log1p(test_objsum)\n",
    "\n",
    "#train_objmean = np.log1p(train_objmean)\n",
    "#test_objmean = np.log1p(test_objmean)\n",
    "\n",
    "train_tscnt = np.log1p(train_tscnt)\n",
    "test_tscnt = np.log1p(test_tscnt)\n",
    "\n",
    "train_spcnt = np.log1p(train_spcnt)\n",
    "test_spcnt = np.log1p(test_spcnt)"
   ]
  },
  {
   "cell_type": "code",
   "execution_count": 13,
   "metadata": {},
   "outputs": [
    {
     "data": {
      "image/png": "[encoded data removed]",
      "text/plain": [
       "<Figure size 288x288 with 1 Axes>"
      ]
     },
     "metadata": {},
     "output_type": "display_data"
    },
    {
     "data": {
      "image/png": "[encoded data removed]",
      "text/plain": [
       "<Figure size 288x288 with 1 Axes>"
      ]
     },
     "metadata": {},
     "output_type": "display_data"
    }
   ],
   "source": [
    "train_label_num = [np.sum(train_label_0 == label) for label in sorted(np.unique(train_label_0))]\n",
    "test_label_num = [np.sum(test_label_0 == label) for label in sorted(np.unique(train_label_0))]\n",
    "\n",
    "with sns.axes_style(\"darkgrid\"):\n",
    "    plt.figure(figsize=(4, 4))\n",
    "    sns.barplot(x=[0, 1], y=train_label_num)\n",
    "    plt.xticks(range(len(train_label_num)))\n",
    "    plt.show()\n",
    "    \n",
    "with sns.axes_style(\"darkgrid\"):\n",
    "    plt.figure(figsize=(4, 4))\n",
    "    sns.barplot(x=[0, 1], y=test_label_num)\n",
    "    plt.xticks(range(len(test_label_num)))\n",
    "    plt.show()"
   ]
  },
  {
   "cell_type": "code",
   "execution_count": 14,
   "metadata": {},
   "outputs": [
    {
     "data": {
      "image/png": "[encoded data removed]",
      "text/plain": [
       "<Figure size 288x288 with 1 Axes>"
      ]
     },
     "metadata": {},
     "output_type": "display_data"
    },
    {
     "data": {
      "image/png": "[encoded data removed]",
      "text/plain": [
       "<Figure size 288x288 with 1 Axes>"
      ]
     },
     "metadata": {},
     "output_type": "display_data"
    }
   ],
   "source": [
    "train_label_num = [np.sum(train_label_mul == label) for label in sorted(np.unique(train_label_mul))]\n",
    "test_label_num = [np.sum(test_label_mul == label) for label in sorted(np.unique(train_label_mul))]\n",
    "\n",
    "with sns.axes_style(\"darkgrid\"):\n",
    "    plt.figure(figsize=(4, 4))\n",
    "    sns.barplot(x=sorted(np.unique(train_label_mul)), y=train_label_num)\n",
    "    plt.xticks(range(len(train_label_num)))\n",
    "    plt.show()\n",
    "    \n",
    "with sns.axes_style(\"darkgrid\"):\n",
    "    plt.figure(figsize=(4, 4))\n",
    "    sns.barplot(x=sorted(np.unique(train_label_mul)), y=test_label_num)\n",
    "    plt.xticks(range(len(test_label_num)))\n",
    "    plt.show()"
   ]
  },
  {
   "cell_type": "code",
   "execution_count": 15,
   "metadata": {},
   "outputs": [
    {
     "name": "stdout",
     "output_type": "stream",
     "text": [
      "['chid', 'bnsfg', 'iterm', 'mcc', 'scity'] [('bnsfg', 2), ('iterm', 15), ('mcc', 507), ('scity', 11074)]\n"
     ]
    }
   ],
   "source": [
    "sparse_feat = category_cols[:5]#+['stonc_tag', 'stonc_6_label']\n",
    "dense_feat = numeric_cols\n",
    "\n",
    "keys = list(feat_mapper.keys())\n",
    "for key in keys:\n",
    "    if key not in sparse_feat:\n",
    "        del feat_mapper[key]\n",
    "\n",
    "print(sparse_feat, [(k, len(v)) for k, v in feat_mapper.items()])"
   ]
  },
  {
   "cell_type": "code",
   "execution_count": 16,
   "metadata": {},
   "outputs": [
    {
     "data": {
      "text/plain": [
       "(4, [(50001, 64), (3, 16), (16, 16), (508, 16), (11075, 16)], [0, 1, 2, 3, 4])"
      ]
     },
     "execution_count": 16,
     "metadata": {},
     "output_type": "execute_result"
    }
   ],
   "source": [
    "USE_CHID = True\n",
    "idx_start = 1-int(USE_CHID)\n",
    "sparse_index = [category_cols.index(feat) for feat in sparse_feat][idx_start:]\n",
    "\n",
    "chid_embed_dim = 64\n",
    "feat_embed_dim = 16\n",
    "\n",
    "dense_dims = len(dense_feat) # number of dense feature\n",
    "feat_dims = np.array([len(chid_mapper)] + [len(v) for v in feat_mapper.values()])+1 # 0 is padding index, so add 1 dims\n",
    "embed_dims = [chid_embed_dim]+[feat_embed_dim]*len(feat_mapper) # dims of chid and other sparse feature\n",
    "\n",
    "sparse_dims = [(fd, ed) for fd, ed in zip(feat_dims[idx_start:], embed_dims[idx_start:])]\n",
    "\n",
    "dense_dims, sparse_dims, sparse_index"
   ]
  },
  {
   "cell_type": "code",
   "execution_count": 17,
   "metadata": {},
   "outputs": [],
   "source": [
    "# x_data\n",
    "w_size = x_train.shape[1]\n",
    "\n",
    "x_scaler = MinMaxScaler(feature_range=(0, 1))\n",
    "\n",
    "x_train_dense = x_train[:, -w_size:, len(category_cols):].astype(np.float64) # split dense feature\n",
    "x_train_sparse = x_train[:, -w_size:, sparse_index].astype(np.int64) # split sparse feature\n",
    "\n",
    "x_train_dense = np.log1p(x_train_dense - x_train_dense.min(axis=0))\n",
    "x_train_dense = x_scaler.fit_transform(x_train_dense.reshape(-1, x_train_dense.shape[-1])).reshape(x_train_dense.shape)\n",
    "\n",
    "x_test_dense = x_test[:, -w_size:, len(category_cols):].astype(np.float64)\n",
    "x_test_sparse = x_test[:, -w_size:, sparse_index].astype(np.int64) \n",
    "\n",
    "x_test_dense = np.log1p(x_test_dense - x_test_dense.min(axis=0))\n",
    "x_test_dense = x_scaler.transform(x_test_dense.reshape(-1, x_test_dense.shape[-1])).reshape(x_test_dense.shape)"
   ]
  },
  {
   "cell_type": "code",
   "execution_count": 18,
   "metadata": {},
   "outputs": [
    {
     "name": "stdout",
     "output_type": "stream",
     "text": [
      "(1033871, 120, 4) (1033871, 120, 5)\n",
      "(100000, 120, 4) (100000, 120, 5)\n"
     ]
    }
   ],
   "source": [
    "print(x_train_dense.shape, x_train_sparse.shape)\n",
    "print(x_test_dense.shape, x_test_sparse.shape)"
   ]
  },
  {
   "cell_type": "code",
   "execution_count": 19,
   "metadata": {},
   "outputs": [],
   "source": [
    "# train_objsum\n",
    "# test_objsum\n",
    "\n",
    "# train_tscnt\n",
    "# test_tscnt\n",
    "\n",
    "# train_spcnt\n",
    "# test_spcnt\n",
    "\n",
    "# train_label_0\n",
    "# test_label_0\n",
    "\n",
    "# train_label_mul\n",
    "# test_label_mul"
   ]
  },
  {
   "cell_type": "code",
   "execution_count": 20,
   "metadata": {},
   "outputs": [],
   "source": [
    "batch_size = 2048\n",
    "\n",
    "train_dataset = TensorDataset(torch.FloatTensor(x_train_dense), torch.LongTensor(x_train_sparse), \n",
    "                              torch.FloatTensor(train_objsum), torch.FloatTensor(train_tscnt), \n",
    "                              torch.FloatTensor(train_spcnt), torch.LongTensor(train_label_mul.flatten()))\n",
    "\n",
    "train_loader = DataLoader(dataset=train_dataset, shuffle=True, batch_size=batch_size, num_workers=8)\n",
    "\n",
    "test_dataset = TensorDataset(torch.FloatTensor(x_test_dense), torch.LongTensor(x_test_sparse), \n",
    "                              torch.FloatTensor(test_objsum), torch.FloatTensor(test_tscnt), \n",
    "                             torch.FloatTensor(test_spcnt), torch.LongTensor(test_label_mul.flatten()))\n",
    "\n",
    "test_loader = DataLoader(dataset=test_dataset, shuffle=False, batch_size=batch_size, num_workers=8)"
   ]
  },
  {
   "cell_type": "code",
   "execution_count": 24,
   "metadata": {
    "scrolled": false
   },
   "outputs": [
    {
     "name": "stdout",
     "output_type": "stream",
     "text": [
      "cuda:1\n"
     ]
    },
    {
     "data": {
      "text/plain": [
       "MultiTaskModel(\n",
       "  (rnn): ET_Rnn(\n",
       "    (embedding_list): ModuleList(\n",
       "      (0): Embedding(50001, 64, padding_idx=0)\n",
       "      (1): Embedding(3, 16, padding_idx=0)\n",
       "      (2): Embedding(16, 16, padding_idx=0)\n",
       "      (3): Embedding(508, 16, padding_idx=0)\n",
       "      (4): Embedding(11075, 16, padding_idx=0)\n",
       "    )\n",
       "    (user_layer): Linear(in_features=64, out_features=64, bias=True)\n",
       "    (rnn): GRU(68, 64, num_layers=2, batch_first=True, dropout=0.1)\n",
       "  )\n",
       "  (mlps): ModuleList(\n",
       "    (0): MLP(\n",
       "      (layers): Sequential(\n",
       "        (0): Sequential(\n",
       "          (0): Linear(in_features=128, out_features=64, bias=True)\n",
       "          (1): ReLU()\n",
       "        )\n",
       "      )\n",
       "      (out_layer): Linear(in_features=64, out_features=1, bias=True)\n",
       "    )\n",
       "    (1): MLP(\n",
       "      (layers): Sequential(\n",
       "        (0): Sequential(\n",
       "          (0): Linear(in_features=128, out_features=64, bias=True)\n",
       "          (1): ReLU()\n",
       "        )\n",
       "      )\n",
       "      (out_layer): Linear(in_features=64, out_features=1, bias=True)\n",
       "    )\n",
       "    (2): MLP(\n",
       "      (layers): Sequential(\n",
       "        (0): Sequential(\n",
       "          (0): Linear(in_features=128, out_features=64, bias=True)\n",
       "          (1): ReLU()\n",
       "        )\n",
       "      )\n",
       "      (out_layer): Linear(in_features=64, out_features=1, bias=True)\n",
       "    )\n",
       "    (3): MLP(\n",
       "      (layers): Sequential(\n",
       "        (0): Sequential(\n",
       "          (0): Linear(in_features=128, out_features=64, bias=True)\n",
       "          (1): ReLU()\n",
       "        )\n",
       "      )\n",
       "      (out_layer): Linear(in_features=64, out_features=6, bias=True)\n",
       "    )\n",
       "  )\n",
       ")"
      ]
     },
     "execution_count": 24,
     "metadata": {},
     "output_type": "execute_result"
    }
   ],
   "source": [
    "device = torch.device('cuda:1' if torch.cuda.is_available() else 'cpu')\n",
    "out_dims = [1, 1, 1, 6]\n",
    "\n",
    "model = MultiTaskModel(dense_dims, sparse_dims, hidden_dims=64, out_dims=out_dims, n_layers=2, \n",
    "                       use_chid=USE_CHID, cell='GRU', bi=False, dropout=0.1, device=device)\n",
    "optimizer = torch.optim.AdamW(model.parameters(), lr=2e-3)\n",
    "\n",
    "print(device)\n",
    "model"
   ]
  },
  {
   "cell_type": "code",
   "execution_count": 25,
   "metadata": {
    "scrolled": false
   },
   "outputs": [
    {
     "data": {
      "application/vnd.jupyter.widget-view+json": {
       "model_id": "66ac95f6b54d44928209f8af0d6260c5",
       "version_major": 2,
       "version_minor": 0
      },
      "text/plain": [
       "HBox(children=(HTML(value=''), FloatProgress(value=0.0), HTML(value='')))"
      ]
     },
     "metadata": {},
     "output_type": "display_data"
    },
    {
     "name": "stdout",
     "output_type": "stream",
     "text": [
      "Epoch:1\n",
      "\ttest\ttotal_loss:13.197 objsum:605500.312 tscnt:15.469 spcnt:2.841 label_mul:0.508\n",
      "Epoch:6\n",
      "\ttest\ttotal_loss:12.694 objsum:581434.062 tscnt:14.496 spcnt:2.740 label_mul:0.535\n",
      "Epoch:11\n",
      "\ttest\ttotal_loss:12.766 objsum:543125.125 tscnt:12.966 spcnt:2.396 label_mul:0.539\n",
      "Epoch:16\n",
      "\ttest\ttotal_loss:12.636 objsum:538644.438 tscnt:11.064 spcnt:2.351 label_mul:0.543\n",
      "Epoch:21\n",
      "\ttest\ttotal_loss:12.750 objsum:539199.125 tscnt:11.171 spcnt:2.342 label_mul:0.540\n",
      "Epoch:26\n",
      "\ttest\ttotal_loss:12.736 objsum:531642.562 tscnt:12.020 spcnt:2.376 label_mul:0.541\n",
      "Epoch:31\n",
      "\ttest\ttotal_loss:12.904 objsum:514736.375 tscnt:12.103 spcnt:2.380 label_mul:0.540\n",
      "\n",
      "cost: 4318.20\n"
     ]
    }
   ],
   "source": [
    "t0 = time()\n",
    "trainer = Trainer(model, optimizer, device)\n",
    "history = trainer.fit(train_loader, test_loader, epoch=100, early_stop=20)\n",
    "t1 = time()\n",
    "\n",
    "print('cost: {:.2f}'.format(t1 - t0))"
   ]
  },
  {
   "cell_type": "code",
   "execution_count": 26,
   "metadata": {},
   "outputs": [
    {
     "data": {
      "image/png": "[encoded data removed]",
      "text/plain": [
       "<Figure size 576x288 with 1 Axes>"
      ]
     },
     "metadata": {},
     "output_type": "display_data"
    },
    {
     "data": {
      "image/png": "[encoded data removed]",
      "text/plain": [
       "<Figure size 576x288 with 1 Axes>"
      ]
     },
     "metadata": {},
     "output_type": "display_data"
    },
    {
     "data": {
      "image/png": "[encoded data removed]",
      "text/plain": [
       "<Figure size 576x288 with 1 Axes>"
      ]
     },
     "metadata": {},
     "output_type": "display_data"
    },
    {
     "data": {
      "image/png": "[encoded data removed]",
      "text/plain": [
       "<Figure size 576x288 with 1 Axes>"
      ]
     },
     "metadata": {},
     "output_type": "display_data"
    }
   ],
   "source": [
    "df_history = pd.DataFrame(history['test'])\n",
    "\n",
    "# objsum, tscnt, spcnt, label_0, label_mul\n",
    "cols = ['objsum', 'tscnt', 'spcnt', 'label_mul']\n",
    "\n",
    "for show in cols:\n",
    "    with sns.axes_style(\"darkgrid\"):\n",
    "        plt.figure(figsize=(8, 4))\n",
    "        sns.lineplot(data=pd.DataFrame(df_history[show]))\n",
    "        plt.show()"
   ]
  },
  {
   "cell_type": "code",
   "execution_count": 27,
   "metadata": {
    "scrolled": true
   },
   "outputs": [
    {
     "name": "stdout",
     "output_type": "stream",
     "text": [
      "train\ttotal_loss:13.7436 objsum:829996.4375 tscnt:5.3306 spcnt:2.0181 label_mul:0.5399\n",
      "test\ttotal_loss:12.5415 objsum:556625.3750 tscnt:12.6335 spcnt:2.3779 label_mul:0.5410\n"
     ]
    }
   ],
   "source": [
    "train_result, train_true_list, train_pred_list = trainer.evaluate(train_loader)\n",
    "test_result, test_true_list, test_pred_list = trainer.evaluate(test_loader)\n",
    "\n",
    "print('train\\t'+' '.join(['{}:{:.4f}'.format(k, v) for k, v in train_result.items()]))\n",
    "print('test\\t'+' '.join(['{}:{:.4f}'.format(k, v) for k, v in test_result.items()]))"
   ]
  },
  {
   "cell_type": "code",
   "execution_count": 36,
   "metadata": {},
   "outputs": [
    {
     "data": {
      "image/png": "[encoded data removed]",
      "text/plain": [
       "<Figure size 432x432 with 2 Axes>"
      ]
     },
     "metadata": {},
     "output_type": "display_data"
    },
    {
     "name": "stdout",
     "output_type": "stream",
     "text": [
      "-1 {'AccuracyScore': 0.541, 'RecallScore': 0.4308, 'PrecisionScore': 0.4947, 'F1Score': 0.4397}\n"
     ]
    }
   ],
   "source": [
    "label_num = 1\n",
    "\n",
    "for i in range(1, label_num+1):\n",
    "    cf_matrix = confusion_matrix(test_true_list[-i].reshape(-1, 1), test_pred_list[-i].reshape(-1, 1), normalize='true')\n",
    "    \n",
    "    with sns.axes_style(\"darkgrid\"):\n",
    "        plt.figure(figsize=(6, 6))\n",
    "        ax = sns.heatmap(cf_matrix, linewidths=.01, annot=True)\n",
    "        ax.set_xlabel('Predict', fontsize=16)\n",
    "        ax.set_ylabel('True', fontsize=16)\n",
    "        plt.show()    \n",
    "\n",
    "        scores = {\n",
    "            'AccuracyScore': round(accuracy_score(test_true_list[-i], test_pred_list[-i]), 4), \n",
    "            'RecallScore': round(recall_score(test_true_list[-i], test_pred_list[-i], average='macro'), 4),\n",
    "            'PrecisionScore': round(precision_score(test_true_list[-i], test_pred_list[-i], average='macro'), 4),\n",
    "            'F1Score': round(f1_score(test_true_list[-i], test_pred_list[-i], average='macro'), 4),\n",
    "        }        \n",
    "        \n",
    "        print(-i, scores)"
   ]
  },
  {
   "cell_type": "code",
   "execution_count": 37,
   "metadata": {},
   "outputs": [],
   "source": [
    "torch.save({\n",
    "    'dense_dims': dense_dims,\n",
    "    'sparse_dims': sparse_dims,\n",
    "    'hidden_dims': 64,\n",
    "    'n_layers': 2,\n",
    "    'use_chid': True,\n",
    "    'cell': 'GRU',\n",
    "    'bi': False,\n",
    "    'dropout': 0.1,\n",
    "    'model_state_dict': model.rnn.cpu().state_dict()\n",
    "}, './models/rnn_w_Label0.pt')"
   ]
  },
  {
   "cell_type": "code",
   "execution_count": 38,
   "metadata": {},
   "outputs": [
    {
     "data": {
      "text/plain": [
       "{'dense_dims': 4,\n",
       " 'sparse_dims': [(50001, 64), (3, 16), (16, 16), (508, 16), (11075, 16)],\n",
       " 'hidden_dims': 64,\n",
       " 'n_layers': 2,\n",
       " 'use_chid': True,\n",
       " 'cell': 'GRU',\n",
       " 'bi': False,\n",
       " 'dropout': 0.1,\n",
       " 'model_state_dict': OrderedDict([('embedding_list.0.weight',\n",
       "               tensor([[ 0.0000,  0.0000,  0.0000,  ...,  0.0000,  0.0000,  0.0000],\n",
       "                       [-0.6551, -1.4064,  0.1038,  ..., -1.3675, -0.9177, -0.7169],\n",
       "                       [ 0.7830, -0.4098,  0.2307,  ...,  1.4444, -0.2852, -0.5411],\n",
       "                       ...,\n",
       "                       [-0.6517,  0.3033,  1.1774,  ...,  0.1823, -0.0497, -0.9144],\n",
       "                       [ 0.5678,  0.5756, -0.0875,  ...,  0.7111,  0.4464,  0.1307],\n",
       "                       [ 0.7524,  1.0388,  0.3053,  ..., -0.4165,  0.4434,  0.6839]])),\n",
       "              ('embedding_list.1.weight',\n",
       "               tensor([[ 0.0000,  0.0000,  0.0000,  0.0000,  0.0000,  0.0000,  0.0000,  0.0000,\n",
       "                         0.0000,  0.0000,  0.0000,  0.0000,  0.0000,  0.0000,  0.0000,  0.0000],\n",
       "                       [ 0.4889, -1.0630,  0.3839, -0.0096, -0.0226, -0.9180, -0.4291,  0.0045,\n",
       "                        -0.2702, -0.6897, -0.0055, -1.4154,  0.0085, -0.2462,  0.0545, -1.5871],\n",
       "                       [ 0.2986,  1.3860, -0.5158, -1.0688,  1.8968,  0.9475,  0.1171, -0.0537,\n",
       "                        -1.6969, -1.2473,  1.2493, -0.1444,  1.4290, -0.3856,  0.5624, -0.1802]])),\n",
       "              ('embedding_list.2.weight',\n",
       "               tensor([[ 0.0000e+00,  0.0000e+00,  0.0000e+00,  0.0000e+00,  0.0000e+00,\n",
       "                         0.0000e+00,  0.0000e+00,  0.0000e+00,  0.0000e+00,  0.0000e+00,\n",
       "                         0.0000e+00,  0.0000e+00,  0.0000e+00,  0.0000e+00,  0.0000e+00,\n",
       "                         0.0000e+00],\n",
       "                       [ 4.2975e-01,  5.5826e-01,  1.1051e+00,  3.6231e-01,  8.4404e-02,\n",
       "                         3.3252e-01,  9.0740e-02,  1.2320e-02,  2.0757e-01,  6.7543e-01,\n",
       "                         1.4728e-01,  1.9187e-02, -3.7091e-02,  3.1938e-01,  3.3273e-04,\n",
       "                        -8.2888e-01],\n",
       "                       [-2.4039e-01,  8.3264e-02, -3.5964e-01, -2.7598e-01, -1.0570e+00,\n",
       "                         5.5112e-01,  1.2618e-02,  1.2134e-01,  2.6268e-01, -7.9662e-01,\n",
       "                        -1.9219e+00,  1.1884e-01,  9.6771e-01,  1.1059e+00,  2.2732e+00,\n",
       "                         3.0045e-01],\n",
       "                       [-2.0789e-01, -4.6207e-01,  1.1784e+00, -3.3729e-01, -5.8520e-01,\n",
       "                         5.6098e-01,  8.7181e-01, -2.9047e-01, -9.7312e-01,  1.4690e+00,\n",
       "                        -7.1789e-01, -3.7293e-01,  1.3663e+00,  4.1138e-01,  2.8047e-02,\n",
       "                        -3.0617e-01],\n",
       "                       [ 1.3549e+00,  2.1101e-01, -3.7335e-01,  8.0864e-01,  9.2121e-02,\n",
       "                         1.3845e+00, -1.0358e+00,  3.4936e-02, -5.2465e-01, -4.3794e-01,\n",
       "                        -4.6396e-01, -4.7331e-01,  6.4620e-01,  6.1673e-01,  4.3845e-01,\n",
       "                         1.6002e-01],\n",
       "                       [-2.6983e-01, -6.8578e-01, -6.2114e-01,  2.7498e-01, -4.1312e-01,\n",
       "                        -1.1472e+00, -1.0055e+00, -3.4873e-01, -8.3008e-01,  5.0436e-01,\n",
       "                        -6.8615e-01, -5.7598e-01,  4.9787e-01, -6.0652e-01,  2.0135e+00,\n",
       "                         2.2582e+00],\n",
       "                       [ 1.1665e-01,  6.2182e-01, -9.2704e-01,  3.9716e-01, -7.9117e-01,\n",
       "                         3.3983e-01, -2.0603e-01, -2.6111e-01, -6.6714e-02, -5.3019e-01,\n",
       "                         4.0706e-01, -1.6519e-01,  6.8368e-01, -2.6697e-01,  3.4697e-01,\n",
       "                         5.9021e-01],\n",
       "                       [ 4.6986e-01, -5.9817e-01, -6.2164e-01, -1.9050e-01,  4.9151e-01,\n",
       "                         1.6674e+00, -1.9725e-01,  1.3873e+00,  1.3750e-02, -8.4791e-01,\n",
       "                        -1.2177e+00, -1.0286e+00,  2.4046e-01,  1.0207e+00,  1.1039e+00,\n",
       "                         3.7802e-01],\n",
       "                       [ 4.1245e-02,  1.2939e+00, -1.0915e-02, -6.1551e-01,  5.2968e-01,\n",
       "                        -5.2740e-01,  2.8955e-01, -1.1405e-01, -7.5676e-02,  3.1110e-01,\n",
       "                         2.9639e-02,  1.3549e+00, -6.5393e-01, -7.9664e-01,  8.0968e-01,\n",
       "                         5.9986e-01],\n",
       "                       [ 1.1683e+00, -8.8826e-02, -1.1152e+00,  2.2823e+00,  4.5509e-01,\n",
       "                         2.7948e-02,  1.3473e+00, -6.2251e-01, -4.5346e-01,  4.9245e-01,\n",
       "                        -1.6047e+00, -1.6457e+00,  7.4253e-01, -9.1641e-01,  1.0106e+00,\n",
       "                        -7.4834e-01],\n",
       "                       [ 1.7125e+00,  6.1718e-01,  3.7196e-01, -1.1457e+00,  1.3278e+00,\n",
       "                         8.3638e-01, -2.2499e+00,  2.4391e-01, -8.0826e-01, -1.0602e+00,\n",
       "                        -6.2400e-01, -1.2691e+00, -2.0555e+00, -1.4593e-01,  7.4424e-01,\n",
       "                         1.0137e-01],\n",
       "                       [ 1.3380e+00, -2.8481e-01, -1.1298e+00,  1.0258e+00, -1.1040e+00,\n",
       "                         1.4033e+00,  7.0051e-01,  2.5012e-01,  1.2027e-01, -2.1007e-01,\n",
       "                        -1.2801e+00, -1.2904e+00, -1.3509e+00, -7.3255e-01,  7.5640e-01,\n",
       "                        -8.2369e-02],\n",
       "                       [-1.7807e-02,  1.4337e+00, -5.8415e-02, -3.8433e-01, -8.8759e-01,\n",
       "                         6.6034e-01,  1.2101e+00,  1.4263e-01, -8.1943e-01,  1.0235e-01,\n",
       "                        -1.0023e+00, -9.0184e-01, -3.4954e-01, -1.3785e-02, -1.2140e+00,\n",
       "                         4.6847e-01],\n",
       "                       [-8.3471e-01, -1.9706e+00, -9.3292e-03,  2.0745e+00, -9.7401e-01,\n",
       "                         8.6241e-01, -1.1056e+00, -5.5911e-01,  7.5419e-02, -7.0479e-01,\n",
       "                         1.2281e+00,  8.1827e-01,  5.0103e-01, -1.0789e+00, -1.5658e+00,\n",
       "                         1.4368e-01],\n",
       "                       [-6.4863e-01, -1.5705e-01, -4.9698e-01,  3.6022e-01, -1.2950e+00,\n",
       "                        -6.2983e-01,  2.8829e-01,  3.7578e-01,  1.2463e-01, -1.8728e+00,\n",
       "                        -1.4106e+00,  1.9327e-01, -4.7135e-01, -3.7036e-01,  1.4203e+00,\n",
       "                         1.5228e+00],\n",
       "                       [ 5.4404e-01,  3.8810e-01,  7.0582e-01, -9.1569e-01, -2.3640e-01,\n",
       "                        -2.9866e-01,  8.7428e-01,  5.7220e-01,  1.1416e+00, -4.8762e-01,\n",
       "                        -6.9229e-01, -1.3649e+00, -6.6433e-01, -7.1763e-01,  7.2926e-01,\n",
       "                        -1.6960e+00]])),\n",
       "              ('embedding_list.3.weight',\n",
       "               tensor([[ 0.0000,  0.0000,  0.0000,  ...,  0.0000,  0.0000,  0.0000],\n",
       "                       [-0.1040,  0.0103, -0.7141,  ...,  1.0778,  1.6432, -2.0293],\n",
       "                       [ 0.2699,  0.6906,  0.3995,  ..., -1.1307,  0.9210, -0.3216],\n",
       "                       ...,\n",
       "                       [-1.3056,  2.8190,  0.1003,  ..., -1.0058,  2.0179,  0.2903],\n",
       "                       [ 0.3643, -0.9276,  1.3017,  ..., -0.2592, -0.1252, -0.1030],\n",
       "                       [-0.7857,  1.5053, -0.7725,  ..., -1.0483,  1.4575, -0.8557]])),\n",
       "              ('embedding_list.4.weight',\n",
       "               tensor([[ 0.0000,  0.0000,  0.0000,  ...,  0.0000,  0.0000,  0.0000],\n",
       "                       [-0.4734,  2.5884,  0.0802,  ..., -0.6363, -0.2537,  0.1894],\n",
       "                       [-0.3908, -0.6274,  1.1908,  ...,  1.8814, -0.5186,  0.5890],\n",
       "                       ...,\n",
       "                       [-0.0951,  0.9867, -0.0415,  ..., -2.4150, -0.2330, -1.5499],\n",
       "                       [-1.8128,  0.0263, -0.3620,  ...,  0.6046, -0.8162,  0.6591],\n",
       "                       [-1.6958,  0.9348, -0.7526,  ...,  0.0652, -1.2592, -1.5874]])),\n",
       "              ('user_layer.weight',\n",
       "               tensor([[-0.1322, -0.0672, -0.1649,  ..., -0.0236, -0.0269,  0.0104],\n",
       "                       [-0.0012, -0.0563, -0.0883,  ..., -0.0216,  0.0667, -0.0762],\n",
       "                       [ 0.0738, -0.2374,  0.0786,  ...,  0.0131, -0.1885, -0.1145],\n",
       "                       ...,\n",
       "                       [-0.1113, -0.0043, -0.1501,  ..., -0.0428, -0.2334,  0.0186],\n",
       "                       [ 0.0147, -0.1089, -0.2501,  ...,  0.1602, -0.2089, -0.0612],\n",
       "                       [-0.0119, -0.0490, -0.0968,  ...,  0.0208, -0.1128, -0.0862]])),\n",
       "              ('user_layer.bias',\n",
       "               tensor([ 0.0061,  0.0074, -0.0535,  0.0125, -0.0012, -0.0415,  0.0675,  0.0372,\n",
       "                        0.0046,  0.0215, -0.0036, -0.0833,  0.0160,  0.0099, -0.0016, -0.0014,\n",
       "                       -0.0169,  0.0002, -0.0256,  0.0339, -0.0252, -0.1026, -0.0607, -0.0046,\n",
       "                       -0.0008,  0.0012,  0.0952,  0.0650, -0.0164,  0.0079,  0.0580,  0.0102,\n",
       "                        0.0230, -0.0126, -0.0284, -0.0005,  0.0028,  0.0117,  0.0214, -0.0034,\n",
       "                        0.0016,  0.0007, -0.0129, -0.0111, -0.0123, -0.0445, -0.0145, -0.0020,\n",
       "                       -0.0021,  0.0005, -0.1034,  0.0710, -0.0020, -0.0066, -0.0970, -0.0132,\n",
       "                       -0.0033,  0.0092,  0.0111,  0.0868, -0.0146, -0.0176, -0.1040, -0.0033])),\n",
       "              ('rnn.weight_ih_l0',\n",
       "               tensor([[ 0.0247,  0.1614,  0.6804,  ..., -0.1572, -0.1198, -0.1783],\n",
       "                       [ 0.3350, -0.0318,  0.0016,  ...,  0.0899, -0.3283,  0.0815],\n",
       "                       [-0.1589,  0.0277, -0.6226,  ...,  0.0694,  0.1973,  0.1116],\n",
       "                       ...,\n",
       "                       [-0.2482,  0.0270, -0.6034,  ...,  0.1016, -0.0243,  0.0586],\n",
       "                       [ 0.2730,  0.1792,  0.2725,  ..., -0.0303, -0.5146,  0.3268],\n",
       "                       [-0.1809, -0.2135, -0.3721,  ...,  0.0072,  0.0538,  0.2406]])),\n",
       "              ('rnn.weight_hh_l0',\n",
       "               tensor([[ 0.2082, -0.0121,  0.0005,  ...,  0.0237,  0.0486,  0.1727],\n",
       "                       [ 0.3327,  0.2874, -0.2180,  ..., -0.1105,  0.1668, -0.0458],\n",
       "                       [-0.1069,  0.1418, -0.4494,  ...,  0.0335,  0.0655, -0.0557],\n",
       "                       ...,\n",
       "                       [ 0.0272,  0.1344,  0.3243,  ..., -0.0251, -0.0252, -0.0496],\n",
       "                       [ 0.1032,  0.0218,  0.0095,  ..., -0.0993,  0.0951, -0.1055],\n",
       "                       [-0.1905, -0.0793,  0.2007,  ..., -0.1055,  0.0133, -0.0820]])),\n",
       "              ('rnn.bias_ih_l0',\n",
       "               tensor([-0.0925, -0.3263, -0.0681, -0.0193, -0.1071, -0.1939, -0.1064, -0.1277,\n",
       "                       -0.0978, -0.0967, -0.0013, -0.0823,  0.0621, -0.1712, -0.2023, -0.2041,\n",
       "                       -0.1646, -0.0215, -0.0683, -0.0075, -0.0711, -0.1700, -0.0143, -0.0817,\n",
       "                       -0.1420, -0.3194, -0.0760, -0.0164, -0.1216, -0.1022,  0.0405, -0.0509,\n",
       "                       -0.0309, -0.0474, -0.1502, -0.0332,  0.0451, -0.0895,  0.0417,  0.0828,\n",
       "                       -0.0968, -0.1031,  0.0779,  0.0235, -0.2303, -0.0242, -0.0156, -0.1319,\n",
       "                       -0.1190, -0.2115, -0.0484, -0.0618,  0.0323, -0.0407, -0.1733, -0.2464,\n",
       "                        0.0105, -0.0314, -0.2104, -0.1177, -0.1691, -0.0111, -0.0822, -0.0542,\n",
       "                        0.1063,  0.0458, -0.0636, -0.1392, -0.0369,  0.0017, -0.0697,  0.0111,\n",
       "                       -0.0374,  0.2030,  0.1366, -0.0901,  0.0375,  0.0121,  0.0169, -0.0454,\n",
       "                        0.1278, -0.0668,  0.0561,  0.0621, -0.0434,  0.1938,  0.0536,  0.0213,\n",
       "                        0.1950, -0.0452, -0.0073, -0.3041, -0.0642,  0.0490, -0.0390,  0.1024,\n",
       "                       -0.1652,  0.1268,  0.0280, -0.1383,  0.1245,  0.2411, -0.0389,  0.0814,\n",
       "                       -0.0322,  0.1282,  0.0435,  0.0348,  0.0262, -0.0344,  0.1853,  0.0136,\n",
       "                       -0.1631,  0.0691, -0.1383, -0.0297,  0.0393, -0.0236, -0.1450, -0.0665,\n",
       "                        0.1292,  0.1206, -0.0926,  0.0555, -0.2360, -0.0580,  0.0536, -0.0968,\n",
       "                        0.0417, -0.0309, -0.0020,  0.0196, -0.1015, -0.0527, -0.1075,  0.0160,\n",
       "                        0.1003, -0.0277, -0.0191, -0.0591,  0.0283, -0.0661, -0.1218, -0.1160,\n",
       "                       -0.0117, -0.0600, -0.0066,  0.0986,  0.0472, -0.0481, -0.1329,  0.1308,\n",
       "                        0.0325, -0.0373,  0.0737, -0.1663, -0.0569,  0.0496,  0.0888,  0.0437,\n",
       "                        0.0854,  0.0069,  0.1073,  0.0021,  0.1536,  0.1026,  0.1162, -0.0852,\n",
       "                       -0.0212,  0.0463, -0.0404,  0.0092,  0.0737,  0.0543, -0.1422, -0.0105,\n",
       "                       -0.0832,  0.0715, -0.0257, -0.0246, -0.0117,  0.0676, -0.0124,  0.0364,\n",
       "                       -0.0462,  0.0636, -0.0400,  0.0085,  0.0534,  0.0689,  0.0763, -0.0385])),\n",
       "              ('rnn.bias_hh_l0',\n",
       "               tensor([ 0.0032, -0.2211, -0.0522,  0.1044, -0.0514, -0.2390, -0.0703, -0.1396,\n",
       "                       -0.1252, -0.1096, -0.1120, -0.1550, -0.0074, -0.1520, -0.2218, -0.1393,\n",
       "                       -0.0499, -0.0088, -0.1357, -0.0122, -0.1009, -0.1369,  0.0224,  0.0125,\n",
       "                       -0.1969, -0.2518,  0.0474, -0.1292, -0.1626, -0.1592, -0.1182, -0.1118,\n",
       "                       -0.0989, -0.0639, -0.0388, -0.1383,  0.1264,  0.0334, -0.1596, -0.0183,\n",
       "                       -0.0600, -0.0259,  0.1330,  0.0195, -0.2112,  0.0540, -0.0317, -0.1797,\n",
       "                       -0.0135, -0.0202, -0.0261, -0.0154,  0.0063,  0.0216, -0.3006, -0.1276,\n",
       "                        0.0804,  0.0363, -0.0673, -0.0358, -0.0908,  0.0149,  0.0420, -0.0525,\n",
       "                        0.0578,  0.2556, -0.0120, -0.0298,  0.0759, -0.1829, -0.1615,  0.0015,\n",
       "                       -0.1115,  0.1313,  0.1780, -0.1275,  0.1109, -0.0936,  0.1371, -0.1603,\n",
       "                        0.0683, -0.0319,  0.1054,  0.1210, -0.0606,  0.1527,  0.0099,  0.0313,\n",
       "                        0.1820, -0.1620, -0.1059, -0.1132, -0.1697,  0.0713, -0.0170,  0.0048,\n",
       "                       -0.0837,  0.1797,  0.0587, -0.2453,  0.1122,  0.2204, -0.0170, -0.0745,\n",
       "                       -0.0382,  0.1582, -0.0621, -0.0356,  0.0235,  0.1065,  0.2127,  0.1134,\n",
       "                       -0.1261, -0.0681, -0.0815,  0.0969, -0.0421,  0.1219, -0.0170, -0.2247,\n",
       "                        0.0527,  0.1666, -0.0051,  0.1589, -0.2437, -0.0043,  0.1782, -0.1514,\n",
       "                       -0.1461,  0.0774,  0.0215,  0.1452,  0.1177, -0.0139, -0.0993, -0.0527,\n",
       "                       -0.0267, -0.1467,  0.0419, -0.0158,  0.0606,  0.0286, -0.0197, -0.0073,\n",
       "                        0.0117, -0.2322, -0.0916, -0.0239, -0.0679, -0.0014, -0.1334,  0.0665,\n",
       "                        0.0591, -0.0516,  0.0440, -0.1460,  0.0725, -0.0239,  0.0229,  0.1254,\n",
       "                       -0.0134,  0.0597,  0.0244,  0.0856,  0.0356,  0.1177,  0.0159, -0.1811,\n",
       "                        0.0927,  0.0837, -0.1856, -0.1049,  0.0049,  0.0575,  0.0523, -0.1020,\n",
       "                        0.0744,  0.0444,  0.0236, -0.0693, -0.0143,  0.0457, -0.0710, -0.0304,\n",
       "                        0.0035,  0.1566, -0.0030,  0.0376, -0.0665,  0.1399, -0.0134, -0.1534])),\n",
       "              ('rnn.weight_ih_l1',\n",
       "               tensor([[ 0.0644,  0.0722,  0.1785,  ...,  0.0520,  0.2303, -0.0740],\n",
       "                       [ 0.0266, -0.0012, -0.1712,  ...,  0.0846, -0.1075, -0.2484],\n",
       "                       [ 0.0730,  0.0789, -0.7629,  ..., -0.5418,  0.3126,  0.0728],\n",
       "                       ...,\n",
       "                       [ 0.1497,  0.1279,  0.3722,  ..., -0.0041,  0.0383,  0.1301],\n",
       "                       [-0.0081, -0.2405, -0.3106,  ..., -0.1073, -0.0682, -0.1226],\n",
       "                       [-0.1444, -0.1175, -0.0261,  ...,  0.1664, -0.1092,  0.0731]])),\n",
       "              ('rnn.weight_hh_l1',\n",
       "               tensor([[-0.0046, -0.1833, -0.0327,  ...,  0.1820,  0.0188, -0.2343],\n",
       "                       [ 0.0902, -0.2236,  0.0715,  ...,  0.3230,  0.0630,  0.0537],\n",
       "                       [-0.1565, -0.1126, -0.2745,  ...,  0.0546, -0.0856, -0.2347],\n",
       "                       ...,\n",
       "                       [-0.0751, -0.1710,  0.0517,  ...,  0.1322, -0.1484, -0.0310],\n",
       "                       [ 0.1336,  0.2198,  0.3195,  ..., -0.0747,  0.0697,  0.1745],\n",
       "                       [-0.0837, -0.0987, -0.1503,  ...,  0.0521,  0.0074,  0.0970]])),\n",
       "              ('rnn.bias_ih_l1',\n",
       "               tensor([-0.0695, -0.2895, -0.1413, -0.0089,  0.1335, -0.0186, -0.1279, -0.0650,\n",
       "                        0.0118, -0.0658, -0.0088, -0.1116,  0.0757, -0.3638, -0.1788, -0.0631,\n",
       "                        0.0659, -0.1345, -0.0819, -0.1375,  0.1745, -0.1645, -0.3297,  0.1108,\n",
       "                       -0.1024, -0.1260, -0.1100, -0.0646, -0.0130, -0.1488, -0.0966, -0.2140,\n",
       "                       -0.2039,  0.0120, -0.0062, -0.1503,  0.0657, -0.0907, -0.0725, -0.0523,\n",
       "                       -0.0643, -0.1498, -0.1635, -0.0308, -0.0268, -0.1863, -0.0070, -0.2568,\n",
       "                        0.0717, -0.0143,  0.0093, -0.1217, -0.1158, -0.2161, -0.0971, -0.1225,\n",
       "                        0.0559, -0.2782, -0.0201,  0.0716, -0.0510, -0.0641, -0.1373, -0.0890,\n",
       "                        0.0325,  0.1295, -0.0251,  0.1846,  0.2470,  0.1284,  0.0449,  0.0755,\n",
       "                       -0.1261, -0.0363,  0.0630,  0.1457, -0.1597,  0.0956,  0.1794, -0.0491,\n",
       "                       -0.2382,  0.0417, -0.0442,  0.0567,  0.0859,  0.0179,  0.1409,  0.1547,\n",
       "                        0.1351,  0.1666,  0.0501,  0.0361,  0.0631,  0.2122, -0.0334,  0.1249,\n",
       "                       -0.0158, -0.2200,  0.2017,  0.0041, -0.1354,  0.0161,  0.0273,  0.1633,\n",
       "                       -0.0216,  0.1542,  0.0460, -0.0406,  0.0249,  0.0669,  0.1965,  0.1011,\n",
       "                        0.0574, -0.0621, -0.1144,  0.0550,  0.0913,  0.0598,  0.0479, -0.1439,\n",
       "                       -0.3272, -0.0223, -0.0070,  0.0791, -0.1590,  0.0508,  0.0900,  0.0783,\n",
       "                       -0.2955,  0.0828, -0.1993,  0.0421, -0.1863, -0.0816,  0.0084,  0.0634,\n",
       "                       -0.1041,  0.1430, -0.0484,  0.1303,  0.1117,  0.0989,  0.0856, -0.2462,\n",
       "                       -0.0449, -0.2260,  0.0011,  0.0524, -0.0233,  0.0127,  0.0415, -0.1042,\n",
       "                       -0.1401,  0.0890, -0.1335, -0.1619, -0.1108, -0.1104,  0.1368,  0.0370,\n",
       "                       -0.0737,  0.0655,  0.0500,  0.1516, -0.0316, -0.0313,  0.0108, -0.0448,\n",
       "                       -0.1072,  0.0923, -0.0625, -0.0416,  0.0766,  0.0209,  0.0361,  0.0198,\n",
       "                        0.0261,  0.0240,  0.0495,  0.0509,  0.0233,  0.0820,  0.0490, -0.0526,\n",
       "                       -0.0659,  0.0887,  0.1197,  0.0982,  0.0516,  0.0882, -0.1735, -0.0010])),\n",
       "              ('rnn.bias_hh_l1',\n",
       "               tensor([-1.3184e-02, -1.9820e-01, -1.9855e-01, -1.8783e-02, -3.2815e-02,\n",
       "                        4.8022e-02, -7.9271e-03, -1.1525e-01, -2.3562e-03, -1.1118e-01,\n",
       "                       -5.7133e-02,  6.5215e-02,  1.6879e-01, -2.1233e-01, -3.8035e-02,\n",
       "                        3.8963e-02, -2.2720e-03, -2.5732e-01, -1.1283e-01, -5.1548e-02,\n",
       "                        1.6949e-01, -3.3520e-01, -1.8252e-01,  1.3371e-02, -1.0576e-01,\n",
       "                       -1.8994e-01, -1.3964e-01,  1.9872e-02, -1.7416e-01, -2.1797e-01,\n",
       "                       -8.4864e-02, -1.9604e-01, -2.2981e-01,  1.0467e-02, -7.5088e-02,\n",
       "                       -1.1162e-02, -6.9799e-02,  3.9444e-02, -2.2347e-01, -1.6470e-01,\n",
       "                       -1.1522e-01, -1.4351e-01, -2.7484e-02, -2.8209e-02, -2.0391e-02,\n",
       "                       -1.2536e-01, -1.3129e-02, -9.9001e-02,  9.7199e-02, -1.1151e-01,\n",
       "                       -1.6951e-01, -2.7028e-02, -1.0444e-01, -1.0062e-01, -9.4738e-02,\n",
       "                       -1.4617e-01, -5.4371e-02, -2.7390e-01, -8.7551e-02,  5.8364e-02,\n",
       "                       -2.6297e-02, -4.1757e-03,  3.0356e-02, -1.2510e-01,  4.0827e-03,\n",
       "                        1.7268e-01,  2.8978e-02,  1.0504e-01,  1.8662e-01,  2.8517e-02,\n",
       "                        7.5835e-02, -5.6636e-02, -8.6510e-02,  3.8083e-02,  3.9574e-02,\n",
       "                        7.3507e-02, -6.7851e-02,  1.8020e-02,  7.3123e-02, -4.1381e-02,\n",
       "                       -3.5053e-01,  6.8791e-02,  6.0853e-02,  7.4021e-02,  1.2946e-02,\n",
       "                        9.0450e-02,  5.9909e-02,  1.4611e-01,  2.0436e-02,  1.0281e-01,\n",
       "                        1.3985e-01,  6.8673e-02,  1.2431e-01,  1.0662e-01, -5.2922e-02,\n",
       "                       -3.8909e-02,  1.0919e-01, -2.1316e-01,  1.2683e-01, -9.1998e-02,\n",
       "                       -2.0840e-01,  8.0759e-02, -4.3374e-02,  1.5065e-01, -5.4394e-02,\n",
       "                        8.7294e-02,  1.3230e-01, -4.9164e-02,  1.4699e-01,  1.4261e-01,\n",
       "                       -1.4770e-03,  1.0285e-01, -1.6298e-02, -2.4976e-04, -2.1273e-02,\n",
       "                        1.0255e-01,  2.4358e-01,  1.2818e-01, -5.0117e-03, -1.6983e-01,\n",
       "                       -3.9019e-01,  8.5130e-02, -5.1699e-02,  3.3144e-02, -1.1992e-01,\n",
       "                        5.7125e-02,  5.0307e-02,  1.8309e-01, -1.4074e-01,  4.8576e-02,\n",
       "                       -9.5133e-02,  1.3963e-01, -2.4693e-01, -2.0039e-01,  8.8751e-02,\n",
       "                       -2.9671e-02,  2.0236e-01,  1.4340e-01, -1.3122e-01, -7.6470e-03,\n",
       "                        2.8468e-01,  5.2477e-03, -3.4813e-02,  4.2127e-02,  1.3751e-02,\n",
       "                       -9.4801e-02, -6.2012e-02,  4.2644e-02,  1.7483e-02, -5.3572e-02,\n",
       "                       -3.4245e-02, -1.1100e-01,  3.4968e-02, -3.5563e-02, -6.0093e-02,\n",
       "                       -8.1711e-02, -6.8766e-02, -2.7048e-02,  2.3665e-02,  5.5577e-02,\n",
       "                        7.4525e-04,  1.2367e-01, -2.6660e-02,  1.0476e-01,  1.0925e-01,\n",
       "                       -2.1176e-01,  1.4618e-01, -1.7893e-02, -1.0257e-01, -8.4695e-02,\n",
       "                       -5.7994e-02, -1.2695e-01, -1.2952e-01, -1.2079e-01, -8.0536e-02,\n",
       "                       -1.0477e-02, -2.1463e-02, -6.2791e-02,  1.5952e-01,  1.2669e-01,\n",
       "                        6.1043e-02,  2.1857e-02, -8.0422e-02,  9.2173e-02,  3.0214e-02,\n",
       "                        8.0661e-02,  7.6773e-02, -3.2486e-02,  2.0257e-02,  6.3865e-02,\n",
       "                       -1.5529e-01,  7.0019e-02]))])}"
      ]
     },
     "execution_count": 38,
     "metadata": {},
     "output_type": "execute_result"
    }
   ],
   "source": [
    "checkpoint = torch.load('./models/rnn_w_Label0.pt')\n",
    "checkpoint"
   ]
  },
  {
   "cell_type": "code",
   "execution_count": null,
   "metadata": {},
   "outputs": [],
   "source": []
  }
 ],
 "metadata": {
  "kernelspec": {
   "display_name": "Python 3",
   "language": "python",
   "name": "python3"
  },
  "language_info": {
   "codemirror_mode": {
    "name": "ipython",
    "version": 3
   },
   "file_extension": ".py",
   "mimetype": "text/x-python",
   "name": "python",
   "nbconvert_exporter": "python",
   "pygments_lexer": "ipython3",
   "version": "3.6.9"
  }
 },
 "nbformat": 4,
 "nbformat_minor": 5
}
