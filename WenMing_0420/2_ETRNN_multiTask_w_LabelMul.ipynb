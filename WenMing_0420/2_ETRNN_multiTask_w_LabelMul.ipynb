{
 "cells": [
  {
   "cell_type": "code",
   "execution_count": 1,
   "metadata": {},
   "outputs": [],
   "source": [
    "import os\n",
    "import numpy as np\n",
    "import pandas as pd\n",
    "from time import time\n",
    "from tqdm.notebook import tqdm\n",
    "from sklearn.preprocessing import MinMaxScaler\n",
    "\n",
    "%matplotlib inline\n",
    "import matplotlib.pyplot as plt\n",
    "import seaborn as sns"
   ]
  },
  {
   "cell_type": "code",
   "execution_count": 2,
   "metadata": {},
   "outputs": [],
   "source": [
    "import copy\n",
    "import torch\n",
    "from torch import nn\n",
    "from torch.utils.data import DataLoader, TensorDataset\n",
    "from sklearn.metrics import mean_squared_error, mean_absolute_error, median_absolute_error\n",
    "from sklearn.metrics import confusion_matrix, accuracy_score, recall_score, precision_score, f1_score"
   ]
  },
  {
   "cell_type": "code",
   "execution_count": 3,
   "metadata": {},
   "outputs": [],
   "source": [
    "import torch\n",
    "from torch import nn\n",
    "from torch.autograd import Variable\n",
    "\n",
    "class ET_Rnn(torch.nn.Module):\n",
    "    def __init__(self, dense_dims, sparse_dims, hidden_dims, n_layers=1, use_chid=True, cell='GRU', bi=False, dropout=0, device='cpu'):\n",
    "        super(ET_Rnn, self).__init__()\n",
    "        self.hidden_dims = hidden_dims\n",
    "        self.n_layers = n_layers\n",
    "        self.cell = cell\n",
    "        self.use_chid = use_chid\n",
    "        self.device = device\n",
    "        self.bi = bi\n",
    "        \n",
    "        self.embedding_list = nn.ModuleList([nn.Embedding(fd, ed, padding_idx=0) for fd, ed in sparse_dims])\n",
    "        \n",
    "        if use_chid: \n",
    "            rnn_in_dim = dense_dims + sum([ed for fd, ed in sparse_dims[1:]])   \n",
    "            self.out_dim = hidden_dims*(bi+1) + sparse_dims[0][1] # chid embed dim\n",
    "            self.user_layer = nn.Linear(sparse_dims[0][1], sparse_dims[0][1]) \n",
    "            \n",
    "        else:\n",
    "            rnn_in_dim = dense_dims + sum([ed for fd, ed in sparse_dims[:]])\n",
    "            self.out_dim = hidden_dims*(bi+1)\n",
    "        \n",
    "        if self.cell == 'LSTM':\n",
    "            self.rnn = nn.LSTM(rnn_in_dim, hidden_dims, n_layers, batch_first=True, bidirectional=bi, dropout=dropout)\n",
    "        elif self.cell == 'GRU':\n",
    "            self.rnn = nn.GRU(rnn_in_dim, hidden_dims, n_layers, batch_first=True, bidirectional=bi, dropout=dropout)    \n",
    "        \n",
    "        self.init_embedding()\n",
    "        \n",
    "    def init_embedding(self):\n",
    "        for embed in self.embedding_list:\n",
    "            embed.reset_parameters()\n",
    "\n",
    "    def init_hidden(self, x):\n",
    "        if self.cell == 'LSTM':\n",
    "            hidden = Variable(torch.zeros(self.n_layers*(self.bi+1), x.size(0), self.hidden_dims)).to(self.device)\n",
    "            context = Variable(torch.zeros(self.n_layers*(self.bi+1), x.size(0), self.hidden_dims)).to(self.device)\n",
    "            ret = (hidden, context)\n",
    "        elif self.cell == 'GRU':\n",
    "            hidden = Variable(torch.zeros(self.n_layers*(self.bi+1), x.size(0), self.hidden_dims)).to(self.device)\n",
    "            ret = hidden\n",
    "        \n",
    "        return ret\n",
    "            \n",
    "    def forward(self, x_dense, x_sparse):\n",
    "        if self.use_chid:\n",
    "            x = torch.cat([x_dense]+[embed(x_sparse[:, :, i+1]) for i, embed in enumerate(self.embedding_list[1:])], dim=-1)            \n",
    "        else:\n",
    "            x = torch.cat([x_dense]+[embed(x_sparse[:, :, i]) for i, embed in enumerate(self.embedding_list[:])], dim=-1)\n",
    "        \n",
    "        self.hidden = self.init_hidden(x)\n",
    "        logits, self.hidden = self.rnn(x, self.hidden)\n",
    "        \n",
    "        if self.use_chid:\n",
    "            user_embed = self.user_layer(self.embedding_list[0](x_sparse[:,0,0]))\n",
    "            last_logits = torch.cat([logits[:, -1], user_embed], dim=-1)\n",
    "        else:\n",
    "            last_logits = logits[:, -1]\n",
    "        \n",
    "        return last_logits"
   ]
  },
  {
   "cell_type": "code",
   "execution_count": 4,
   "metadata": {},
   "outputs": [],
   "source": [
    "class MLP(nn.Module):\n",
    "    def __init__(self, input_dims, hidden_dims=[1], out_dim=1):\n",
    "        super(MLP, self).__init__()\n",
    "        hidden_dims = [input_dims] + hidden_dims\n",
    "        \n",
    "        self.layers = nn.Sequential(*[\n",
    "            nn.Sequential(\n",
    "                nn.Linear(idim, odim), \n",
    "                nn.ReLU()\n",
    "            ) for idim, odim in zip(hidden_dims[:-1], hidden_dims[1:])\n",
    "        ])\n",
    "        \n",
    "        self.out_layer = nn.Linear(hidden_dims[-1], out_dim)\n",
    "                   \n",
    "    def forward(self, x):\n",
    "        out = self.layers(x)\n",
    "        out = self.out_layer(out)\n",
    "        \n",
    "        return out"
   ]
  },
  {
   "cell_type": "code",
   "execution_count": 5,
   "metadata": {},
   "outputs": [],
   "source": [
    "class MultiTaskModel(nn.Module):\n",
    "    def __init__(self, dense_dims, sparse_dims, hidden_dims, out_dims=[1], n_layers=1, use_chid=True, cell='GRU', bi=False, dropout=0, device='cpu'):\n",
    "        super(MultiTaskModel, self).__init__()\n",
    "        self.rnn = ET_Rnn(dense_dims, sparse_dims, hidden_dims, n_layers=n_layers, use_chid=use_chid, \n",
    "                          cell=cell, bi=bi, dropout=dropout, device=device)\n",
    "        \n",
    "        self.mlps = nn.ModuleList([MLP(self.rnn.out_dim, hidden_dims=[self.rnn.out_dim//2], out_dim=od) for od in out_dims])\n",
    "        \n",
    "    def forward(self, x_dense, x_sparse):\n",
    "        logits = self.rnn(x_dense, x_sparse)\n",
    "        outs = [mlp(logits)for mlp in self.mlps]\n",
    "        \n",
    "        return outs        "
   ]
  },
  {
   "cell_type": "code",
   "execution_count": 6,
   "metadata": {},
   "outputs": [],
   "source": [
    "class Trainer:\n",
    "    def __init__(self, model, optimizer, device='cpu'):\n",
    "        self.model = model.to(device)\n",
    "        self.criterion_reg = nn.MSELoss()\n",
    "        self.criterion_clf = nn.CrossEntropyLoss()\n",
    "        self.optimizer = optimizer\n",
    "        self.device = device\n",
    "        \n",
    "    def fit(self, train_loader, test_loader=None, epoch=1, early_stop=-1, scaler=None):\n",
    "        history = {\n",
    "            'train': [], \n",
    "            'test': []\n",
    "        }\n",
    "        \n",
    "        best_eval = 9e9\n",
    "        early_cnt = 0\n",
    "        best_model_params = copy.deepcopy(self.model.state_dict())\n",
    "        \n",
    "        for ep in tqdm(range(epoch)):\n",
    "            #print('Epoch:{}'.format(ep+1))\n",
    "            \n",
    "            self.model.train()\n",
    "            for batch in train_loader:\n",
    "                loss = 0\n",
    "                self.optimizer.zero_grad()\n",
    "                \n",
    "                batch = [b.to(self.device) for b in batch]\n",
    "                x_dense, x_sparse = batch[:2]\n",
    "                task = batch[2:]\n",
    "                \n",
    "                #x_dense, x_sparse, task_0, task_1, task_2, task_3 = [b.to(self.device) for b in batch]\n",
    "                \n",
    "                outputs = self.model(x_dense, x_sparse)\n",
    "                \n",
    "                reg_num = 3\n",
    "                for i in range(reg_num):\n",
    "                    loss += self.criterion_reg(outputs[i], task[i])\n",
    "                for i in range(reg_num, 4):\n",
    "                    loss += self.criterion_clf(outputs[i], task[i])\n",
    "\n",
    "                loss.backward()\n",
    "                self.optimizer.step()\n",
    "                \n",
    "            train_result, _, _ = self.evaluate(train_loader)\n",
    "            history['train'].append(train_result)\n",
    "            #print('\\ttrain\\t'+' '.join(['{}:{:.2f}'.format(k, v) for k, v in train_result.items()]))\n",
    "            \n",
    "            if test_loader:\n",
    "                test_result, _, _ = self.evaluate(test_loader)\n",
    "                history['test'].append(test_result)\n",
    "                \n",
    "                if ep%5 == 0 or ep == epoch-1:\n",
    "                    print('Epoch:{}'.format(ep+1))\n",
    "                    print('\\ttest\\t'+' '.join(['{}:{:.3f}'.format(k, v) for k, v in test_result.items()]))\n",
    "\n",
    "                if test_result['total_loss'] < best_eval:\n",
    "                    early_cnt = 0\n",
    "                    best_eval = test_result['total_loss']\n",
    "                    best_model_params = copy.deepcopy(self.model.state_dict())\n",
    "                    #print('\\tbetter!')\n",
    "\n",
    "                elif early_stop > 0:\n",
    "                    early_cnt += 1\n",
    "\n",
    "            if early_stop > 0 and early_cnt >= early_stop:\n",
    "                break\n",
    "        \n",
    "        self.model.load_state_dict(best_model_params)\n",
    "        \n",
    "        return history\n",
    "        \n",
    "    def evaluate(self, loader):\n",
    "        true_list = [[] for i in range(4)]\n",
    "        pred_list = [[] for i in range(4)]\n",
    "        total_loss = 0\n",
    "        loss_list = [0]*4\n",
    "        reg_num = 3\n",
    "        \n",
    "        self.model.eval()\n",
    "        for batch in loader:\n",
    "            batch = [b.to(self.device) for b in batch]\n",
    "            x_dense, x_sparse = batch[:2]\n",
    "            task = batch[2:]\n",
    "            \n",
    "            outputs = self.model(x_dense, x_sparse)         \n",
    "            \n",
    "            for i, (y, output) in enumerate(zip(task, outputs)):\n",
    "                true_list[i].append(y.cpu().detach().numpy())\n",
    "                pred_list[i].append(output.cpu().detach().numpy())\n",
    "                \n",
    "                if i < reg_num:\n",
    "                    batch_loss = self.criterion_reg(output, y).cpu().detach().item() * y.shape[0]\n",
    "                else:\n",
    "                    batch_loss = self.criterion_clf(output, y).cpu().detach().item() * y.shape[0]\n",
    "                    \n",
    "                total_loss += batch_loss\n",
    "                loss_list[i] += batch_loss\n",
    "\n",
    "        for i in range(reg_num):\n",
    "            true_list[i] = np.expm1(np.concatenate(true_list[i], axis=0))\n",
    "            pred_list[i] = np.expm1(np.concatenate(pred_list[i], axis=0))\n",
    "            \n",
    "        for i in range(reg_num, 4):\n",
    "            true_list[i] = np.concatenate(true_list[i], axis=0).reshape(-1, 1)\n",
    "            pred_list[i] = np.argmax(np.concatenate(pred_list[i], axis=0), axis=1).reshape(-1, 1)                         \n",
    "        \n",
    "        # objsum, tscnt, spcnt, label_0, label_mul\n",
    "        result = {\n",
    "            'total_loss': total_loss/len(loader.dataset), \n",
    "            'objsum': mean_squared_error(true_list[0], pred_list[0], squared=False), \n",
    "            'tscnt': mean_squared_error(true_list[1], pred_list[1], squared=False), \n",
    "            'spcnt': mean_squared_error(true_list[2], pred_list[2], squared=False), \n",
    "            'label_0': accuracy_score(true_list[3], pred_list[3]),\n",
    "        }\n",
    "        \n",
    "        return result, true_list, pred_list"
   ]
  },
  {
   "cell_type": "code",
   "execution_count": 7,
   "metadata": {},
   "outputs": [
    {
     "name": "stdout",
     "output_type": "stream",
     "text": [
      "(1033871, 120, 14) (100000, 120, 14) (1033871, 7) (100000, 7) 50000\n",
      "[('bnsfg', 2), ('iterm', 15), ('mcc', 507), ('scity', 11074), ('stonc_tag', 49), ('stonc_label', 202387), ('stonm_label', 212342), ('stonc_6_label', 78560), ('stonc_10_label', 128075)] [('masts', 3), ('educd', 6), ('trdtp', 27), ('poscd', 9)]\n"
     ]
    }
   ],
   "source": [
    "sample_path = './data/sample_50k'\n",
    "\n",
    "x_train = np.load(os.path.join(sample_path, 'RNN', 'x_train.npy'), allow_pickle=True)\n",
    "x_test = np.load(os.path.join(sample_path, 'RNN', 'x_test.npy'), allow_pickle=True)\n",
    "\n",
    "#f_train = np.load(os.path.join(sample_path, 'RNN', 'f_train.npy'), allow_pickle=True)\n",
    "#f_test = np.load(os.path.join(sample_path, 'RNN', 'f_test.npy'), allow_pickle=True)\n",
    "\n",
    "Y_train = np.load(os.path.join(sample_path, 'RNN', 'y_train.npy'), allow_pickle=True)\n",
    "Y_test = np.load(os.path.join(sample_path, 'RNN', 'y_test.npy'), allow_pickle=True)\n",
    "\n",
    "chid_mapper = np.load(os.path.join(sample_path, 'sample_50k_chid_idx_map.npy'), allow_pickle=True).item()\n",
    "feat_mapper = np.load(os.path.join(sample_path, 'RNN', 'feature_map.npy'), allow_pickle=True).item()\n",
    "cust_feature_map = np.load(os.path.join(sample_path, 'RNN', 'cust_feature_map.npy'), allow_pickle=True).item()\n",
    "\n",
    "columns = np.load(os.path.join(sample_path, 'RNN', 'columns.npy'), allow_pickle=True).item()\n",
    "\n",
    "print(x_train.shape, x_test.shape, Y_train.shape, Y_test.shape, len(chid_mapper))\n",
    "print([(k, len(v)) for k, v in feat_mapper.items()], [(k, len(v)) for k, v in cust_feature_map.items()])"
   ]
  },
  {
   "cell_type": "code",
   "execution_count": 8,
   "metadata": {
    "scrolled": true
   },
   "outputs": [
    {
     "name": "stdout",
     "output_type": "stream",
     "text": [
      "['chid', 'bnsfg', 'iterm', 'mcc', 'scity', 'stonc_tag', 'stonc_label', 'stonm_label', 'stonc_6_label', 'stonc_10_label', 'bnspt', 'timestamp_0', 'timestamp_1', 'objam']\n",
      "['chid', 'bnsfg', 'iterm', 'mcc', 'scity', 'stonc_tag', 'stonc_label', 'stonm_label', 'stonc_6_label', 'stonc_10_label'] ['bnspt', 'timestamp_0', 'timestamp_1', 'objam']\n"
     ]
    }
   ],
   "source": [
    "category_cols = columns['x_columns'][:-4]\n",
    "numeric_cols = columns['x_columns'][-4:]\n",
    "\n",
    "print(columns['x_columns'])\n",
    "print(category_cols, numeric_cols)"
   ]
  },
  {
   "cell_type": "code",
   "execution_count": 9,
   "metadata": {},
   "outputs": [
    {
     "name": "stdout",
     "output_type": "stream",
     "text": [
      "['chid', 'data_dt', 'objam_sum', 'objam_mean', 'trans_count', 'shop_count', 'objam_mean_M3_diff']\n"
     ]
    }
   ],
   "source": [
    "print(columns['y_columns'])"
   ]
  },
  {
   "cell_type": "code",
   "execution_count": 10,
   "metadata": {},
   "outputs": [],
   "source": [
    "# regession\n",
    "index = columns['y_columns'].index('objam_sum')\n",
    "train_objsum = Y_train[:, [index]].astype(np.float64)\n",
    "test_objsum = Y_test[:, [index]].astype(np.float64)\n",
    "\n",
    "#index = columns['y_columns'].index('objam_mean')\n",
    "#train_objmean = Y_train[:, [index]].astype(np.float64)\n",
    "#test_objmean = Y_test[:, [index]].astype(np.float64)\n",
    "\n",
    "index = columns['y_columns'].index('trans_count')\n",
    "train_tscnt = Y_train[:, [index]].astype(np.float64)\n",
    "test_tscnt = Y_test[:, [index]].astype(np.float64)\n",
    "\n",
    "index = columns['y_columns'].index('shop_count')\n",
    "train_spcnt = Y_train[:, [index]].astype(np.float64)\n",
    "test_spcnt = Y_test[:, [index]].astype(np.float64)"
   ]
  },
  {
   "cell_type": "code",
   "execution_count": 11,
   "metadata": {},
   "outputs": [
    {
     "name": "stdout",
     "output_type": "stream",
     "text": [
      "6 6 (1033871, 1) (100000, 1)\n"
     ]
    }
   ],
   "source": [
    "#classfication\n",
    "bounds = [0]\n",
    "lable_trans = np.vectorize(lambda x: sum([x > bound for bound in bounds]))\n",
    "\n",
    "train_label_0 = lable_trans(train_objsum)\n",
    "test_label_0 = lable_trans(test_objsum)\n",
    "\n",
    "bounds = [0, 1e4, 5e4, 1e5, 3e5]\n",
    "lable_trans = np.vectorize(lambda x: sum([x > bound for bound in bounds]))\n",
    "train_label_mul = lable_trans(train_objsum)\n",
    "test_label_mul = lable_trans(test_objsum)\n",
    "\n",
    "print(np.unique(train_label_mul).shape[0], np.unique(test_label_mul).shape[0], train_label_mul.shape, test_label_mul.shape)"
   ]
  },
  {
   "cell_type": "code",
   "execution_count": 12,
   "metadata": {},
   "outputs": [],
   "source": [
    "# log transform\n",
    "train_objsum = np.log1p(train_objsum)\n",
    "test_objsum = np.log1p(test_objsum)\n",
    "\n",
    "#train_objmean = np.log1p(train_objmean)\n",
    "#test_objmean = np.log1p(test_objmean)\n",
    "\n",
    "train_tscnt = np.log1p(train_tscnt)\n",
    "test_tscnt = np.log1p(test_tscnt)\n",
    "\n",
    "train_spcnt = np.log1p(train_spcnt)\n",
    "test_spcnt = np.log1p(test_spcnt)"
   ]
  },
  {
   "cell_type": "code",
   "execution_count": 13,
   "metadata": {},
   "outputs": [
    {
     "data": {
      "image/png": "[encoded data removed]",
      "text/plain": [
       "<Figure size 288x288 with 1 Axes>"
      ]
     },
     "metadata": {},
     "output_type": "display_data"
    },
    {
     "data": {
      "image/png": "[encoded data removed]",
      "text/plain": [
       "<Figure size 288x288 with 1 Axes>"
      ]
     },
     "metadata": {},
     "output_type": "display_data"
    }
   ],
   "source": [
    "train_label_num = [np.sum(train_label_0 == label) for label in sorted(np.unique(train_label_0))]\n",
    "test_label_num = [np.sum(test_label_0 == label) for label in sorted(np.unique(train_label_0))]\n",
    "\n",
    "with sns.axes_style(\"darkgrid\"):\n",
    "    plt.figure(figsize=(4, 4))\n",
    "    sns.barplot(x=[0, 1], y=train_label_num)\n",
    "    plt.xticks(range(len(train_label_num)))\n",
    "    plt.show()\n",
    "    \n",
    "with sns.axes_style(\"darkgrid\"):\n",
    "    plt.figure(figsize=(4, 4))\n",
    "    sns.barplot(x=[0, 1], y=test_label_num)\n",
    "    plt.xticks(range(len(test_label_num)))\n",
    "    plt.show()"
   ]
  },
  {
   "cell_type": "code",
   "execution_count": 14,
   "metadata": {},
   "outputs": [
    {
     "data": {
      "image/png": "[encoded data removed]",
      "text/plain": [
       "<Figure size 288x288 with 1 Axes>"
      ]
     },
     "metadata": {},
     "output_type": "display_data"
    },
    {
     "data": {
      "image/png": "[encoded data removed]",
      "text/plain": [
       "<Figure size 288x288 with 1 Axes>"
      ]
     },
     "metadata": {},
     "output_type": "display_data"
    }
   ],
   "source": [
    "train_label_num = [np.sum(train_label_mul == label) for label in sorted(np.unique(train_label_mul))]\n",
    "test_label_num = [np.sum(test_label_mul == label) for label in sorted(np.unique(train_label_mul))]\n",
    "\n",
    "with sns.axes_style(\"darkgrid\"):\n",
    "    plt.figure(figsize=(4, 4))\n",
    "    sns.barplot(x=sorted(np.unique(train_label_mul)), y=train_label_num)\n",
    "    plt.xticks(range(len(train_label_num)))\n",
    "    plt.show()\n",
    "    \n",
    "with sns.axes_style(\"darkgrid\"):\n",
    "    plt.figure(figsize=(4, 4))\n",
    "    sns.barplot(x=sorted(np.unique(train_label_mul)), y=test_label_num)\n",
    "    plt.xticks(range(len(test_label_num)))\n",
    "    plt.show()"
   ]
  },
  {
   "cell_type": "code",
   "execution_count": 15,
   "metadata": {},
   "outputs": [
    {
     "name": "stdout",
     "output_type": "stream",
     "text": [
      "['chid', 'bnsfg', 'iterm', 'mcc', 'scity'] [('bnsfg', 2), ('iterm', 15), ('mcc', 507), ('scity', 11074)]\n"
     ]
    }
   ],
   "source": [
    "sparse_feat = category_cols[:5]#+['stonc_tag', 'stonc_6_label']\n",
    "dense_feat = numeric_cols\n",
    "\n",
    "keys = list(feat_mapper.keys())\n",
    "for key in keys:\n",
    "    if key not in sparse_feat:\n",
    "        del feat_mapper[key]\n",
    "\n",
    "print(sparse_feat, [(k, len(v)) for k, v in feat_mapper.items()])"
   ]
  },
  {
   "cell_type": "code",
   "execution_count": 16,
   "metadata": {},
   "outputs": [
    {
     "data": {
      "text/plain": [
       "(4, [(50001, 64), (3, 16), (16, 16), (508, 16), (11075, 16)], [0, 1, 2, 3, 4])"
      ]
     },
     "execution_count": 16,
     "metadata": {},
     "output_type": "execute_result"
    }
   ],
   "source": [
    "USE_CHID = True\n",
    "idx_start = 1-int(USE_CHID)\n",
    "sparse_index = [category_cols.index(feat) for feat in sparse_feat][idx_start:]\n",
    "\n",
    "chid_embed_dim = 64\n",
    "feat_embed_dim = 16\n",
    "\n",
    "dense_dims = len(dense_feat) # number of dense feature\n",
    "feat_dims = np.array([len(chid_mapper)] + [len(v) for v in feat_mapper.values()])+1 # 0 is padding index, so add 1 dims\n",
    "embed_dims = [chid_embed_dim]+[feat_embed_dim]*len(feat_mapper) # dims of chid and other sparse feature\n",
    "\n",
    "sparse_dims = [(fd, ed) for fd, ed in zip(feat_dims[idx_start:], embed_dims[idx_start:])]\n",
    "\n",
    "dense_dims, sparse_dims, sparse_index"
   ]
  },
  {
   "cell_type": "code",
   "execution_count": 17,
   "metadata": {},
   "outputs": [],
   "source": [
    "# x_data\n",
    "w_size = x_train.shape[1]\n",
    "\n",
    "x_scaler = MinMaxScaler(feature_range=(0, 1))\n",
    "\n",
    "x_train_dense = x_train[:, -w_size:, len(category_cols):].astype(np.float64) # split dense feature\n",
    "x_train_sparse = x_train[:, -w_size:, sparse_index].astype(np.int64) # split sparse feature\n",
    "\n",
    "x_train_dense = np.log1p(x_train_dense - x_train_dense.min(axis=0))\n",
    "x_train_dense = x_scaler.fit_transform(x_train_dense.reshape(-1, x_train_dense.shape[-1])).reshape(x_train_dense.shape)\n",
    "\n",
    "x_test_dense = x_test[:, -w_size:, len(category_cols):].astype(np.float64)\n",
    "x_test_sparse = x_test[:, -w_size:, sparse_index].astype(np.int64) \n",
    "\n",
    "x_test_dense = np.log1p(x_test_dense - x_test_dense.min(axis=0))\n",
    "x_test_dense = x_scaler.transform(x_test_dense.reshape(-1, x_test_dense.shape[-1])).reshape(x_test_dense.shape)"
   ]
  },
  {
   "cell_type": "code",
   "execution_count": 18,
   "metadata": {},
   "outputs": [
    {
     "name": "stdout",
     "output_type": "stream",
     "text": [
      "(1033871, 120, 4) (1033871, 120, 5)\n",
      "(100000, 120, 4) (100000, 120, 5)\n"
     ]
    }
   ],
   "source": [
    "print(x_train_dense.shape, x_train_sparse.shape)\n",
    "print(x_test_dense.shape, x_test_sparse.shape)"
   ]
  },
  {
   "cell_type": "code",
   "execution_count": 19,
   "metadata": {},
   "outputs": [],
   "source": [
    "# train_objsum\n",
    "# test_objsum\n",
    "\n",
    "# train_tscnt\n",
    "# test_tscnt\n",
    "\n",
    "# train_spcnt\n",
    "# test_spcnt\n",
    "\n",
    "# train_label_0\n",
    "# test_label_0\n",
    "\n",
    "# train_label_mul\n",
    "# test_label_mul"
   ]
  },
  {
   "cell_type": "code",
   "execution_count": 20,
   "metadata": {},
   "outputs": [],
   "source": [
    "batch_size = 2048\n",
    "\n",
    "train_dataset = TensorDataset(torch.FloatTensor(x_train_dense), torch.LongTensor(x_train_sparse), \n",
    "                              torch.FloatTensor(train_objsum), torch.FloatTensor(train_tscnt), \n",
    "                              torch.FloatTensor(train_spcnt), torch.LongTensor(train_label_0.flatten()))\n",
    "\n",
    "train_loader = DataLoader(dataset=train_dataset, shuffle=True, batch_size=batch_size, num_workers=8)\n",
    "\n",
    "test_dataset = TensorDataset(torch.FloatTensor(x_test_dense), torch.LongTensor(x_test_sparse), \n",
    "                              torch.FloatTensor(test_objsum), torch.FloatTensor(test_tscnt), \n",
    "                             torch.FloatTensor(test_spcnt), torch.LongTensor(test_label_0.flatten()))\n",
    "\n",
    "test_loader = DataLoader(dataset=test_dataset, shuffle=False, batch_size=batch_size, num_workers=8)"
   ]
  },
  {
   "cell_type": "code",
   "execution_count": 21,
   "metadata": {
    "scrolled": false
   },
   "outputs": [
    {
     "name": "stdout",
     "output_type": "stream",
     "text": [
      "cuda:1\n"
     ]
    },
    {
     "data": {
      "text/plain": [
       "MultiTaskModel(\n",
       "  (rnn): ET_Rnn(\n",
       "    (embedding_list): ModuleList(\n",
       "      (0): Embedding(50001, 64, padding_idx=0)\n",
       "      (1): Embedding(3, 16, padding_idx=0)\n",
       "      (2): Embedding(16, 16, padding_idx=0)\n",
       "      (3): Embedding(508, 16, padding_idx=0)\n",
       "      (4): Embedding(11075, 16, padding_idx=0)\n",
       "    )\n",
       "    (user_layer): Linear(in_features=64, out_features=64, bias=True)\n",
       "    (rnn): GRU(68, 64, num_layers=2, batch_first=True, dropout=0.1)\n",
       "  )\n",
       "  (mlps): ModuleList(\n",
       "    (0): MLP(\n",
       "      (layers): Sequential(\n",
       "        (0): Sequential(\n",
       "          (0): Linear(in_features=128, out_features=64, bias=True)\n",
       "          (1): ReLU()\n",
       "        )\n",
       "      )\n",
       "      (out_layer): Linear(in_features=64, out_features=1, bias=True)\n",
       "    )\n",
       "    (1): MLP(\n",
       "      (layers): Sequential(\n",
       "        (0): Sequential(\n",
       "          (0): Linear(in_features=128, out_features=64, bias=True)\n",
       "          (1): ReLU()\n",
       "        )\n",
       "      )\n",
       "      (out_layer): Linear(in_features=64, out_features=1, bias=True)\n",
       "    )\n",
       "    (2): MLP(\n",
       "      (layers): Sequential(\n",
       "        (0): Sequential(\n",
       "          (0): Linear(in_features=128, out_features=64, bias=True)\n",
       "          (1): ReLU()\n",
       "        )\n",
       "      )\n",
       "      (out_layer): Linear(in_features=64, out_features=1, bias=True)\n",
       "    )\n",
       "    (3): MLP(\n",
       "      (layers): Sequential(\n",
       "        (0): Sequential(\n",
       "          (0): Linear(in_features=128, out_features=64, bias=True)\n",
       "          (1): ReLU()\n",
       "        )\n",
       "      )\n",
       "      (out_layer): Linear(in_features=64, out_features=2, bias=True)\n",
       "    )\n",
       "  )\n",
       ")"
      ]
     },
     "execution_count": 21,
     "metadata": {},
     "output_type": "execute_result"
    }
   ],
   "source": [
    "device = torch.device('cuda:1' if torch.cuda.is_available() else 'cpu')\n",
    "out_dims = [1, 1, 1, 2]\n",
    "\n",
    "model = MultiTaskModel(dense_dims, sparse_dims, hidden_dims=64, out_dims=out_dims, n_layers=2, \n",
    "                       use_chid=USE_CHID, cell='GRU', bi=False, dropout=0.1, device=device)\n",
    "optimizer = torch.optim.AdamW(model.parameters(), lr=2e-3)\n",
    "\n",
    "print(device)\n",
    "model"
   ]
  },
  {
   "cell_type": "code",
   "execution_count": 22,
   "metadata": {
    "scrolled": false
   },
   "outputs": [
    {
     "data": {
      "application/vnd.jupyter.widget-view+json": {
       "model_id": "20f026293c1e4288a1164069a63adda3",
       "version_major": 2,
       "version_minor": 0
      },
      "text/plain": [
       "HBox(children=(HTML(value=''), FloatProgress(value=0.0), HTML(value='')))"
      ]
     },
     "metadata": {},
     "output_type": "display_data"
    },
    {
     "name": "stdout",
     "output_type": "stream",
     "text": [
      "Epoch:1\n",
      "\ttest\ttotal_loss:12.408 objsum:604031.188 tscnt:15.548 spcnt:2.794 label_0:0.849\n",
      "Epoch:6\n",
      "\ttest\ttotal_loss:11.829 objsum:583744.000 tscnt:13.998 spcnt:2.398 label_0:0.853\n",
      "Epoch:11\n",
      "\ttest\ttotal_loss:11.827 objsum:560961.750 tscnt:11.978 spcnt:2.398 label_0:0.851\n",
      "Epoch:16\n",
      "\ttest\ttotal_loss:11.666 objsum:546979.625 tscnt:11.473 spcnt:2.459 label_0:0.854\n",
      "Epoch:21\n",
      "\ttest\ttotal_loss:11.741 objsum:555490.062 tscnt:11.883 spcnt:2.358 label_0:0.853\n",
      "Epoch:26\n",
      "\ttest\ttotal_loss:11.815 objsum:534492.438 tscnt:8.480 spcnt:2.353 label_0:0.852\n",
      "Epoch:31\n",
      "\ttest\ttotal_loss:11.895 objsum:513683.844 tscnt:12.029 spcnt:2.431 label_0:0.852\n",
      "Epoch:36\n",
      "\ttest\ttotal_loss:12.114 objsum:476834.562 tscnt:10.039 spcnt:2.357 label_0:0.850\n",
      "\n",
      "cost: 4524.42\n"
     ]
    }
   ],
   "source": [
    "t0 = time()\n",
    "trainer = Trainer(model, optimizer, device)\n",
    "history = trainer.fit(train_loader, test_loader, epoch=100, early_stop=20)\n",
    "t1 = time()\n",
    "\n",
    "print('cost: {:.2f}'.format(t1 - t0))"
   ]
  },
  {
   "cell_type": "code",
   "execution_count": 23,
   "metadata": {},
   "outputs": [
    {
     "data": {
      "image/png": "[encoded data removed]",
      "text/plain": [
       "<Figure size 576x288 with 1 Axes>"
      ]
     },
     "metadata": {},
     "output_type": "display_data"
    },
    {
     "data": {
      "image/png": "[encoded data removed]",
      "text/plain": [
       "<Figure size 576x288 with 1 Axes>"
      ]
     },
     "metadata": {},
     "output_type": "display_data"
    },
    {
     "data": {
      "image/png": "[encoded data removed]",
      "text/plain": [
       "<Figure size 576x288 with 1 Axes>"
      ]
     },
     "metadata": {},
     "output_type": "display_data"
    },
    {
     "data": {
      "image/png": "[encoded data removed]",
      "text/plain": [
       "<Figure size 576x288 with 1 Axes>"
      ]
     },
     "metadata": {},
     "output_type": "display_data"
    }
   ],
   "source": [
    "df_history = pd.DataFrame(history['test'])\n",
    "\n",
    "# objsum, tscnt, spcnt, label_0, label_mul\n",
    "cols = ['objsum', 'tscnt', 'spcnt', 'label_0']\n",
    "\n",
    "for show in cols:\n",
    "    with sns.axes_style(\"darkgrid\"):\n",
    "        plt.figure(figsize=(8, 4))\n",
    "        sns.lineplot(data=pd.DataFrame(df_history[show]))\n",
    "        plt.show()"
   ]
  },
  {
   "cell_type": "code",
   "execution_count": 24,
   "metadata": {
    "scrolled": true
   },
   "outputs": [
    {
     "name": "stdout",
     "output_type": "stream",
     "text": [
      "train\ttotal_loss:12.8595 objsum:827075.0000 tscnt:5.1102 spcnt:2.0506 label_0:0.8353\n",
      "test\ttotal_loss:11.6663 objsum:546979.6250 tscnt:11.4733 spcnt:2.4594 label_0:0.8541\n"
     ]
    }
   ],
   "source": [
    "train_result, train_true_list, train_pred_list = trainer.evaluate(train_loader)\n",
    "test_result, test_true_list, test_pred_list = trainer.evaluate(test_loader)\n",
    "\n",
    "print('train\\t'+' '.join(['{}:{:.4f}'.format(k, v) for k, v in train_result.items()]))\n",
    "print('test\\t'+' '.join(['{}:{:.4f}'.format(k, v) for k, v in test_result.items()]))"
   ]
  },
  {
   "cell_type": "code",
   "execution_count": 28,
   "metadata": {},
   "outputs": [
    {
     "data": {
      "image/png": "[encoded data removed]",
      "text/plain": [
       "<Figure size 432x432 with 2 Axes>"
      ]
     },
     "metadata": {},
     "output_type": "display_data"
    },
    {
     "name": "stdout",
     "output_type": "stream",
     "text": [
      "-1 {'AccuracyScore': 0.8541, 'RecallScore': 0.8168, 'PrecisionScore': 0.8281, 'F1Score': 0.8221}\n"
     ]
    }
   ],
   "source": [
    "label_num = 1\n",
    "\n",
    "for i in range(1, label_num+1):\n",
    "    cf_matrix = confusion_matrix(test_true_list[-i].reshape(-1, 1), test_pred_list[-i].reshape(-1, 1), normalize='true')\n",
    "    \n",
    "    with sns.axes_style(\"darkgrid\"):\n",
    "        plt.figure(figsize=(6, 6))\n",
    "        ax = sns.heatmap(cf_matrix, linewidths=.01, annot=True)\n",
    "        ax.set_xlabel('Predict', fontsize=16)\n",
    "        ax.set_ylabel('True', fontsize=16)\n",
    "        plt.show()    \n",
    "\n",
    "        scores = {\n",
    "            'AccuracyScore': round(accuracy_score(test_true_list[-i], test_pred_list[-i]), 4), \n",
    "            'RecallScore': round(recall_score(test_true_list[-i], test_pred_list[-i], average='macro'), 4),\n",
    "            'PrecisionScore': round(precision_score(test_true_list[-i], test_pred_list[-i], average='macro'), 4),\n",
    "            'F1Score': round(f1_score(test_true_list[-i], test_pred_list[-i], average='macro'), 4),\n",
    "        }        \n",
    "        \n",
    "        print(-i, scores)"
   ]
  },
  {
   "cell_type": "code",
   "execution_count": 29,
   "metadata": {},
   "outputs": [],
   "source": [
    "torch.save({\n",
    "    'dense_dims': dense_dims,\n",
    "    'sparse_dims': sparse_dims,\n",
    "    'hidden_dims': 64,\n",
    "    'n_layers': 2,\n",
    "    'use_chid': True,\n",
    "    'cell': 'GRU',\n",
    "    'bi': False,\n",
    "    'dropout': 0.1,\n",
    "    'model_state_dict': model.rnn.cpu().state_dict()\n",
    "}, './models/rnn_w_LabelMul.pt')"
   ]
  },
  {
   "cell_type": "code",
   "execution_count": 30,
   "metadata": {},
   "outputs": [
    {
     "data": {
      "text/plain": [
       "{'dense_dims': 4,\n",
       " 'sparse_dims': [(50001, 64), (3, 16), (16, 16), (508, 16), (11075, 16)],\n",
       " 'hidden_dims': 64,\n",
       " 'n_layers': 2,\n",
       " 'use_chid': True,\n",
       " 'cell': 'GRU',\n",
       " 'bi': False,\n",
       " 'dropout': 0.1,\n",
       " 'model_state_dict': OrderedDict([('embedding_list.0.weight',\n",
       "               tensor([[ 0.0000,  0.0000,  0.0000,  ...,  0.0000,  0.0000,  0.0000],\n",
       "                       [-0.4827, -0.4900,  0.4737,  ...,  0.0324,  0.4873, -1.7628],\n",
       "                       [-1.3253,  1.3657, -0.4311,  ..., -0.1835, -1.6744, -0.0231],\n",
       "                       ...,\n",
       "                       [ 1.1007, -0.0626,  0.5691,  ...,  1.4104,  0.1154, -0.2141],\n",
       "                       [ 0.6334,  0.0290,  0.5257,  ...,  0.4840, -0.4022,  0.4967],\n",
       "                       [ 0.8440, -0.4278, -0.5826,  ...,  0.4314, -0.2264, -0.3015]])),\n",
       "              ('embedding_list.1.weight',\n",
       "               tensor([[ 0.0000e+00,  0.0000e+00,  0.0000e+00,  0.0000e+00,  0.0000e+00,\n",
       "                         0.0000e+00,  0.0000e+00,  0.0000e+00,  0.0000e+00,  0.0000e+00,\n",
       "                         0.0000e+00,  0.0000e+00,  0.0000e+00,  0.0000e+00,  0.0000e+00,\n",
       "                         0.0000e+00],\n",
       "                       [ 1.0590e-01,  1.1949e+00, -4.6030e-02, -6.0372e-03, -1.6916e-04,\n",
       "                         3.9906e-03, -1.6398e-01, -1.1982e-01,  5.2037e-01,  4.7205e-01,\n",
       "                         5.5657e-01,  9.3175e-01, -6.9153e-03,  1.6480e+00, -1.5548e-01,\n",
       "                         1.9220e-04],\n",
       "                       [ 7.8144e-01, -8.8696e-01,  3.1748e-01,  3.1725e-01, -8.5795e-01,\n",
       "                        -1.6220e-02, -3.2633e-01, -4.3192e-01,  1.2444e+00, -8.0828e-01,\n",
       "                        -1.4692e+00, -3.1238e-01,  9.3236e-01,  1.0956e+00, -1.0193e-01,\n",
       "                        -5.9025e-01]])),\n",
       "              ('embedding_list.2.weight',\n",
       "               tensor([[ 0.0000e+00,  0.0000e+00,  0.0000e+00,  0.0000e+00,  0.0000e+00,\n",
       "                         0.0000e+00,  0.0000e+00,  0.0000e+00,  0.0000e+00,  0.0000e+00,\n",
       "                         0.0000e+00,  0.0000e+00,  0.0000e+00,  0.0000e+00,  0.0000e+00,\n",
       "                         0.0000e+00],\n",
       "                       [ 1.6728e+00, -4.4739e-03,  3.2584e-02,  4.4325e-01,  1.3423e-02,\n",
       "                        -7.4802e-03, -9.1007e-02,  2.4738e-03,  1.7771e+00,  1.9860e-01,\n",
       "                         1.9479e-02,  9.5597e-01,  8.0602e-01,  2.4071e-01, -2.2084e-01,\n",
       "                        -5.4591e-02],\n",
       "                       [-8.0189e-01, -1.0079e+00, -9.5480e-01,  7.7705e-01, -9.7920e-01,\n",
       "                         6.4903e-01,  3.2594e-01,  1.1975e-02, -4.4505e-01,  1.9091e+00,\n",
       "                         8.3388e-01,  3.6541e-01, -1.8362e+00, -7.8557e-01, -8.6690e-01,\n",
       "                         5.4634e-02],\n",
       "                       [ 5.8829e-01, -3.6624e-01,  5.9662e-01, -6.6585e-01, -7.9823e-01,\n",
       "                        -3.8865e-01,  2.2746e-01,  2.9027e-01,  1.3697e+00,  1.3697e+00,\n",
       "                        -6.3945e-01, -2.8002e-01, -4.7678e-01, -1.0907e+00, -7.4950e-02,\n",
       "                        -9.3465e-01],\n",
       "                       [-1.2189e+00, -1.5840e+00, -3.7673e-01, -2.4503e-03, -8.3151e-01,\n",
       "                        -7.4916e-01,  1.7030e+00,  1.1525e+00, -1.0309e+00,  1.8074e+00,\n",
       "                        -1.1211e+00,  3.2134e-01,  4.3886e-03,  1.5999e+00,  4.7824e-01,\n",
       "                         7.2101e-01],\n",
       "                       [-8.6946e-01, -5.6638e-01, -2.2889e+00, -7.5090e-01, -1.0695e+00,\n",
       "                         2.6736e+00, -1.1793e+00,  2.3859e-01, -3.6887e-01, -6.9141e-01,\n",
       "                         1.5389e+00,  1.4120e-01, -1.0045e+00, -1.2280e+00,  1.3226e+00,\n",
       "                        -6.9479e-01],\n",
       "                       [ 1.6955e-01,  2.0655e+00, -6.3070e-02,  6.2811e-01, -1.0081e+00,\n",
       "                         1.4071e+00, -6.1633e-01, -8.0327e-01, -8.0507e-02, -5.5915e-01,\n",
       "                         1.6170e+00,  7.4217e-01,  5.1185e-01, -1.1225e+00, -3.0607e-02,\n",
       "                        -1.6035e-01],\n",
       "                       [-7.4353e-01,  1.1747e+00,  4.8049e-02, -1.4756e-01,  1.7759e+00,\n",
       "                         4.7445e-02, -6.4253e-01,  1.7129e+00,  2.8684e+00, -1.9456e-01,\n",
       "                        -4.2891e-01,  1.7701e-01,  1.6719e+00, -1.0449e-02,  1.7401e+00,\n",
       "                         4.8233e-01],\n",
       "                       [-5.1724e-01,  4.6060e-01,  5.4849e-01,  1.1934e-01,  6.1139e-01,\n",
       "                        -7.4515e-01,  2.4557e-01, -2.5190e-01,  9.6644e-01,  7.0491e-01,\n",
       "                         1.6808e+00, -3.5551e-01, -8.7515e-01, -3.9420e-01,  8.4617e-01,\n",
       "                         2.7889e-01],\n",
       "                       [-7.2760e-01, -1.7714e+00, -1.5078e+00,  7.2566e-01,  9.1638e-01,\n",
       "                         1.2634e+00, -5.7724e-02,  5.7290e-01,  3.6219e-02, -2.1046e+00,\n",
       "                         1.3797e+00, -5.8496e-01,  2.1390e-02, -7.5395e-01,  1.5455e-01,\n",
       "                         3.5130e-01],\n",
       "                       [ 2.2369e-01,  1.1221e+00,  1.3487e+00, -2.2657e-01, -6.2031e-01,\n",
       "                        -1.3356e+00, -8.5669e-01,  1.3598e+00,  1.0688e+00, -1.5336e+00,\n",
       "                         1.0509e+00, -1.8124e+00, -2.9458e-01, -1.7353e+00,  1.1398e+00,\n",
       "                         8.5358e-01],\n",
       "                       [-1.0072e+00, -7.8314e-01,  3.7611e-01,  2.6754e-01, -1.4736e+00,\n",
       "                         3.4354e-01, -5.7134e-01, -1.7095e+00,  2.4064e-01,  2.3872e-01,\n",
       "                         6.1390e-01, -1.6392e-01, -1.5339e-01, -6.8403e-01, -1.2153e-02,\n",
       "                        -1.5850e+00],\n",
       "                       [-4.2644e-01, -1.8765e+00, -7.8143e-01,  9.6257e-01, -6.1939e-01,\n",
       "                        -4.2789e-01,  1.1331e+00,  3.8648e-01,  7.6736e-01,  1.7638e-01,\n",
       "                        -4.2086e-01, -7.1891e-01,  9.7599e-01, -1.3611e+00,  1.4813e-01,\n",
       "                        -7.0368e-01],\n",
       "                       [-3.7374e-01, -1.0480e+00, -5.3189e-01, -1.3430e+00,  8.4354e-01,\n",
       "                        -2.0243e+00, -1.0305e-01, -1.2497e-01, -1.5098e+00, -1.9843e+00,\n",
       "                        -1.1658e+00,  1.4152e+00,  9.5214e-01,  1.2863e+00, -1.7952e+00,\n",
       "                         1.1958e+00],\n",
       "                       [ 5.0572e-01, -8.0999e-02, -2.8145e+00, -3.4290e-01, -2.5395e-01,\n",
       "                        -2.2622e-01, -1.1199e+00,  2.9112e-01, -1.2878e-01,  1.7639e+00,\n",
       "                        -1.1210e+00, -8.6405e-01, -6.4768e-01,  2.8224e-01,  7.7479e-01,\n",
       "                        -3.0342e-01],\n",
       "                       [-4.8079e-01,  1.3855e+00, -1.6523e+00, -4.7301e-01,  5.4200e-01,\n",
       "                         1.8833e+00,  2.2679e+00, -7.6047e-01,  5.3164e-01, -8.5601e-02,\n",
       "                        -5.0851e-01, -1.0027e+00,  7.6332e-01, -1.8893e+00, -7.0567e-01,\n",
       "                        -5.7034e-01]])),\n",
       "              ('embedding_list.3.weight',\n",
       "               tensor([[ 0.0000,  0.0000,  0.0000,  ...,  0.0000,  0.0000,  0.0000],\n",
       "                       [ 1.0277, -0.8000,  1.4471,  ..., -0.3351,  1.5714, -0.2971],\n",
       "                       [ 0.7626,  0.1586,  0.0972,  ..., -0.5125,  0.9220, -0.8762],\n",
       "                       ...,\n",
       "                       [-1.9343, -0.5816,  1.4302,  ...,  2.3860, -0.2524,  1.1762],\n",
       "                       [ 0.4062, -0.3777, -0.0892,  ..., -1.1432, -0.9821, -0.3699],\n",
       "                       [-1.7232, -0.9094, -1.5520,  ...,  0.3908,  0.5910,  0.7281]])),\n",
       "              ('embedding_list.4.weight',\n",
       "               tensor([[ 0.0000,  0.0000,  0.0000,  ...,  0.0000,  0.0000,  0.0000],\n",
       "                       [-0.0947, -0.7331, -1.5756,  ..., -0.3651,  0.4197, -0.8939],\n",
       "                       [-0.6813, -0.0636, -0.3720,  ...,  0.5037,  0.2866, -0.0049],\n",
       "                       ...,\n",
       "                       [ 0.9440,  0.0636, -0.4315,  ..., -0.5390,  1.2289,  0.1742],\n",
       "                       [ 0.2597, -1.4126,  0.4238,  ..., -2.2357, -0.0927, -0.0616],\n",
       "                       [-0.1035,  0.1912,  0.8958,  ..., -0.7525, -0.2626,  1.7174]])),\n",
       "              ('user_layer.weight',\n",
       "               tensor([[ 0.0038, -0.0145,  0.0266,  ..., -0.0128, -0.1474, -0.0838],\n",
       "                       [-0.0063, -0.0368,  0.0548,  ..., -0.0161,  0.0431, -0.0377],\n",
       "                       [ 0.0451, -0.0614, -0.0655,  ...,  0.0749, -0.0081,  0.0038],\n",
       "                       ...,\n",
       "                       [ 0.1349,  0.0854,  0.2453,  ..., -0.1754, -0.1292, -0.0547],\n",
       "                       [-0.0113, -0.0548,  0.0769,  ..., -0.1936, -0.0012, -0.0212],\n",
       "                       [-0.1812,  0.0733,  0.0642,  ..., -0.1129,  0.1540,  0.0514]])),\n",
       "              ('user_layer.bias',\n",
       "               tensor([ 2.7613e-03,  6.0773e-03,  4.0781e-03, -3.7447e-02,  3.8824e-02,\n",
       "                       -9.7059e-02,  3.6505e-03, -6.2371e-05,  8.6043e-02, -1.8150e-02,\n",
       "                       -1.4360e-02,  5.6736e-02, -1.3754e-03,  5.7227e-02, -1.4230e-01,\n",
       "                        9.4902e-03, -6.4637e-04,  1.3472e-02,  1.3767e-02, -4.9722e-02,\n",
       "                        1.8781e-02,  3.2425e-02, -1.7666e-02,  7.8098e-02, -1.9674e-02,\n",
       "                        1.5625e-02, -2.9680e-02, -5.3778e-02, -1.8701e-03, -6.6493e-02,\n",
       "                       -7.8893e-03, -2.3746e-02,  7.1284e-02,  9.8110e-03,  1.1092e-02,\n",
       "                        1.4744e-04, -3.9057e-03,  1.6988e-02, -1.8590e-02,  5.0424e-03,\n",
       "                        3.0966e-02, -1.5695e-02, -7.0269e-03,  1.3187e-03, -2.5981e-02,\n",
       "                       -7.8769e-02, -5.6795e-03,  7.9648e-02, -3.9531e-03,  1.4304e-02,\n",
       "                       -3.4207e-03, -1.2541e-02,  3.6574e-02, -8.1669e-02,  4.5013e-03,\n",
       "                        6.8004e-03, -1.5614e-02, -5.6893e-02, -1.6234e-03, -7.8170e-02,\n",
       "                        1.5025e-01,  1.4580e-02,  1.5014e-02,  1.3469e-01])),\n",
       "              ('rnn.weight_ih_l0',\n",
       "               tensor([[-2.2548e-01,  3.1776e-01, -1.5897e-02,  ..., -5.8144e-04,\n",
       "                         7.5154e-02, -3.9366e-01],\n",
       "                       [ 2.0090e-01,  1.6033e-01, -1.1693e-02,  ...,  4.1898e-01,\n",
       "                        -6.4461e-01, -4.1373e-01],\n",
       "                       [-2.1122e-01, -1.0342e-01, -8.7849e-03,  ..., -3.5201e-01,\n",
       "                         1.9466e-01,  2.8579e-01],\n",
       "                       ...,\n",
       "                       [-5.9561e-02, -8.0806e-01, -3.4498e-01,  ..., -1.6387e-02,\n",
       "                        -9.2576e-02, -1.1201e-01],\n",
       "                       [ 4.2993e-02,  2.0532e-01,  4.6813e-01,  ..., -1.5821e-03,\n",
       "                        -2.1639e-01,  6.5927e-02],\n",
       "                       [ 8.8990e-03, -2.3307e-02,  2.3523e-01,  ..., -1.2487e-01,\n",
       "                         7.0103e-02,  3.1357e-01]])),\n",
       "              ('rnn.weight_hh_l0',\n",
       "               tensor([[ 0.5094, -0.1597,  0.0117,  ...,  0.0251, -0.0878, -0.1417],\n",
       "                       [ 0.1469, -0.4391, -0.1719,  ...,  0.1948, -0.1748, -0.1817],\n",
       "                       [ 0.2127, -0.1344, -0.3233,  ...,  0.1543, -0.2620, -0.1498],\n",
       "                       ...,\n",
       "                       [-0.0848, -0.0579, -0.0032,  ..., -0.1044, -0.0045,  0.0565],\n",
       "                       [-0.0118,  0.1230, -0.0634,  ..., -0.0479,  0.0422,  0.0085],\n",
       "                       [-0.0407, -0.0854,  0.0160,  ..., -0.1096,  0.0174, -0.1376]])),\n",
       "              ('rnn.bias_ih_l0',\n",
       "               tensor([-1.6404e-01, -6.7271e-02, -1.0900e-01, -1.2272e-01,  5.1416e-03,\n",
       "                        7.4381e-02, -8.8604e-02, -1.3346e-01, -1.0978e-02, -7.2259e-02,\n",
       "                       -1.1516e-01, -2.9327e-02, -2.9018e-02,  2.7566e-02, -7.0575e-02,\n",
       "                       -1.1175e-01, -9.1124e-02, -3.8021e-02, -5.1601e-02, -2.6894e-01,\n",
       "                        5.9447e-02, -8.7913e-03, -1.1054e-01, -1.0546e-01, -5.4595e-02,\n",
       "                       -3.1474e-01, -1.1124e-01, -1.9423e-01, -4.5048e-02, -1.2858e-01,\n",
       "                       -8.3539e-02, -9.7653e-02,  4.1412e-02, -5.5577e-02,  2.1324e-02,\n",
       "                       -2.1176e-01, -9.3380e-03, -7.4153e-02, -2.8125e-01, -1.4550e-01,\n",
       "                        4.7156e-02, -1.2413e-01, -1.0319e-01, -2.2037e-01, -1.1674e-01,\n",
       "                       -8.6583e-02, -1.5898e-01, -1.9598e-02, -1.2875e-01, -2.7560e-03,\n",
       "                       -6.4552e-03, -1.8205e-01, -9.3639e-02, -7.3069e-02, -9.6835e-02,\n",
       "                       -1.9297e-01,  7.6706e-02, -8.1560e-02, -1.0896e-01, -8.4430e-02,\n",
       "                       -2.5343e-01, -1.2705e-01, -4.7527e-02, -1.7942e-01,  1.4921e-01,\n",
       "                        1.4737e-01,  9.7886e-02, -1.2807e-01,  1.7371e-02, -5.8240e-02,\n",
       "                        1.8595e-01,  1.0677e-02,  1.5896e-03, -8.0556e-02,  1.6967e-01,\n",
       "                       -9.3067e-02,  1.4576e-01,  4.1574e-02, -2.0553e-01,  6.5831e-03,\n",
       "                       -9.1606e-02,  7.8033e-02,  2.8619e-02,  1.6047e-01, -1.6021e-02,\n",
       "                        5.8466e-02,  8.0693e-02,  4.4067e-02, -8.6943e-02, -1.8749e-03,\n",
       "                        8.2947e-02,  1.6411e-01,  8.1161e-02,  1.1698e-01,  1.3194e-01,\n",
       "                       -1.7077e-04, -1.5044e-01,  8.7646e-02,  1.5335e-01,  8.9904e-02,\n",
       "                        1.4170e-01, -8.9249e-02,  1.6891e-01, -1.5448e-01,  1.7117e-01,\n",
       "                       -8.4757e-02, -6.3463e-02,  1.8162e-01,  1.5515e-02,  1.6911e-01,\n",
       "                        1.2319e-01,  2.1090e-01, -1.3557e-01,  3.1003e-02, -6.8137e-02,\n",
       "                        8.0858e-02,  1.5863e-02,  1.2953e-01,  2.4568e-02,  1.5896e-01,\n",
       "                       -1.5707e-01,  6.5178e-02,  1.8816e-02, -1.0450e-01,  1.2810e-01,\n",
       "                        2.2111e-01,  1.2572e-01,  1.4326e-01,  1.7454e-02, -2.0707e-02,\n",
       "                        6.1588e-02,  2.0664e-02, -2.6331e-02,  1.2876e-01,  4.4910e-02,\n",
       "                        6.3844e-03, -3.9088e-02, -1.0375e-01,  1.4352e-02, -1.0189e-01,\n",
       "                       -3.7530e-02, -3.1250e-02,  8.7834e-02,  8.4034e-02, -6.2344e-02,\n",
       "                        1.2044e-02,  6.0367e-02, -1.1353e-01, -1.4837e-02, -1.3017e-01,\n",
       "                        3.0380e-03, -2.4021e-03,  2.9844e-02,  1.0100e-01, -1.8391e-02,\n",
       "                       -3.7102e-02,  4.0889e-04, -1.1904e-02,  3.8028e-02,  3.7057e-02,\n",
       "                        6.2321e-02, -2.3692e-02,  5.2750e-02,  8.2869e-02, -9.7823e-02,\n",
       "                        4.5938e-03, -9.7308e-02, -2.3920e-02, -4.9387e-02,  1.0902e-02,\n",
       "                        6.1557e-02, -6.7827e-02, -4.7030e-02,  4.1524e-03, -3.9490e-02,\n",
       "                       -6.3574e-02, -1.0616e-01,  1.9353e-02, -5.0694e-02, -4.6975e-02,\n",
       "                        4.1099e-02, -2.2123e-02,  5.2392e-03,  1.1666e-02,  6.2932e-02,\n",
       "                       -1.0868e-01, -9.7023e-02, -1.3820e-01, -7.5499e-02, -1.8678e-02,\n",
       "                        1.3405e-01,  6.2260e-02])),\n",
       "              ('rnn.bias_hh_l0',\n",
       "               tensor([-2.1343e-02, -2.1223e-01, -6.9467e-02, -1.0326e-01, -3.3216e-02,\n",
       "                       -6.1018e-02, -1.3980e-01, -4.7223e-02, -1.8952e-02, -5.1212e-02,\n",
       "                       -4.9241e-02, -4.6595e-02,  4.8020e-02, -1.3288e-01,  2.9056e-02,\n",
       "                       -1.3933e-01, -2.4882e-02, -1.2971e-01, -2.1917e-01, -2.9005e-01,\n",
       "                       -3.1688e-02, -2.9467e-02, -1.4921e-01, -1.9868e-01, -1.2021e-01,\n",
       "                       -1.3083e-01,  1.8277e-02, -1.0244e-01, -7.8598e-02,  5.4205e-02,\n",
       "                       -1.6700e-01, -8.6496e-02, -5.8485e-02, -9.6572e-03,  3.8195e-02,\n",
       "                       -1.7797e-01,  3.4803e-02, -1.5684e-01, -1.2171e-01, -1.2552e-01,\n",
       "                        5.8145e-03, -1.0240e-01, -5.8651e-02, -3.5553e-01, -1.2216e-01,\n",
       "                       -1.4571e-01, -2.2381e-01, -5.7927e-02, -4.1436e-03, -3.6401e-02,\n",
       "                       -1.0046e-01, -4.4205e-02, -1.2586e-02, -1.0603e-01, -5.6215e-02,\n",
       "                       -1.5995e-01, -7.3840e-02, -1.7133e-01, -1.6840e-01, -1.3065e-01,\n",
       "                       -1.0550e-01, -2.3801e-01, -3.6945e-02, -4.3041e-02,  1.2668e-01,\n",
       "                        1.0797e-01,  9.1711e-02,  3.8425e-02,  3.5470e-03,  9.9521e-02,\n",
       "                        1.5717e-01, -4.1932e-02, -5.3729e-02,  8.8471e-03,  2.0651e-01,\n",
       "                       -9.3639e-02,  4.6627e-02, -4.0822e-02, -1.3954e-01, -1.8658e-03,\n",
       "                       -2.2323e-02,  4.1251e-02, -6.4537e-02,  2.0718e-01, -9.1524e-02,\n",
       "                        5.9346e-02, -6.0864e-02,  7.3243e-02, -3.0093e-02, -1.7399e-01,\n",
       "                       -8.5782e-03,  4.1877e-02,  1.0342e-01,  1.4086e-01,  1.9270e-01,\n",
       "                        1.0984e-01, -1.6160e-01,  8.7380e-03,  5.6113e-02,  1.3044e-01,\n",
       "                        5.4508e-02, -1.8481e-02,  1.9695e-01, -1.5257e-02,  5.9840e-03,\n",
       "                       -6.1263e-02, -1.1615e-01,  3.3720e-02, -2.5185e-02,  1.5926e-01,\n",
       "                        7.7362e-02,  1.6820e-01, -2.2219e-01,  4.5522e-02, -8.9121e-02,\n",
       "                        6.6649e-02, -1.8931e-02,  1.9570e-02,  8.9413e-02,  3.9261e-02,\n",
       "                       -1.1588e-01,  1.1740e-02, -3.3182e-04, -2.4866e-02,  7.2943e-02,\n",
       "                        6.9027e-02,  1.4672e-01,  2.6537e-02,  9.6898e-02, -1.3224e-01,\n",
       "                        9.7834e-03, -1.5561e-02, -1.3193e-01,  1.4141e-01, -5.4710e-02,\n",
       "                       -3.2791e-02,  9.6323e-02, -2.1627e-03,  8.8373e-04,  9.3527e-02,\n",
       "                       -4.3700e-02, -1.6967e-01,  4.5514e-02,  3.5354e-03,  8.4788e-02,\n",
       "                       -5.1447e-02,  2.9629e-02,  1.0536e-02,  8.4576e-02, -7.5570e-03,\n",
       "                        1.4090e-01,  8.1862e-03, -6.2793e-02, -2.5422e-03,  3.1396e-03,\n",
       "                        2.8339e-02, -6.2508e-02,  9.0065e-02, -3.7356e-02,  2.3089e-02,\n",
       "                        8.3186e-03,  6.0251e-02, -6.4783e-03, -4.0054e-02, -9.1461e-02,\n",
       "                        2.4024e-01, -2.2270e-02, -8.6176e-02,  9.0215e-02, -5.3390e-02,\n",
       "                       -1.8102e-01, -4.5708e-02,  2.5478e-02,  7.9982e-02,  5.9262e-02,\n",
       "                       -3.1644e-02, -5.2746e-02,  6.1261e-02, -1.0974e-01, -1.2170e-01,\n",
       "                       -6.6562e-03,  6.0727e-03,  2.9604e-03,  2.6450e-02, -6.9588e-02,\n",
       "                        6.2855e-02, -5.1784e-02, -6.2654e-02, -3.5077e-02,  1.0503e-02,\n",
       "                        5.1436e-02,  6.8155e-03])),\n",
       "              ('rnn.weight_ih_l1',\n",
       "               tensor([[ 0.2997, -0.0597, -0.1089,  ...,  0.2277, -0.1735,  0.3423],\n",
       "                       [ 0.0059,  0.0888,  0.0657,  ..., -0.0302,  0.0149,  0.0786],\n",
       "                       [ 0.2673, -0.2850, -0.0535,  ...,  0.2248, -0.2619, -0.2617],\n",
       "                       ...,\n",
       "                       [ 0.0493, -0.1803, -0.2596,  ...,  0.1718,  0.0993, -0.0150],\n",
       "                       [ 0.2172, -0.0771, -0.0348,  ...,  0.0440, -0.2405, -0.2076],\n",
       "                       [ 0.3784, -0.1288, -0.1481,  ...,  0.1986, -0.0678, -0.0026]])),\n",
       "              ('rnn.weight_hh_l1',\n",
       "               tensor([[ 4.2181e-01,  2.1744e-01,  1.8856e-01,  ..., -1.6678e-02,\n",
       "                        -5.8347e-02,  2.2334e-01],\n",
       "                       [-3.6349e-03,  1.0026e-01, -5.4822e-02,  ...,  1.0800e-04,\n",
       "                         1.9549e-01,  1.6790e-02],\n",
       "                       [-5.8729e-02,  5.0877e-02,  9.2664e-02,  ...,  2.6722e-02,\n",
       "                        -7.6654e-02,  1.8969e-01],\n",
       "                       ...,\n",
       "                       [ 1.0842e-01,  6.9952e-02,  3.5878e-02,  ...,  9.9194e-02,\n",
       "                        -1.6882e-01,  5.0679e-02],\n",
       "                       [ 4.8657e-02,  1.7895e-03,  1.4503e-02,  ..., -3.4737e-02,\n",
       "                        -2.5737e-01,  3.6348e-02],\n",
       "                       [-9.2832e-02, -1.0093e-03,  1.5876e-02,  ..., -2.5709e-01,\n",
       "                        -6.8385e-02, -1.2468e-01]])),\n",
       "              ('rnn.bias_ih_l1',\n",
       "               tensor([-0.2029, -0.0953, -0.1165, -0.0721, -0.1145, -0.0520, -0.1046, -0.0070,\n",
       "                       -0.1200, -0.3109, -0.0502,  0.0785, -0.0811, -0.2503, -0.1881, -0.1425,\n",
       "                        0.0383, -0.0147, -0.0723, -0.0981, -0.0474,  0.0162, -0.1101, -0.0488,\n",
       "                       -0.1555, -0.2071, -0.1943, -0.1767, -0.0753, -0.0810, -0.2206, -0.1574,\n",
       "                       -0.0014, -0.0589, -0.0887,  0.0019, -0.0083, -0.0903, -0.2334, -0.0413,\n",
       "                       -0.2031, -0.1299, -0.0872, -0.1571, -0.0620, -0.2861, -0.1750, -0.1017,\n",
       "                        0.0753, -0.1410,  0.0234,  0.1074,  0.0745,  0.0906, -0.1162,  0.0153,\n",
       "                        0.0913, -0.0323,  0.0616, -0.0300, -0.3653, -0.3366, -0.1506, -0.0443,\n",
       "                       -0.0901,  0.0656,  0.1339,  0.1690, -0.0666, -0.1523, -0.1260,  0.0844,\n",
       "                       -0.0226,  0.1820, -0.1434, -0.0321,  0.1196,  0.0733, -0.0576,  0.0233,\n",
       "                       -0.0407, -0.1573, -0.1351,  0.0359, -0.0962, -0.0422, -0.0134,  0.0948,\n",
       "                       -0.0600,  0.0205,  0.0192, -0.0172,  0.0238, -0.0737,  0.0593,  0.1019,\n",
       "                       -0.0548, -0.0410, -0.1970, -0.0550,  0.0223, -0.0425,  0.1489,  0.0180,\n",
       "                        0.2018,  0.0131, -0.1373, -0.1253,  0.0483,  0.0005,  0.0604, -0.1422,\n",
       "                        0.0017, -0.3890, -0.1933,  0.2599,  0.0731, -0.2018,  0.0576,  0.1467,\n",
       "                       -0.1999, -0.0503, -0.1216,  0.0807,  0.2176, -0.0263,  0.1479,  0.0353,\n",
       "                        0.0210,  0.0261,  0.0272, -0.0490, -0.0145,  0.0107, -0.2558, -0.0056,\n",
       "                       -0.0620,  0.0433, -0.0972,  0.1110, -0.0771,  0.1065,  0.1394,  0.0491,\n",
       "                       -0.1570, -0.1226,  0.0860,  0.1623, -0.0592,  0.0515,  0.1993,  0.1748,\n",
       "                        0.1843, -0.1111,  0.0297,  0.0538, -0.0751,  0.0577,  0.0179,  0.0700,\n",
       "                        0.1590,  0.1048,  0.1240,  0.0737, -0.1252, -0.1000, -0.0969, -0.0969,\n",
       "                       -0.0560, -0.0533,  0.0172, -0.2095, -0.0491, -0.0304, -0.1024,  0.1767,\n",
       "                        0.2342,  0.0284, -0.2663,  0.2054, -0.1149,  0.1262, -0.0250, -0.0796,\n",
       "                        0.1117,  0.1854, -0.0833,  0.0475,  0.0505, -0.0512,  0.0710,  0.0067])),\n",
       "              ('rnn.bias_hh_l1',\n",
       "               tensor([-0.0570, -0.0294, -0.0080,  0.0914, -0.2348, -0.0221,  0.0106, -0.1564,\n",
       "                       -0.0754, -0.2937,  0.0151, -0.0245,  0.0256, -0.3945, -0.0164, -0.0627,\n",
       "                       -0.0739,  0.0729,  0.0836,  0.0265,  0.0490, -0.1338, -0.0473,  0.0332,\n",
       "                       -0.1364, -0.1183, -0.1593, -0.0070, -0.2051, -0.0789, -0.1564, -0.1865,\n",
       "                       -0.0704, -0.2212, -0.1070, -0.1353, -0.0358, -0.1852, -0.2691,  0.0282,\n",
       "                       -0.2192, -0.1226, -0.0212, -0.1147, -0.0906, -0.1980, -0.1742, -0.0603,\n",
       "                       -0.0075, -0.1889, -0.0709,  0.0955, -0.0601,  0.0789, -0.1618, -0.0105,\n",
       "                        0.0833, -0.0887,  0.0097,  0.0688, -0.3048, -0.3716, -0.0174, -0.0616,\n",
       "                        0.0319,  0.0924,  0.1959, -0.0206, -0.0322, -0.2132, -0.1047,  0.0732,\n",
       "                        0.1111,  0.1724, -0.1700, -0.1998,  0.2129, -0.0983, -0.0012,  0.1645,\n",
       "                       -0.0226, -0.1208, -0.0655, -0.1071, -0.0562,  0.0146,  0.1472,  0.0881,\n",
       "                       -0.0091,  0.0784, -0.0049, -0.0815, -0.0933,  0.1118,  0.1740, -0.0440,\n",
       "                       -0.1470,  0.0979, -0.3113, -0.0319,  0.0281, -0.0507,  0.2028,  0.1014,\n",
       "                        0.1591, -0.0560,  0.0238, -0.1630,  0.0254, -0.1242,  0.0243, -0.0250,\n",
       "                        0.0748, -0.2876, -0.1936,  0.1838,  0.1808, -0.2079,  0.1397,  0.1504,\n",
       "                       -0.0671, -0.0240, -0.0134, -0.0480,  0.1557,  0.0981,  0.1887,  0.1533,\n",
       "                        0.0443, -0.1118,  0.0051, -0.0858, -0.1831,  0.0387, -0.2478,  0.0743,\n",
       "                       -0.1453,  0.0300, -0.0681,  0.0984,  0.0156, -0.0424,  0.1306,  0.0921,\n",
       "                        0.1381,  0.0041,  0.0064,  0.0633,  0.1225,  0.0648,  0.0540,  0.2364,\n",
       "                        0.1699,  0.0678, -0.0877,  0.1325, -0.0602, -0.0821, -0.0434, -0.0460,\n",
       "                        0.2102, -0.0090,  0.2709,  0.0543, -0.0444, -0.1017, -0.0091,  0.1626,\n",
       "                       -0.1070, -0.0059, -0.0711, -0.0901, -0.1785, -0.0407, -0.1249,  0.0394,\n",
       "                        0.2026,  0.1500, -0.1516,  0.2456,  0.0975, -0.1660, -0.0493, -0.0774,\n",
       "                        0.0601,  0.0430, -0.0748, -0.0493, -0.1047,  0.0250,  0.0668, -0.0555]))])}"
      ]
     },
     "execution_count": 30,
     "metadata": {},
     "output_type": "execute_result"
    }
   ],
   "source": [
    "checkpoint = torch.load('./models/rnn_w_LabelMul.pt')\n",
    "checkpoint"
   ]
  },
  {
   "cell_type": "code",
   "execution_count": null,
   "metadata": {},
   "outputs": [],
   "source": []
  }
 ],
 "metadata": {
  "kernelspec": {
   "display_name": "Python 3",
   "language": "python",
   "name": "python3"
  },
  "language_info": {
   "codemirror_mode": {
    "name": "ipython",
    "version": 3
   },
   "file_extension": ".py",
   "mimetype": "text/x-python",
   "name": "python",
   "nbconvert_exporter": "python",
   "pygments_lexer": "ipython3",
   "version": "3.6.9"
  }
 },
 "nbformat": 4,
 "nbformat_minor": 5
}
