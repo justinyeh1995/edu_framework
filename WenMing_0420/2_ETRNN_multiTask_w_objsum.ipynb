{
 "cells": [
  {
   "cell_type": "code",
   "execution_count": 1,
   "metadata": {},
   "outputs": [],
   "source": [
    "import os\n",
    "import numpy as np\n",
    "import pandas as pd\n",
    "from time import time\n",
    "from tqdm.notebook import tqdm\n",
    "from sklearn.preprocessing import MinMaxScaler\n",
    "\n",
    "%matplotlib inline\n",
    "import matplotlib.pyplot as plt\n",
    "import seaborn as sns"
   ]
  },
  {
   "cell_type": "code",
   "execution_count": 2,
   "metadata": {},
   "outputs": [],
   "source": [
    "import copy\n",
    "import torch\n",
    "from torch import nn\n",
    "from torch.utils.data import DataLoader, TensorDataset\n",
    "from sklearn.metrics import mean_squared_error, mean_absolute_error, median_absolute_error\n",
    "from sklearn.metrics import confusion_matrix, accuracy_score, recall_score, precision_score, f1_score"
   ]
  },
  {
   "cell_type": "code",
   "execution_count": 3,
   "metadata": {},
   "outputs": [],
   "source": [
    "import torch\n",
    "from torch import nn\n",
    "from torch.autograd import Variable\n",
    "\n",
    "class ET_Rnn(torch.nn.Module):\n",
    "    def __init__(self, dense_dims, sparse_dims, hidden_dims, n_layers=1, use_chid=True, cell='GRU', bi=False, dropout=0, device='cpu'):\n",
    "        super(ET_Rnn, self).__init__()\n",
    "        self.hidden_dims = hidden_dims\n",
    "        self.n_layers = n_layers\n",
    "        self.cell = cell\n",
    "        self.use_chid = use_chid\n",
    "        self.device = device\n",
    "        self.bi = bi\n",
    "        \n",
    "        self.embedding_list = nn.ModuleList([nn.Embedding(fd, ed, padding_idx=0) for fd, ed in sparse_dims])\n",
    "        \n",
    "        if use_chid: \n",
    "            rnn_in_dim = dense_dims + sum([ed for fd, ed in sparse_dims[1:]])   \n",
    "            self.out_dim = hidden_dims*(bi+1) + sparse_dims[0][1] # chid embed dim\n",
    "            self.user_layer = nn.Linear(sparse_dims[0][1], sparse_dims[0][1]) \n",
    "            \n",
    "        else:\n",
    "            rnn_in_dim = dense_dims + sum([ed for fd, ed in sparse_dims[:]])\n",
    "            self.out_dim = hidden_dims*(bi+1)\n",
    "        \n",
    "        if self.cell == 'LSTM':\n",
    "            self.rnn = nn.LSTM(rnn_in_dim, hidden_dims, n_layers, batch_first=True, bidirectional=bi, dropout=dropout)\n",
    "        elif self.cell == 'GRU':\n",
    "            self.rnn = nn.GRU(rnn_in_dim, hidden_dims, n_layers, batch_first=True, bidirectional=bi, dropout=dropout)    \n",
    "        \n",
    "        self.init_embedding()\n",
    "        \n",
    "    def init_embedding(self):\n",
    "        for embed in self.embedding_list:\n",
    "            embed.reset_parameters()\n",
    "\n",
    "    def init_hidden(self, x):\n",
    "        if self.cell == 'LSTM':\n",
    "            hidden = Variable(torch.zeros(self.n_layers*(self.bi+1), x.size(0), self.hidden_dims)).to(self.device)\n",
    "            context = Variable(torch.zeros(self.n_layers*(self.bi+1), x.size(0), self.hidden_dims)).to(self.device)\n",
    "            ret = (hidden, context)\n",
    "        elif self.cell == 'GRU':\n",
    "            hidden = Variable(torch.zeros(self.n_layers*(self.bi+1), x.size(0), self.hidden_dims)).to(self.device)\n",
    "            ret = hidden\n",
    "        \n",
    "        return ret\n",
    "            \n",
    "    def forward(self, x_dense, x_sparse):\n",
    "        if self.use_chid:\n",
    "            x = torch.cat([x_dense]+[embed(x_sparse[:, :, i+1]) for i, embed in enumerate(self.embedding_list[1:])], dim=-1)            \n",
    "        else:\n",
    "            x = torch.cat([x_dense]+[embed(x_sparse[:, :, i]) for i, embed in enumerate(self.embedding_list[:])], dim=-1)\n",
    "        \n",
    "        self.hidden = self.init_hidden(x)\n",
    "        logits, self.hidden = self.rnn(x, self.hidden)\n",
    "        \n",
    "        if self.use_chid:\n",
    "            user_embed = self.user_layer(self.embedding_list[0](x_sparse[:,0,0]))\n",
    "            last_logits = torch.cat([logits[:, -1], user_embed], dim=-1)\n",
    "        else:\n",
    "            last_logits = logits[:, -1]\n",
    "        \n",
    "        return last_logits"
   ]
  },
  {
   "cell_type": "code",
   "execution_count": 4,
   "metadata": {},
   "outputs": [],
   "source": [
    "class MLP(nn.Module):\n",
    "    def __init__(self, input_dims, hidden_dims=[1], out_dim=1):\n",
    "        super(MLP, self).__init__()\n",
    "        hidden_dims = [input_dims] + hidden_dims\n",
    "        \n",
    "        self.layers = nn.Sequential(*[\n",
    "            nn.Sequential(\n",
    "                nn.Linear(idim, odim), \n",
    "                nn.ReLU()\n",
    "            ) for idim, odim in zip(hidden_dims[:-1], hidden_dims[1:])\n",
    "        ])\n",
    "        \n",
    "        self.out_layer = nn.Linear(hidden_dims[-1], out_dim)\n",
    "                   \n",
    "    def forward(self, x):\n",
    "        out = self.layers(x)\n",
    "        out = self.out_layer(out)\n",
    "        \n",
    "        return out"
   ]
  },
  {
   "cell_type": "code",
   "execution_count": 5,
   "metadata": {},
   "outputs": [],
   "source": [
    "class MultiTaskModel(nn.Module):\n",
    "    def __init__(self, dense_dims, sparse_dims, hidden_dims, out_dims=[1], n_layers=1, use_chid=True, cell='GRU', bi=False, dropout=0, device='cpu'):\n",
    "        super(MultiTaskModel, self).__init__()\n",
    "        self.rnn = ET_Rnn(dense_dims, sparse_dims, hidden_dims, n_layers=n_layers, use_chid=use_chid, \n",
    "                          cell=cell, bi=bi, dropout=dropout, device=device)\n",
    "        \n",
    "        self.mlps = nn.ModuleList([MLP(self.rnn.out_dim, hidden_dims=[self.rnn.out_dim//2], out_dim=od) for od in out_dims])\n",
    "        \n",
    "    def forward(self, x_dense, x_sparse):\n",
    "        logits = self.rnn(x_dense, x_sparse)\n",
    "        outs = [mlp(logits)for mlp in self.mlps]\n",
    "        \n",
    "        return outs        "
   ]
  },
  {
   "cell_type": "code",
   "execution_count": 6,
   "metadata": {},
   "outputs": [],
   "source": [
    "class Trainer:\n",
    "    def __init__(self, model, optimizer, device='cpu'):\n",
    "        self.model = model.to(device)\n",
    "        self.criterion_reg = nn.MSELoss()\n",
    "        self.criterion_clf = nn.CrossEntropyLoss()\n",
    "        self.optimizer = optimizer\n",
    "        self.device = device\n",
    "        \n",
    "    def fit(self, train_loader, test_loader=None, epoch=1, early_stop=-1, scaler=None):\n",
    "        history = {\n",
    "            'train': [], \n",
    "            'test': []\n",
    "        }\n",
    "        \n",
    "        best_eval = 9e9\n",
    "        early_cnt = 0\n",
    "        best_model_params = copy.deepcopy(self.model.state_dict())\n",
    "        \n",
    "        for ep in tqdm(range(epoch)):\n",
    "            #print('Epoch:{}'.format(ep+1))\n",
    "            \n",
    "            self.model.train()\n",
    "            for batch in train_loader:\n",
    "                loss = 0\n",
    "                self.optimizer.zero_grad()\n",
    "                \n",
    "                batch = [b.to(self.device) for b in batch]\n",
    "                x_dense, x_sparse = batch[:2]\n",
    "                task = batch[2:]\n",
    "                \n",
    "                #x_dense, x_sparse, task_0, task_1, task_2, task_3 = [b.to(self.device) for b in batch]\n",
    "                \n",
    "                outputs = self.model(x_dense, x_sparse)\n",
    "                \n",
    "                reg_num = 2\n",
    "                for i in range(reg_num):\n",
    "                    loss += self.criterion_reg(outputs[i], task[i])\n",
    "                for i in range(reg_num, 4):\n",
    "                    loss += self.criterion_clf(outputs[i], task[i])\n",
    "\n",
    "                loss.backward()\n",
    "                self.optimizer.step()\n",
    "                \n",
    "            train_result, _, _ = self.evaluate(train_loader)\n",
    "            history['train'].append(train_result)\n",
    "            #print('\\ttrain\\t'+' '.join(['{}:{:.2f}'.format(k, v) for k, v in train_result.items()]))\n",
    "            \n",
    "            if test_loader:\n",
    "                test_result, _, _ = self.evaluate(test_loader)\n",
    "                history['test'].append(test_result)\n",
    "                \n",
    "                if ep%5 == 0 or ep == epoch-1:\n",
    "                    print('Epoch:{}'.format(ep+1))\n",
    "                    print('\\ttest\\t'+' '.join(['{}:{:.3f}'.format(k, v) for k, v in test_result.items()]))\n",
    "\n",
    "                if test_result['total_loss'] < best_eval:\n",
    "                    early_cnt = 0\n",
    "                    best_eval = test_result['total_loss']\n",
    "                    best_model_params = copy.deepcopy(self.model.state_dict())\n",
    "                    #print('\\tbetter!')\n",
    "\n",
    "                elif early_stop > 0:\n",
    "                    early_cnt += 1\n",
    "\n",
    "            if early_stop > 0 and early_cnt >= early_stop:\n",
    "                break\n",
    "        \n",
    "        self.model.load_state_dict(best_model_params)\n",
    "        \n",
    "        return history\n",
    "        \n",
    "    def evaluate(self, loader):\n",
    "        true_list = [[] for i in range(4)]\n",
    "        pred_list = [[] for i in range(4)]\n",
    "        total_loss = 0\n",
    "        loss_list = [0]*4\n",
    "        reg_num = 2\n",
    "        \n",
    "        self.model.eval()\n",
    "        for batch in loader:\n",
    "            batch = [b.to(self.device) for b in batch]\n",
    "            x_dense, x_sparse = batch[:2]\n",
    "            task = batch[2:]\n",
    "            \n",
    "            outputs = self.model(x_dense, x_sparse)         \n",
    "            \n",
    "            for i, (y, output) in enumerate(zip(task, outputs)):\n",
    "                true_list[i].append(y.cpu().detach().numpy())\n",
    "                pred_list[i].append(output.cpu().detach().numpy())\n",
    "                \n",
    "                if i < reg_num:\n",
    "                    batch_loss = self.criterion_reg(output, y).cpu().detach().item() * y.shape[0]\n",
    "                else:\n",
    "                    batch_loss = self.criterion_clf(output, y).cpu().detach().item() * y.shape[0]\n",
    "                    \n",
    "                total_loss += batch_loss\n",
    "                loss_list[i] += batch_loss\n",
    "\n",
    "        for i in range(reg_num):\n",
    "            true_list[i] = np.expm1(np.concatenate(true_list[i], axis=0))\n",
    "            pred_list[i] = np.expm1(np.concatenate(pred_list[i], axis=0))\n",
    "            \n",
    "        for i in range(reg_num, 4):\n",
    "            true_list[i] = np.concatenate(true_list[i], axis=0).reshape(-1, 1)\n",
    "            pred_list[i] = np.argmax(np.concatenate(pred_list[i], axis=0), axis=1).reshape(-1, 1)                         \n",
    "        \n",
    "        # objsum, tscnt, spcnt, label_0, label_mul\n",
    "        result = {\n",
    "            'total_loss': total_loss/len(loader.dataset), \n",
    "            'tscnt': mean_squared_error(true_list[0], pred_list[0], squared=False), \n",
    "            'spcnt': mean_squared_error(true_list[1], pred_list[1], squared=False), \n",
    "            'label_0': accuracy_score(true_list[2], pred_list[2]), \n",
    "            'label_mul': accuracy_score(true_list[3], pred_list[3]),\n",
    "        }\n",
    "        \n",
    "        return result, true_list, pred_list"
   ]
  },
  {
   "cell_type": "code",
   "execution_count": 7,
   "metadata": {},
   "outputs": [
    {
     "name": "stdout",
     "output_type": "stream",
     "text": [
      "(1033871, 120, 14) (100000, 120, 14) (1033871, 7) (100000, 7) 50000\n",
      "[('bnsfg', 2), ('iterm', 15), ('mcc', 507), ('scity', 11074), ('stonc_tag', 49), ('stonc_label', 202387), ('stonm_label', 212342), ('stonc_6_label', 78560), ('stonc_10_label', 128075)] [('masts', 3), ('educd', 6), ('trdtp', 27), ('poscd', 9)]\n"
     ]
    }
   ],
   "source": [
    "sample_path = './data/sample_50k'\n",
    "\n",
    "x_train = np.load(os.path.join(sample_path, 'RNN', 'x_train.npy'), allow_pickle=True)\n",
    "x_test = np.load(os.path.join(sample_path, 'RNN', 'x_test.npy'), allow_pickle=True)\n",
    "\n",
    "#f_train = np.load(os.path.join(sample_path, 'RNN', 'f_train.npy'), allow_pickle=True)\n",
    "#f_test = np.load(os.path.join(sample_path, 'RNN', 'f_test.npy'), allow_pickle=True)\n",
    "\n",
    "Y_train = np.load(os.path.join(sample_path, 'RNN', 'y_train.npy'), allow_pickle=True)\n",
    "Y_test = np.load(os.path.join(sample_path, 'RNN', 'y_test.npy'), allow_pickle=True)\n",
    "\n",
    "chid_mapper = np.load(os.path.join(sample_path, 'sample_50k_chid_idx_map.npy'), allow_pickle=True).item()\n",
    "feat_mapper = np.load(os.path.join(sample_path, 'RNN', 'feature_map.npy'), allow_pickle=True).item()\n",
    "cust_feature_map = np.load(os.path.join(sample_path, 'RNN', 'cust_feature_map.npy'), allow_pickle=True).item()\n",
    "\n",
    "columns = np.load(os.path.join(sample_path, 'RNN', 'columns.npy'), allow_pickle=True).item()\n",
    "\n",
    "print(x_train.shape, x_test.shape, Y_train.shape, Y_test.shape, len(chid_mapper))\n",
    "print([(k, len(v)) for k, v in feat_mapper.items()], [(k, len(v)) for k, v in cust_feature_map.items()])"
   ]
  },
  {
   "cell_type": "code",
   "execution_count": 8,
   "metadata": {
    "scrolled": true
   },
   "outputs": [
    {
     "name": "stdout",
     "output_type": "stream",
     "text": [
      "['chid', 'bnsfg', 'iterm', 'mcc', 'scity', 'stonc_tag', 'stonc_label', 'stonm_label', 'stonc_6_label', 'stonc_10_label', 'bnspt', 'timestamp_0', 'timestamp_1', 'objam']\n",
      "['chid', 'bnsfg', 'iterm', 'mcc', 'scity', 'stonc_tag', 'stonc_label', 'stonm_label', 'stonc_6_label', 'stonc_10_label'] ['bnspt', 'timestamp_0', 'timestamp_1', 'objam']\n"
     ]
    }
   ],
   "source": [
    "category_cols = columns['x_columns'][:-4]\n",
    "numeric_cols = columns['x_columns'][-4:]\n",
    "\n",
    "print(columns['x_columns'])\n",
    "print(category_cols, numeric_cols)"
   ]
  },
  {
   "cell_type": "code",
   "execution_count": 9,
   "metadata": {},
   "outputs": [
    {
     "name": "stdout",
     "output_type": "stream",
     "text": [
      "['chid', 'data_dt', 'objam_sum', 'objam_mean', 'trans_count', 'shop_count', 'objam_mean_M3_diff']\n"
     ]
    }
   ],
   "source": [
    "print(columns['y_columns'])"
   ]
  },
  {
   "cell_type": "code",
   "execution_count": 10,
   "metadata": {},
   "outputs": [],
   "source": [
    "# regession\n",
    "index = columns['y_columns'].index('objam_sum')\n",
    "train_objsum = Y_train[:, [index]].astype(np.float64)\n",
    "test_objsum = Y_test[:, [index]].astype(np.float64)\n",
    "\n",
    "#index = columns['y_columns'].index('objam_mean')\n",
    "#train_objmean = Y_train[:, [index]].astype(np.float64)\n",
    "#test_objmean = Y_test[:, [index]].astype(np.float64)\n",
    "\n",
    "index = columns['y_columns'].index('trans_count')\n",
    "train_tscnt = Y_train[:, [index]].astype(np.float64)\n",
    "test_tscnt = Y_test[:, [index]].astype(np.float64)\n",
    "\n",
    "index = columns['y_columns'].index('shop_count')\n",
    "train_spcnt = Y_train[:, [index]].astype(np.float64)\n",
    "test_spcnt = Y_test[:, [index]].astype(np.float64)"
   ]
  },
  {
   "cell_type": "code",
   "execution_count": 11,
   "metadata": {},
   "outputs": [
    {
     "name": "stdout",
     "output_type": "stream",
     "text": [
      "6 6 (1033871, 1) (100000, 1)\n"
     ]
    }
   ],
   "source": [
    "#classfication\n",
    "bounds = [0]\n",
    "lable_trans = np.vectorize(lambda x: sum([x > bound for bound in bounds]))\n",
    "\n",
    "train_label_0 = lable_trans(train_objsum)\n",
    "test_label_0 = lable_trans(test_objsum)\n",
    "\n",
    "bounds = [0, 1e4, 5e4, 1e5, 3e5]\n",
    "lable_trans = np.vectorize(lambda x: sum([x > bound for bound in bounds]))\n",
    "train_label_mul = lable_trans(train_objsum)\n",
    "test_label_mul = lable_trans(test_objsum)\n",
    "\n",
    "print(np.unique(train_label_mul).shape[0], np.unique(test_label_mul).shape[0], train_label_mul.shape, test_label_mul.shape)"
   ]
  },
  {
   "cell_type": "code",
   "execution_count": 12,
   "metadata": {},
   "outputs": [],
   "source": [
    "# log transform\n",
    "train_objsum = np.log1p(train_objsum)\n",
    "test_objsum = np.log1p(test_objsum)\n",
    "\n",
    "#train_objmean = np.log1p(train_objmean)\n",
    "#test_objmean = np.log1p(test_objmean)\n",
    "\n",
    "train_tscnt = np.log1p(train_tscnt)\n",
    "test_tscnt = np.log1p(test_tscnt)\n",
    "\n",
    "train_spcnt = np.log1p(train_spcnt)\n",
    "test_spcnt = np.log1p(test_spcnt)"
   ]
  },
  {
   "cell_type": "code",
   "execution_count": 13,
   "metadata": {},
   "outputs": [
    {
     "data": {
      "image/png": "[encoded data removed]",
      "text/plain": [
       "<Figure size 288x288 with 1 Axes>"
      ]
     },
     "metadata": {},
     "output_type": "display_data"
    },
    {
     "data": {
      "image/png": "[encoded data removed]",
      "text/plain": [
       "<Figure size 288x288 with 1 Axes>"
      ]
     },
     "metadata": {},
     "output_type": "display_data"
    }
   ],
   "source": [
    "train_label_num = [np.sum(train_label_0 == label) for label in sorted(np.unique(train_label_0))]\n",
    "test_label_num = [np.sum(test_label_0 == label) for label in sorted(np.unique(train_label_0))]\n",
    "\n",
    "with sns.axes_style(\"darkgrid\"):\n",
    "    plt.figure(figsize=(4, 4))\n",
    "    sns.barplot(x=[0, 1], y=train_label_num)\n",
    "    plt.xticks(range(len(train_label_num)))\n",
    "    plt.show()\n",
    "    \n",
    "with sns.axes_style(\"darkgrid\"):\n",
    "    plt.figure(figsize=(4, 4))\n",
    "    sns.barplot(x=[0, 1], y=test_label_num)\n",
    "    plt.xticks(range(len(test_label_num)))\n",
    "    plt.show()"
   ]
  },
  {
   "cell_type": "code",
   "execution_count": 14,
   "metadata": {},
   "outputs": [
    {
     "data": {
      "image/png": "[encoded data removed]",
      "text/plain": [
       "<Figure size 288x288 with 1 Axes>"
      ]
     },
     "metadata": {},
     "output_type": "display_data"
    },
    {
     "data": {
      "image/png": "[encoded data removed]",
      "text/plain": [
       "<Figure size 288x288 with 1 Axes>"
      ]
     },
     "metadata": {},
     "output_type": "display_data"
    }
   ],
   "source": [
    "train_label_num = [np.sum(train_label_mul == label) for label in sorted(np.unique(train_label_mul))]\n",
    "test_label_num = [np.sum(test_label_mul == label) for label in sorted(np.unique(train_label_mul))]\n",
    "\n",
    "with sns.axes_style(\"darkgrid\"):\n",
    "    plt.figure(figsize=(4, 4))\n",
    "    sns.barplot(x=sorted(np.unique(train_label_mul)), y=train_label_num)\n",
    "    plt.xticks(range(len(train_label_num)))\n",
    "    plt.show()\n",
    "    \n",
    "with sns.axes_style(\"darkgrid\"):\n",
    "    plt.figure(figsize=(4, 4))\n",
    "    sns.barplot(x=sorted(np.unique(train_label_mul)), y=test_label_num)\n",
    "    plt.xticks(range(len(test_label_num)))\n",
    "    plt.show()"
   ]
  },
  {
   "cell_type": "code",
   "execution_count": 15,
   "metadata": {},
   "outputs": [
    {
     "name": "stdout",
     "output_type": "stream",
     "text": [
      "['chid', 'bnsfg', 'iterm', 'mcc', 'scity'] [('bnsfg', 2), ('iterm', 15), ('mcc', 507), ('scity', 11074)]\n"
     ]
    }
   ],
   "source": [
    "sparse_feat = category_cols[:5]#+['stonc_tag', 'stonc_6_label']\n",
    "dense_feat = numeric_cols\n",
    "\n",
    "keys = list(feat_mapper.keys())\n",
    "for key in keys:\n",
    "    if key not in sparse_feat:\n",
    "        del feat_mapper[key]\n",
    "\n",
    "print(sparse_feat, [(k, len(v)) for k, v in feat_mapper.items()])"
   ]
  },
  {
   "cell_type": "code",
   "execution_count": 16,
   "metadata": {},
   "outputs": [
    {
     "data": {
      "text/plain": [
       "(4, [(50001, 64), (3, 16), (16, 16), (508, 16), (11075, 16)], [0, 1, 2, 3, 4])"
      ]
     },
     "execution_count": 16,
     "metadata": {},
     "output_type": "execute_result"
    }
   ],
   "source": [
    "USE_CHID = True\n",
    "idx_start = 1-int(USE_CHID)\n",
    "sparse_index = [category_cols.index(feat) for feat in sparse_feat][idx_start:]\n",
    "\n",
    "chid_embed_dim = 64\n",
    "feat_embed_dim = 16\n",
    "\n",
    "dense_dims = len(dense_feat) # number of dense feature\n",
    "feat_dims = np.array([len(chid_mapper)] + [len(v) for v in feat_mapper.values()])+1 # 0 is padding index, so add 1 dims\n",
    "embed_dims = [chid_embed_dim]+[feat_embed_dim]*len(feat_mapper) # dims of chid and other sparse feature\n",
    "\n",
    "sparse_dims = [(fd, ed) for fd, ed in zip(feat_dims[idx_start:], embed_dims[idx_start:])]\n",
    "\n",
    "dense_dims, sparse_dims, sparse_index"
   ]
  },
  {
   "cell_type": "code",
   "execution_count": 17,
   "metadata": {},
   "outputs": [],
   "source": [
    "# x_data\n",
    "w_size = x_train.shape[1]\n",
    "\n",
    "x_scaler = MinMaxScaler(feature_range=(0, 1))\n",
    "\n",
    "x_train_dense = x_train[:, -w_size:, len(category_cols):].astype(np.float64) # split dense feature\n",
    "x_train_sparse = x_train[:, -w_size:, sparse_index].astype(np.int64) # split sparse feature\n",
    "\n",
    "x_train_dense = np.log1p(x_train_dense - x_train_dense.min(axis=0))\n",
    "x_train_dense = x_scaler.fit_transform(x_train_dense.reshape(-1, x_train_dense.shape[-1])).reshape(x_train_dense.shape)\n",
    "\n",
    "x_test_dense = x_test[:, -w_size:, len(category_cols):].astype(np.float64)\n",
    "x_test_sparse = x_test[:, -w_size:, sparse_index].astype(np.int64) \n",
    "\n",
    "x_test_dense = np.log1p(x_test_dense - x_test_dense.min(axis=0))\n",
    "x_test_dense = x_scaler.transform(x_test_dense.reshape(-1, x_test_dense.shape[-1])).reshape(x_test_dense.shape)"
   ]
  },
  {
   "cell_type": "code",
   "execution_count": 18,
   "metadata": {},
   "outputs": [
    {
     "name": "stdout",
     "output_type": "stream",
     "text": [
      "(1033871, 120, 4) (1033871, 120, 5)\n",
      "(100000, 120, 4) (100000, 120, 5)\n"
     ]
    }
   ],
   "source": [
    "print(x_train_dense.shape, x_train_sparse.shape)\n",
    "print(x_test_dense.shape, x_test_sparse.shape)"
   ]
  },
  {
   "cell_type": "code",
   "execution_count": 19,
   "metadata": {},
   "outputs": [],
   "source": [
    "# train_objsum\n",
    "# test_objsum\n",
    "\n",
    "# train_tscnt\n",
    "# test_tscnt\n",
    "\n",
    "# train_spcnt\n",
    "# test_spcnt\n",
    "\n",
    "# train_label_0\n",
    "# test_label_0\n",
    "\n",
    "# train_label_mul\n",
    "# test_label_mul"
   ]
  },
  {
   "cell_type": "code",
   "execution_count": 20,
   "metadata": {},
   "outputs": [],
   "source": [
    "batch_size = 2048\n",
    "\n",
    "train_dataset = TensorDataset(torch.FloatTensor(x_train_dense), torch.LongTensor(x_train_sparse), \n",
    "                              torch.FloatTensor(train_tscnt), torch.FloatTensor(train_spcnt), \n",
    "                              torch.LongTensor(train_label_0.flatten()), torch.LongTensor(train_label_mul.flatten()))\n",
    "\n",
    "train_loader = DataLoader(dataset=train_dataset, shuffle=True, batch_size=batch_size, num_workers=8)\n",
    "\n",
    "test_dataset = TensorDataset(torch.FloatTensor(x_test_dense), torch.LongTensor(x_test_sparse), \n",
    "                             torch.FloatTensor(test_tscnt), torch.FloatTensor(test_spcnt), \n",
    "                             torch.LongTensor(test_label_0.flatten()), torch.LongTensor(test_label_mul.flatten()))\n",
    "\n",
    "test_loader = DataLoader(dataset=test_dataset, shuffle=False, batch_size=batch_size, num_workers=8)"
   ]
  },
  {
   "cell_type": "code",
   "execution_count": 21,
   "metadata": {
    "scrolled": false
   },
   "outputs": [
    {
     "name": "stdout",
     "output_type": "stream",
     "text": [
      "cuda:1\n"
     ]
    },
    {
     "data": {
      "text/plain": [
       "MultiTaskModel(\n",
       "  (rnn): ET_Rnn(\n",
       "    (embedding_list): ModuleList(\n",
       "      (0): Embedding(50001, 64, padding_idx=0)\n",
       "      (1): Embedding(3, 16, padding_idx=0)\n",
       "      (2): Embedding(16, 16, padding_idx=0)\n",
       "      (3): Embedding(508, 16, padding_idx=0)\n",
       "      (4): Embedding(11075, 16, padding_idx=0)\n",
       "    )\n",
       "    (user_layer): Linear(in_features=64, out_features=64, bias=True)\n",
       "    (rnn): GRU(68, 64, num_layers=2, batch_first=True, dropout=0.1)\n",
       "  )\n",
       "  (mlps): ModuleList(\n",
       "    (0): MLP(\n",
       "      (layers): Sequential(\n",
       "        (0): Sequential(\n",
       "          (0): Linear(in_features=128, out_features=64, bias=True)\n",
       "          (1): ReLU()\n",
       "        )\n",
       "      )\n",
       "      (out_layer): Linear(in_features=64, out_features=1, bias=True)\n",
       "    )\n",
       "    (1): MLP(\n",
       "      (layers): Sequential(\n",
       "        (0): Sequential(\n",
       "          (0): Linear(in_features=128, out_features=64, bias=True)\n",
       "          (1): ReLU()\n",
       "        )\n",
       "      )\n",
       "      (out_layer): Linear(in_features=64, out_features=1, bias=True)\n",
       "    )\n",
       "    (2): MLP(\n",
       "      (layers): Sequential(\n",
       "        (0): Sequential(\n",
       "          (0): Linear(in_features=128, out_features=64, bias=True)\n",
       "          (1): ReLU()\n",
       "        )\n",
       "      )\n",
       "      (out_layer): Linear(in_features=64, out_features=2, bias=True)\n",
       "    )\n",
       "    (3): MLP(\n",
       "      (layers): Sequential(\n",
       "        (0): Sequential(\n",
       "          (0): Linear(in_features=128, out_features=64, bias=True)\n",
       "          (1): ReLU()\n",
       "        )\n",
       "      )\n",
       "      (out_layer): Linear(in_features=64, out_features=6, bias=True)\n",
       "    )\n",
       "  )\n",
       ")"
      ]
     },
     "execution_count": 21,
     "metadata": {},
     "output_type": "execute_result"
    }
   ],
   "source": [
    "device = torch.device('cuda:1' if torch.cuda.is_available() else 'cpu')\n",
    "out_dims = [1, 1, 2, 6]\n",
    "\n",
    "model = MultiTaskModel(dense_dims, sparse_dims, hidden_dims=64, out_dims=out_dims, n_layers=2, \n",
    "                       use_chid=USE_CHID, cell='GRU', bi=False, dropout=0.1, device=device)\n",
    "optimizer = torch.optim.AdamW(model.parameters(), lr=2e-3)\n",
    "\n",
    "print(device)\n",
    "model"
   ]
  },
  {
   "cell_type": "code",
   "execution_count": 22,
   "metadata": {
    "scrolled": false
   },
   "outputs": [
    {
     "data": {
      "application/vnd.jupyter.widget-view+json": {
       "model_id": "5ec1404a4b784e278f8e4b64254181f9",
       "version_major": 2,
       "version_minor": 0
      },
      "text/plain": [
       "HBox(children=(HTML(value=''), FloatProgress(value=0.0), HTML(value='')))"
      ]
     },
     "metadata": {},
     "output_type": "display_data"
    },
    {
     "name": "stdout",
     "output_type": "stream",
     "text": [
      "Epoch:1\n",
      "\ttest\ttotal_loss:2.078 tscnt:14.783 spcnt:2.425 label_0:0.848 label_mul:0.520\n",
      "Epoch:6\n",
      "\ttest\ttotal_loss:1.985 tscnt:13.450 spcnt:2.358 label_0:0.854 label_mul:0.545\n",
      "Epoch:11\n",
      "\ttest\ttotal_loss:2.007 tscnt:11.384 spcnt:2.301 label_0:0.854 label_mul:0.545\n",
      "Epoch:16\n",
      "\ttest\ttotal_loss:2.033 tscnt:10.623 spcnt:2.277 label_0:0.854 label_mul:0.545\n",
      "Epoch:21\n",
      "\ttest\ttotal_loss:2.065 tscnt:10.618 spcnt:2.358 label_0:0.854 label_mul:0.546\n",
      "Epoch:26\n",
      "\ttest\ttotal_loss:2.098 tscnt:11.409 spcnt:2.296 label_0:0.855 label_mul:0.543\n",
      "\n",
      "cost: 3531.41\n"
     ]
    }
   ],
   "source": [
    "t0 = time()\n",
    "trainer = Trainer(model, optimizer, device)\n",
    "history = trainer.fit(train_loader, test_loader, epoch=100, early_stop=20)\n",
    "t1 = time()\n",
    "\n",
    "print('cost: {:.2f}'.format(t1 - t0))"
   ]
  },
  {
   "cell_type": "code",
   "execution_count": 23,
   "metadata": {},
   "outputs": [
    {
     "data": {
      "image/png": "[encoded data removed]",
      "text/plain": [
       "<Figure size 576x288 with 1 Axes>"
      ]
     },
     "metadata": {},
     "output_type": "display_data"
    },
    {
     "data": {
      "image/png": "[encoded data removed]",
      "text/plain": [
       "<Figure size 576x288 with 1 Axes>"
      ]
     },
     "metadata": {},
     "output_type": "display_data"
    },
    {
     "data": {
      "image/png": "[encoded data removed]",
      "text/plain": [
       "<Figure size 576x288 with 1 Axes>"
      ]
     },
     "metadata": {},
     "output_type": "display_data"
    },
    {
     "data": {
      "image/png": "[encoded data removed]",
      "text/plain": [
       "<Figure size 576x288 with 1 Axes>"
      ]
     },
     "metadata": {},
     "output_type": "display_data"
    }
   ],
   "source": [
    "df_history = pd.DataFrame(history['test'])\n",
    "\n",
    "# objsum, tscnt, spcnt, label_0, label_mul\n",
    "cols = ['tscnt', 'spcnt', 'label_0', 'label_mul']\n",
    "\n",
    "for show in cols:\n",
    "    with sns.axes_style(\"darkgrid\"):\n",
    "        plt.figure(figsize=(8, 4))\n",
    "        sns.lineplot(data=pd.DataFrame(df_history[show]))\n",
    "        plt.show()"
   ]
  },
  {
   "cell_type": "code",
   "execution_count": 24,
   "metadata": {
    "scrolled": true
   },
   "outputs": [
    {
     "name": "stdout",
     "output_type": "stream",
     "text": [
      "train\ttotal_loss:2.0653 tscnt:5.7136 spcnt:2.0270 label_0:0.8316 label_mul:0.5412\n",
      "test\ttotal_loss:1.9849 tscnt:13.4501 spcnt:2.3576 label_0:0.8538 label_mul:0.5447\n"
     ]
    }
   ],
   "source": [
    "train_result, train_true_list, train_pred_list = trainer.evaluate(train_loader)\n",
    "test_result, test_true_list, test_pred_list = trainer.evaluate(test_loader)\n",
    "\n",
    "print('train\\t'+' '.join(['{}:{:.4f}'.format(k, v) for k, v in train_result.items()]))\n",
    "print('test\\t'+' '.join(['{}:{:.4f}'.format(k, v) for k, v in test_result.items()]))"
   ]
  },
  {
   "cell_type": "code",
   "execution_count": 27,
   "metadata": {},
   "outputs": [
    {
     "data": {
      "image/png": "[encoded data removed]",
      "text/plain": [
       "<Figure size 432x432 with 2 Axes>"
      ]
     },
     "metadata": {},
     "output_type": "display_data"
    },
    {
     "name": "stdout",
     "output_type": "stream",
     "text": [
      "-1 {'AccuracyScore': 0.5447, 'RecallScore': 0.4334, 'PrecisionScore': 0.4962, 'F1Score': 0.445}\n"
     ]
    },
    {
     "data": {
      "image/png": "[encoded data removed]",
      "text/plain": [
       "<Figure size 432x432 with 2 Axes>"
      ]
     },
     "metadata": {},
     "output_type": "display_data"
    },
    {
     "name": "stdout",
     "output_type": "stream",
     "text": [
      "-2 {'AccuracyScore': 0.8538, 'RecallScore': 0.8187, 'PrecisionScore': 0.8269, 'F1Score': 0.8226}\n"
     ]
    }
   ],
   "source": [
    "label_num = 2\n",
    "\n",
    "for i in range(1, label_num+1):\n",
    "    cf_matrix = confusion_matrix(test_true_list[-i].reshape(-1, 1), test_pred_list[-i].reshape(-1, 1), normalize='true')\n",
    "    \n",
    "    with sns.axes_style(\"darkgrid\"):\n",
    "        plt.figure(figsize=(6, 6))\n",
    "        ax = sns.heatmap(cf_matrix, linewidths=.01, annot=True)\n",
    "        ax.set_xlabel('Predict', fontsize=16)\n",
    "        ax.set_ylabel('True', fontsize=16)\n",
    "        plt.show()    \n",
    "\n",
    "        scores = {\n",
    "            'AccuracyScore': round(accuracy_score(test_true_list[-i], test_pred_list[-i]), 4), \n",
    "            'RecallScore': round(recall_score(test_true_list[-i], test_pred_list[-i], average='macro'), 4),\n",
    "            'PrecisionScore': round(precision_score(test_true_list[-i], test_pred_list[-i], average='macro'), 4),\n",
    "            'F1Score': round(f1_score(test_true_list[-i], test_pred_list[-i], average='macro'), 4),\n",
    "        }        \n",
    "        \n",
    "        print(-i, scores)"
   ]
  },
  {
   "cell_type": "code",
   "execution_count": 28,
   "metadata": {},
   "outputs": [],
   "source": [
    "torch.save({\n",
    "    'dense_dims': dense_dims,\n",
    "    'sparse_dims': sparse_dims,\n",
    "    'hidden_dims': 64,\n",
    "    'n_layers': 2,\n",
    "    'use_chid': True,\n",
    "    'cell': 'GRU',\n",
    "    'bi': False,\n",
    "    'dropout': 0.1,\n",
    "    'model_state_dict': model.rnn.cpu().state_dict()\n",
    "}, './models/rnn_w_objsum.pt')"
   ]
  },
  {
   "cell_type": "code",
   "execution_count": 29,
   "metadata": {},
   "outputs": [
    {
     "data": {
      "text/plain": [
       "{'dense_dims': 4,\n",
       " 'sparse_dims': [(50001, 64), (3, 16), (16, 16), (508, 16), (11075, 16)],\n",
       " 'hidden_dims': 64,\n",
       " 'n_layers': 2,\n",
       " 'use_chid': True,\n",
       " 'cell': 'GRU',\n",
       " 'bi': False,\n",
       " 'dropout': 0.1,\n",
       " 'model_state_dict': OrderedDict([('embedding_list.0.weight',\n",
       "               tensor([[ 0.0000,  0.0000,  0.0000,  ...,  0.0000,  0.0000,  0.0000],\n",
       "                       [-2.0162, -1.1273,  0.9933,  ..., -1.3326, -0.3824, -1.0798],\n",
       "                       [ 0.0523,  1.0497, -0.3012,  ..., -0.6397,  0.3373,  0.1685],\n",
       "                       ...,\n",
       "                       [-0.7369,  0.1669, -0.4687,  ..., -0.0427,  0.5757, -1.4821],\n",
       "                       [ 0.8430, -2.1640,  0.9305,  ...,  0.2490,  1.2202,  1.0057],\n",
       "                       [ 0.9849,  0.8565,  0.6456,  ..., -0.5133, -2.9955,  0.3700]])),\n",
       "              ('embedding_list.1.weight',\n",
       "               tensor([[ 0.0000e+00,  0.0000e+00,  0.0000e+00,  0.0000e+00,  0.0000e+00,\n",
       "                         0.0000e+00,  0.0000e+00,  0.0000e+00,  0.0000e+00,  0.0000e+00,\n",
       "                         0.0000e+00,  0.0000e+00,  0.0000e+00,  0.0000e+00,  0.0000e+00,\n",
       "                         0.0000e+00],\n",
       "                       [-9.5935e-01,  9.2508e-01,  1.2045e+00,  6.2824e-01, -1.0623e+00,\n",
       "                         1.0600e+00, -1.2583e+00,  6.9095e-01,  4.1410e-04,  1.4098e-01,\n",
       "                         3.7738e-01, -5.1643e-01, -1.1316e+00, -1.7845e+00,  4.8342e-01,\n",
       "                        -9.1340e-01],\n",
       "                       [-1.3674e+00,  4.7234e-01, -1.0262e+00, -9.6180e-01,  4.3471e-02,\n",
       "                        -1.0171e-01, -3.7170e-01,  3.2757e-02,  3.5106e-01, -8.2874e-01,\n",
       "                         1.3214e+00, -6.6915e-01,  4.2443e-01, -1.7165e-01, -7.9210e-01,\n",
       "                        -8.2748e-06]])),\n",
       "              ('embedding_list.2.weight',\n",
       "               tensor([[ 0.0000e+00,  0.0000e+00,  0.0000e+00,  0.0000e+00,  0.0000e+00,\n",
       "                         0.0000e+00,  0.0000e+00,  0.0000e+00,  0.0000e+00,  0.0000e+00,\n",
       "                         0.0000e+00,  0.0000e+00,  0.0000e+00,  0.0000e+00,  0.0000e+00,\n",
       "                         0.0000e+00],\n",
       "                       [-2.8683e+00,  9.3669e-03,  4.7777e-02,  4.5744e-03,  2.0863e-01,\n",
       "                         1.3430e+00, -7.3653e-01,  3.4805e+00, -1.0674e+00,  2.3464e-01,\n",
       "                         4.1090e-01, -8.0252e-01,  1.1230e+00, -4.1780e-01, -1.1563e+00,\n",
       "                         5.1788e-01],\n",
       "                       [ 1.0421e-01, -4.3246e-01, -3.9053e-01,  5.9021e-01, -2.5379e-01,\n",
       "                         4.1808e-01,  2.0914e-02, -1.1755e-01, -9.0282e-01, -2.3820e+00,\n",
       "                         7.9077e-01, -8.3988e-01, -9.8009e-01,  2.0368e-01, -1.0035e+00,\n",
       "                        -2.5958e-01],\n",
       "                       [-1.4507e-01, -1.4944e-01,  3.3676e-01, -9.3332e-02, -5.8664e-01,\n",
       "                        -2.8155e-01, -5.8621e-01, -9.7085e-01, -1.6354e+00, -5.6118e-01,\n",
       "                        -2.3826e-01,  7.2823e-04, -1.2842e+00,  9.6409e-01,  8.0690e-01,\n",
       "                        -1.2088e+00],\n",
       "                       [-9.4108e-01, -5.1240e-01, -1.9778e-01,  4.4869e-02, -1.9966e+00,\n",
       "                        -3.7636e-02,  9.4320e-01, -2.5598e+00, -9.7607e-01, -9.8238e-02,\n",
       "                         1.5644e-01, -2.3373e-01, -7.0713e-01,  2.9296e-01, -1.1276e+00,\n",
       "                         1.2361e+00],\n",
       "                       [-1.1549e+00, -7.0630e-01, -7.3223e-01,  1.5906e+00, -4.5841e-01,\n",
       "                        -1.1841e-01, -8.1275e-01, -2.0657e+00, -8.0870e-01, -3.9322e-03,\n",
       "                         1.2915e+00,  3.2645e-01,  2.7125e+00,  4.2854e-01, -7.3449e-01,\n",
       "                         1.4757e-01],\n",
       "                       [ 2.9753e-01, -6.7596e-01,  1.4599e-01,  1.1635e+00,  6.2843e-01,\n",
       "                         3.3792e-02, -1.3314e-01,  1.0569e+00,  4.6677e-01,  3.4897e-01,\n",
       "                         6.2100e-01,  1.5425e-01, -1.3426e+00,  1.4529e-01,  1.6403e+00,\n",
       "                         8.3699e-01],\n",
       "                       [ 1.2413e+00, -1.2421e+00, -3.4610e-01,  4.0540e-01, -8.4657e-01,\n",
       "                         6.3518e-01, -7.9239e-01, -3.2076e-01,  1.4719e-01,  2.1293e-01,\n",
       "                        -1.7884e-01,  2.6365e-02, -1.0501e+00, -5.4456e-01, -4.7500e-02,\n",
       "                         1.5324e-01],\n",
       "                       [-3.8759e-01, -7.9278e-01,  9.6859e-01, -1.3057e+00,  6.0497e-01,\n",
       "                        -5.3003e-01, -1.3716e+00,  1.0478e+00,  7.3042e-03,  1.7864e-01,\n",
       "                        -3.9865e-01,  9.0476e-01, -2.1583e-01,  3.3604e-01,  1.2072e-01,\n",
       "                        -1.5059e-01],\n",
       "                       [-6.7671e-01, -8.1985e-01,  9.7784e-01, -3.8284e-02, -3.8765e-01,\n",
       "                        -1.2810e+00,  2.2269e-01, -8.2341e-02, -2.3979e-01, -3.8255e-01,\n",
       "                        -1.0334e-01, -5.2577e-01, -8.2607e-01, -5.8463e-01,  2.2405e+00,\n",
       "                         7.8680e-01],\n",
       "                       [ 2.0203e-01, -8.7189e-01,  1.1566e+00,  1.6636e+00,  1.1804e+00,\n",
       "                        -3.0011e-01,  5.1455e-01, -5.6966e-02, -1.2001e+00, -7.1694e-01,\n",
       "                        -1.8626e+00,  7.0282e-02,  7.0374e-01,  1.5316e-01,  1.8614e-02,\n",
       "                        -8.0248e-01],\n",
       "                       [-6.4809e-01, -1.8152e+00, -9.9456e-01,  6.2307e-01, -7.8497e-02,\n",
       "                         3.0621e-01,  6.8361e-01, -3.0643e-01, -3.1814e-01,  7.3519e-01,\n",
       "                         1.0544e+00,  4.0286e-02,  9.9553e-01, -1.4749e+00, -1.1333e-01,\n",
       "                         1.1820e-01],\n",
       "                       [ 6.9848e-01, -4.3117e-01,  1.0235e+00,  4.5955e-01, -8.1595e-02,\n",
       "                         6.6963e-01, -9.2943e-02, -3.8333e-01, -9.3081e-01,  6.4658e-01,\n",
       "                        -1.0460e+00,  6.1218e-01,  1.2512e+00,  1.4110e+00,  1.2522e-01,\n",
       "                         8.0893e-02],\n",
       "                       [-1.9888e+00,  1.4170e+00,  2.4497e-01,  8.7941e-01,  7.1307e-01,\n",
       "                        -8.0628e-01,  4.9652e-01,  1.3181e+00,  1.6028e+00,  1.1381e+00,\n",
       "                         6.5975e-01, -1.2481e+00, -3.8591e-02,  2.0396e+00, -1.8949e+00,\n",
       "                        -2.0533e+00],\n",
       "                       [-7.6768e-01, -4.9605e-01,  8.5384e-01,  4.4892e-01, -1.8078e+00,\n",
       "                         8.5386e-03,  1.0525e+00, -3.9025e-01,  3.4318e-01,  5.4570e-01,\n",
       "                         3.9537e-01,  2.6431e-02, -1.3286e+00,  7.0665e-01,  5.2394e-01,\n",
       "                        -8.9311e-01],\n",
       "                       [ 1.4554e+00, -6.1608e-01,  2.9823e-01,  3.2402e-01, -1.5199e+00,\n",
       "                        -6.6933e-01,  1.4411e+00,  6.9966e-01,  3.5363e-01,  3.1928e-01,\n",
       "                         1.7293e-01,  5.0616e-01, -1.6971e+00, -4.6698e-01, -1.8064e+00,\n",
       "                         6.7322e-01]])),\n",
       "              ('embedding_list.3.weight',\n",
       "               tensor([[ 0.0000e+00,  0.0000e+00,  0.0000e+00,  ...,  0.0000e+00,\n",
       "                         0.0000e+00,  0.0000e+00],\n",
       "                       [ 5.0368e-01,  8.4685e-01,  5.9960e-01,  ...,  2.0658e+00,\n",
       "                        -3.2118e-01, -3.5346e-02],\n",
       "                       [-4.8809e-01,  9.4077e-02,  3.8337e-02,  ..., -3.0391e+00,\n",
       "                        -1.1690e+00, -7.1683e-01],\n",
       "                       ...,\n",
       "                       [-9.6819e-01,  1.1326e+00,  1.9607e+00,  ..., -1.3680e-03,\n",
       "                         5.6573e-01, -1.3129e+00],\n",
       "                       [ 7.8685e-01, -9.1307e-01, -3.1082e-02,  ...,  1.2604e-01,\n",
       "                         2.3193e-01,  8.6505e-01],\n",
       "                       [-8.5128e-01,  3.2135e+00,  3.6892e-03,  ..., -4.5759e-01,\n",
       "                         4.6113e-01, -4.5033e-01]])),\n",
       "              ('embedding_list.4.weight',\n",
       "               tensor([[ 0.0000,  0.0000,  0.0000,  ...,  0.0000,  0.0000,  0.0000],\n",
       "                       [-0.9660, -0.8913, -1.1941,  ...,  0.2364, -0.0856, -0.3571],\n",
       "                       [-0.4261,  1.9202, -0.3202,  ...,  1.3817,  0.2710,  0.0729],\n",
       "                       ...,\n",
       "                       [-0.9767, -1.2112, -0.7548,  ...,  0.9001,  0.1020, -0.2506],\n",
       "                       [-0.1919,  1.1505, -1.4880,  ...,  2.5034, -0.0476,  0.1611],\n",
       "                       [ 0.5317, -0.2081,  0.0764,  ..., -0.1971, -0.6651, -0.2441]])),\n",
       "              ('user_layer.weight',\n",
       "               tensor([[-0.0234,  0.0289,  0.1078,  ..., -0.0427,  0.1561, -0.0530],\n",
       "                       [ 0.0581,  0.1368,  0.1981,  ...,  0.0253,  0.0344,  0.1042],\n",
       "                       [ 0.0599, -0.0900,  0.1154,  ...,  0.0081, -0.0942, -0.0913],\n",
       "                       ...,\n",
       "                       [-0.0057, -0.0695, -0.0092,  ..., -0.0486, -0.0367, -0.0045],\n",
       "                       [-0.0641,  0.1426,  0.1033,  ..., -0.0516,  0.1026, -0.0941],\n",
       "                       [ 0.0410,  0.1224,  0.0445,  ...,  0.0194, -0.0316,  0.0161]])),\n",
       "              ('user_layer.bias',\n",
       "               tensor([ 0.0166, -0.0404, -0.0070,  0.0075, -0.0948, -0.0340,  0.0214,  0.0478,\n",
       "                       -0.0874,  0.0712,  0.0712,  0.0583,  0.0740,  0.0183, -0.0859, -0.1467,\n",
       "                        0.1182,  0.0940,  0.0059,  0.1054, -0.0484, -0.1388,  0.0264,  0.0956,\n",
       "                        0.1027, -0.0273,  0.0791, -0.0089, -0.0808,  0.1352,  0.0296,  0.1117,\n",
       "                       -0.0806,  0.0772,  0.1147, -0.1205, -0.0371,  0.0042,  0.0342, -0.0583,\n",
       "                        0.0053,  0.0327,  0.1052,  0.0417,  0.0600,  0.0139, -0.0172, -0.0131,\n",
       "                        0.0777, -0.0417, -0.0114,  0.0408, -0.0283, -0.0836,  0.0107, -0.0101,\n",
       "                       -0.0219, -0.0896, -0.0014, -0.0048, -0.0037, -0.1402, -0.0312, -0.0900])),\n",
       "              ('rnn.weight_ih_l0',\n",
       "               tensor([[ 0.0799,  0.0511,  0.4105,  ...,  0.0099,  0.0116, -0.0907],\n",
       "                       [-0.4391,  0.1647,  0.0552,  ..., -0.0443, -0.2135,  0.1475],\n",
       "                       [ 0.1537,  0.4393, -0.1563,  ...,  0.0414, -0.0946,  0.0259],\n",
       "                       ...,\n",
       "                       [-0.0772, -0.0337, -0.1201,  ..., -0.2109,  0.1835,  0.0466],\n",
       "                       [-0.1077, -0.0016,  0.0576,  ...,  0.1761, -0.0811, -0.1279],\n",
       "                       [ 0.1963, -0.0576, -0.3437,  ..., -0.0530,  0.0358,  0.0357]])),\n",
       "              ('rnn.weight_hh_l0',\n",
       "               tensor([[ 0.0174,  0.0826, -0.3136,  ...,  0.1238, -0.0062, -0.0988],\n",
       "                       [ 0.2449, -0.2599, -0.1392,  ..., -0.0743,  0.0766,  0.0630],\n",
       "                       [-0.0492,  0.1051, -0.0465,  ..., -0.0721,  0.0996,  0.0233],\n",
       "                       ...,\n",
       "                       [-0.0803, -0.1010,  0.0849,  ...,  0.0729,  0.0617,  0.1684],\n",
       "                       [-0.1569,  0.0659, -0.0460,  ...,  0.0120, -0.1244,  0.2207],\n",
       "                       [-0.0888,  0.0778, -0.0729,  ..., -0.0246, -0.1137, -0.0559]])),\n",
       "              ('rnn.bias_ih_l0',\n",
       "               tensor([-0.0785, -0.1042, -0.0387, -0.1062, -0.0491,  0.0529,  0.0213, -0.0275,\n",
       "                       -0.0677, -0.0054, -0.0511, -0.1057, -0.0249, -0.0302, -0.0927, -0.1108,\n",
       "                        0.0606, -0.0244, -0.0461, -0.0331, -0.0249, -0.1458,  0.1064, -0.1503,\n",
       "                       -0.0775, -0.0741, -0.0922, -0.1550,  0.0492,  0.0443,  0.0702,  0.0463,\n",
       "                       -0.0250,  0.1502, -0.0475, -0.1227, -0.1159, -0.0550, -0.0321, -0.0241,\n",
       "                       -0.1352, -0.0124, -0.1013,  0.0470, -0.0575,  0.0400,  0.0298, -0.0840,\n",
       "                       -0.0640,  0.0199, -0.0111, -0.0078, -0.0264,  0.1255,  0.0479, -0.0431,\n",
       "                        0.0379, -0.0239, -0.0179,  0.0038,  0.0147,  0.0189, -0.1901, -0.0038,\n",
       "                       -0.0421, -0.0554,  0.0374, -0.0034,  0.0457,  0.1758,  0.1644,  0.1433,\n",
       "                        0.0885,  0.1408, -0.0133,  0.1469, -0.0574, -0.0591, -0.0790, -0.0025,\n",
       "                       -0.1310,  0.1139,  0.0371, -0.1095, -0.0568, -0.0241,  0.1966, -0.0536,\n",
       "                        0.0989,  0.0030,  0.1220, -0.1634, -0.1212, -0.1023,  0.1292,  0.0722,\n",
       "                       -0.0115, -0.1750, -0.1115,  0.0451, -0.0791, -0.1252, -0.1664,  0.1281,\n",
       "                       -0.1007,  0.0025,  0.0618,  0.1430, -0.1024,  0.2313,  0.1168,  0.0198,\n",
       "                        0.1168, -0.0849, -0.0064, -0.1731, -0.0101, -0.0019,  0.0648, -0.0984,\n",
       "                       -0.1786, -0.0180,  0.1179,  0.0554, -0.0682,  0.0257,  0.1826,  0.0400,\n",
       "                       -0.0777,  0.0054, -0.0457,  0.0838,  0.1136, -0.1352,  0.0217,  0.0411,\n",
       "                        0.0088, -0.0758, -0.0529, -0.0514,  0.0600,  0.1116,  0.0218,  0.0645,\n",
       "                        0.0683,  0.0397, -0.1323, -0.0282, -0.0082, -0.0694,  0.0258,  0.0707,\n",
       "                        0.0638, -0.0744, -0.0077,  0.0591, -0.0680, -0.0088, -0.0766,  0.0603,\n",
       "                        0.0917,  0.1564,  0.0485, -0.0193,  0.0193,  0.0249, -0.0430, -0.0204,\n",
       "                       -0.0099, -0.0411,  0.1250,  0.0285, -0.0369,  0.0213,  0.0547,  0.0308,\n",
       "                        0.1104,  0.0483, -0.0891,  0.0597, -0.0729,  0.0146,  0.0642, -0.0364,\n",
       "                        0.0082, -0.0277,  0.0297,  0.0296, -0.1019, -0.1105, -0.0295,  0.0356])),\n",
       "              ('rnn.bias_hh_l0',\n",
       "               tensor([ 0.0599,  0.0547, -0.1212, -0.1399,  0.0658, -0.1212,  0.1211, -0.0226,\n",
       "                       -0.0781, -0.1521, -0.0490,  0.0078, -0.0799, -0.0510, -0.0521,  0.0371,\n",
       "                       -0.0199,  0.0247, -0.0680,  0.0123,  0.0966, -0.2093,  0.1279, -0.0568,\n",
       "                       -0.0089,  0.0210, -0.0823, -0.0632, -0.0184,  0.0253,  0.0702, -0.1062,\n",
       "                        0.0267,  0.2832, -0.0145, -0.2295, -0.0610,  0.0010, -0.0176, -0.0737,\n",
       "                       -0.1271, -0.0546, -0.0328,  0.0976, -0.0007, -0.0520, -0.1253,  0.0478,\n",
       "                        0.0018,  0.0032, -0.0203, -0.0281,  0.0160,  0.1005, -0.0335, -0.0047,\n",
       "                       -0.0667, -0.0605, -0.1439,  0.0005, -0.0806, -0.0411, -0.0113,  0.0776,\n",
       "                        0.1029, -0.0148, -0.0707, -0.0613,  0.1832,  0.0638,  0.1836,  0.1793,\n",
       "                        0.0095,  0.0556,  0.0479, -0.0315, -0.0715,  0.0886, -0.0387,  0.0777,\n",
       "                       -0.2663,  0.0962,  0.1327, -0.0991,  0.0541, -0.1435,  0.2140,  0.0079,\n",
       "                        0.0629,  0.1287,  0.0997,  0.0385,  0.0923, -0.1658,  0.1232,  0.0033,\n",
       "                        0.1091, -0.2022,  0.0609,  0.0655, -0.0893, -0.0307,  0.0302,  0.0838,\n",
       "                       -0.1681,  0.1535,  0.0620, -0.0339, -0.0707,  0.0986,  0.0854,  0.0641,\n",
       "                        0.1339, -0.0791, -0.0142, -0.0832, -0.1755,  0.2016,  0.1766,  0.0462,\n",
       "                       -0.1370, -0.0868, -0.0160, -0.0119,  0.1517, -0.0059,  0.1089, -0.0576,\n",
       "                        0.0165,  0.0544, -0.0614, -0.1603, -0.0756,  0.0547, -0.0821, -0.0408,\n",
       "                        0.0778,  0.0755,  0.1089, -0.0705, -0.0119, -0.0949, -0.0293, -0.0100,\n",
       "                        0.0791,  0.0714, -0.0960, -0.0787, -0.0797, -0.0677,  0.0172,  0.0577,\n",
       "                        0.0954, -0.0723, -0.0526,  0.0815,  0.0148,  0.0855,  0.1172, -0.0188,\n",
       "                        0.1260,  0.2736,  0.0185,  0.0333,  0.0131,  0.1678,  0.1016, -0.0599,\n",
       "                        0.0706, -0.0149, -0.0507, -0.0766,  0.1442, -0.0687,  0.0112, -0.1129,\n",
       "                        0.0070,  0.0936, -0.0499,  0.0260,  0.0550, -0.0843,  0.0434, -0.0995,\n",
       "                       -0.0557, -0.0075, -0.0644,  0.0271, -0.0230,  0.0147, -0.0542, -0.0405])),\n",
       "              ('rnn.weight_ih_l1',\n",
       "               tensor([[ 0.0358,  0.2189, -0.5515,  ...,  0.1818,  0.0934, -0.2273],\n",
       "                       [-0.1952,  0.1890, -0.5193,  ..., -0.0558,  0.0467,  0.2025],\n",
       "                       [-0.2899,  0.0257,  0.0492,  ...,  0.1218, -0.0127,  0.0262],\n",
       "                       ...,\n",
       "                       [ 0.0282, -0.1327,  0.2036,  ..., -0.0297, -0.0981, -0.1632],\n",
       "                       [-0.0204, -0.0980,  0.2240,  ...,  0.0468,  0.0500,  0.1029],\n",
       "                       [-0.0829, -0.1015, -0.1523,  ..., -0.0451, -0.0569, -0.1452]])),\n",
       "              ('rnn.weight_hh_l1',\n",
       "               tensor([[ 0.0492,  0.0429,  0.1695,  ...,  0.1264,  0.3115,  0.1961],\n",
       "                       [-0.0285,  0.0539,  0.0161,  ..., -0.0700, -0.3091, -0.3354],\n",
       "                       [-0.0528,  0.1620, -0.0635,  ..., -0.1552,  0.1282,  0.1148],\n",
       "                       ...,\n",
       "                       [-0.1067, -0.0315,  0.0769,  ...,  0.1030, -0.0289, -0.0254],\n",
       "                       [ 0.1251,  0.5102,  0.2430,  ...,  0.0491,  0.2463, -0.0163],\n",
       "                       [ 0.1265, -0.0724, -0.0532,  ..., -0.0914,  0.2112,  0.1127]])),\n",
       "              ('rnn.bias_ih_l1',\n",
       "               tensor([-4.1578e-02,  7.9470e-02, -7.5636e-02,  1.1162e-01, -2.0945e-01,\n",
       "                       -1.1509e-01, -1.4092e-01,  6.6236e-02,  2.5178e-02, -1.9981e-01,\n",
       "                        1.2825e-01, -8.4126e-02,  4.7114e-02, -2.9014e-02, -1.0895e-02,\n",
       "                       -3.3046e-02,  3.4209e-02,  5.0631e-04, -1.6142e-02, -2.3577e-02,\n",
       "                       -1.4081e-01,  1.1478e-01,  1.2517e-01, -6.8973e-02, -6.5446e-02,\n",
       "                       -1.0145e-01,  4.7534e-02,  7.8378e-03,  7.8341e-02, -1.1300e-01,\n",
       "                        6.5955e-02,  1.7041e-02, -6.8632e-02, -6.6903e-02,  8.6277e-02,\n",
       "                        3.4559e-03, -1.0805e-01, -5.2015e-02, -4.1321e-03, -1.0683e-01,\n",
       "                       -1.4178e-01,  9.9804e-04, -1.0137e-01,  5.8108e-02, -1.5474e-01,\n",
       "                       -1.1751e-01,  1.0878e-02,  5.4868e-02,  3.3399e-04,  1.7217e-02,\n",
       "                       -3.6424e-02, -5.5034e-02, -3.0896e-02,  2.9975e-02, -9.9830e-02,\n",
       "                        1.3457e-01,  5.5779e-02,  3.6107e-03, -1.3340e-01,  6.0877e-03,\n",
       "                       -4.2503e-02,  4.6892e-02, -3.2593e-04,  1.2388e-02,  1.1380e-01,\n",
       "                       -1.4112e-01,  1.5139e-01,  7.6099e-02, -2.3721e-01, -1.0645e-01,\n",
       "                        1.4659e-01,  2.4546e-03,  4.1919e-02,  1.9645e-01, -1.2763e-02,\n",
       "                        7.4104e-02,  4.3900e-02, -1.4888e-01, -1.5173e-01, -5.9743e-02,\n",
       "                       -3.4786e-02, -4.0554e-04,  6.0407e-02,  1.2071e-01, -3.2670e-02,\n",
       "                       -3.6210e-01, -1.6910e-02,  1.9651e-01,  7.6979e-02, -1.9629e-01,\n",
       "                        5.8718e-03,  9.6122e-02, -5.1121e-01,  2.6906e-01,  2.8406e-02,\n",
       "                       -2.1492e-02,  7.5742e-02,  1.7359e-01, -9.9955e-02, -1.2372e-02,\n",
       "                        6.0282e-02,  7.7926e-02, -2.8520e-02,  1.1377e-01,  4.5966e-02,\n",
       "                        7.7705e-02, -2.0468e-01, -3.3836e-03, -1.1036e-01,  7.3220e-02,\n",
       "                        1.9436e-02,  1.9658e-01, -1.7645e-02,  1.7765e-01,  5.9219e-02,\n",
       "                       -2.3768e-02,  3.3135e-02, -3.3841e-02,  1.1033e-01,  2.6169e-02,\n",
       "                       -2.0132e-01,  7.2405e-02, -4.7357e-02,  5.0583e-05,  5.8400e-02,\n",
       "                        2.0400e-01, -2.5446e-01,  1.1090e-01,  3.3028e-02, -3.7522e-02,\n",
       "                       -2.3739e-02, -5.6150e-02, -8.2755e-03, -1.5528e-01, -1.2774e-01,\n",
       "                        1.4547e-02, -1.4495e-01, -1.4828e-01,  3.0400e-02,  2.1635e-02,\n",
       "                       -8.3085e-03,  9.0217e-02, -1.8578e-02,  1.0182e-01, -1.4252e-01,\n",
       "                       -2.9412e-02, -9.8436e-03,  7.3997e-02, -3.2624e-02,  1.7593e-01,\n",
       "                       -2.8937e-02,  9.2837e-02, -5.2193e-02,  6.0508e-02,  3.3070e-02,\n",
       "                       -4.6874e-02, -7.7296e-02, -6.7181e-02,  8.2081e-02,  1.4515e-01,\n",
       "                        1.4106e-01, -7.2476e-02, -3.6413e-02, -8.1819e-02, -1.4040e-01,\n",
       "                       -5.5035e-02,  1.0603e-02,  9.1816e-02, -3.4375e-02,  3.9873e-02,\n",
       "                       -3.2587e-02,  1.0017e-01, -1.2478e-01,  1.0922e-01,  1.1755e-01,\n",
       "                        1.1887e-01, -3.9364e-02, -4.6640e-02,  7.3164e-02,  9.6283e-02,\n",
       "                        1.5436e-01,  3.2788e-02,  1.0557e-01, -4.9846e-02, -6.1196e-02,\n",
       "                        8.6179e-02, -7.5440e-02,  9.6144e-02,  7.7566e-02,  9.2609e-02,\n",
       "                        2.9081e-02, -8.9344e-02])),\n",
       "              ('rnn.bias_hh_l1',\n",
       "               tensor([-0.1010,  0.1242, -0.1287, -0.0684, -0.0151,  0.0130, -0.0237,  0.1040,\n",
       "                        0.0251, -0.0662, -0.0555,  0.1066,  0.1651, -0.1252, -0.0476, -0.0096,\n",
       "                       -0.1039,  0.1028, -0.0794,  0.0300, -0.1101,  0.1021,  0.1173,  0.0463,\n",
       "                        0.0236,  0.0223, -0.1316,  0.0144,  0.1180, -0.0230,  0.0908,  0.0016,\n",
       "                       -0.0857,  0.0501,  0.1385,  0.0593, -0.0213,  0.0114,  0.1163, -0.1258,\n",
       "                       -0.2237, -0.0297, -0.1597,  0.0386, -0.0980, -0.1407,  0.0081, -0.0557,\n",
       "                       -0.1388, -0.0981, -0.0474,  0.0587, -0.0692, -0.0149, -0.1375, -0.0394,\n",
       "                        0.0167,  0.1102, -0.1256, -0.1200,  0.0266,  0.0687,  0.0020, -0.0121,\n",
       "                        0.0389, -0.2145,  0.0853,  0.1356, -0.0607, -0.0769,  0.2002,  0.0755,\n",
       "                        0.1600,  0.1975,  0.0357,  0.1855,  0.0697, -0.1006,  0.0285, -0.2325,\n",
       "                       -0.0602,  0.1086,  0.0151, -0.0398,  0.0433, -0.2661, -0.0076,  0.0504,\n",
       "                        0.0489,  0.0095,  0.1523,  0.1544, -0.2984,  0.1435,  0.1498, -0.0993,\n",
       "                        0.0910, -0.0183, -0.1292,  0.1998, -0.0284,  0.1409,  0.0619,  0.0096,\n",
       "                        0.0464, -0.0512, -0.0931,  0.0872,  0.0072,  0.0664,  0.0524,  0.1376,\n",
       "                        0.0355,  0.0311,  0.0617,  0.1328,  0.1185,  0.0392,  0.0738,  0.2276,\n",
       "                       -0.0778,  0.1312,  0.0401,  0.0921,  0.0990,  0.0738, -0.1915,  0.1867,\n",
       "                       -0.0538,  0.0486, -0.0894, -0.1298, -0.0280, -0.1091,  0.0256,  0.0178,\n",
       "                       -0.1187, -0.0549, -0.0193,  0.0685,  0.0307, -0.0100,  0.1709,  0.0135,\n",
       "                       -0.1094,  0.1349, -0.0393,  0.0691, -0.0023,  0.1202,  0.1435, -0.0191,\n",
       "                       -0.0888,  0.0209, -0.0672, -0.1052, -0.0457, -0.0907, -0.0178, -0.0239,\n",
       "                        0.0289, -0.0016,  0.1272, -0.1261, -0.1387,  0.0973,  0.1162, -0.0095,\n",
       "                        0.0258,  0.0886, -0.0087,  0.0214,  0.0021, -0.0319,  0.0232, -0.0141,\n",
       "                       -0.0144, -0.1219, -0.0248, -0.0056,  0.0099,  0.0043, -0.0339,  0.0162,\n",
       "                       -0.0703,  0.1301, -0.0533,  0.0826, -0.0864,  0.1039, -0.1782, -0.0974]))])}"
      ]
     },
     "execution_count": 29,
     "metadata": {},
     "output_type": "execute_result"
    }
   ],
   "source": [
    "checkpoint = torch.load('./models/rnn_w_objsum.pt')\n",
    "checkpoint"
   ]
  },
  {
   "cell_type": "code",
   "execution_count": null,
   "metadata": {},
   "outputs": [],
   "source": []
  }
 ],
 "metadata": {
  "kernelspec": {
   "display_name": "Python 3",
   "language": "python",
   "name": "python3"
  },
  "language_info": {
   "codemirror_mode": {
    "name": "ipython",
    "version": 3
   },
   "file_extension": ".py",
   "mimetype": "text/x-python",
   "name": "python",
   "nbconvert_exporter": "python",
   "pygments_lexer": "ipython3",
   "version": "3.6.9"
  }
 },
 "nbformat": 4,
 "nbformat_minor": 5
}
