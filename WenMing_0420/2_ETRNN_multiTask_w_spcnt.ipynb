{
 "cells": [
  {
   "cell_type": "code",
   "execution_count": 1,
   "metadata": {},
   "outputs": [],
   "source": [
    "import os\n",
    "import numpy as np\n",
    "import pandas as pd\n",
    "from time import time\n",
    "from tqdm.notebook import tqdm\n",
    "from sklearn.preprocessing import MinMaxScaler\n",
    "\n",
    "%matplotlib inline\n",
    "import matplotlib.pyplot as plt\n",
    "import seaborn as sns"
   ]
  },
  {
   "cell_type": "code",
   "execution_count": 2,
   "metadata": {},
   "outputs": [],
   "source": [
    "import copy\n",
    "import torch\n",
    "from torch import nn\n",
    "from torch.utils.data import DataLoader, TensorDataset\n",
    "from sklearn.metrics import mean_squared_error, mean_absolute_error, median_absolute_error\n",
    "from sklearn.metrics import confusion_matrix, accuracy_score, recall_score, precision_score, f1_score"
   ]
  },
  {
   "cell_type": "code",
   "execution_count": 3,
   "metadata": {},
   "outputs": [],
   "source": [
    "import torch\n",
    "from torch import nn\n",
    "from torch.autograd import Variable\n",
    "\n",
    "class ET_Rnn(torch.nn.Module):\n",
    "    def __init__(self, dense_dims, sparse_dims, hidden_dims, n_layers=1, use_chid=True, cell='GRU', bi=False, dropout=0, device='cpu'):\n",
    "        super(ET_Rnn, self).__init__()\n",
    "        self.hidden_dims = hidden_dims\n",
    "        self.n_layers = n_layers\n",
    "        self.cell = cell\n",
    "        self.use_chid = use_chid\n",
    "        self.device = device\n",
    "        self.bi = bi\n",
    "        \n",
    "        self.embedding_list = nn.ModuleList([nn.Embedding(fd, ed, padding_idx=0) for fd, ed in sparse_dims])\n",
    "        \n",
    "        if use_chid: \n",
    "            rnn_in_dim = dense_dims + sum([ed for fd, ed in sparse_dims[1:]])   \n",
    "            self.out_dim = hidden_dims*(bi+1) + sparse_dims[0][1] # chid embed dim\n",
    "            self.user_layer = nn.Linear(sparse_dims[0][1], sparse_dims[0][1]) \n",
    "            \n",
    "        else:\n",
    "            rnn_in_dim = dense_dims + sum([ed for fd, ed in sparse_dims[:]])\n",
    "            self.out_dim = hidden_dims*(bi+1)\n",
    "        \n",
    "        if self.cell == 'LSTM':\n",
    "            self.rnn = nn.LSTM(rnn_in_dim, hidden_dims, n_layers, batch_first=True, bidirectional=bi, dropout=dropout)\n",
    "        elif self.cell == 'GRU':\n",
    "            self.rnn = nn.GRU(rnn_in_dim, hidden_dims, n_layers, batch_first=True, bidirectional=bi, dropout=dropout)    \n",
    "        \n",
    "        self.init_embedding()\n",
    "        \n",
    "    def init_embedding(self):\n",
    "        for embed in self.embedding_list:\n",
    "            embed.reset_parameters()\n",
    "\n",
    "    def init_hidden(self, x):\n",
    "        if self.cell == 'LSTM':\n",
    "            hidden = Variable(torch.zeros(self.n_layers*(self.bi+1), x.size(0), self.hidden_dims)).to(self.device)\n",
    "            context = Variable(torch.zeros(self.n_layers*(self.bi+1), x.size(0), self.hidden_dims)).to(self.device)\n",
    "            ret = (hidden, context)\n",
    "        elif self.cell == 'GRU':\n",
    "            hidden = Variable(torch.zeros(self.n_layers*(self.bi+1), x.size(0), self.hidden_dims)).to(self.device)\n",
    "            ret = hidden\n",
    "        \n",
    "        return ret\n",
    "            \n",
    "    def forward(self, x_dense, x_sparse):\n",
    "        if self.use_chid:\n",
    "            x = torch.cat([x_dense]+[embed(x_sparse[:, :, i+1]) for i, embed in enumerate(self.embedding_list[1:])], dim=-1)            \n",
    "        else:\n",
    "            x = torch.cat([x_dense]+[embed(x_sparse[:, :, i]) for i, embed in enumerate(self.embedding_list[:])], dim=-1)\n",
    "        \n",
    "        self.hidden = self.init_hidden(x)\n",
    "        logits, self.hidden = self.rnn(x, self.hidden)\n",
    "        \n",
    "        if self.use_chid:\n",
    "            user_embed = self.user_layer(self.embedding_list[0](x_sparse[:,0,0]))\n",
    "            last_logits = torch.cat([logits[:, -1], user_embed], dim=-1)\n",
    "        else:\n",
    "            last_logits = logits[:, -1]\n",
    "        \n",
    "        return last_logits"
   ]
  },
  {
   "cell_type": "code",
   "execution_count": 4,
   "metadata": {},
   "outputs": [],
   "source": [
    "class MLP(nn.Module):\n",
    "    def __init__(self, input_dims, hidden_dims=[1], out_dim=1):\n",
    "        super(MLP, self).__init__()\n",
    "        hidden_dims = [input_dims] + hidden_dims\n",
    "        \n",
    "        self.layers = nn.Sequential(*[\n",
    "            nn.Sequential(\n",
    "                nn.Linear(idim, odim), \n",
    "                nn.ReLU()\n",
    "            ) for idim, odim in zip(hidden_dims[:-1], hidden_dims[1:])\n",
    "        ])\n",
    "        \n",
    "        self.out_layer = nn.Linear(hidden_dims[-1], out_dim)\n",
    "                   \n",
    "    def forward(self, x):\n",
    "        out = self.layers(x)\n",
    "        out = self.out_layer(out)\n",
    "        \n",
    "        return out"
   ]
  },
  {
   "cell_type": "code",
   "execution_count": 5,
   "metadata": {},
   "outputs": [],
   "source": [
    "class MultiTaskModel(nn.Module):\n",
    "    def __init__(self, dense_dims, sparse_dims, hidden_dims, out_dims=[1], n_layers=1, use_chid=True, cell='GRU', bi=False, dropout=0, device='cpu'):\n",
    "        super(MultiTaskModel, self).__init__()\n",
    "        self.rnn = ET_Rnn(dense_dims, sparse_dims, hidden_dims, n_layers=n_layers, use_chid=use_chid, \n",
    "                          cell=cell, bi=bi, dropout=dropout, device=device)\n",
    "        \n",
    "        self.mlps = nn.ModuleList([MLP(self.rnn.out_dim, hidden_dims=[self.rnn.out_dim//2], out_dim=od) for od in out_dims])\n",
    "        \n",
    "    def forward(self, x_dense, x_sparse):\n",
    "        logits = self.rnn(x_dense, x_sparse)\n",
    "        outs = [mlp(logits)for mlp in self.mlps]\n",
    "        \n",
    "        return outs        "
   ]
  },
  {
   "cell_type": "code",
   "execution_count": 23,
   "metadata": {},
   "outputs": [],
   "source": [
    "class Trainer:\n",
    "    def __init__(self, model, optimizer, device='cpu'):\n",
    "        self.model = model.to(device)\n",
    "        self.criterion_reg = nn.MSELoss()\n",
    "        self.criterion_clf = nn.CrossEntropyLoss()\n",
    "        self.optimizer = optimizer\n",
    "        self.device = device\n",
    "        \n",
    "    def fit(self, train_loader, test_loader=None, epoch=1, early_stop=-1, scaler=None):\n",
    "        history = {\n",
    "            'train': [], \n",
    "            'test': []\n",
    "        }\n",
    "        \n",
    "        best_eval = 9e9\n",
    "        early_cnt = 0\n",
    "        best_model_params = copy.deepcopy(self.model.state_dict())\n",
    "        \n",
    "        for ep in tqdm(range(epoch)):\n",
    "            #print('Epoch:{}'.format(ep+1))\n",
    "            \n",
    "            self.model.train()\n",
    "            for batch in train_loader:\n",
    "                loss = 0\n",
    "                self.optimizer.zero_grad()\n",
    "                \n",
    "                batch = [b.to(self.device) for b in batch]\n",
    "                x_dense, x_sparse = batch[:2]\n",
    "                task = batch[2:]\n",
    "                \n",
    "                #x_dense, x_sparse, task_0, task_1, task_2, task_3 = [b.to(self.device) for b in batch]\n",
    "                \n",
    "                outputs = self.model(x_dense, x_sparse)\n",
    "                \n",
    "                reg_num = 2\n",
    "                for i in range(reg_num):\n",
    "                    loss += self.criterion_reg(outputs[i], task[i])\n",
    "                for i in range(reg_num, 4):\n",
    "                    loss += self.criterion_clf(outputs[i], task[i])\n",
    "\n",
    "                loss.backward()\n",
    "                self.optimizer.step()\n",
    "                \n",
    "            train_result, _, _ = self.evaluate(train_loader)\n",
    "            history['train'].append(train_result)\n",
    "            #print('\\ttrain\\t'+' '.join(['{}:{:.2f}'.format(k, v) for k, v in train_result.items()]))\n",
    "            \n",
    "            if test_loader:\n",
    "                test_result, _, _ = self.evaluate(test_loader)\n",
    "                history['test'].append(test_result)\n",
    "                \n",
    "                if ep%5 == 0 or ep == epoch-1:\n",
    "                    print('Epoch:{}'.format(ep+1))\n",
    "                    print('\\ttest\\t'+' '.join(['{}:{:.3f}'.format(k, v) for k, v in test_result.items()]))\n",
    "\n",
    "                if test_result['total_loss'] < best_eval:\n",
    "                    early_cnt = 0\n",
    "                    best_eval = test_result['total_loss']\n",
    "                    best_model_params = copy.deepcopy(self.model.state_dict())\n",
    "                    #print('\\tbetter!')\n",
    "\n",
    "                elif early_stop > 0:\n",
    "                    early_cnt += 1\n",
    "\n",
    "            if early_stop > 0 and early_cnt >= early_stop:\n",
    "                break\n",
    "        \n",
    "        self.model.load_state_dict(best_model_params)\n",
    "        \n",
    "        return history\n",
    "        \n",
    "    def evaluate(self, loader):\n",
    "        true_list = [[] for i in range(4)]\n",
    "        pred_list = [[] for i in range(4)]\n",
    "        total_loss = 0\n",
    "        loss_list = [0]*4\n",
    "        reg_num = 2\n",
    "        \n",
    "        self.model.eval()\n",
    "        for batch in loader:\n",
    "            batch = [b.to(self.device) for b in batch]\n",
    "            x_dense, x_sparse = batch[:2]\n",
    "            task = batch[2:]\n",
    "            \n",
    "            outputs = self.model(x_dense, x_sparse)         \n",
    "            \n",
    "            for i, (y, output) in enumerate(zip(task, outputs)):\n",
    "                true_list[i].append(y.cpu().detach().numpy())\n",
    "                pred_list[i].append(output.cpu().detach().numpy())\n",
    "                \n",
    "                if i < reg_num:\n",
    "                    batch_loss = self.criterion_reg(output, y).cpu().detach().item() * y.shape[0]\n",
    "                else:\n",
    "                    batch_loss = self.criterion_clf(output, y).cpu().detach().item() * y.shape[0]\n",
    "                    \n",
    "                total_loss += batch_loss\n",
    "                loss_list[i] += batch_loss\n",
    "\n",
    "        for i in range(reg_num):\n",
    "            true_list[i] = np.expm1(np.concatenate(true_list[i], axis=0))\n",
    "            pred_list[i] = np.expm1(np.concatenate(pred_list[i], axis=0))\n",
    "            \n",
    "        for i in range(reg_num, 4):\n",
    "            true_list[i] = np.concatenate(true_list[i], axis=0).reshape(-1, 1)\n",
    "            pred_list[i] = np.argmax(np.concatenate(pred_list[i], axis=0), axis=1).reshape(-1, 1)                         \n",
    "        \n",
    "        # objsum, tscnt, spcnt, label_0, label_mul\n",
    "        result = {\n",
    "            'total_loss': total_loss/len(loader.dataset), \n",
    "            'objsum': mean_squared_error(true_list[0], pred_list[0], squared=False), \n",
    "            'tscnt': mean_squared_error(true_list[1], pred_list[1], squared=False), \n",
    "            'label_0': accuracy_score(true_list[2], pred_list[2]), \n",
    "            'label_mul': accuracy_score(true_list[3], pred_list[3]),\n",
    "        }\n",
    "        \n",
    "        return result, true_list, pred_list"
   ]
  },
  {
   "cell_type": "code",
   "execution_count": 7,
   "metadata": {},
   "outputs": [
    {
     "name": "stdout",
     "output_type": "stream",
     "text": [
      "(1033871, 120, 14) (100000, 120, 14) (1033871, 7) (100000, 7) 50000\n",
      "[('bnsfg', 2), ('iterm', 15), ('mcc', 507), ('scity', 11074), ('stonc_tag', 49), ('stonc_label', 202387), ('stonm_label', 212342), ('stonc_6_label', 78560), ('stonc_10_label', 128075)] [('masts', 3), ('educd', 6), ('trdtp', 27), ('poscd', 9)]\n"
     ]
    }
   ],
   "source": [
    "sample_path = './data/sample_50k'\n",
    "\n",
    "x_train = np.load(os.path.join(sample_path, 'RNN', 'x_train.npy'), allow_pickle=True)\n",
    "x_test = np.load(os.path.join(sample_path, 'RNN', 'x_test.npy'), allow_pickle=True)\n",
    "\n",
    "#f_train = np.load(os.path.join(sample_path, 'RNN', 'f_train.npy'), allow_pickle=True)\n",
    "#f_test = np.load(os.path.join(sample_path, 'RNN', 'f_test.npy'), allow_pickle=True)\n",
    "\n",
    "Y_train = np.load(os.path.join(sample_path, 'RNN', 'y_train.npy'), allow_pickle=True)\n",
    "Y_test = np.load(os.path.join(sample_path, 'RNN', 'y_test.npy'), allow_pickle=True)\n",
    "\n",
    "chid_mapper = np.load(os.path.join(sample_path, 'sample_50k_chid_idx_map.npy'), allow_pickle=True).item()\n",
    "feat_mapper = np.load(os.path.join(sample_path, 'RNN', 'feature_map.npy'), allow_pickle=True).item()\n",
    "cust_feature_map = np.load(os.path.join(sample_path, 'RNN', 'cust_feature_map.npy'), allow_pickle=True).item()\n",
    "\n",
    "columns = np.load(os.path.join(sample_path, 'RNN', 'columns.npy'), allow_pickle=True).item()\n",
    "\n",
    "print(x_train.shape, x_test.shape, Y_train.shape, Y_test.shape, len(chid_mapper))\n",
    "print([(k, len(v)) for k, v in feat_mapper.items()], [(k, len(v)) for k, v in cust_feature_map.items()])"
   ]
  },
  {
   "cell_type": "code",
   "execution_count": 8,
   "metadata": {
    "scrolled": true
   },
   "outputs": [
    {
     "name": "stdout",
     "output_type": "stream",
     "text": [
      "['chid', 'bnsfg', 'iterm', 'mcc', 'scity', 'stonc_tag', 'stonc_label', 'stonm_label', 'stonc_6_label', 'stonc_10_label', 'bnspt', 'timestamp_0', 'timestamp_1', 'objam']\n",
      "['chid', 'bnsfg', 'iterm', 'mcc', 'scity', 'stonc_tag', 'stonc_label', 'stonm_label', 'stonc_6_label', 'stonc_10_label'] ['bnspt', 'timestamp_0', 'timestamp_1', 'objam']\n"
     ]
    }
   ],
   "source": [
    "category_cols = columns['x_columns'][:-4]\n",
    "numeric_cols = columns['x_columns'][-4:]\n",
    "\n",
    "print(columns['x_columns'])\n",
    "print(category_cols, numeric_cols)"
   ]
  },
  {
   "cell_type": "code",
   "execution_count": 9,
   "metadata": {},
   "outputs": [
    {
     "name": "stdout",
     "output_type": "stream",
     "text": [
      "['chid', 'data_dt', 'objam_sum', 'objam_mean', 'trans_count', 'shop_count', 'objam_mean_M3_diff']\n"
     ]
    }
   ],
   "source": [
    "print(columns['y_columns'])"
   ]
  },
  {
   "cell_type": "code",
   "execution_count": 10,
   "metadata": {},
   "outputs": [],
   "source": [
    "# regession\n",
    "index = columns['y_columns'].index('objam_sum')\n",
    "train_objsum = Y_train[:, [index]].astype(np.float64)\n",
    "test_objsum = Y_test[:, [index]].astype(np.float64)\n",
    "\n",
    "#index = columns['y_columns'].index('objam_mean')\n",
    "#train_objmean = Y_train[:, [index]].astype(np.float64)\n",
    "#test_objmean = Y_test[:, [index]].astype(np.float64)\n",
    "\n",
    "index = columns['y_columns'].index('trans_count')\n",
    "train_tscnt = Y_train[:, [index]].astype(np.float64)\n",
    "test_tscnt = Y_test[:, [index]].astype(np.float64)\n",
    "\n",
    "index = columns['y_columns'].index('shop_count')\n",
    "train_spcnt = Y_train[:, [index]].astype(np.float64)\n",
    "test_spcnt = Y_test[:, [index]].astype(np.float64)"
   ]
  },
  {
   "cell_type": "code",
   "execution_count": 11,
   "metadata": {},
   "outputs": [
    {
     "name": "stdout",
     "output_type": "stream",
     "text": [
      "6 6 (1033871, 1) (100000, 1)\n"
     ]
    }
   ],
   "source": [
    "#classfication\n",
    "bounds = [0]\n",
    "lable_trans = np.vectorize(lambda x: sum([x > bound for bound in bounds]))\n",
    "\n",
    "train_label_0 = lable_trans(train_objsum)\n",
    "test_label_0 = lable_trans(test_objsum)\n",
    "\n",
    "bounds = [0, 1e4, 5e4, 1e5, 3e5]\n",
    "lable_trans = np.vectorize(lambda x: sum([x > bound for bound in bounds]))\n",
    "train_label_mul = lable_trans(train_objsum)\n",
    "test_label_mul = lable_trans(test_objsum)\n",
    "\n",
    "print(np.unique(train_label_mul).shape[0], np.unique(test_label_mul).shape[0], train_label_mul.shape, test_label_mul.shape)"
   ]
  },
  {
   "cell_type": "code",
   "execution_count": 12,
   "metadata": {},
   "outputs": [],
   "source": [
    "# log transform\n",
    "train_objsum = np.log1p(train_objsum)\n",
    "test_objsum = np.log1p(test_objsum)\n",
    "\n",
    "#train_objmean = np.log1p(train_objmean)\n",
    "#test_objmean = np.log1p(test_objmean)\n",
    "\n",
    "train_tscnt = np.log1p(train_tscnt)\n",
    "test_tscnt = np.log1p(test_tscnt)\n",
    "\n",
    "train_spcnt = np.log1p(train_spcnt)\n",
    "test_spcnt = np.log1p(test_spcnt)"
   ]
  },
  {
   "cell_type": "code",
   "execution_count": 13,
   "metadata": {},
   "outputs": [
    {
     "data": {
      "image/png": "[encoded data removed]",
      "text/plain": [
       "<Figure size 288x288 with 1 Axes>"
      ]
     },
     "metadata": {},
     "output_type": "display_data"
    },
    {
     "data": {
      "image/png": "[encoded data removed]",
      "text/plain": [
       "<Figure size 288x288 with 1 Axes>"
      ]
     },
     "metadata": {},
     "output_type": "display_data"
    }
   ],
   "source": [
    "train_label_num = [np.sum(train_label_0 == label) for label in sorted(np.unique(train_label_0))]\n",
    "test_label_num = [np.sum(test_label_0 == label) for label in sorted(np.unique(train_label_0))]\n",
    "\n",
    "with sns.axes_style(\"darkgrid\"):\n",
    "    plt.figure(figsize=(4, 4))\n",
    "    sns.barplot(x=[0, 1], y=train_label_num)\n",
    "    plt.xticks(range(len(train_label_num)))\n",
    "    plt.show()\n",
    "    \n",
    "with sns.axes_style(\"darkgrid\"):\n",
    "    plt.figure(figsize=(4, 4))\n",
    "    sns.barplot(x=[0, 1], y=test_label_num)\n",
    "    plt.xticks(range(len(test_label_num)))\n",
    "    plt.show()"
   ]
  },
  {
   "cell_type": "code",
   "execution_count": 14,
   "metadata": {},
   "outputs": [
    {
     "data": {
      "image/png": "[encoded data removed]",
      "text/plain": [
       "<Figure size 288x288 with 1 Axes>"
      ]
     },
     "metadata": {},
     "output_type": "display_data"
    },
    {
     "data": {
      "image/png": "[encoded data removed]",
      "text/plain": [
       "<Figure size 288x288 with 1 Axes>"
      ]
     },
     "metadata": {},
     "output_type": "display_data"
    }
   ],
   "source": [
    "train_label_num = [np.sum(train_label_mul == label) for label in sorted(np.unique(train_label_mul))]\n",
    "test_label_num = [np.sum(test_label_mul == label) for label in sorted(np.unique(train_label_mul))]\n",
    "\n",
    "with sns.axes_style(\"darkgrid\"):\n",
    "    plt.figure(figsize=(4, 4))\n",
    "    sns.barplot(x=sorted(np.unique(train_label_mul)), y=train_label_num)\n",
    "    plt.xticks(range(len(train_label_num)))\n",
    "    plt.show()\n",
    "    \n",
    "with sns.axes_style(\"darkgrid\"):\n",
    "    plt.figure(figsize=(4, 4))\n",
    "    sns.barplot(x=sorted(np.unique(train_label_mul)), y=test_label_num)\n",
    "    plt.xticks(range(len(test_label_num)))\n",
    "    plt.show()"
   ]
  },
  {
   "cell_type": "code",
   "execution_count": 15,
   "metadata": {},
   "outputs": [
    {
     "name": "stdout",
     "output_type": "stream",
     "text": [
      "['chid', 'bnsfg', 'iterm', 'mcc', 'scity'] [('bnsfg', 2), ('iterm', 15), ('mcc', 507), ('scity', 11074)]\n"
     ]
    }
   ],
   "source": [
    "sparse_feat = category_cols[:5]#+['stonc_tag', 'stonc_6_label']\n",
    "dense_feat = numeric_cols\n",
    "\n",
    "keys = list(feat_mapper.keys())\n",
    "for key in keys:\n",
    "    if key not in sparse_feat:\n",
    "        del feat_mapper[key]\n",
    "\n",
    "print(sparse_feat, [(k, len(v)) for k, v in feat_mapper.items()])"
   ]
  },
  {
   "cell_type": "code",
   "execution_count": 16,
   "metadata": {},
   "outputs": [
    {
     "data": {
      "text/plain": [
       "(4, [(50001, 64), (3, 16), (16, 16), (508, 16), (11075, 16)], [0, 1, 2, 3, 4])"
      ]
     },
     "execution_count": 16,
     "metadata": {},
     "output_type": "execute_result"
    }
   ],
   "source": [
    "USE_CHID = True\n",
    "idx_start = 1-int(USE_CHID)\n",
    "sparse_index = [category_cols.index(feat) for feat in sparse_feat][idx_start:]\n",
    "\n",
    "chid_embed_dim = 64\n",
    "feat_embed_dim = 16\n",
    "\n",
    "dense_dims = len(dense_feat) # number of dense feature\n",
    "feat_dims = np.array([len(chid_mapper)] + [len(v) for v in feat_mapper.values()])+1 # 0 is padding index, so add 1 dims\n",
    "embed_dims = [chid_embed_dim]+[feat_embed_dim]*len(feat_mapper) # dims of chid and other sparse feature\n",
    "\n",
    "sparse_dims = [(fd, ed) for fd, ed in zip(feat_dims[idx_start:], embed_dims[idx_start:])]\n",
    "\n",
    "dense_dims, sparse_dims, sparse_index"
   ]
  },
  {
   "cell_type": "code",
   "execution_count": 17,
   "metadata": {},
   "outputs": [],
   "source": [
    "# x_data\n",
    "w_size = x_train.shape[1]\n",
    "\n",
    "x_scaler = MinMaxScaler(feature_range=(0, 1))\n",
    "\n",
    "x_train_dense = x_train[:, -w_size:, len(category_cols):].astype(np.float64) # split dense feature\n",
    "x_train_sparse = x_train[:, -w_size:, sparse_index].astype(np.int64) # split sparse feature\n",
    "\n",
    "x_train_dense = np.log1p(x_train_dense - x_train_dense.min(axis=0))\n",
    "x_train_dense = x_scaler.fit_transform(x_train_dense.reshape(-1, x_train_dense.shape[-1])).reshape(x_train_dense.shape)\n",
    "\n",
    "x_test_dense = x_test[:, -w_size:, len(category_cols):].astype(np.float64)\n",
    "x_test_sparse = x_test[:, -w_size:, sparse_index].astype(np.int64) \n",
    "\n",
    "x_test_dense = np.log1p(x_test_dense - x_test_dense.min(axis=0))\n",
    "x_test_dense = x_scaler.transform(x_test_dense.reshape(-1, x_test_dense.shape[-1])).reshape(x_test_dense.shape)"
   ]
  },
  {
   "cell_type": "code",
   "execution_count": 18,
   "metadata": {},
   "outputs": [
    {
     "name": "stdout",
     "output_type": "stream",
     "text": [
      "(1033871, 120, 4) (1033871, 120, 5)\n",
      "(100000, 120, 4) (100000, 120, 5)\n"
     ]
    }
   ],
   "source": [
    "print(x_train_dense.shape, x_train_sparse.shape)\n",
    "print(x_test_dense.shape, x_test_sparse.shape)"
   ]
  },
  {
   "cell_type": "code",
   "execution_count": 19,
   "metadata": {},
   "outputs": [],
   "source": [
    "# train_objsum\n",
    "# test_objsum\n",
    "\n",
    "# train_tscnt\n",
    "# test_tscnt\n",
    "\n",
    "# train_spcnt\n",
    "# test_spcnt\n",
    "\n",
    "# train_label_0\n",
    "# test_label_0\n",
    "\n",
    "# train_label_mul\n",
    "# test_label_mul"
   ]
  },
  {
   "cell_type": "code",
   "execution_count": 24,
   "metadata": {},
   "outputs": [],
   "source": [
    "batch_size = 2048\n",
    "\n",
    "train_dataset = TensorDataset(torch.FloatTensor(x_train_dense), torch.LongTensor(x_train_sparse), \n",
    "                              torch.FloatTensor(train_objsum), torch.FloatTensor(train_tscnt), \n",
    "                              torch.LongTensor(train_label_0.flatten()), torch.LongTensor(train_label_mul.flatten()))\n",
    "\n",
    "train_loader = DataLoader(dataset=train_dataset, shuffle=True, batch_size=batch_size, num_workers=8)\n",
    "\n",
    "test_dataset = TensorDataset(torch.FloatTensor(x_test_dense), torch.LongTensor(x_test_sparse), \n",
    "                             torch.FloatTensor(test_objsum), torch.FloatTensor(test_tscnt), \n",
    "                             torch.LongTensor(test_label_0.flatten()), torch.LongTensor(test_label_mul.flatten()))\n",
    "\n",
    "test_loader = DataLoader(dataset=test_dataset, shuffle=False, batch_size=batch_size, num_workers=8)"
   ]
  },
  {
   "cell_type": "code",
   "execution_count": 25,
   "metadata": {
    "scrolled": false
   },
   "outputs": [
    {
     "name": "stdout",
     "output_type": "stream",
     "text": [
      "cuda:1\n"
     ]
    },
    {
     "data": {
      "text/plain": [
       "MultiTaskModel(\n",
       "  (rnn): ET_Rnn(\n",
       "    (embedding_list): ModuleList(\n",
       "      (0): Embedding(50001, 64, padding_idx=0)\n",
       "      (1): Embedding(3, 16, padding_idx=0)\n",
       "      (2): Embedding(16, 16, padding_idx=0)\n",
       "      (3): Embedding(508, 16, padding_idx=0)\n",
       "      (4): Embedding(11075, 16, padding_idx=0)\n",
       "    )\n",
       "    (user_layer): Linear(in_features=64, out_features=64, bias=True)\n",
       "    (rnn): GRU(68, 64, num_layers=2, batch_first=True, dropout=0.1)\n",
       "  )\n",
       "  (mlps): ModuleList(\n",
       "    (0): MLP(\n",
       "      (layers): Sequential(\n",
       "        (0): Sequential(\n",
       "          (0): Linear(in_features=128, out_features=64, bias=True)\n",
       "          (1): ReLU()\n",
       "        )\n",
       "      )\n",
       "      (out_layer): Linear(in_features=64, out_features=1, bias=True)\n",
       "    )\n",
       "    (1): MLP(\n",
       "      (layers): Sequential(\n",
       "        (0): Sequential(\n",
       "          (0): Linear(in_features=128, out_features=64, bias=True)\n",
       "          (1): ReLU()\n",
       "        )\n",
       "      )\n",
       "      (out_layer): Linear(in_features=64, out_features=1, bias=True)\n",
       "    )\n",
       "    (2): MLP(\n",
       "      (layers): Sequential(\n",
       "        (0): Sequential(\n",
       "          (0): Linear(in_features=128, out_features=64, bias=True)\n",
       "          (1): ReLU()\n",
       "        )\n",
       "      )\n",
       "      (out_layer): Linear(in_features=64, out_features=2, bias=True)\n",
       "    )\n",
       "    (3): MLP(\n",
       "      (layers): Sequential(\n",
       "        (0): Sequential(\n",
       "          (0): Linear(in_features=128, out_features=64, bias=True)\n",
       "          (1): ReLU()\n",
       "        )\n",
       "      )\n",
       "      (out_layer): Linear(in_features=64, out_features=6, bias=True)\n",
       "    )\n",
       "  )\n",
       ")"
      ]
     },
     "execution_count": 25,
     "metadata": {},
     "output_type": "execute_result"
    }
   ],
   "source": [
    "device = torch.device('cuda:1' if torch.cuda.is_available() else 'cpu')\n",
    "out_dims = [1, 1, 2, 6]\n",
    "\n",
    "model = MultiTaskModel(dense_dims, sparse_dims, hidden_dims=64, out_dims=out_dims, n_layers=2, \n",
    "                       use_chid=USE_CHID, cell='GRU', bi=False, dropout=0.1, device=device)\n",
    "optimizer = torch.optim.AdamW(model.parameters(), lr=2e-3)\n",
    "\n",
    "print(device)\n",
    "model"
   ]
  },
  {
   "cell_type": "code",
   "execution_count": 26,
   "metadata": {
    "scrolled": false
   },
   "outputs": [
    {
     "data": {
      "application/vnd.jupyter.widget-view+json": {
       "model_id": "81e1ba5c0355455f82ee371c5c494337",
       "version_major": 2,
       "version_minor": 0
      },
      "text/plain": [
       "HBox(children=(HTML(value=''), FloatProgress(value=0.0), HTML(value='')))"
      ]
     },
     "metadata": {},
     "output_type": "display_data"
    },
    {
     "name": "stdout",
     "output_type": "stream",
     "text": [
      "Epoch:1\n",
      "\ttest\ttotal_loss:13.317 objsum:605129.438 tscnt:15.095 label_0:0.849 label_mul:0.504\n",
      "Epoch:6\n",
      "\ttest\ttotal_loss:12.916 objsum:578579.938 tscnt:14.759 label_0:0.853 label_mul:0.531\n",
      "Epoch:11\n",
      "\ttest\ttotal_loss:12.755 objsum:557734.000 tscnt:10.078 label_0:0.854 label_mul:0.532\n",
      "Epoch:16\n",
      "\ttest\ttotal_loss:12.769 objsum:507507.188 tscnt:7.021 label_0:0.854 label_mul:0.541\n",
      "Epoch:21\n",
      "\ttest\ttotal_loss:12.838 objsum:504057.906 tscnt:12.138 label_0:0.852 label_mul:0.539\n",
      "Epoch:26\n",
      "\ttest\ttotal_loss:12.960 objsum:508844.125 tscnt:10.109 label_0:0.852 label_mul:0.534\n",
      "Epoch:31\n",
      "\ttest\ttotal_loss:13.025 objsum:538985.000 tscnt:7.542 label_0:0.850 label_mul:0.538\n",
      "Epoch:36\n",
      "\ttest\ttotal_loss:13.219 objsum:542295.688 tscnt:9.813 label_0:0.849 label_mul:0.538\n",
      "\n",
      "cost: 4826.13\n"
     ]
    }
   ],
   "source": [
    "t0 = time()\n",
    "trainer = Trainer(model, optimizer, device)\n",
    "history = trainer.fit(train_loader, test_loader, epoch=100, early_stop=20)\n",
    "t1 = time()\n",
    "\n",
    "print('cost: {:.2f}'.format(t1 - t0))"
   ]
  },
  {
   "cell_type": "code",
   "execution_count": 27,
   "metadata": {},
   "outputs": [
    {
     "data": {
      "image/png": "[encoded data removed]",
      "text/plain": [
       "<Figure size 576x288 with 1 Axes>"
      ]
     },
     "metadata": {},
     "output_type": "display_data"
    },
    {
     "data": {
      "image/png": "[encoded data removed]",
      "text/plain": [
       "<Figure size 576x288 with 1 Axes>"
      ]
     },
     "metadata": {},
     "output_type": "display_data"
    },
    {
     "data": {
      "image/png": "[encoded data removed]",
      "text/plain": [
       "<Figure size 576x288 with 1 Axes>"
      ]
     },
     "metadata": {},
     "output_type": "display_data"
    },
    {
     "data": {
      "image/png": "[encoded data removed]",
      "text/plain": [
       "<Figure size 576x288 with 1 Axes>"
      ]
     },
     "metadata": {},
     "output_type": "display_data"
    }
   ],
   "source": [
    "df_history = pd.DataFrame(history['test'])\n",
    "\n",
    "# objsum, tscnt, spcnt, label_0, label_mul\n",
    "cols = ['objsum', 'tscnt', 'label_0', 'label_mul']\n",
    "\n",
    "for show in cols:\n",
    "    with sns.axes_style(\"darkgrid\"):\n",
    "        plt.figure(figsize=(8, 4))\n",
    "        sns.lineplot(data=pd.DataFrame(df_history[show]))\n",
    "        plt.show()"
   ]
  },
  {
   "cell_type": "code",
   "execution_count": 28,
   "metadata": {
    "scrolled": true
   },
   "outputs": [
    {
     "name": "stdout",
     "output_type": "stream",
     "text": [
      "train\ttotal_loss:13.6975 objsum:831558.0000 tscnt:4.8822 label_0:0.8366 label_mul:0.5447\n",
      "test\ttotal_loss:12.6955 objsum:559100.1875 tscnt:10.4298 label_0:0.8540 label_mul:0.5418\n"
     ]
    }
   ],
   "source": [
    "train_result, train_true_list, train_pred_list = trainer.evaluate(train_loader)\n",
    "test_result, test_true_list, test_pred_list = trainer.evaluate(test_loader)\n",
    "\n",
    "print('train\\t'+' '.join(['{}:{:.4f}'.format(k, v) for k, v in train_result.items()]))\n",
    "print('test\\t'+' '.join(['{}:{:.4f}'.format(k, v) for k, v in test_result.items()]))"
   ]
  },
  {
   "cell_type": "code",
   "execution_count": 32,
   "metadata": {},
   "outputs": [
    {
     "data": {
      "image/png": "[encoded data removed]",
      "text/plain": [
       "<Figure size 432x432 with 2 Axes>"
      ]
     },
     "metadata": {},
     "output_type": "display_data"
    },
    {
     "name": "stdout",
     "output_type": "stream",
     "text": [
      "-1 {'AccuracyScore': 0.5418, 'RecallScore': 0.4227, 'PrecisionScore': 0.4964, 'F1Score': 0.4335}\n"
     ]
    },
    {
     "data": {
      "image/png": "[encoded data removed]",
      "text/plain": [
       "<Figure size 432x432 with 2 Axes>"
      ]
     },
     "metadata": {},
     "output_type": "display_data"
    },
    {
     "name": "stdout",
     "output_type": "stream",
     "text": [
      "-2 {'AccuracyScore': 0.854, 'RecallScore': 0.8242, 'PrecisionScore': 0.8253, 'F1Score': 0.8247}\n"
     ]
    }
   ],
   "source": [
    "label_num = 2\n",
    "\n",
    "for i in range(1, label_num+1):\n",
    "    cf_matrix = confusion_matrix(test_true_list[-i].reshape(-1, 1), test_pred_list[-i].reshape(-1, 1), normalize='true')\n",
    "    \n",
    "    with sns.axes_style(\"darkgrid\"):\n",
    "        plt.figure(figsize=(6, 6))\n",
    "        ax = sns.heatmap(cf_matrix, linewidths=.01, annot=True)\n",
    "        ax.set_xlabel('Predict', fontsize=16)\n",
    "        ax.set_ylabel('True', fontsize=16)\n",
    "        plt.show()    \n",
    "\n",
    "        scores = {\n",
    "            'AccuracyScore': round(accuracy_score(test_true_list[-i], test_pred_list[-i]), 4), \n",
    "            'RecallScore': round(recall_score(test_true_list[-i], test_pred_list[-i], average='macro'), 4),\n",
    "            'PrecisionScore': round(precision_score(test_true_list[-i], test_pred_list[-i], average='macro'), 4),\n",
    "            'F1Score': round(f1_score(test_true_list[-i], test_pred_list[-i], average='macro'), 4),\n",
    "        }        \n",
    "        \n",
    "        print(-i, scores)"
   ]
  },
  {
   "cell_type": "code",
   "execution_count": 33,
   "metadata": {},
   "outputs": [],
   "source": [
    "torch.save({\n",
    "    'dense_dims': dense_dims,\n",
    "    'sparse_dims': sparse_dims,\n",
    "    'hidden_dims': 64,\n",
    "    'n_layers': 2,\n",
    "    'use_chid': True,\n",
    "    'cell': 'GRU',\n",
    "    'bi': False,\n",
    "    'dropout': 0.1,\n",
    "    'model_state_dict': model.rnn.cpu().state_dict()\n",
    "}, './models/rnn_w_spcnt.pt')"
   ]
  },
  {
   "cell_type": "code",
   "execution_count": 34,
   "metadata": {},
   "outputs": [
    {
     "data": {
      "text/plain": [
       "{'dense_dims': 4,\n",
       " 'sparse_dims': [(50001, 64), (3, 16), (16, 16), (508, 16), (11075, 16)],\n",
       " 'hidden_dims': 64,\n",
       " 'n_layers': 2,\n",
       " 'use_chid': True,\n",
       " 'cell': 'GRU',\n",
       " 'bi': False,\n",
       " 'dropout': 0.1,\n",
       " 'model_state_dict': OrderedDict([('embedding_list.0.weight',\n",
       "               tensor([[ 0.0000,  0.0000,  0.0000,  ...,  0.0000,  0.0000,  0.0000],\n",
       "                       [ 0.1929, -0.7779,  0.0127,  ...,  0.0063,  0.0111, -0.7096],\n",
       "                       [ 0.9061, -0.3274,  0.0390,  ..., -0.5542, -0.2335,  0.3145],\n",
       "                       ...,\n",
       "                       [-0.7789,  0.9825,  0.8382,  ...,  1.5995,  0.8278, -0.7614],\n",
       "                       [ 0.6705,  0.1697, -0.6596,  ...,  0.8227, -1.9857,  0.3289],\n",
       "                       [-0.1586, -0.2970, -0.3965,  ...,  1.1480,  0.4065,  0.1843]])),\n",
       "              ('embedding_list.1.weight',\n",
       "               tensor([[ 0.0000e+00,  0.0000e+00,  0.0000e+00,  0.0000e+00,  0.0000e+00,\n",
       "                         0.0000e+00,  0.0000e+00,  0.0000e+00,  0.0000e+00,  0.0000e+00,\n",
       "                         0.0000e+00,  0.0000e+00,  0.0000e+00,  0.0000e+00,  0.0000e+00,\n",
       "                         0.0000e+00],\n",
       "                       [ 1.3757e-01,  1.0345e+00, -9.1117e-01,  7.0943e-01,  1.4072e-03,\n",
       "                         1.7852e-02, -1.0778e+00,  3.6392e-01, -3.8184e-03,  1.6117e-01,\n",
       "                        -4.2424e-03, -6.9297e-01, -3.2617e-01,  8.1587e-01, -1.0517e-01,\n",
       "                         1.8587e-01],\n",
       "                       [ 5.0901e-01, -1.0621e+00,  1.0259e-02,  1.1546e+00, -1.2894e+00,\n",
       "                        -1.8272e+00,  1.3070e+00, -2.9269e-01, -5.0410e-01, -1.1535e-01,\n",
       "                        -3.4154e-02, -2.1189e-02,  3.2277e-01,  1.9997e-02, -1.1984e+00,\n",
       "                         4.5424e-02]])),\n",
       "              ('embedding_list.2.weight',\n",
       "               tensor([[ 0.0000,  0.0000,  0.0000,  0.0000,  0.0000,  0.0000,  0.0000,  0.0000,\n",
       "                         0.0000,  0.0000,  0.0000,  0.0000,  0.0000,  0.0000,  0.0000,  0.0000],\n",
       "                       [-0.8908, -0.2356, -0.0606,  2.0085, -0.3865,  1.4658, -0.8607, -0.7521,\n",
       "                        -0.7345, -0.5722,  0.2955, -0.0079,  0.0082,  0.0145,  0.2260,  0.0432],\n",
       "                       [ 0.4629, -0.1119,  0.1531,  0.7509, -0.0337,  0.2606, -0.9068,  0.0101,\n",
       "                         0.4847, -0.9318,  1.0534, -0.2000, -1.2031,  1.2331,  1.0474,  1.1679],\n",
       "                       [ 1.3957, -1.5077, -0.0692, -0.8323, -2.2818,  0.7870,  0.8683,  1.0179,\n",
       "                         0.1604, -0.4280,  2.0265,  1.0594, -0.1268, -1.2817, -0.3206, -0.3401],\n",
       "                       [ 0.9221, -0.2346,  0.2874, -0.9371, -0.6853, -1.0770,  1.1886, -0.9175,\n",
       "                         0.8411,  1.5000, -0.2544,  0.2296, -1.1071, -1.2217, -0.8577,  0.3492],\n",
       "                       [-1.4092,  1.6171,  1.4988,  0.5126,  0.8148, -0.2488, -0.7816, -0.1929,\n",
       "                        -0.2321, -0.1758,  0.1515,  1.2478, -2.1909, -2.2442, -1.1974, -0.5757],\n",
       "                       [-1.4718, -1.7661,  1.8522,  0.3113,  0.6530, -0.7031,  0.6466,  0.8180,\n",
       "                        -1.1060,  0.0824, -0.0983,  0.7131,  0.1677,  0.7190, -0.5156, -0.2729],\n",
       "                       [ 0.5889,  0.3789,  2.1606,  0.8830, -1.0777,  1.8948, -1.3990, -0.5187,\n",
       "                        -0.8278,  1.3383, -0.0551,  0.3323, -0.3035, -1.3374, -1.1327, -1.4271],\n",
       "                       [-0.0298, -0.6325,  0.8129, -0.7190, -1.2763, -0.3848, -1.2975, -0.3579,\n",
       "                         0.3584,  2.0861,  0.3173, -0.5803,  0.0319,  0.2744,  0.2427, -1.4069],\n",
       "                       [-1.3571,  0.7138,  0.8231,  0.1190, -0.4176, -0.2097, -1.9146, -2.3717,\n",
       "                         1.2246,  0.3045,  0.8711, -1.0127,  1.8944, -0.5956,  0.2251,  1.7025],\n",
       "                       [-0.9093, -0.7703, -0.2167, -0.2416,  0.4933,  0.1035, -1.9698,  1.0759,\n",
       "                        -0.2166, -0.2809, -2.0750,  1.5283, -1.3579, -2.2775,  1.1094, -0.8737],\n",
       "                       [ 0.9700, -0.0742, -1.7287, -0.3660,  0.3737,  0.9353, -0.0178,  0.1640,\n",
       "                        -1.1112, -1.1949,  3.0445,  0.1533,  0.3999, -1.1136, -1.4904,  0.3694],\n",
       "                       [ 0.3756, -1.2350,  0.1780,  0.5686, -0.6144, -0.4839, -0.4140, -0.1319,\n",
       "                         0.3655, -0.4751,  0.2417, -0.7555, -0.3471, -1.5908,  0.4063,  1.1267],\n",
       "                       [-0.5840,  1.6268, -1.6737, -1.0688,  1.5418,  1.4961,  0.5710, -0.6525,\n",
       "                         0.4367, -2.0728, -2.3168, -0.9107,  0.1445,  0.5946,  0.1988,  0.5145],\n",
       "                       [-1.0698, -0.7107, -1.1747,  0.0874, -1.4659, -0.8250, -0.7600,  1.9759,\n",
       "                        -0.4139, -0.1043,  0.3386, -1.5705, -0.0965, -0.6728, -1.4380,  0.2875],\n",
       "                       [ 0.7196, -0.5791,  0.3376, -0.6426,  0.1203, -0.2810,  0.5678,  0.3739,\n",
       "                        -0.1730,  0.2710, -0.3371, -0.0324,  0.6382, -1.7233,  1.4763, -2.1450]])),\n",
       "              ('embedding_list.3.weight',\n",
       "               tensor([[ 0.0000,  0.0000,  0.0000,  ...,  0.0000,  0.0000,  0.0000],\n",
       "                       [ 0.3893,  0.2541,  1.6891,  ...,  1.6982, -1.5990, -2.4020],\n",
       "                       [-0.8645, -0.3202, -1.4188,  ..., -0.1833, -0.0326, -1.2137],\n",
       "                       ...,\n",
       "                       [-0.6201, -1.6538,  1.4904,  ..., -3.1802, -2.2303,  0.3951],\n",
       "                       [ 0.1999,  0.2986, -0.2805,  ..., -0.4255, -0.0417, -0.8995],\n",
       "                       [ 1.1099, -1.8965,  1.4437,  ..., -1.2880, -1.9709,  0.5154]])),\n",
       "              ('embedding_list.4.weight',\n",
       "               tensor([[ 0.0000,  0.0000,  0.0000,  ...,  0.0000,  0.0000,  0.0000],\n",
       "                       [ 0.1600, -0.7990, -0.2387,  ..., -0.6101, -0.7221, -0.3867],\n",
       "                       [ 0.7311, -0.5281,  0.2670,  ...,  0.8442, -0.8512, -0.2696],\n",
       "                       ...,\n",
       "                       [-1.0069,  0.0625, -0.6501,  ...,  1.0699,  0.1995, -0.0550],\n",
       "                       [ 0.7800, -0.2796, -0.9084,  ...,  0.2292, -0.1816,  0.9064],\n",
       "                       [ 1.0932, -0.2087,  0.0675,  ..., -0.6280, -0.1136, -1.0365]])),\n",
       "              ('user_layer.weight',\n",
       "               tensor([[ 0.0799, -0.0532,  0.1272,  ..., -0.0754, -0.0210, -0.0064],\n",
       "                       [ 0.0569,  0.0024,  0.0265,  ..., -0.0759,  0.0956, -0.0284],\n",
       "                       [-0.0040, -0.1204,  0.0619,  ...,  0.0722,  0.0467, -0.0359],\n",
       "                       ...,\n",
       "                       [-0.0827,  0.0614,  0.0903,  ..., -0.1005, -0.0559,  0.0863],\n",
       "                       [ 0.1634, -0.1088,  0.0968,  ...,  0.1654, -0.0670, -0.1629],\n",
       "                       [ 0.1337,  0.0348, -0.0282,  ...,  0.0031, -0.1820, -0.0782]])),\n",
       "              ('user_layer.bias',\n",
       "               tensor([-0.0053, -0.0317, -0.0002, -0.0096,  0.0375, -0.0231,  0.1437,  0.0441,\n",
       "                        0.0921, -0.0278, -0.0319,  0.0340, -0.0632,  0.0195,  0.0258,  0.0330,\n",
       "                        0.0017,  0.0223,  0.0990, -0.0393,  0.0443, -0.0217,  0.1044, -0.0103,\n",
       "                       -0.0168,  0.0695,  0.0436, -0.0003, -0.0097, -0.0635, -0.0119,  0.0378,\n",
       "                       -0.1166,  0.0697,  0.0012,  0.0027,  0.0055, -0.0065, -0.0254,  0.0753,\n",
       "                       -0.0019, -0.0150,  0.0722, -0.0581, -0.0048,  0.0699,  0.0235, -0.0502,\n",
       "                        0.0007,  0.0106, -0.0196, -0.0196,  0.0670, -0.0698, -0.0331,  0.0036,\n",
       "                       -0.0273, -0.0023, -0.0124,  0.0056, -0.0129, -0.0111, -0.0806, -0.0027])),\n",
       "              ('rnn.weight_ih_l0',\n",
       "               tensor([[ 0.0145, -0.0657,  0.5839,  ...,  0.1110, -0.3531,  0.0801],\n",
       "                       [ 0.4727,  0.5302,  0.2443,  ..., -0.1776,  0.1392,  0.7648],\n",
       "                       [-0.5583,  0.1759, -0.4597,  ...,  0.1550,  0.2609, -0.0059],\n",
       "                       ...,\n",
       "                       [-0.1170, -0.6207,  0.5887,  ..., -0.1300,  0.0692, -0.0459],\n",
       "                       [ 0.3012,  0.1019,  0.3560,  ..., -0.1429,  0.2417, -0.0438],\n",
       "                       [-0.0530,  0.3755,  0.1181,  ..., -0.0302,  0.0269,  0.1058]])),\n",
       "              ('rnn.weight_hh_l0',\n",
       "               tensor([[ 0.0438,  0.3710,  0.1088,  ..., -0.0202, -0.2086, -0.4253],\n",
       "                       [-0.2704,  0.6021,  0.0636,  ..., -0.1214, -0.3116, -0.4702],\n",
       "                       [-0.6415,  0.2593,  0.0519,  ...,  0.1285, -0.1632,  0.1780],\n",
       "                       ...,\n",
       "                       [ 0.3320,  0.2239,  0.0596,  ...,  0.0214, -0.0044, -0.1187],\n",
       "                       [-0.1053, -0.0481, -0.0290,  ..., -0.0554,  0.0917,  0.1775],\n",
       "                       [-0.3136,  0.1168, -0.1892,  ..., -0.1428,  0.0073,  0.4950]])),\n",
       "              ('rnn.bias_ih_l0',\n",
       "               tensor([-0.1114, -0.1497, -0.0713, -0.1795,  0.0505, -0.0358, -0.2072, -0.1606,\n",
       "                       -0.1036, -0.3665, -0.1916, -0.0986, -0.0167, -0.1768, -0.1455, -0.1372,\n",
       "                       -0.0816, -0.0957, -0.1089, -0.2355, -0.0196, -0.2912, -0.2290,  0.0644,\n",
       "                        0.0268, -0.0755, -0.2675, -0.2559, -0.1733,  0.0614, -0.0974, -0.1048,\n",
       "                       -0.1028, -0.0763, -0.0989, -0.0333, -0.2083,  0.0029, -0.0463, -0.1916,\n",
       "                       -0.0810, -0.0778, -0.1275, -0.0717, -0.1100, -0.1248, -0.1181,  0.0441,\n",
       "                       -0.1173,  0.0741, -0.0439, -0.0346, -0.1148,  0.0584, -0.1126, -0.1073,\n",
       "                       -0.3227, -0.4065, -0.0847,  0.1153, -0.0050, -0.0991,  0.0207, -0.3049,\n",
       "                       -0.0561,  0.1276, -0.1608,  0.0464, -0.0211, -0.0606, -0.0317,  0.1974,\n",
       "                        0.0333,  0.1256, -0.1160, -0.1049,  0.0153, -0.1770,  0.0224,  0.1073,\n",
       "                        0.1349,  0.0832, -0.0968,  0.0860, -0.1103, -0.0593,  0.0301, -0.0848,\n",
       "                        0.0862,  0.1161,  0.0282, -0.2288,  0.2028,  0.1393, -0.1239, -0.0628,\n",
       "                        0.0185, -0.0492, -0.1237,  0.1199,  0.0724, -0.0459,  0.0763,  0.2409,\n",
       "                        0.0462, -0.1380,  0.1224,  0.2020,  0.1332,  0.1230, -0.0048,  0.0112,\n",
       "                        0.1260, -0.0321, -0.1564,  0.1457, -0.1010, -0.0824,  0.1063,  0.0030,\n",
       "                        0.1873,  0.1651, -0.1828, -0.0263,  0.0110,  0.0285, -0.0093,  0.1193,\n",
       "                        0.0844,  0.0486, -0.0316, -0.0330,  0.0155, -0.0256, -0.0433,  0.1259,\n",
       "                       -0.0625,  0.0550,  0.0319, -0.0336, -0.0718,  0.0285,  0.0196,  0.0615,\n",
       "                       -0.0842,  0.0532,  0.0775,  0.0791,  0.1526, -0.0902,  0.0167,  0.0400,\n",
       "                        0.0261, -0.0437, -0.0389, -0.0631,  0.0663,  0.2345,  0.0444, -0.1441,\n",
       "                        0.0095,  0.1247, -0.0801,  0.1626, -0.1584,  0.0184, -0.0783,  0.0532,\n",
       "                       -0.0050,  0.0872,  0.0724,  0.1286, -0.0670, -0.1663, -0.0428, -0.1144,\n",
       "                       -0.0013, -0.1614,  0.0795,  0.0178, -0.0105, -0.0705,  0.0348, -0.0205,\n",
       "                       -0.0170,  0.0998, -0.0511, -0.0134,  0.1210, -0.0288,  0.0188,  0.0135])),\n",
       "              ('rnn.bias_hh_l0',\n",
       "               tensor([-0.1822, -0.1600, -0.0361, -0.0505, -0.0172, -0.1328, -0.1219,  0.0192,\n",
       "                       -0.1498, -0.1852, -0.0390, -0.1086, -0.0129, -0.0632, -0.0686, -0.0793,\n",
       "                       -0.1665, -0.0788, -0.1135, -0.1927, -0.0094, -0.1216, -0.1900,  0.0088,\n",
       "                        0.0745, -0.0495, -0.1785, -0.3112, -0.0255,  0.0172, -0.1299, -0.0811,\n",
       "                        0.0601, -0.1529, -0.1138, -0.0386, -0.3128, -0.0926, -0.0958, -0.3584,\n",
       "                       -0.1626, -0.0789, -0.1381, -0.1069, -0.0148, -0.1068, -0.0478, -0.0248,\n",
       "                       -0.2798,  0.0020,  0.0762, -0.0407, -0.0756, -0.0930, -0.1242, -0.0628,\n",
       "                       -0.1415, -0.2482, -0.0459,  0.0253, -0.0087, -0.0666, -0.0424, -0.3445,\n",
       "                       -0.0683,  0.0782, -0.1572,  0.0509,  0.1272,  0.1177,  0.0591,  0.0114,\n",
       "                        0.0375,  0.1629, -0.0502,  0.0008, -0.0047, -0.1545, -0.0509,  0.1956,\n",
       "                        0.0171, -0.0599, -0.0914,  0.0377, -0.0887, -0.1442,  0.1585, -0.0655,\n",
       "                        0.0790,  0.1139, -0.0467, -0.0850,  0.0475,  0.0196, -0.0377,  0.0209,\n",
       "                        0.0012, -0.0484, -0.1881,  0.0056, -0.0749, -0.1219,  0.1182,  0.0708,\n",
       "                       -0.0084,  0.0260,  0.0917,  0.0560,  0.0362,  0.1558,  0.0187,  0.0207,\n",
       "                        0.0741, -0.0319, -0.0994, -0.0059, -0.1034, -0.0432,  0.1386, -0.0502,\n",
       "                        0.0421,  0.2472, -0.0223,  0.0548,  0.1552, -0.0801,  0.0250,  0.1473,\n",
       "                        0.0763,  0.1243, -0.0941,  0.0464, -0.0049,  0.0511, -0.0592,  0.0978,\n",
       "                        0.0825, -0.0918,  0.0126, -0.0358, -0.0755,  0.2544, -0.1734, -0.0810,\n",
       "                        0.0527,  0.1311,  0.1101, -0.1806,  0.1058, -0.0220, -0.0312,  0.2736,\n",
       "                       -0.1726, -0.0724, -0.0328, -0.0417, -0.0259,  0.2267,  0.0230, -0.0806,\n",
       "                        0.1294,  0.0801, -0.0025,  0.0593,  0.0323,  0.0551,  0.0241, -0.0374,\n",
       "                        0.0528, -0.1834,  0.0315,  0.0592,  0.0412, -0.0512, -0.1280, -0.1559,\n",
       "                        0.0379, -0.2386,  0.1066, -0.0848,  0.0626,  0.1055,  0.1835, -0.1476,\n",
       "                        0.0635,  0.0890,  0.0991,  0.0585,  0.2228, -0.0006, -0.0677,  0.0722])),\n",
       "              ('rnn.weight_ih_l1',\n",
       "               tensor([[ 0.1814,  0.0134,  0.3211,  ...,  0.3183,  0.0407, -0.1144],\n",
       "                       [-0.0712,  0.3061,  0.1553,  ..., -0.0859,  0.0408,  0.0716],\n",
       "                       [-0.1866, -0.2150, -0.3472,  ..., -0.1701,  0.0595, -0.5740],\n",
       "                       ...,\n",
       "                       [ 0.0259, -0.1357, -0.1729,  ..., -0.0615, -0.1246, -0.4246],\n",
       "                       [-0.0411, -0.1618, -0.0728,  ..., -0.1108,  0.0381,  0.4080],\n",
       "                       [-0.1558,  0.0323, -0.3356,  ..., -0.0704,  0.0652, -0.2146]])),\n",
       "              ('rnn.weight_hh_l1',\n",
       "               tensor([[-0.4387, -0.0931, -0.3267,  ..., -0.0331, -0.1828, -0.1919],\n",
       "                       [-0.3263, -0.3077, -0.4305,  ..., -0.1517, -0.0881, -0.1030],\n",
       "                       [ 0.0847,  0.1510,  0.2307,  ..., -0.1430, -0.1175, -0.0334],\n",
       "                       ...,\n",
       "                       [-0.1457,  0.1575, -0.3655,  ...,  0.0667, -0.0858,  0.2695],\n",
       "                       [-0.1718, -0.0167,  0.3634,  ...,  0.1501, -0.0392,  0.2483],\n",
       "                       [ 0.1074, -0.0471, -0.1315,  ...,  0.0589,  0.2229,  0.0195]])),\n",
       "              ('rnn.bias_ih_l1',\n",
       "               tensor([-0.1039, -0.1737, -0.1058, -0.2447,  0.0798, -0.0698, -0.0402, -0.0661,\n",
       "                        0.0317,  0.1046, -0.2915,  0.0616, -0.1130, -0.0367,  0.0572, -0.2372,\n",
       "                       -0.1386,  0.0090,  0.1053, -0.0991, -0.0324, -0.1916,  0.1407,  0.0212,\n",
       "                        0.0845, -0.1621, -0.0649, -0.0057, -0.0903,  0.0037,  0.2049,  0.1268,\n",
       "                       -0.1706, -0.0344,  0.0049,  0.0153,  0.0378, -0.2010, -0.0627, -0.0684,\n",
       "                       -0.1211, -0.1079,  0.0333, -0.0225, -0.2157, -0.0403, -0.0879, -0.0270,\n",
       "                       -0.0352, -0.1740, -0.0349, -0.1242, -0.0407, -0.0493,  0.1325,  0.1972,\n",
       "                       -0.2322, -0.2897, -0.0218, -0.0649,  0.0055,  0.1562, -0.2325, -0.1390,\n",
       "                       -0.1369,  0.0151,  0.1021,  0.1040,  0.1779, -0.0486, -0.0293,  0.0172,\n",
       "                       -0.0258, -0.1614,  0.1750,  0.1312, -0.2854,  0.1162,  0.0374,  0.0434,\n",
       "                        0.1448,  0.0317,  0.0518, -0.0539, -0.1139,  0.0186,  0.0518,  0.2221,\n",
       "                       -0.3166,  0.1677,  0.1295,  0.1682,  0.0267,  0.1500, -0.0462, -0.1646,\n",
       "                       -0.0504, -0.0167, -0.1038,  0.1634,  0.0454,  0.0370, -0.0404,  0.0337,\n",
       "                        0.1648,  0.1922, -0.2046,  0.0803, -0.0099,  0.0209,  0.0562, -0.0365,\n",
       "                        0.1309, -0.1760, -0.0627,  0.0995,  0.0430, -0.4505, -0.3639, -0.1071,\n",
       "                        0.0838,  0.1872,  0.1072,  0.0342,  0.0272,  0.1305, -0.1093, -0.0623,\n",
       "                        0.0738, -0.0096,  0.0202, -0.0191, -0.0387,  0.0715,  0.1875,  0.0461,\n",
       "                        0.0640,  0.2159,  0.1310, -0.0623, -0.1059,  0.1000, -0.0849, -0.0532,\n",
       "                        0.0360,  0.2004, -0.0318, -0.0079,  0.1179,  0.0535,  0.1210, -0.1111,\n",
       "                       -0.0863,  0.0709,  0.1409,  0.1533,  0.0558,  0.0386,  0.2475,  0.0111,\n",
       "                        0.0195, -0.1048,  0.2339,  0.0076, -0.0232,  0.1101, -0.1988, -0.1144,\n",
       "                       -0.0214,  0.1342, -0.0647, -0.1533, -0.0095,  0.0547,  0.1570,  0.1955,\n",
       "                        0.0358,  0.0596, -0.2011,  0.0734, -0.0915,  0.0283,  0.1999,  0.2009,\n",
       "                        0.1279, -0.0200,  0.1621, -0.1304, -0.0906,  0.0448,  0.1573,  0.1949])),\n",
       "              ('rnn.bias_hh_l1',\n",
       "               tensor([-0.1333, -0.1054, -0.1095, -0.2856,  0.0503, -0.0595,  0.0756,  0.0322,\n",
       "                        0.0794, -0.0519, -0.2877,  0.0527, -0.1161, -0.0405,  0.0750, -0.0925,\n",
       "                       -0.0723, -0.0409,  0.0638, -0.1219,  0.0386, -0.2232,  0.0211, -0.0971,\n",
       "                       -0.0523, -0.2557, -0.0362, -0.0241, -0.2475, -0.0061,  0.2081, -0.0031,\n",
       "                       -0.1389, -0.0379, -0.1122, -0.0575, -0.0471, -0.0640,  0.1045, -0.1760,\n",
       "                       -0.0380, -0.0827,  0.0644, -0.0848, -0.1705,  0.0901, -0.1053, -0.0483,\n",
       "                       -0.0592, -0.0495, -0.0360, -0.1589, -0.0130, -0.0065,  0.0662,  0.0497,\n",
       "                       -0.0992, -0.2581, -0.0200, -0.1236, -0.0374,  0.0200, -0.0703, -0.1153,\n",
       "                       -0.1788,  0.0584,  0.0360,  0.1558,  0.2195,  0.0633, -0.0057, -0.0648,\n",
       "                       -0.0791, -0.1530,  0.1684, -0.0142, -0.2779,  0.1539, -0.0655,  0.0164,\n",
       "                        0.0457,  0.0301,  0.0477,  0.0834, -0.0309, -0.0295, -0.0254,  0.0630,\n",
       "                       -0.2962,  0.0588,  0.1503,  0.0830,  0.1000, -0.0057, -0.0088, -0.3401,\n",
       "                        0.0771,  0.0289, -0.0534,  0.1720,  0.0350,  0.1832, -0.0999,  0.1054,\n",
       "                        0.1030,  0.2322, -0.2503,  0.0215,  0.0290,  0.1022,  0.0553, -0.0950,\n",
       "                        0.0582, -0.0940, -0.0051,  0.1573, -0.1258, -0.4306, -0.2618, -0.1587,\n",
       "                        0.1104,  0.1996,  0.0942, -0.0329,  0.1495, -0.0144, -0.0409, -0.1947,\n",
       "                        0.0996,  0.0147,  0.0693,  0.0037,  0.1586,  0.1241,  0.1140,  0.1022,\n",
       "                       -0.2616, -0.0173,  0.0255,  0.0772,  0.1188,  0.2207, -0.0051, -0.1051,\n",
       "                        0.0157,  0.1594, -0.0395, -0.0121, -0.0189,  0.1303,  0.0705, -0.0711,\n",
       "                       -0.0867,  0.0054,  0.1099,  0.1275,  0.1019,  0.1224,  0.2615, -0.0660,\n",
       "                       -0.0156,  0.0083,  0.2461, -0.0210,  0.0699,  0.0328, -0.3255,  0.0111,\n",
       "                       -0.0733,  0.1188, -0.0312, -0.0412, -0.0050,  0.0570,  0.2266,  0.1694,\n",
       "                        0.0316,  0.0524, -0.0813,  0.0340, -0.1373,  0.1744,  0.1045,  0.2884,\n",
       "                       -0.0511,  0.0117,  0.0478,  0.0917, -0.0522, -0.1058,  0.0210,  0.0627]))])}"
      ]
     },
     "execution_count": 34,
     "metadata": {},
     "output_type": "execute_result"
    }
   ],
   "source": [
    "checkpoint = torch.load('./models/rnn_w_spcnt.pt')\n",
    "checkpoint"
   ]
  },
  {
   "cell_type": "code",
   "execution_count": null,
   "metadata": {},
   "outputs": [],
   "source": []
  }
 ],
 "metadata": {
  "kernelspec": {
   "display_name": "Python 3",
   "language": "python",
   "name": "python3"
  },
  "language_info": {
   "codemirror_mode": {
    "name": "ipython",
    "version": 3
   },
   "file_extension": ".py",
   "mimetype": "text/x-python",
   "name": "python",
   "nbconvert_exporter": "python",
   "pygments_lexer": "ipython3",
   "version": "3.6.9"
  }
 },
 "nbformat": 4,
 "nbformat_minor": 5
}
