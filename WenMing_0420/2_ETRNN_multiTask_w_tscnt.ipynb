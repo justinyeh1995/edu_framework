{
 "cells": [
  {
   "cell_type": "code",
   "execution_count": 1,
   "metadata": {},
   "outputs": [],
   "source": [
    "import os\n",
    "import numpy as np\n",
    "import pandas as pd\n",
    "from time import time\n",
    "from tqdm.notebook import tqdm\n",
    "from sklearn.preprocessing import MinMaxScaler\n",
    "\n",
    "%matplotlib inline\n",
    "import matplotlib.pyplot as plt\n",
    "import seaborn as sns"
   ]
  },
  {
   "cell_type": "code",
   "execution_count": 2,
   "metadata": {},
   "outputs": [],
   "source": [
    "import copy\n",
    "import torch\n",
    "from torch import nn\n",
    "from torch.utils.data import DataLoader, TensorDataset\n",
    "from sklearn.metrics import mean_squared_error, mean_absolute_error, median_absolute_error\n",
    "from sklearn.metrics import confusion_matrix, accuracy_score, recall_score, precision_score, f1_score"
   ]
  },
  {
   "cell_type": "code",
   "execution_count": 3,
   "metadata": {},
   "outputs": [],
   "source": [
    "import torch\n",
    "from torch import nn\n",
    "from torch.autograd import Variable\n",
    "\n",
    "class ET_Rnn(torch.nn.Module):\n",
    "    def __init__(self, dense_dims, sparse_dims, hidden_dims, n_layers=1, use_chid=True, cell='GRU', bi=False, dropout=0, device='cpu'):\n",
    "        super(ET_Rnn, self).__init__()\n",
    "        self.hidden_dims = hidden_dims\n",
    "        self.n_layers = n_layers\n",
    "        self.cell = cell\n",
    "        self.use_chid = use_chid\n",
    "        self.device = device\n",
    "        self.bi = bi\n",
    "        \n",
    "        self.embedding_list = nn.ModuleList([nn.Embedding(fd, ed, padding_idx=0) for fd, ed in sparse_dims])\n",
    "        \n",
    "        if use_chid: \n",
    "            rnn_in_dim = dense_dims + sum([ed for fd, ed in sparse_dims[1:]])   \n",
    "            self.out_dim = hidden_dims*(bi+1) + sparse_dims[0][1] # chid embed dim\n",
    "            self.user_layer = nn.Linear(sparse_dims[0][1], sparse_dims[0][1]) \n",
    "            \n",
    "        else:\n",
    "            rnn_in_dim = dense_dims + sum([ed for fd, ed in sparse_dims[:]])\n",
    "            self.out_dim = hidden_dims*(bi+1)\n",
    "        \n",
    "        if self.cell == 'LSTM':\n",
    "            self.rnn = nn.LSTM(rnn_in_dim, hidden_dims, n_layers, batch_first=True, bidirectional=bi, dropout=dropout)\n",
    "        elif self.cell == 'GRU':\n",
    "            self.rnn = nn.GRU(rnn_in_dim, hidden_dims, n_layers, batch_first=True, bidirectional=bi, dropout=dropout)    \n",
    "        \n",
    "        self.init_embedding()\n",
    "        \n",
    "    def init_embedding(self):\n",
    "        for embed in self.embedding_list:\n",
    "            embed.reset_parameters()\n",
    "\n",
    "    def init_hidden(self, x):\n",
    "        if self.cell == 'LSTM':\n",
    "            hidden = Variable(torch.zeros(self.n_layers*(self.bi+1), x.size(0), self.hidden_dims)).to(self.device)\n",
    "            context = Variable(torch.zeros(self.n_layers*(self.bi+1), x.size(0), self.hidden_dims)).to(self.device)\n",
    "            ret = (hidden, context)\n",
    "        elif self.cell == 'GRU':\n",
    "            hidden = Variable(torch.zeros(self.n_layers*(self.bi+1), x.size(0), self.hidden_dims)).to(self.device)\n",
    "            ret = hidden\n",
    "        \n",
    "        return ret\n",
    "            \n",
    "    def forward(self, x_dense, x_sparse):\n",
    "        if self.use_chid:\n",
    "            x = torch.cat([x_dense]+[embed(x_sparse[:, :, i+1]) for i, embed in enumerate(self.embedding_list[1:])], dim=-1)            \n",
    "        else:\n",
    "            x = torch.cat([x_dense]+[embed(x_sparse[:, :, i]) for i, embed in enumerate(self.embedding_list[:])], dim=-1)\n",
    "        \n",
    "        self.hidden = self.init_hidden(x)\n",
    "        logits, self.hidden = self.rnn(x, self.hidden)\n",
    "        \n",
    "        if self.use_chid:\n",
    "            user_embed = self.user_layer(self.embedding_list[0](x_sparse[:,0,0]))\n",
    "            last_logits = torch.cat([logits[:, -1], user_embed], dim=-1)\n",
    "        else:\n",
    "            last_logits = logits[:, -1]\n",
    "        \n",
    "        return last_logits"
   ]
  },
  {
   "cell_type": "code",
   "execution_count": 4,
   "metadata": {},
   "outputs": [],
   "source": [
    "class MLP(nn.Module):\n",
    "    def __init__(self, input_dims, hidden_dims=[1], out_dim=1):\n",
    "        super(MLP, self).__init__()\n",
    "        hidden_dims = [input_dims] + hidden_dims\n",
    "        \n",
    "        self.layers = nn.Sequential(*[\n",
    "            nn.Sequential(\n",
    "                nn.Linear(idim, odim), \n",
    "                nn.ReLU()\n",
    "            ) for idim, odim in zip(hidden_dims[:-1], hidden_dims[1:])\n",
    "        ])\n",
    "        \n",
    "        self.out_layer = nn.Linear(hidden_dims[-1], out_dim)\n",
    "                   \n",
    "    def forward(self, x):\n",
    "        out = self.layers(x)\n",
    "        out = self.out_layer(out)\n",
    "        \n",
    "        return out"
   ]
  },
  {
   "cell_type": "code",
   "execution_count": 5,
   "metadata": {},
   "outputs": [],
   "source": [
    "class MultiTaskModel(nn.Module):\n",
    "    def __init__(self, dense_dims, sparse_dims, hidden_dims, out_dims=[1], n_layers=1, use_chid=True, cell='GRU', bi=False, dropout=0, device='cpu'):\n",
    "        super(MultiTaskModel, self).__init__()\n",
    "        self.rnn = ET_Rnn(dense_dims, sparse_dims, hidden_dims, n_layers=n_layers, use_chid=use_chid, \n",
    "                          cell=cell, bi=bi, dropout=dropout, device=device)\n",
    "        \n",
    "        self.mlps = nn.ModuleList([MLP(self.rnn.out_dim, hidden_dims=[self.rnn.out_dim//2], out_dim=od) for od in out_dims])\n",
    "        \n",
    "    def forward(self, x_dense, x_sparse):\n",
    "        logits = self.rnn(x_dense, x_sparse)\n",
    "        outs = [mlp(logits)for mlp in self.mlps]\n",
    "        \n",
    "        return outs        "
   ]
  },
  {
   "cell_type": "code",
   "execution_count": 6,
   "metadata": {},
   "outputs": [],
   "source": [
    "class Trainer:\n",
    "    def __init__(self, model, optimizer, device='cpu'):\n",
    "        self.model = model.to(device)\n",
    "        self.criterion_reg = nn.MSELoss()\n",
    "        self.criterion_clf = nn.CrossEntropyLoss()\n",
    "        self.optimizer = optimizer\n",
    "        self.device = device\n",
    "        \n",
    "    def fit(self, train_loader, test_loader=None, epoch=1, early_stop=-1, scaler=None):\n",
    "        history = {\n",
    "            'train': [], \n",
    "            'test': []\n",
    "        }\n",
    "        \n",
    "        best_eval = 9e9\n",
    "        early_cnt = 0\n",
    "        best_model_params = copy.deepcopy(self.model.state_dict())\n",
    "        \n",
    "        for ep in tqdm(range(epoch)):\n",
    "            #print('Epoch:{}'.format(ep+1))\n",
    "            \n",
    "            self.model.train()\n",
    "            for batch in train_loader:\n",
    "                loss = 0\n",
    "                self.optimizer.zero_grad()\n",
    "                \n",
    "                batch = [b.to(self.device) for b in batch]\n",
    "                x_dense, x_sparse = batch[:2]\n",
    "                task = batch[2:]\n",
    "                \n",
    "                #x_dense, x_sparse, task_0, task_1, task_2, task_3 = [b.to(self.device) for b in batch]\n",
    "                \n",
    "                outputs = self.model(x_dense, x_sparse)\n",
    "                \n",
    "                reg_num = 2\n",
    "                for i in range(reg_num):\n",
    "                    loss += self.criterion_reg(outputs[i], task[i])\n",
    "                for i in range(reg_num, 4):\n",
    "                    loss += self.criterion_clf(outputs[i], task[i])\n",
    "\n",
    "                loss.backward()\n",
    "                self.optimizer.step()\n",
    "                \n",
    "            train_result, _, _ = self.evaluate(train_loader)\n",
    "            history['train'].append(train_result)\n",
    "            #print('\\ttrain\\t'+' '.join(['{}:{:.2f}'.format(k, v) for k, v in train_result.items()]))\n",
    "            \n",
    "            if test_loader:\n",
    "                test_result, _, _ = self.evaluate(test_loader)\n",
    "                history['test'].append(test_result)\n",
    "                \n",
    "                if ep%5 == 0 or ep == epoch-1:\n",
    "                    print('Epoch:{}'.format(ep+1))\n",
    "                    print('\\ttest\\t'+' '.join(['{}:{:.3f}'.format(k, v) for k, v in test_result.items()]))\n",
    "\n",
    "                if test_result['total_loss'] < best_eval:\n",
    "                    early_cnt = 0\n",
    "                    best_eval = test_result['total_loss']\n",
    "                    best_model_params = copy.deepcopy(self.model.state_dict())\n",
    "                    #print('\\tbetter!')\n",
    "\n",
    "                elif early_stop > 0:\n",
    "                    early_cnt += 1\n",
    "\n",
    "            if early_stop > 0 and early_cnt >= early_stop:\n",
    "                break\n",
    "        \n",
    "        self.model.load_state_dict(best_model_params)\n",
    "        \n",
    "        return history\n",
    "        \n",
    "    def evaluate(self, loader):\n",
    "        true_list = [[] for i in range(4)]\n",
    "        pred_list = [[] for i in range(4)]\n",
    "        total_loss = 0\n",
    "        loss_list = [0]*4\n",
    "        reg_num = 2\n",
    "        \n",
    "        self.model.eval()\n",
    "        for batch in loader:\n",
    "            batch = [b.to(self.device) for b in batch]\n",
    "            x_dense, x_sparse = batch[:2]\n",
    "            task = batch[2:]\n",
    "            \n",
    "            outputs = self.model(x_dense, x_sparse)         \n",
    "            \n",
    "            for i, (y, output) in enumerate(zip(task, outputs)):\n",
    "                true_list[i].append(y.cpu().detach().numpy())\n",
    "                pred_list[i].append(output.cpu().detach().numpy())\n",
    "                \n",
    "                if i < reg_num:\n",
    "                    batch_loss = self.criterion_reg(output, y).cpu().detach().item() * y.shape[0]\n",
    "                else:\n",
    "                    batch_loss = self.criterion_clf(output, y).cpu().detach().item() * y.shape[0]\n",
    "                    \n",
    "                total_loss += batch_loss\n",
    "                loss_list[i] += batch_loss\n",
    "\n",
    "        for i in range(reg_num):\n",
    "            true_list[i] = np.expm1(np.concatenate(true_list[i], axis=0))\n",
    "            pred_list[i] = np.expm1(np.concatenate(pred_list[i], axis=0))\n",
    "            \n",
    "        for i in range(reg_num, 4):\n",
    "            true_list[i] = np.concatenate(true_list[i], axis=0).reshape(-1, 1)\n",
    "            pred_list[i] = np.argmax(np.concatenate(pred_list[i], axis=0), axis=1).reshape(-1, 1)                         \n",
    "        \n",
    "        # objsum, tscnt, spcnt, label_0, label_mul\n",
    "        result = {\n",
    "            'total_loss': total_loss/len(loader.dataset), \n",
    "            'objsum': mean_squared_error(true_list[0], pred_list[0], squared=False), \n",
    "            'spcnt': mean_squared_error(true_list[1], pred_list[1], squared=False), \n",
    "            'label_0': accuracy_score(true_list[2], pred_list[2]), \n",
    "            'label_mul': accuracy_score(true_list[3], pred_list[3]),\n",
    "        }\n",
    "        \n",
    "        return result, true_list, pred_list"
   ]
  },
  {
   "cell_type": "code",
   "execution_count": 7,
   "metadata": {},
   "outputs": [
    {
     "name": "stdout",
     "output_type": "stream",
     "text": [
      "(1033871, 120, 14) (100000, 120, 14) (1033871, 7) (100000, 7) 50000\n",
      "[('bnsfg', 2), ('iterm', 15), ('mcc', 507), ('scity', 11074), ('stonc_tag', 49), ('stonc_label', 202387), ('stonm_label', 212342), ('stonc_6_label', 78560), ('stonc_10_label', 128075)] [('masts', 3), ('educd', 6), ('trdtp', 27), ('poscd', 9)]\n"
     ]
    }
   ],
   "source": [
    "sample_path = './data/sample_50k'\n",
    "\n",
    "x_train = np.load(os.path.join(sample_path, 'RNN', 'x_train.npy'), allow_pickle=True)\n",
    "x_test = np.load(os.path.join(sample_path, 'RNN', 'x_test.npy'), allow_pickle=True)\n",
    "\n",
    "#f_train = np.load(os.path.join(sample_path, 'RNN', 'f_train.npy'), allow_pickle=True)\n",
    "#f_test = np.load(os.path.join(sample_path, 'RNN', 'f_test.npy'), allow_pickle=True)\n",
    "\n",
    "Y_train = np.load(os.path.join(sample_path, 'RNN', 'y_train.npy'), allow_pickle=True)\n",
    "Y_test = np.load(os.path.join(sample_path, 'RNN', 'y_test.npy'), allow_pickle=True)\n",
    "\n",
    "chid_mapper = np.load(os.path.join(sample_path, 'sample_50k_chid_idx_map.npy'), allow_pickle=True).item()\n",
    "feat_mapper = np.load(os.path.join(sample_path, 'RNN', 'feature_map.npy'), allow_pickle=True).item()\n",
    "cust_feature_map = np.load(os.path.join(sample_path, 'RNN', 'cust_feature_map.npy'), allow_pickle=True).item()\n",
    "\n",
    "columns = np.load(os.path.join(sample_path, 'RNN', 'columns.npy'), allow_pickle=True).item()\n",
    "\n",
    "print(x_train.shape, x_test.shape, Y_train.shape, Y_test.shape, len(chid_mapper))\n",
    "print([(k, len(v)) for k, v in feat_mapper.items()], [(k, len(v)) for k, v in cust_feature_map.items()])"
   ]
  },
  {
   "cell_type": "code",
   "execution_count": 8,
   "metadata": {
    "scrolled": true
   },
   "outputs": [
    {
     "name": "stdout",
     "output_type": "stream",
     "text": [
      "['chid', 'bnsfg', 'iterm', 'mcc', 'scity', 'stonc_tag', 'stonc_label', 'stonm_label', 'stonc_6_label', 'stonc_10_label', 'bnspt', 'timestamp_0', 'timestamp_1', 'objam']\n",
      "['chid', 'bnsfg', 'iterm', 'mcc', 'scity', 'stonc_tag', 'stonc_label', 'stonm_label', 'stonc_6_label', 'stonc_10_label'] ['bnspt', 'timestamp_0', 'timestamp_1', 'objam']\n"
     ]
    }
   ],
   "source": [
    "category_cols = columns['x_columns'][:-4]\n",
    "numeric_cols = columns['x_columns'][-4:]\n",
    "\n",
    "print(columns['x_columns'])\n",
    "print(category_cols, numeric_cols)"
   ]
  },
  {
   "cell_type": "code",
   "execution_count": 9,
   "metadata": {},
   "outputs": [
    {
     "name": "stdout",
     "output_type": "stream",
     "text": [
      "['chid', 'data_dt', 'objam_sum', 'objam_mean', 'trans_count', 'shop_count', 'objam_mean_M3_diff']\n"
     ]
    }
   ],
   "source": [
    "print(columns['y_columns'])"
   ]
  },
  {
   "cell_type": "code",
   "execution_count": 10,
   "metadata": {},
   "outputs": [],
   "source": [
    "# regession\n",
    "index = columns['y_columns'].index('objam_sum')\n",
    "train_objsum = Y_train[:, [index]].astype(np.float64)\n",
    "test_objsum = Y_test[:, [index]].astype(np.float64)\n",
    "\n",
    "#index = columns['y_columns'].index('objam_mean')\n",
    "#train_objmean = Y_train[:, [index]].astype(np.float64)\n",
    "#test_objmean = Y_test[:, [index]].astype(np.float64)\n",
    "\n",
    "index = columns['y_columns'].index('trans_count')\n",
    "train_tscnt = Y_train[:, [index]].astype(np.float64)\n",
    "test_tscnt = Y_test[:, [index]].astype(np.float64)\n",
    "\n",
    "index = columns['y_columns'].index('shop_count')\n",
    "train_spcnt = Y_train[:, [index]].astype(np.float64)\n",
    "test_spcnt = Y_test[:, [index]].astype(np.float64)"
   ]
  },
  {
   "cell_type": "code",
   "execution_count": 11,
   "metadata": {},
   "outputs": [
    {
     "name": "stdout",
     "output_type": "stream",
     "text": [
      "6 6 (1033871, 1) (100000, 1)\n"
     ]
    }
   ],
   "source": [
    "#classfication\n",
    "bounds = [0]\n",
    "lable_trans = np.vectorize(lambda x: sum([x > bound for bound in bounds]))\n",
    "\n",
    "train_label_0 = lable_trans(train_objsum)\n",
    "test_label_0 = lable_trans(test_objsum)\n",
    "\n",
    "bounds = [0, 1e4, 5e4, 1e5, 3e5]\n",
    "lable_trans = np.vectorize(lambda x: sum([x > bound for bound in bounds]))\n",
    "train_label_mul = lable_trans(train_objsum)\n",
    "test_label_mul = lable_trans(test_objsum)\n",
    "\n",
    "print(np.unique(train_label_mul).shape[0], np.unique(test_label_mul).shape[0], train_label_mul.shape, test_label_mul.shape)"
   ]
  },
  {
   "cell_type": "code",
   "execution_count": 12,
   "metadata": {},
   "outputs": [],
   "source": [
    "# log transform\n",
    "train_objsum = np.log1p(train_objsum)\n",
    "test_objsum = np.log1p(test_objsum)\n",
    "\n",
    "#train_objmean = np.log1p(train_objmean)\n",
    "#test_objmean = np.log1p(test_objmean)\n",
    "\n",
    "train_tscnt = np.log1p(train_tscnt)\n",
    "test_tscnt = np.log1p(test_tscnt)\n",
    "\n",
    "train_spcnt = np.log1p(train_spcnt)\n",
    "test_spcnt = np.log1p(test_spcnt)"
   ]
  },
  {
   "cell_type": "code",
   "execution_count": 13,
   "metadata": {},
   "outputs": [
    {
     "data": {
      "image/png": "[encoded data removed]",
      "text/plain": [
       "<Figure size 288x288 with 1 Axes>"
      ]
     },
     "metadata": {},
     "output_type": "display_data"
    },
    {
     "data": {
      "image/png": "[encoded data removed]",
      "text/plain": [
       "<Figure size 288x288 with 1 Axes>"
      ]
     },
     "metadata": {},
     "output_type": "display_data"
    }
   ],
   "source": [
    "train_label_num = [np.sum(train_label_0 == label) for label in sorted(np.unique(train_label_0))]\n",
    "test_label_num = [np.sum(test_label_0 == label) for label in sorted(np.unique(train_label_0))]\n",
    "\n",
    "with sns.axes_style(\"darkgrid\"):\n",
    "    plt.figure(figsize=(4, 4))\n",
    "    sns.barplot(x=[0, 1], y=train_label_num)\n",
    "    plt.xticks(range(len(train_label_num)))\n",
    "    plt.show()\n",
    "    \n",
    "with sns.axes_style(\"darkgrid\"):\n",
    "    plt.figure(figsize=(4, 4))\n",
    "    sns.barplot(x=[0, 1], y=test_label_num)\n",
    "    plt.xticks(range(len(test_label_num)))\n",
    "    plt.show()"
   ]
  },
  {
   "cell_type": "code",
   "execution_count": 14,
   "metadata": {},
   "outputs": [
    {
     "data": {
      "image/png": "[encoded data removed]",
      "text/plain": [
       "<Figure size 288x288 with 1 Axes>"
      ]
     },
     "metadata": {},
     "output_type": "display_data"
    },
    {
     "data": {
      "image/png": "[encoded data removed]",
      "text/plain": [
       "<Figure size 288x288 with 1 Axes>"
      ]
     },
     "metadata": {},
     "output_type": "display_data"
    }
   ],
   "source": [
    "train_label_num = [np.sum(train_label_mul == label) for label in sorted(np.unique(train_label_mul))]\n",
    "test_label_num = [np.sum(test_label_mul == label) for label in sorted(np.unique(train_label_mul))]\n",
    "\n",
    "with sns.axes_style(\"darkgrid\"):\n",
    "    plt.figure(figsize=(4, 4))\n",
    "    sns.barplot(x=sorted(np.unique(train_label_mul)), y=train_label_num)\n",
    "    plt.xticks(range(len(train_label_num)))\n",
    "    plt.show()\n",
    "    \n",
    "with sns.axes_style(\"darkgrid\"):\n",
    "    plt.figure(figsize=(4, 4))\n",
    "    sns.barplot(x=sorted(np.unique(train_label_mul)), y=test_label_num)\n",
    "    plt.xticks(range(len(test_label_num)))\n",
    "    plt.show()"
   ]
  },
  {
   "cell_type": "code",
   "execution_count": 15,
   "metadata": {},
   "outputs": [
    {
     "name": "stdout",
     "output_type": "stream",
     "text": [
      "['chid', 'bnsfg', 'iterm', 'mcc', 'scity'] [('bnsfg', 2), ('iterm', 15), ('mcc', 507), ('scity', 11074)]\n"
     ]
    }
   ],
   "source": [
    "sparse_feat = category_cols[:5]#+['stonc_tag', 'stonc_6_label']\n",
    "dense_feat = numeric_cols\n",
    "\n",
    "keys = list(feat_mapper.keys())\n",
    "for key in keys:\n",
    "    if key not in sparse_feat:\n",
    "        del feat_mapper[key]\n",
    "\n",
    "print(sparse_feat, [(k, len(v)) for k, v in feat_mapper.items()])"
   ]
  },
  {
   "cell_type": "code",
   "execution_count": 16,
   "metadata": {},
   "outputs": [
    {
     "data": {
      "text/plain": [
       "(4, [(50001, 64), (3, 16), (16, 16), (508, 16), (11075, 16)], [0, 1, 2, 3, 4])"
      ]
     },
     "execution_count": 16,
     "metadata": {},
     "output_type": "execute_result"
    }
   ],
   "source": [
    "USE_CHID = True\n",
    "idx_start = 1-int(USE_CHID)\n",
    "sparse_index = [category_cols.index(feat) for feat in sparse_feat][idx_start:]\n",
    "\n",
    "chid_embed_dim = 64\n",
    "feat_embed_dim = 16\n",
    "\n",
    "dense_dims = len(dense_feat) # number of dense feature\n",
    "feat_dims = np.array([len(chid_mapper)] + [len(v) for v in feat_mapper.values()])+1 # 0 is padding index, so add 1 dims\n",
    "embed_dims = [chid_embed_dim]+[feat_embed_dim]*len(feat_mapper) # dims of chid and other sparse feature\n",
    "\n",
    "sparse_dims = [(fd, ed) for fd, ed in zip(feat_dims[idx_start:], embed_dims[idx_start:])]\n",
    "\n",
    "dense_dims, sparse_dims, sparse_index"
   ]
  },
  {
   "cell_type": "code",
   "execution_count": 17,
   "metadata": {},
   "outputs": [],
   "source": [
    "# x_data\n",
    "w_size = x_train.shape[1]\n",
    "\n",
    "x_scaler = MinMaxScaler(feature_range=(0, 1))\n",
    "\n",
    "x_train_dense = x_train[:, -w_size:, len(category_cols):].astype(np.float64) # split dense feature\n",
    "x_train_sparse = x_train[:, -w_size:, sparse_index].astype(np.int64) # split sparse feature\n",
    "\n",
    "x_train_dense = np.log1p(x_train_dense - x_train_dense.min(axis=0))\n",
    "x_train_dense = x_scaler.fit_transform(x_train_dense.reshape(-1, x_train_dense.shape[-1])).reshape(x_train_dense.shape)\n",
    "\n",
    "x_test_dense = x_test[:, -w_size:, len(category_cols):].astype(np.float64)\n",
    "x_test_sparse = x_test[:, -w_size:, sparse_index].astype(np.int64) \n",
    "\n",
    "x_test_dense = np.log1p(x_test_dense - x_test_dense.min(axis=0))\n",
    "x_test_dense = x_scaler.transform(x_test_dense.reshape(-1, x_test_dense.shape[-1])).reshape(x_test_dense.shape)"
   ]
  },
  {
   "cell_type": "code",
   "execution_count": 18,
   "metadata": {},
   "outputs": [
    {
     "name": "stdout",
     "output_type": "stream",
     "text": [
      "(1033871, 120, 4) (1033871, 120, 5)\n",
      "(100000, 120, 4) (100000, 120, 5)\n"
     ]
    }
   ],
   "source": [
    "print(x_train_dense.shape, x_train_sparse.shape)\n",
    "print(x_test_dense.shape, x_test_sparse.shape)"
   ]
  },
  {
   "cell_type": "code",
   "execution_count": 19,
   "metadata": {},
   "outputs": [],
   "source": [
    "# train_objsum\n",
    "# test_objsum\n",
    "\n",
    "# train_tscnt\n",
    "# test_tscnt\n",
    "\n",
    "# train_spcnt\n",
    "# test_spcnt\n",
    "\n",
    "# train_label_0\n",
    "# test_label_0\n",
    "\n",
    "# train_label_mul\n",
    "# test_label_mul"
   ]
  },
  {
   "cell_type": "code",
   "execution_count": 20,
   "metadata": {},
   "outputs": [],
   "source": [
    "batch_size = 2048\n",
    "\n",
    "train_dataset = TensorDataset(torch.FloatTensor(x_train_dense), torch.LongTensor(x_train_sparse), \n",
    "                              torch.FloatTensor(train_objsum), torch.FloatTensor(train_spcnt), \n",
    "                              torch.LongTensor(train_label_0.flatten()), torch.LongTensor(train_label_mul.flatten()))\n",
    "\n",
    "train_loader = DataLoader(dataset=train_dataset, shuffle=True, batch_size=batch_size, num_workers=8)\n",
    "\n",
    "test_dataset = TensorDataset(torch.FloatTensor(x_test_dense), torch.LongTensor(x_test_sparse), \n",
    "                             torch.FloatTensor(test_objsum), torch.FloatTensor(test_spcnt), \n",
    "                             torch.LongTensor(test_label_0.flatten()), torch.LongTensor(test_label_mul.flatten()))\n",
    "\n",
    "test_loader = DataLoader(dataset=test_dataset, shuffle=False, batch_size=batch_size, num_workers=8)"
   ]
  },
  {
   "cell_type": "code",
   "execution_count": 21,
   "metadata": {
    "scrolled": false
   },
   "outputs": [
    {
     "name": "stdout",
     "output_type": "stream",
     "text": [
      "cuda:1\n"
     ]
    },
    {
     "data": {
      "text/plain": [
       "MultiTaskModel(\n",
       "  (rnn): ET_Rnn(\n",
       "    (embedding_list): ModuleList(\n",
       "      (0): Embedding(50001, 64, padding_idx=0)\n",
       "      (1): Embedding(3, 16, padding_idx=0)\n",
       "      (2): Embedding(16, 16, padding_idx=0)\n",
       "      (3): Embedding(508, 16, padding_idx=0)\n",
       "      (4): Embedding(11075, 16, padding_idx=0)\n",
       "    )\n",
       "    (user_layer): Linear(in_features=64, out_features=64, bias=True)\n",
       "    (rnn): GRU(68, 64, num_layers=2, batch_first=True, dropout=0.1)\n",
       "  )\n",
       "  (mlps): ModuleList(\n",
       "    (0): MLP(\n",
       "      (layers): Sequential(\n",
       "        (0): Sequential(\n",
       "          (0): Linear(in_features=128, out_features=64, bias=True)\n",
       "          (1): ReLU()\n",
       "        )\n",
       "      )\n",
       "      (out_layer): Linear(in_features=64, out_features=1, bias=True)\n",
       "    )\n",
       "    (1): MLP(\n",
       "      (layers): Sequential(\n",
       "        (0): Sequential(\n",
       "          (0): Linear(in_features=128, out_features=64, bias=True)\n",
       "          (1): ReLU()\n",
       "        )\n",
       "      )\n",
       "      (out_layer): Linear(in_features=64, out_features=1, bias=True)\n",
       "    )\n",
       "    (2): MLP(\n",
       "      (layers): Sequential(\n",
       "        (0): Sequential(\n",
       "          (0): Linear(in_features=128, out_features=64, bias=True)\n",
       "          (1): ReLU()\n",
       "        )\n",
       "      )\n",
       "      (out_layer): Linear(in_features=64, out_features=2, bias=True)\n",
       "    )\n",
       "    (3): MLP(\n",
       "      (layers): Sequential(\n",
       "        (0): Sequential(\n",
       "          (0): Linear(in_features=128, out_features=64, bias=True)\n",
       "          (1): ReLU()\n",
       "        )\n",
       "      )\n",
       "      (out_layer): Linear(in_features=64, out_features=6, bias=True)\n",
       "    )\n",
       "  )\n",
       ")"
      ]
     },
     "execution_count": 21,
     "metadata": {},
     "output_type": "execute_result"
    }
   ],
   "source": [
    "device = torch.device('cuda:1' if torch.cuda.is_available() else 'cpu')\n",
    "out_dims = [1, 1, 2, 6]\n",
    "\n",
    "model = MultiTaskModel(dense_dims, sparse_dims, hidden_dims=64, out_dims=out_dims, n_layers=2, \n",
    "                       use_chid=USE_CHID, cell='GRU', bi=False, dropout=0.1, device=device)\n",
    "optimizer = torch.optim.AdamW(model.parameters(), lr=2e-3)\n",
    "\n",
    "print(device)\n",
    "model"
   ]
  },
  {
   "cell_type": "code",
   "execution_count": 22,
   "metadata": {
    "scrolled": false
   },
   "outputs": [
    {
     "data": {
      "application/vnd.jupyter.widget-view+json": {
       "model_id": "45892d61555441aabdc80752a9da252c",
       "version_major": 2,
       "version_minor": 0
      },
      "text/plain": [
       "HBox(children=(HTML(value=''), FloatProgress(value=0.0), HTML(value='')))"
      ]
     },
     "metadata": {},
     "output_type": "display_data"
    },
    {
     "name": "stdout",
     "output_type": "stream",
     "text": [
      "Epoch:1\n",
      "\ttest\ttotal_loss:13.053 objsum:605902.938 spcnt:2.965 label_0:0.850 label_mul:0.513\n",
      "Epoch:6\n",
      "\ttest\ttotal_loss:12.654 objsum:523828.875 spcnt:2.391 label_0:0.853 label_mul:0.536\n",
      "Epoch:11\n",
      "\ttest\ttotal_loss:12.560 objsum:529684.875 spcnt:2.432 label_0:0.854 label_mul:0.538\n",
      "Epoch:16\n",
      "\ttest\ttotal_loss:12.608 objsum:553475.250 spcnt:2.466 label_0:0.854 label_mul:0.542\n",
      "Epoch:21\n",
      "\ttest\ttotal_loss:12.617 objsum:561279.312 spcnt:2.426 label_0:0.853 label_mul:0.540\n",
      "Epoch:26\n",
      "\ttest\ttotal_loss:12.952 objsum:478565.250 spcnt:2.352 label_0:0.852 label_mul:0.539\n",
      "Epoch:31\n",
      "\ttest\ttotal_loss:12.965 objsum:507786.500 spcnt:2.394 label_0:0.850 label_mul:0.538\n",
      "\n",
      "cost: 4122.59\n"
     ]
    }
   ],
   "source": [
    "t0 = time()\n",
    "trainer = Trainer(model, optimizer, device)\n",
    "history = trainer.fit(train_loader, test_loader, epoch=100, early_stop=20)\n",
    "t1 = time()\n",
    "\n",
    "print('cost: {:.2f}'.format(t1 - t0))"
   ]
  },
  {
   "cell_type": "code",
   "execution_count": 23,
   "metadata": {},
   "outputs": [
    {
     "data": {
      "image/png": "[encoded data removed]",
      "text/plain": [
       "<Figure size 576x288 with 1 Axes>"
      ]
     },
     "metadata": {},
     "output_type": "display_data"
    },
    {
     "data": {
      "image/png": "[encoded data removed]",
      "text/plain": [
       "<Figure size 576x288 with 1 Axes>"
      ]
     },
     "metadata": {},
     "output_type": "display_data"
    },
    {
     "data": {
      "image/png": "[encoded data removed]",
      "text/plain": [
       "<Figure size 576x288 with 1 Axes>"
      ]
     },
     "metadata": {},
     "output_type": "display_data"
    },
    {
     "data": {
      "image/png": "[encoded data removed]",
      "text/plain": [
       "<Figure size 576x288 with 1 Axes>"
      ]
     },
     "metadata": {},
     "output_type": "display_data"
    }
   ],
   "source": [
    "df_history = pd.DataFrame(history['test'])\n",
    "\n",
    "# objsum, tscnt, spcnt, label_0, label_mul\n",
    "cols = ['objsum', 'spcnt', 'label_0', 'label_mul']\n",
    "\n",
    "for show in cols:\n",
    "    with sns.axes_style(\"darkgrid\"):\n",
    "        plt.figure(figsize=(8, 4))\n",
    "        sns.lineplot(data=pd.DataFrame(df_history[show]))\n",
    "        plt.show()"
   ]
  },
  {
   "cell_type": "code",
   "execution_count": 24,
   "metadata": {
    "scrolled": true
   },
   "outputs": [
    {
     "name": "stdout",
     "output_type": "stream",
     "text": [
      "train\ttotal_loss:13.8971 objsum:827796.2500 spcnt:2.0128 label_0:0.8334 label_mul:0.5357\n",
      "test\ttotal_loss:12.5605 objsum:529684.8750 spcnt:2.4318 label_0:0.8544 label_mul:0.5382\n"
     ]
    }
   ],
   "source": [
    "train_result, train_true_list, train_pred_list = trainer.evaluate(train_loader)\n",
    "test_result, test_true_list, test_pred_list = trainer.evaluate(test_loader)\n",
    "\n",
    "print('train\\t'+' '.join(['{}:{:.4f}'.format(k, v) for k, v in train_result.items()]))\n",
    "print('test\\t'+' '.join(['{}:{:.4f}'.format(k, v) for k, v in test_result.items()]))"
   ]
  },
  {
   "cell_type": "code",
   "execution_count": 28,
   "metadata": {},
   "outputs": [
    {
     "data": {
      "image/png": "[encoded data removed]",
      "text/plain": [
       "<Figure size 432x432 with 2 Axes>"
      ]
     },
     "metadata": {},
     "output_type": "display_data"
    },
    {
     "name": "stdout",
     "output_type": "stream",
     "text": [
      "-1 {'AccuracyScore': 0.5382, 'RecallScore': 0.4247, 'PrecisionScore': 0.4965, 'F1Score': 0.4375}\n"
     ]
    },
    {
     "data": {
      "image/png": "[encoded data removed]",
      "text/plain": [
       "<Figure size 432x432 with 2 Axes>"
      ]
     },
     "metadata": {},
     "output_type": "display_data"
    },
    {
     "name": "stdout",
     "output_type": "stream",
     "text": [
      "-2 {'AccuracyScore': 0.8544, 'RecallScore': 0.8156, 'PrecisionScore': 0.8292, 'F1Score': 0.8218}\n"
     ]
    }
   ],
   "source": [
    "label_num = 2\n",
    "\n",
    "for i in range(1, label_num+1):\n",
    "    cf_matrix = confusion_matrix(test_true_list[-i].reshape(-1, 1), test_pred_list[-i].reshape(-1, 1), normalize='true')\n",
    "    \n",
    "    with sns.axes_style(\"darkgrid\"):\n",
    "        plt.figure(figsize=(6, 6))\n",
    "        ax = sns.heatmap(cf_matrix, linewidths=.01, annot=True)\n",
    "        ax.set_xlabel('Predict', fontsize=16)\n",
    "        ax.set_ylabel('True', fontsize=16)\n",
    "        plt.show()    \n",
    "\n",
    "        scores = {\n",
    "            'AccuracyScore': round(accuracy_score(test_true_list[-i], test_pred_list[-i]), 4), \n",
    "            'RecallScore': round(recall_score(test_true_list[-i], test_pred_list[-i], average='macro'), 4),\n",
    "            'PrecisionScore': round(precision_score(test_true_list[-i], test_pred_list[-i], average='macro'), 4),\n",
    "            'F1Score': round(f1_score(test_true_list[-i], test_pred_list[-i], average='macro'), 4),\n",
    "        }        \n",
    "        \n",
    "        print(-i, scores)"
   ]
  },
  {
   "cell_type": "code",
   "execution_count": 30,
   "metadata": {},
   "outputs": [],
   "source": [
    "torch.save({\n",
    "    'dense_dims': dense_dims,\n",
    "    'sparse_dims': sparse_dims,\n",
    "    'hidden_dims': 64,\n",
    "    'n_layers': 2,\n",
    "    'use_chid': True,\n",
    "    'cell': 'GRU',\n",
    "    'bi': False,\n",
    "    'dropout': 0.1,\n",
    "    'model_state_dict': model.rnn.cpu().state_dict()\n",
    "}, './models/rnn_w_tscnt.pt')"
   ]
  },
  {
   "cell_type": "code",
   "execution_count": 31,
   "metadata": {},
   "outputs": [
    {
     "data": {
      "text/plain": [
       "{'dense_dims': 4,\n",
       " 'sparse_dims': [(50001, 64), (3, 16), (16, 16), (508, 16), (11075, 16)],\n",
       " 'hidden_dims': 64,\n",
       " 'n_layers': 2,\n",
       " 'use_chid': True,\n",
       " 'cell': 'GRU',\n",
       " 'bi': False,\n",
       " 'dropout': 0.1,\n",
       " 'model_state_dict': OrderedDict([('embedding_list.0.weight',\n",
       "               tensor([[ 0.0000,  0.0000,  0.0000,  ...,  0.0000,  0.0000,  0.0000],\n",
       "                       [ 0.3694,  0.7330,  0.6144,  ...,  0.8600, -0.0381, -0.5666],\n",
       "                       [ 1.5416, -0.7342,  0.3087,  ..., -0.1123,  0.6113, -0.4279],\n",
       "                       ...,\n",
       "                       [ 0.9420, -1.9061,  0.8712,  ..., -0.0880, -0.1817, -0.7031],\n",
       "                       [-1.1072, -0.0430, -0.1897,  ..., -0.8662, -0.0513,  0.5478],\n",
       "                       [-0.0475,  0.4967,  1.2249,  ...,  0.0070,  0.5038, -0.9147]])),\n",
       "              ('embedding_list.1.weight',\n",
       "               tensor([[ 0.0000e+00,  0.0000e+00,  0.0000e+00,  0.0000e+00,  0.0000e+00,\n",
       "                         0.0000e+00,  0.0000e+00,  0.0000e+00,  0.0000e+00,  0.0000e+00,\n",
       "                         0.0000e+00,  0.0000e+00,  0.0000e+00,  0.0000e+00,  0.0000e+00,\n",
       "                         0.0000e+00],\n",
       "                       [-1.9956e-03, -6.6318e-03,  8.6162e-01, -6.9398e-01,  1.7287e-01,\n",
       "                        -2.9118e-02,  1.6185e-01,  5.2181e-01, -1.8966e+00, -9.5389e-01,\n",
       "                         1.8800e+00, -1.1300e-03, -5.2777e-01,  3.2254e-01, -1.4055e-01,\n",
       "                        -6.4266e-01],\n",
       "                       [-1.0400e+00, -1.6871e+00,  1.7556e+00, -7.7834e-01, -1.1218e+00,\n",
       "                         7.1033e-01, -9.3876e-01, -6.8673e-01, -1.4616e+00,  1.6964e+00,\n",
       "                        -5.5398e-02,  5.2076e-01, -8.5040e-02,  3.9849e-01, -1.2959e+00,\n",
       "                        -8.2238e-01]])),\n",
       "              ('embedding_list.2.weight',\n",
       "               tensor([[ 0.0000e+00,  0.0000e+00,  0.0000e+00,  0.0000e+00,  0.0000e+00,\n",
       "                         0.0000e+00,  0.0000e+00,  0.0000e+00,  0.0000e+00,  0.0000e+00,\n",
       "                         0.0000e+00,  0.0000e+00,  0.0000e+00,  0.0000e+00,  0.0000e+00,\n",
       "                         0.0000e+00],\n",
       "                       [ 9.6279e-01,  1.8206e-02,  1.8749e+00,  3.6578e-01,  1.3187e+00,\n",
       "                         1.2840e+00,  4.5175e-01,  2.3648e-01, -3.3047e-03,  4.5306e-02,\n",
       "                         1.1954e-01,  5.2551e-01, -4.4279e-01, -1.3184e-01, -3.7686e-03,\n",
       "                        -1.8027e-01],\n",
       "                       [-2.2746e+00, -2.3583e-01,  6.8843e-01,  9.8498e-01,  7.1174e-01,\n",
       "                        -1.1080e-01,  1.5638e+00,  1.0144e+00, -2.0922e-01,  1.9349e-01,\n",
       "                        -2.0416e-02, -1.2617e+00,  3.6112e-01,  9.9696e-01,  5.5425e-01,\n",
       "                         3.5738e-01],\n",
       "                       [-1.2423e+00, -2.4191e-01, -1.1556e+00,  1.3407e-01,  6.2348e-01,\n",
       "                        -1.6807e+00, -4.5225e-01, -5.0837e-02, -4.3865e-01, -5.6774e-01,\n",
       "                         1.2912e-01,  8.6936e-01, -1.7738e-01, -3.2050e-01, -2.0593e-02,\n",
       "                        -7.6420e-01],\n",
       "                       [-7.9248e-01,  6.2186e-01,  1.1260e+00,  1.3074e+00,  2.8432e-01,\n",
       "                         2.5891e-01, -4.2786e-01, -8.0746e-01, -8.3962e-01,  1.5674e+00,\n",
       "                        -1.4230e+00, -7.4475e-01, -5.3034e-01, -1.1581e+00, -2.3143e+00,\n",
       "                        -9.0284e-01],\n",
       "                       [ 3.9086e-01, -3.5631e-01, -1.3604e-01, -1.6466e-01,  2.2549e+00,\n",
       "                         2.1422e+00,  5.2681e-01,  5.7946e-01,  1.0865e+00, -1.0814e+00,\n",
       "                        -7.3784e-01,  7.7205e-01, -1.2550e+00,  4.2274e-01,  9.4018e-01,\n",
       "                        -2.1662e-01],\n",
       "                       [ 1.3222e+00,  6.6765e-01,  7.6916e-01,  2.1680e-01,  7.2815e-01,\n",
       "                        -6.0484e-01,  1.2451e+00, -3.7479e-01, -1.3964e+00,  6.4307e-01,\n",
       "                        -4.4749e-01, -5.3634e-01,  1.6568e+00,  2.3306e+00,  7.3390e-01,\n",
       "                        -1.3265e+00],\n",
       "                       [-8.9638e-01,  1.0443e-01,  1.2203e+00, -1.1107e+00, -8.4184e-01,\n",
       "                         7.8384e-01,  5.3141e-01,  7.2825e-01, -1.0205e+00, -1.5560e+00,\n",
       "                         6.3033e-01, -2.1191e-01,  8.3969e-01, -1.1677e+00,  5.2783e-01,\n",
       "                        -8.3707e-03],\n",
       "                       [-2.2123e-04, -1.1354e+00,  1.3792e-01, -1.8290e-01,  1.2499e+00,\n",
       "                         1.3447e-01, -1.2725e+00,  5.1652e-01, -9.4394e-03,  2.4626e-01,\n",
       "                        -6.9142e-01,  6.2776e-01, -7.6280e-01, -4.3158e-02,  6.0345e-01,\n",
       "                        -5.9191e-01],\n",
       "                       [-5.8494e-01, -2.2098e+00,  5.7613e-01,  8.6837e-01,  3.4773e-01,\n",
       "                        -9.4618e-01,  1.3060e+00, -6.7799e-01,  1.0344e+00,  7.1929e-01,\n",
       "                         1.1728e+00, -9.4453e-01,  8.4369e-01,  6.8238e-01, -5.0317e-01,\n",
       "                         9.4392e-01],\n",
       "                       [-4.0883e-01,  5.7105e-02,  1.3774e+00, -1.0026e+00,  1.0986e+00,\n",
       "                        -6.0920e-03,  2.4981e-01,  1.1008e+00,  9.8655e-01,  4.7411e-01,\n",
       "                         1.6994e+00,  2.0943e-01,  6.7092e-01, -1.0553e+00, -7.1156e-01,\n",
       "                         1.0480e-01],\n",
       "                       [-1.0192e-01, -2.2236e+00, -4.2557e-01, -4.3370e-01, -4.9364e-01,\n",
       "                        -1.3527e-01, -9.2122e-01, -4.7067e-01,  3.8989e-01,  3.3335e-03,\n",
       "                        -1.8568e+00,  7.8005e-01,  1.2774e-01,  1.5144e+00,  3.6844e-01,\n",
       "                        -8.1617e-04],\n",
       "                       [-1.8903e-01, -1.7704e+00,  1.8300e-01,  6.9097e-01,  8.8429e-03,\n",
       "                        -4.5048e-01,  8.4796e-01, -2.3012e-01, -2.4901e-01, -1.6039e+00,\n",
       "                        -2.2465e-01,  1.6453e+00, -3.6349e-02,  5.1090e-01,  2.0431e-01,\n",
       "                         7.7021e-01],\n",
       "                       [ 1.5756e+00, -3.1334e-01, -7.4703e-01,  3.2103e-01, -7.9744e-01,\n",
       "                         1.4826e+00,  1.2895e+00, -2.7603e-01, -1.4544e+00,  1.2615e+00,\n",
       "                         1.5990e-01, -2.0883e+00, -1.9470e+00,  1.0286e+00, -1.3448e-01,\n",
       "                        -6.1175e-01],\n",
       "                       [-1.2364e+00, -3.6712e-02, -5.0012e-01, -1.3663e+00,  4.4818e-01,\n",
       "                         3.6139e-01, -4.8155e-01,  2.2202e-01, -5.6714e-01, -3.6658e-01,\n",
       "                        -7.7053e-01,  5.2500e-01,  3.6263e-01,  1.2738e+00,  1.1367e+00,\n",
       "                         1.1641e+00],\n",
       "                       [-1.2992e+00,  3.3822e-01, -7.4426e-01, -1.5526e-01,  4.7517e-01,\n",
       "                        -8.3444e-01, -6.1003e-01,  1.6025e+00, -3.9695e-01,  3.5958e-01,\n",
       "                        -1.3745e+00,  6.3828e-02, -5.4559e-01, -8.7970e-01, -1.6864e+00,\n",
       "                         1.1553e+00]])),\n",
       "              ('embedding_list.3.weight',\n",
       "               tensor([[ 0.0000,  0.0000,  0.0000,  ...,  0.0000,  0.0000,  0.0000],\n",
       "                       [-1.1192, -0.6912, -1.5348,  ...,  0.9920,  0.5962,  0.7732],\n",
       "                       [ 0.0460, -0.3348, -0.6397,  ..., -0.7305, -0.5818,  0.5019],\n",
       "                       ...,\n",
       "                       [ 0.7898,  0.8756, -1.9397,  ...,  0.3067,  0.2532, -0.9924],\n",
       "                       [-0.3117, -0.2844, -0.2400,  ..., -1.2243, -0.0837, -0.0697],\n",
       "                       [ 1.3205,  0.0634, -1.1753,  ...,  1.2609,  1.9363,  1.3773]])),\n",
       "              ('embedding_list.4.weight',\n",
       "               tensor([[ 0.0000,  0.0000,  0.0000,  ...,  0.0000,  0.0000,  0.0000],\n",
       "                       [ 0.6440,  0.0665,  0.0625,  ...,  0.0964,  0.0808, -1.4350],\n",
       "                       [ 1.0749,  0.8497,  1.6148,  ...,  1.3525,  1.0919, -1.3300],\n",
       "                       ...,\n",
       "                       [-1.0328,  0.0046, -1.2662,  ...,  0.3260,  0.1707, -1.0654],\n",
       "                       [ 1.4577,  1.0017, -0.4097,  ...,  1.0948,  0.7576, -1.2801],\n",
       "                       [-0.7778,  0.6356,  0.2669,  ...,  1.3563, -1.3449, -0.2446]])),\n",
       "              ('user_layer.weight',\n",
       "               tensor([[ 8.9831e-02,  4.4023e-02, -7.2872e-03,  ..., -5.6766e-02,\n",
       "                         4.0413e-04, -6.9932e-02],\n",
       "                       [ 4.3310e-02,  1.4731e-01,  1.4340e-01,  ..., -8.2338e-02,\n",
       "                         2.0441e-02, -6.8256e-02],\n",
       "                       [ 1.4302e-01, -6.8085e-03, -7.8847e-02,  ..., -1.0971e-01,\n",
       "                         1.3686e-01, -3.4881e-03],\n",
       "                       ...,\n",
       "                       [ 1.1695e-01, -1.3479e-01, -2.4092e-02,  ..., -1.6432e-01,\n",
       "                         1.5770e-04,  2.5108e-02],\n",
       "                       [ 2.5566e-02, -9.2126e-02,  7.2236e-02,  ..., -5.7087e-02,\n",
       "                         4.4278e-02,  8.4345e-02],\n",
       "                       [-4.7715e-02,  2.1516e-02,  5.8855e-03,  ..., -1.1662e-02,\n",
       "                        -6.7957e-02, -2.1055e-02]])),\n",
       "              ('user_layer.bias',\n",
       "               tensor([ 0.0342,  0.0313, -0.0200,  0.0369,  0.0051, -0.0715,  0.1271,  0.0714,\n",
       "                       -0.0446,  0.0028, -0.0663,  0.0168, -0.0740, -0.0825, -0.0260,  0.0297,\n",
       "                        0.0118, -0.0772,  0.0382, -0.0496,  0.0773, -0.0621,  0.1296, -0.0360,\n",
       "                        0.1599,  0.0320, -0.0626,  0.1118, -0.1430, -0.1305,  0.0199, -0.0778,\n",
       "                        0.0134,  0.0707, -0.0007,  0.0295,  0.0473, -0.0312, -0.1352,  0.0938,\n",
       "                        0.0188,  0.0139, -0.1394,  0.0113,  0.0658,  0.1154,  0.0370,  0.0263,\n",
       "                       -0.0061, -0.0096, -0.0334, -0.0467,  0.0831,  0.0126,  0.0216, -0.0102,\n",
       "                        0.0620,  0.0034,  0.0492,  0.0332,  0.1111,  0.0856, -0.0609,  0.0991])),\n",
       "              ('rnn.weight_ih_l0',\n",
       "               tensor([[ 0.6174,  0.2199,  0.1384,  ...,  0.2263,  0.1808,  0.1154],\n",
       "                       [ 0.3392,  0.0323,  0.1973,  ..., -0.0568,  0.0540, -0.0908],\n",
       "                       [-0.3542,  0.5953, -0.1644,  ...,  0.0437,  0.2688, -0.1957],\n",
       "                       ...,\n",
       "                       [ 0.1334, -0.0694, -0.2233,  ..., -0.1001, -0.0566, -0.0286],\n",
       "                       [ 0.2517,  0.1785, -0.0033,  ...,  0.1815, -0.1205,  0.2105],\n",
       "                       [-0.3087, -0.0354, -0.5446,  ...,  0.1412, -0.0808,  0.0170]])),\n",
       "              ('rnn.weight_hh_l0',\n",
       "               tensor([[-4.4054e-01, -1.0975e-01,  9.6641e-03,  ..., -7.3963e-02,\n",
       "                        -3.8072e-03,  2.4468e-01],\n",
       "                       [ 4.7885e-02, -7.2392e-02, -1.2479e-01,  ...,  8.7821e-02,\n",
       "                         4.3346e-03, -8.4594e-02],\n",
       "                       [-3.5704e-01,  4.1199e-02,  2.0190e-01,  ...,  7.5063e-04,\n",
       "                         1.0985e-01, -1.8600e-01],\n",
       "                       ...,\n",
       "                       [ 1.7027e-01,  4.8316e-03, -2.1812e-02,  ..., -1.4647e-01,\n",
       "                         1.1059e-01,  2.3953e-02],\n",
       "                       [-4.6479e-02, -1.2073e-01,  1.4463e-02,  ..., -7.0247e-02,\n",
       "                         1.4003e-01, -1.0609e-02],\n",
       "                       [ 9.3315e-02,  7.1420e-02, -1.0586e-01,  ...,  4.0986e-04,\n",
       "                        -2.1586e-01,  2.8277e-02]])),\n",
       "              ('rnn.bias_ih_l0',\n",
       "               tensor([-2.1199e-02, -1.4103e-01, -1.5699e-01,  7.0779e-02, -6.5009e-02,\n",
       "                       -1.5703e-01, -3.2573e-01, -2.3004e-02, -6.0336e-02, -7.8767e-02,\n",
       "                       -5.2295e-02, -8.5840e-02,  1.8135e-02, -8.3993e-02, -2.8965e-01,\n",
       "                        5.8426e-02, -1.1025e-01, -4.9637e-03,  2.4652e-02, -1.9952e-01,\n",
       "                       -1.6408e-01, -7.5437e-02, -7.3489e-03,  1.6323e-02,  6.2370e-02,\n",
       "                        5.7253e-03, -1.9987e-01,  1.4687e-02,  5.2161e-02, -1.1221e-01,\n",
       "                       -1.5348e-01, -6.2880e-02,  1.3562e-02, -4.5626e-04, -8.4178e-02,\n",
       "                        1.6395e-02, -1.2680e-01, -3.6924e-02, -2.3551e-01, -1.0068e-01,\n",
       "                       -1.7202e-02,  2.5199e-02,  2.2952e-02,  2.2464e-03, -7.2305e-02,\n",
       "                       -8.4887e-02, -8.2622e-02, -1.2569e-01, -4.5469e-02,  6.9125e-02,\n",
       "                       -1.5516e-01, -4.2426e-02,  1.5143e-02, -8.5752e-02, -2.0714e-01,\n",
       "                       -3.0125e-01, -1.2044e-01,  6.3614e-02, -8.6969e-02, -7.7321e-02,\n",
       "                       -5.4466e-02,  3.1034e-02, -6.9417e-02, -1.3647e-01, -1.3670e-01,\n",
       "                        1.2223e-01,  2.9884e-02, -2.6470e-02,  1.5561e-01, -1.8471e-01,\n",
       "                        1.0332e-01,  1.1025e-01,  4.3488e-02,  1.2952e-01,  1.0384e-01,\n",
       "                        1.8112e-01, -1.0817e-01,  1.4912e-01,  1.7933e-01,  1.7172e-01,\n",
       "                        4.7743e-03,  9.6923e-02, -5.8570e-02, -1.1558e-01,  9.2070e-02,\n",
       "                       -7.6628e-02, -1.1081e-02, -1.5542e-01, -7.6776e-02, -2.2871e-02,\n",
       "                       -2.2933e-02,  3.0291e-02,  6.7582e-02,  1.5323e-01, -2.4714e-02,\n",
       "                        9.5944e-02,  4.4913e-02,  3.0845e-04,  2.3034e-01,  1.6734e-01,\n",
       "                        1.1425e-01,  1.2511e-01,  2.4407e-01, -1.0139e-01, -1.6446e-01,\n",
       "                        1.3256e-01,  7.5677e-02,  1.9325e-01,  5.5558e-02,  3.9833e-02,\n",
       "                        1.2920e-01,  1.9056e-01,  1.9019e-01, -3.5287e-02,  1.4925e-01,\n",
       "                        9.4374e-02, -1.2424e-03, -1.4170e-01, -1.2509e-01,  5.2728e-02,\n",
       "                       -5.6550e-02, -7.4419e-02,  8.5115e-02,  8.3473e-02,  5.1318e-02,\n",
       "                        1.9880e-01,  2.4177e-01,  2.8087e-02,  5.1642e-02,  9.5897e-02,\n",
       "                        3.9195e-02,  1.2930e-01, -3.1798e-02, -9.1593e-02, -3.4002e-02,\n",
       "                       -2.3210e-02, -1.0311e-02,  6.9468e-02, -2.3643e-02, -7.1595e-02,\n",
       "                        1.3962e-02,  2.7484e-02, -1.2364e-01,  5.8900e-02,  4.0249e-02,\n",
       "                       -7.0387e-02, -9.8088e-02,  1.1829e-02,  1.7329e-02,  4.8519e-02,\n",
       "                       -1.5610e-02, -8.8331e-02,  6.0207e-02, -1.0814e-01, -4.0195e-02,\n",
       "                        1.0889e-01, -8.1088e-04,  5.8070e-02, -4.5369e-02, -1.2987e-01,\n",
       "                        1.0924e-01, -7.7177e-02, -4.2946e-02,  1.0075e-03, -1.3569e-02,\n",
       "                       -8.4250e-02,  4.3067e-03,  6.2225e-02,  7.2850e-02, -2.1696e-02,\n",
       "                       -2.3249e-02, -5.7958e-02,  4.6419e-02, -2.7562e-02, -3.2822e-02,\n",
       "                        1.7601e-01,  4.1436e-02,  1.3406e-04,  9.9204e-02, -6.6680e-02,\n",
       "                        1.2342e-01, -5.4373e-02,  1.9035e-02, -7.9756e-02,  6.3154e-02,\n",
       "                        9.6970e-02,  5.1663e-04, -8.5598e-02,  9.4098e-02,  5.5958e-02,\n",
       "                       -1.0139e-01,  2.6920e-02])),\n",
       "              ('rnn.bias_hh_l0',\n",
       "               tensor([-0.0425, -0.1134, -0.1413,  0.0609, -0.0352, -0.1578, -0.3794,  0.0129,\n",
       "                       -0.0848, -0.2340, -0.0073, -0.2492, -0.0304, -0.0321, -0.1666, -0.0215,\n",
       "                        0.0071, -0.2138, -0.0761, -0.0534, -0.0209,  0.0959, -0.1074, -0.0629,\n",
       "                       -0.0411,  0.0826, -0.3046, -0.0298, -0.0210,  0.0556, -0.1482,  0.0983,\n",
       "                       -0.0518, -0.1067,  0.0083,  0.1050, -0.1689, -0.0761, -0.1209,  0.0402,\n",
       "                       -0.1197,  0.0974, -0.1241, -0.1113, -0.0688,  0.0286,  0.0065, -0.1661,\n",
       "                       -0.1786,  0.0263, -0.0410, -0.0028, -0.0538, -0.1728, -0.2411, -0.0843,\n",
       "                       -0.1083,  0.0427, -0.1867, -0.0726, -0.1749, -0.0292, -0.2024, -0.0339,\n",
       "                        0.0016,  0.0113, -0.0451, -0.0973,  0.2041, -0.3351,  0.0183,  0.0633,\n",
       "                        0.0976,  0.1997,  0.2760,  0.0438, -0.1288,  0.2612,  0.1335,  0.1763,\n",
       "                       -0.0385,  0.0757, -0.1085, -0.0844,  0.1218,  0.0493, -0.0987, -0.1705,\n",
       "                       -0.1314, -0.0140,  0.0087, -0.1090, -0.0540,  0.1436,  0.0710,  0.1106,\n",
       "                        0.1621,  0.0466,  0.0461,  0.1623,  0.1150,  0.0519,  0.2650, -0.0046,\n",
       "                       -0.0151,  0.1364,  0.1311,  0.1131,  0.1602,  0.1070,  0.1363,  0.0410,\n",
       "                        0.1189, -0.0347,  0.0392,  0.1204,  0.0336, -0.0667, -0.1521,  0.2376,\n",
       "                       -0.0979,  0.1372,  0.1630,  0.0839, -0.1040,  0.1332,  0.2309,  0.1592,\n",
       "                       -0.0973,  0.0418,  0.0085, -0.0026,  0.1405, -0.0580,  0.0235,  0.0165,\n",
       "                       -0.1165, -0.0605,  0.0560,  0.0340, -0.0390,  0.0561,  0.0454,  0.0196,\n",
       "                       -0.0712, -0.0907, -0.1086,  0.0015, -0.0696, -0.0957,  0.0337, -0.0623,\n",
       "                       -0.0991,  0.0823, -0.0271,  0.1193, -0.0416, -0.0462, -0.0707, -0.1305,\n",
       "                        0.1343,  0.1187,  0.0277, -0.0427, -0.0909, -0.0725, -0.0711, -0.0350,\n",
       "                       -0.1632,  0.0377, -0.1018, -0.0069,  0.0689,  0.0188,  0.0548,  0.0865,\n",
       "                        0.0015,  0.0709,  0.0407,  0.1326, -0.0315, -0.0188,  0.1773,  0.0291,\n",
       "                        0.0209, -0.1107,  0.0343, -0.1002, -0.0165, -0.0682, -0.0886, -0.0012])),\n",
       "              ('rnn.weight_ih_l1',\n",
       "               tensor([[-0.0730, -0.2954, -0.3320,  ...,  0.2152,  0.1507, -0.2798],\n",
       "                       [ 0.3422,  0.1362, -0.2094,  ..., -0.0039,  0.2602,  0.1101],\n",
       "                       [-0.1994,  0.0967,  0.0341,  ..., -0.0158,  0.1390,  0.1243],\n",
       "                       ...,\n",
       "                       [ 0.1295, -0.0060, -0.0343,  ...,  0.0714, -0.0156,  0.1058],\n",
       "                       [-0.0963, -0.1751, -0.0283,  ..., -0.0026, -0.0714,  0.1255],\n",
       "                       [ 0.0062, -0.0059,  0.0226,  ..., -0.0908,  0.0137, -0.1753]])),\n",
       "              ('rnn.weight_hh_l1',\n",
       "               tensor([[-0.0054,  0.0427, -0.0193,  ..., -0.0036,  0.0685,  0.1479],\n",
       "                       [ 0.0332,  0.1000,  0.1730,  ..., -0.1548, -0.0838,  0.0805],\n",
       "                       [ 0.0087, -0.3999, -0.0807,  ...,  0.1887,  0.1466,  0.1468],\n",
       "                       ...,\n",
       "                       [ 0.0103,  0.0978, -0.0522,  ...,  0.0651,  0.0517,  0.0922],\n",
       "                       [-0.0033, -0.0961,  0.0405,  ...,  0.1379, -0.0399, -0.1947],\n",
       "                       [-0.1411, -0.0511,  0.0641,  ...,  0.0847, -0.0728, -0.1710]])),\n",
       "              ('rnn.bias_ih_l1',\n",
       "               tensor([ 1.0644e-01, -1.5815e-01, -8.3235e-02, -1.7272e-01,  9.8995e-03,\n",
       "                        5.5382e-02,  1.0005e-01, -6.4300e-03,  3.4275e-02, -1.7146e-01,\n",
       "                        7.8944e-02,  2.7278e-02,  1.0010e-02,  4.5310e-02,  1.3613e-02,\n",
       "                        2.1025e-02,  3.8670e-02, -8.7898e-04, -1.2511e-01, -1.4352e-01,\n",
       "                       -9.5082e-02,  1.0539e-01, -7.7397e-02, -1.1777e-01, -5.5864e-02,\n",
       "                       -1.6223e-01, -9.5746e-02, -1.0245e-01, -2.7641e-02, -9.6995e-02,\n",
       "                       -1.7810e-01, -6.0776e-02, -1.2104e-01, -1.1510e-01, -9.5748e-02,\n",
       "                       -2.6729e-01, -8.3401e-02, -5.0368e-02, -4.7295e-02, -3.0110e-04,\n",
       "                       -2.3959e-01,  7.0569e-02, -6.6762e-02, -8.1608e-02,  1.7157e-02,\n",
       "                       -3.6533e-03,  4.6720e-03, -6.7686e-02, -5.5404e-02, -8.8223e-02,\n",
       "                       -6.3096e-02, -1.2440e-01, -6.5492e-02, -1.4738e-01, -1.2445e-01,\n",
       "                       -2.3128e-02, -1.2997e-02, -1.6744e-01, -2.9241e-02,  1.8988e-02,\n",
       "                       -1.9801e-01,  7.4382e-02, -1.0277e-01, -7.1032e-02, -1.3712e-01,\n",
       "                        4.1643e-02, -1.0152e-01, -1.6240e-01, -2.8891e-01, -1.0840e-02,\n",
       "                        1.0346e-01, -1.0022e-01,  6.8091e-02, -6.9366e-02,  1.6822e-03,\n",
       "                       -3.9338e-02, -4.4056e-01, -4.9789e-02,  1.8430e-01, -1.1498e-01,\n",
       "                       -2.5377e-01, -9.8937e-02, -2.4762e-01,  1.1691e-01,  2.3220e-02,\n",
       "                       -2.2015e-01, -1.1104e-01, -7.4174e-02,  4.4216e-02, -1.6770e-01,\n",
       "                        1.3656e-01, -2.2656e-02,  9.0093e-02, -8.2364e-02,  1.2507e-01,\n",
       "                        1.1965e-02, -1.4412e-02,  5.2266e-02,  3.0945e-02,  3.2129e-02,\n",
       "                        1.1029e-01,  1.4697e-01, -1.2274e-01, -3.8277e-01,  1.9428e-01,\n",
       "                        1.2816e-01,  1.9666e-01, -1.8935e-01, -8.6256e-02,  6.2348e-02,\n",
       "                       -5.2011e-02,  2.1193e-02,  1.2882e-01,  4.1290e-02,  5.8821e-02,\n",
       "                        2.0419e-02, -9.5850e-03,  1.4872e-01, -4.4799e-01,  1.6617e-01,\n",
       "                       -7.7357e-02,  1.1511e-01, -5.7110e-02,  1.7191e-01,  1.0826e-01,\n",
       "                       -8.2298e-02,  3.1941e-02, -2.5411e-01,  1.1717e-01,  8.2880e-02,\n",
       "                       -1.8828e-01, -6.0361e-02, -2.0895e-01, -1.6780e-01,  3.0875e-02,\n",
       "                       -1.3718e-01,  1.8932e-01, -2.0167e-01,  9.7881e-02,  1.2471e-01,\n",
       "                       -2.2405e-01,  7.5041e-02,  1.1851e-01,  2.6121e-02, -2.6952e-02,\n",
       "                       -5.9656e-02, -2.5674e-01,  6.2798e-02,  5.6554e-02,  8.4542e-02,\n",
       "                       -1.3645e-01,  1.4198e-01, -1.1829e-01,  4.7479e-02, -6.1055e-02,\n",
       "                       -7.8470e-02,  1.4617e-01, -5.0787e-02,  6.6540e-02,  3.9126e-02,\n",
       "                       -1.0388e-01,  9.5861e-02, -1.9928e-01, -2.8947e-02, -1.4465e-01,\n",
       "                       -2.2556e-02,  2.2311e-02, -1.8983e-01,  7.5766e-03, -6.2811e-02,\n",
       "                       -1.8841e-03, -1.0104e-01, -5.6295e-02, -1.0405e-01, -8.1568e-02,\n",
       "                       -1.7544e-02, -1.0490e-01,  1.1269e-01, -1.6088e-02, -1.3961e-01,\n",
       "                       -1.5916e-01, -5.8066e-02, -1.1484e-01, -1.8871e-01, -2.6992e-02,\n",
       "                        5.6080e-02, -1.3179e-01, -7.1321e-02, -7.8172e-02,  4.4572e-02,\n",
       "                        7.5894e-02, -1.9462e-01])),\n",
       "              ('rnn.bias_hh_l1',\n",
       "               tensor([ 2.0213e-01, -2.2158e-01, -6.4406e-02, -2.6235e-01,  2.0313e-02,\n",
       "                        2.6033e-01,  1.2705e-01, -2.6377e-02, -3.0761e-02, -3.5994e-02,\n",
       "                        1.0272e-01, -5.7761e-02, -7.7079e-03, -7.6193e-02, -2.8117e-03,\n",
       "                       -1.2056e-02,  2.1201e-02, -1.0454e-01, -8.7359e-02, -7.8012e-02,\n",
       "                       -5.2943e-02,  8.2623e-02,  5.3889e-04,  3.2416e-02, -2.1674e-02,\n",
       "                        2.6264e-02, -1.0348e-02, -4.3212e-02, -1.0678e-01, -9.1677e-02,\n",
       "                       -1.7365e-01, -1.2092e-01, -1.5746e-01, -1.2347e-01, -3.0014e-02,\n",
       "                       -2.0737e-01, -7.4361e-02, -8.7229e-02, -1.6026e-02,  3.1441e-02,\n",
       "                       -1.9512e-01,  8.4696e-02, -1.7183e-01, -1.7437e-01, -1.0516e-01,\n",
       "                        3.0756e-02,  6.1804e-02,  4.4424e-02,  4.4702e-02,  2.3974e-02,\n",
       "                       -7.9210e-02, -2.4309e-01, -3.1048e-02, -8.5986e-02, -1.0207e-01,\n",
       "                       -1.1807e-01, -9.6095e-02, -8.8337e-03, -4.5002e-02, -1.2858e-01,\n",
       "                       -8.7494e-02, -9.4664e-02, -5.6896e-02, -4.2468e-02,  8.2888e-02,\n",
       "                        8.8965e-02, -2.4063e-02, -2.6621e-01, -2.5992e-01,  8.5916e-02,\n",
       "                       -3.2073e-02, -3.6458e-02, -5.8584e-03, -4.8857e-02,  1.1302e-02,\n",
       "                        6.2719e-02, -3.1359e-01,  1.0015e-01,  1.6002e-02,  3.7166e-02,\n",
       "                       -1.4690e-01, -2.0179e-01, -1.5812e-01,  7.9067e-02,  8.3901e-02,\n",
       "                       -2.0541e-01, -2.2224e-01,  2.5190e-02, -1.4400e-01,  5.1580e-02,\n",
       "                        5.4101e-02, -6.5680e-02,  1.0137e-01, -6.5089e-03,  1.6481e-02,\n",
       "                       -1.2104e-03,  7.1610e-02,  1.4477e-01,  6.9796e-02,  4.0396e-02,\n",
       "                        7.7020e-02, -2.0036e-02, -1.4388e-01, -5.4603e-01,  1.6227e-01,\n",
       "                       -7.7585e-02,  6.9291e-02, -3.9580e-01,  9.7497e-02,  1.0043e-01,\n",
       "                        2.8403e-02,  2.0955e-02,  1.2034e-02,  1.8682e-01,  8.4482e-02,\n",
       "                        1.2662e-01, -1.7249e-02,  8.6936e-02, -5.5638e-01,  1.2944e-01,\n",
       "                        9.4921e-02,  3.7943e-02, -1.1244e-01,  3.8904e-02,  6.9455e-02,\n",
       "                        1.8415e-02,  6.4581e-02, -1.9192e-01, -6.8486e-02, -1.9373e-02,\n",
       "                       -9.6627e-02,  3.6149e-02, -1.4243e-01, -1.7637e-01, -4.0306e-02,\n",
       "                       -1.9628e-01,  1.6362e-01, -1.1620e-01, -6.9966e-02,  2.4251e-01,\n",
       "                       -1.6965e-01, -1.3580e-02,  8.8740e-02,  3.6632e-02, -1.0792e-01,\n",
       "                       -6.4698e-02, -1.1010e-01,  1.4597e-01,  2.7027e-02,  6.0473e-02,\n",
       "                        1.0131e-02,  2.2752e-01, -8.4955e-02,  1.7101e-01,  9.5807e-02,\n",
       "                        2.8397e-02,  1.9309e-01,  4.6628e-02,  1.1251e-02,  4.8210e-02,\n",
       "                       -3.1804e-02,  2.4971e-02,  2.1805e-02, -1.4205e-01, -6.5446e-02,\n",
       "                        1.5074e-01,  1.2850e-01, -7.1433e-02,  8.6636e-02, -1.9821e-01,\n",
       "                        1.0965e-01, -2.3047e-01, -8.3596e-02, -2.0386e-01,  5.2743e-02,\n",
       "                       -1.9367e-01, -8.3524e-02,  4.7856e-02,  1.6528e-02,  5.0615e-02,\n",
       "                       -1.4460e-01, -1.3012e-01, -1.9861e-01, -2.2226e-01,  1.2638e-01,\n",
       "                       -2.3103e-02, -9.5260e-02,  7.2021e-04, -8.0851e-02,  1.5969e-01,\n",
       "                        1.3936e-01,  1.1623e-01]))])}"
      ]
     },
     "execution_count": 31,
     "metadata": {},
     "output_type": "execute_result"
    }
   ],
   "source": [
    "checkpoint = torch.load('./models/rnn_w_tscnt.pt')\n",
    "checkpoint"
   ]
  },
  {
   "cell_type": "code",
   "execution_count": null,
   "metadata": {},
   "outputs": [],
   "source": []
  }
 ],
 "metadata": {
  "kernelspec": {
   "display_name": "Python 3",
   "language": "python",
   "name": "python3"
  },
  "language_info": {
   "codemirror_mode": {
    "name": "ipython",
    "version": 3
   },
   "file_extension": ".py",
   "mimetype": "text/x-python",
   "name": "python",
   "nbconvert_exporter": "python",
   "pygments_lexer": "ipython3",
   "version": "3.6.9"
  }
 },
 "nbformat": 4,
 "nbformat_minor": 5
}
