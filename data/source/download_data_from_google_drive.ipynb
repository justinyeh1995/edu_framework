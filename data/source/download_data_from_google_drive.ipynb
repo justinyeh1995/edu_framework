{
 "cells": [
  {
   "cell_type": "markdown",
   "metadata": {},
   "source": [
    "# Check if any of the files have not been downloaded"
   ]
  },
  {
   "cell_type": "code",
   "execution_count": 1,
   "metadata": {},
   "outputs": [
    {
     "name": "stdout",
     "output_type": "stream",
     "text": [
      "sample_chid.txt exist\n"
     ]
    },
    {
     "data": {
      "text/plain": [
       "['sample_zip_if_cca_cdtx0001_hist.csv',\n",
       " 'sample_zip_if_cca_cust_f.csv',\n",
       " 'sample_zip_if_cca_y.csv',\n",
       " 'sample_idx_map.npy']"
      ]
     },
     "execution_count": 1,
     "metadata": {},
     "output_type": "execute_result"
    }
   ],
   "source": [
    "import os \n",
    "file_link_dict = {\n",
    "    'sample_zip_if_cca_cdtx0001_hist.csv': '1iFPbwUmaOtjx1GCwc45Ox6BrOWLTubyl',\n",
    "    'sample_zip_if_cca_cust_f.csv': '19T4RlVLgIeD06rCbFl-yYpW9YnPAddEv',\n",
    "    'sample_zip_if_cca_y.csv': '19ATrClNELMIPwDXWOO_PHMZqtDHcGy0N',\n",
    "    'sample_idx_map.npy': '1LIYuzXWTds8qWbueV_9Ecye7sLpMBHwk',\n",
    "    'sample_chid.txt': '1NPIqrZnvIThYLyr6hTPb3wXYxSjDkK2X'\n",
    "}\n",
    "files_not_downloaded = []\n",
    "for file in file_link_dict.keys(): \n",
    "    if os.path.exists(f'./{file}'):\n",
    "        print(file, \"exist\")\n",
    "    else:\n",
    "        files_not_downloaded.append(file)\n",
    "        \n",
    "files_not_downloaded"
   ]
  },
  {
   "cell_type": "markdown",
   "metadata": {},
   "source": [
    "# Download data from google drive please follow below steps\n",
    "\n",
    "--- \n",
    "\n",
    "## 1) Download files directly on Google Drive\n",
    "Link: https://drive.google.com/drive/folders/1Vw6jKoEhqmnmvbxh-kqh4xY-o2Ymr1d5\n",
    "\n",
    "## 2) 連結Google Drive API\n",
    "\n",
    "[Google Drive API 設定](https://medium.com/@umdfirecoml/a-step-by-step-guide-on-how-to-download-your-google-drive-data-to-your-jupyter-notebook-using-the-52f4ce63c66c)"
   ]
  },
  {
   "cell_type": "code",
   "execution_count": 3,
   "metadata": {},
   "outputs": [
    {
     "name": "stdout",
     "output_type": "stream",
     "text": [
      "\n",
      "Go to the following link in your browser:\n",
      "\n",
      "    https://accounts.google.com/o/oauth2/auth?client_id=483834777381-vhtl5u7mphooaci1v8lbjrjvil8ktt05.apps.googleusercontent.com&redirect_uri=urn%3Aietf%3Awg%3Aoauth%3A2.0%3Aoob&scope=https%3A%2F%2Fwww.googleapis.com%2Fauth%2Fdrive.readonly&access_type=offline&response_type=code\n",
      "\n"
     ]
    },
    {
     "name": "stdin",
     "output_type": "stream",
     "text": [
      "Enter verification code:  4/1AY0e-g4aKYJ95urzfiaQTykysjaFvwpUlb7jN56inxqjeAQMYzSJZKRIu5E\n"
     ]
    },
    {
     "name": "stdout",
     "output_type": "stream",
     "text": [
      "Authentication successful.\n"
     ]
    }
   ],
   "source": [
    "from apiclient import discovery\n",
    "from httplib2 import Http\n",
    "import oauth2client\n",
    "from oauth2client import file, client, tools\n",
    "obj = lambda: None\n",
    "lmao = {\"auth_host_name\":'localhost', \n",
    "        'noauth_local_webserver':'store_true', \n",
    "        'auth_host_port':[8080, 8090], \n",
    "        'logging_level':'ERROR'}\n",
    "for k, v in lmao.items():\n",
    "    setattr(obj, k, v)\n",
    "    \n",
    "# authorization boilerplate code\n",
    "SCOPES = 'https://www.googleapis.com/auth/drive.readonly'\n",
    "store = file.Storage('token.json')\n",
    "creds = store.get()\n",
    "# The following will give you a link if token.json does not exist, the link allows the user to give this app permission\n",
    "if not creds or creds.invalid:\n",
    "    flow = client.flow_from_clientsecrets('./google_drive.json', SCOPES)\n",
    "    creds = tools.run_flow(flow, store, obj)"
   ]
  },
  {
   "cell_type": "markdown",
   "metadata": {},
   "source": [
    "# 從google drive下載檔案"
   ]
  },
  {
   "cell_type": "code",
   "execution_count": 4,
   "metadata": {},
   "outputs": [
    {
     "name": "stdout",
     "output_type": "stream",
     "text": [
      "sample_zip_if_cca_cdtx0001_hist.csv\n",
      "Download 24%.\n",
      "Download 49%.\n",
      "Download 74%.\n",
      "Download 98%.\n",
      "Download 100%.\n",
      "sample_zip_if_cca_cust_f.csv\n",
      "Download 16%.\n",
      "Download 32%.\n",
      "Download 49%.\n",
      "Download 65%.\n",
      "Download 82%.\n",
      "Download 98%.\n",
      "Download 100%.\n",
      "sample_zip_if_cca_y.csv\n",
      "Download 81%.\n",
      "Download 100%.\n",
      "sample_idx_map.npy\n",
      "Download 100%.\n"
     ]
    }
   ],
   "source": [
    "import io\n",
    "from googleapiclient.http import MediaIoBaseDownload\n",
    "DRIVE = discovery.build('drive', 'v3', http=creds.authorize(Http()))\n",
    "for file in files_not_downloaded:\n",
    "    print(file)\n",
    "    file_id = file_link_dict[file]\n",
    "    # if you get the shareable link, the link contains this id, replace the file_id below\n",
    "    # replace the filename and extension in the first field below\n",
    "    request = DRIVE.files().get_media(fileId=file_id)\n",
    "    fh = io.FileIO(file, mode='w')\n",
    "    downloader = MediaIoBaseDownload(fh, request)\n",
    "    done = False\n",
    "    while done is False:\n",
    "        status, done = downloader.next_chunk()\n",
    "        print(\"Download %d%%.\" % int(status.progress() * 100))\n",
    "    fh.close()"
   ]
  },
  {
   "cell_type": "code",
   "execution_count": null,
   "metadata": {},
   "outputs": [],
   "source": []
  }
 ],
 "metadata": {
  "kernelspec": {
   "display_name": "Python 3",
   "language": "python",
   "name": "python3"
  },
  "language_info": {
   "codemirror_mode": {
    "name": "ipython",
    "version": 3
   },
   "file_extension": ".py",
   "mimetype": "text/x-python",
   "name": "python",
   "nbconvert_exporter": "python",
   "pygments_lexer": "ipython3",
   "version": "3.7.9"
  }
 },
 "nbformat": 4,
 "nbformat_minor": 4
}
